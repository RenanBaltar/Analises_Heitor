{
 "cells": [
  {
   "cell_type": "markdown",
   "metadata": {},
   "source": [
    "# Importação do banco de dados"
   ]
  },
  {
   "cell_type": "code",
   "execution_count": 49,
   "metadata": {},
   "outputs": [
    {
     "name": "stderr",
     "output_type": "stream",
     "text": [
      "New names:\n",
      "* Anticoagulante_classificação -> Anticoagulante_classificação...21\n",
      "* Anticoagulante_classificação -> Anticoagulante_classificação...22\n",
      "* Fluencia_verbal_classificação -> Fluencia_verbal_classificação...41\n",
      "* Fluencia_verbal_classificação -> Fluencia_verbal_classificação...42\n",
      "\n"
     ]
    },
    {
     "data": {
      "text/html": [
       "<table class=\"dataframe\">\n",
       "<caption>A tibble: 6 × 71</caption>\n",
       "<thead>\n",
       "\t<tr><th scope=col>Caidor</th><th scope=col>Caidor_numero</th><th scope=col>Local</th><th scope=col>Tipo_de_queda</th><th scope=col>queda_acidental</th><th scope=col>queda_nao_acidental</th><th scope=col>Sequela_ultima_queda</th><th scope=col>Tipo_de_sequela_ultima_queda</th><th scope=col>sequela_por_queda</th><th scope=col>Genero</th><th scope=col>...</th><th scope=col>Flexibilidade_ms_classificação</th><th scope=col>Flexibilidade_MI</th><th scope=col>Flexibilidade_MI_classificação</th><th scope=col>TUG_sec</th><th scope=col>TUG_sec_classificação</th><th scope=col>DT_Sec</th><th scope=col>DT_numero_animais</th><th scope=col>quantidade_total_de_medicação</th><th scope=col>medicaçao_tipo_cardiovascular</th><th scope=col>medicaçao_tipo_cardiovascular_classificação</th></tr>\n",
       "\t<tr><th scope=col>&lt;chr&gt;</th><th scope=col>&lt;dbl&gt;</th><th scope=col>&lt;chr&gt;</th><th scope=col>&lt;chr&gt;</th><th scope=col>&lt;chr&gt;</th><th scope=col>&lt;chr&gt;</th><th scope=col>&lt;chr&gt;</th><th scope=col>&lt;chr&gt;</th><th scope=col>&lt;chr&gt;</th><th scope=col>&lt;chr&gt;</th><th scope=col>...</th><th scope=col>&lt;dbl&gt;</th><th scope=col>&lt;dbl&gt;</th><th scope=col>&lt;dbl&gt;</th><th scope=col>&lt;dbl&gt;</th><th scope=col>&lt;dbl&gt;</th><th scope=col>&lt;dbl&gt;</th><th scope=col>&lt;dbl&gt;</th><th scope=col>&lt;dbl&gt;</th><th scope=col>&lt;chr&gt;</th><th scope=col>&lt;dbl&gt;</th></tr>\n",
       "</thead>\n",
       "<tbody>\n",
       "\t<tr><td>Sim</td><td>1</td><td>loc</td><td>nao acidental</td><td>nao</td><td>sim</td><td>sim</td><td>edema</td><td>sim</td><td>mulher</td><td>...</td><td> 1</td><td>-33</td><td>1</td><td> 8.90</td><td>1</td><td> 9.1</td><td>10</td><td>8</td><td>Beta + Anti_Coag      </td><td>4</td></tr>\n",
       "\t<tr><td>não</td><td>0</td><td>loc</td><td>nao          </td><td>nao</td><td>nao</td><td>nao</td><td>nao  </td><td>sim</td><td>mulher</td><td>...</td><td> 0</td><td>  0</td><td>0</td><td> 7.11</td><td>1</td><td> 9.0</td><td> 8</td><td>8</td><td>Beta + Anti_HAS       </td><td>3</td></tr>\n",
       "\t<tr><td>não</td><td>0</td><td>loc</td><td>nao          </td><td>nao</td><td>nao</td><td>nao</td><td>nao  </td><td>sim</td><td>mulher</td><td>...</td><td> 0</td><td>-15</td><td>1</td><td> 7.42</td><td>1</td><td> 8.6</td><td> 7</td><td>6</td><td>Beta + Anti_Coag      </td><td>4</td></tr>\n",
       "\t<tr><td>Sim</td><td>1</td><td>loc</td><td>acidental    </td><td>sim</td><td>nao</td><td>nao</td><td>nao  </td><td>sim</td><td>mulher</td><td>...</td><td> 1</td><td> -4</td><td>0</td><td>10.52</td><td>0</td><td>11.9</td><td> 7</td><td>8</td><td>Beta + Anti_Coag + Diu</td><td>5</td></tr>\n",
       "\t<tr><td>não</td><td>0</td><td>loc</td><td>nao          </td><td>nao</td><td>nao</td><td>nao</td><td>nao  </td><td>sim</td><td>mulher</td><td>...</td><td>NA</td><td>-19</td><td>1</td><td> 9.31</td><td>1</td><td>13.2</td><td> 9</td><td>7</td><td>Beta + Anti_Coag + Diu</td><td>5</td></tr>\n",
       "\t<tr><td>não</td><td>0</td><td>loc</td><td>nao          </td><td>nao</td><td>nao</td><td>nao</td><td>nao  </td><td>nao</td><td>mulher</td><td>...</td><td>NA</td><td>  0</td><td>0</td><td> 7.17</td><td>0</td><td> 8.7</td><td> 6</td><td>4</td><td>Beta + Anti_HAS       </td><td>3</td></tr>\n",
       "</tbody>\n",
       "</table>\n"
      ],
      "text/latex": [
       "A tibble: 6 × 71\n",
       "\\begin{tabular}{lllllllllllllllllllll}\n",
       " Caidor & Caidor\\_numero & Local & Tipo\\_de\\_queda & queda\\_acidental & queda\\_nao\\_acidental & Sequela\\_ultima\\_queda & Tipo\\_de\\_sequela\\_ultima\\_queda & sequela\\_por\\_queda & Genero & ... & Flexibilidade\\_ms\\_classificação & Flexibilidade\\_MI & Flexibilidade\\_MI\\_classificação & TUG\\_sec & TUG\\_sec\\_classificação & DT\\_Sec & DT\\_numero\\_animais & quantidade\\_total\\_de\\_medicação & medicaçao\\_tipo\\_cardiovascular & medicaçao\\_tipo\\_cardiovascular\\_classificação\\\\\n",
       " <chr> & <dbl> & <chr> & <chr> & <chr> & <chr> & <chr> & <chr> & <chr> & <chr> & ... & <dbl> & <dbl> & <dbl> & <dbl> & <dbl> & <dbl> & <dbl> & <dbl> & <chr> & <dbl>\\\\\n",
       "\\hline\n",
       "\t Sim & 1 & loc & nao acidental & nao & sim & sim & edema & sim & mulher & ... &  1 & -33 & 1 &  8.90 & 1 &  9.1 & 10 & 8 & Beta + Anti\\_Coag       & 4\\\\\n",
       "\t não & 0 & loc & nao           & nao & nao & nao & nao   & sim & mulher & ... &  0 &   0 & 0 &  7.11 & 1 &  9.0 &  8 & 8 & Beta + Anti\\_HAS        & 3\\\\\n",
       "\t não & 0 & loc & nao           & nao & nao & nao & nao   & sim & mulher & ... &  0 & -15 & 1 &  7.42 & 1 &  8.6 &  7 & 6 & Beta + Anti\\_Coag       & 4\\\\\n",
       "\t Sim & 1 & loc & acidental     & sim & nao & nao & nao   & sim & mulher & ... &  1 &  -4 & 0 & 10.52 & 0 & 11.9 &  7 & 8 & Beta + Anti\\_Coag + Diu & 5\\\\\n",
       "\t não & 0 & loc & nao           & nao & nao & nao & nao   & sim & mulher & ... & NA & -19 & 1 &  9.31 & 1 & 13.2 &  9 & 7 & Beta + Anti\\_Coag + Diu & 5\\\\\n",
       "\t não & 0 & loc & nao           & nao & nao & nao & nao   & nao & mulher & ... & NA &   0 & 0 &  7.17 & 0 &  8.7 &  6 & 4 & Beta + Anti\\_HAS        & 3\\\\\n",
       "\\end{tabular}\n"
      ],
      "text/markdown": [
       "\n",
       "A tibble: 6 × 71\n",
       "\n",
       "| Caidor &lt;chr&gt; | Caidor_numero &lt;dbl&gt; | Local &lt;chr&gt; | Tipo_de_queda &lt;chr&gt; | queda_acidental &lt;chr&gt; | queda_nao_acidental &lt;chr&gt; | Sequela_ultima_queda &lt;chr&gt; | Tipo_de_sequela_ultima_queda &lt;chr&gt; | sequela_por_queda &lt;chr&gt; | Genero &lt;chr&gt; | ... ... | Flexibilidade_ms_classificação &lt;dbl&gt; | Flexibilidade_MI &lt;dbl&gt; | Flexibilidade_MI_classificação &lt;dbl&gt; | TUG_sec &lt;dbl&gt; | TUG_sec_classificação &lt;dbl&gt; | DT_Sec &lt;dbl&gt; | DT_numero_animais &lt;dbl&gt; | quantidade_total_de_medicação &lt;dbl&gt; | medicaçao_tipo_cardiovascular &lt;chr&gt; | medicaçao_tipo_cardiovascular_classificação &lt;dbl&gt; |\n",
       "|---|---|---|---|---|---|---|---|---|---|---|---|---|---|---|---|---|---|---|---|---|\n",
       "| Sim | 1 | loc | nao acidental | nao | sim | sim | edema | sim | mulher | ... |  1 | -33 | 1 |  8.90 | 1 |  9.1 | 10 | 8 | Beta + Anti_Coag       | 4 |\n",
       "| não | 0 | loc | nao           | nao | nao | nao | nao   | sim | mulher | ... |  0 |   0 | 0 |  7.11 | 1 |  9.0 |  8 | 8 | Beta + Anti_HAS        | 3 |\n",
       "| não | 0 | loc | nao           | nao | nao | nao | nao   | sim | mulher | ... |  0 | -15 | 1 |  7.42 | 1 |  8.6 |  7 | 6 | Beta + Anti_Coag       | 4 |\n",
       "| Sim | 1 | loc | acidental     | sim | nao | nao | nao   | sim | mulher | ... |  1 |  -4 | 0 | 10.52 | 0 | 11.9 |  7 | 8 | Beta + Anti_Coag + Diu | 5 |\n",
       "| não | 0 | loc | nao           | nao | nao | nao | nao   | sim | mulher | ... | NA | -19 | 1 |  9.31 | 1 | 13.2 |  9 | 7 | Beta + Anti_Coag + Diu | 5 |\n",
       "| não | 0 | loc | nao           | nao | nao | nao | nao   | nao | mulher | ... | NA |   0 | 0 |  7.17 | 0 |  8.7 |  6 | 4 | Beta + Anti_HAS        | 3 |\n",
       "\n"
      ],
      "text/plain": [
       "  Caidor Caidor_numero Local Tipo_de_queda queda_acidental queda_nao_acidental\n",
       "1 Sim    1             loc   nao acidental nao             sim                \n",
       "2 não    0             loc   nao           nao             nao                \n",
       "3 não    0             loc   nao           nao             nao                \n",
       "4 Sim    1             loc   acidental     sim             nao                \n",
       "5 não    0             loc   nao           nao             nao                \n",
       "6 não    0             loc   nao           nao             nao                \n",
       "  Sequela_ultima_queda Tipo_de_sequela_ultima_queda sequela_por_queda Genero\n",
       "1 sim                  edema                        sim               mulher\n",
       "2 nao                  nao                          sim               mulher\n",
       "3 nao                  nao                          sim               mulher\n",
       "4 nao                  nao                          sim               mulher\n",
       "5 nao                  nao                          sim               mulher\n",
       "6 nao                  nao                          nao               mulher\n",
       "  ... Flexibilidade_ms_classificação Flexibilidade_MI\n",
       "1 ...  1                             -33             \n",
       "2 ...  0                               0             \n",
       "3 ...  0                             -15             \n",
       "4 ...  1                              -4             \n",
       "5 ... NA                             -19             \n",
       "6 ... NA                               0             \n",
       "  Flexibilidade_MI_classificação TUG_sec TUG_sec_classificação DT_Sec\n",
       "1 1                               8.90   1                      9.1  \n",
       "2 0                               7.11   1                      9.0  \n",
       "3 1                               7.42   1                      8.6  \n",
       "4 0                              10.52   0                     11.9  \n",
       "5 1                               9.31   1                     13.2  \n",
       "6 0                               7.17   0                      8.7  \n",
       "  DT_numero_animais quantidade_total_de_medicação medicaçao_tipo_cardiovascular\n",
       "1 10                8                             Beta + Anti_Coag             \n",
       "2  8                8                             Beta + Anti_HAS              \n",
       "3  7                6                             Beta + Anti_Coag             \n",
       "4  7                8                             Beta + Anti_Coag + Diu       \n",
       "5  9                7                             Beta + Anti_Coag + Diu       \n",
       "6  6                4                             Beta + Anti_HAS              \n",
       "  medicaçao_tipo_cardiovascular_classificação\n",
       "1 4                                          \n",
       "2 3                                          \n",
       "3 4                                          \n",
       "4 5                                          \n",
       "5 5                                          \n",
       "6 3                                          "
      ]
     },
     "metadata": {},
     "output_type": "display_data"
    },
    {
     "data": {
      "text/html": [
       "<style>\n",
       ".list-inline {list-style: none; margin:0; padding: 0}\n",
       ".list-inline>li {display: inline-block}\n",
       ".list-inline>li:not(:last-child)::after {content: \"\\00b7\"; padding: 0 .5ex}\n",
       "</style>\n",
       "<ol class=list-inline><li>72</li><li>71</li></ol>\n"
      ],
      "text/latex": [
       "\\begin{enumerate*}\n",
       "\\item 72\n",
       "\\item 71\n",
       "\\end{enumerate*}\n"
      ],
      "text/markdown": [
       "1. 72\n",
       "2. 71\n",
       "\n",
       "\n"
      ],
      "text/plain": [
       "[1] 72 71"
      ]
     },
     "metadata": {},
     "output_type": "display_data"
    },
    {
     "name": "stdout",
     "output_type": "stream",
     "text": [
      "tibble [72 x 71] (S3: tbl_df/tbl/data.frame)\n",
      " $ Caidor                                     : chr [1:72] \"Sim\" \"não\" \"não\" \"Sim\" ...\n",
      " $ Caidor_numero                              : num [1:72] 1 0 0 1 0 0 1 0 0 1 ...\n",
      " $ Local                                      : chr [1:72] \"loc\" \"loc\" \"loc\" \"loc\" ...\n",
      " $ Tipo_de_queda                              : chr [1:72] \"nao acidental\" \"nao\" \"nao\" \"acidental\" ...\n",
      " $ queda_acidental                            : chr [1:72] \"nao\" \"nao\" \"nao\" \"sim\" ...\n",
      " $ queda_nao_acidental                        : chr [1:72] \"sim\" \"nao\" \"nao\" \"nao\" ...\n",
      " $ Sequela_ultima_queda                       : chr [1:72] \"sim\" \"nao\" \"nao\" \"nao\" ...\n",
      " $ Tipo_de_sequela_ultima_queda               : chr [1:72] \"edema\" \"nao\" \"nao\" \"nao\" ...\n",
      " $ sequela_por_queda                          : chr [1:72] \"sim\" \"sim\" \"sim\" \"sim\" ...\n",
      " $ Genero                                     : chr [1:72] \"mulher\" \"mulher\" \"mulher\" \"mulher\" ...\n",
      " $ Genero_classificação                       : num [1:72] 1 1 1 1 1 1 1 1 1 0 ...\n",
      " $ idade                                      : num [1:72] 76 73 75 83 83 78 83 82 78 75 ...\n",
      " $ Nivel_social                               : chr [1:72] \"b\" \"b\" \"c\" \"b\" ...\n",
      " $ etnia                                      : chr [1:72] \"branco\" \"branco\" \"branco\" \"branco\" ...\n",
      " $ Nivel_educacional                          : num [1:72] 16 16 12 10 10 12 20 8 14 16 ...\n",
      " $ Frequencia_atividade                       : chr [1:72] \"3x\" \"3x\" \"2x\" \"sedentario\" ...\n",
      " $ Criterio_AHA                               : chr [1:72] \"c\" \"b\" \"b\" \"c\" ...\n",
      " $ AHA_classificaçao                          : num [1:72] 1 0 0 1 1 0 1 0 0 1 ...\n",
      " $ Anti_hipertensivo                          : chr [1:72] \"nao\" \"sim\" \"sim\" \"sim\" ...\n",
      " $ betabloqueador                             : chr [1:72] \"sim\" \"sim\" \"sim\" \"sim\" ...\n",
      " $ Anticoagulante_classificação...21          : chr [1:72] \"nao\" \"nao\" \"nao\" \"sim\" ...\n",
      " $ Anticoagulante_classificação...22          : num [1:72] 0 0 0 1 0 0 1 1 0 1 ...\n",
      " $ Diuretico                                  : chr [1:72] \"nao\" \"nao\" \"nao\" \"sim\" ...\n",
      " $ Diuretico_classificação                    : num [1:72] 0 0 0 1 0 0 0 0 0 1 ...\n",
      " $ medicação_tipo_mental                      : chr [1:72] \"antidepressivo\" \"benzodiazepinico\" \"antidepressivo\" \"antidepressivo+benzo\" ...\n",
      " $ medicação_tipo_saude                       : chr [1:72] \"cardio+mental\" \"cardio+mental\" \"cardio+mental\" \"cardio+mental\" ...\n",
      " $ medicação_tipo_saude_classificação         : num [1:72] 1 1 1 1 1 1 1 0 1 1 ...\n",
      " $ nao_utiliza                                : chr [1:72] \"sim\" \"sim\" \"sim\" \"sim\" ...\n",
      " $ antidepressivo                             : chr [1:72] \"nao\" \"nao\" \"sim\" \"nao\" ...\n",
      " $ ansiolitico                                : chr [1:72] \"nao\" \"nao\" \"nao\" \"nao\" ...\n",
      " $ benzodiazepinico                           : chr [1:72] \"sim\" \"sim\" \"sim\" \"sim\" ...\n",
      " $ benzodiazepinico_classificação             : num [1:72] 1 1 1 1 1 1 1 0 0 1 ...\n",
      " $ DVC_primaria                               : chr [1:72] \"insuficiencia\" \"insuficiencia\" \"insuficiencia\" \"arritmia\" ...\n",
      " $ HAS                                        : chr [1:72] \"nao\" \"sim\" \"sim\" \"sim\" ...\n",
      " $ Tempo_doença                               : num [1:72] 6 3 6 4 10 20 5 9 3 25 ...\n",
      " $ Temp_doe_class_1_05                        : chr [1:72] \"sim\" \"nao\" \"sim\" \"nao\" ...\n",
      " $ Temp_doe_class_1_10                        : chr [1:72] \"nao\" \"nao\" \"nao\" \"nao\" ...\n",
      " $ Doenca_Respi                               : chr [1:72] \"sim\" NA \"nao\" \"nao\" ...\n",
      " $ MMSE                                       : num [1:72] 30 29 27 29 29 30 29 26 28 24 ...\n",
      " $ Fluencia_verbal                            : num [1:72] 27 22 15 20 18 30 19 18 20 14 ...\n",
      " $ Fluencia_verbal_classificação...41         : chr [1:72] \"dentro\" \"dentro\" \"dentro\" \"dentro\" ...\n",
      " $ Fluencia_verbal_classificação...42         : num [1:72] 0 0 0 0 0 0 0 0 0 0 ...\n",
      " $ Trilhas_A                                  : num [1:72] 33 26.8 71 29.2 43.2 86.1 35.3 44.2 44 43.5 ...\n",
      " $ Trilhas_A_classificaçaõ                    : num [1:72] 1 1 0 1 1 0 1 0 1 1 ...\n",
      " $ Trilhas_b                                  : num [1:72] 60.1 61 178 93.7 127.2 ...\n",
      " $ Trilhas_b_classificação                    : num [1:72] 1 1 0 1 1 0 1 1 1 1 ...\n",
      " $ GDS                                        : num [1:72] 3 0 15 5 2 0 0 0 0 14 ...\n",
      " $ GDS_classificação                          : num [1:72] 0 0 1 0 0 0 0 0 0 1 ...\n",
      " $ FES_I                                      : num [1:72] 26 19 19 16 16 16 22 16 19 24 ...\n",
      " $ Vsaq                                       : num [1:72] 5 5 7 5 5 8 7 5 8 5 ...\n",
      " $ Vsaq_classificação                         : num [1:72] 0 0 1 0 0 1 0 1 0 1 ...\n",
      " $ Vo2_maximo_avaliado                        : num [1:72] 17 23.4 11.3 12.7 14.1 13.5 18.4 13.4 18.6 12.1 ...\n",
      " $ IMC                                        : num [1:72] 27 28.5 32.8 29.3 26.2 27.2 22.2 26.9 19.7 24.8 ...\n",
      " $ IMC_classificação                          : num [1:72] 1 1 1 1 0 1 0 0 1 0 ...\n",
      " $ Dinamometria                               : num [1:72] 17.9 21 23.5 15.3 16.7 19.1 20.9 18.1 16 22.7 ...\n",
      " $ Dinamometria_classificação                 : num [1:72] 0 0 0 1 1 0 0 0 1 0 ...\n",
      " $ Berg                                       : num [1:72] 54 56 54 51 56 56 54 55 55 50 ...\n",
      " $ Berg_classificação                         : num [1:72] 0 0 0 0 0 0 0 0 0 0 ...\n",
      " $ STS                                        : num [1:72] 5 12 7 9 NA 12 6 8 12 8 ...\n",
      " $ STS_classificação                          : num [1:72] 1 0 1 0 NA 0 1 1 0 1 ...\n",
      " $ Flexibilidade_Ms                           : num [1:72] -29 0 -7 -22 NA NA -6 -8 7 -11 ...\n",
      " $ Flexibilidade_ms_classificação             : num [1:72] 1 0 0 1 NA NA 0 0 0 0 ...\n",
      " $ Flexibilidade_MI                           : num [1:72] -33 0 -15 -4 -19 0 -5 -2 8 -23 ...\n",
      " $ Flexibilidade_MI_classificação             : num [1:72] 1 0 1 0 1 0 0 0 0 1 ...\n",
      " $ TUG_sec                                    : num [1:72] 8.9 7.11 7.42 10.52 9.31 ...\n",
      " $ TUG_sec_classificação                      : num [1:72] 1 1 1 0 1 0 1 1 1 1 ...\n",
      " $ DT_Sec                                     : num [1:72] 9.1 9 8.6 11.9 13.2 8.7 9.2 8.7 6.7 8.7 ...\n",
      " $ DT_numero_animais                          : num [1:72] 10 8 7 7 9 6 8 7 5 5 ...\n",
      " $ quantidade_total_de_medicação              : num [1:72] 8 8 6 8 7 4 2 5 6 8 ...\n",
      " $ medicaçao_tipo_cardiovascular              : chr [1:72] \"Beta + Anti_Coag\" \"Beta + Anti_HAS\" \"Beta + Anti_Coag\" \"Beta + Anti_Coag + Diu\" ...\n",
      " $ medicaçao_tipo_cardiovascular_classificação: num [1:72] 4 3 4 5 5 3 2 2 2 5 ...\n"
     ]
    }
   ],
   "source": [
    "#install.packages(\"readxl\")\n",
    "require(readxl)\n",
    "bd<- read_excel(\"Analise heitor_02_10_21.xlsx\",sheet = 1)\n",
    "head(bd)\n",
    "dim(bd)\n",
    "#View(bd)\n",
    "str(bd)"
   ]
  },
  {
   "cell_type": "markdown",
   "metadata": {},
   "source": [
    "# Preparação do banco de dados"
   ]
  },
  {
   "cell_type": "code",
   "execution_count": 50,
   "metadata": {},
   "outputs": [
    {
     "data": {
      "text/html": [
       "<style>\n",
       ".list-inline {list-style: none; margin:0; padding: 0}\n",
       ".list-inline>li {display: inline-block}\n",
       ".list-inline>li:not(:last-child)::after {content: \"\\00b7\"; padding: 0 .5ex}\n",
       "</style>\n",
       "<ol class=list-inline><li>72</li><li>41</li></ol>\n"
      ],
      "text/latex": [
       "\\begin{enumerate*}\n",
       "\\item 72\n",
       "\\item 41\n",
       "\\end{enumerate*}\n"
      ],
      "text/markdown": [
       "1. 72\n",
       "2. 41\n",
       "\n",
       "\n"
      ],
      "text/plain": [
       "[1] 72 41"
      ]
     },
     "metadata": {},
     "output_type": "display_data"
    },
    {
     "name": "stdout",
     "output_type": "stream",
     "text": [
      "tibble [72 x 41] (S3: tbl_df/tbl/data.frame)\n",
      " $ Caidor                           : chr [1:72] \"Sim\" \"não\" \"não\" \"Sim\" ...\n",
      " $ Genero                           : chr [1:72] \"mulher\" \"mulher\" \"mulher\" \"mulher\" ...\n",
      " $ idade                            : num [1:72] 76 73 75 83 83 78 83 82 78 75 ...\n",
      " $ Nivel_social                     : chr [1:72] \"b\" \"b\" \"c\" \"b\" ...\n",
      " $ etnia                            : chr [1:72] \"branco\" \"branco\" \"branco\" \"branco\" ...\n",
      " $ Nivel_educacional                : num [1:72] 16 16 12 10 10 12 20 8 14 16 ...\n",
      " $ Frequencia_atividade             : chr [1:72] \"3x\" \"3x\" \"2x\" \"sedentario\" ...\n",
      " $ Criterio_AHA                     : chr [1:72] \"c\" \"b\" \"b\" \"c\" ...\n",
      " $ AHA_classificaçao                : num [1:72] 1 0 0 1 1 0 1 0 0 1 ...\n",
      " $ Anti_hipertensivo                : chr [1:72] \"nao\" \"sim\" \"sim\" \"sim\" ...\n",
      " $ betabloqueador                   : chr [1:72] \"sim\" \"sim\" \"sim\" \"sim\" ...\n",
      " $ Anticoagulante_classificação...21: chr [1:72] \"nao\" \"nao\" \"nao\" \"sim\" ...\n",
      " $ Diuretico                        : chr [1:72] \"nao\" \"nao\" \"nao\" \"sim\" ...\n",
      " $ medicação_tipo_mental            : chr [1:72] \"antidepressivo\" \"benzodiazepinico\" \"antidepressivo\" \"antidepressivo+benzo\" ...\n",
      " $ medicação_tipo_saude             : chr [1:72] \"cardio+mental\" \"cardio+mental\" \"cardio+mental\" \"cardio+mental\" ...\n",
      " $ antidepressivo                   : chr [1:72] \"nao\" \"nao\" \"sim\" \"nao\" ...\n",
      " $ ansiolitico                      : chr [1:72] \"nao\" \"nao\" \"nao\" \"nao\" ...\n",
      " $ benzodiazepinico                 : chr [1:72] \"sim\" \"sim\" \"sim\" \"sim\" ...\n",
      " $ DVC_primaria                     : chr [1:72] \"insuficiencia\" \"insuficiencia\" \"insuficiencia\" \"arritmia\" ...\n",
      " $ HAS                              : chr [1:72] \"nao\" \"sim\" \"sim\" \"sim\" ...\n",
      " $ Tempo_doença                     : num [1:72] 6 3 6 4 10 20 5 9 3 25 ...\n",
      " $ Doenca_Respi                     : chr [1:72] \"sim\" NA \"nao\" \"nao\" ...\n",
      " $ MMSE                             : num [1:72] 30 29 27 29 29 30 29 26 28 24 ...\n",
      " $ Fluencia_verbal                  : num [1:72] 27 22 15 20 18 30 19 18 20 14 ...\n",
      " $ Trilhas_A                        : num [1:72] 33 26.8 71 29.2 43.2 86.1 35.3 44.2 44 43.5 ...\n",
      " $ Trilhas_b                        : num [1:72] 60.1 61 178 93.7 127.2 ...\n",
      " $ GDS                              : num [1:72] 3 0 15 5 2 0 0 0 0 14 ...\n",
      " $ FES_I                            : num [1:72] 26 19 19 16 16 16 22 16 19 24 ...\n",
      " $ Vsaq                             : num [1:72] 5 5 7 5 5 8 7 5 8 5 ...\n",
      " $ Vo2_maximo_avaliado              : num [1:72] 17 23.4 11.3 12.7 14.1 13.5 18.4 13.4 18.6 12.1 ...\n",
      " $ IMC                              : num [1:72] 27 28.5 32.8 29.3 26.2 27.2 22.2 26.9 19.7 24.8 ...\n",
      " $ Dinamometria                     : num [1:72] 17.9 21 23.5 15.3 16.7 19.1 20.9 18.1 16 22.7 ...\n",
      " $ Berg                             : num [1:72] 54 56 54 51 56 56 54 55 55 50 ...\n",
      " $ STS                              : num [1:72] 5 12 7 9 NA 12 6 8 12 8 ...\n",
      " $ Flexibilidade_Ms                 : num [1:72] -29 0 -7 -22 NA NA -6 -8 7 -11 ...\n",
      " $ Flexibilidade_MI                 : num [1:72] -33 0 -15 -4 -19 0 -5 -2 8 -23 ...\n",
      " $ TUG_sec                          : num [1:72] 8.9 7.11 7.42 10.52 9.31 ...\n",
      " $ DT_Sec                           : num [1:72] 9.1 9 8.6 11.9 13.2 8.7 9.2 8.7 6.7 8.7 ...\n",
      " $ DT_numero_animais                : num [1:72] 10 8 7 7 9 6 8 7 5 5 ...\n",
      " $ quantidade_total_de_medicação    : num [1:72] 8 8 6 8 7 4 2 5 6 8 ...\n",
      " $ medicaçao_tipo_cardiovascular    : chr [1:72] \"Beta + Anti_Coag\" \"Beta + Anti_HAS\" \"Beta + Anti_Coag\" \"Beta + Anti_Coag + Diu\" ...\n",
      "tibble [72 x 41] (S3: tbl_df/tbl/data.frame)\n",
      " $ Caidor                           : Factor w/ 2 levels \"não\",\"Sim\": 2 1 1 2 1 1 2 1 1 2 ...\n",
      " $ Genero                           : Factor w/ 2 levels \"homem\",\"mulher\": 2 2 2 2 2 2 2 2 2 1 ...\n",
      " $ idade                            : num [1:72] 17 14 16 24 24 19 24 23 19 16 ...\n",
      " $ Nivel_social                     : Factor w/ 4 levels \"4\",\"a\",\"b\",\"c\": 3 3 4 3 2 2 3 3 4 3 ...\n",
      " $ etnia                            : Factor w/ 2 levels \"branco\",\"preto\": 1 1 1 1 1 1 2 1 1 1 ...\n",
      " $ Nivel_educacional                : Factor w/ 10 levels \"8\",\"10\",\"12\",..: 6 6 3 2 2 3 8 1 4 6 ...\n",
      " $ Frequencia_atividade             : Factor w/ 3 levels \"2x\",\"3x\",\"sedentario\": 2 2 1 3 2 1 2 1 1 1 ...\n",
      " $ Criterio_AHA                     : Factor w/ 2 levels \"b\",\"c\": 2 1 1 2 2 1 2 1 1 2 ...\n",
      " $ AHA_classificaçao                : Factor w/ 2 levels \"0\",\"1\": 2 1 1 2 2 1 2 1 1 2 ...\n",
      " $ Anti_hipertensivo                : Factor w/ 2 levels \"nao\",\"sim\": 1 2 2 2 2 2 1 1 1 2 ...\n",
      " $ betabloqueador                   : Factor w/ 2 levels \"nao\",\"sim\": 2 2 2 2 2 2 2 1 2 2 ...\n",
      " $ Anticoagulante_classificação...21: Factor w/ 3 levels \"nao\",\"não\",\"sim\": 1 1 1 3 2 1 3 3 1 3 ...\n",
      " $ Diuretico                        : Factor w/ 2 levels \"nao\",\"sim\": 1 1 1 2 1 1 1 1 1 2 ...\n",
      " $ medicação_tipo_mental            : Factor w/ 5 levels \"ansiolitico\",..: 2 4 2 3 4 1 3 5 2 3 ...\n",
      " $ medicação_tipo_saude             : Factor w/ 2 levels \"cardio+mental\",..: 1 1 1 1 1 1 1 2 1 1 ...\n",
      " $ antidepressivo                   : Factor w/ 2 levels \"nao\",\"sim\": 1 1 2 1 2 1 1 1 1 2 ...\n",
      " $ ansiolitico                      : Factor w/ 2 levels \"nao\",\"sim\": 1 1 1 1 1 1 1 1 1 2 ...\n",
      " $ benzodiazepinico                 : Factor w/ 2 levels \"nao\",\"sim\": 2 2 2 2 2 2 2 1 1 2 ...\n",
      " $ DVC_primaria                     : Factor w/ 7 levels \"aneurisma da aorta\",..: 5 5 5 3 1 3 3 3 3 4 ...\n",
      " $ HAS                              : Factor w/ 2 levels \"nao\",\"sim\": 1 2 2 2 2 2 1 1 1 2 ...\n",
      " $ Tempo_doença                     : num [1:72] 5 2 5 3 9 17 4 8 2 20 ...\n",
      " $ Doenca_Respi                     : Factor w/ 4 levels \"2\",\"3\",\"nao\",..: 4 NA 3 3 3 3 3 3 3 3 ...\n",
      " $ MMSE                             : num [1:72] 9 8 6 8 8 9 8 5 7 3 ...\n",
      " $ Fluencia_verbal                  : num [1:72] 17 12 5 10 8 20 9 8 10 4 ...\n",
      " $ Trilhas_A                        : num [1:72] 10 4 43 6 25 46 13 28 27 26 ...\n",
      " $ Trilhas_b                        : num [1:72] 11 12 43 29 37 45 30 34 27 40 ...\n",
      " $ GDS                              : num [1:72] 4 1 14 6 3 1 1 1 1 13 ...\n",
      " $ FES_I                            : num [1:72] 10 4 4 1 1 1 6 1 4 8 ...\n",
      " $ Vsaq                             : num [1:72] 3 3 5 3 3 6 5 3 6 3 ...\n",
      " $ Vo2_maximo_avaliado              : num [1:72] 20 38 3 5 10 8 25 7 26 4 ...\n",
      " $ IMC                              : num [1:72] 26 30 39 33 19 28 6 25 2 12 ...\n",
      " $ Dinamometria                     : num [1:72] 7 15 21 2 6 11 14 9 4 20 ...\n",
      " $ Berg                             : num [1:72] 11 13 11 9 13 13 11 12 12 8 ...\n",
      " $ STS                              : num [1:72] 2 9 4 6 NA 9 3 5 9 5 ...\n",
      " $ Flexibilidade_Ms                 : num [1:72] 5 26 21 10 NA NA 22 20 29 17 ...\n",
      " $ Flexibilidade_MI                 : num [1:72] 2 19 10 16 7 19 15 18 23 4 ...\n",
      " $ TUG_sec                          : num [1:72] 42 29 33 48 45 30 38 43 9 36 ...\n",
      " $ DT_Sec                           : num [1:72] 26 25 22 32 35 23 27 23 8 23 ...\n",
      " $ DT_numero_animais                : num [1:72] 8 6 5 5 7 4 6 5 3 3 ...\n",
      " $ quantidade_total_de_medicação    : num [1:72] 7 7 5 7 6 3 1 4 5 7 ...\n",
      " $ medicaçao_tipo_cardiovascular    : Factor w/ 5 levels \"Anti + HAS\",\"Beta\",..: 3 5 3 4 4 5 2 2 2 4 ...\n"
     ]
    }
   ],
   "source": [
    "#Remover as variáveis referentes à queda (multicolinearidade) e as duplicadas (classificação das variáveis que possuem valor absoluto)\n",
    "bd<- bd[,c(-2,-3,-4,-5,-6,-7,-8,-9,-11,-22,-24,-27,-28,-32,-36,-37,-41,-42,-44,-46,-48,-51,-54,-56,-58,-60,-62,-64,-66,-71)] \n",
    "dim(bd)\n",
    "str(bd)\n",
    "#bd = as.data.frame(unclass(bd), stringsAsFactors = TRUE) Transforma tudo que for string em fator\n",
    "#bd[, categorical_columns] <- lapply(bd[, categorical_columns], as.factor) Transforma as colunas especificadas em fator\n",
    "bd[] <- lapply(bd, as.factor) #Transforma todo o banco de dados em fator\n",
    "bd[,c(\"idade\",\"Tempo_doença\",\"MMSE\",\"Fluencia_verbal\",\"Trilhas_A\",\"Trilhas_b\",\"GDS\",\"FES_I\",\"Vsaq\",\"Vo2_maximo_avaliado\",\"IMC\",\"Berg\",\"STS\",\"Flexibilidade_Ms\",\"Flexibilidade_MI\",'TUG_sec',\"DT_Sec\",\"DT_numero_animais\",\"quantidade_total_de_medicação\",\"Dinamometria\")] <- lapply(bd[,c(\"idade\",\"Tempo_doença\",\"MMSE\",\"Fluencia_verbal\",\"Trilhas_A\",\"Trilhas_b\",\"GDS\",\"FES_I\",\"Vsaq\",\"Vo2_maximo_avaliado\",\"IMC\",\"Berg\",\"STS\",\"Flexibilidade_Ms\",\"Flexibilidade_MI\",'TUG_sec',\"DT_Sec\",\"DT_numero_animais\",\"quantidade_total_de_medicação\",\"Dinamometria\")], as.numeric) \n",
    "str(bd)"
   ]
  },
  {
   "cell_type": "code",
   "execution_count": 51,
   "metadata": {},
   "outputs": [
    {
     "data": {
      "text/plain": [
       "\n",
       "não Sim \n",
       " 48  24 "
      ]
     },
     "metadata": {},
     "output_type": "display_data"
    },
    {
     "data": {
      "text/html": [
       "<style>\n",
       ".list-inline {list-style: none; margin:0; padding: 0}\n",
       ".list-inline>li {display: inline-block}\n",
       ".list-inline>li:not(:last-child)::after {content: \"\\00b7\"; padding: 0 .5ex}\n",
       "</style>\n",
       "<ol class=list-inline><li>52</li><li>41</li></ol>\n"
      ],
      "text/latex": [
       "\\begin{enumerate*}\n",
       "\\item 52\n",
       "\\item 41\n",
       "\\end{enumerate*}\n"
      ],
      "text/markdown": [
       "1. 52\n",
       "2. 41\n",
       "\n",
       "\n"
      ],
      "text/plain": [
       "[1] 52 41"
      ]
     },
     "metadata": {},
     "output_type": "display_data"
    },
    {
     "data": {
      "text/plain": [
       "\n",
       "não Sim \n",
       " 33  19 "
      ]
     },
     "metadata": {},
     "output_type": "display_data"
    }
   ],
   "source": [
    "table(bd$Caidor) #(48 não e 24 sim)\n",
    "bd2<- na.omit(bd) \n",
    "dim(bd2) #52 idosos após remoção dos Nas\n",
    "table(bd2$Caidor) #(33 não e 19 sim)"
   ]
  },
  {
   "cell_type": "markdown",
   "metadata": {},
   "source": [
    "# Divisão do banco de dados (treino e teste)"
   ]
  },
  {
   "cell_type": "code",
   "execution_count": 52,
   "metadata": {},
   "outputs": [
    {
     "data": {
      "text/plain": [
       "\n",
       "não Sim \n",
       " 24  14 "
      ]
     },
     "metadata": {},
     "output_type": "display_data"
    },
    {
     "data": {
      "text/plain": [
       "\n",
       "não Sim \n",
       "  9   5 "
      ]
     },
     "metadata": {},
     "output_type": "display_data"
    },
    {
     "name": "stdout",
     "output_type": "stream",
     "text": [
      " Factor w/ 2 levels \"não\",\"Sim\": 2 1 2 1 2 1 1 2 1 2 ...\n",
      " Factor w/ 2 levels \"não\",\"Sim\": 2 1 1 1 1 1 2 2 2 1 ...\n"
     ]
    }
   ],
   "source": [
    "#install.packages(\"caret\")\n",
    "require(caret)\n",
    "set.seed(111)\n",
    "train<- createDataPartition(bd2$Caidor,p=0.7,list=F)\n",
    "data_train<- bd2[train,]\n",
    "data_test<- bd2[-train,]\n",
    "table(data_train$Caidor) #(24 não e 14 sim) \n",
    "table(data_test$Caidor) #(9 não e 5 sim)\n",
    "str(data_train$Caidor)\n",
    "str(data_test$Caidor)"
   ]
  },
  {
   "cell_type": "markdown",
   "metadata": {},
   "source": [
    "# RFE-RF"
   ]
  },
  {
   "cell_type": "code",
   "execution_count": 55,
   "metadata": {},
   "outputs": [
    {
     "name": "stdout",
     "output_type": "stream",
     "text": [
      "\n",
      "Recursive feature selection\n",
      "\n",
      "Outer resampling method: Cross-Validated (5 fold) \n",
      "\n",
      "Resampling performance over subset size:\n",
      "\n",
      " Variables Accuracy  Kappa AccuracySD KappaSD Selected\n",
      "         2   0.6357 0.2118    0.15288  0.3821         \n",
      "         3   0.6893 0.2796    0.20384  0.4900         \n",
      "         4   0.7143 0.3567    0.15821  0.4014         \n",
      "         5   0.7679 0.4607    0.20124  0.4951        *\n",
      "         6   0.7429 0.4035    0.17063  0.4294         \n",
      "         7   0.7429 0.4035    0.17063  0.4294         \n",
      "         8   0.7429 0.4035    0.17063  0.4294         \n",
      "         9   0.7179 0.3376    0.15485  0.3936         \n",
      "        10   0.7429 0.4035    0.17063  0.4294         \n",
      "        11   0.7429 0.4035    0.17063  0.4294         \n",
      "        12   0.7179 0.3376    0.15485  0.3936         \n",
      "        13   0.7179 0.3376    0.15485  0.3936         \n",
      "        14   0.7179 0.3376    0.15485  0.3936         \n",
      "        15   0.7179 0.3376    0.15485  0.3936         \n",
      "        16   0.7179 0.3376    0.15485  0.3936         \n",
      "        17   0.7179 0.3376    0.15485  0.3936         \n",
      "        18   0.7429 0.4123    0.11614  0.2768         \n",
      "        19   0.7143 0.3371    0.15821  0.3974         \n",
      "        20   0.7179 0.3376    0.15485  0.3936         \n",
      "        21   0.6893 0.2712    0.13458  0.3428         \n",
      "        22   0.7429 0.4035    0.17063  0.4294         \n",
      "        23   0.6893 0.2712    0.13458  0.3428         \n",
      "        24   0.6893 0.2712    0.13458  0.3428         \n",
      "        25   0.7393 0.4119    0.12151  0.2824         \n",
      "        26   0.7429 0.4123    0.11614  0.2768         \n",
      "        27   0.7143 0.3459    0.09699  0.2273         \n",
      "        28   0.7393 0.4119    0.12151  0.2824         \n",
      "        29   0.7393 0.4119    0.12151  0.2824         \n",
      "        30   0.7429 0.4123    0.11614  0.2768         \n",
      "        31   0.7393 0.4119    0.12151  0.2824         \n",
      "        32   0.7393 0.4119    0.12151  0.2824         \n",
      "        33   0.7143 0.3371    0.15821  0.3974         \n",
      "        34   0.7393 0.4119    0.12151  0.2824         \n",
      "        35   0.7393 0.4119    0.12151  0.2824         \n",
      "        36   0.7393 0.4119    0.12151  0.2824         \n",
      "        37   0.6893 0.2712    0.13458  0.3428         \n",
      "        38   0.7393 0.4119    0.12151  0.2824         \n",
      "        39   0.7393 0.4119    0.12151  0.2824         \n",
      "        40   0.6893 0.2712    0.13458  0.3428         \n",
      "\n",
      "The top 5 variables (out of 5):\n",
      "   DT_Sec, Berg, Vo2_maximo_avaliado, STS, FES_I\n",
      "\n"
     ]
    },
    {
     "data": {
      "text/html": [
       "<style>\n",
       ".list-inline {list-style: none; margin:0; padding: 0}\n",
       ".list-inline>li {display: inline-block}\n",
       ".list-inline>li:not(:last-child)::after {content: \"\\00b7\"; padding: 0 .5ex}\n",
       "</style>\n",
       "<ol class=list-inline><li>'DT_Sec'</li><li>'Berg'</li><li>'Vo2_maximo_avaliado'</li><li>'STS'</li><li>'FES_I'</li></ol>\n"
      ],
      "text/latex": [
       "\\begin{enumerate*}\n",
       "\\item 'DT\\_Sec'\n",
       "\\item 'Berg'\n",
       "\\item 'Vo2\\_maximo\\_avaliado'\n",
       "\\item 'STS'\n",
       "\\item 'FES\\_I'\n",
       "\\end{enumerate*}\n"
      ],
      "text/markdown": [
       "1. 'DT_Sec'\n",
       "2. 'Berg'\n",
       "3. 'Vo2_maximo_avaliado'\n",
       "4. 'STS'\n",
       "5. 'FES_I'\n",
       "\n",
       "\n"
      ],
      "text/plain": [
       "[1] \"DT_Sec\"              \"Berg\"                \"Vo2_maximo_avaliado\"\n",
       "[4] \"STS\"                 \"FES_I\"              "
      ]
     },
     "metadata": {},
     "output_type": "display_data"
    },
    {
     "data": {
      "image/png": "[encoded data removed]",
      "text/plain": [
       "plot without title"
      ]
     },
     "metadata": {
      "image/png": {
       "height": 420,
       "width": 420
      }
     },
     "output_type": "display_data"
    }
   ],
   "source": [
    "#define the control using a random forest selection function\n",
    "#install.packages(\"e1071\")\n",
    "require(e1071)\n",
    "#install.packages(\"randomForest\")\n",
    "require(randomForest)\n",
    "set.seed(1)\n",
    "control <- rfeControl(functions=rfFuncs, method=\"cv\", number=5)\n",
    "set.seed(2)\n",
    "results <- rfe(data_train[,2:41], data_train[[1]], sizes=c(2:41), \n",
    "         rfeControl=control,metric=ifelse(is.factor(data_train$Caidor),\"Kappa\",\"RMSE\")) #Não permite NA nos preditores\n",
    "print(results) #5 variáveis + caidor \n",
    "#list the chosen features\n",
    "predictors(results) #(DT_Sec, Berg, Vo2_maximo_avaliado, STS e FES_I)\n",
    "#plot the results\n",
    "plot(results, type=c(\"g\", \"o\"),main=\"RFE using Random Forest\")"
   ]
  },
  {
   "cell_type": "markdown",
   "metadata": {},
   "source": [
    "# Random Forest a partir do subset definido pelo RFE-RF"
   ]
  },
  {
   "cell_type": "code",
   "execution_count": 57,
   "metadata": {},
   "outputs": [
    {
     "data": {
      "text/html": [
       "<table class=\"dataframe\">\n",
       "<caption>A tibble: 6 × 6</caption>\n",
       "<thead>\n",
       "\t<tr><th scope=col>Caidor</th><th scope=col>DT_Sec</th><th scope=col>Berg</th><th scope=col>Vo2_maximo_avaliado</th><th scope=col>STS</th><th scope=col>FES_I</th></tr>\n",
       "\t<tr><th scope=col>&lt;fct&gt;</th><th scope=col>&lt;dbl&gt;</th><th scope=col>&lt;dbl&gt;</th><th scope=col>&lt;dbl&gt;</th><th scope=col>&lt;dbl&gt;</th><th scope=col>&lt;dbl&gt;</th></tr>\n",
       "</thead>\n",
       "<tbody>\n",
       "\t<tr><td>Sim</td><td>26</td><td>11</td><td>20</td><td>2</td><td>10</td></tr>\n",
       "\t<tr><td>não</td><td>22</td><td>11</td><td> 3</td><td>4</td><td> 4</td></tr>\n",
       "\t<tr><td>Sim</td><td>27</td><td>11</td><td>25</td><td>3</td><td> 6</td></tr>\n",
       "\t<tr><td>não</td><td> 8</td><td>12</td><td>26</td><td>9</td><td> 4</td></tr>\n",
       "\t<tr><td>Sim</td><td>23</td><td> 8</td><td> 4</td><td>5</td><td> 8</td></tr>\n",
       "\t<tr><td>não</td><td>16</td><td> 7</td><td> 2</td><td>7</td><td>13</td></tr>\n",
       "</tbody>\n",
       "</table>\n"
      ],
      "text/latex": [
       "A tibble: 6 × 6\n",
       "\\begin{tabular}{llllll}\n",
       " Caidor & DT\\_Sec & Berg & Vo2\\_maximo\\_avaliado & STS & FES\\_I\\\\\n",
       " <fct> & <dbl> & <dbl> & <dbl> & <dbl> & <dbl>\\\\\n",
       "\\hline\n",
       "\t Sim & 26 & 11 & 20 & 2 & 10\\\\\n",
       "\t não & 22 & 11 &  3 & 4 &  4\\\\\n",
       "\t Sim & 27 & 11 & 25 & 3 &  6\\\\\n",
       "\t não &  8 & 12 & 26 & 9 &  4\\\\\n",
       "\t Sim & 23 &  8 &  4 & 5 &  8\\\\\n",
       "\t não & 16 &  7 &  2 & 7 & 13\\\\\n",
       "\\end{tabular}\n"
      ],
      "text/markdown": [
       "\n",
       "A tibble: 6 × 6\n",
       "\n",
       "| Caidor &lt;fct&gt; | DT_Sec &lt;dbl&gt; | Berg &lt;dbl&gt; | Vo2_maximo_avaliado &lt;dbl&gt; | STS &lt;dbl&gt; | FES_I &lt;dbl&gt; |\n",
       "|---|---|---|---|---|---|\n",
       "| Sim | 26 | 11 | 20 | 2 | 10 |\n",
       "| não | 22 | 11 |  3 | 4 |  4 |\n",
       "| Sim | 27 | 11 | 25 | 3 |  6 |\n",
       "| não |  8 | 12 | 26 | 9 |  4 |\n",
       "| Sim | 23 |  8 |  4 | 5 |  8 |\n",
       "| não | 16 |  7 |  2 | 7 | 13 |\n",
       "\n"
      ],
      "text/plain": [
       "  Caidor DT_Sec Berg Vo2_maximo_avaliado STS FES_I\n",
       "1 Sim    26     11   20                  2   10   \n",
       "2 não    22     11    3                  4    4   \n",
       "3 Sim    27     11   25                  3    6   \n",
       "4 não     8     12   26                  9    4   \n",
       "5 Sim    23      8    4                  5    8   \n",
       "6 não    16      7    2                  7   13   "
      ]
     },
     "metadata": {},
     "output_type": "display_data"
    },
    {
     "data": {
      "text/plain": [
       "Random Forest \n",
       "\n",
       "38 samples\n",
       " 5 predictor\n",
       " 2 classes: 'não', 'Sim' \n",
       "\n",
       "No pre-processing\n",
       "Resampling: Cross-Validated (5 fold) \n",
       "Summary of sample sizes: 30, 30, 31, 30, 31 \n",
       "Resampling results across tuning parameters:\n",
       "\n",
       "  mtry  Accuracy   Kappa    \n",
       "  2     0.8142857  0.5933333\n",
       "  3     0.8142857  0.5933333\n",
       "  5     0.8142857  0.5933333\n",
       "\n",
       "Kappa was used to select the optimal model using the largest value.\n",
       "The final value used for the model was mtry = 2."
      ]
     },
     "metadata": {},
     "output_type": "display_data"
    },
    {
     "data": {
      "text/plain": [
       "\n",
       "Call:\n",
       " randomForest(x = x, y = y, mtry = min(param$mtry, ncol(x))) \n",
       "               Type of random forest: classification\n",
       "                     Number of trees: 500\n",
       "No. of variables tried at each split: 2\n",
       "\n",
       "        OOB estimate of  error rate: 18.42%\n",
       "Confusion matrix:\n",
       "    não Sim class.error\n",
       "não  21   3   0.1250000\n",
       "Sim   4  10   0.2857143"
      ]
     },
     "metadata": {},
     "output_type": "display_data"
    },
    {
     "data": {
      "text/plain": [
       "Confusion Matrix and Statistics\n",
       "\n",
       "     RF_prediction\n",
       "      não Sim\n",
       "  não   7   2\n",
       "  Sim   4   1\n",
       "                                          \n",
       "               Accuracy : 0.5714          \n",
       "                 95% CI : (0.2886, 0.8234)\n",
       "    No Information Rate : 0.7857          \n",
       "    P-Value [Acc > NIR] : 0.9830          \n",
       "                                          \n",
       "                  Kappa : -0.0244         \n",
       "                                          \n",
       " Mcnemar's Test P-Value : 0.6831          \n",
       "                                          \n",
       "            Sensitivity : 0.6364          \n",
       "            Specificity : 0.3333          \n",
       "         Pos Pred Value : 0.7778          \n",
       "         Neg Pred Value : 0.2000          \n",
       "             Prevalence : 0.7857          \n",
       "         Detection Rate : 0.5000          \n",
       "   Detection Prevalence : 0.6429          \n",
       "      Balanced Accuracy : 0.4848          \n",
       "                                          \n",
       "       'Positive' Class : não             \n",
       "                                          "
      ]
     },
     "metadata": {},
     "output_type": "display_data"
    },
    {
     "data": {
      "text/html": [
       "<style>\n",
       ".dl-inline {width: auto; margin:0; padding: 0}\n",
       ".dl-inline>dt, .dl-inline>dd {float: none; width: auto; display: inline-block}\n",
       ".dl-inline>dt::after {content: \":\\0020\"; padding-right: .5ex}\n",
       ".dl-inline>dt:not(:first-of-type) {padding-left: .5ex}\n",
       "</style><dl class=dl-inline><dt>Sensitivity</dt><dd>0.636363636363636</dd><dt>Specificity</dt><dd>0.333333333333333</dd><dt>Pos Pred Value</dt><dd>0.777777777777778</dd><dt>Neg Pred Value</dt><dd>0.2</dd><dt>Precision</dt><dd>0.777777777777778</dd><dt>Recall</dt><dd>0.636363636363636</dd><dt>F1</dt><dd>0.7</dd><dt>Prevalence</dt><dd>0.785714285714286</dd><dt>Detection Rate</dt><dd>0.5</dd><dt>Detection Prevalence</dt><dd>0.642857142857143</dd><dt>Balanced Accuracy</dt><dd>0.484848484848485</dd></dl>\n"
      ],
      "text/latex": [
       "\\begin{description*}\n",
       "\\item[Sensitivity] 0.636363636363636\n",
       "\\item[Specificity] 0.333333333333333\n",
       "\\item[Pos Pred Value] 0.777777777777778\n",
       "\\item[Neg Pred Value] 0.2\n",
       "\\item[Precision] 0.777777777777778\n",
       "\\item[Recall] 0.636363636363636\n",
       "\\item[F1] 0.7\n",
       "\\item[Prevalence] 0.785714285714286\n",
       "\\item[Detection Rate] 0.5\n",
       "\\item[Detection Prevalence] 0.642857142857143\n",
       "\\item[Balanced Accuracy] 0.484848484848485\n",
       "\\end{description*}\n"
      ],
      "text/markdown": [
       "Sensitivity\n",
       ":   0.636363636363636Specificity\n",
       ":   0.333333333333333Pos Pred Value\n",
       ":   0.777777777777778Neg Pred Value\n",
       ":   0.2Precision\n",
       ":   0.777777777777778Recall\n",
       ":   0.636363636363636F1\n",
       ":   0.7Prevalence\n",
       ":   0.785714285714286Detection Rate\n",
       ":   0.5Detection Prevalence\n",
       ":   0.642857142857143Balanced Accuracy\n",
       ":   0.484848484848485\n",
       "\n"
      ],
      "text/plain": [
       "         Sensitivity          Specificity       Pos Pred Value \n",
       "           0.6363636            0.3333333            0.7777778 \n",
       "      Neg Pred Value            Precision               Recall \n",
       "           0.2000000            0.7777778            0.6363636 \n",
       "                  F1           Prevalence       Detection Rate \n",
       "           0.7000000            0.7857143            0.5000000 \n",
       "Detection Prevalence    Balanced Accuracy \n",
       "           0.6428571            0.4848485 "
      ]
     },
     "metadata": {},
     "output_type": "display_data"
    },
    {
     "data": {
      "text/plain": [
       "rf variable importance\n",
       "\n",
       "                    Overall\n",
       "DT_Sec              100.000\n",
       "Vo2_maximo_avaliado  96.771\n",
       "Berg                 32.122\n",
       "FES_I                 9.676\n",
       "STS                   0.000"
      ]
     },
     "metadata": {},
     "output_type": "display_data"
    },
    {
     "data": {
      "image/png": "[encoded data removed]",
      "text/plain": [
       "plot without title"
      ]
     },
     "metadata": {
      "image/png": {
       "height": 420,
       "width": 420
      }
     },
     "output_type": "display_data"
    },
    {
     "data": {
      "image/png": "[encoded data removed]",
      "text/plain": [
       "plot without title"
      ]
     },
     "metadata": {
      "image/png": {
       "height": 420,
       "width": 420
      }
     },
     "output_type": "display_data"
    }
   ],
   "source": [
    "data_train_rfe<- data_train[,c(\"Caidor\",\"DT_Sec\",\n",
    "                               \"Berg\",\"Vo2_maximo_avaliado\",\"STS\",\"FES_I\")]\n",
    "data_test_rfe<- data_test[,c(\"Caidor\",\"DT_Sec\",\n",
    "                             \"Berg\",\"Vo2_maximo_avaliado\",\"STS\",\"FES_I\")]\n",
    "head(data_train_rfe)\n",
    "set.seed(4)\n",
    "RF_model1=train(Caidor~.,data=data_train_rfe,method='rf',metric=ifelse(is.factor(data_train_rfe$Caidor),\"Kappa\",\"RMSE\"),trControl=trainControl(method='cv',number=5,savePredictions=TRUE))\n",
    "RF_model1 #Acurácia= 81.42% e kappa= 59.33%\n",
    "plot(RF_model1)\n",
    "#RF_model1$pred\n",
    "#mtry2<- subset(RF_model1$pred,RF_model1$pred[4]==2)\n",
    "#mtry2\n",
    "RF_model1$finalModel #Acurácia= 81.58%\n",
    "RF_prediction<- predict(RF_model1,data_test_rfe)\n",
    "confusionMatrix(table(data_test_rfe$Caidor,RF_prediction)) #Acurácia e Kappa (92,86 e 83,72%) \n",
    "confusionMatrix(table(data_test_rfe$Caidor,RF_prediction))$byClass #Recall e F1 CCL(0.9 e 0.9473) \n",
    "varImp(RF_model1)\n",
    "plot(varImp(RF_model1),main=\"Variables Importance - Random Forest\")"
   ]
  },
  {
   "cell_type": "markdown",
   "metadata": {},
   "source": [
    "# RFE-DT"
   ]
  },
  {
   "cell_type": "code",
   "execution_count": 58,
   "metadata": {},
   "outputs": [
    {
     "name": "stderr",
     "output_type": "stream",
     "text": [
      "Your code contains a unicode char which cannot be displayed in your\n",
      "current locale and R will silently convert it to an escaped form when the\n",
      "R kernel executes this code. This can lead to subtle errors if you use\n",
      "such chars to do comparisons. For more information, please see\n",
      "https://github.com/IRkernel/repr/wiki/Problems-with-unicode-on-windows"
     ]
    },
    {
     "name": "stdout",
     "output_type": "stream",
     "text": [
      "\n",
      "Recursive feature selection\n",
      "\n",
      "Outer resampling method: Cross-Validated (5 fold) \n",
      "\n",
      "Resampling performance over subset size:\n",
      "\n",
      " Variables Accuracy   Kappa AccuracySD KappaSD Selected\n",
      "         2   0.5821 0.08374    0.12665  0.1543         \n",
      "         3   0.6071 0.14850    0.14779  0.2331         \n",
      "         4   0.6607 0.24843    0.10102  0.2099         \n",
      "         5   0.6536 0.19212    0.13576  0.3223         \n",
      "         6   0.7036 0.31857    0.16541  0.3650         \n",
      "         7   0.7036 0.31857    0.16541  0.3650         \n",
      "         8   0.7321 0.39050    0.10862  0.2297         \n",
      "         9   0.7036 0.31857    0.16541  0.3650         \n",
      "        10   0.7321 0.39050    0.10862  0.2297         \n",
      "        11   0.7071 0.32574    0.11750  0.2478         \n",
      "        12   0.7357 0.39168    0.09053  0.2092         \n",
      "        13   0.7857 0.50597    0.08280  0.1949        *\n",
      "        14   0.7857 0.50597    0.08280  0.1949         \n",
      "        15   0.7321 0.39050    0.10862  0.2297         \n",
      "        16   0.7321 0.39050    0.10862  0.2297         \n",
      "        17   0.7071 0.32574    0.11750  0.2478         \n",
      "        18   0.7321 0.39050    0.10862  0.2297         \n",
      "        19   0.7357 0.39168    0.09053  0.2092         \n",
      "        20   0.7321 0.39050    0.10862  0.2297         \n",
      "        21   0.7071 0.32574    0.11750  0.2478         \n",
      "        22   0.7071 0.32574    0.11750  0.2478         \n",
      "        23   0.7071 0.32574    0.11750  0.2478         \n",
      "        24   0.7071 0.32574    0.11750  0.2478         \n",
      "        25   0.7071 0.32574    0.11750  0.2478         \n",
      "        26   0.7071 0.32574    0.11750  0.2478         \n",
      "        27   0.7071 0.32574    0.11750  0.2478         \n",
      "        28   0.7071 0.32574    0.11750  0.2478         \n",
      "        29   0.7071 0.32574    0.11750  0.2478         \n",
      "        30   0.7071 0.32574    0.11750  0.2478         \n",
      "        31   0.7071 0.32574    0.11750  0.2478         \n",
      "        32   0.7321 0.37409    0.10862  0.2258         \n",
      "        33   0.7071 0.32574    0.11750  0.2478         \n",
      "        34   0.7071 0.32574    0.11750  0.2478         \n",
      "        35   0.7071 0.32574    0.11750  0.2478         \n",
      "        36   0.7071 0.32574    0.11750  0.2478         \n",
      "        37   0.7321 0.37409    0.10862  0.2258         \n",
      "        38   0.7071 0.32574    0.11750  0.2478         \n",
      "        39   0.7071 0.32574    0.11750  0.2478         \n",
      "        40   0.7071 0.32574    0.11750  0.2478         \n",
      "\n",
      "The top 5 variables (out of 13):\n",
      "   Vo2_maximo_avaliado, Berg, Anticoagulante_classificação...21, STS, DT_Sec\n",
      "\n"
     ]
    },
    {
     "data": {
      "text/html": [
       "<style>\n",
       ".list-inline {list-style: none; margin:0; padding: 0}\n",
       ".list-inline>li {display: inline-block}\n",
       ".list-inline>li:not(:last-child)::after {content: \"\\00b7\"; padding: 0 .5ex}\n",
       "</style>\n",
       "<ol class=list-inline><li>'Vo2_maximo_avaliado'</li><li>'Berg'</li><li>'Anticoagulante_classificação...21'</li><li>'STS'</li><li>'DT_Sec'</li><li>'FES_I'</li><li>'Trilhas_b'</li><li>'medicaçao_tipo_cardiovascular'</li><li>'quantidade_total_de_medicação'</li><li>'Fluencia_verbal'</li><li>'Tempo_doença'</li><li>'TUG_sec'</li><li>'Criterio_AHA'</li></ol>\n"
      ],
      "text/latex": [
       "\\begin{enumerate*}\n",
       "\\item 'Vo2\\_maximo\\_avaliado'\n",
       "\\item 'Berg'\n",
       "\\item 'Anticoagulante\\_classificação...21'\n",
       "\\item 'STS'\n",
       "\\item 'DT\\_Sec'\n",
       "\\item 'FES\\_I'\n",
       "\\item 'Trilhas\\_b'\n",
       "\\item 'medicaçao\\_tipo\\_cardiovascular'\n",
       "\\item 'quantidade\\_total\\_de\\_medicação'\n",
       "\\item 'Fluencia\\_verbal'\n",
       "\\item 'Tempo\\_doença'\n",
       "\\item 'TUG\\_sec'\n",
       "\\item 'Criterio\\_AHA'\n",
       "\\end{enumerate*}\n"
      ],
      "text/markdown": [
       "1. 'Vo2_maximo_avaliado'\n",
       "2. 'Berg'\n",
       "3. 'Anticoagulante_classificação...21'\n",
       "4. 'STS'\n",
       "5. 'DT_Sec'\n",
       "6. 'FES_I'\n",
       "7. 'Trilhas_b'\n",
       "8. 'medicaçao_tipo_cardiovascular'\n",
       "9. 'quantidade_total_de_medicação'\n",
       "10. 'Fluencia_verbal'\n",
       "11. 'Tempo_doença'\n",
       "12. 'TUG_sec'\n",
       "13. 'Criterio_AHA'\n",
       "\n",
       "\n"
      ],
      "text/plain": [
       " [1] \"Vo2_maximo_avaliado\"               \"Berg\"                             \n",
       " [3] \"Anticoagulante_classificação...21\" \"STS\"                              \n",
       " [5] \"DT_Sec\"                            \"FES_I\"                            \n",
       " [7] \"Trilhas_b\"                         \"medicaçao_tipo_cardiovascular\"    \n",
       " [9] \"quantidade_total_de_medicação\"     \"Fluencia_verbal\"                  \n",
       "[11] \"Tempo_doença\"                      \"TUG_sec\"                          \n",
       "[13] \"Criterio_AHA\"                     "
      ]
     },
     "metadata": {},
     "output_type": "display_data"
    },
    {
     "data": {
      "image/png": "[encoded data removed]",
      "text/plain": [
       "plot without title"
      ]
     },
     "metadata": {
      "image/png": {
       "height": 420,
       "width": 420
      }
     },
     "output_type": "display_data"
    }
   ],
   "source": [
    "#The control was defined using a treebag selection function\n",
    "set.seed(11)\n",
    "control2 <- rfeControl(functions=treebagFuncs, method=\"cv\", number=5)\n",
    "set.seed(22)\n",
    "results2 <- rfe(data_train[,2:41], data_train[[1]], sizes=c(2:41),\n",
    "                rfeControl=control,metric=ifelse(is.factor(data_train$Caidor),\"Kappa\",\"RMSE\"))\n",
    "print(results2) #13 variáveis + caidor\n",
    "#list the chosen features\n",
    "predictors(results2) #(Vo2_maximo_avaliado,Berg,Anticoagulante_classifica��o...21,STS,DT_Sec,FES_I,Trilhas_b,medica�ao_tipo_cardiovascular,quantidade_total_de_medica��o,Fluencia_verbal,Tempo_doen�a,TUG_sec,Criterio_AHA)\n",
    "#plot the results\n",
    "plot(results2, type=c(\"g\", \"o\"),main=\"RFE using Decision Tree\")"
   ]
  },
  {
   "cell_type": "markdown",
   "metadata": {},
   "source": [
    "# Decision Tree a partir do subset definido pelo RFE-DT"
   ]
  },
  {
   "cell_type": "code",
   "execution_count": 59,
   "metadata": {},
   "outputs": [
    {
     "data": {
      "text/html": [
       "<table class=\"dataframe\">\n",
       "<caption>A tibble: 6 × 14</caption>\n",
       "<thead>\n",
       "\t<tr><th scope=col>Caidor</th><th scope=col>Vo2_maximo_avaliado</th><th scope=col>Berg</th><th scope=col>Anticoagulante_classificação...21</th><th scope=col>STS</th><th scope=col>DT_Sec</th><th scope=col>FES_I</th><th scope=col>Trilhas_b</th><th scope=col>medicaçao_tipo_cardiovascular</th><th scope=col>quantidade_total_de_medicação</th><th scope=col>Fluencia_verbal</th><th scope=col>Tempo_doença</th><th scope=col>TUG_sec</th><th scope=col>Criterio_AHA</th></tr>\n",
       "\t<tr><th scope=col>&lt;fct&gt;</th><th scope=col>&lt;dbl&gt;</th><th scope=col>&lt;dbl&gt;</th><th scope=col>&lt;fct&gt;</th><th scope=col>&lt;dbl&gt;</th><th scope=col>&lt;dbl&gt;</th><th scope=col>&lt;dbl&gt;</th><th scope=col>&lt;dbl&gt;</th><th scope=col>&lt;fct&gt;</th><th scope=col>&lt;dbl&gt;</th><th scope=col>&lt;dbl&gt;</th><th scope=col>&lt;dbl&gt;</th><th scope=col>&lt;dbl&gt;</th><th scope=col>&lt;fct&gt;</th></tr>\n",
       "</thead>\n",
       "<tbody>\n",
       "\t<tr><td>Sim</td><td>20</td><td>11</td><td>nao</td><td>2</td><td>26</td><td>10</td><td>11</td><td>Beta + Anti_Coag      </td><td>7</td><td>17</td><td> 5</td><td>42</td><td>c</td></tr>\n",
       "\t<tr><td>não</td><td> 3</td><td>11</td><td>nao</td><td>4</td><td>22</td><td> 4</td><td>43</td><td>Beta + Anti_Coag      </td><td>5</td><td> 5</td><td> 5</td><td>33</td><td>b</td></tr>\n",
       "\t<tr><td>Sim</td><td>25</td><td>11</td><td>sim</td><td>3</td><td>27</td><td> 6</td><td>30</td><td>Beta                  </td><td>1</td><td> 9</td><td> 4</td><td>38</td><td>c</td></tr>\n",
       "\t<tr><td>não</td><td>26</td><td>12</td><td>nao</td><td>9</td><td> 8</td><td> 4</td><td>27</td><td>Beta                  </td><td>5</td><td>10</td><td> 2</td><td> 9</td><td>b</td></tr>\n",
       "\t<tr><td>Sim</td><td> 4</td><td> 8</td><td>sim</td><td>5</td><td>23</td><td> 8</td><td>40</td><td>Beta + Anti_Coag + Diu</td><td>7</td><td> 4</td><td>20</td><td>36</td><td>c</td></tr>\n",
       "\t<tr><td>não</td><td> 2</td><td> 7</td><td>nao</td><td>7</td><td>16</td><td>13</td><td>46</td><td>Beta + Anti_Coag + Diu</td><td>5</td><td> 6</td><td> 5</td><td>30</td><td>c</td></tr>\n",
       "</tbody>\n",
       "</table>\n"
      ],
      "text/latex": [
       "A tibble: 6 × 14\n",
       "\\begin{tabular}{llllllllllllll}\n",
       " Caidor & Vo2\\_maximo\\_avaliado & Berg & Anticoagulante\\_classificação...21 & STS & DT\\_Sec & FES\\_I & Trilhas\\_b & medicaçao\\_tipo\\_cardiovascular & quantidade\\_total\\_de\\_medicação & Fluencia\\_verbal & Tempo\\_doença & TUG\\_sec & Criterio\\_AHA\\\\\n",
       " <fct> & <dbl> & <dbl> & <fct> & <dbl> & <dbl> & <dbl> & <dbl> & <fct> & <dbl> & <dbl> & <dbl> & <dbl> & <fct>\\\\\n",
       "\\hline\n",
       "\t Sim & 20 & 11 & nao & 2 & 26 & 10 & 11 & Beta + Anti\\_Coag       & 7 & 17 &  5 & 42 & c\\\\\n",
       "\t não &  3 & 11 & nao & 4 & 22 &  4 & 43 & Beta + Anti\\_Coag       & 5 &  5 &  5 & 33 & b\\\\\n",
       "\t Sim & 25 & 11 & sim & 3 & 27 &  6 & 30 & Beta                   & 1 &  9 &  4 & 38 & c\\\\\n",
       "\t não & 26 & 12 & nao & 9 &  8 &  4 & 27 & Beta                   & 5 & 10 &  2 &  9 & b\\\\\n",
       "\t Sim &  4 &  8 & sim & 5 & 23 &  8 & 40 & Beta + Anti\\_Coag + Diu & 7 &  4 & 20 & 36 & c\\\\\n",
       "\t não &  2 &  7 & nao & 7 & 16 & 13 & 46 & Beta + Anti\\_Coag + Diu & 5 &  6 &  5 & 30 & c\\\\\n",
       "\\end{tabular}\n"
      ],
      "text/markdown": [
       "\n",
       "A tibble: 6 × 14\n",
       "\n",
       "| Caidor &lt;fct&gt; | Vo2_maximo_avaliado &lt;dbl&gt; | Berg &lt;dbl&gt; | Anticoagulante_classificação...21 &lt;fct&gt; | STS &lt;dbl&gt; | DT_Sec &lt;dbl&gt; | FES_I &lt;dbl&gt; | Trilhas_b &lt;dbl&gt; | medicaçao_tipo_cardiovascular &lt;fct&gt; | quantidade_total_de_medicação &lt;dbl&gt; | Fluencia_verbal &lt;dbl&gt; | Tempo_doença &lt;dbl&gt; | TUG_sec &lt;dbl&gt; | Criterio_AHA &lt;fct&gt; |\n",
       "|---|---|---|---|---|---|---|---|---|---|---|---|---|---|\n",
       "| Sim | 20 | 11 | nao | 2 | 26 | 10 | 11 | Beta + Anti_Coag       | 7 | 17 |  5 | 42 | c |\n",
       "| não |  3 | 11 | nao | 4 | 22 |  4 | 43 | Beta + Anti_Coag       | 5 |  5 |  5 | 33 | b |\n",
       "| Sim | 25 | 11 | sim | 3 | 27 |  6 | 30 | Beta                   | 1 |  9 |  4 | 38 | c |\n",
       "| não | 26 | 12 | nao | 9 |  8 |  4 | 27 | Beta                   | 5 | 10 |  2 |  9 | b |\n",
       "| Sim |  4 |  8 | sim | 5 | 23 |  8 | 40 | Beta + Anti_Coag + Diu | 7 |  4 | 20 | 36 | c |\n",
       "| não |  2 |  7 | nao | 7 | 16 | 13 | 46 | Beta + Anti_Coag + Diu | 5 |  6 |  5 | 30 | c |\n",
       "\n"
      ],
      "text/plain": [
       "  Caidor Vo2_maximo_avaliado Berg Anticoagulante_classificação...21 STS DT_Sec\n",
       "1 Sim    20                  11   nao                               2   26    \n",
       "2 não     3                  11   nao                               4   22    \n",
       "3 Sim    25                  11   sim                               3   27    \n",
       "4 não    26                  12   nao                               9    8    \n",
       "5 Sim     4                   8   sim                               5   23    \n",
       "6 não     2                   7   nao                               7   16    \n",
       "  FES_I Trilhas_b medicaçao_tipo_cardiovascular quantidade_total_de_medicação\n",
       "1 10    11        Beta + Anti_Coag              7                            \n",
       "2  4    43        Beta + Anti_Coag              5                            \n",
       "3  6    30        Beta                          1                            \n",
       "4  4    27        Beta                          5                            \n",
       "5  8    40        Beta + Anti_Coag + Diu        7                            \n",
       "6 13    46        Beta + Anti_Coag + Diu        5                            \n",
       "  Fluencia_verbal Tempo_doença TUG_sec Criterio_AHA\n",
       "1 17               5           42      c           \n",
       "2  5               5           33      b           \n",
       "3  9               4           38      c           \n",
       "4 10               2            9      b           \n",
       "5  4              20           36      c           \n",
       "6  6               5           30      c           "
      ]
     },
     "metadata": {},
     "output_type": "display_data"
    },
    {
     "data": {
      "text/plain": [
       "CART \n",
       "\n",
       "38 samples\n",
       "13 predictors\n",
       " 2 classes: 'não', 'Sim' \n",
       "\n",
       "No pre-processing\n",
       "Resampling: Cross-Validated (5 fold) \n",
       "Summary of sample sizes: 32, 30, 30, 30, 30 \n",
       "Resampling results across tuning parameters:\n",
       "\n",
       "  cp    Accuracy  Kappa    \n",
       "  0.00  0.725     0.4717698\n",
       "  0.25  0.700     0.4058357\n",
       "  0.50  0.700     0.4058357\n",
       "\n",
       "Kappa was used to select the optimal model using the largest value.\n",
       "The final value used for the model was cp = 0."
      ]
     },
     "metadata": {},
     "output_type": "display_data"
    },
    {
     "data": {
      "text/plain": [
       "Confusion Matrix and Statistics\n",
       "\n",
       "          Reference\n",
       "Prediction não Sim\n",
       "       não   7   2\n",
       "       Sim   4   1\n",
       "                                          \n",
       "               Accuracy : 0.5714          \n",
       "                 95% CI : (0.2886, 0.8234)\n",
       "    No Information Rate : 0.7857          \n",
       "    P-Value [Acc > NIR] : 0.9830          \n",
       "                                          \n",
       "                  Kappa : -0.0244         \n",
       "                                          \n",
       " Mcnemar's Test P-Value : 0.6831          \n",
       "                                          \n",
       "            Sensitivity : 0.6364          \n",
       "            Specificity : 0.3333          \n",
       "         Pos Pred Value : 0.7778          \n",
       "         Neg Pred Value : 0.2000          \n",
       "             Prevalence : 0.7857          \n",
       "         Detection Rate : 0.5000          \n",
       "   Detection Prevalence : 0.6429          \n",
       "      Balanced Accuracy : 0.4848          \n",
       "                                          \n",
       "       'Positive' Class : não             \n",
       "                                          "
      ]
     },
     "metadata": {},
     "output_type": "display_data"
    },
    {
     "data": {
      "text/html": [
       "<style>\n",
       ".dl-inline {width: auto; margin:0; padding: 0}\n",
       ".dl-inline>dt, .dl-inline>dd {float: none; width: auto; display: inline-block}\n",
       ".dl-inline>dt::after {content: \":\\0020\"; padding-right: .5ex}\n",
       ".dl-inline>dt:not(:first-of-type) {padding-left: .5ex}\n",
       "</style><dl class=dl-inline><dt>Sensitivity</dt><dd>0.636363636363636</dd><dt>Specificity</dt><dd>0.333333333333333</dd><dt>Pos Pred Value</dt><dd>0.777777777777778</dd><dt>Neg Pred Value</dt><dd>0.2</dd><dt>Precision</dt><dd>0.777777777777778</dd><dt>Recall</dt><dd>0.636363636363636</dd><dt>F1</dt><dd>0.7</dd><dt>Prevalence</dt><dd>0.785714285714286</dd><dt>Detection Rate</dt><dd>0.5</dd><dt>Detection Prevalence</dt><dd>0.642857142857143</dd><dt>Balanced Accuracy</dt><dd>0.484848484848485</dd></dl>\n"
      ],
      "text/latex": [
       "\\begin{description*}\n",
       "\\item[Sensitivity] 0.636363636363636\n",
       "\\item[Specificity] 0.333333333333333\n",
       "\\item[Pos Pred Value] 0.777777777777778\n",
       "\\item[Neg Pred Value] 0.2\n",
       "\\item[Precision] 0.777777777777778\n",
       "\\item[Recall] 0.636363636363636\n",
       "\\item[F1] 0.7\n",
       "\\item[Prevalence] 0.785714285714286\n",
       "\\item[Detection Rate] 0.5\n",
       "\\item[Detection Prevalence] 0.642857142857143\n",
       "\\item[Balanced Accuracy] 0.484848484848485\n",
       "\\end{description*}\n"
      ],
      "text/markdown": [
       "Sensitivity\n",
       ":   0.636363636363636Specificity\n",
       ":   0.333333333333333Pos Pred Value\n",
       ":   0.777777777777778Neg Pred Value\n",
       ":   0.2Precision\n",
       ":   0.777777777777778Recall\n",
       ":   0.636363636363636F1\n",
       ":   0.7Prevalence\n",
       ":   0.785714285714286Detection Rate\n",
       ":   0.5Detection Prevalence\n",
       ":   0.642857142857143Balanced Accuracy\n",
       ":   0.484848484848485\n",
       "\n"
      ],
      "text/plain": [
       "         Sensitivity          Specificity       Pos Pred Value \n",
       "           0.6363636            0.3333333            0.7777778 \n",
       "      Neg Pred Value            Precision               Recall \n",
       "           0.2000000            0.7777778            0.6363636 \n",
       "                  F1           Prevalence       Detection Rate \n",
       "           0.7000000            0.7857143            0.5000000 \n",
       "Detection Prevalence    Balanced Accuracy \n",
       "           0.6428571            0.4848485 "
      ]
     },
     "metadata": {},
     "output_type": "display_data"
    },
    {
     "name": "stderr",
     "output_type": "stream",
     "text": [
      "Loading required package: rpart.plot\n",
      "\n",
      "Loading required package: rpart\n",
      "\n"
     ]
    },
    {
     "data": {
      "image/png": "[encoded data removed]",
      "text/plain": [
       "plot without title"
      ]
     },
     "metadata": {
      "image/png": {
       "height": 420,
       "width": 420
      }
     },
     "output_type": "display_data"
    }
   ],
   "source": [
    "data_train_rfe2<- data_train[,c(\"Caidor\",\"Vo2_maximo_avaliado\",\"Berg\",\"Anticoagulante_classificação...21\",\n",
    "                                \"STS\",\"DT_Sec\",\"FES_I\",\"Trilhas_b\",\"medicaçao_tipo_cardiovascular\",\n",
    "                                \"quantidade_total_de_medicação\",\"Fluencia_verbal\",\"Tempo_doença\",\"TUG_sec\",\"Criterio_AHA\")]\n",
    "data_test_rfe2<- data_test[,c(\"Caidor\",\"Vo2_maximo_avaliado\",\"Berg\",\"Anticoagulante_classificação...21\",\n",
    "                              \"STS\",\"DT_Sec\",\"FES_I\",\"Trilhas_b\",\"medicaçao_tipo_cardiovascular\",\n",
    "                              \"quantidade_total_de_medicação\",\"Fluencia_verbal\",\"Tempo_doença\",\"TUG_sec\",\"Criterio_AHA\")]\n",
    "head(data_train_rfe2)\n",
    "set.seed(44)\n",
    "Tree_model1=train(Caidor~.,data=data_train_rfe2,method='rpart',metric=ifelse(is.factor(data_train_rfe$Caidor),\"Kappa\",\"RMSE\"),trControl=trainControl(method='cv',number=5,savePredictions=TRUE))\n",
    "Tree_model1 #Acurácia= 72.5% e kappa = 47.17% e cp=0\n",
    "#Tree_model1$pred\n",
    "predicition_Treemodel1<- predict(Tree_model1,data_test_rfe2)\n",
    "confusionMatrix(data_test_rfe2$Caidor,predicition_Treemodel1) #Acurácia e kappa = 100%\n",
    "confusionMatrix(data_test_rfe2$Caidor,predicition_Treemodel1)$byClass #recall e F1 (1 e 1)\n",
    "#install.packages(\"rpart.plot\")\n",
    "require(rpart.plot)\n",
    "rpart.plot(Tree_model1$finalModel,type=0,extra=101,box.palette = \"GnBu\",\n",
    "           branch.lty=3,shadow.col = \"gray\",nn=T,cex=1)"
   ]
  },
  {
   "cell_type": "markdown",
   "metadata": {},
   "source": [
    "# Regressão Logística com o dataset completo (com NA - bd) e subset resultante do RFE-RF (variáveis)"
   ]
  },
  {
   "cell_type": "code",
   "execution_count": 61,
   "metadata": {},
   "outputs": [
    {
     "data": {
      "text/plain": [
       "\n",
       "Call:\n",
       "glm(formula = bd$Caidor ~ ., family = \"binomial\", data = bd[, \n",
       "    c(\"DT_Sec\", \"Berg\", \"Vo2_maximo_avaliado\", \"STS\", \"FES_I\")])\n",
       "\n",
       "Deviance Residuals: \n",
       "    Min       1Q   Median       3Q      Max  \n",
       "-1.9696  -0.5223  -0.4374   0.4982   2.2343  \n",
       "\n",
       "Coefficients:\n",
       "                    Estimate Std. Error z value Pr(>|z|)   \n",
       "(Intercept)          4.89844    3.28033   1.493  0.13536   \n",
       "DT_Sec               0.10618    0.05194   2.044  0.04093 * \n",
       "Berg                -0.62528    0.24172  -2.587  0.00969 **\n",
       "Vo2_maximo_avaliado -0.03847    0.03732  -1.031  0.30266   \n",
       "STS                  0.08716    0.18597   0.469  0.63928   \n",
       "FES_I               -0.07455    0.10892  -0.684  0.49373   \n",
       "---\n",
       "Signif. codes:  0 '***' 0.001 '**' 0.01 '*' 0.05 '.' 0.1 ' ' 1\n",
       "\n",
       "(Dispersion parameter for binomial family taken to be 1)\n",
       "\n",
       "    Null deviance: 73.871  on 56  degrees of freedom\n",
       "Residual deviance: 47.666  on 51  degrees of freedom\n",
       "  (15 observations deleted due to missingness)\n",
       "AIC: 59.666\n",
       "\n",
       "Number of Fisher Scoring iterations: 5\n"
      ]
     },
     "metadata": {},
     "output_type": "display_data"
    },
    {
     "data": {
      "text/html": [
       "<style>\n",
       ".dl-inline {width: auto; margin:0; padding: 0}\n",
       ".dl-inline>dt, .dl-inline>dd {float: none; width: auto; display: inline-block}\n",
       ".dl-inline>dt::after {content: \":\\0020\"; padding-right: .5ex}\n",
       ".dl-inline>dt:not(:first-of-type) {padding-left: .5ex}\n",
       "</style><dl class=dl-inline><dt>(Intercept)</dt><dd>134.080202968538</dd><dt>DT_Sec</dt><dd>1.11202093528176</dd><dt>Berg</dt><dd>0.535112098376891</dd><dt>Vo2_maximo_avaliado</dt><dd>0.962258530044091</dd><dt>STS</dt><dd>1.09107464273785</dd><dt>FES_I</dt><dd>0.928165321380162</dd></dl>\n"
      ],
      "text/latex": [
       "\\begin{description*}\n",
       "\\item[(Intercept)] 134.080202968538\n",
       "\\item[DT\\textbackslash{}\\_Sec] 1.11202093528176\n",
       "\\item[Berg] 0.535112098376891\n",
       "\\item[Vo2\\textbackslash{}\\_maximo\\textbackslash{}\\_avaliado] 0.962258530044091\n",
       "\\item[STS] 1.09107464273785\n",
       "\\item[FES\\textbackslash{}\\_I] 0.928165321380162\n",
       "\\end{description*}\n"
      ],
      "text/markdown": [
       "(Intercept)\n",
       ":   134.080202968538DT_Sec\n",
       ":   1.11202093528176Berg\n",
       ":   0.535112098376891Vo2_maximo_avaliado\n",
       ":   0.962258530044091STS\n",
       ":   1.09107464273785FES_I\n",
       ":   0.928165321380162\n",
       "\n"
      ],
      "text/plain": [
       "        (Intercept)              DT_Sec                Berg Vo2_maximo_avaliado \n",
       "        134.0802030           1.1120209           0.5351121           0.9622585 \n",
       "                STS               FES_I \n",
       "          1.0910746           0.9281653 "
      ]
     },
     "metadata": {},
     "output_type": "display_data"
    }
   ],
   "source": [
    "set.seed(123)\n",
    "RL_model<- glm(bd$Caidor~.,data=bd[,c(\"DT_Sec\",\"Berg\",\"Vo2_maximo_avaliado\",\"STS\",\"FES_I\")], family = 'binomial')\n",
    "summary(RL_model)\n",
    "\n",
    "#Prediction (se o dataset fosse disivido em treino e teste)\n",
    "#probs_pred<- predict(RL_model,data_test_rfe,type = \"response\")\n",
    "#Accuracy\n",
    "#head(probs_pred)\n",
    "#pred= ifelse(probs_pred>.5,1,0)\n",
    "#table(pred,data_test_rfe$Caidor)\n",
    "#mean(pred==data_test_rfe$Caidor)\n",
    "#Razão de chances\n",
    "odd.ratio<- exp(coef(RL_model))\n",
    "odd.ratio\n",
    "\n",
    "#Curva roc\n",
    "#install.packages(\"pROC\")\n",
    "#require(pROC)\n",
    "#plot.roc(roc(data_test_rfe$Caidor,probs_pred,plot = T),print.auc=T)"
   ]
  },
  {
   "cell_type": "markdown",
   "metadata": {},
   "source": [
    "# RL somente com a variável DT_Sec (dataset completo - com NA)"
   ]
  },
  {
   "cell_type": "code",
   "execution_count": 65,
   "metadata": {},
   "outputs": [
    {
     "data": {
      "text/plain": [
       "\n",
       "Call:\n",
       "glm(formula = Caidor ~ DT_Sec, family = \"binomial\", data = bd)\n",
       "\n",
       "Deviance Residuals: \n",
       "    Min       1Q   Median       3Q      Max  \n",
       "-1.7004  -0.8846  -0.5051   1.0958   1.8187  \n",
       "\n",
       "Coefficients:\n",
       "            Estimate Std. Error z value Pr(>|z|)    \n",
       "(Intercept) -2.44844    0.69575  -3.519 0.000433 ***\n",
       "DT_Sec       0.10070    0.03231   3.117 0.001826 ** \n",
       "---\n",
       "Signif. codes:  0 '***' 0.001 '**' 0.01 '*' 0.05 '.' 0.1 ' ' 1\n",
       "\n",
       "(Dispersion parameter for binomial family taken to be 1)\n",
       "\n",
       "    Null deviance: 86.524  on 65  degrees of freedom\n",
       "Residual deviance: 74.489  on 64  degrees of freedom\n",
       "  (6 observations deleted due to missingness)\n",
       "AIC: 78.489\n",
       "\n",
       "Number of Fisher Scoring iterations: 3\n"
      ]
     },
     "metadata": {},
     "output_type": "display_data"
    },
    {
     "data": {
      "text/html": [
       "<style>\n",
       ".dl-inline {width: auto; margin:0; padding: 0}\n",
       ".dl-inline>dt, .dl-inline>dd {float: none; width: auto; display: inline-block}\n",
       ".dl-inline>dt::after {content: \":\\0020\"; padding-right: .5ex}\n",
       ".dl-inline>dt:not(:first-of-type) {padding-left: .5ex}\n",
       "</style><dl class=dl-inline><dt>(Intercept)</dt><dd>0.0864286366884581</dd><dt>DT_Sec</dt><dd>1.1059497811404</dd></dl>\n"
      ],
      "text/latex": [
       "\\begin{description*}\n",
       "\\item[(Intercept)] 0.0864286366884581\n",
       "\\item[DT\\textbackslash{}\\_Sec] 1.1059497811404\n",
       "\\end{description*}\n"
      ],
      "text/markdown": [
       "(Intercept)\n",
       ":   0.0864286366884581DT_Sec\n",
       ":   1.1059497811404\n",
       "\n"
      ],
      "text/plain": [
       "(Intercept)      DT_Sec \n",
       " 0.08642864  1.10594978 "
      ]
     },
     "metadata": {},
     "output_type": "display_data"
    }
   ],
   "source": [
    "set.seed(321)\n",
    "RL_model2<- glm(Caidor~DT_Sec,data=bd, family = 'binomial')\n",
    "summary(RL_model2)\n",
    "#Razão de chances\n",
    "odd.ratio<- exp(coef(RL_model2)) \n",
    "odd.ratio"
   ]
  },
  {
   "cell_type": "markdown",
   "metadata": {},
   "source": [
    "## Análise descritiva da variável DT_Sec por classe da variável caidor (não/sim)"
   ]
  },
  {
   "cell_type": "code",
   "execution_count": 4,
   "metadata": {},
   "outputs": [
    {
     "data": {
      "text/plain": [
       "\n",
       "não Sim \n",
       " 48  24 "
      ]
     },
     "metadata": {},
     "output_type": "display_data"
    },
    {
     "name": "stdout",
     "output_type": "stream",
     "text": [
      " chr [1:72] \"Sim\" \"não\" \"não\" \"Sim\" \"não\" \"não\" \"Sim\" \"não\" \"não\" \"Sim\" ...\n"
     ]
    },
    {
     "data": {
      "text/html": [
       "<style>\n",
       ".list-inline {list-style: none; margin:0; padding: 0}\n",
       ".list-inline>li {display: inline-block}\n",
       ".list-inline>li:not(:last-child)::after {content: \"\\00b7\"; padding: 0 .5ex}\n",
       "</style>\n",
       "<ol class=list-inline><li>48</li><li>71</li></ol>\n"
      ],
      "text/latex": [
       "\\begin{enumerate*}\n",
       "\\item 48\n",
       "\\item 71\n",
       "\\end{enumerate*}\n"
      ],
      "text/markdown": [
       "1. 48\n",
       "2. 71\n",
       "\n",
       "\n"
      ],
      "text/plain": [
       "[1] 48 71"
      ]
     },
     "metadata": {},
     "output_type": "display_data"
    },
    {
     "data": {
      "text/html": [
       "<style>\n",
       ".list-inline {list-style: none; margin:0; padding: 0}\n",
       ".list-inline>li {display: inline-block}\n",
       ".list-inline>li:not(:last-child)::after {content: \"\\00b7\"; padding: 0 .5ex}\n",
       "</style>\n",
       "<ol class=list-inline><li>24</li><li>71</li></ol>\n"
      ],
      "text/latex": [
       "\\begin{enumerate*}\n",
       "\\item 24\n",
       "\\item 71\n",
       "\\end{enumerate*}\n"
      ],
      "text/markdown": [
       "1. 24\n",
       "2. 71\n",
       "\n",
       "\n"
      ],
      "text/plain": [
       "[1] 24 71"
      ]
     },
     "metadata": {},
     "output_type": "display_data"
    },
    {
     "data": {
      "text/plain": [
       "   Min. 1st Qu.  Median    Mean 3rd Qu.    Max.    NA's \n",
       "  4.900   6.300   7.450   7.740   8.075  19.000       6 "
      ]
     },
     "metadata": {},
     "output_type": "display_data"
    },
    {
     "data": {
      "text/plain": [
       "   Min. 1st Qu.  Median    Mean 3rd Qu.    Max. \n",
       "  6.900   7.575   8.700   9.483   9.425  20.000 "
      ]
     },
     "metadata": {},
     "output_type": "display_data"
    },
    {
     "data": {
      "text/plain": [
       "\n",
       "não Sim \n",
       " 48  24 "
      ]
     },
     "metadata": {},
     "output_type": "display_data"
    }
   ],
   "source": [
    "table(bd$Caidor)\n",
    "str(bd$Caidor)\n",
    "\n",
    "cair_nao<- bd[bd$Caidor==\"não\",]\n",
    "cair_sim<- bd[bd$Caidor==\"Sim\",]\n",
    "dim(cair_nao)\n",
    "dim(cair_sim)\n",
    "\n",
    "summary(cair_nao$DT_Sec)\n",
    "summary(cair_sim$DT_Sec)\n",
    "table(bd$Caidor)"
   ]
  },
  {
   "cell_type": "markdown",
   "metadata": {},
   "source": [
    "# Decision Tree com o dataset completo (sem NA - bd2)"
   ]
  },
  {
   "cell_type": "code",
   "execution_count": 68,
   "metadata": {},
   "outputs": [
    {
     "data": {
      "text/plain": [
       "CART \n",
       "\n",
       "52 samples\n",
       "40 predictors\n",
       " 2 classes: 'não', 'Sim' \n",
       "\n",
       "No pre-processing\n",
       "Resampling: Cross-Validated (5 fold) \n",
       "Summary of sample sizes: 41, 42, 42, 42, 41 \n",
       "Resampling results across tuning parameters:\n",
       "\n",
       "  cp          Accuracy   Kappa     \n",
       "  0.00000000  0.6309091   0.1648529\n",
       "  0.05263158  0.6309091   0.1648529\n",
       "  0.42105263  0.5745455  -0.0400000\n",
       "\n",
       "Kappa was used to select the optimal model using the largest value.\n",
       "The final value used for the model was cp = 0.05263158."
      ]
     },
     "metadata": {},
     "output_type": "display_data"
    },
    {
     "data": {
      "image/png": "[encoded data removed]",
      "text/plain": [
       "plot without title"
      ]
     },
     "metadata": {
      "image/png": {
       "height": 420,
       "width": 420
      }
     },
     "output_type": "display_data"
    }
   ],
   "source": [
    "set.seed(55)\n",
    "require(caret)\n",
    "Tree_model2=train(Caidor~.,data=bd2,method='rpart',metric=ifelse(is.factor(bd2$Caidor),\"Kappa\",\"RMSE\"),\n",
    "                  trControl=trainControl(method='cv',number=5,savePredictions=TRUE))\n",
    "Tree_model2 \n",
    "#Tree_model1$pred\n",
    "#predicition_Treemodel2<- predict(Tree_model2,y)\n",
    "#confusionMatrix(y$Caidor,predicition_Treemodel2) \n",
    "#confusionMatrix(y$Caidor,predicition_Treemodel2)$byClass\n",
    "#install.packages(\"rpart.plot\")\n",
    "#require(rpart.plot)\n",
    "rpart.plot(Tree_model2$finalModel,type=0,extra=101,box.palette = \"GnBu\",\n",
    "           branch.lty=3,shadow.col = \"gray\",nn=T,cex=1)"
   ]
  }
 ],
 "metadata": {
  "kernelspec": {
   "display_name": "R",
   "language": "R",
   "name": "ir"
  },
  "language_info": {
   "codemirror_mode": "r",
   "file_extension": ".r",
   "mimetype": "text/x-r-source",
   "name": "R",
   "pygments_lexer": "r",
   "version": "3.6.0"
  },
  "orig_nbformat": 4
 },
 "nbformat": 4,
 "nbformat_minor": 2
}
