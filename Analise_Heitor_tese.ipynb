{
 "cells": [
  {
   "cell_type": "markdown",
   "metadata": {},
   "source": [
    "# Importação do banco de dados (*atualizado*)"
   ]
  },
  {
   "cell_type": "code",
   "execution_count": 5,
   "metadata": {},
   "outputs": [
    {
     "name": "stderr",
     "output_type": "stream",
     "text": [
      "Loading required package: readxl\n",
      "\n",
      "Warning message:\n",
      "\"package 'readxl' was built under R version 3.6.3\"\n"
     ]
    },
    {
     "data": {
      "text/html": [
       "<table class=\"dataframe\">\n",
       "<caption>A tibble: 6 × 40</caption>\n",
       "<thead>\n",
       "\t<tr><th scope=col>Caidor</th><th scope=col>Genero</th><th scope=col>idade</th><th scope=col>Nivel_social</th><th scope=col>etnia</th><th scope=col>Nivel_educacional</th><th scope=col>Freq_atividade</th><th scope=col>Criterio_AHA</th><th scope=col>Anti_hipertensivo</th><th scope=col>betabloqueador</th><th scope=col>...</th><th scope=col>Dinamometria</th><th scope=col>Berg</th><th scope=col>STS</th><th scope=col>Flexibilidade_Ms</th><th scope=col>Flexibilidade_MI</th><th scope=col>TUG_sec</th><th scope=col>DT_Sec</th><th scope=col>DT_numero_animais</th><th scope=col>quantidade_total_de_medicação</th><th scope=col>medicaçao_tipo_cardiovascular</th></tr>\n",
       "\t<tr><th scope=col>&lt;chr&gt;</th><th scope=col>&lt;chr&gt;</th><th scope=col>&lt;dbl&gt;</th><th scope=col>&lt;chr&gt;</th><th scope=col>&lt;chr&gt;</th><th scope=col>&lt;dbl&gt;</th><th scope=col>&lt;chr&gt;</th><th scope=col>&lt;chr&gt;</th><th scope=col>&lt;chr&gt;</th><th scope=col>&lt;chr&gt;</th><th scope=col>...</th><th scope=col>&lt;dbl&gt;</th><th scope=col>&lt;dbl&gt;</th><th scope=col>&lt;dbl&gt;</th><th scope=col>&lt;dbl&gt;</th><th scope=col>&lt;dbl&gt;</th><th scope=col>&lt;dbl&gt;</th><th scope=col>&lt;dbl&gt;</th><th scope=col>&lt;dbl&gt;</th><th scope=col>&lt;dbl&gt;</th><th scope=col>&lt;chr&gt;</th></tr>\n",
       "</thead>\n",
       "<tbody>\n",
       "\t<tr><td>sim</td><td>mulher</td><td>76</td><td>b</td><td>branco</td><td>16</td><td>3x        </td><td>c</td><td>não</td><td>sim</td><td>...</td><td>17.9</td><td>54</td><td> 5</td><td>-29</td><td>-33</td><td> 8.90</td><td> 9.1</td><td>10</td><td>8</td><td>Beta + Anti_Coag      </td></tr>\n",
       "\t<tr><td>não</td><td>mulher</td><td>73</td><td>b</td><td>branco</td><td>16</td><td>3x        </td><td>b</td><td>sim</td><td>sim</td><td>...</td><td>21.0</td><td>56</td><td>12</td><td>  0</td><td>  0</td><td> 7.11</td><td> 9.0</td><td> 8</td><td>8</td><td>Beta + Anti_HAS       </td></tr>\n",
       "\t<tr><td>não</td><td>mulher</td><td>75</td><td>c</td><td>branco</td><td>12</td><td>2x        </td><td>b</td><td>sim</td><td>sim</td><td>...</td><td>23.5</td><td>54</td><td> 7</td><td> -7</td><td>-15</td><td> 7.42</td><td> 8.6</td><td> 7</td><td>6</td><td>Beta + Anti_Coag      </td></tr>\n",
       "\t<tr><td>sim</td><td>mulher</td><td>83</td><td>b</td><td>branco</td><td>10</td><td>sedentario</td><td>c</td><td>sim</td><td>sim</td><td>...</td><td>15.3</td><td>51</td><td> 9</td><td>-22</td><td> -4</td><td>10.52</td><td>11.9</td><td> 7</td><td>8</td><td>Beta + Anti_Coag + Diu</td></tr>\n",
       "\t<tr><td>não</td><td>mulher</td><td>83</td><td>a</td><td>branco</td><td>10</td><td>3x        </td><td>c</td><td>sim</td><td>sim</td><td>...</td><td>16.7</td><td>56</td><td>NA</td><td> NA</td><td>-19</td><td> 9.31</td><td>13.2</td><td> 9</td><td>7</td><td>Beta + Anti_Coag + Diu</td></tr>\n",
       "\t<tr><td>não</td><td>mulher</td><td>78</td><td>a</td><td>branco</td><td>12</td><td>2x        </td><td>b</td><td>sim</td><td>sim</td><td>...</td><td>19.1</td><td>56</td><td>12</td><td> NA</td><td>  0</td><td> 7.17</td><td> 8.7</td><td> 6</td><td>4</td><td>Beta + Anti_HAS       </td></tr>\n",
       "</tbody>\n",
       "</table>\n"
      ],
      "text/latex": [
       "A tibble: 6 × 40\n",
       "\\begin{tabular}{lllllllllllllllllllll}\n",
       " Caidor & Genero & idade & Nivel\\_social & etnia & Nivel\\_educacional & Freq\\_atividade & Criterio\\_AHA & Anti\\_hipertensivo & betabloqueador & ... & Dinamometria & Berg & STS & Flexibilidade\\_Ms & Flexibilidade\\_MI & TUG\\_sec & DT\\_Sec & DT\\_numero\\_animais & quantidade\\_total\\_de\\_medicação & medicaçao\\_tipo\\_cardiovascular\\\\\n",
       " <chr> & <chr> & <dbl> & <chr> & <chr> & <dbl> & <chr> & <chr> & <chr> & <chr> & ... & <dbl> & <dbl> & <dbl> & <dbl> & <dbl> & <dbl> & <dbl> & <dbl> & <dbl> & <chr>\\\\\n",
       "\\hline\n",
       "\t sim & mulher & 76 & b & branco & 16 & 3x         & c & não & sim & ... & 17.9 & 54 &  5 & -29 & -33 &  8.90 &  9.1 & 10 & 8 & Beta + Anti\\_Coag      \\\\\n",
       "\t não & mulher & 73 & b & branco & 16 & 3x         & b & sim & sim & ... & 21.0 & 56 & 12 &   0 &   0 &  7.11 &  9.0 &  8 & 8 & Beta + Anti\\_HAS       \\\\\n",
       "\t não & mulher & 75 & c & branco & 12 & 2x         & b & sim & sim & ... & 23.5 & 54 &  7 &  -7 & -15 &  7.42 &  8.6 &  7 & 6 & Beta + Anti\\_Coag      \\\\\n",
       "\t sim & mulher & 83 & b & branco & 10 & sedentario & c & sim & sim & ... & 15.3 & 51 &  9 & -22 &  -4 & 10.52 & 11.9 &  7 & 8 & Beta + Anti\\_Coag + Diu\\\\\n",
       "\t não & mulher & 83 & a & branco & 10 & 3x         & c & sim & sim & ... & 16.7 & 56 & NA &  NA & -19 &  9.31 & 13.2 &  9 & 7 & Beta + Anti\\_Coag + Diu\\\\\n",
       "\t não & mulher & 78 & a & branco & 12 & 2x         & b & sim & sim & ... & 19.1 & 56 & 12 &  NA &   0 &  7.17 &  8.7 &  6 & 4 & Beta + Anti\\_HAS       \\\\\n",
       "\\end{tabular}\n"
      ],
      "text/markdown": [
       "\n",
       "A tibble: 6 × 40\n",
       "\n",
       "| Caidor &lt;chr&gt; | Genero &lt;chr&gt; | idade &lt;dbl&gt; | Nivel_social &lt;chr&gt; | etnia &lt;chr&gt; | Nivel_educacional &lt;dbl&gt; | Freq_atividade &lt;chr&gt; | Criterio_AHA &lt;chr&gt; | Anti_hipertensivo &lt;chr&gt; | betabloqueador &lt;chr&gt; | ... ... | Dinamometria &lt;dbl&gt; | Berg &lt;dbl&gt; | STS &lt;dbl&gt; | Flexibilidade_Ms &lt;dbl&gt; | Flexibilidade_MI &lt;dbl&gt; | TUG_sec &lt;dbl&gt; | DT_Sec &lt;dbl&gt; | DT_numero_animais &lt;dbl&gt; | quantidade_total_de_medicação &lt;dbl&gt; | medicaçao_tipo_cardiovascular &lt;chr&gt; |\n",
       "|---|---|---|---|---|---|---|---|---|---|---|---|---|---|---|---|---|---|---|---|---|\n",
       "| sim | mulher | 76 | b | branco | 16 | 3x         | c | não | sim | ... | 17.9 | 54 |  5 | -29 | -33 |  8.90 |  9.1 | 10 | 8 | Beta + Anti_Coag       |\n",
       "| não | mulher | 73 | b | branco | 16 | 3x         | b | sim | sim | ... | 21.0 | 56 | 12 |   0 |   0 |  7.11 |  9.0 |  8 | 8 | Beta + Anti_HAS        |\n",
       "| não | mulher | 75 | c | branco | 12 | 2x         | b | sim | sim | ... | 23.5 | 54 |  7 |  -7 | -15 |  7.42 |  8.6 |  7 | 6 | Beta + Anti_Coag       |\n",
       "| sim | mulher | 83 | b | branco | 10 | sedentario | c | sim | sim | ... | 15.3 | 51 |  9 | -22 |  -4 | 10.52 | 11.9 |  7 | 8 | Beta + Anti_Coag + Diu |\n",
       "| não | mulher | 83 | a | branco | 10 | 3x         | c | sim | sim | ... | 16.7 | 56 | NA |  NA | -19 |  9.31 | 13.2 |  9 | 7 | Beta + Anti_Coag + Diu |\n",
       "| não | mulher | 78 | a | branco | 12 | 2x         | b | sim | sim | ... | 19.1 | 56 | 12 |  NA |   0 |  7.17 |  8.7 |  6 | 4 | Beta + Anti_HAS        |\n",
       "\n"
      ],
      "text/plain": [
       "  Caidor Genero idade Nivel_social etnia  Nivel_educacional Freq_atividade\n",
       "1 sim    mulher 76    b            branco 16                3x            \n",
       "2 não    mulher 73    b            branco 16                3x            \n",
       "3 não    mulher 75    c            branco 12                2x            \n",
       "4 sim    mulher 83    b            branco 10                sedentario    \n",
       "5 não    mulher 83    a            branco 10                3x            \n",
       "6 não    mulher 78    a            branco 12                2x            \n",
       "  Criterio_AHA Anti_hipertensivo betabloqueador ... Dinamometria Berg STS\n",
       "1 c            não               sim            ... 17.9         54    5 \n",
       "2 b            sim               sim            ... 21.0         56   12 \n",
       "3 b            sim               sim            ... 23.5         54    7 \n",
       "4 c            sim               sim            ... 15.3         51    9 \n",
       "5 c            sim               sim            ... 16.7         56   NA \n",
       "6 b            sim               sim            ... 19.1         56   12 \n",
       "  Flexibilidade_Ms Flexibilidade_MI TUG_sec DT_Sec DT_numero_animais\n",
       "1 -29              -33               8.90    9.1   10               \n",
       "2   0                0               7.11    9.0    8               \n",
       "3  -7              -15               7.42    8.6    7               \n",
       "4 -22               -4              10.52   11.9    7               \n",
       "5  NA              -19               9.31   13.2    9               \n",
       "6  NA                0               7.17    8.7    6               \n",
       "  quantidade_total_de_medicação medicaçao_tipo_cardiovascular\n",
       "1 8                             Beta + Anti_Coag             \n",
       "2 8                             Beta + Anti_HAS              \n",
       "3 6                             Beta + Anti_Coag             \n",
       "4 8                             Beta + Anti_Coag + Diu       \n",
       "5 7                             Beta + Anti_Coag + Diu       \n",
       "6 4                             Beta + Anti_HAS              "
      ]
     },
     "metadata": {},
     "output_type": "display_data"
    },
    {
     "data": {
      "text/html": [
       "<style>\n",
       ".list-inline {list-style: none; margin:0; padding: 0}\n",
       ".list-inline>li {display: inline-block}\n",
       ".list-inline>li:not(:last-child)::after {content: \"\\00b7\"; padding: 0 .5ex}\n",
       "</style>\n",
       "<ol class=list-inline><li>72</li><li>40</li></ol>\n"
      ],
      "text/latex": [
       "\\begin{enumerate*}\n",
       "\\item 72\n",
       "\\item 40\n",
       "\\end{enumerate*}\n"
      ],
      "text/markdown": [
       "1. 72\n",
       "2. 40\n",
       "\n",
       "\n"
      ],
      "text/plain": [
       "[1] 72 40"
      ]
     },
     "metadata": {},
     "output_type": "display_data"
    },
    {
     "name": "stdout",
     "output_type": "stream",
     "text": [
      "tibble [72 x 40] (S3: tbl_df/tbl/data.frame)\n",
      " $ Caidor                       : chr [1:72] \"sim\" \"não\" \"não\" \"sim\" ...\n",
      " $ Genero                       : chr [1:72] \"mulher\" \"mulher\" \"mulher\" \"mulher\" ...\n",
      " $ idade                        : num [1:72] 76 73 75 83 83 78 83 82 78 75 ...\n",
      " $ Nivel_social                 : chr [1:72] \"b\" \"b\" \"c\" \"b\" ...\n",
      " $ etnia                        : chr [1:72] \"branco\" \"branco\" \"branco\" \"branco\" ...\n",
      " $ Nivel_educacional            : num [1:72] 16 16 12 10 10 12 20 8 14 16 ...\n",
      " $ Freq_atividade               : chr [1:72] \"3x\" \"3x\" \"2x\" \"sedentario\" ...\n",
      " $ Criterio_AHA                 : chr [1:72] \"c\" \"b\" \"b\" \"c\" ...\n",
      " $ Anti_hipertensivo            : chr [1:72] \"não\" \"sim\" \"sim\" \"sim\" ...\n",
      " $ betabloqueador               : chr [1:72] \"sim\" \"sim\" \"sim\" \"sim\" ...\n",
      " $ Anticoagulante_classif       : chr [1:72] \"não\" \"não\" \"não\" \"sim\" ...\n",
      " $ Diuretico_classif            : chr [1:72] \"não\" \"não\" \"não\" \"sim\" ...\n",
      " $ medicação_tipo_mental        : chr [1:72] \"antidepressivo\" \"benzodiazepinico\" \"antidepressivo\" \"antidepressivo+benzo\" ...\n",
      " $ medicação_tipo_saude         : chr [1:72] \"cardio+mental\" \"cardio+mental\" \"cardio+mental\" \"cardio+mental\" ...\n",
      " $ antidepressivo               : chr [1:72] \"não\" \"não\" \"sim\" \"não\" ...\n",
      " $ ansiolitico                  : chr [1:72] \"não\" \"não\" \"não\" \"não\" ...\n",
      " $ benzodiazepinico             : chr [1:72] \"sim\" \"sim\" \"sim\" \"sim\" ...\n",
      " $ DVC_primaria                 : chr [1:72] \"insuficiencia\" \"insuficiencia\" \"insuficiencia\" \"arritmia\" ...\n",
      " $ HAS                          : chr [1:72] \"não\" \"sim\" \"sim\" \"sim\" ...\n",
      " $ Tempo_doença                 : num [1:72] 6 3 6 4 10 20 5 9 3 25 ...\n",
      " $ Doenca_Respi                 : chr [1:72] \"sim\" NA \"não\" \"não\" ...\n",
      " $ MMSE                         : num [1:72] 30 29 27 29 29 30 29 26 28 24 ...\n",
      " $ Fluencia_verbal              : num [1:72] 27 22 15 20 18 30 19 18 20 14 ...\n",
      " $ Trilhas_A                    : num [1:72] 33 26.8 71 29.2 43.2 86.1 35.3 44.2 44 43.5 ...\n",
      " $ Trilhas_b                    : num [1:72] 60.1 61 178 93.7 127.2 ...\n",
      " $ GDS                          : num [1:72] 3 0 15 5 2 0 0 0 0 14 ...\n",
      " $ FES_I                        : num [1:72] 26 19 19 16 16 16 22 16 19 24 ...\n",
      " $ Vsaq                         : num [1:72] 5 5 7 5 5 8 7 5 8 5 ...\n",
      " $ Vo2_maximo_avaliado          : num [1:72] 17 23.4 11.3 12.7 14.1 13.5 18.4 13.4 18.6 12.1 ...\n",
      " $ IMC                          : num [1:72] 27 28.5 32.8 29.3 26.2 27.2 22.2 26.9 19.7 24.8 ...\n",
      " $ Dinamometria                 : num [1:72] 17.9 21 23.5 15.3 16.7 19.1 20.9 18.1 16 22.7 ...\n",
      " $ Berg                         : num [1:72] 54 56 54 51 56 56 54 55 55 50 ...\n",
      " $ STS                          : num [1:72] 5 12 7 9 NA 12 6 8 12 8 ...\n",
      " $ Flexibilidade_Ms             : num [1:72] -29 0 -7 -22 NA NA -6 -8 7 -11 ...\n",
      " $ Flexibilidade_MI             : num [1:72] -33 0 -15 -4 -19 0 -5 -2 8 -23 ...\n",
      " $ TUG_sec                      : num [1:72] 8.9 7.11 7.42 10.52 9.31 ...\n",
      " $ DT_Sec                       : num [1:72] 9.1 9 8.6 11.9 13.2 8.7 9.2 8.7 6.7 8.7 ...\n",
      " $ DT_numero_animais            : num [1:72] 10 8 7 7 9 6 8 7 5 5 ...\n",
      " $ quantidade_total_de_medicação: num [1:72] 8 8 6 8 7 4 2 5 6 8 ...\n",
      " $ medicaçao_tipo_cardiovascular: chr [1:72] \"Beta + Anti_Coag\" \"Beta + Anti_HAS\" \"Beta + Anti_Coag\" \"Beta + Anti_Coag + Diu\" ...\n"
     ]
    }
   ],
   "source": [
    "#install.packages(\"readxl\")\n",
    "require(readxl)\n",
    "bd<- read_excel(\"Analise heitor_02_10_21.xlsx\",sheet = 2)\n",
    "head(bd)\n",
    "dim(bd) #72x40 (antes havia 71 variáveis)\n",
    "str(bd)"
   ]
  },
  {
   "cell_type": "markdown",
   "metadata": {},
   "source": [
    "# Pré-processamento dos dados"
   ]
  },
  {
   "cell_type": "code",
   "execution_count": 6,
   "metadata": {},
   "outputs": [
    {
     "name": "stdout",
     "output_type": "stream",
     "text": [
      "tibble [72 x 40] (S3: tbl_df/tbl/data.frame)\n",
      " $ Caidor                       : Factor w/ 2 levels \"não\",\"sim\": 2 1 1 2 1 1 2 1 1 2 ...\n",
      " $ Genero                       : Factor w/ 2 levels \"homem\",\"mulher\": 2 2 2 2 2 2 2 2 2 1 ...\n",
      " $ idade                        : num [1:72] 17 14 16 24 24 19 24 23 19 16 ...\n",
      " $ Nivel_social                 : Factor w/ 4 levels \"a\",\"b\",\"c\",\"d\": 2 2 3 2 1 1 2 2 3 2 ...\n",
      " $ etnia                        : Factor w/ 2 levels \"branco\",\"preto\": 1 1 1 1 1 1 2 1 1 1 ...\n",
      " $ Nivel_educacional            : num [1:72] 6 6 3 2 2 3 8 1 4 6 ...\n",
      " $ Freq_atividade               : Factor w/ 3 levels \"2x\",\"3x\",\"sedentario\": 2 2 1 3 2 1 2 1 1 1 ...\n",
      " $ Criterio_AHA                 : Factor w/ 2 levels \"b\",\"c\": 2 1 1 2 2 1 2 1 1 2 ...\n",
      " $ Anti_hipertensivo            : Factor w/ 2 levels \"não\",\"sim\": 1 2 2 2 2 2 1 1 1 2 ...\n",
      " $ betabloqueador               : Factor w/ 2 levels \"não\",\"sim\": 2 2 2 2 2 2 2 1 2 2 ...\n",
      " $ Anticoagulante_classif       : Factor w/ 2 levels \"não\",\"sim\": 1 1 1 2 1 1 2 2 1 2 ...\n",
      " $ Diuretico_classif            : Factor w/ 2 levels \"não\",\"sim\": 1 1 1 2 1 1 1 1 1 2 ...\n",
      " $ medicação_tipo_mental        : Factor w/ 5 levels \"ansiolitico\",..: 2 4 2 3 4 1 3 5 2 3 ...\n",
      " $ medicação_tipo_saude         : Factor w/ 2 levels \"cardio+mental\",..: 1 1 1 1 1 1 1 2 1 1 ...\n",
      " $ antidepressivo               : Factor w/ 2 levels \"não\",\"sim\": 1 1 2 1 2 1 1 1 1 2 ...\n",
      " $ ansiolitico                  : Factor w/ 2 levels \"não\",\"sim\": 1 1 1 1 1 1 1 1 1 2 ...\n",
      " $ benzodiazepinico             : Factor w/ 2 levels \"não\",\"sim\": 2 2 2 2 2 2 2 1 1 2 ...\n",
      " $ DVC_primaria                 : Factor w/ 7 levels \"aneurisma da aorta\",..: 5 5 5 3 1 3 3 3 3 4 ...\n",
      " $ HAS                          : Factor w/ 2 levels \"não\",\"sim\": 1 2 2 2 2 2 1 1 1 2 ...\n",
      " $ Tempo_doença                 : num [1:72] 5 2 5 3 9 17 4 8 2 20 ...\n",
      " $ Doenca_Respi                 : Factor w/ 4 levels \"duas\",\"não\",\"sim\",..: 3 NA 2 2 2 2 2 2 2 2 ...\n",
      " $ MMSE                         : num [1:72] 9 8 6 8 8 9 8 5 7 3 ...\n",
      " $ Fluencia_verbal              : num [1:72] 17 12 5 10 8 20 9 8 10 4 ...\n",
      " $ Trilhas_A                    : num [1:72] 10 4 43 6 25 46 13 28 27 26 ...\n",
      " $ Trilhas_b                    : num [1:72] 11 12 43 29 37 45 30 34 27 40 ...\n",
      " $ GDS                          : num [1:72] 4 1 14 6 3 1 1 1 1 13 ...\n",
      " $ FES_I                        : num [1:72] 10 4 4 1 1 1 6 1 4 8 ...\n",
      " $ Vsaq                         : num [1:72] 3 3 5 3 3 6 5 3 6 3 ...\n",
      " $ Vo2_maximo_avaliado          : num [1:72] 20 38 3 5 10 8 25 7 26 4 ...\n",
      " $ IMC                          : num [1:72] 26 30 39 33 19 28 6 25 2 12 ...\n",
      " $ Dinamometria                 : num [1:72] 7 15 21 2 6 11 14 9 4 20 ...\n",
      " $ Berg                         : num [1:72] 11 13 11 9 13 13 11 12 12 8 ...\n",
      " $ STS                          : num [1:72] 2 9 4 6 NA 9 3 5 9 5 ...\n",
      " $ Flexibilidade_Ms             : num [1:72] 5 26 21 10 NA NA 22 20 29 17 ...\n",
      " $ Flexibilidade_MI             : num [1:72] 2 19 10 16 7 19 15 18 23 4 ...\n",
      " $ TUG_sec                      : num [1:72] 42 29 33 48 45 30 38 43 9 36 ...\n",
      " $ DT_Sec                       : num [1:72] 26 25 22 32 35 23 27 23 8 23 ...\n",
      " $ DT_numero_animais            : num [1:72] 8 6 5 5 7 4 6 5 3 3 ...\n",
      " $ quantidade_total_de_medicação: num [1:72] 7 7 5 7 6 3 1 4 5 7 ...\n",
      " $ medicaçao_tipo_cardiovascular: Factor w/ 5 levels \"Anti + HAS\",\"Beta\",..: 3 5 3 4 4 5 2 2 2 4 ...\n"
     ]
    },
    {
     "data": {
      "text/plain": [
       "\n",
       "não sim \n",
       " 48  24 "
      ]
     },
     "metadata": {},
     "output_type": "display_data"
    }
   ],
   "source": [
    "bd[] <- lapply(bd, as.factor) #Transforma todo o banco de dados em fator\n",
    "bd[,c(\"idade\",\"Nivel_educacional\",\"Tempo_doença\",\"MMSE\",\"Fluencia_verbal\",\"Trilhas_A\",\"Trilhas_b\",\"GDS\",\"FES_I\",\"Vsaq\",\"Vo2_maximo_avaliado\",\"IMC\",\"Dinamometria\",\"Berg\",\"STS\",\"Flexibilidade_Ms\",\"Flexibilidade_MI\",\"TUG_sec\",\"DT_Sec\",\"DT_numero_animais\",\"quantidade_total_de_medicação\")] <- lapply(bd[,c(\"idade\",\"Nivel_educacional\",\"Tempo_doença\",\"MMSE\",\"Fluencia_verbal\",\"Trilhas_A\",\"Trilhas_b\",\"GDS\",\"FES_I\",\"Vsaq\",\"Vo2_maximo_avaliado\",\"IMC\",\"Dinamometria\",\"Berg\",\"STS\",\"Flexibilidade_Ms\",\"Flexibilidade_MI\",\"TUG_sec\",\"DT_Sec\",\"DT_numero_animais\",\"quantidade_total_de_medicação\")], as.numeric) \n",
    "str(bd) #Sim=2 (classe negativa)\n",
    "table(bd$Caidor)\n",
    "#Alterando a classe de referência (não -> sim) #Sim=1\n",
    "#bd <- within(bd, Caidor <- relevel(Caidor, ref = \"sim\")) #Está alterando o resultado do RFE-RF"
   ]
  },
  {
   "cell_type": "markdown",
   "metadata": {},
   "source": [
    "## Removendo dados faltantes"
   ]
  },
  {
   "cell_type": "code",
   "execution_count": 7,
   "metadata": {},
   "outputs": [
    {
     "data": {
      "text/plain": [
       "\n",
       "não sim \n",
       " 48  24 "
      ]
     },
     "metadata": {},
     "output_type": "display_data"
    },
    {
     "data": {
      "text/html": [
       "<style>\n",
       ".list-inline {list-style: none; margin:0; padding: 0}\n",
       ".list-inline>li {display: inline-block}\n",
       ".list-inline>li:not(:last-child)::after {content: \"\\00b7\"; padding: 0 .5ex}\n",
       "</style>\n",
       "<ol class=list-inline><li>52</li><li>40</li></ol>\n"
      ],
      "text/latex": [
       "\\begin{enumerate*}\n",
       "\\item 52\n",
       "\\item 40\n",
       "\\end{enumerate*}\n"
      ],
      "text/markdown": [
       "1. 52\n",
       "2. 40\n",
       "\n",
       "\n"
      ],
      "text/plain": [
       "[1] 52 40"
      ]
     },
     "metadata": {},
     "output_type": "display_data"
    },
    {
     "data": {
      "text/plain": [
       "\n",
       "não sim \n",
       " 33  19 "
      ]
     },
     "metadata": {},
     "output_type": "display_data"
    }
   ],
   "source": [
    "table(bd$Caidor) #(48 não e 24 sim)\n",
    "BD<- na.omit(bd) \n",
    "dim(BD) #52 idosos após remoção dos Nas\n",
    "table(BD$Caidor) #(33 não e 19 sim)"
   ]
  },
  {
   "cell_type": "markdown",
   "metadata": {},
   "source": [
    "# Análise descritiva (*n total - com NA*) "
   ]
  },
  {
   "cell_type": "markdown",
   "metadata": {},
   "source": [
    "## N total (casos e controles)"
   ]
  },
  {
   "cell_type": "code",
   "execution_count": 8,
   "metadata": {},
   "outputs": [
    {
     "data": {
      "text/plain": [
       "$Caidor\n",
       "não sim \n",
       " 48  24 \n",
       "\n",
       "$Genero\n",
       " homem mulher \n",
       "    43     29 \n",
       "\n",
       "$idade\n",
       "   Min. 1st Qu.  Median    Mean 3rd Qu.    Max. \n",
       "   1.00   10.00   16.00   15.42   20.25   27.00 \n",
       "\n",
       "$Nivel_social\n",
       " a  b  c  d \n",
       "12 43 16  1 \n",
       "\n",
       "$etnia\n",
       "branco  preto \n",
       "    61     11 \n",
       "\n",
       "$Nivel_educacional\n",
       "   Min. 1st Qu.  Median    Mean 3rd Qu.    Max. \n",
       "  1.000   4.000   6.000   5.514   6.250  10.000 \n",
       "\n",
       "$Freq_atividade\n",
       "        2x         3x sedentario \n",
       "        21         34         17 \n",
       "\n",
       "$Criterio_AHA\n",
       " b  c \n",
       "49 23 \n",
       "\n",
       "$Anti_hipertensivo\n",
       "não sim \n",
       " 15  57 \n",
       "\n",
       "$betabloqueador\n",
       "não sim \n",
       "  6  66 \n",
       "\n",
       "$Anticoagulante_classif\n",
       "não sim \n",
       " 41  31 \n",
       "\n",
       "$Diuretico_classif\n",
       "não sim \n",
       " 48  24 \n",
       "\n",
       "$medicação_tipo_mental\n",
       "         ansiolitico       antidepressivo antidepressivo+benzo \n",
       "                   2                    5                    8 \n",
       "    benzodiazepinico                  não \n",
       "                  28                   29 \n",
       "\n",
       "$medicação_tipo_saude\n",
       " cardio+mental cardiovascular \n",
       "            43             29 \n",
       "\n",
       "$antidepressivo\n",
       "não sim \n",
       " 61  11 \n",
       "\n",
       "$ansiolitico\n",
       "não sim \n",
       " 70   2 \n",
       "\n",
       "$benzodiazepinico\n",
       "não sim \n",
       " 39  33 \n",
       "\n",
       "$DVC_primaria\n",
       "aneurisma da aorta             angina           arritmia            infarto \n",
       "                 3                  4                 28                  9 \n",
       "     insuficiencia           isquemia               nada \n",
       "                19                  7                  2 \n",
       "\n",
       "$HAS\n",
       "não sim \n",
       " 15  57 \n",
       "\n",
       "$Tempo_doença\n",
       "   Min. 1st Qu.  Median    Mean 3rd Qu.    Max. \n",
       "  1.000   4.000   7.000   8.431  13.000  21.000 \n",
       "\n",
       "$Doenca_Respi\n",
       "duas  não  sim três NA's \n",
       "   2   58    8    3    1 \n",
       "\n",
       "$MMSE\n",
       "   Min. 1st Qu.  Median    Mean 3rd Qu.    Max.    NA's \n",
       "  1.000   6.000   8.000   7.282   9.000   9.000       1 \n",
       "\n",
       "$Fluencia_verbal\n",
       "   Min. 1st Qu.  Median    Mean 3rd Qu.    Max. \n",
       "   1.00    7.00   11.00   11.18   15.25   22.00 \n",
       "\n",
       "$Trilhas_A\n",
       "   Min. 1st Qu.  Median    Mean 3rd Qu.    Max.    NA's \n",
       "   1.00   15.50   25.00   24.92   36.00   48.00       1 \n",
       "\n",
       "$Trilhas_b\n",
       "   Min. 1st Qu.  Median    Mean 3rd Qu.    Max.    NA's \n",
       "   1.00   14.50   24.00   25.58   37.50   47.00       1 \n",
       "\n",
       "$GDS\n",
       "   Min. 1st Qu.  Median    Mean 3rd Qu.    Max.    NA's \n",
       "   1.00    1.00    2.00    4.31    5.50   17.00       1 \n",
       "\n",
       "$FES_I\n",
       "   Min. 1st Qu.  Median    Mean 3rd Qu.    Max.    NA's \n",
       "  1.000   1.000   1.000   3.958   5.000  15.000       1 \n",
       "\n",
       "$Vsaq\n",
       "   Min. 1st Qu.  Median    Mean 3rd Qu.    Max. \n",
       "  1.000   3.000   5.000   4.542   5.250   9.000 \n",
       "\n",
       "$Vo2_maximo_avaliado\n",
       "   Min. 1st Qu.  Median    Mean 3rd Qu.    Max.    NA's \n",
       "   1.00    9.50   22.00   20.68   30.50   42.00       9 \n",
       "\n",
       "$IMC\n",
       "   Min. 1st Qu.  Median    Mean 3rd Qu.    Max. \n",
       "   1.00   12.75   23.50   22.29   32.00   42.00 \n",
       "\n",
       "$Dinamometria\n",
       "   Min. 1st Qu.  Median    Mean 3rd Qu.    Max. \n",
       "   1.00   12.75   24.50   24.64   35.25   49.00 \n",
       "\n",
       "$Berg\n",
       "   Min. 1st Qu.  Median    Mean 3rd Qu.    Max. \n",
       "   1.00   11.00   12.00   10.99   13.00   13.00 \n",
       "\n",
       "$STS\n",
       "   Min. 1st Qu.  Median    Mean 3rd Qu.    Max.    NA's \n",
       "  1.000   6.000   8.000   7.382   9.000  14.000       4 \n",
       "\n",
       "$Flexibilidade_Ms\n",
       "   Min. 1st Qu.  Median    Mean 3rd Qu.    Max.    NA's \n",
       "   1.00    7.75   15.00   15.34   22.25   29.00       8 \n",
       "\n",
       "$Flexibilidade_MI\n",
       "   Min. 1st Qu.  Median    Mean 3rd Qu.    Max.    NA's \n",
       "   1.00    7.00   12.00   11.97   18.00   23.00       4 \n",
       "\n",
       "$TUG_sec\n",
       "   Min. 1st Qu.  Median    Mean 3rd Qu.    Max.    NA's \n",
       "   1.00   16.00   29.00   26.67   39.00   49.00       2 \n",
       "\n",
       "$DT_Sec\n",
       "   Min. 1st Qu.  Median    Mean 3rd Qu.    Max.    NA's \n",
       "   1.00   10.00   17.50   17.61   24.75   37.00       6 \n",
       "\n",
       "$DT_numero_animais\n",
       "   Min. 1st Qu.  Median    Mean 3rd Qu.    Max.    NA's \n",
       "  1.000   3.000   4.000   4.273   5.750   8.000       6 \n",
       "\n",
       "$quantidade_total_de_medicação\n",
       "   Min. 1st Qu.  Median    Mean 3rd Qu.    Max. \n",
       "  1.000   4.000   5.000   5.042   6.000  12.000 \n",
       "\n",
       "$medicaçao_tipo_cardiovascular\n",
       "            Anti + HAS                   Beta       Beta + Anti_Coag \n",
       "                     4                     15                     12 \n",
       "Beta + Anti_Coag + Diu        Beta + Anti_HAS \n",
       "                    20                     21 \n"
      ]
     },
     "metadata": {},
     "output_type": "display_data"
    },
    {
     "data": {
      "text/html": [
       "<style>\n",
       ".dl-inline {width: auto; margin:0; padding: 0}\n",
       ".dl-inline>dt, .dl-inline>dd {float: none; width: auto; display: inline-block}\n",
       ".dl-inline>dt::after {content: \":\\0020\"; padding-right: .5ex}\n",
       ".dl-inline>dt:not(:first-of-type) {padding-left: .5ex}\n",
       "</style><dl class=dl-inline><dt>idade</dt><dd>6.67716309837146</dd><dt>Nivel_educacional</dt><dd>2.19469947607807</dd><dt>Tempo_doença</dt><dd>5.54577974016707</dd><dt>MMSE</dt><dd>&lt;NA&gt;</dd><dt>Fluencia_verbal</dt><dd>5.36899389659355</dd><dt>Trilhas_A</dt><dd>&lt;NA&gt;</dd><dt>Trilhas_b</dt><dd>&lt;NA&gt;</dd><dt>GDS</dt><dd>&lt;NA&gt;</dd><dt>FES_I</dt><dd>&lt;NA&gt;</dd><dt>Vsaq</dt><dd>1.61801042842093</dd><dt>Vo2_maximo_avaliado</dt><dd>&lt;NA&gt;</dd><dt>IMC</dt><dd>11.6079592655152</dd><dt>Dinamometria</dt><dd>13.6353987897859</dd><dt>Berg</dt><dd>2.91423439831554</dd><dt>STS</dt><dd>&lt;NA&gt;</dd><dt>Flexibilidade_Ms</dt><dd>&lt;NA&gt;</dd><dt>Flexibilidade_MI</dt><dd>&lt;NA&gt;</dd><dt>TUG_sec</dt><dd>&lt;NA&gt;</dd><dt>DT_Sec</dt><dd>&lt;NA&gt;</dd><dt>DT_numero_animais</dt><dd>&lt;NA&gt;</dd><dt>quantidade_total_de_medicação</dt><dd>2.22936547531696</dd></dl>\n"
      ],
      "text/latex": [
       "\\begin{description*}\n",
       "\\item[idade] 6.67716309837146\n",
       "\\item[Nivel\\textbackslash{}\\_educacional] 2.19469947607807\n",
       "\\item[Tempo\\textbackslash{}\\_doença] 5.54577974016707\n",
       "\\item[MMSE] <NA>\n",
       "\\item[Fluencia\\textbackslash{}\\_verbal] 5.36899389659355\n",
       "\\item[Trilhas\\textbackslash{}\\_A] <NA>\n",
       "\\item[Trilhas\\textbackslash{}\\_b] <NA>\n",
       "\\item[GDS] <NA>\n",
       "\\item[FES\\textbackslash{}\\_I] <NA>\n",
       "\\item[Vsaq] 1.61801042842093\n",
       "\\item[Vo2\\textbackslash{}\\_maximo\\textbackslash{}\\_avaliado] <NA>\n",
       "\\item[IMC] 11.6079592655152\n",
       "\\item[Dinamometria] 13.6353987897859\n",
       "\\item[Berg] 2.91423439831554\n",
       "\\item[STS] <NA>\n",
       "\\item[Flexibilidade\\textbackslash{}\\_Ms] <NA>\n",
       "\\item[Flexibilidade\\textbackslash{}\\_MI] <NA>\n",
       "\\item[TUG\\textbackslash{}\\_sec] <NA>\n",
       "\\item[DT\\textbackslash{}\\_Sec] <NA>\n",
       "\\item[DT\\textbackslash{}\\_numero\\textbackslash{}\\_animais] <NA>\n",
       "\\item[quantidade\\textbackslash{}\\_total\\textbackslash{}\\_de\\textbackslash{}\\_medicação] 2.22936547531696\n",
       "\\end{description*}\n"
      ],
      "text/markdown": [
       "idade\n",
       ":   6.67716309837146Nivel_educacional\n",
       ":   2.19469947607807Tempo_doença\n",
       ":   5.54577974016707MMSE\n",
       ":   &lt;NA&gt;Fluencia_verbal\n",
       ":   5.36899389659355Trilhas_A\n",
       ":   &lt;NA&gt;Trilhas_b\n",
       ":   &lt;NA&gt;GDS\n",
       ":   &lt;NA&gt;FES_I\n",
       ":   &lt;NA&gt;Vsaq\n",
       ":   1.61801042842093Vo2_maximo_avaliado\n",
       ":   &lt;NA&gt;IMC\n",
       ":   11.6079592655152Dinamometria\n",
       ":   13.6353987897859Berg\n",
       ":   2.91423439831554STS\n",
       ":   &lt;NA&gt;Flexibilidade_Ms\n",
       ":   &lt;NA&gt;Flexibilidade_MI\n",
       ":   &lt;NA&gt;TUG_sec\n",
       ":   &lt;NA&gt;DT_Sec\n",
       ":   &lt;NA&gt;DT_numero_animais\n",
       ":   &lt;NA&gt;quantidade_total_de_medicação\n",
       ":   2.22936547531696\n",
       "\n"
      ],
      "text/plain": [
       "                        idade             Nivel_educacional \n",
       "                     6.677163                      2.194699 \n",
       "                 Tempo_doença                          MMSE \n",
       "                     5.545780                            NA \n",
       "              Fluencia_verbal                     Trilhas_A \n",
       "                     5.368994                            NA \n",
       "                    Trilhas_b                           GDS \n",
       "                           NA                            NA \n",
       "                        FES_I                          Vsaq \n",
       "                           NA                      1.618010 \n",
       "          Vo2_maximo_avaliado                           IMC \n",
       "                           NA                     11.607959 \n",
       "                 Dinamometria                          Berg \n",
       "                    13.635399                      2.914234 \n",
       "                          STS              Flexibilidade_Ms \n",
       "                           NA                            NA \n",
       "             Flexibilidade_MI                       TUG_sec \n",
       "                           NA                            NA \n",
       "                       DT_Sec             DT_numero_animais \n",
       "                           NA                            NA \n",
       "quantidade_total_de_medicação \n",
       "                     2.229365 "
      ]
     },
     "metadata": {},
     "output_type": "display_data"
    }
   ],
   "source": [
    "#Mínimo, máximo, média, mediana e intervalo quartil das variáveis (numéricas)\n",
    "sapply(bd,summary)\n",
    "#Desvio padrão\n",
    "sapply(bd[,c(\"idade\",\"Nivel_educacional\",\"Tempo_doença\",\"MMSE\",\"Fluencia_verbal\",\"Trilhas_A\",\"Trilhas_b\",\"GDS\",\"FES_I\",\"Vsaq\",\"Vo2_maximo_avaliado\",\"IMC\",\"Dinamometria\",\"Berg\",\"STS\",\"Flexibilidade_Ms\",\"Flexibilidade_MI\",\"TUG_sec\",\"DT_Sec\",\"DT_numero_animais\",\"quantidade_total_de_medicação\")],sd)"
   ]
  },
  {
   "cell_type": "markdown",
   "metadata": {},
   "source": [
    "## Casos x controles"
   ]
  },
  {
   "cell_type": "code",
   "execution_count": 9,
   "metadata": {},
   "outputs": [
    {
     "data": {
      "text/html": [
       "<style>\n",
       ".list-inline {list-style: none; margin:0; padding: 0}\n",
       ".list-inline>li {display: inline-block}\n",
       ".list-inline>li:not(:last-child)::after {content: \"\\00b7\"; padding: 0 .5ex}\n",
       "</style>\n",
       "<ol class=list-inline><li>48</li><li>40</li></ol>\n"
      ],
      "text/latex": [
       "\\begin{enumerate*}\n",
       "\\item 48\n",
       "\\item 40\n",
       "\\end{enumerate*}\n"
      ],
      "text/markdown": [
       "1. 48\n",
       "2. 40\n",
       "\n",
       "\n"
      ],
      "text/plain": [
       "[1] 48 40"
      ]
     },
     "metadata": {},
     "output_type": "display_data"
    },
    {
     "data": {
      "text/html": [
       "<style>\n",
       ".list-inline {list-style: none; margin:0; padding: 0}\n",
       ".list-inline>li {display: inline-block}\n",
       ".list-inline>li:not(:last-child)::after {content: \"\\00b7\"; padding: 0 .5ex}\n",
       "</style>\n",
       "<ol class=list-inline><li>24</li><li>40</li></ol>\n"
      ],
      "text/latex": [
       "\\begin{enumerate*}\n",
       "\\item 24\n",
       "\\item 40\n",
       "\\end{enumerate*}\n"
      ],
      "text/markdown": [
       "1. 24\n",
       "2. 40\n",
       "\n",
       "\n"
      ],
      "text/plain": [
       "[1] 24 40"
      ]
     },
     "metadata": {},
     "output_type": "display_data"
    },
    {
     "data": {
      "text/plain": [
       "$Caidor\n",
       "não sim \n",
       " 48   0 \n",
       "\n",
       "$Genero\n",
       " homem mulher \n",
       "    28     20 \n",
       "\n",
       "$idade\n",
       "   Min. 1st Qu.  Median    Mean 3rd Qu.    Max. \n",
       "   1.00    8.75   14.00   14.15   20.00   26.00 \n",
       "\n",
       "$Nivel_social\n",
       " a  b  c  d \n",
       " 9 28 11  0 \n",
       "\n",
       "$etnia\n",
       "branco  preto \n",
       "    42      6 \n",
       "\n",
       "$Nivel_educacional\n",
       "   Min. 1st Qu.  Median    Mean 3rd Qu.    Max. \n",
       "  1.000   4.000   6.000   5.667   6.250  10.000 \n",
       "\n",
       "$Freq_atividade\n",
       "        2x         3x sedentario \n",
       "        11         24         13 \n",
       "\n",
       "$Criterio_AHA\n",
       " b  c \n",
       "39  9 \n",
       "\n",
       "$Anti_hipertensivo\n",
       "não sim \n",
       "  8  40 \n",
       "\n",
       "$betabloqueador\n",
       "não sim \n",
       "  6  42 \n",
       "\n",
       "$Anticoagulante_classif\n",
       "não sim \n",
       " 36  12 \n",
       "\n",
       "$Diuretico_classif\n",
       "não sim \n",
       " 38  10 \n",
       "\n",
       "$medicação_tipo_mental\n",
       "         ansiolitico       antidepressivo antidepressivo+benzo \n",
       "                   1                    3                    4 \n",
       "    benzodiazepinico                  não \n",
       "                  15                   25 \n",
       "\n",
       "$medicação_tipo_saude\n",
       " cardio+mental cardiovascular \n",
       "            23             25 \n",
       "\n",
       "$antidepressivo\n",
       "não sim \n",
       " 43   5 \n",
       "\n",
       "$ansiolitico\n",
       "não sim \n",
       " 47   1 \n",
       "\n",
       "$benzodiazepinico\n",
       "não sim \n",
       " 31  17 \n",
       "\n",
       "$DVC_primaria\n",
       "aneurisma da aorta             angina           arritmia            infarto \n",
       "                 2                  4                 18                  5 \n",
       "     insuficiencia           isquemia               nada \n",
       "                15                  4                  0 \n",
       "\n",
       "$HAS\n",
       "não sim \n",
       "  8  40 \n",
       "\n",
       "$Tempo_doença\n",
       "   Min. 1st Qu.  Median    Mean 3rd Qu.    Max. \n",
       "  1.000   3.750   7.000   7.792  10.250  21.000 \n",
       "\n",
       "$Doenca_Respi\n",
       "duas  não  sim três NA's \n",
       "   1   39    5    2    1 \n",
       "\n",
       "$MMSE\n",
       "   Min. 1st Qu.  Median    Mean 3rd Qu.    Max.    NA's \n",
       "  2.000   7.000   8.000   7.532   9.000   9.000       1 \n",
       "\n",
       "$Fluencia_verbal\n",
       "   Min. 1st Qu.  Median    Mean 3rd Qu.    Max. \n",
       "   2.00    7.00   12.50   12.27   17.00   22.00 \n",
       "\n",
       "$Trilhas_A\n",
       "   Min. 1st Qu.  Median    Mean 3rd Qu.    Max.    NA's \n",
       "   1.00   16.00   23.00   23.32   32.50   46.00       1 \n",
       "\n",
       "$Trilhas_b\n",
       "   Min. 1st Qu.  Median    Mean 3rd Qu.    Max.    NA's \n",
       "   1.00   12.50   20.00   21.47   31.50   47.00       1 \n",
       "\n",
       "$GDS\n",
       "   Min. 1st Qu.  Median    Mean 3rd Qu.    Max.    NA's \n",
       "  1.000   1.000   2.000   3.766   4.500  17.000       1 \n",
       "\n",
       "$FES_I\n",
       "   Min. 1st Qu.  Median    Mean 3rd Qu.    Max.    NA's \n",
       "  1.000   1.000   1.000   3.043   4.000  13.000       1 \n",
       "\n",
       "$Vsaq\n",
       "   Min. 1st Qu.  Median    Mean 3rd Qu.    Max. \n",
       "   2.00    3.00    5.00    4.75    6.00    9.00 \n",
       "\n",
       "$Vo2_maximo_avaliado\n",
       "   Min. 1st Qu.  Median    Mean 3rd Qu.    Max.    NA's \n",
       "   1.00   17.25   26.00   23.98   34.00   42.00       6 \n",
       "\n",
       "$IMC\n",
       "   Min. 1st Qu.  Median    Mean 3rd Qu.    Max. \n",
       "   1.00   13.25   23.00   22.40   32.00   41.00 \n",
       "\n",
       "$Dinamometria\n",
       "   Min. 1st Qu.  Median    Mean 3rd Qu.    Max. \n",
       "   3.00   14.50   29.50   26.06   37.00   48.00 \n",
       "\n",
       "$Berg\n",
       "   Min. 1st Qu.  Median    Mean 3rd Qu.    Max. \n",
       "   2.00   11.00   13.00   11.77   13.00   13.00 \n",
       "\n",
       "$STS\n",
       "   Min. 1st Qu.  Median    Mean 3rd Qu.    Max.    NA's \n",
       "  1.000   7.000   8.000   7.956   9.000  14.000       3 \n",
       "\n",
       "$Flexibilidade_Ms\n",
       "   Min. 1st Qu.  Median    Mean 3rd Qu.    Max.    NA's \n",
       "   1.00    7.25   15.00   15.60   23.75   29.00       6 \n",
       "\n",
       "$Flexibilidade_MI\n",
       "   Min. 1st Qu.  Median    Mean 3rd Qu.    Max.    NA's \n",
       "   1.00    6.00   11.50   12.11   19.00   23.00       4 \n",
       "\n",
       "$TUG_sec\n",
       "   Min. 1st Qu.  Median    Mean 3rd Qu.    Max.    NA's \n",
       "   1.00   10.25   23.50   23.43   36.50   49.00       2 \n",
       "\n",
       "$DT_Sec\n",
       "   Min. 1st Qu.  Median    Mean 3rd Qu.    Max.    NA's \n",
       "   1.00    6.00   15.00   14.55   19.75   36.00       6 \n",
       "\n",
       "$DT_numero_animais\n",
       "   Min. 1st Qu.  Median    Mean 3rd Qu.    Max.    NA's \n",
       "  1.000   3.000   4.000   4.238   5.750   7.000       6 \n",
       "\n",
       "$quantidade_total_de_medicação\n",
       "   Min. 1st Qu.  Median    Mean 3rd Qu.    Max. \n",
       "  1.000   3.750   5.000   4.688   6.000  12.000 \n",
       "\n",
       "$medicaçao_tipo_cardiovascular\n",
       "            Anti + HAS                   Beta       Beta + Anti_Coag \n",
       "                     4                     13                      6 \n",
       "Beta + Anti_Coag + Diu        Beta + Anti_HAS \n",
       "                     7                     18 \n"
      ]
     },
     "metadata": {},
     "output_type": "display_data"
    },
    {
     "data": {
      "text/plain": [
       "$Caidor\n",
       "não sim \n",
       "  0  24 \n",
       "\n",
       "$Genero\n",
       " homem mulher \n",
       "    15      9 \n",
       "\n",
       "$idade\n",
       "   Min. 1st Qu.  Median    Mean 3rd Qu.    Max. \n",
       "   6.00   15.00   17.50   17.96   22.25   27.00 \n",
       "\n",
       "$Nivel_social\n",
       " a  b  c  d \n",
       " 3 15  5  1 \n",
       "\n",
       "$etnia\n",
       "branco  preto \n",
       "    19      5 \n",
       "\n",
       "$Nivel_educacional\n",
       "   Min. 1st Qu.  Median    Mean 3rd Qu.    Max. \n",
       "  1.000   3.000   6.000   5.208   6.250   9.000 \n",
       "\n",
       "$Freq_atividade\n",
       "        2x         3x sedentario \n",
       "        10         10          4 \n",
       "\n",
       "$Criterio_AHA\n",
       " b  c \n",
       "10 14 \n",
       "\n",
       "$Anti_hipertensivo\n",
       "não sim \n",
       "  7  17 \n",
       "\n",
       "$betabloqueador\n",
       "não sim \n",
       "  0  24 \n",
       "\n",
       "$Anticoagulante_classif\n",
       "não sim \n",
       "  5  19 \n",
       "\n",
       "$Diuretico_classif\n",
       "não sim \n",
       " 10  14 \n",
       "\n",
       "$medicação_tipo_mental\n",
       "         ansiolitico       antidepressivo antidepressivo+benzo \n",
       "                   1                    2                    4 \n",
       "    benzodiazepinico                  não \n",
       "                  13                    4 \n",
       "\n",
       "$medicação_tipo_saude\n",
       " cardio+mental cardiovascular \n",
       "            20              4 \n",
       "\n",
       "$antidepressivo\n",
       "não sim \n",
       " 18   6 \n",
       "\n",
       "$ansiolitico\n",
       "não sim \n",
       " 23   1 \n",
       "\n",
       "$benzodiazepinico\n",
       "não sim \n",
       "  8  16 \n",
       "\n",
       "$DVC_primaria\n",
       "aneurisma da aorta             angina           arritmia            infarto \n",
       "                 1                  0                 10                  4 \n",
       "     insuficiencia           isquemia               nada \n",
       "                 4                  3                  2 \n",
       "\n",
       "$HAS\n",
       "não sim \n",
       "  7  17 \n",
       "\n",
       "$Tempo_doença\n",
       "   Min. 1st Qu.  Median    Mean 3rd Qu.    Max. \n",
       "  1.000   5.000   9.000   9.708  14.250  20.000 \n",
       "\n",
       "$Doenca_Respi\n",
       "duas  não  sim três \n",
       "   1   19    3    1 \n",
       "\n",
       "$MMSE\n",
       "   Min. 1st Qu.  Median    Mean 3rd Qu.    Max. \n",
       "  1.000   5.750   8.000   6.792   8.250   9.000 \n",
       "\n",
       "$Fluencia_verbal\n",
       "   Min. 1st Qu.  Median    Mean 3rd Qu.    Max. \n",
       "   1.00    5.75    9.00    9.00   11.00   20.00 \n",
       "\n",
       "$Trilhas_A\n",
       "   Min. 1st Qu.  Median    Mean 3rd Qu.    Max. \n",
       "   6.00   12.75   29.50   28.04   40.50   48.00 \n",
       "\n",
       "$Trilhas_b\n",
       "   Min. 1st Qu.  Median    Mean 3rd Qu.    Max. \n",
       "   7.00   25.25   36.50   33.62   45.25   47.00 \n",
       "\n",
       "$GDS\n",
       "   Min. 1st Qu.  Median    Mean 3rd Qu.    Max. \n",
       "  1.000   1.000   3.500   5.375   8.500  15.000 \n",
       "\n",
       "$FES_I\n",
       "   Min. 1st Qu.  Median    Mean 3rd Qu.    Max. \n",
       "   1.00    1.00    3.50    5.75   10.50   15.00 \n",
       "\n",
       "$Vsaq\n",
       "   Min. 1st Qu.  Median    Mean 3rd Qu.    Max. \n",
       "  1.000   3.000   4.000   4.125   5.000   9.000 \n",
       "\n",
       "$Vo2_maximo_avaliado\n",
       "   Min. 1st Qu.  Median    Mean 3rd Qu.    Max.    NA's \n",
       "    1.0     7.0    12.0    14.1    20.0    37.0       3 \n",
       "\n",
       "$IMC\n",
       "   Min. 1st Qu.  Median    Mean 3rd Qu.    Max. \n",
       "   3.00   12.75   24.00   22.08   31.50   42.00 \n",
       "\n",
       "$Dinamometria\n",
       "   Min. 1st Qu.  Median    Mean 3rd Qu.    Max. \n",
       "   1.00   10.75   20.50   21.79   30.25   49.00 \n",
       "\n",
       "$Berg\n",
       "   Min. 1st Qu.  Median    Mean 3rd Qu.    Max. \n",
       "  1.000   7.750  11.000   9.417  12.000  13.000 \n",
       "\n",
       "$STS\n",
       "   Min. 1st Qu.  Median    Mean 3rd Qu.    Max.    NA's \n",
       "  2.000   4.000   6.000   6.261   9.000  10.000       1 \n",
       "\n",
       "$Flexibilidade_Ms\n",
       "   Min. 1st Qu.  Median    Mean 3rd Qu.    Max.    NA's \n",
       "   2.00   10.50   15.00   14.86   20.75   26.00       2 \n",
       "\n",
       "$Flexibilidade_MI\n",
       "   Min. 1st Qu.  Median    Mean 3rd Qu.    Max. \n",
       "   2.00    7.75   12.00   11.71   15.25   20.00 \n",
       "\n",
       "$TUG_sec\n",
       "   Min. 1st Qu.  Median    Mean 3rd Qu.    Max. \n",
       "  13.00   23.75   33.50   32.88   43.25   49.00 \n",
       "\n",
       "$DT_Sec\n",
       "   Min. 1st Qu.  Median    Mean 3rd Qu.    Max. \n",
       "  10.00   15.75   23.00   22.96   27.75   37.00 \n",
       "\n",
       "$DT_numero_animais\n",
       "   Min. 1st Qu.  Median    Mean 3rd Qu.    Max. \n",
       "  1.000   3.000   4.500   4.333   5.250   8.000 \n",
       "\n",
       "$quantidade_total_de_medicação\n",
       "   Min. 1st Qu.  Median    Mean 3rd Qu.    Max. \n",
       "   1.00    4.00    5.50    5.75    7.00   11.00 \n",
       "\n",
       "$medicaçao_tipo_cardiovascular\n",
       "            Anti + HAS                   Beta       Beta + Anti_Coag \n",
       "                     0                      2                      6 \n",
       "Beta + Anti_Coag + Diu        Beta + Anti_HAS \n",
       "                    13                      3 \n"
      ]
     },
     "metadata": {},
     "output_type": "display_data"
    }
   ],
   "source": [
    "controle<- grep(\"não\",bd$Caidor)\n",
    "caso<- grep(\"sim\",bd$Caidor)\n",
    "bd_controle<- bd[controle,]\n",
    "bd_caso<- bd[caso,]\n",
    "dim(bd_controle)\n",
    "dim(bd_caso)\n",
    "\n",
    "#Mínimo, máximo, média, mediana e intervalo quartil das variáveis (numéricas)\n",
    "sapply(bd_controle,summary)\n",
    "sapply(bd_caso,summary)"
   ]
  },
  {
   "cell_type": "code",
   "execution_count": 10,
   "metadata": {},
   "outputs": [
    {
     "data": {
      "text/html": [
       "<style>\n",
       ".dl-inline {width: auto; margin:0; padding: 0}\n",
       ".dl-inline>dt, .dl-inline>dd {float: none; width: auto; display: inline-block}\n",
       ".dl-inline>dt::after {content: \":\\0020\"; padding-right: .5ex}\n",
       ".dl-inline>dt:not(:first-of-type) {padding-left: .5ex}\n",
       "</style><dl class=dl-inline><dt>idade</dt><dd>7.00148793709832</dd><dt>Nivel_educacional</dt><dd>2.12716306263424</dd><dt>Tempo_doença</dt><dd>5.39092355145096</dd><dt>MMSE</dt><dd>&lt;NA&gt;</dd><dt>Fluencia_verbal</dt><dd>5.54570787966016</dd><dt>Trilhas_A</dt><dd>&lt;NA&gt;</dd><dt>Trilhas_b</dt><dd>&lt;NA&gt;</dd><dt>GDS</dt><dd>&lt;NA&gt;</dd><dt>FES_I</dt><dd>&lt;NA&gt;</dd><dt>Vsaq</dt><dd>1.52287522015765</dd><dt>Vo2_maximo_avaliado</dt><dd>&lt;NA&gt;</dd><dt>IMC</dt><dd>11.7740059585536</dd><dt>Dinamometria</dt><dd>13.6434946699337</dd><dt>Berg</dt><dd>2.17568363756777</dd><dt>STS</dt><dd>&lt;NA&gt;</dd><dt>Flexibilidade_Ms</dt><dd>&lt;NA&gt;</dd><dt>Flexibilidade_MI</dt><dd>&lt;NA&gt;</dd><dt>TUG_sec</dt><dd>&lt;NA&gt;</dd><dt>DT_Sec</dt><dd>&lt;NA&gt;</dd><dt>DT_numero_animais</dt><dd>&lt;NA&gt;</dd><dt>quantidade_total_de_medicação</dt><dd>2.12539107790603</dd></dl>\n"
      ],
      "text/latex": [
       "\\begin{description*}\n",
       "\\item[idade] 7.00148793709832\n",
       "\\item[Nivel\\textbackslash{}\\_educacional] 2.12716306263424\n",
       "\\item[Tempo\\textbackslash{}\\_doença] 5.39092355145096\n",
       "\\item[MMSE] <NA>\n",
       "\\item[Fluencia\\textbackslash{}\\_verbal] 5.54570787966016\n",
       "\\item[Trilhas\\textbackslash{}\\_A] <NA>\n",
       "\\item[Trilhas\\textbackslash{}\\_b] <NA>\n",
       "\\item[GDS] <NA>\n",
       "\\item[FES\\textbackslash{}\\_I] <NA>\n",
       "\\item[Vsaq] 1.52287522015765\n",
       "\\item[Vo2\\textbackslash{}\\_maximo\\textbackslash{}\\_avaliado] <NA>\n",
       "\\item[IMC] 11.7740059585536\n",
       "\\item[Dinamometria] 13.6434946699337\n",
       "\\item[Berg] 2.17568363756777\n",
       "\\item[STS] <NA>\n",
       "\\item[Flexibilidade\\textbackslash{}\\_Ms] <NA>\n",
       "\\item[Flexibilidade\\textbackslash{}\\_MI] <NA>\n",
       "\\item[TUG\\textbackslash{}\\_sec] <NA>\n",
       "\\item[DT\\textbackslash{}\\_Sec] <NA>\n",
       "\\item[DT\\textbackslash{}\\_numero\\textbackslash{}\\_animais] <NA>\n",
       "\\item[quantidade\\textbackslash{}\\_total\\textbackslash{}\\_de\\textbackslash{}\\_medicação] 2.12539107790603\n",
       "\\end{description*}\n"
      ],
      "text/markdown": [
       "idade\n",
       ":   7.00148793709832Nivel_educacional\n",
       ":   2.12716306263424Tempo_doença\n",
       ":   5.39092355145096MMSE\n",
       ":   &lt;NA&gt;Fluencia_verbal\n",
       ":   5.54570787966016Trilhas_A\n",
       ":   &lt;NA&gt;Trilhas_b\n",
       ":   &lt;NA&gt;GDS\n",
       ":   &lt;NA&gt;FES_I\n",
       ":   &lt;NA&gt;Vsaq\n",
       ":   1.52287522015765Vo2_maximo_avaliado\n",
       ":   &lt;NA&gt;IMC\n",
       ":   11.7740059585536Dinamometria\n",
       ":   13.6434946699337Berg\n",
       ":   2.17568363756777STS\n",
       ":   &lt;NA&gt;Flexibilidade_Ms\n",
       ":   &lt;NA&gt;Flexibilidade_MI\n",
       ":   &lt;NA&gt;TUG_sec\n",
       ":   &lt;NA&gt;DT_Sec\n",
       ":   &lt;NA&gt;DT_numero_animais\n",
       ":   &lt;NA&gt;quantidade_total_de_medicação\n",
       ":   2.12539107790603\n",
       "\n"
      ],
      "text/plain": [
       "                        idade             Nivel_educacional \n",
       "                     7.001488                      2.127163 \n",
       "                 Tempo_doença                          MMSE \n",
       "                     5.390924                            NA \n",
       "              Fluencia_verbal                     Trilhas_A \n",
       "                     5.545708                            NA \n",
       "                    Trilhas_b                           GDS \n",
       "                           NA                            NA \n",
       "                        FES_I                          Vsaq \n",
       "                           NA                      1.522875 \n",
       "          Vo2_maximo_avaliado                           IMC \n",
       "                           NA                     11.774006 \n",
       "                 Dinamometria                          Berg \n",
       "                    13.643495                      2.175684 \n",
       "                          STS              Flexibilidade_Ms \n",
       "                           NA                            NA \n",
       "             Flexibilidade_MI                       TUG_sec \n",
       "                           NA                            NA \n",
       "                       DT_Sec             DT_numero_animais \n",
       "                           NA                            NA \n",
       "quantidade_total_de_medicação \n",
       "                     2.125391 "
      ]
     },
     "metadata": {},
     "output_type": "display_data"
    },
    {
     "data": {
      "text/html": [
       "<style>\n",
       ".dl-inline {width: auto; margin:0; padding: 0}\n",
       ".dl-inline>dt, .dl-inline>dd {float: none; width: auto; display: inline-block}\n",
       ".dl-inline>dt::after {content: \":\\0020\"; padding-right: .5ex}\n",
       ".dl-inline>dt:not(:first-of-type) {padding-left: .5ex}\n",
       "</style><dl class=dl-inline><dt>idade</dt><dd>5.22934168827718</dd><dt>Nivel_educacional</dt><dd>2.34018146205851</dd><dt>Tempo_doença</dt><dd>5.74440496533776</dd><dt>MMSE</dt><dd>2.35868730379876</dd><dt>Fluencia_verbal</dt><dd>4.32384691841802</dd><dt>Trilhas_A</dt><dd>14.4868130940931</dd><dt>Trilhas_b</dt><dd>13.1142554364392</dd><dt>GDS</dt><dd>4.7348155466575</dd><dt>FES_I</dt><dd>5.1604684654214</dd><dt>Vsaq</dt><dd>1.7523276445668</dd><dt>Vo2_maximo_avaliado</dt><dd>&lt;NA&gt;</dd><dt>IMC</dt><dd>11.5152702649726</dd><dt>Dinamometria</dt><dd>13.4487082510994</dd><dt>Berg</dt><dd>3.56207885891111</dd><dt>STS</dt><dd>&lt;NA&gt;</dd><dt>Flexibilidade_Ms</dt><dd>&lt;NA&gt;</dd><dt>Flexibilidade_MI</dt><dd>5.22102077864229</dd><dt>TUG_sec</dt><dd>11.4751622134978</dd><dt>DT_Sec</dt><dd>8.02972286416924</dd><dt>DT_numero_animais</dt><dd>2.11961166801573</dd><dt>quantidade_total_de_medicação</dt><dd>2.30783165688525</dd></dl>\n"
      ],
      "text/latex": [
       "\\begin{description*}\n",
       "\\item[idade] 5.22934168827718\n",
       "\\item[Nivel\\textbackslash{}\\_educacional] 2.34018146205851\n",
       "\\item[Tempo\\textbackslash{}\\_doença] 5.74440496533776\n",
       "\\item[MMSE] 2.35868730379876\n",
       "\\item[Fluencia\\textbackslash{}\\_verbal] 4.32384691841802\n",
       "\\item[Trilhas\\textbackslash{}\\_A] 14.4868130940931\n",
       "\\item[Trilhas\\textbackslash{}\\_b] 13.1142554364392\n",
       "\\item[GDS] 4.7348155466575\n",
       "\\item[FES\\textbackslash{}\\_I] 5.1604684654214\n",
       "\\item[Vsaq] 1.7523276445668\n",
       "\\item[Vo2\\textbackslash{}\\_maximo\\textbackslash{}\\_avaliado] <NA>\n",
       "\\item[IMC] 11.5152702649726\n",
       "\\item[Dinamometria] 13.4487082510994\n",
       "\\item[Berg] 3.56207885891111\n",
       "\\item[STS] <NA>\n",
       "\\item[Flexibilidade\\textbackslash{}\\_Ms] <NA>\n",
       "\\item[Flexibilidade\\textbackslash{}\\_MI] 5.22102077864229\n",
       "\\item[TUG\\textbackslash{}\\_sec] 11.4751622134978\n",
       "\\item[DT\\textbackslash{}\\_Sec] 8.02972286416924\n",
       "\\item[DT\\textbackslash{}\\_numero\\textbackslash{}\\_animais] 2.11961166801573\n",
       "\\item[quantidade\\textbackslash{}\\_total\\textbackslash{}\\_de\\textbackslash{}\\_medicação] 2.30783165688525\n",
       "\\end{description*}\n"
      ],
      "text/markdown": [
       "idade\n",
       ":   5.22934168827718Nivel_educacional\n",
       ":   2.34018146205851Tempo_doença\n",
       ":   5.74440496533776MMSE\n",
       ":   2.35868730379876Fluencia_verbal\n",
       ":   4.32384691841802Trilhas_A\n",
       ":   14.4868130940931Trilhas_b\n",
       ":   13.1142554364392GDS\n",
       ":   4.7348155466575FES_I\n",
       ":   5.1604684654214Vsaq\n",
       ":   1.7523276445668Vo2_maximo_avaliado\n",
       ":   &lt;NA&gt;IMC\n",
       ":   11.5152702649726Dinamometria\n",
       ":   13.4487082510994Berg\n",
       ":   3.56207885891111STS\n",
       ":   &lt;NA&gt;Flexibilidade_Ms\n",
       ":   &lt;NA&gt;Flexibilidade_MI\n",
       ":   5.22102077864229TUG_sec\n",
       ":   11.4751622134978DT_Sec\n",
       ":   8.02972286416924DT_numero_animais\n",
       ":   2.11961166801573quantidade_total_de_medicação\n",
       ":   2.30783165688525\n",
       "\n"
      ],
      "text/plain": [
       "                        idade             Nivel_educacional \n",
       "                     5.229342                      2.340181 \n",
       "                 Tempo_doença                          MMSE \n",
       "                     5.744405                      2.358687 \n",
       "              Fluencia_verbal                     Trilhas_A \n",
       "                     4.323847                     14.486813 \n",
       "                    Trilhas_b                           GDS \n",
       "                    13.114255                      4.734816 \n",
       "                        FES_I                          Vsaq \n",
       "                     5.160468                      1.752328 \n",
       "          Vo2_maximo_avaliado                           IMC \n",
       "                           NA                     11.515270 \n",
       "                 Dinamometria                          Berg \n",
       "                    13.448708                      3.562079 \n",
       "                          STS              Flexibilidade_Ms \n",
       "                           NA                            NA \n",
       "             Flexibilidade_MI                       TUG_sec \n",
       "                     5.221021                     11.475162 \n",
       "                       DT_Sec             DT_numero_animais \n",
       "                     8.029723                      2.119612 \n",
       "quantidade_total_de_medicação \n",
       "                     2.307832 "
      ]
     },
     "metadata": {},
     "output_type": "display_data"
    }
   ],
   "source": [
    "#Desvio padrão\n",
    "sapply(bd_controle[,c(\"idade\",\"Nivel_educacional\",\"Tempo_doença\",\"MMSE\",\"Fluencia_verbal\",\"Trilhas_A\",\"Trilhas_b\",\"GDS\",\"FES_I\",\"Vsaq\",\"Vo2_maximo_avaliado\",\"IMC\",\"Dinamometria\",\"Berg\",\"STS\",\"Flexibilidade_Ms\",\"Flexibilidade_MI\",\"TUG_sec\",\"DT_Sec\",\"DT_numero_animais\",\"quantidade_total_de_medicação\")],sd)\n",
    "sapply(bd_caso[,c(\"idade\",\"Nivel_educacional\",\"Tempo_doença\",\"MMSE\",\"Fluencia_verbal\",\"Trilhas_A\",\"Trilhas_b\",\"GDS\",\"FES_I\",\"Vsaq\",\"Vo2_maximo_avaliado\",\"IMC\",\"Dinamometria\",\"Berg\",\"STS\",\"Flexibilidade_Ms\",\"Flexibilidade_MI\",\"TUG_sec\",\"DT_Sec\",\"DT_numero_animais\",\"quantidade_total_de_medicação\")],sd)"
   ]
  },
  {
   "cell_type": "code",
   "execution_count": 11,
   "metadata": {},
   "outputs": [
    {
     "data": {
      "text/html": [
       "62.5"
      ],
      "text/latex": [
       "62.5"
      ],
      "text/markdown": [
       "62.5"
      ],
      "text/plain": [
       "[1] 62.5"
      ]
     },
     "metadata": {},
     "output_type": "display_data"
    },
    {
     "data": {
      "text/html": [
       "79.1666666666667"
      ],
      "text/latex": [
       "79.1666666666667"
      ],
      "text/markdown": [
       "79.1666666666667"
      ],
      "text/plain": [
       "[1] 79.16667"
      ]
     },
     "metadata": {},
     "output_type": "display_data"
    },
    {
     "data": {
      "text/html": [
       "20.8333333333333"
      ],
      "text/latex": [
       "20.8333333333333"
      ],
      "text/markdown": [
       "20.8333333333333"
      ],
      "text/plain": [
       "[1] 20.83333"
      ]
     },
     "metadata": {},
     "output_type": "display_data"
    },
    {
     "data": {
      "text/html": [
       "41.6666666666667"
      ],
      "text/latex": [
       "41.6666666666667"
      ],
      "text/markdown": [
       "41.6666666666667"
      ],
      "text/plain": [
       "[1] 41.66667"
      ]
     },
     "metadata": {},
     "output_type": "display_data"
    },
    {
     "data": {
      "text/html": [
       "41.6666666666667"
      ],
      "text/latex": [
       "41.6666666666667"
      ],
      "text/markdown": [
       "41.6666666666667"
      ],
      "text/plain": [
       "[1] 41.66667"
      ]
     },
     "metadata": {},
     "output_type": "display_data"
    },
    {
     "data": {
      "text/html": [
       "16.6666666666667"
      ],
      "text/latex": [
       "16.6666666666667"
      ],
      "text/markdown": [
       "16.6666666666667"
      ],
      "text/plain": [
       "[1] 16.66667"
      ]
     },
     "metadata": {},
     "output_type": "display_data"
    },
    {
     "data": {
      "text/html": [
       "70.8333333333333"
      ],
      "text/latex": [
       "70.8333333333333"
      ],
      "text/markdown": [
       "70.8333333333333"
      ],
      "text/plain": [
       "[1] 70.83333"
      ]
     },
     "metadata": {},
     "output_type": "display_data"
    },
    {
     "data": {
      "text/html": [
       "100"
      ],
      "text/latex": [
       "100"
      ],
      "text/markdown": [
       "100"
      ],
      "text/plain": [
       "[1] 100"
      ]
     },
     "metadata": {},
     "output_type": "display_data"
    },
    {
     "data": {
      "text/html": [
       "79.1666666666667"
      ],
      "text/latex": [
       "79.1666666666667"
      ],
      "text/markdown": [
       "79.1666666666667"
      ],
      "text/plain": [
       "[1] 79.16667"
      ]
     },
     "metadata": {},
     "output_type": "display_data"
    },
    {
     "data": {
      "text/html": [
       "58.3333333333333"
      ],
      "text/latex": [
       "58.3333333333333"
      ],
      "text/markdown": [
       "58.3333333333333"
      ],
      "text/plain": [
       "[1] 58.33333"
      ]
     },
     "metadata": {},
     "output_type": "display_data"
    },
    {
     "data": {
      "text/html": [
       "41.6666666666667"
      ],
      "text/latex": [
       "41.6666666666667"
      ],
      "text/markdown": [
       "41.6666666666667"
      ],
      "text/plain": [
       "[1] 41.66667"
      ]
     },
     "metadata": {},
     "output_type": "display_data"
    },
    {
     "data": {
      "text/html": [
       "58.3333333333333"
      ],
      "text/latex": [
       "58.3333333333333"
      ],
      "text/markdown": [
       "58.3333333333333"
      ],
      "text/plain": [
       "[1] 58.33333"
      ]
     },
     "metadata": {},
     "output_type": "display_data"
    },
    {
     "data": {
      "text/html": [
       "16.6666666666667"
      ],
      "text/latex": [
       "16.6666666666667"
      ],
      "text/markdown": [
       "16.6666666666667"
      ],
      "text/plain": [
       "[1] 16.66667"
      ]
     },
     "metadata": {},
     "output_type": "display_data"
    },
    {
     "data": {
      "text/html": [
       "83.3333333333333"
      ],
      "text/latex": [
       "83.3333333333333"
      ],
      "text/markdown": [
       "83.3333333333333"
      ],
      "text/plain": [
       "[1] 83.33333"
      ]
     },
     "metadata": {},
     "output_type": "display_data"
    },
    {
     "data": {
      "text/html": [
       "4.16666666666667"
      ],
      "text/latex": [
       "4.16666666666667"
      ],
      "text/markdown": [
       "4.16666666666667"
      ],
      "text/plain": [
       "[1] 4.166667"
      ]
     },
     "metadata": {},
     "output_type": "display_data"
    },
    {
     "data": {
      "text/html": [
       "8.33333333333333"
      ],
      "text/latex": [
       "8.33333333333333"
      ],
      "text/markdown": [
       "8.33333333333333"
      ],
      "text/plain": [
       "[1] 8.333333"
      ]
     },
     "metadata": {},
     "output_type": "display_data"
    },
    {
     "data": {
      "text/html": [
       "16.6666666666667"
      ],
      "text/latex": [
       "16.6666666666667"
      ],
      "text/markdown": [
       "16.6666666666667"
      ],
      "text/plain": [
       "[1] 16.66667"
      ]
     },
     "metadata": {},
     "output_type": "display_data"
    },
    {
     "data": {
      "text/html": [
       "54.1666666666667"
      ],
      "text/latex": [
       "54.1666666666667"
      ],
      "text/markdown": [
       "54.1666666666667"
      ],
      "text/plain": [
       "[1] 54.16667"
      ]
     },
     "metadata": {},
     "output_type": "display_data"
    },
    {
     "data": {
      "text/html": [
       "16.6666666666667"
      ],
      "text/latex": [
       "16.6666666666667"
      ],
      "text/markdown": [
       "16.6666666666667"
      ],
      "text/plain": [
       "[1] 16.66667"
      ]
     },
     "metadata": {},
     "output_type": "display_data"
    },
    {
     "data": {
      "text/html": [
       "58.3333333333333"
      ],
      "text/latex": [
       "58.3333333333333"
      ],
      "text/markdown": [
       "58.3333333333333"
      ],
      "text/plain": [
       "[1] 58.33333"
      ]
     },
     "metadata": {},
     "output_type": "display_data"
    },
    {
     "data": {
      "text/html": [
       "58.3333333333333"
      ],
      "text/latex": [
       "58.3333333333333"
      ],
      "text/markdown": [
       "58.3333333333333"
      ],
      "text/plain": [
       "[1] 58.33333"
      ]
     },
     "metadata": {},
     "output_type": "display_data"
    },
    {
     "data": {
      "text/html": [
       "87.5"
      ],
      "text/latex": [
       "87.5"
      ],
      "text/markdown": [
       "87.5"
      ],
      "text/plain": [
       "[1] 87.5"
      ]
     },
     "metadata": {},
     "output_type": "display_data"
    },
    {
     "data": {
      "text/html": [
       "12.5"
      ],
      "text/latex": [
       "12.5"
      ],
      "text/markdown": [
       "12.5"
      ],
      "text/plain": [
       "[1] 12.5"
      ]
     },
     "metadata": {},
     "output_type": "display_data"
    },
    {
     "data": {
      "text/html": [
       "22.9166666666667"
      ],
      "text/latex": [
       "22.9166666666667"
      ],
      "text/markdown": [
       "22.9166666666667"
      ],
      "text/plain": [
       "[1] 22.91667"
      ]
     },
     "metadata": {},
     "output_type": "display_data"
    },
    {
     "data": {
      "text/html": [
       "50"
      ],
      "text/latex": [
       "50"
      ],
      "text/markdown": [
       "50"
      ],
      "text/plain": [
       "[1] 50"
      ]
     },
     "metadata": {},
     "output_type": "display_data"
    },
    {
     "data": {
      "text/html": [
       "27.0833333333333"
      ],
      "text/latex": [
       "27.0833333333333"
      ],
      "text/markdown": [
       "27.0833333333333"
      ],
      "text/plain": [
       "[1] 27.08333"
      ]
     },
     "metadata": {},
     "output_type": "display_data"
    },
    {
     "data": {
      "text/html": [
       "83.3333333333333"
      ],
      "text/latex": [
       "83.3333333333333"
      ],
      "text/markdown": [
       "83.3333333333333"
      ],
      "text/plain": [
       "[1] 83.33333"
      ]
     },
     "metadata": {},
     "output_type": "display_data"
    },
    {
     "data": {
      "text/html": [
       "87.5"
      ],
      "text/latex": [
       "87.5"
      ],
      "text/markdown": [
       "87.5"
      ],
      "text/plain": [
       "[1] 87.5"
      ]
     },
     "metadata": {},
     "output_type": "display_data"
    },
    {
     "data": {
      "text/html": [
       "25"
      ],
      "text/latex": [
       "25"
      ],
      "text/markdown": [
       "25"
      ],
      "text/plain": [
       "[1] 25"
      ]
     },
     "metadata": {},
     "output_type": "display_data"
    },
    {
     "data": {
      "text/html": [
       "20.8333333333333"
      ],
      "text/latex": [
       "20.8333333333333"
      ],
      "text/markdown": [
       "20.8333333333333"
      ],
      "text/plain": [
       "[1] 20.83333"
      ]
     },
     "metadata": {},
     "output_type": "display_data"
    },
    {
     "data": {
      "text/html": [
       "81.25"
      ],
      "text/latex": [
       "81.25"
      ],
      "text/markdown": [
       "81.25"
      ],
      "text/plain": [
       "[1] 81.25"
      ]
     },
     "metadata": {},
     "output_type": "display_data"
    },
    {
     "data": {
      "text/html": [
       "18.75"
      ],
      "text/latex": [
       "18.75"
      ],
      "text/markdown": [
       "18.75"
      ],
      "text/plain": [
       "[1] 18.75"
      ]
     },
     "metadata": {},
     "output_type": "display_data"
    },
    {
     "data": {
      "text/html": [
       "52.0833333333333"
      ],
      "text/latex": [
       "52.0833333333333"
      ],
      "text/markdown": [
       "52.0833333333333"
      ],
      "text/plain": [
       "[1] 52.08333"
      ]
     },
     "metadata": {},
     "output_type": "display_data"
    },
    {
     "data": {
      "text/html": [
       "47.9166666666667"
      ],
      "text/latex": [
       "47.9166666666667"
      ],
      "text/markdown": [
       "47.9166666666667"
      ],
      "text/plain": [
       "[1] 47.91667"
      ]
     },
     "metadata": {},
     "output_type": "display_data"
    },
    {
     "data": {
      "text/html": [
       "2.08333333333333"
      ],
      "text/latex": [
       "2.08333333333333"
      ],
      "text/markdown": [
       "2.08333333333333"
      ],
      "text/plain": [
       "[1] 2.083333"
      ]
     },
     "metadata": {},
     "output_type": "display_data"
    },
    {
     "data": {
      "text/html": [
       "6.25"
      ],
      "text/latex": [
       "6.25"
      ],
      "text/markdown": [
       "6.25"
      ],
      "text/plain": [
       "[1] 6.25"
      ]
     },
     "metadata": {},
     "output_type": "display_data"
    },
    {
     "data": {
      "text/html": [
       "8.33333333333333"
      ],
      "text/latex": [
       "8.33333333333333"
      ],
      "text/markdown": [
       "8.33333333333333"
      ],
      "text/plain": [
       "[1] 8.333333"
      ]
     },
     "metadata": {},
     "output_type": "display_data"
    },
    {
     "data": {
      "text/html": [
       "31.25"
      ],
      "text/latex": [
       "31.25"
      ],
      "text/markdown": [
       "31.25"
      ],
      "text/plain": [
       "[1] 31.25"
      ]
     },
     "metadata": {},
     "output_type": "display_data"
    },
    {
     "data": {
      "text/html": [
       "52.0833333333333"
      ],
      "text/latex": [
       "52.0833333333333"
      ],
      "text/markdown": [
       "52.0833333333333"
      ],
      "text/plain": [
       "[1] 52.08333"
      ]
     },
     "metadata": {},
     "output_type": "display_data"
    },
    {
     "data": {
      "text/html": [
       "87.5"
      ],
      "text/latex": [
       "87.5"
      ],
      "text/markdown": [
       "87.5"
      ],
      "text/plain": [
       "[1] 87.5"
      ]
     },
     "metadata": {},
     "output_type": "display_data"
    },
    {
     "data": {
      "text/html": [
       "12.5"
      ],
      "text/latex": [
       "12.5"
      ],
      "text/markdown": [
       "12.5"
      ],
      "text/plain": [
       "[1] 12.5"
      ]
     },
     "metadata": {},
     "output_type": "display_data"
    },
    {
     "data": {
      "text/html": [
       "22.9166666666667"
      ],
      "text/latex": [
       "22.9166666666667"
      ],
      "text/markdown": [
       "22.9166666666667"
      ],
      "text/plain": [
       "[1] 22.91667"
      ]
     },
     "metadata": {},
     "output_type": "display_data"
    },
    {
     "data": {
      "text/html": [
       "50"
      ],
      "text/latex": [
       "50"
      ],
      "text/markdown": [
       "50"
      ],
      "text/plain": [
       "[1] 50"
      ]
     },
     "metadata": {},
     "output_type": "display_data"
    },
    {
     "data": {
      "text/html": [
       "27.0833333333333"
      ],
      "text/latex": [
       "27.0833333333333"
      ],
      "text/markdown": [
       "27.0833333333333"
      ],
      "text/plain": [
       "[1] 27.08333"
      ]
     },
     "metadata": {},
     "output_type": "display_data"
    },
    {
     "data": {
      "text/html": [
       "83.3333333333333"
      ],
      "text/latex": [
       "83.3333333333333"
      ],
      "text/markdown": [
       "83.3333333333333"
      ],
      "text/plain": [
       "[1] 83.33333"
      ]
     },
     "metadata": {},
     "output_type": "display_data"
    },
    {
     "data": {
      "text/html": [
       "87.5"
      ],
      "text/latex": [
       "87.5"
      ],
      "text/markdown": [
       "87.5"
      ],
      "text/plain": [
       "[1] 87.5"
      ]
     },
     "metadata": {},
     "output_type": "display_data"
    },
    {
     "data": {
      "text/html": [
       "25"
      ],
      "text/latex": [
       "25"
      ],
      "text/markdown": [
       "25"
      ],
      "text/plain": [
       "[1] 25"
      ]
     },
     "metadata": {},
     "output_type": "display_data"
    },
    {
     "data": {
      "text/html": [
       "20.8333333333333"
      ],
      "text/latex": [
       "20.8333333333333"
      ],
      "text/markdown": [
       "20.8333333333333"
      ],
      "text/plain": [
       "[1] 20.83333"
      ]
     },
     "metadata": {},
     "output_type": "display_data"
    },
    {
     "data": {
      "text/html": [
       "81.25"
      ],
      "text/latex": [
       "81.25"
      ],
      "text/markdown": [
       "81.25"
      ],
      "text/plain": [
       "[1] 81.25"
      ]
     },
     "metadata": {},
     "output_type": "display_data"
    },
    {
     "data": {
      "text/html": [
       "18.75"
      ],
      "text/latex": [
       "18.75"
      ],
      "text/markdown": [
       "18.75"
      ],
      "text/plain": [
       "[1] 18.75"
      ]
     },
     "metadata": {},
     "output_type": "display_data"
    },
    {
     "data": {
      "text/html": [
       "52.0833333333333"
      ],
      "text/latex": [
       "52.0833333333333"
      ],
      "text/markdown": [
       "52.0833333333333"
      ],
      "text/plain": [
       "[1] 52.08333"
      ]
     },
     "metadata": {},
     "output_type": "display_data"
    },
    {
     "data": {
      "text/html": [
       "47.9166666666667"
      ],
      "text/latex": [
       "47.9166666666667"
      ],
      "text/markdown": [
       "47.9166666666667"
      ],
      "text/plain": [
       "[1] 47.91667"
      ]
     },
     "metadata": {},
     "output_type": "display_data"
    },
    {
     "data": {
      "text/html": [
       "2.08333333333333"
      ],
      "text/latex": [
       "2.08333333333333"
      ],
      "text/markdown": [
       "2.08333333333333"
      ],
      "text/plain": [
       "[1] 2.083333"
      ]
     },
     "metadata": {},
     "output_type": "display_data"
    },
    {
     "data": {
      "text/html": [
       "6.25"
      ],
      "text/latex": [
       "6.25"
      ],
      "text/markdown": [
       "6.25"
      ],
      "text/plain": [
       "[1] 6.25"
      ]
     },
     "metadata": {},
     "output_type": "display_data"
    },
    {
     "data": {
      "text/html": [
       "8.33333333333333"
      ],
      "text/latex": [
       "8.33333333333333"
      ],
      "text/markdown": [
       "8.33333333333333"
      ],
      "text/plain": [
       "[1] 8.333333"
      ]
     },
     "metadata": {},
     "output_type": "display_data"
    },
    {
     "data": {
      "text/html": [
       "31.25"
      ],
      "text/latex": [
       "31.25"
      ],
      "text/markdown": [
       "31.25"
      ],
      "text/plain": [
       "[1] 31.25"
      ]
     },
     "metadata": {},
     "output_type": "display_data"
    },
    {
     "data": {
      "text/html": [
       "52.0833333333333"
      ],
      "text/latex": [
       "52.0833333333333"
      ],
      "text/markdown": [
       "52.0833333333333"
      ],
      "text/plain": [
       "[1] 52.08333"
      ]
     },
     "metadata": {},
     "output_type": "display_data"
    }
   ],
   "source": [
    "#Percentual do n de cada classe para as variáveis categóricas \n",
    "\n",
    "#CASO (caidores)\n",
    "(15/24)*100 #Sexo masculino\n",
    "(19/24)*100 #Branco\n",
    "(5/24)*100 #Negro\n",
    "(10/24)*100 #Nível ativ. física (2x na semana)\n",
    "(10/24)*100 #Nível ativ. física (3x na semana)\n",
    "(4/24)*100 #Nível ativ. física (sedentário)\n",
    "(17/24)*100 #Anti-hipertensivo (sim)\n",
    "(24/24)*100 #Betabloqueador (sim)\n",
    "(19/24)*100 #Anticoagulante (sim)\n",
    "(14/24)*100 #Diurético (sim)\n",
    "(10/24)*100 #B\n",
    "(14/24)*100 #C\n",
    "#Doenças do sistema cardiovascular*** -> DVC_primaria? Se sim, não estão batendo os valores \n",
    "(4/24)*100 #Medicação para doença mental (não utiliza)\n",
    "(20/24)*100 #Medicação para doença mental (utiliza)\n",
    "(1/24)*100 #Tipos de medicamento para doença mental (ansiolitico)\n",
    "(2/24)*100 #Tipos de medicamento para doença mental (antidepressivo)\n",
    "(4/24)*100 #Tipos de medicamento para doença mental (antidepressivo+benzo)\n",
    "(13/24)*100 #Tipos de medicamento para doença mental (benzodiazepinico)\n",
    "(4/24)*100 #Tipos de medicamento para doença mental (não utiliza)\n",
    "\n",
    "#CONTROLE (não caidores)\n",
    "(28/48)*100 #Sexo masculino#CONTROLE (não caidores)\n",
    "(28/48)*100 #Sexo masculino\n",
    "(42/48)*100 #Branco\n",
    "(6/48)*100 #Negro\n",
    "(11/48)*100 #Nível ativ. física (2x na semana)\n",
    "(24/48)*100 #Nível ativ. física (3x na semana)\n",
    "(13/48)*100 #Nível ativ. física (sedentário)\n",
    "(40/48)*100 #Anti-hipertensivo (sim)\n",
    "(42/48)*100 #Betabloqueador (sim)\n",
    "(12/48)*100 #Anticoagulante (sim)\n",
    "(10/48)*100 #Diurético (sim)\n",
    "(39/48)*100 #B\n",
    "(9/48)*100 #C\n",
    "#Doenças do sistema cardiovascular*** -> DVC_primaria? Se sim, não estão batendo os valores \n",
    "(25/48)*100 #Medicação para doença mental (não utiliza)\n",
    "(23/48)*100 #Medicação para doença mental (utiliza)\n",
    "(1/48)*100 #Tipos de medicamento para doença mental (ansiolitico)\n",
    "(3/48)*100 #Tipos de medicamento para doença mental (antidepressivo)\n",
    "(4/48)*100 #Tipos de medicamento para doença mental (antidepressivo+benzo)\n",
    "(15/48)*100 #Tipos de medicamento para doença mental (benzodiazepinico)\n",
    "(25/48)*100 #Tipos de medicamento para doença mental (não utiliza)\n",
    "(42/48)*100 #Branco\n",
    "(6/48)*100 #Negro\n",
    "(11/48)*100 #Nível ativ. física (2x na semana)\n",
    "(24/48)*100 #Nível ativ. física (3x na semana)\n",
    "(13/48)*100 #Nível ativ. física (sedentário)\n",
    "(40/48)*100 #Anti-hipertensivo (sim)\n",
    "(42/48)*100 #Betabloqueador (sim)\n",
    "(12/48)*100 #Anticoagulante (sim)\n",
    "(10/48)*100 #Diurético (sim)\n",
    "(39/48)*100 #B\n",
    "(9/48)*100 #C\n",
    "#Doenças do sistema cardiovascular*** -> DVC_primaria? Se sim, não estão batendo os valores \n",
    "(25/48)*100 #Medicação para doença mental (não utiliza)\n",
    "(23/48)*100 #Medicação para doença mental (utiliza)\n",
    "(1/48)*100 #Tipos de medicamento para doença mental (ansiolitico)\n",
    "(3/48)*100 #Tipos de medicamento para doença mental (antidepressivo)\n",
    "(4/48)*100 #Tipos de medicamento para doença mental (antidepressivo+benzo)\n",
    "(15/48)*100 #Tipos de medicamento para doença mental (benzodiazepinico)\n",
    "(25/48)*100 #Tipos de medicamento para doença mental (não utiliza)\n"
   ]
  },
  {
   "cell_type": "markdown",
   "metadata": {},
   "source": [
    "# Testes de normalidade, de homocedasticidade, X², t-test e Mann-Whitney U (*n total - com NA*) "
   ]
  },
  {
   "cell_type": "markdown",
   "metadata": {},
   "source": [
    "## Teste kolmogorov-Smirnov"
   ]
  },
  {
   "cell_type": "code",
   "execution_count": 12,
   "metadata": {},
   "outputs": [
    {
     "name": "stderr",
     "output_type": "stream",
     "text": [
      "Warning message in ks.test(bd_controle$idade, bd_caso$idade):\n",
      "\"cannot compute exact p-value with ties\"\n"
     ]
    },
    {
     "data": {
      "text/plain": [
       "\n",
       "\tTwo-sample Kolmogorov-Smirnov test\n",
       "\n",
       "data:  bd_controle$idade and bd_caso$idade\n",
       "D = 0.375, p-value = 0.02222\n",
       "alternative hypothesis: two-sided\n"
      ]
     },
     "metadata": {},
     "output_type": "display_data"
    },
    {
     "name": "stderr",
     "output_type": "stream",
     "text": [
      "Warning message in ks.test(bd_controle$Nivel_educacional, bd_caso$Nivel_educacional):\n",
      "\"cannot compute exact p-value with ties\"\n"
     ]
    },
    {
     "data": {
      "text/plain": [
       "\n",
       "\tTwo-sample Kolmogorov-Smirnov test\n",
       "\n",
       "data:  bd_controle$Nivel_educacional and bd_caso$Nivel_educacional\n",
       "D = 0.16667, p-value = 0.7658\n",
       "alternative hypothesis: two-sided\n"
      ]
     },
     "metadata": {},
     "output_type": "display_data"
    },
    {
     "name": "stderr",
     "output_type": "stream",
     "text": [
      "Warning message in ks.test(bd_controle$Tempo_doença, bd_caso$Tempo_doença):\n",
      "\"cannot compute exact p-value with ties\"\n"
     ]
    },
    {
     "data": {
      "text/plain": [
       "\n",
       "\tTwo-sample Kolmogorov-Smirnov test\n",
       "\n",
       "data:  bd_controle$Tempo_doença and bd_caso$Tempo_doença\n",
       "D = 0.29167, p-value = 0.1314\n",
       "alternative hypothesis: two-sided\n"
      ]
     },
     "metadata": {},
     "output_type": "display_data"
    },
    {
     "name": "stderr",
     "output_type": "stream",
     "text": [
      "Warning message in ks.test(bd_controle$MMSE, bd_caso$MMSE):\n",
      "\"cannot compute exact p-value with ties\"\n"
     ]
    },
    {
     "data": {
      "text/plain": [
       "\n",
       "\tTwo-sample Kolmogorov-Smirnov test\n",
       "\n",
       "data:  bd_controle$MMSE and bd_caso$MMSE\n",
       "D = 0.18617, p-value = 0.6406\n",
       "alternative hypothesis: two-sided\n"
      ]
     },
     "metadata": {},
     "output_type": "display_data"
    },
    {
     "name": "stderr",
     "output_type": "stream",
     "text": [
      "Warning message in ks.test(bd_controle$Fluencia_verbal, bd_caso$Fluencia_verbal):\n",
      "\"cannot compute exact p-value with ties\"\n"
     ]
    },
    {
     "data": {
      "text/plain": [
       "\n",
       "\tTwo-sample Kolmogorov-Smirnov test\n",
       "\n",
       "data:  bd_controle$Fluencia_verbal and bd_caso$Fluencia_verbal\n",
       "D = 0.39583, p-value = 0.01329\n",
       "alternative hypothesis: two-sided\n"
      ]
     },
     "metadata": {},
     "output_type": "display_data"
    },
    {
     "name": "stderr",
     "output_type": "stream",
     "text": [
      "Warning message in ks.test(bd_controle$Trilhas_A, bd_caso$Trilhas_A):\n",
      "\"cannot compute exact p-value with ties\"\n"
     ]
    },
    {
     "data": {
      "text/plain": [
       "\n",
       "\tTwo-sample Kolmogorov-Smirnov test\n",
       "\n",
       "data:  bd_controle$Trilhas_A and bd_caso$Trilhas_A\n",
       "D = 0.22429, p-value = 0.4011\n",
       "alternative hypothesis: two-sided\n"
      ]
     },
     "metadata": {},
     "output_type": "display_data"
    },
    {
     "name": "stderr",
     "output_type": "stream",
     "text": [
      "Warning message in ks.test(bd_controle$Trilhas_b, bd_caso$Trilhas_b):\n",
      "\"cannot compute exact p-value with ties\"\n"
     ]
    },
    {
     "data": {
      "text/plain": [
       "\n",
       "\tTwo-sample Kolmogorov-Smirnov test\n",
       "\n",
       "data:  bd_controle$Trilhas_b and bd_caso$Trilhas_b\n",
       "D = 0.45035, p-value = 0.003178\n",
       "alternative hypothesis: two-sided\n"
      ]
     },
     "metadata": {},
     "output_type": "display_data"
    },
    {
     "name": "stderr",
     "output_type": "stream",
     "text": [
      "Warning message in ks.test(bd_controle$GDS, bd_caso$GDS):\n",
      "\"cannot compute exact p-value with ties\"\n"
     ]
    },
    {
     "data": {
      "text/plain": [
       "\n",
       "\tTwo-sample Kolmogorov-Smirnov test\n",
       "\n",
       "data:  bd_controle$GDS and bd_caso$GDS\n",
       "D = 0.2633, p-value = 0.2207\n",
       "alternative hypothesis: two-sided\n"
      ]
     },
     "metadata": {},
     "output_type": "display_data"
    },
    {
     "name": "stderr",
     "output_type": "stream",
     "text": [
      "Warning message in ks.test(bd_controle$FES_I, bd_caso$FES_I):\n",
      "\"cannot compute exact p-value with ties\"\n"
     ]
    },
    {
     "data": {
      "text/plain": [
       "\n",
       "\tTwo-sample Kolmogorov-Smirnov test\n",
       "\n",
       "data:  bd_controle$FES_I and bd_caso$FES_I\n",
       "D = 0.33067, p-value = 0.06196\n",
       "alternative hypothesis: two-sided\n"
      ]
     },
     "metadata": {},
     "output_type": "display_data"
    },
    {
     "name": "stderr",
     "output_type": "stream",
     "text": [
      "Warning message in ks.test(bd_controle$Vsaq, bd_caso$Vsaq):\n",
      "\"cannot compute exact p-value with ties\"\n"
     ]
    },
    {
     "data": {
      "text/plain": [
       "\n",
       "\tTwo-sample Kolmogorov-Smirnov test\n",
       "\n",
       "data:  bd_controle$Vsaq and bd_caso$Vsaq\n",
       "D = 0.22917, p-value = 0.3701\n",
       "alternative hypothesis: two-sided\n"
      ]
     },
     "metadata": {},
     "output_type": "display_data"
    },
    {
     "name": "stderr",
     "output_type": "stream",
     "text": [
      "Warning message in ks.test(bd_controle$Vo2_maximo_avaliado, bd_caso$Vo2_maximo_avaliado):\n",
      "\"cannot compute exact p-value with ties\"\n"
     ]
    },
    {
     "data": {
      "text/plain": [
       "\n",
       "\tTwo-sample Kolmogorov-Smirnov test\n",
       "\n",
       "data:  bd_controle$Vo2_maximo_avaliado and bd_caso$Vo2_maximo_avaliado\n",
       "D = 0.47619, p-value = 0.003496\n",
       "alternative hypothesis: two-sided\n"
      ]
     },
     "metadata": {},
     "output_type": "display_data"
    },
    {
     "name": "stderr",
     "output_type": "stream",
     "text": [
      "Warning message in ks.test(bd_controle$IMC, bd_caso$IMC):\n",
      "\"cannot compute exact p-value with ties\"\n"
     ]
    },
    {
     "data": {
      "text/plain": [
       "\n",
       "\tTwo-sample Kolmogorov-Smirnov test\n",
       "\n",
       "data:  bd_controle$IMC and bd_caso$IMC\n",
       "D = 0.10417, p-value = 0.9951\n",
       "alternative hypothesis: two-sided\n"
      ]
     },
     "metadata": {},
     "output_type": "display_data"
    },
    {
     "name": "stderr",
     "output_type": "stream",
     "text": [
      "Warning message in ks.test(bd_controle$Dinamometria, bd_caso$Dinamometria):\n",
      "\"cannot compute exact p-value with ties\"\n"
     ]
    },
    {
     "data": {
      "text/plain": [
       "\n",
       "\tTwo-sample Kolmogorov-Smirnov test\n",
       "\n",
       "data:  bd_controle$Dinamometria and bd_caso$Dinamometria\n",
       "D = 0.25, p-value = 0.27\n",
       "alternative hypothesis: two-sided\n"
      ]
     },
     "metadata": {},
     "output_type": "display_data"
    },
    {
     "name": "stderr",
     "output_type": "stream",
     "text": [
      "Warning message in ks.test(bd_controle$Berg, bd_caso$Berg):\n",
      "\"cannot compute exact p-value with ties\"\n"
     ]
    },
    {
     "data": {
      "text/plain": [
       "\n",
       "\tTwo-sample Kolmogorov-Smirnov test\n",
       "\n",
       "data:  bd_controle$Berg and bd_caso$Berg\n",
       "D = 0.375, p-value = 0.02222\n",
       "alternative hypothesis: two-sided\n"
      ]
     },
     "metadata": {},
     "output_type": "display_data"
    },
    {
     "name": "stderr",
     "output_type": "stream",
     "text": [
      "Warning message in ks.test(bd_controle$STS, bd_caso$STS):\n",
      "\"cannot compute exact p-value with ties\"\n"
     ]
    },
    {
     "data": {
      "text/plain": [
       "\n",
       "\tTwo-sample Kolmogorov-Smirnov test\n",
       "\n",
       "data:  bd_controle$STS and bd_caso$STS\n",
       "D = 0.30145, p-value = 0.1258\n",
       "alternative hypothesis: two-sided\n"
      ]
     },
     "metadata": {},
     "output_type": "display_data"
    },
    {
     "name": "stderr",
     "output_type": "stream",
     "text": [
      "Warning message in ks.test(bd_controle$Flexibilidade_Ms, bd_caso$Flexibilidade_Ms):\n",
      "\"cannot compute exact p-value with ties\"\n"
     ]
    },
    {
     "data": {
      "text/plain": [
       "\n",
       "\tTwo-sample Kolmogorov-Smirnov test\n",
       "\n",
       "data:  bd_controle$Flexibilidade_Ms and bd_caso$Flexibilidade_Ms\n",
       "D = 0.19264, p-value = 0.6576\n",
       "alternative hypothesis: two-sided\n"
      ]
     },
     "metadata": {},
     "output_type": "display_data"
    },
    {
     "name": "stderr",
     "output_type": "stream",
     "text": [
      "Warning message in ks.test(bd_controle$Flexibilidade_MI, bd_caso$Flexibilidade_MI):\n",
      "\"cannot compute exact p-value with ties\"\n"
     ]
    },
    {
     "data": {
      "text/plain": [
       "\n",
       "\tTwo-sample Kolmogorov-Smirnov test\n",
       "\n",
       "data:  bd_controle$Flexibilidade_MI and bd_caso$Flexibilidade_MI\n",
       "D = 0.13258, p-value = 0.9477\n",
       "alternative hypothesis: two-sided\n"
      ]
     },
     "metadata": {},
     "output_type": "display_data"
    },
    {
     "name": "stderr",
     "output_type": "stream",
     "text": [
      "Warning message in ks.test(bd_controle$TUG_sec, bd_caso$TUG_sec):\n",
      "\"cannot compute exact p-value with ties\"\n"
     ]
    },
    {
     "data": {
      "text/plain": [
       "\n",
       "\tTwo-sample Kolmogorov-Smirnov test\n",
       "\n",
       "data:  bd_controle$TUG_sec and bd_caso$TUG_sec\n",
       "D = 0.33152, p-value = 0.06243\n",
       "alternative hypothesis: two-sided\n"
      ]
     },
     "metadata": {},
     "output_type": "display_data"
    },
    {
     "name": "stderr",
     "output_type": "stream",
     "text": [
      "Warning message in ks.test(bd_controle$DT_Sec, bd_caso$DT_Sec):\n",
      "\"cannot compute exact p-value with ties\"\n"
     ]
    },
    {
     "data": {
      "text/plain": [
       "\n",
       "\tTwo-sample Kolmogorov-Smirnov test\n",
       "\n",
       "data:  bd_controle$DT_Sec and bd_caso$DT_Sec\n",
       "D = 0.42857, p-value = 0.007319\n",
       "alternative hypothesis: two-sided\n"
      ]
     },
     "metadata": {},
     "output_type": "display_data"
    },
    {
     "name": "stderr",
     "output_type": "stream",
     "text": [
      "Warning message in ks.test(bd_controle$DT_numero_animais, bd_caso$DT_numero_animais):\n",
      "\"cannot compute exact p-value with ties\"\n"
     ]
    },
    {
     "data": {
      "text/plain": [
       "\n",
       "\tTwo-sample Kolmogorov-Smirnov test\n",
       "\n",
       "data:  bd_controle$DT_numero_animais and bd_caso$DT_numero_animais\n",
       "D = 0.125, p-value = 0.9708\n",
       "alternative hypothesis: two-sided\n"
      ]
     },
     "metadata": {},
     "output_type": "display_data"
    },
    {
     "name": "stderr",
     "output_type": "stream",
     "text": [
      "Warning message in ks.test(bd_controle$quantidade_total_de_medicação, bd_caso$quantidade_total_de_medicação):\n",
      "\"cannot compute exact p-value with ties\"\n"
     ]
    },
    {
     "data": {
      "text/plain": [
       "\n",
       "\tTwo-sample Kolmogorov-Smirnov test\n",
       "\n",
       "data:  bd_controle$quantidade_total_de_medicação and bd_caso$quantidade_total_de_medicação\n",
       "D = 0.29167, p-value = 0.1314\n",
       "alternative hypothesis: two-sided\n"
      ]
     },
     "metadata": {},
     "output_type": "display_data"
    }
   ],
   "source": [
    "#var_numericas<- c(\"idade\",\"Nivel_educacional\",\"Tempo_doença\",\"MMSE\",\"Fluencia_verbal\",\"Trilhas_A\",\"Trilhas_b\",\n",
    "#\"GDS\",\"FES_I\",\"Vsaq\",\"Vo2_maximo_avaliado\",\"IMC\",\"Dinamometria\",\"Berg\",\"STS\",\"Flexibilidade_Ms\",\"Flexibilidade_MI\",\n",
    "#\"TUG_sec\",\"DT_Sec\",\"DT_numero_animais\",\"quantidade_total_de_medicação\")\n",
    "\n",
    "ks.test(bd_controle$idade,bd_caso$idade)\n",
    "ks.test(bd_controle$Nivel_educacional,bd_caso$Nivel_educacional)\n",
    "ks.test(bd_controle$Tempo_doença,bd_caso$Tempo_doença)\n",
    "ks.test(bd_controle$MMSE,bd_caso$MMSE)\n",
    "ks.test(bd_controle$Fluencia_verbal,bd_caso$Fluencia_verbal)\n",
    "ks.test(bd_controle$Trilhas_A,bd_caso$Trilhas_A)\n",
    "ks.test(bd_controle$Trilhas_b,bd_caso$Trilhas_b)\n",
    "ks.test(bd_controle$GDS,bd_caso$GDS)\n",
    "ks.test(bd_controle$FES_I,bd_caso$FES_I)\n",
    "ks.test(bd_controle$Vsaq,bd_caso$Vsaq)\n",
    "ks.test(bd_controle$Vo2_maximo_avaliado,bd_caso$Vo2_maximo_avaliado)\n",
    "ks.test(bd_controle$IMC,bd_caso$IMC)\n",
    "ks.test(bd_controle$Dinamometria,bd_caso$Dinamometria)\n",
    "ks.test(bd_controle$Berg,bd_caso$Berg)\n",
    "ks.test(bd_controle$STS,bd_caso$STS)\n",
    "ks.test(bd_controle$Flexibilidade_Ms,bd_caso$Flexibilidade_Ms)\n",
    "ks.test(bd_controle$Flexibilidade_MI,bd_caso$Flexibilidade_MI)\n",
    "ks.test(bd_controle$TUG_sec,bd_caso$TUG_sec)\n",
    "ks.test(bd_controle$DT_Sec,bd_caso$DT_Sec)\n",
    "ks.test(bd_controle$DT_numero_animais,bd_caso$DT_numero_animais)\n",
    "ks.test(bd_controle$quantidade_total_de_medicação,bd_caso$quantidade_total_de_medicação)\n"
   ]
  },
  {
   "cell_type": "markdown",
   "metadata": {},
   "source": [
    "## Levene test"
   ]
  },
  {
   "cell_type": "code",
   "execution_count": 13,
   "metadata": {},
   "outputs": [
    {
     "name": "stderr",
     "output_type": "stream",
     "text": [
      "Loading required package: car\n",
      "\n",
      "Loading required package: carData\n",
      "\n"
     ]
    },
    {
     "data": {
      "text/html": [
       "<table class=\"dataframe\">\n",
       "<caption>A anova: 2 × 3</caption>\n",
       "<thead>\n",
       "\t<tr><th></th><th scope=col>Df</th><th scope=col>F value</th><th scope=col>Pr(&gt;F)</th></tr>\n",
       "\t<tr><th></th><th scope=col>&lt;int&gt;</th><th scope=col>&lt;dbl&gt;</th><th scope=col>&lt;dbl&gt;</th></tr>\n",
       "</thead>\n",
       "<tbody>\n",
       "\t<tr><th scope=row>group</th><td> 1</td><td>4.709433</td><td>0.03339299</td></tr>\n",
       "\t<tr><th scope=row> </th><td>70</td><td>      NA</td><td>        NA</td></tr>\n",
       "</tbody>\n",
       "</table>\n"
      ],
      "text/latex": [
       "A anova: 2 × 3\n",
       "\\begin{tabular}{r|lll}\n",
       "  & Df & F value & Pr(>F)\\\\\n",
       "  & <int> & <dbl> & <dbl>\\\\\n",
       "\\hline\n",
       "\tgroup &  1 & 4.709433 & 0.03339299\\\\\n",
       "\t  & 70 &       NA &         NA\\\\\n",
       "\\end{tabular}\n"
      ],
      "text/markdown": [
       "\n",
       "A anova: 2 × 3\n",
       "\n",
       "| <!--/--> | Df &lt;int&gt; | F value &lt;dbl&gt; | Pr(&gt;F) &lt;dbl&gt; |\n",
       "|---|---|---|---|\n",
       "| group |  1 | 4.709433 | 0.03339299 |\n",
       "| <!----> | 70 |       NA |         NA |\n",
       "\n"
      ],
      "text/plain": [
       "      Df F value  Pr(>F)    \n",
       "group  1 4.709433 0.03339299\n",
       "      70       NA         NA"
      ]
     },
     "metadata": {},
     "output_type": "display_data"
    },
    {
     "data": {
      "text/html": [
       "<table class=\"dataframe\">\n",
       "<caption>A anova: 2 × 3</caption>\n",
       "<thead>\n",
       "\t<tr><th></th><th scope=col>Df</th><th scope=col>F value</th><th scope=col>Pr(&gt;F)</th></tr>\n",
       "\t<tr><th></th><th scope=col>&lt;int&gt;</th><th scope=col>&lt;dbl&gt;</th><th scope=col>&lt;dbl&gt;</th></tr>\n",
       "</thead>\n",
       "<tbody>\n",
       "\t<tr><th scope=row>group</th><td> 1</td><td>0.3745819</td><td>0.5425002</td></tr>\n",
       "\t<tr><th scope=row> </th><td>70</td><td>       NA</td><td>       NA</td></tr>\n",
       "</tbody>\n",
       "</table>\n"
      ],
      "text/latex": [
       "A anova: 2 × 3\n",
       "\\begin{tabular}{r|lll}\n",
       "  & Df & F value & Pr(>F)\\\\\n",
       "  & <int> & <dbl> & <dbl>\\\\\n",
       "\\hline\n",
       "\tgroup &  1 & 0.3745819 & 0.5425002\\\\\n",
       "\t  & 70 &        NA &        NA\\\\\n",
       "\\end{tabular}\n"
      ],
      "text/markdown": [
       "\n",
       "A anova: 2 × 3\n",
       "\n",
       "| <!--/--> | Df &lt;int&gt; | F value &lt;dbl&gt; | Pr(&gt;F) &lt;dbl&gt; |\n",
       "|---|---|---|---|\n",
       "| group |  1 | 0.3745819 | 0.5425002 |\n",
       "| <!----> | 70 |        NA |        NA |\n",
       "\n"
      ],
      "text/plain": [
       "      Df F value   Pr(>F)   \n",
       "group  1 0.3745819 0.5425002\n",
       "      70        NA        NA"
      ]
     },
     "metadata": {},
     "output_type": "display_data"
    },
    {
     "data": {
      "text/html": [
       "<table class=\"dataframe\">\n",
       "<caption>A anova: 2 × 3</caption>\n",
       "<thead>\n",
       "\t<tr><th></th><th scope=col>Df</th><th scope=col>F value</th><th scope=col>Pr(&gt;F)</th></tr>\n",
       "\t<tr><th></th><th scope=col>&lt;int&gt;</th><th scope=col>&lt;dbl&gt;</th><th scope=col>&lt;dbl&gt;</th></tr>\n",
       "</thead>\n",
       "<tbody>\n",
       "\t<tr><th scope=row>group</th><td> 1</td><td>0.688974</td><td>0.4093355</td></tr>\n",
       "\t<tr><th scope=row> </th><td>70</td><td>      NA</td><td>       NA</td></tr>\n",
       "</tbody>\n",
       "</table>\n"
      ],
      "text/latex": [
       "A anova: 2 × 3\n",
       "\\begin{tabular}{r|lll}\n",
       "  & Df & F value & Pr(>F)\\\\\n",
       "  & <int> & <dbl> & <dbl>\\\\\n",
       "\\hline\n",
       "\tgroup &  1 & 0.688974 & 0.4093355\\\\\n",
       "\t  & 70 &       NA &        NA\\\\\n",
       "\\end{tabular}\n"
      ],
      "text/markdown": [
       "\n",
       "A anova: 2 × 3\n",
       "\n",
       "| <!--/--> | Df &lt;int&gt; | F value &lt;dbl&gt; | Pr(&gt;F) &lt;dbl&gt; |\n",
       "|---|---|---|---|\n",
       "| group |  1 | 0.688974 | 0.4093355 |\n",
       "| <!----> | 70 |       NA |        NA |\n",
       "\n"
      ],
      "text/plain": [
       "      Df F value  Pr(>F)   \n",
       "group  1 0.688974 0.4093355\n",
       "      70       NA        NA"
      ]
     },
     "metadata": {},
     "output_type": "display_data"
    },
    {
     "data": {
      "text/html": [
       "<table class=\"dataframe\">\n",
       "<caption>A anova: 2 × 3</caption>\n",
       "<thead>\n",
       "\t<tr><th></th><th scope=col>Df</th><th scope=col>F value</th><th scope=col>Pr(&gt;F)</th></tr>\n",
       "\t<tr><th></th><th scope=col>&lt;int&gt;</th><th scope=col>&lt;dbl&gt;</th><th scope=col>&lt;dbl&gt;</th></tr>\n",
       "</thead>\n",
       "<tbody>\n",
       "\t<tr><th scope=row>group</th><td> 1</td><td>2.303561</td><td>0.1336465</td></tr>\n",
       "\t<tr><th scope=row> </th><td>69</td><td>      NA</td><td>       NA</td></tr>\n",
       "</tbody>\n",
       "</table>\n"
      ],
      "text/latex": [
       "A anova: 2 × 3\n",
       "\\begin{tabular}{r|lll}\n",
       "  & Df & F value & Pr(>F)\\\\\n",
       "  & <int> & <dbl> & <dbl>\\\\\n",
       "\\hline\n",
       "\tgroup &  1 & 2.303561 & 0.1336465\\\\\n",
       "\t  & 69 &       NA &        NA\\\\\n",
       "\\end{tabular}\n"
      ],
      "text/markdown": [
       "\n",
       "A anova: 2 × 3\n",
       "\n",
       "| <!--/--> | Df &lt;int&gt; | F value &lt;dbl&gt; | Pr(&gt;F) &lt;dbl&gt; |\n",
       "|---|---|---|---|\n",
       "| group |  1 | 2.303561 | 0.1336465 |\n",
       "| <!----> | 69 |       NA |        NA |\n",
       "\n"
      ],
      "text/plain": [
       "      Df F value  Pr(>F)   \n",
       "group  1 2.303561 0.1336465\n",
       "      69       NA        NA"
      ]
     },
     "metadata": {},
     "output_type": "display_data"
    },
    {
     "data": {
      "text/html": [
       "<table class=\"dataframe\">\n",
       "<caption>A anova: 2 × 3</caption>\n",
       "<thead>\n",
       "\t<tr><th></th><th scope=col>Df</th><th scope=col>F value</th><th scope=col>Pr(&gt;F)</th></tr>\n",
       "\t<tr><th></th><th scope=col>&lt;int&gt;</th><th scope=col>&lt;dbl&gt;</th><th scope=col>&lt;dbl&gt;</th></tr>\n",
       "</thead>\n",
       "<tbody>\n",
       "\t<tr><th scope=row>group</th><td> 1</td><td>5.332115</td><td>0.0238922</td></tr>\n",
       "\t<tr><th scope=row> </th><td>70</td><td>      NA</td><td>       NA</td></tr>\n",
       "</tbody>\n",
       "</table>\n"
      ],
      "text/latex": [
       "A anova: 2 × 3\n",
       "\\begin{tabular}{r|lll}\n",
       "  & Df & F value & Pr(>F)\\\\\n",
       "  & <int> & <dbl> & <dbl>\\\\\n",
       "\\hline\n",
       "\tgroup &  1 & 5.332115 & 0.0238922\\\\\n",
       "\t  & 70 &       NA &        NA\\\\\n",
       "\\end{tabular}\n"
      ],
      "text/markdown": [
       "\n",
       "A anova: 2 × 3\n",
       "\n",
       "| <!--/--> | Df &lt;int&gt; | F value &lt;dbl&gt; | Pr(&gt;F) &lt;dbl&gt; |\n",
       "|---|---|---|---|\n",
       "| group |  1 | 5.332115 | 0.0238922 |\n",
       "| <!----> | 70 |       NA |        NA |\n",
       "\n"
      ],
      "text/plain": [
       "      Df F value  Pr(>F)   \n",
       "group  1 5.332115 0.0238922\n",
       "      70       NA        NA"
      ]
     },
     "metadata": {},
     "output_type": "display_data"
    },
    {
     "data": {
      "text/html": [
       "<table class=\"dataframe\">\n",
       "<caption>A anova: 2 × 3</caption>\n",
       "<thead>\n",
       "\t<tr><th></th><th scope=col>Df</th><th scope=col>F value</th><th scope=col>Pr(&gt;F)</th></tr>\n",
       "\t<tr><th></th><th scope=col>&lt;int&gt;</th><th scope=col>&lt;dbl&gt;</th><th scope=col>&lt;dbl&gt;</th></tr>\n",
       "</thead>\n",
       "<tbody>\n",
       "\t<tr><th scope=row>group</th><td> 1</td><td>0.9551846</td><td>0.3318173</td></tr>\n",
       "\t<tr><th scope=row> </th><td>69</td><td>       NA</td><td>       NA</td></tr>\n",
       "</tbody>\n",
       "</table>\n"
      ],
      "text/latex": [
       "A anova: 2 × 3\n",
       "\\begin{tabular}{r|lll}\n",
       "  & Df & F value & Pr(>F)\\\\\n",
       "  & <int> & <dbl> & <dbl>\\\\\n",
       "\\hline\n",
       "\tgroup &  1 & 0.9551846 & 0.3318173\\\\\n",
       "\t  & 69 &        NA &        NA\\\\\n",
       "\\end{tabular}\n"
      ],
      "text/markdown": [
       "\n",
       "A anova: 2 × 3\n",
       "\n",
       "| <!--/--> | Df &lt;int&gt; | F value &lt;dbl&gt; | Pr(&gt;F) &lt;dbl&gt; |\n",
       "|---|---|---|---|\n",
       "| group |  1 | 0.9551846 | 0.3318173 |\n",
       "| <!----> | 69 |        NA |        NA |\n",
       "\n"
      ],
      "text/plain": [
       "      Df F value   Pr(>F)   \n",
       "group  1 0.9551846 0.3318173\n",
       "      69        NA        NA"
      ]
     },
     "metadata": {},
     "output_type": "display_data"
    },
    {
     "data": {
      "text/html": [
       "<table class=\"dataframe\">\n",
       "<caption>A anova: 2 × 3</caption>\n",
       "<thead>\n",
       "\t<tr><th></th><th scope=col>Df</th><th scope=col>F value</th><th scope=col>Pr(&gt;F)</th></tr>\n",
       "\t<tr><th></th><th scope=col>&lt;int&gt;</th><th scope=col>&lt;dbl&gt;</th><th scope=col>&lt;dbl&gt;</th></tr>\n",
       "</thead>\n",
       "<tbody>\n",
       "\t<tr><th scope=row>group</th><td> 1</td><td>0.008615805</td><td>0.9263145</td></tr>\n",
       "\t<tr><th scope=row> </th><td>69</td><td>         NA</td><td>       NA</td></tr>\n",
       "</tbody>\n",
       "</table>\n"
      ],
      "text/latex": [
       "A anova: 2 × 3\n",
       "\\begin{tabular}{r|lll}\n",
       "  & Df & F value & Pr(>F)\\\\\n",
       "  & <int> & <dbl> & <dbl>\\\\\n",
       "\\hline\n",
       "\tgroup &  1 & 0.008615805 & 0.9263145\\\\\n",
       "\t  & 69 &          NA &        NA\\\\\n",
       "\\end{tabular}\n"
      ],
      "text/markdown": [
       "\n",
       "A anova: 2 × 3\n",
       "\n",
       "| <!--/--> | Df &lt;int&gt; | F value &lt;dbl&gt; | Pr(&gt;F) &lt;dbl&gt; |\n",
       "|---|---|---|---|\n",
       "| group |  1 | 0.008615805 | 0.9263145 |\n",
       "| <!----> | 69 |          NA |        NA |\n",
       "\n"
      ],
      "text/plain": [
       "      Df F value     Pr(>F)   \n",
       "group  1 0.008615805 0.9263145\n",
       "      69          NA        NA"
      ]
     },
     "metadata": {},
     "output_type": "display_data"
    },
    {
     "data": {
      "text/html": [
       "<table class=\"dataframe\">\n",
       "<caption>A anova: 2 × 3</caption>\n",
       "<thead>\n",
       "\t<tr><th></th><th scope=col>Df</th><th scope=col>F value</th><th scope=col>Pr(&gt;F)</th></tr>\n",
       "\t<tr><th></th><th scope=col>&lt;int&gt;</th><th scope=col>&lt;dbl&gt;</th><th scope=col>&lt;dbl&gt;</th></tr>\n",
       "</thead>\n",
       "<tbody>\n",
       "\t<tr><th scope=row>group</th><td> 1</td><td>1.923234</td><td>0.1699647</td></tr>\n",
       "\t<tr><th scope=row> </th><td>69</td><td>      NA</td><td>       NA</td></tr>\n",
       "</tbody>\n",
       "</table>\n"
      ],
      "text/latex": [
       "A anova: 2 × 3\n",
       "\\begin{tabular}{r|lll}\n",
       "  & Df & F value & Pr(>F)\\\\\n",
       "  & <int> & <dbl> & <dbl>\\\\\n",
       "\\hline\n",
       "\tgroup &  1 & 1.923234 & 0.1699647\\\\\n",
       "\t  & 69 &       NA &        NA\\\\\n",
       "\\end{tabular}\n"
      ],
      "text/markdown": [
       "\n",
       "A anova: 2 × 3\n",
       "\n",
       "| <!--/--> | Df &lt;int&gt; | F value &lt;dbl&gt; | Pr(&gt;F) &lt;dbl&gt; |\n",
       "|---|---|---|---|\n",
       "| group |  1 | 1.923234 | 0.1699647 |\n",
       "| <!----> | 69 |       NA |        NA |\n",
       "\n"
      ],
      "text/plain": [
       "      Df F value  Pr(>F)   \n",
       "group  1 1.923234 0.1699647\n",
       "      69       NA        NA"
      ]
     },
     "metadata": {},
     "output_type": "display_data"
    },
    {
     "data": {
      "text/html": [
       "<table class=\"dataframe\">\n",
       "<caption>A anova: 2 × 3</caption>\n",
       "<thead>\n",
       "\t<tr><th></th><th scope=col>Df</th><th scope=col>F value</th><th scope=col>Pr(&gt;F)</th></tr>\n",
       "\t<tr><th></th><th scope=col>&lt;int&gt;</th><th scope=col>&lt;dbl&gt;</th><th scope=col>&lt;dbl&gt;</th></tr>\n",
       "</thead>\n",
       "<tbody>\n",
       "\t<tr><th scope=row>group</th><td> 1</td><td>7.574372</td><td>0.007557996</td></tr>\n",
       "\t<tr><th scope=row> </th><td>69</td><td>      NA</td><td>         NA</td></tr>\n",
       "</tbody>\n",
       "</table>\n"
      ],
      "text/latex": [
       "A anova: 2 × 3\n",
       "\\begin{tabular}{r|lll}\n",
       "  & Df & F value & Pr(>F)\\\\\n",
       "  & <int> & <dbl> & <dbl>\\\\\n",
       "\\hline\n",
       "\tgroup &  1 & 7.574372 & 0.007557996\\\\\n",
       "\t  & 69 &       NA &          NA\\\\\n",
       "\\end{tabular}\n"
      ],
      "text/markdown": [
       "\n",
       "A anova: 2 × 3\n",
       "\n",
       "| <!--/--> | Df &lt;int&gt; | F value &lt;dbl&gt; | Pr(&gt;F) &lt;dbl&gt; |\n",
       "|---|---|---|---|\n",
       "| group |  1 | 7.574372 | 0.007557996 |\n",
       "| <!----> | 69 |       NA |          NA |\n",
       "\n"
      ],
      "text/plain": [
       "      Df F value  Pr(>F)     \n",
       "group  1 7.574372 0.007557996\n",
       "      69       NA          NA"
      ]
     },
     "metadata": {},
     "output_type": "display_data"
    },
    {
     "data": {
      "text/html": [
       "<table class=\"dataframe\">\n",
       "<caption>A anova: 2 × 3</caption>\n",
       "<thead>\n",
       "\t<tr><th></th><th scope=col>Df</th><th scope=col>F value</th><th scope=col>Pr(&gt;F)</th></tr>\n",
       "\t<tr><th></th><th scope=col>&lt;int&gt;</th><th scope=col>&lt;dbl&gt;</th><th scope=col>&lt;dbl&gt;</th></tr>\n",
       "</thead>\n",
       "<tbody>\n",
       "\t<tr><th scope=row>group</th><td> 1</td><td>1.172049</td><td>0.282696</td></tr>\n",
       "\t<tr><th scope=row> </th><td>70</td><td>      NA</td><td>      NA</td></tr>\n",
       "</tbody>\n",
       "</table>\n"
      ],
      "text/latex": [
       "A anova: 2 × 3\n",
       "\\begin{tabular}{r|lll}\n",
       "  & Df & F value & Pr(>F)\\\\\n",
       "  & <int> & <dbl> & <dbl>\\\\\n",
       "\\hline\n",
       "\tgroup &  1 & 1.172049 & 0.282696\\\\\n",
       "\t  & 70 &       NA &       NA\\\\\n",
       "\\end{tabular}\n"
      ],
      "text/markdown": [
       "\n",
       "A anova: 2 × 3\n",
       "\n",
       "| <!--/--> | Df &lt;int&gt; | F value &lt;dbl&gt; | Pr(&gt;F) &lt;dbl&gt; |\n",
       "|---|---|---|---|\n",
       "| group |  1 | 1.172049 | 0.282696 |\n",
       "| <!----> | 70 |       NA |       NA |\n",
       "\n"
      ],
      "text/plain": [
       "      Df F value  Pr(>F)  \n",
       "group  1 1.172049 0.282696\n",
       "      70       NA       NA"
      ]
     },
     "metadata": {},
     "output_type": "display_data"
    },
    {
     "data": {
      "text/html": [
       "<table class=\"dataframe\">\n",
       "<caption>A anova: 2 × 3</caption>\n",
       "<thead>\n",
       "\t<tr><th></th><th scope=col>Df</th><th scope=col>F value</th><th scope=col>Pr(&gt;F)</th></tr>\n",
       "\t<tr><th></th><th scope=col>&lt;int&gt;</th><th scope=col>&lt;dbl&gt;</th><th scope=col>&lt;dbl&gt;</th></tr>\n",
       "</thead>\n",
       "<tbody>\n",
       "\t<tr><th scope=row>group</th><td> 1</td><td>0.6778973</td><td>0.4135191</td></tr>\n",
       "\t<tr><th scope=row> </th><td>61</td><td>       NA</td><td>       NA</td></tr>\n",
       "</tbody>\n",
       "</table>\n"
      ],
      "text/latex": [
       "A anova: 2 × 3\n",
       "\\begin{tabular}{r|lll}\n",
       "  & Df & F value & Pr(>F)\\\\\n",
       "  & <int> & <dbl> & <dbl>\\\\\n",
       "\\hline\n",
       "\tgroup &  1 & 0.6778973 & 0.4135191\\\\\n",
       "\t  & 61 &        NA &        NA\\\\\n",
       "\\end{tabular}\n"
      ],
      "text/markdown": [
       "\n",
       "A anova: 2 × 3\n",
       "\n",
       "| <!--/--> | Df &lt;int&gt; | F value &lt;dbl&gt; | Pr(&gt;F) &lt;dbl&gt; |\n",
       "|---|---|---|---|\n",
       "| group |  1 | 0.6778973 | 0.4135191 |\n",
       "| <!----> | 61 |        NA |        NA |\n",
       "\n"
      ],
      "text/plain": [
       "      Df F value   Pr(>F)   \n",
       "group  1 0.6778973 0.4135191\n",
       "      61        NA        NA"
      ]
     },
     "metadata": {},
     "output_type": "display_data"
    },
    {
     "data": {
      "text/html": [
       "<table class=\"dataframe\">\n",
       "<caption>A anova: 2 × 3</caption>\n",
       "<thead>\n",
       "\t<tr><th></th><th scope=col>Df</th><th scope=col>F value</th><th scope=col>Pr(&gt;F)</th></tr>\n",
       "\t<tr><th></th><th scope=col>&lt;int&gt;</th><th scope=col>&lt;dbl&gt;</th><th scope=col>&lt;dbl&gt;</th></tr>\n",
       "</thead>\n",
       "<tbody>\n",
       "\t<tr><th scope=row>group</th><td> 1</td><td>0.1086418</td><td>0.7426801</td></tr>\n",
       "\t<tr><th scope=row> </th><td>70</td><td>       NA</td><td>       NA</td></tr>\n",
       "</tbody>\n",
       "</table>\n"
      ],
      "text/latex": [
       "A anova: 2 × 3\n",
       "\\begin{tabular}{r|lll}\n",
       "  & Df & F value & Pr(>F)\\\\\n",
       "  & <int> & <dbl> & <dbl>\\\\\n",
       "\\hline\n",
       "\tgroup &  1 & 0.1086418 & 0.7426801\\\\\n",
       "\t  & 70 &        NA &        NA\\\\\n",
       "\\end{tabular}\n"
      ],
      "text/markdown": [
       "\n",
       "A anova: 2 × 3\n",
       "\n",
       "| <!--/--> | Df &lt;int&gt; | F value &lt;dbl&gt; | Pr(&gt;F) &lt;dbl&gt; |\n",
       "|---|---|---|---|\n",
       "| group |  1 | 0.1086418 | 0.7426801 |\n",
       "| <!----> | 70 |        NA |        NA |\n",
       "\n"
      ],
      "text/plain": [
       "      Df F value   Pr(>F)   \n",
       "group  1 0.1086418 0.7426801\n",
       "      70        NA        NA"
      ]
     },
     "metadata": {},
     "output_type": "display_data"
    },
    {
     "data": {
      "text/html": [
       "<table class=\"dataframe\">\n",
       "<caption>A anova: 2 × 3</caption>\n",
       "<thead>\n",
       "\t<tr><th></th><th scope=col>Df</th><th scope=col>F value</th><th scope=col>Pr(&gt;F)</th></tr>\n",
       "\t<tr><th></th><th scope=col>&lt;int&gt;</th><th scope=col>&lt;dbl&gt;</th><th scope=col>&lt;dbl&gt;</th></tr>\n",
       "</thead>\n",
       "<tbody>\n",
       "\t<tr><th scope=row>group</th><td> 1</td><td>0.2231925</td><td>0.6380877</td></tr>\n",
       "\t<tr><th scope=row> </th><td>70</td><td>       NA</td><td>       NA</td></tr>\n",
       "</tbody>\n",
       "</table>\n"
      ],
      "text/latex": [
       "A anova: 2 × 3\n",
       "\\begin{tabular}{r|lll}\n",
       "  & Df & F value & Pr(>F)\\\\\n",
       "  & <int> & <dbl> & <dbl>\\\\\n",
       "\\hline\n",
       "\tgroup &  1 & 0.2231925 & 0.6380877\\\\\n",
       "\t  & 70 &        NA &        NA\\\\\n",
       "\\end{tabular}\n"
      ],
      "text/markdown": [
       "\n",
       "A anova: 2 × 3\n",
       "\n",
       "| <!--/--> | Df &lt;int&gt; | F value &lt;dbl&gt; | Pr(&gt;F) &lt;dbl&gt; |\n",
       "|---|---|---|---|\n",
       "| group |  1 | 0.2231925 | 0.6380877 |\n",
       "| <!----> | 70 |        NA |        NA |\n",
       "\n"
      ],
      "text/plain": [
       "      Df F value   Pr(>F)   \n",
       "group  1 0.2231925 0.6380877\n",
       "      70        NA        NA"
      ]
     },
     "metadata": {},
     "output_type": "display_data"
    },
    {
     "data": {
      "text/html": [
       "<table class=\"dataframe\">\n",
       "<caption>A anova: 2 × 3</caption>\n",
       "<thead>\n",
       "\t<tr><th></th><th scope=col>Df</th><th scope=col>F value</th><th scope=col>Pr(&gt;F)</th></tr>\n",
       "\t<tr><th></th><th scope=col>&lt;int&gt;</th><th scope=col>&lt;dbl&gt;</th><th scope=col>&lt;dbl&gt;</th></tr>\n",
       "</thead>\n",
       "<tbody>\n",
       "\t<tr><th scope=row>group</th><td> 1</td><td>4.957175</td><td>0.02920266</td></tr>\n",
       "\t<tr><th scope=row> </th><td>70</td><td>      NA</td><td>        NA</td></tr>\n",
       "</tbody>\n",
       "</table>\n"
      ],
      "text/latex": [
       "A anova: 2 × 3\n",
       "\\begin{tabular}{r|lll}\n",
       "  & Df & F value & Pr(>F)\\\\\n",
       "  & <int> & <dbl> & <dbl>\\\\\n",
       "\\hline\n",
       "\tgroup &  1 & 4.957175 & 0.02920266\\\\\n",
       "\t  & 70 &       NA &         NA\\\\\n",
       "\\end{tabular}\n"
      ],
      "text/markdown": [
       "\n",
       "A anova: 2 × 3\n",
       "\n",
       "| <!--/--> | Df &lt;int&gt; | F value &lt;dbl&gt; | Pr(&gt;F) &lt;dbl&gt; |\n",
       "|---|---|---|---|\n",
       "| group |  1 | 4.957175 | 0.02920266 |\n",
       "| <!----> | 70 |       NA |         NA |\n",
       "\n"
      ],
      "text/plain": [
       "      Df F value  Pr(>F)    \n",
       "group  1 4.957175 0.02920266\n",
       "      70       NA         NA"
      ]
     },
     "metadata": {},
     "output_type": "display_data"
    },
    {
     "data": {
      "text/html": [
       "<table class=\"dataframe\">\n",
       "<caption>A anova: 2 × 3</caption>\n",
       "<thead>\n",
       "\t<tr><th></th><th scope=col>Df</th><th scope=col>F value</th><th scope=col>Pr(&gt;F)</th></tr>\n",
       "\t<tr><th></th><th scope=col>&lt;int&gt;</th><th scope=col>&lt;dbl&gt;</th><th scope=col>&lt;dbl&gt;</th></tr>\n",
       "</thead>\n",
       "<tbody>\n",
       "\t<tr><th scope=row>group</th><td> 1</td><td>1.486708</td><td>0.2270676</td></tr>\n",
       "\t<tr><th scope=row> </th><td>66</td><td>      NA</td><td>       NA</td></tr>\n",
       "</tbody>\n",
       "</table>\n"
      ],
      "text/latex": [
       "A anova: 2 × 3\n",
       "\\begin{tabular}{r|lll}\n",
       "  & Df & F value & Pr(>F)\\\\\n",
       "  & <int> & <dbl> & <dbl>\\\\\n",
       "\\hline\n",
       "\tgroup &  1 & 1.486708 & 0.2270676\\\\\n",
       "\t  & 66 &       NA &        NA\\\\\n",
       "\\end{tabular}\n"
      ],
      "text/markdown": [
       "\n",
       "A anova: 2 × 3\n",
       "\n",
       "| <!--/--> | Df &lt;int&gt; | F value &lt;dbl&gt; | Pr(&gt;F) &lt;dbl&gt; |\n",
       "|---|---|---|---|\n",
       "| group |  1 | 1.486708 | 0.2270676 |\n",
       "| <!----> | 66 |       NA |        NA |\n",
       "\n"
      ],
      "text/plain": [
       "      Df F value  Pr(>F)   \n",
       "group  1 1.486708 0.2270676\n",
       "      66       NA        NA"
      ]
     },
     "metadata": {},
     "output_type": "display_data"
    },
    {
     "data": {
      "text/html": [
       "<table class=\"dataframe\">\n",
       "<caption>A anova: 2 × 3</caption>\n",
       "<thead>\n",
       "\t<tr><th></th><th scope=col>Df</th><th scope=col>F value</th><th scope=col>Pr(&gt;F)</th></tr>\n",
       "\t<tr><th></th><th scope=col>&lt;int&gt;</th><th scope=col>&lt;dbl&gt;</th><th scope=col>&lt;dbl&gt;</th></tr>\n",
       "</thead>\n",
       "<tbody>\n",
       "\t<tr><th scope=row>group</th><td> 1</td><td>3.619355</td><td>0.06175803</td></tr>\n",
       "\t<tr><th scope=row> </th><td>62</td><td>      NA</td><td>        NA</td></tr>\n",
       "</tbody>\n",
       "</table>\n"
      ],
      "text/latex": [
       "A anova: 2 × 3\n",
       "\\begin{tabular}{r|lll}\n",
       "  & Df & F value & Pr(>F)\\\\\n",
       "  & <int> & <dbl> & <dbl>\\\\\n",
       "\\hline\n",
       "\tgroup &  1 & 3.619355 & 0.06175803\\\\\n",
       "\t  & 62 &       NA &         NA\\\\\n",
       "\\end{tabular}\n"
      ],
      "text/markdown": [
       "\n",
       "A anova: 2 × 3\n",
       "\n",
       "| <!--/--> | Df &lt;int&gt; | F value &lt;dbl&gt; | Pr(&gt;F) &lt;dbl&gt; |\n",
       "|---|---|---|---|\n",
       "| group |  1 | 3.619355 | 0.06175803 |\n",
       "| <!----> | 62 |       NA |         NA |\n",
       "\n"
      ],
      "text/plain": [
       "      Df F value  Pr(>F)    \n",
       "group  1 3.619355 0.06175803\n",
       "      62       NA         NA"
      ]
     },
     "metadata": {},
     "output_type": "display_data"
    },
    {
     "data": {
      "text/html": [
       "<table class=\"dataframe\">\n",
       "<caption>A anova: 2 × 3</caption>\n",
       "<thead>\n",
       "\t<tr><th></th><th scope=col>Df</th><th scope=col>F value</th><th scope=col>Pr(&gt;F)</th></tr>\n",
       "\t<tr><th></th><th scope=col>&lt;int&gt;</th><th scope=col>&lt;dbl&gt;</th><th scope=col>&lt;dbl&gt;</th></tr>\n",
       "</thead>\n",
       "<tbody>\n",
       "\t<tr><th scope=row>group</th><td> 1</td><td>2.656241</td><td>0.1079081</td></tr>\n",
       "\t<tr><th scope=row> </th><td>66</td><td>      NA</td><td>       NA</td></tr>\n",
       "</tbody>\n",
       "</table>\n"
      ],
      "text/latex": [
       "A anova: 2 × 3\n",
       "\\begin{tabular}{r|lll}\n",
       "  & Df & F value & Pr(>F)\\\\\n",
       "  & <int> & <dbl> & <dbl>\\\\\n",
       "\\hline\n",
       "\tgroup &  1 & 2.656241 & 0.1079081\\\\\n",
       "\t  & 66 &       NA &        NA\\\\\n",
       "\\end{tabular}\n"
      ],
      "text/markdown": [
       "\n",
       "A anova: 2 × 3\n",
       "\n",
       "| <!--/--> | Df &lt;int&gt; | F value &lt;dbl&gt; | Pr(&gt;F) &lt;dbl&gt; |\n",
       "|---|---|---|---|\n",
       "| group |  1 | 2.656241 | 0.1079081 |\n",
       "| <!----> | 66 |       NA |        NA |\n",
       "\n"
      ],
      "text/plain": [
       "      Df F value  Pr(>F)   \n",
       "group  1 2.656241 0.1079081\n",
       "      66       NA        NA"
      ]
     },
     "metadata": {},
     "output_type": "display_data"
    },
    {
     "data": {
      "text/html": [
       "<table class=\"dataframe\">\n",
       "<caption>A anova: 2 × 3</caption>\n",
       "<thead>\n",
       "\t<tr><th></th><th scope=col>Df</th><th scope=col>F value</th><th scope=col>Pr(&gt;F)</th></tr>\n",
       "\t<tr><th></th><th scope=col>&lt;int&gt;</th><th scope=col>&lt;dbl&gt;</th><th scope=col>&lt;dbl&gt;</th></tr>\n",
       "</thead>\n",
       "<tbody>\n",
       "\t<tr><th scope=row>group</th><td> 1</td><td>3.324957</td><td>0.07263093</td></tr>\n",
       "\t<tr><th scope=row> </th><td>68</td><td>      NA</td><td>        NA</td></tr>\n",
       "</tbody>\n",
       "</table>\n"
      ],
      "text/latex": [
       "A anova: 2 × 3\n",
       "\\begin{tabular}{r|lll}\n",
       "  & Df & F value & Pr(>F)\\\\\n",
       "  & <int> & <dbl> & <dbl>\\\\\n",
       "\\hline\n",
       "\tgroup &  1 & 3.324957 & 0.07263093\\\\\n",
       "\t  & 68 &       NA &         NA\\\\\n",
       "\\end{tabular}\n"
      ],
      "text/markdown": [
       "\n",
       "A anova: 2 × 3\n",
       "\n",
       "| <!--/--> | Df &lt;int&gt; | F value &lt;dbl&gt; | Pr(&gt;F) &lt;dbl&gt; |\n",
       "|---|---|---|---|\n",
       "| group |  1 | 3.324957 | 0.07263093 |\n",
       "| <!----> | 68 |       NA |         NA |\n",
       "\n"
      ],
      "text/plain": [
       "      Df F value  Pr(>F)    \n",
       "group  1 3.324957 0.07263093\n",
       "      68       NA         NA"
      ]
     },
     "metadata": {},
     "output_type": "display_data"
    },
    {
     "data": {
      "text/html": [
       "<table class=\"dataframe\">\n",
       "<caption>A anova: 2 × 3</caption>\n",
       "<thead>\n",
       "\t<tr><th></th><th scope=col>Df</th><th scope=col>F value</th><th scope=col>Pr(&gt;F)</th></tr>\n",
       "\t<tr><th></th><th scope=col>&lt;int&gt;</th><th scope=col>&lt;dbl&gt;</th><th scope=col>&lt;dbl&gt;</th></tr>\n",
       "</thead>\n",
       "<tbody>\n",
       "\t<tr><th scope=row>group</th><td> 1</td><td>1.583475</td><td>0.2128323</td></tr>\n",
       "\t<tr><th scope=row> </th><td>64</td><td>      NA</td><td>       NA</td></tr>\n",
       "</tbody>\n",
       "</table>\n"
      ],
      "text/latex": [
       "A anova: 2 × 3\n",
       "\\begin{tabular}{r|lll}\n",
       "  & Df & F value & Pr(>F)\\\\\n",
       "  & <int> & <dbl> & <dbl>\\\\\n",
       "\\hline\n",
       "\tgroup &  1 & 1.583475 & 0.2128323\\\\\n",
       "\t  & 64 &       NA &        NA\\\\\n",
       "\\end{tabular}\n"
      ],
      "text/markdown": [
       "\n",
       "A anova: 2 × 3\n",
       "\n",
       "| <!--/--> | Df &lt;int&gt; | F value &lt;dbl&gt; | Pr(&gt;F) &lt;dbl&gt; |\n",
       "|---|---|---|---|\n",
       "| group |  1 | 1.583475 | 0.2128323 |\n",
       "| <!----> | 64 |       NA |        NA |\n",
       "\n"
      ],
      "text/plain": [
       "      Df F value  Pr(>F)   \n",
       "group  1 1.583475 0.2128323\n",
       "      64       NA        NA"
      ]
     },
     "metadata": {},
     "output_type": "display_data"
    },
    {
     "data": {
      "text/html": [
       "<table class=\"dataframe\">\n",
       "<caption>A anova: 2 × 3</caption>\n",
       "<thead>\n",
       "\t<tr><th></th><th scope=col>Df</th><th scope=col>F value</th><th scope=col>Pr(&gt;F)</th></tr>\n",
       "\t<tr><th></th><th scope=col>&lt;int&gt;</th><th scope=col>&lt;dbl&gt;</th><th scope=col>&lt;dbl&gt;</th></tr>\n",
       "</thead>\n",
       "<tbody>\n",
       "\t<tr><th scope=row>group</th><td> 1</td><td>1.89086</td><td>0.1738997</td></tr>\n",
       "\t<tr><th scope=row> </th><td>64</td><td>     NA</td><td>       NA</td></tr>\n",
       "</tbody>\n",
       "</table>\n"
      ],
      "text/latex": [
       "A anova: 2 × 3\n",
       "\\begin{tabular}{r|lll}\n",
       "  & Df & F value & Pr(>F)\\\\\n",
       "  & <int> & <dbl> & <dbl>\\\\\n",
       "\\hline\n",
       "\tgroup &  1 & 1.89086 & 0.1738997\\\\\n",
       "\t  & 64 &      NA &        NA\\\\\n",
       "\\end{tabular}\n"
      ],
      "text/markdown": [
       "\n",
       "A anova: 2 × 3\n",
       "\n",
       "| <!--/--> | Df &lt;int&gt; | F value &lt;dbl&gt; | Pr(&gt;F) &lt;dbl&gt; |\n",
       "|---|---|---|---|\n",
       "| group |  1 | 1.89086 | 0.1738997 |\n",
       "| <!----> | 64 |      NA |        NA |\n",
       "\n"
      ],
      "text/plain": [
       "      Df F value Pr(>F)   \n",
       "group  1 1.89086 0.1738997\n",
       "      64      NA        NA"
      ]
     },
     "metadata": {},
     "output_type": "display_data"
    },
    {
     "data": {
      "text/html": [
       "<table class=\"dataframe\">\n",
       "<caption>A anova: 2 × 3</caption>\n",
       "<thead>\n",
       "\t<tr><th></th><th scope=col>Df</th><th scope=col>F value</th><th scope=col>Pr(&gt;F)</th></tr>\n",
       "\t<tr><th></th><th scope=col>&lt;int&gt;</th><th scope=col>&lt;dbl&gt;</th><th scope=col>&lt;dbl&gt;</th></tr>\n",
       "</thead>\n",
       "<tbody>\n",
       "\t<tr><th scope=row>group</th><td> 1</td><td>0.7325241</td><td>0.3949865</td></tr>\n",
       "\t<tr><th scope=row> </th><td>70</td><td>       NA</td><td>       NA</td></tr>\n",
       "</tbody>\n",
       "</table>\n"
      ],
      "text/latex": [
       "A anova: 2 × 3\n",
       "\\begin{tabular}{r|lll}\n",
       "  & Df & F value & Pr(>F)\\\\\n",
       "  & <int> & <dbl> & <dbl>\\\\\n",
       "\\hline\n",
       "\tgroup &  1 & 0.7325241 & 0.3949865\\\\\n",
       "\t  & 70 &        NA &        NA\\\\\n",
       "\\end{tabular}\n"
      ],
      "text/markdown": [
       "\n",
       "A anova: 2 × 3\n",
       "\n",
       "| <!--/--> | Df &lt;int&gt; | F value &lt;dbl&gt; | Pr(&gt;F) &lt;dbl&gt; |\n",
       "|---|---|---|---|\n",
       "| group |  1 | 0.7325241 | 0.3949865 |\n",
       "| <!----> | 70 |        NA |        NA |\n",
       "\n"
      ],
      "text/plain": [
       "      Df F value   Pr(>F)   \n",
       "group  1 0.7325241 0.3949865\n",
       "      70        NA        NA"
      ]
     },
     "metadata": {},
     "output_type": "display_data"
    }
   ],
   "source": [
    "#install.packages(\"car\")\n",
    "require(car)\n",
    "#var_numericas<- c(\"idade\",\"Nivel_educacional\",\"Tempo_doença\",\"MMSE\",\"Fluencia_verbal\",\"Trilhas_A\",\"Trilhas_b\",\n",
    "#\"GDS\",\"FES_I\",\"Vsaq\",\"Vo2_maximo_avaliado\",\"IMC\",\"Dinamometria\",\"Berg\",\"STS\",\"Flexibilidade_Ms\",\"Flexibilidade_MI\",\n",
    "#\"TUG_sec\",\"DT_Sec\",\"DT_numero_animais\",\"quantidade_total_de_medicação\")\n",
    "\n",
    "#Var igual -> pvalor>0.05\n",
    "\n",
    "leveneTest(idade ~ Caidor,data= bd)\n",
    "leveneTest(Nivel_educacional ~ Caidor,data= bd)\n",
    "leveneTest(Tempo_doença ~ Caidor,data= bd)\n",
    "leveneTest(MMSE ~ Caidor,data= bd)\n",
    "leveneTest(Fluencia_verbal ~ Caidor,data= bd)\n",
    "leveneTest(Trilhas_A ~ Caidor,data= bd)\n",
    "leveneTest(Trilhas_b ~ Caidor,data= bd)\n",
    "leveneTest(GDS ~ Caidor,data= bd)\n",
    "leveneTest(FES_I ~ Caidor,data= bd)\n",
    "leveneTest(Vsaq ~ Caidor,data= bd)\n",
    "leveneTest(Vo2_maximo_avaliado ~ Caidor,data= bd)\n",
    "leveneTest(IMC ~ Caidor,data= bd)\n",
    "leveneTest(Dinamometria ~ Caidor,data= bd)\n",
    "leveneTest(Berg ~ Caidor,data= bd)\n",
    "leveneTest(STS ~ Caidor,data= bd)\n",
    "leveneTest(Flexibilidade_Ms ~ Caidor,data= bd)\n",
    "leveneTest(Flexibilidade_MI ~ Caidor,data= bd)\n",
    "leveneTest(TUG_sec ~ Caidor,data= bd)\n",
    "leveneTest(DT_Sec ~ Caidor,data= bd)\n",
    "leveneTest(DT_numero_animais ~ Caidor,data= bd)\n",
    "leveneTest(quantidade_total_de_medicação ~ Caidor,data= bd)\n"
   ]
  },
  {
   "cell_type": "markdown",
   "metadata": {},
   "source": [
    "## X²"
   ]
  },
  {
   "cell_type": "code",
   "execution_count": 14,
   "metadata": {},
   "outputs": [
    {
     "data": {
      "text/plain": [
       "\n",
       "\tPearson's Chi-squared test\n",
       "\n",
       "data:  bd$Caidor and bd$Genero\n",
       "X-squared = 0.11548, df = 1, p-value = 0.734\n"
      ]
     },
     "metadata": {},
     "output_type": "display_data"
    },
    {
     "name": "stderr",
     "output_type": "stream",
     "text": [
      "Warning message in chisq.test(bd$Caidor, bd$etnia, correct = F):\n",
      "\"Chi-squared approximation may be incorrect\"\n"
     ]
    },
    {
     "data": {
      "text/plain": [
       "\n",
       "\tPearson's Chi-squared test\n",
       "\n",
       "data:  bd$Caidor and bd$etnia\n",
       "X-squared = 0.85842, df = 1, p-value = 0.3542\n"
      ]
     },
     "metadata": {},
     "output_type": "display_data"
    },
    {
     "data": {
      "text/plain": [
       "\n",
       "\tPearson's Chi-squared test\n",
       "\n",
       "data:  bd$Caidor and bd$Freq_atividade\n",
       "X-squared = 2.8992, df = 2, p-value = 0.2347\n"
      ]
     },
     "metadata": {},
     "output_type": "display_data"
    },
    {
     "data": {
      "text/plain": [
       "\n",
       "\tPearson's Chi-squared test\n",
       "\n",
       "data:  bd$Caidor and bd$Criterio_AHA\n",
       "X-squared = 11.531, df = 1, p-value = 0.0006843\n"
      ]
     },
     "metadata": {},
     "output_type": "display_data"
    },
    {
     "name": "stderr",
     "output_type": "stream",
     "text": [
      "Warning message in chisq.test(bd$Caidor, bd$medicaçao_tipo_cardiovascular, correct = F):\n",
      "\"Chi-squared approximation may be incorrect\"\n"
     ]
    },
    {
     "data": {
      "text/plain": [
       "\n",
       "\tPearson's Chi-squared test\n",
       "\n",
       "data:  bd$Caidor and bd$medicaçao_tipo_cardiovascular\n",
       "X-squared = 18.654, df = 4, p-value = 0.0009192\n"
      ]
     },
     "metadata": {},
     "output_type": "display_data"
    },
    {
     "name": "stderr",
     "output_type": "stream",
     "text": [
      "Warning message in chisq.test(bd$Caidor, bd$medicação_tipo_mental, correct = F):\n",
      "\"Chi-squared approximation may be incorrect\"\n"
     ]
    },
    {
     "data": {
      "text/plain": [
       "\n",
       "\tPearson's Chi-squared test\n",
       "\n",
       "data:  bd$Caidor and bd$medicação_tipo_mental\n",
       "X-squared = 8.4935, df = 4, p-value = 0.07509\n"
      ]
     },
     "metadata": {},
     "output_type": "display_data"
    }
   ],
   "source": [
    "#sexo, etnia, nível de atividade física, tipo de medicamento para doença cardiovascular, classificação do ACC/AHA,\n",
    "#doença do sistema cardiovascular*, medicamento para doença mental* e tipos de medicamento para doença mental\n",
    "\n",
    "#Pvalue<0.05 - Variables are dependent\n",
    "\n",
    "chisq.test(bd$Caidor,bd$Genero,correct=F) #correct=F to turn off Yates’ continuity correction\n",
    "chisq.test(bd$Caidor,bd$etnia,correct=F)\n",
    "chisq.test(bd$Caidor,bd$Freq_atividade,correct=F)\n",
    "chisq.test(bd$Caidor,bd$Criterio_AHA,correct=F)\n",
    "chisq.test(bd$Caidor,bd$medicaçao_tipo_cardiovascular,correct=F)\n",
    "chisq.test(bd$Caidor,bd$medicação_tipo_mental,correct=F)"
   ]
  },
  {
   "cell_type": "markdown",
   "metadata": {},
   "source": [
    "## T-test"
   ]
  },
  {
   "cell_type": "code",
   "execution_count": 15,
   "metadata": {},
   "outputs": [
    {
     "data": {
      "text/plain": [
       "\n",
       "\tWelch Two Sample t-test\n",
       "\n",
       "data:  idade by Caidor\n",
       "t = -2.5937, df = 59.368, p-value = 0.01194\n",
       "alternative hypothesis: true difference in means is not equal to 0\n",
       "95 percent confidence interval:\n",
       " -6.7534353 -0.8715647\n",
       "sample estimates:\n",
       "mean in group não mean in group sim \n",
       "         14.14583          17.95833 \n"
      ]
     },
     "metadata": {},
     "output_type": "display_data"
    },
    {
     "data": {
      "text/plain": [
       "\n",
       "\tTwo Sample t-test\n",
       "\n",
       "data:  IMC by Caidor\n",
       "t = 0.10693, df = 70, p-value = 0.9151\n",
       "alternative hypothesis: true difference in means is not equal to 0\n",
       "95 percent confidence interval:\n",
       " -5.516055  6.141055\n",
       "sample estimates:\n",
       "mean in group não mean in group sim \n",
       "         22.39583          22.08333 \n"
      ]
     },
     "metadata": {},
     "output_type": "display_data"
    },
    {
     "data": {
      "text/plain": [
       "\n",
       "\tTwo Sample t-test\n",
       "\n",
       "data:  Nivel_educacional by Caidor\n",
       "t = 0.83355, df = 70, p-value = 0.4074\n",
       "alternative hypothesis: true difference in means is not equal to 0\n",
       "95 percent confidence interval:\n",
       " -0.6383237  1.5549904\n",
       "sample estimates:\n",
       "mean in group não mean in group sim \n",
       "         5.666667          5.208333 \n"
      ]
     },
     "metadata": {},
     "output_type": "display_data"
    },
    {
     "data": {
      "text/plain": [
       "\n",
       "\tTwo Sample t-test\n",
       "\n",
       "data:  Tempo_doença by Caidor\n",
       "t = -1.3915, df = 70, p-value = 0.1685\n",
       "alternative hypothesis: true difference in means is not equal to 0\n",
       "95 percent confidence interval:\n",
       " -4.6637892  0.8304559\n",
       "sample estimates:\n",
       "mean in group não mean in group sim \n",
       "         7.791667          9.708333 \n"
      ]
     },
     "metadata": {},
     "output_type": "display_data"
    },
    {
     "data": {
      "text/plain": [
       "\n",
       "\tTwo Sample t-test\n",
       "\n",
       "data:  quantidade_total_de_medicação by Caidor\n",
       "t = -1.9433, df = 70, p-value = 0.056\n",
       "alternative hypothesis: true difference in means is not equal to 0\n",
       "95 percent confidence interval:\n",
       " -2.1529661  0.0279661\n",
       "sample estimates:\n",
       "mean in group não mean in group sim \n",
       "           4.6875            5.7500 \n"
      ]
     },
     "metadata": {},
     "output_type": "display_data"
    },
    {
     "data": {
      "text/plain": [
       "\n",
       "\tTwo Sample t-test\n",
       "\n",
       "data:  DT_Sec by Caidor\n",
       "t = -3.6391, df = 64, p-value = 0.0005482\n",
       "alternative hypothesis: true difference in means is not equal to 0\n",
       "95 percent confidence interval:\n",
       " -13.027932  -3.793496\n",
       "sample estimates:\n",
       "mean in group não mean in group sim \n",
       "         14.54762          22.95833 \n"
      ]
     },
     "metadata": {},
     "output_type": "display_data"
    },
    {
     "data": {
      "text/plain": [
       "\n",
       "\tTwo Sample t-test\n",
       "\n",
       "data:  GDS by Caidor\n",
       "t = -1.4382, df = 69, p-value = 0.1549\n",
       "alternative hypothesis: true difference in means is not equal to 0\n",
       "95 percent confidence interval:\n",
       " -3.8408984  0.6228133\n",
       "sample estimates:\n",
       "mean in group não mean in group sim \n",
       "         3.765957          5.375000 \n"
      ]
     },
     "metadata": {},
     "output_type": "display_data"
    },
    {
     "data": {
      "text/plain": [
       "\n",
       "\tTwo Sample t-test\n",
       "\n",
       "data:  STS by Caidor\n",
       "t = 2.4406, df = 66, p-value = 0.01735\n",
       "alternative hypothesis: true difference in means is not equal to 0\n",
       "95 percent confidence interval:\n",
       " 0.3083342 3.0810378\n",
       "sample estimates:\n",
       "mean in group não mean in group sim \n",
       "         7.955556          6.260870 \n"
      ]
     },
     "metadata": {},
     "output_type": "display_data"
    }
   ],
   "source": [
    "#variáveis paramétricas \n",
    "#idade, estatura*, IMC, pressão arterial de repouso*, frequência cardíaca de repouso*, escolaridade,\n",
    "#tempo de doença, número de medicamentos, escala geriátrica de depressão(GDS), DT(DT_Sec), TLI*, Delta DT* e TSL(STS)\n",
    "\n",
    "#Pvalor<0.05 - há diferença entre os grupos\n",
    "\n",
    "t.test(idade~Caidor,bd,var.equal=F) #pvalor LeveneTest < 0.05\n",
    "t.test(IMC~Caidor,bd,var.equal=T)\n",
    "t.test(Nivel_educacional~Caidor,bd,var.equal=T)\n",
    "t.test(Tempo_doença~Caidor,bd,var.equal=T)\n",
    "t.test(quantidade_total_de_medicação~Caidor,bd,var.equal=T)\n",
    "t.test(DT_Sec~Caidor,bd,var.equal=T)\n",
    "t.test(GDS~Caidor,bd,var.equal=T)\n",
    "t.test(STS~Caidor,bd,var.equal=T)"
   ]
  },
  {
   "cell_type": "markdown",
   "metadata": {},
   "source": [
    "## Mann-Whitney U"
   ]
  },
  {
   "cell_type": "code",
   "execution_count": 16,
   "metadata": {},
   "outputs": [
    {
     "name": "stderr",
     "output_type": "stream",
     "text": [
      "Warning message in wilcox.test.default(x = c(8, 6, 8, 9, 5, 7, 4, 9, 2, 6, 8, 7, :\n",
      "\"cannot compute exact p-value with ties\"\n"
     ]
    },
    {
     "data": {
      "text/plain": [
       "\n",
       "\tWilcoxon rank sum test with continuity correction\n",
       "\n",
       "data:  MMSE by Caidor\n",
       "W = 645.5, p-value = 0.311\n",
       "alternative hypothesis: true location shift is not equal to 0\n"
      ]
     },
     "metadata": {},
     "output_type": "display_data"
    },
    {
     "name": "stderr",
     "output_type": "stream",
     "text": [
      "Warning message in wilcox.test.default(x = c(4, 43, 25, 46, 28, 27, 42, 30, 20, :\n",
      "\"cannot compute exact p-value with ties\"\n"
     ]
    },
    {
     "data": {
      "text/plain": [
       "\n",
       "\tWilcoxon rank sum test with continuity correction\n",
       "\n",
       "data:  Trilhas_A by Caidor\n",
       "W = 453, p-value = 0.179\n",
       "alternative hypothesis: true location shift is not equal to 0\n"
      ]
     },
     "metadata": {},
     "output_type": "display_data"
    }
   ],
   "source": [
    "#variáveis não paramétricas\n",
    "#Palavras DT*, MEEM, Trilhas A, Intervalo RR*, SDNN*, rMSSD*, VLF*, LF*, HF*, LF/HF* e Total*\n",
    "\n",
    "#Pvalue>0.05 - identical populations\n",
    "\n",
    "wilcox.test(MMSE ~ Caidor, data=bd)\n",
    "wilcox.test(Trilhas_A ~ Caidor, data=bd)"
   ]
  },
  {
   "cell_type": "code",
   "execution_count": 17,
   "metadata": {},
   "outputs": [
    {
     "data": {
      "text/plain": [
       "\n",
       "não sim \n",
       " 24  14 "
      ]
     },
     "metadata": {},
     "output_type": "display_data"
    },
    {
     "data": {
      "text/plain": [
       "\n",
       "não sim \n",
       "  9   5 "
      ]
     },
     "metadata": {},
     "output_type": "display_data"
    }
   ],
   "source": [
    "#install.packages(\"caret\")\n",
    "require(caret)\n",
    "set.seed(1)\n",
    "train<- createDataPartition(BD$Caidor,p=0.7,list=F)\n",
    "data_train<- BD[train,]\n",
    "data_test<- BD[-train,]\n",
    "table(data_train$Caidor) #(14 sim e 24 não) \n",
    "table(data_test$Caidor) #(5 sim e 9 não)"
   ]
  },
  {
   "cell_type": "code",
   "execution_count": 18,
   "metadata": {},
   "outputs": [
    {
     "name": "stderr",
     "output_type": "stream",
     "text": [
      "Loading required package: e1071\n",
      "\n",
      "Loading required package: randomForest\n",
      "\n",
      "Warning message:\n",
      "\"package 'randomForest' was built under R version 3.6.3\"\n",
      "randomForest 4.6-14\n",
      "\n",
      "Type rfNews() to see new features/changes/bug fixes.\n",
      "\n",
      "\n",
      "Attaching package: 'randomForest'\n",
      "\n",
      "\n",
      "The following object is masked from 'package:ggplot2':\n",
      "\n",
      "    margin\n",
      "\n",
      "\n"
     ]
    },
    {
     "name": "stdout",
     "output_type": "stream",
     "text": [
      "\n",
      "Recursive feature selection\n",
      "\n",
      "Outer resampling method: Cross-Validated (5 fold) \n",
      "\n",
      "Resampling performance over subset size:\n",
      "\n",
      " Variables Accuracy  Kappa AccuracySD KappaSD Selected\n",
      "         2   0.6357 0.2432    0.13399  0.2851         \n",
      "         3   0.5821 0.0490    0.09070  0.2485         \n",
      "         4   0.6357 0.1594    0.08803  0.1835         \n",
      "         5   0.6607 0.2027    0.10102  0.2299         \n",
      "         6   0.7107 0.3013    0.10211  0.2845         \n",
      "         7   0.6821 0.2542    0.11939  0.3570         \n",
      "         8   0.6821 0.2542    0.11939  0.3570         \n",
      "         9   0.7107 0.3613    0.10211  0.2318         \n",
      "        10   0.6821 0.2542    0.11939  0.3570         \n",
      "        11   0.6821 0.2542    0.11939  0.3570         \n",
      "        12   0.6821 0.2542    0.11939  0.3570         \n",
      "        13   0.7107 0.3613    0.10211  0.2318         \n",
      "        14   0.6821 0.2542    0.11939  0.3570         \n",
      "        15   0.6571 0.1976    0.07297  0.2707         \n",
      "        16   0.6857 0.3046    0.05731  0.1214         \n",
      "        17   0.6571 0.1976    0.07297  0.2707         \n",
      "        18   0.6571 0.1976    0.07297  0.2707         \n",
      "        19   0.6571 0.1976    0.07297  0.2707         \n",
      "        20   0.6571 0.1976    0.07297  0.2707         \n",
      "        21   0.7107 0.3613    0.10211  0.2318         \n",
      "        22   0.6821 0.2542    0.11939  0.3570         \n",
      "        23   0.6821 0.2542    0.11939  0.3570         \n",
      "        24   0.6571 0.1976    0.07297  0.2707         \n",
      "        25   0.6857 0.3046    0.05731  0.1214         \n",
      "        26   0.6571 0.1976    0.07297  0.2707         \n",
      "        27   0.6857 0.3046    0.05731  0.1214         \n",
      "        28   0.7143 0.3623    0.09699  0.1751         \n",
      "        29   0.6571 0.1976    0.07297  0.2707         \n",
      "        30   0.7143 0.3623    0.09699  0.1751         \n",
      "        31   0.6857 0.2446    0.05731  0.1828         \n",
      "        32   0.7107 0.3613    0.10211  0.2318         \n",
      "        33   0.7143 0.3623    0.09699  0.1751         \n",
      "        34   0.6857 0.2446    0.05731  0.1828         \n",
      "        35   0.7393 0.4106    0.08338  0.1259         \n",
      "        36   0.7393 0.4189    0.12151  0.2480        *\n",
      "        37   0.7393 0.4189    0.12151  0.2480         \n",
      "        38   0.7143 0.3623    0.09699  0.1751         \n",
      "        39   0.7143 0.3623    0.09699  0.1751         \n",
      "\n",
      "The top 5 variables (out of 36):\n",
      "   Vo2_maximo_avaliado, FES_I, medicaçao_tipo_cardiovascular, Diuretico_classif, Berg\n",
      "\n"
     ]
    },
    {
     "data": {
      "text/html": [
       "<style>\n",
       ".list-inline {list-style: none; margin:0; padding: 0}\n",
       ".list-inline>li {display: inline-block}\n",
       ".list-inline>li:not(:last-child)::after {content: \"\\00b7\"; padding: 0 .5ex}\n",
       "</style>\n",
       "<ol class=list-inline><li>'Vo2_maximo_avaliado'</li><li>'FES_I'</li><li>'medicaçao_tipo_cardiovascular'</li><li>'Diuretico_classif'</li><li>'Berg'</li><li>'STS'</li><li>'DT_Sec'</li><li>'Trilhas_b'</li><li>'idade'</li><li>'medicação_tipo_saude'</li><li>'Anticoagulante_classif'</li><li>'HAS'</li><li>'TUG_sec'</li><li>'Nivel_social'</li><li>'MMSE'</li><li>'Criterio_AHA'</li><li>'Anti_hipertensivo'</li><li>'Vsaq'</li><li>'DT_numero_animais'</li><li>'quantidade_total_de_medicação'</li><li>'medicação_tipo_mental'</li><li>'betabloqueador'</li><li>'Fluencia_verbal'</li><li>'Tempo_doença'</li><li>'Dinamometria'</li><li>'Trilhas_A'</li><li>'Doenca_Respi'</li><li>'DVC_primaria'</li><li>'IMC'</li><li>'benzodiazepinico'</li><li>'Genero'</li><li>'Flexibilidade_Ms'</li><li>'ansiolitico'</li><li>'antidepressivo'</li><li>'Freq_atividade'</li><li>'Flexibilidade_MI'</li></ol>\n"
      ],
      "text/latex": [
       "\\begin{enumerate*}\n",
       "\\item 'Vo2\\_maximo\\_avaliado'\n",
       "\\item 'FES\\_I'\n",
       "\\item 'medicaçao\\_tipo\\_cardiovascular'\n",
       "\\item 'Diuretico\\_classif'\n",
       "\\item 'Berg'\n",
       "\\item 'STS'\n",
       "\\item 'DT\\_Sec'\n",
       "\\item 'Trilhas\\_b'\n",
       "\\item 'idade'\n",
       "\\item 'medicação\\_tipo\\_saude'\n",
       "\\item 'Anticoagulante\\_classif'\n",
       "\\item 'HAS'\n",
       "\\item 'TUG\\_sec'\n",
       "\\item 'Nivel\\_social'\n",
       "\\item 'MMSE'\n",
       "\\item 'Criterio\\_AHA'\n",
       "\\item 'Anti\\_hipertensivo'\n",
       "\\item 'Vsaq'\n",
       "\\item 'DT\\_numero\\_animais'\n",
       "\\item 'quantidade\\_total\\_de\\_medicação'\n",
       "\\item 'medicação\\_tipo\\_mental'\n",
       "\\item 'betabloqueador'\n",
       "\\item 'Fluencia\\_verbal'\n",
       "\\item 'Tempo\\_doença'\n",
       "\\item 'Dinamometria'\n",
       "\\item 'Trilhas\\_A'\n",
       "\\item 'Doenca\\_Respi'\n",
       "\\item 'DVC\\_primaria'\n",
       "\\item 'IMC'\n",
       "\\item 'benzodiazepinico'\n",
       "\\item 'Genero'\n",
       "\\item 'Flexibilidade\\_Ms'\n",
       "\\item 'ansiolitico'\n",
       "\\item 'antidepressivo'\n",
       "\\item 'Freq\\_atividade'\n",
       "\\item 'Flexibilidade\\_MI'\n",
       "\\end{enumerate*}\n"
      ],
      "text/markdown": [
       "1. 'Vo2_maximo_avaliado'\n",
       "2. 'FES_I'\n",
       "3. 'medicaçao_tipo_cardiovascular'\n",
       "4. 'Diuretico_classif'\n",
       "5. 'Berg'\n",
       "6. 'STS'\n",
       "7. 'DT_Sec'\n",
       "8. 'Trilhas_b'\n",
       "9. 'idade'\n",
       "10. 'medicação_tipo_saude'\n",
       "11. 'Anticoagulante_classif'\n",
       "12. 'HAS'\n",
       "13. 'TUG_sec'\n",
       "14. 'Nivel_social'\n",
       "15. 'MMSE'\n",
       "16. 'Criterio_AHA'\n",
       "17. 'Anti_hipertensivo'\n",
       "18. 'Vsaq'\n",
       "19. 'DT_numero_animais'\n",
       "20. 'quantidade_total_de_medicação'\n",
       "21. 'medicação_tipo_mental'\n",
       "22. 'betabloqueador'\n",
       "23. 'Fluencia_verbal'\n",
       "24. 'Tempo_doença'\n",
       "25. 'Dinamometria'\n",
       "26. 'Trilhas_A'\n",
       "27. 'Doenca_Respi'\n",
       "28. 'DVC_primaria'\n",
       "29. 'IMC'\n",
       "30. 'benzodiazepinico'\n",
       "31. 'Genero'\n",
       "32. 'Flexibilidade_Ms'\n",
       "33. 'ansiolitico'\n",
       "34. 'antidepressivo'\n",
       "35. 'Freq_atividade'\n",
       "36. 'Flexibilidade_MI'\n",
       "\n",
       "\n"
      ],
      "text/plain": [
       " [1] \"Vo2_maximo_avaliado\"           \"FES_I\"                        \n",
       " [3] \"medicaçao_tipo_cardiovascular\" \"Diuretico_classif\"            \n",
       " [5] \"Berg\"                          \"STS\"                          \n",
       " [7] \"DT_Sec\"                        \"Trilhas_b\"                    \n",
       " [9] \"idade\"                         \"medicação_tipo_saude\"         \n",
       "[11] \"Anticoagulante_classif\"        \"HAS\"                          \n",
       "[13] \"TUG_sec\"                       \"Nivel_social\"                 \n",
       "[15] \"MMSE\"                          \"Criterio_AHA\"                 \n",
       "[17] \"Anti_hipertensivo\"             \"Vsaq\"                         \n",
       "[19] \"DT_numero_animais\"             \"quantidade_total_de_medicação\"\n",
       "[21] \"medicação_tipo_mental\"         \"betabloqueador\"               \n",
       "[23] \"Fluencia_verbal\"               \"Tempo_doença\"                 \n",
       "[25] \"Dinamometria\"                  \"Trilhas_A\"                    \n",
       "[27] \"Doenca_Respi\"                  \"DVC_primaria\"                 \n",
       "[29] \"IMC\"                           \"benzodiazepinico\"             \n",
       "[31] \"Genero\"                        \"Flexibilidade_Ms\"             \n",
       "[33] \"ansiolitico\"                   \"antidepressivo\"               \n",
       "[35] \"Freq_atividade\"                \"Flexibilidade_MI\"             "
      ]
     },
     "metadata": {},
     "output_type": "display_data"
    },
    {
     "data": {
      "image/png": "[encoded data removed]",
      "text/plain": [
       "plot without title"
      ]
     },
     "metadata": {
      "image/png": {
       "height": 420,
       "width": 420
      }
     },
     "output_type": "display_data"
    }
   ],
   "source": [
    "#define the control using a random forest selection function\n",
    "#install.packages(\"caret\")\n",
    "#require(caret)\n",
    "#install.packages(\"e1071\")\n",
    "require(e1071)\n",
    "#install.packages(\"randomForest\")\n",
    "require(randomForest)\n",
    "set.seed(1)\n",
    "control <- rfeControl(functions=rfFuncs, method=\"cv\", number=5)\n",
    "set.seed(2)\n",
    "results <- rfe(data_train[,2:40], data_train[[1]], sizes=c(2:40),rfeControl=control,metric=\"Kappa\") \n",
    "print(results) \n",
    "#list the chosen features\n",
    "predictors(results) \n",
    "#plot the results\n",
    "plot(results, type=c(\"g\", \"o\"),main=\"RFE using Random Forest\")"
   ]
  },
  {
   "cell_type": "code",
   "execution_count": 19,
   "metadata": {},
   "outputs": [
    {
     "data": {
      "text/html": [
       "37"
      ],
      "text/latex": [
       "37"
      ],
      "text/markdown": [
       "37"
      ],
      "text/plain": [
       "[1] 37"
      ]
     },
     "metadata": {},
     "output_type": "display_data"
    }
   ],
   "source": [
    "subset_rfe<- as.vector(predictors(results))\n",
    "subset_rfe<- c(\"Caidor\",subset_rfe)\n",
    "length(subset_rfe)"
   ]
  },
  {
   "cell_type": "code",
   "execution_count": 20,
   "metadata": {},
   "outputs": [
    {
     "data": {
      "text/html": [
       "<table class=\"dataframe\">\n",
       "<caption>A tibble: 6 × 37</caption>\n",
       "<thead>\n",
       "\t<tr><th scope=col>Caidor</th><th scope=col>Vo2_maximo_avaliado</th><th scope=col>FES_I</th><th scope=col>medicaçao_tipo_cardiovascular</th><th scope=col>Diuretico_classif</th><th scope=col>Berg</th><th scope=col>STS</th><th scope=col>DT_Sec</th><th scope=col>Trilhas_b</th><th scope=col>idade</th><th scope=col>...</th><th scope=col>Doenca_Respi</th><th scope=col>DVC_primaria</th><th scope=col>IMC</th><th scope=col>benzodiazepinico</th><th scope=col>Genero</th><th scope=col>Flexibilidade_Ms</th><th scope=col>ansiolitico</th><th scope=col>antidepressivo</th><th scope=col>Freq_atividade</th><th scope=col>Flexibilidade_MI</th></tr>\n",
       "\t<tr><th scope=col>&lt;fct&gt;</th><th scope=col>&lt;dbl&gt;</th><th scope=col>&lt;dbl&gt;</th><th scope=col>&lt;fct&gt;</th><th scope=col>&lt;fct&gt;</th><th scope=col>&lt;dbl&gt;</th><th scope=col>&lt;dbl&gt;</th><th scope=col>&lt;dbl&gt;</th><th scope=col>&lt;dbl&gt;</th><th scope=col>&lt;dbl&gt;</th><th scope=col>...</th><th scope=col>&lt;fct&gt;</th><th scope=col>&lt;fct&gt;</th><th scope=col>&lt;dbl&gt;</th><th scope=col>&lt;fct&gt;</th><th scope=col>&lt;fct&gt;</th><th scope=col>&lt;dbl&gt;</th><th scope=col>&lt;fct&gt;</th><th scope=col>&lt;fct&gt;</th><th scope=col>&lt;fct&gt;</th><th scope=col>&lt;dbl&gt;</th></tr>\n",
       "</thead>\n",
       "<tbody>\n",
       "\t<tr><td>sim</td><td>20</td><td>10</td><td>Beta + Anti_Coag      </td><td>não</td><td>11</td><td>2</td><td>26</td><td>11</td><td>17</td><td>...</td><td>sim</td><td>insuficiencia</td><td>26</td><td>sim</td><td>mulher</td><td> 5</td><td>não</td><td>não</td><td>3x        </td><td> 2</td></tr>\n",
       "\t<tr><td>não</td><td> 3</td><td> 4</td><td>Beta + Anti_Coag      </td><td>não</td><td>11</td><td>4</td><td>22</td><td>43</td><td>16</td><td>...</td><td>não</td><td>insuficiencia</td><td>39</td><td>sim</td><td>mulher</td><td>21</td><td>não</td><td>sim</td><td>2x        </td><td>10</td></tr>\n",
       "\t<tr><td>sim</td><td> 5</td><td> 1</td><td>Beta + Anti_Coag + Diu</td><td>sim</td><td> 9</td><td>6</td><td>32</td><td>29</td><td>24</td><td>...</td><td>não</td><td>arritmia     </td><td>33</td><td>sim</td><td>mulher</td><td>10</td><td>não</td><td>não</td><td>sedentario</td><td>16</td></tr>\n",
       "\t<tr><td>sim</td><td>25</td><td> 6</td><td>Beta                  </td><td>não</td><td>11</td><td>3</td><td>27</td><td>30</td><td>24</td><td>...</td><td>não</td><td>arritmia     </td><td> 6</td><td>sim</td><td>mulher</td><td>22</td><td>não</td><td>não</td><td>3x        </td><td>15</td></tr>\n",
       "\t<tr><td>não</td><td> 7</td><td> 1</td><td>Beta                  </td><td>não</td><td>12</td><td>5</td><td>23</td><td>34</td><td>23</td><td>...</td><td>não</td><td>arritmia     </td><td>25</td><td>não</td><td>mulher</td><td>20</td><td>não</td><td>não</td><td>2x        </td><td>18</td></tr>\n",
       "\t<tr><td>sim</td><td> 4</td><td> 8</td><td>Beta + Anti_Coag + Diu</td><td>sim</td><td> 8</td><td>5</td><td>23</td><td>40</td><td>16</td><td>...</td><td>não</td><td>infarto      </td><td>12</td><td>sim</td><td>homem </td><td>17</td><td>sim</td><td>sim</td><td>2x        </td><td> 4</td></tr>\n",
       "</tbody>\n",
       "</table>\n"
      ],
      "text/latex": [
       "A tibble: 6 × 37\n",
       "\\begin{tabular}{lllllllllllllllllllll}\n",
       " Caidor & Vo2\\_maximo\\_avaliado & FES\\_I & medicaçao\\_tipo\\_cardiovascular & Diuretico\\_classif & Berg & STS & DT\\_Sec & Trilhas\\_b & idade & ... & Doenca\\_Respi & DVC\\_primaria & IMC & benzodiazepinico & Genero & Flexibilidade\\_Ms & ansiolitico & antidepressivo & Freq\\_atividade & Flexibilidade\\_MI\\\\\n",
       " <fct> & <dbl> & <dbl> & <fct> & <fct> & <dbl> & <dbl> & <dbl> & <dbl> & <dbl> & ... & <fct> & <fct> & <dbl> & <fct> & <fct> & <dbl> & <fct> & <fct> & <fct> & <dbl>\\\\\n",
       "\\hline\n",
       "\t sim & 20 & 10 & Beta + Anti\\_Coag       & não & 11 & 2 & 26 & 11 & 17 & ... & sim & insuficiencia & 26 & sim & mulher &  5 & não & não & 3x         &  2\\\\\n",
       "\t não &  3 &  4 & Beta + Anti\\_Coag       & não & 11 & 4 & 22 & 43 & 16 & ... & não & insuficiencia & 39 & sim & mulher & 21 & não & sim & 2x         & 10\\\\\n",
       "\t sim &  5 &  1 & Beta + Anti\\_Coag + Diu & sim &  9 & 6 & 32 & 29 & 24 & ... & não & arritmia      & 33 & sim & mulher & 10 & não & não & sedentario & 16\\\\\n",
       "\t sim & 25 &  6 & Beta                   & não & 11 & 3 & 27 & 30 & 24 & ... & não & arritmia      &  6 & sim & mulher & 22 & não & não & 3x         & 15\\\\\n",
       "\t não &  7 &  1 & Beta                   & não & 12 & 5 & 23 & 34 & 23 & ... & não & arritmia      & 25 & não & mulher & 20 & não & não & 2x         & 18\\\\\n",
       "\t sim &  4 &  8 & Beta + Anti\\_Coag + Diu & sim &  8 & 5 & 23 & 40 & 16 & ... & não & infarto       & 12 & sim & homem  & 17 & sim & sim & 2x         &  4\\\\\n",
       "\\end{tabular}\n"
      ],
      "text/markdown": [
       "\n",
       "A tibble: 6 × 37\n",
       "\n",
       "| Caidor &lt;fct&gt; | Vo2_maximo_avaliado &lt;dbl&gt; | FES_I &lt;dbl&gt; | medicaçao_tipo_cardiovascular &lt;fct&gt; | Diuretico_classif &lt;fct&gt; | Berg &lt;dbl&gt; | STS &lt;dbl&gt; | DT_Sec &lt;dbl&gt; | Trilhas_b &lt;dbl&gt; | idade &lt;dbl&gt; | ... ... | Doenca_Respi &lt;fct&gt; | DVC_primaria &lt;fct&gt; | IMC &lt;dbl&gt; | benzodiazepinico &lt;fct&gt; | Genero &lt;fct&gt; | Flexibilidade_Ms &lt;dbl&gt; | ansiolitico &lt;fct&gt; | antidepressivo &lt;fct&gt; | Freq_atividade &lt;fct&gt; | Flexibilidade_MI &lt;dbl&gt; |\n",
       "|---|---|---|---|---|---|---|---|---|---|---|---|---|---|---|---|---|---|---|---|---|\n",
       "| sim | 20 | 10 | Beta + Anti_Coag       | não | 11 | 2 | 26 | 11 | 17 | ... | sim | insuficiencia | 26 | sim | mulher |  5 | não | não | 3x         |  2 |\n",
       "| não |  3 |  4 | Beta + Anti_Coag       | não | 11 | 4 | 22 | 43 | 16 | ... | não | insuficiencia | 39 | sim | mulher | 21 | não | sim | 2x         | 10 |\n",
       "| sim |  5 |  1 | Beta + Anti_Coag + Diu | sim |  9 | 6 | 32 | 29 | 24 | ... | não | arritmia      | 33 | sim | mulher | 10 | não | não | sedentario | 16 |\n",
       "| sim | 25 |  6 | Beta                   | não | 11 | 3 | 27 | 30 | 24 | ... | não | arritmia      |  6 | sim | mulher | 22 | não | não | 3x         | 15 |\n",
       "| não |  7 |  1 | Beta                   | não | 12 | 5 | 23 | 34 | 23 | ... | não | arritmia      | 25 | não | mulher | 20 | não | não | 2x         | 18 |\n",
       "| sim |  4 |  8 | Beta + Anti_Coag + Diu | sim |  8 | 5 | 23 | 40 | 16 | ... | não | infarto       | 12 | sim | homem  | 17 | sim | sim | 2x         |  4 |\n",
       "\n"
      ],
      "text/plain": [
       "  Caidor Vo2_maximo_avaliado FES_I medicaçao_tipo_cardiovascular\n",
       "1 sim    20                  10    Beta + Anti_Coag             \n",
       "2 não     3                   4    Beta + Anti_Coag             \n",
       "3 sim     5                   1    Beta + Anti_Coag + Diu       \n",
       "4 sim    25                   6    Beta                         \n",
       "5 não     7                   1    Beta                         \n",
       "6 sim     4                   8    Beta + Anti_Coag + Diu       \n",
       "  Diuretico_classif Berg STS DT_Sec Trilhas_b idade ... Doenca_Respi\n",
       "1 não               11   2   26     11        17    ... sim         \n",
       "2 não               11   4   22     43        16    ... não         \n",
       "3 sim                9   6   32     29        24    ... não         \n",
       "4 não               11   3   27     30        24    ... não         \n",
       "5 não               12   5   23     34        23    ... não         \n",
       "6 sim                8   5   23     40        16    ... não         \n",
       "  DVC_primaria  IMC benzodiazepinico Genero Flexibilidade_Ms ansiolitico\n",
       "1 insuficiencia 26  sim              mulher  5               não        \n",
       "2 insuficiencia 39  sim              mulher 21               não        \n",
       "3 arritmia      33  sim              mulher 10               não        \n",
       "4 arritmia       6  sim              mulher 22               não        \n",
       "5 arritmia      25  não              mulher 20               não        \n",
       "6 infarto       12  sim              homem  17               sim        \n",
       "  antidepressivo Freq_atividade Flexibilidade_MI\n",
       "1 não            3x              2              \n",
       "2 sim            2x             10              \n",
       "3 não            sedentario     16              \n",
       "4 não            3x             15              \n",
       "5 não            2x             18              \n",
       "6 sim            2x              4              "
      ]
     },
     "metadata": {},
     "output_type": "display_data"
    },
    {
     "data": {
      "text/plain": [
       "Random Forest \n",
       "\n",
       "38 samples\n",
       "36 predictors\n",
       " 2 classes: 'não', 'sim' \n",
       "\n",
       "No pre-processing\n",
       "Resampling: Cross-Validated (5 fold) \n",
       "Summary of sample sizes: 31, 30, 31, 30, 30 \n",
       "Resampling results across tuning parameters:\n",
       "\n",
       "  mtry  Accuracy   Kappa    \n",
       "   2    0.6607143  0.1899865\n",
       "  27    0.6321429  0.1346505\n",
       "  52    0.6285714  0.1274757\n",
       "\n",
       "Kappa was used to select the optimal model using the largest value.\n",
       "The final value used for the model was mtry = 2."
      ]
     },
     "metadata": {},
     "output_type": "display_data"
    },
    {
     "data": {
      "text/plain": [
       "\n",
       "Call:\n",
       " randomForest(x = x, y = y, mtry = min(param$mtry, ncol(x))) \n",
       "               Type of random forest: classification\n",
       "                     Number of trees: 500\n",
       "No. of variables tried at each split: 2\n",
       "\n",
       "        OOB estimate of  error rate: 31.58%\n",
       "Confusion matrix:\n",
       "    não sim class.error\n",
       "não  21   3   0.1250000\n",
       "sim   9   5   0.6428571"
      ]
     },
     "metadata": {},
     "output_type": "display_data"
    },
    {
     "data": {
      "text/plain": [
       "rf variable importance\n",
       "\n",
       "  only 20 most important variables shown (out of 52)\n",
       "\n",
       "                                                    Overall\n",
       "STS                                                  100.00\n",
       "Vo2_maximo_avaliado                                   95.44\n",
       "Trilhas_b                                             89.93\n",
       "FES_I                                                 89.62\n",
       "Berg                                                  86.73\n",
       "medicaçao_tipo_cardiovascularBeta + Anti_Coag + Diu   74.26\n",
       "DT_Sec                                                73.74\n",
       "idade                                                 65.16\n",
       "Dinamometria                                          63.43\n",
       "IMC                                                   60.93\n",
       "TUG_sec                                               59.19\n",
       "Tempo_doença                                          58.54\n",
       "Flexibilidade_Ms                                      55.27\n",
       "DT_numero_animais                                     51.11\n",
       "Criterio_AHAc                                         50.06\n",
       "Vsaq                                                  49.73\n",
       "Trilhas_A                                             49.33\n",
       "MMSE                                                  46.56\n",
       "Fluencia_verbal                                       41.68\n",
       "Flexibilidade_MI                                      41.50"
      ]
     },
     "metadata": {},
     "output_type": "display_data"
    },
    {
     "data": {
      "image/png": "[encoded data removed]",
      "text/plain": [
       "plot without title"
      ]
     },
     "metadata": {
      "image/png": {
       "height": 420,
       "width": 420
      }
     },
     "output_type": "display_data"
    },
    {
     "data": {
      "image/png": "[encoded data removed]",
      "text/plain": [
       "plot without title"
      ]
     },
     "metadata": {
      "image/png": {
       "height": 420,
       "width": 420
      }
     },
     "output_type": "display_data"
    }
   ],
   "source": [
    "\n",
    "data_train_RFE_RF<- data_train[,subset_rfe]\n",
    "data_test_RFE_RF<- data_test[,subset_rfe]\n",
    "head(data_train_RFE_RF)\n",
    "set.seed(3)\n",
    "RFmodel=train(Caidor~.,data=data_train_RFE_RF,method='rf',metric=ifelse(is.factor(data_train_RFE_RF$Caidor),\"Kappa\",\"RMSE\"),trControl=trainControl(method='cv',number=5,savePredictions=TRUE))\n",
    "RFmodel\n",
    "plot(RFmodel)\n",
    "RFmodel$finalModel \n",
    "varImp(RFmodel)\n",
    "plot(varImp(RFmodel),main=\"Variables Importance - Random Forest\")"
   ]
  },
  {
   "cell_type": "code",
   "execution_count": 21,
   "metadata": {},
   "outputs": [
    {
     "data": {
      "text/plain": [
       "Confusion Matrix and Statistics\n",
       "\n",
       "     RF_prediction\n",
       "      não sim\n",
       "  não   8   1\n",
       "  sim   4   1\n",
       "                                          \n",
       "               Accuracy : 0.6429          \n",
       "                 95% CI : (0.3514, 0.8724)\n",
       "    No Information Rate : 0.8571          \n",
       "    P-Value [Acc > NIR] : 0.9909          \n",
       "                                          \n",
       "                  Kappa : 0.1026          \n",
       "                                          \n",
       " Mcnemar's Test P-Value : 0.3711          \n",
       "                                          \n",
       "            Sensitivity : 0.6667          \n",
       "            Specificity : 0.5000          \n",
       "         Pos Pred Value : 0.8889          \n",
       "         Neg Pred Value : 0.2000          \n",
       "             Prevalence : 0.8571          \n",
       "         Detection Rate : 0.5714          \n",
       "   Detection Prevalence : 0.6429          \n",
       "      Balanced Accuracy : 0.5833          \n",
       "                                          \n",
       "       'Positive' Class : não             \n",
       "                                          "
      ]
     },
     "metadata": {},
     "output_type": "display_data"
    },
    {
     "data": {
      "text/html": [
       "<style>\n",
       ".dl-inline {width: auto; margin:0; padding: 0}\n",
       ".dl-inline>dt, .dl-inline>dd {float: none; width: auto; display: inline-block}\n",
       ".dl-inline>dt::after {content: \":\\0020\"; padding-right: .5ex}\n",
       ".dl-inline>dt:not(:first-of-type) {padding-left: .5ex}\n",
       "</style><dl class=dl-inline><dt>Sensitivity</dt><dd>0.666666666666667</dd><dt>Specificity</dt><dd>0.5</dd><dt>Pos Pred Value</dt><dd>0.888888888888889</dd><dt>Neg Pred Value</dt><dd>0.2</dd><dt>Precision</dt><dd>0.888888888888889</dd><dt>Recall</dt><dd>0.666666666666667</dd><dt>F1</dt><dd>0.761904761904762</dd><dt>Prevalence</dt><dd>0.857142857142857</dd><dt>Detection Rate</dt><dd>0.571428571428571</dd><dt>Detection Prevalence</dt><dd>0.642857142857143</dd><dt>Balanced Accuracy</dt><dd>0.583333333333333</dd></dl>\n"
      ],
      "text/latex": [
       "\\begin{description*}\n",
       "\\item[Sensitivity] 0.666666666666667\n",
       "\\item[Specificity] 0.5\n",
       "\\item[Pos Pred Value] 0.888888888888889\n",
       "\\item[Neg Pred Value] 0.2\n",
       "\\item[Precision] 0.888888888888889\n",
       "\\item[Recall] 0.666666666666667\n",
       "\\item[F1] 0.761904761904762\n",
       "\\item[Prevalence] 0.857142857142857\n",
       "\\item[Detection Rate] 0.571428571428571\n",
       "\\item[Detection Prevalence] 0.642857142857143\n",
       "\\item[Balanced Accuracy] 0.583333333333333\n",
       "\\end{description*}\n"
      ],
      "text/markdown": [
       "Sensitivity\n",
       ":   0.666666666666667Specificity\n",
       ":   0.5Pos Pred Value\n",
       ":   0.888888888888889Neg Pred Value\n",
       ":   0.2Precision\n",
       ":   0.888888888888889Recall\n",
       ":   0.666666666666667F1\n",
       ":   0.761904761904762Prevalence\n",
       ":   0.857142857142857Detection Rate\n",
       ":   0.571428571428571Detection Prevalence\n",
       ":   0.642857142857143Balanced Accuracy\n",
       ":   0.583333333333333\n",
       "\n"
      ],
      "text/plain": [
       "         Sensitivity          Specificity       Pos Pred Value \n",
       "           0.6666667            0.5000000            0.8888889 \n",
       "      Neg Pred Value            Precision               Recall \n",
       "           0.2000000            0.8888889            0.6666667 \n",
       "                  F1           Prevalence       Detection Rate \n",
       "           0.7619048            0.8571429            0.5714286 \n",
       "Detection Prevalence    Balanced Accuracy \n",
       "           0.6428571            0.5833333 "
      ]
     },
     "metadata": {},
     "output_type": "display_data"
    },
    {
     "data": {
      "text/plain": [
       "rf variable importance\n",
       "\n",
       "  only 20 most important variables shown (out of 52)\n",
       "\n",
       "                                                    Overall\n",
       "STS                                                  100.00\n",
       "Vo2_maximo_avaliado                                   95.44\n",
       "Trilhas_b                                             89.93\n",
       "FES_I                                                 89.62\n",
       "Berg                                                  86.73\n",
       "medicaçao_tipo_cardiovascularBeta + Anti_Coag + Diu   74.26\n",
       "DT_Sec                                                73.74\n",
       "idade                                                 65.16\n",
       "Dinamometria                                          63.43\n",
       "IMC                                                   60.93\n",
       "TUG_sec                                               59.19\n",
       "Tempo_doença                                          58.54\n",
       "Flexibilidade_Ms                                      55.27\n",
       "DT_numero_animais                                     51.11\n",
       "Criterio_AHAc                                         50.06\n",
       "Vsaq                                                  49.73\n",
       "Trilhas_A                                             49.33\n",
       "MMSE                                                  46.56\n",
       "Fluencia_verbal                                       41.68\n",
       "Flexibilidade_MI                                      41.50"
      ]
     },
     "metadata": {},
     "output_type": "display_data"
    },
    {
     "data": {
      "image/png": "[encoded data removed]",
      "text/plain": [
       "plot without title"
      ]
     },
     "metadata": {
      "image/png": {
       "height": 420,
       "width": 420
      }
     },
     "output_type": "display_data"
    }
   ],
   "source": [
    "RF_prediction<- predict(RFmodel,data_test_RFE_RF)\n",
    "confusionMatrix(table(data_test_RFE_RF$Caidor,RF_prediction)) \n",
    "confusionMatrix(table(data_test_RFE_RF$Caidor,RF_prediction))$byClass \n",
    "varImp(RFmodel)\n",
    "plot(varImp(RFmodel),main=\"Variables Importance - Random Forest\")"
   ]
  },
  {
   "cell_type": "code",
   "execution_count": 22,
   "metadata": {},
   "outputs": [],
   "source": [
    "f1 <- function(ths){\n",
    "    \n",
    "  diff <- abs(ths$Sensitivity - ths$Specificity)\n",
    "  indexOfMin = match(min(diff), diff)\n",
    "  return(ths[indexOfMin, \"prob_threshold\"])\n",
    "}\n",
    "\n",
    "f2 <- function(ths){\n",
    "    desv <- function(x){\n",
    "      sd(c(unname(x[\"Sensitivity\"]), unname(x[\"Specificity\"])))\n",
    "    }\n",
    "    avg <- (ths$Sensitivity + ths$Specificity)/2\n",
    "    deviation <- apply(ths, desv, MARGIN=1)\n",
    "    metric <- avg - deviation\n",
    "    indexOfMin = match(max(metric), metric)\n",
    "    return(ths[indexOfMin, \"prob_threshold\"])\n",
    "}"
   ]
  },
  {
   "cell_type": "code",
   "execution_count": 23,
   "metadata": {},
   "outputs": [
    {
     "name": "stderr",
     "output_type": "stream",
     "text": [
      "Loading required package: here\n",
      "\n",
      "Warning message:\n",
      "\"package 'here' was built under R version 3.6.3\"\n",
      "here() starts at c:/Users/usernote/Documents/Analises_Heitor\n",
      "\n"
     ]
    }
   ],
   "source": [
    "#install.packages(\"here\")\n",
    "require(here)\n",
    "#source(here('Modules','modules.R'))\n",
    "#set.seed(2)\n",
    "#model <- fit_model_thresholder(\n",
    " #   model_method=\"rf\",\n",
    "  #  model_metric=\"Kappa\",\n",
    "   # trControl_func = trainControl(method = \"cv\", search=\"grid\",  classProbs=TRUE, savePredictions=TRUE),\n",
    "    #train_data = data_train_RFE_RF,\n",
    "    #test_data=data_test_RFE_RF,\n",
    "    #yname=\"Caidor\",\n",
    "    #length = 15,\n",
    "    #best_th = f2)\n",
    "\n",
    "#print(model$matrix)"
   ]
  },
  {
   "cell_type": "markdown",
   "metadata": {},
   "source": [
    "# RFE-RF (*sem dividir em amostra de treino e de teste*)"
   ]
  },
  {
   "cell_type": "code",
   "execution_count": 24,
   "metadata": {},
   "outputs": [
    {
     "name": "stdout",
     "output_type": "stream",
     "text": [
      "\n",
      "Recursive feature selection\n",
      "\n",
      "Outer resampling method: Cross-Validated (5 fold) \n",
      "\n",
      "Resampling performance over subset size:\n",
      "\n",
      " Variables Accuracy  Kappa AccuracySD KappaSD Selected\n",
      "         2   0.6897 0.2919    0.08565 0.20655         \n",
      "         3   0.7075 0.3482    0.09058 0.20640         \n",
      "         4   0.6915 0.2935    0.03965 0.13622         \n",
      "         5   0.7479 0.4211    0.06145 0.15355         \n",
      "         6   0.7701 0.4847    0.04163 0.07592        *\n",
      "         7   0.6897 0.2605    0.08565 0.23236         \n",
      "         8   0.7079 0.2938    0.10342 0.27300         \n",
      "         9   0.7079 0.3120    0.08102 0.22171         \n",
      "        10   0.7079 0.3120    0.08102 0.22171         \n",
      "        11   0.7119 0.3241    0.09233 0.24843         \n",
      "        12   0.7079 0.3120    0.08102 0.22171         \n",
      "        13   0.7079 0.3120    0.08102 0.22171         \n",
      "        14   0.7079 0.3120    0.08102 0.22171         \n",
      "        15   0.6897 0.2794    0.08565 0.22168         \n",
      "        16   0.6915 0.2861    0.09918 0.23166         \n",
      "        17   0.7279 0.3691    0.05630 0.14462         \n",
      "        18   0.7097 0.3176    0.06964 0.18194         \n",
      "        19   0.7279 0.3691    0.05630 0.14462         \n",
      "        20   0.6897 0.2605    0.08565 0.23236         \n",
      "        21   0.6897 0.2357    0.12490 0.34145         \n",
      "        22   0.7079 0.2938    0.10342 0.27300         \n",
      "        23   0.6897 0.2605    0.08565 0.23236         \n",
      "        24   0.6897 0.2605    0.08565 0.23236         \n",
      "        25   0.6533 0.1725    0.13710 0.35159         \n",
      "        26   0.7079 0.2938    0.10342 0.27300         \n",
      "        27   0.6897 0.2605    0.08565 0.23236         \n",
      "        28   0.6897 0.2357    0.12490 0.34145         \n",
      "        29   0.6533 0.1725    0.13710 0.35159         \n",
      "        30   0.6715 0.2025    0.10683 0.30203         \n",
      "        31   0.6533 0.1725    0.13710 0.35159         \n",
      "        32   0.6897 0.2357    0.12490 0.34145         \n",
      "        33   0.6715 0.2025    0.10683 0.30203         \n",
      "        34   0.6897 0.2357    0.12490 0.34145         \n",
      "        35   0.6897 0.2357    0.12490 0.34145         \n",
      "        36   0.6715 0.2025    0.10683 0.30203         \n",
      "        37   0.6715 0.2025    0.10683 0.30203         \n",
      "        38   0.6715 0.2025    0.10683 0.30203         \n",
      "        39   0.6715 0.2025    0.10683 0.30203         \n",
      "\n",
      "The top 5 variables (out of 6):\n",
      "   Berg, medicaçao_tipo_cardiovascular, DT_Sec, Diuretico_classif, Anticoagulante_classif\n",
      "\n"
     ]
    },
    {
     "data": {
      "text/html": [
       "<style>\n",
       ".list-inline {list-style: none; margin:0; padding: 0}\n",
       ".list-inline>li {display: inline-block}\n",
       ".list-inline>li:not(:last-child)::after {content: \"\\00b7\"; padding: 0 .5ex}\n",
       "</style>\n",
       "<ol class=list-inline><li>'Berg'</li><li>'medicaçao_tipo_cardiovascular'</li><li>'DT_Sec'</li><li>'Diuretico_classif'</li><li>'Anticoagulante_classif'</li><li>'Fluencia_verbal'</li></ol>\n"
      ],
      "text/latex": [
       "\\begin{enumerate*}\n",
       "\\item 'Berg'\n",
       "\\item 'medicaçao\\_tipo\\_cardiovascular'\n",
       "\\item 'DT\\_Sec'\n",
       "\\item 'Diuretico\\_classif'\n",
       "\\item 'Anticoagulante\\_classif'\n",
       "\\item 'Fluencia\\_verbal'\n",
       "\\end{enumerate*}\n"
      ],
      "text/markdown": [
       "1. 'Berg'\n",
       "2. 'medicaçao_tipo_cardiovascular'\n",
       "3. 'DT_Sec'\n",
       "4. 'Diuretico_classif'\n",
       "5. 'Anticoagulante_classif'\n",
       "6. 'Fluencia_verbal'\n",
       "\n",
       "\n"
      ],
      "text/plain": [
       "[1] \"Berg\"                          \"medicaçao_tipo_cardiovascular\"\n",
       "[3] \"DT_Sec\"                        \"Diuretico_classif\"            \n",
       "[5] \"Anticoagulante_classif\"        \"Fluencia_verbal\"              "
      ]
     },
     "metadata": {},
     "output_type": "display_data"
    },
    {
     "data": {
      "image/png": "[encoded data removed]",
      "text/plain": [
       "plot without title"
      ]
     },
     "metadata": {
      "image/png": {
       "height": 420,
       "width": 420
      }
     },
     "output_type": "display_data"
    }
   ],
   "source": [
    "#define the control using a random forest selection function\n",
    "#install.packages(\"caret\")\n",
    "require(caret)\n",
    "#install.packages(\"e1071\")\n",
    "require(e1071)\n",
    "#install.packages(\"randomForest\")\n",
    "require(randomForest)\n",
    "set.seed(1)\n",
    "control <- rfeControl(functions=rfFuncs, method=\"cv\", number=5)\n",
    "set.seed(2)\n",
    "results <- rfe(BD[,2:40], BD[[1]], sizes=c(2:40),rfeControl=control,metric=\"Kappa\") #Classes desbalanceadas\n",
    "print(results) \n",
    "#list the chosen features\n",
    "predictors(results) \n",
    "#plot the results\n",
    "plot(results, type=c(\"g\", \"o\"),main=\"RFE using Random Forest\")"
   ]
  },
  {
   "cell_type": "code",
   "execution_count": 25,
   "metadata": {},
   "outputs": [
    {
     "data": {
      "text/html": [
       "<table class=\"dataframe\">\n",
       "<caption>A tibble: 6 × 7</caption>\n",
       "<thead>\n",
       "\t<tr><th scope=col>Caidor</th><th scope=col>Berg</th><th scope=col>medicaçao_tipo_cardiovascular</th><th scope=col>DT_Sec</th><th scope=col>Diuretico_classif</th><th scope=col>Anticoagulante_classif</th><th scope=col>Fluencia_verbal</th></tr>\n",
       "\t<tr><th scope=col>&lt;fct&gt;</th><th scope=col>&lt;dbl&gt;</th><th scope=col>&lt;fct&gt;</th><th scope=col>&lt;dbl&gt;</th><th scope=col>&lt;fct&gt;</th><th scope=col>&lt;fct&gt;</th><th scope=col>&lt;dbl&gt;</th></tr>\n",
       "</thead>\n",
       "<tbody>\n",
       "\t<tr><td>sim</td><td>11</td><td>Beta + Anti_Coag      </td><td>26</td><td>não</td><td>não</td><td>17</td></tr>\n",
       "\t<tr><td>não</td><td>11</td><td>Beta + Anti_Coag      </td><td>22</td><td>não</td><td>não</td><td> 5</td></tr>\n",
       "\t<tr><td>sim</td><td> 9</td><td>Beta + Anti_Coag + Diu</td><td>32</td><td>sim</td><td>sim</td><td>10</td></tr>\n",
       "\t<tr><td>sim</td><td>11</td><td>Beta                  </td><td>27</td><td>não</td><td>sim</td><td> 9</td></tr>\n",
       "\t<tr><td>não</td><td>12</td><td>Beta                  </td><td>23</td><td>não</td><td>sim</td><td> 8</td></tr>\n",
       "\t<tr><td>não</td><td>12</td><td>Beta                  </td><td> 8</td><td>não</td><td>não</td><td>10</td></tr>\n",
       "</tbody>\n",
       "</table>\n"
      ],
      "text/latex": [
       "A tibble: 6 × 7\n",
       "\\begin{tabular}{lllllll}\n",
       " Caidor & Berg & medicaçao\\_tipo\\_cardiovascular & DT\\_Sec & Diuretico\\_classif & Anticoagulante\\_classif & Fluencia\\_verbal\\\\\n",
       " <fct> & <dbl> & <fct> & <dbl> & <fct> & <fct> & <dbl>\\\\\n",
       "\\hline\n",
       "\t sim & 11 & Beta + Anti\\_Coag       & 26 & não & não & 17\\\\\n",
       "\t não & 11 & Beta + Anti\\_Coag       & 22 & não & não &  5\\\\\n",
       "\t sim &  9 & Beta + Anti\\_Coag + Diu & 32 & sim & sim & 10\\\\\n",
       "\t sim & 11 & Beta                   & 27 & não & sim &  9\\\\\n",
       "\t não & 12 & Beta                   & 23 & não & sim &  8\\\\\n",
       "\t não & 12 & Beta                   &  8 & não & não & 10\\\\\n",
       "\\end{tabular}\n"
      ],
      "text/markdown": [
       "\n",
       "A tibble: 6 × 7\n",
       "\n",
       "| Caidor &lt;fct&gt; | Berg &lt;dbl&gt; | medicaçao_tipo_cardiovascular &lt;fct&gt; | DT_Sec &lt;dbl&gt; | Diuretico_classif &lt;fct&gt; | Anticoagulante_classif &lt;fct&gt; | Fluencia_verbal &lt;dbl&gt; |\n",
       "|---|---|---|---|---|---|---|\n",
       "| sim | 11 | Beta + Anti_Coag       | 26 | não | não | 17 |\n",
       "| não | 11 | Beta + Anti_Coag       | 22 | não | não |  5 |\n",
       "| sim |  9 | Beta + Anti_Coag + Diu | 32 | sim | sim | 10 |\n",
       "| sim | 11 | Beta                   | 27 | não | sim |  9 |\n",
       "| não | 12 | Beta                   | 23 | não | sim |  8 |\n",
       "| não | 12 | Beta                   |  8 | não | não | 10 |\n",
       "\n"
      ],
      "text/plain": [
       "  Caidor Berg medicaçao_tipo_cardiovascular DT_Sec Diuretico_classif\n",
       "1 sim    11   Beta + Anti_Coag              26     não              \n",
       "2 não    11   Beta + Anti_Coag              22     não              \n",
       "3 sim     9   Beta + Anti_Coag + Diu        32     sim              \n",
       "4 sim    11   Beta                          27     não              \n",
       "5 não    12   Beta                          23     não              \n",
       "6 não    12   Beta                           8     não              \n",
       "  Anticoagulante_classif Fluencia_verbal\n",
       "1 não                    17             \n",
       "2 não                     5             \n",
       "3 sim                    10             \n",
       "4 sim                     9             \n",
       "5 sim                     8             \n",
       "6 não                    10             "
      ]
     },
     "metadata": {},
     "output_type": "display_data"
    },
    {
     "data": {
      "text/plain": [
       "Random Forest \n",
       "\n",
       "52 samples\n",
       " 6 predictor\n",
       " 2 classes: 'não', 'sim' \n",
       "\n",
       "No pre-processing\n",
       "Resampling: Cross-Validated (5 fold) \n",
       "Summary of sample sizes: 42, 41, 42, 41, 42 \n",
       "Resampling results across tuning parameters:\n",
       "\n",
       "  mtry  Accuracy   Kappa    \n",
       "  2     0.6927273  0.3182279\n",
       "  5     0.7145455  0.3664541\n",
       "  9     0.7345455  0.4135556\n",
       "\n",
       "Kappa was used to select the optimal model using the largest value.\n",
       "The final value used for the model was mtry = 9."
      ]
     },
     "metadata": {},
     "output_type": "display_data"
    },
    {
     "data": {
      "text/plain": [
       "\n",
       "Call:\n",
       " randomForest(x = x, y = y, mtry = min(param$mtry, ncol(x))) \n",
       "               Type of random forest: classification\n",
       "                     Number of trees: 500\n",
       "No. of variables tried at each split: 9\n",
       "\n",
       "        OOB estimate of  error rate: 28.85%\n",
       "Confusion matrix:\n",
       "    não sim class.error\n",
       "não  26   7   0.2121212\n",
       "sim   8  11   0.4210526"
      ]
     },
     "metadata": {},
     "output_type": "display_data"
    },
    {
     "data": {
      "text/plain": [
       "rf variable importance\n",
       "\n",
       "                                                    Overall\n",
       "DT_Sec                                              100.000\n",
       "Berg                                                 85.904\n",
       "Fluencia_verbal                                      38.469\n",
       "Anticoagulante_classifsim                            27.459\n",
       "medicaçao_tipo_cardiovascularBeta + Anti_Coag + Diu  23.242\n",
       "Diuretico_classifsim                                 11.159\n",
       "medicaçao_tipo_cardiovascularBeta + Anti_Coag         9.324\n",
       "medicaçao_tipo_cardiovascularBeta + Anti_HAS          6.980\n",
       "medicaçao_tipo_cardiovascularBeta                     0.000"
      ]
     },
     "metadata": {},
     "output_type": "display_data"
    },
    {
     "data": {
      "image/png": "[encoded data removed]",
      "text/plain": [
       "plot without title"
      ]
     },
     "metadata": {
      "image/png": {
       "height": 420,
       "width": 420
      }
     },
     "output_type": "display_data"
    },
    {
     "data": {
      "image/png": "[encoded data removed]",
      "text/plain": [
       "plot without title"
      ]
     },
     "metadata": {
      "image/png": {
       "height": 420,
       "width": 420
      }
     },
     "output_type": "display_data"
    }
   ],
   "source": [
    "BD_RF_rfe<- BD[,c(\"Caidor\",\"Berg\",\n",
    "                               \"medicaçao_tipo_cardiovascular\",\"DT_Sec\",\"Diuretico_classif\",\"Anticoagulante_classif\",\"Fluencia_verbal\")]\n",
    "head(BD_RF_rfe)\n",
    "set.seed(4)\n",
    "RFmodel=train(Caidor~.,data=BD_RF_rfe,method='rf',metric=ifelse(is.factor(BD_RF_rfe$Caidor),\"Kappa\",\"RMSE\"),trControl=trainControl(method='cv',number=5,savePredictions=TRUE))\n",
    "RFmodel \n",
    "plot(RFmodel)\n",
    "RFmodel$finalModel  \n",
    "varImp(RFmodel)\n",
    "plot(varImp(RFmodel),main=\"Variables Importance - Random Forest\")"
   ]
  },
  {
   "cell_type": "code",
   "execution_count": 26,
   "metadata": {},
   "outputs": [
    {
     "data": {
      "text/html": [
       "<dl>\n",
       "\t<dt>$names</dt>\n",
       "\t\t<dd><style>\n",
       ".list-inline {list-style: none; margin:0; padding: 0}\n",
       ".list-inline>li {display: inline-block}\n",
       ".list-inline>li:not(:last-child)::after {content: \"\\00b7\"; padding: 0 .5ex}\n",
       "</style>\n",
       "<ol class=list-inline><li>'method'</li><li>'modelInfo'</li><li>'modelType'</li><li>'results'</li><li>'pred'</li><li>'bestTune'</li><li>'call'</li><li>'dots'</li><li>'metric'</li><li>'control'</li><li>'finalModel'</li><li>'preProcess'</li><li>'trainingData'</li><li>'ptype'</li><li>'resample'</li><li>'resampledCM'</li><li>'perfNames'</li><li>'maximize'</li><li>'yLimits'</li><li>'times'</li><li>'levels'</li><li>'terms'</li><li>'coefnames'</li><li>'contrasts'</li><li>'xlevels'</li></ol>\n",
       "</dd>\n",
       "\t<dt>$class</dt>\n",
       "\t\t<dd><style>\n",
       ".list-inline {list-style: none; margin:0; padding: 0}\n",
       ".list-inline>li {display: inline-block}\n",
       ".list-inline>li:not(:last-child)::after {content: \"\\00b7\"; padding: 0 .5ex}\n",
       "</style>\n",
       "<ol class=list-inline><li>'train'</li><li>'train.formula'</li></ol>\n",
       "</dd>\n",
       "</dl>\n"
      ],
      "text/latex": [
       "\\begin{description}\n",
       "\\item[\\$names] \\begin{enumerate*}\n",
       "\\item 'method'\n",
       "\\item 'modelInfo'\n",
       "\\item 'modelType'\n",
       "\\item 'results'\n",
       "\\item 'pred'\n",
       "\\item 'bestTune'\n",
       "\\item 'call'\n",
       "\\item 'dots'\n",
       "\\item 'metric'\n",
       "\\item 'control'\n",
       "\\item 'finalModel'\n",
       "\\item 'preProcess'\n",
       "\\item 'trainingData'\n",
       "\\item 'ptype'\n",
       "\\item 'resample'\n",
       "\\item 'resampledCM'\n",
       "\\item 'perfNames'\n",
       "\\item 'maximize'\n",
       "\\item 'yLimits'\n",
       "\\item 'times'\n",
       "\\item 'levels'\n",
       "\\item 'terms'\n",
       "\\item 'coefnames'\n",
       "\\item 'contrasts'\n",
       "\\item 'xlevels'\n",
       "\\end{enumerate*}\n",
       "\n",
       "\\item[\\$class] \\begin{enumerate*}\n",
       "\\item 'train'\n",
       "\\item 'train.formula'\n",
       "\\end{enumerate*}\n",
       "\n",
       "\\end{description}\n"
      ],
      "text/markdown": [
       "$names\n",
       ":   1. 'method'\n",
       "2. 'modelInfo'\n",
       "3. 'modelType'\n",
       "4. 'results'\n",
       "5. 'pred'\n",
       "6. 'bestTune'\n",
       "7. 'call'\n",
       "8. 'dots'\n",
       "9. 'metric'\n",
       "10. 'control'\n",
       "11. 'finalModel'\n",
       "12. 'preProcess'\n",
       "13. 'trainingData'\n",
       "14. 'ptype'\n",
       "15. 'resample'\n",
       "16. 'resampledCM'\n",
       "17. 'perfNames'\n",
       "18. 'maximize'\n",
       "19. 'yLimits'\n",
       "20. 'times'\n",
       "21. 'levels'\n",
       "22. 'terms'\n",
       "23. 'coefnames'\n",
       "24. 'contrasts'\n",
       "25. 'xlevels'\n",
       "\n",
       "\n",
       "\n",
       "$class\n",
       ":   1. 'train'\n",
       "2. 'train.formula'\n",
       "\n",
       "\n",
       "\n",
       "\n",
       "\n"
      ],
      "text/plain": [
       "$names\n",
       " [1] \"method\"       \"modelInfo\"    \"modelType\"    \"results\"      \"pred\"        \n",
       " [6] \"bestTune\"     \"call\"         \"dots\"         \"metric\"       \"control\"     \n",
       "[11] \"finalModel\"   \"preProcess\"   \"trainingData\" \"ptype\"        \"resample\"    \n",
       "[16] \"resampledCM\"  \"perfNames\"    \"maximize\"     \"yLimits\"      \"times\"       \n",
       "[21] \"levels\"       \"terms\"        \"coefnames\"    \"contrasts\"    \"xlevels\"     \n",
       "\n",
       "$class\n",
       "[1] \"train\"         \"train.formula\"\n"
      ]
     },
     "metadata": {},
     "output_type": "display_data"
    },
    {
     "data": {
      "text/plain": [
       "Confusion Matrix and Statistics\n",
       "\n",
       "          Reference\n",
       "Prediction não sim\n",
       "       não  78  24\n",
       "       sim  21  33\n",
       "                                          \n",
       "               Accuracy : 0.7115          \n",
       "                 95% CI : (0.6337, 0.7812)\n",
       "    No Information Rate : 0.6346          \n",
       "    P-Value [Acc > NIR] : 0.02645         \n",
       "                                          \n",
       "                  Kappa : 0.371           \n",
       "                                          \n",
       " Mcnemar's Test P-Value : 0.76559         \n",
       "                                          \n",
       "            Sensitivity : 0.7879          \n",
       "            Specificity : 0.5789          \n",
       "         Pos Pred Value : 0.7647          \n",
       "         Neg Pred Value : 0.6111          \n",
       "             Prevalence : 0.6346          \n",
       "         Detection Rate : 0.5000          \n",
       "   Detection Prevalence : 0.6538          \n",
       "      Balanced Accuracy : 0.6834          \n",
       "                                          \n",
       "       'Positive' Class : não             \n",
       "                                          "
      ]
     },
     "metadata": {},
     "output_type": "display_data"
    }
   ],
   "source": [
    "attributes(RFmodel)\n",
    "prediction<-RFmodel$pred[,1]\n",
    "obs<- RFmodel$pred[,2]\n",
    "confusionMatrix(prediction,obs)"
   ]
  },
  {
   "cell_type": "markdown",
   "metadata": {},
   "source": [
    "# Otimizando a métrica de interesse usando *f-beta* e *ROC* "
   ]
  },
  {
   "cell_type": "markdown",
   "metadata": {},
   "source": [
    "## F-beta"
   ]
  },
  {
   "cell_type": "code",
   "execution_count": 27,
   "metadata": {},
   "outputs": [
    {
     "name": "stderr",
     "output_type": "stream",
     "text": [
      "Loading required package: Metrics\n",
      "\n",
      "Warning message:\n",
      "\"package 'Metrics' was built under R version 3.6.3\"\n",
      "\n",
      "Attaching package: 'Metrics'\n",
      "\n",
      "\n",
      "The following object is masked _by_ '.GlobalEnv':\n",
      "\n",
      "    f1\n",
      "\n",
      "\n",
      "The following objects are masked from 'package:caret':\n",
      "\n",
      "    precision, recall\n",
      "\n",
      "\n"
     ]
    },
    {
     "data": {
      "text/html": [
       "<style>\n",
       ".list-inline {list-style: none; margin:0; padding: 0}\n",
       ".list-inline>li {display: inline-block}\n",
       ".list-inline>li:not(:last-child)::after {content: \"\\00b7\"; padding: 0 .5ex}\n",
       "</style>\n",
       "<ol class=list-inline><li>1.23529411764706</li><li>1.23506034093721</li><li>1.23438648052902</li><li>1.23334725271765</li><li>1.23204531660935</li><li>1.23058892469968</li><li>1.22907432112579</li><li>1.22757633119845</li><li>1.22614639703788</li><li>1.22481531905295</li><li>1.22359796067007</li></ol>\n"
      ],
      "text/latex": [
       "\\begin{enumerate*}\n",
       "\\item 1.23529411764706\n",
       "\\item 1.23506034093721\n",
       "\\item 1.23438648052902\n",
       "\\item 1.23334725271765\n",
       "\\item 1.23204531660935\n",
       "\\item 1.23058892469968\n",
       "\\item 1.22907432112579\n",
       "\\item 1.22757633119845\n",
       "\\item 1.22614639703788\n",
       "\\item 1.22481531905295\n",
       "\\item 1.22359796067007\n",
       "\\end{enumerate*}\n"
      ],
      "text/markdown": [
       "1. 1.23529411764706\n",
       "2. 1.23506034093721\n",
       "3. 1.23438648052902\n",
       "4. 1.23334725271765\n",
       "5. 1.23204531660935\n",
       "6. 1.23058892469968\n",
       "7. 1.22907432112579\n",
       "8. 1.22757633119845\n",
       "9. 1.22614639703788\n",
       "10. 1.22481531905295\n",
       "11. 1.22359796067007\n",
       "\n",
       "\n"
      ],
      "text/plain": [
       " [1] 1.235294 1.235060 1.234386 1.233347 1.232045 1.230589 1.229074 1.227576\n",
       " [9] 1.226146 1.224815 1.223598"
      ]
     },
     "metadata": {},
     "output_type": "display_data"
    }
   ],
   "source": [
    "# Objetivo: diminuir os Falsos Positivos (indivíduos classificados, de forma errada, como não caidor)\n",
    "# Diminuir o valor de Beta (<1 - prioriza a precisão)\n",
    "\n",
    "#install.packages(\"Metrics\")\n",
    "require(Metrics)\n",
    "#Como calcular fbeta de um modelo de RF:\n",
    "obs<- RFmodel$pred[,2]\n",
    "obs<- as.numeric(obs)\n",
    "pred<- RFmodel$pred[,1]\n",
    "pred<- as.numeric(pred)\n",
    "fbeta_score(obs,pred,beta= seq(0,1,0.1))"
   ]
  },
  {
   "cell_type": "code",
   "execution_count": 28,
   "metadata": {},
   "outputs": [
    {
     "name": "stderr",
     "output_type": "stream",
     "text": [
      "Loading required package: MLmetrics\n",
      "\n",
      "Warning message:\n",
      "\"package 'MLmetrics' was built under R version 3.6.3\"\n",
      "\n",
      "Attaching package: 'MLmetrics'\n",
      "\n",
      "\n",
      "The following objects are masked from 'package:caret':\n",
      "\n",
      "    MAE, RMSE\n",
      "\n",
      "\n",
      "The following object is masked from 'package:base':\n",
      "\n",
      "    Recall\n",
      "\n",
      "\n"
     ]
    },
    {
     "data": {
      "text/plain": [
       "Random Forest \n",
       "\n",
       "52 samples\n",
       " 6 predictor\n",
       " 2 classes: 'não', 'sim' \n",
       "\n",
       "No pre-processing\n",
       "Resampling: Cross-Validated (5 fold) \n",
       "Summary of sample sizes: 43, 41, 42, 41, 41 \n",
       "Resampling results across tuning parameters:\n",
       "\n",
       "  mtry  FB       \n",
       "  2     0.8287841\n",
       "  5     0.7936545\n",
       "  9     0.8120876\n",
       "\n",
       "FB was used to select the optimal model using the largest value.\n",
       "The final value used for the model was mtry = 2."
      ]
     },
     "metadata": {},
     "output_type": "display_data"
    },
    {
     "data": {
      "text/plain": [
       "\n",
       "Call:\n",
       " randomForest(x = x, y = y, mtry = min(param$mtry, ncol(x))) \n",
       "               Type of random forest: classification\n",
       "                     Number of trees: 500\n",
       "No. of variables tried at each split: 2\n",
       "\n",
       "        OOB estimate of  error rate: 25%\n",
       "Confusion matrix:\n",
       "    não sim class.error\n",
       "não  27   6   0.1818182\n",
       "sim   7  12   0.3684211"
      ]
     },
     "metadata": {},
     "output_type": "display_data"
    }
   ],
   "source": [
    "#install.packages(\"MLmetrics\")\n",
    "require(MLmetrics)\n",
    "\n",
    "#F-BETA\n",
    "fbeta <- function (data, lev = NULL, model = NULL) {\n",
    "  fb_val <- FBeta_Score(data$obs, data$pred, beta=0.5)\n",
    "  c(FB = fb_val)\n",
    "}\n",
    "set.seed(3)\n",
    "RF_fbeta <- train(Caidor~., \n",
    "                     data = BD_RF_rfe,\n",
    "                     method = \"rf\",\n",
    "                     metric = \"FB\",\n",
    "                     trControl = trainControl(method='cv',number=5,savePredictions=TRUE,search=\"grid\",summaryFunction=fbeta))\n",
    "RF_fbeta\n",
    "RF_fbeta$finalModel"
   ]
  },
  {
   "cell_type": "code",
   "execution_count": 29,
   "metadata": {},
   "outputs": [
    {
     "data": {
      "text/plain": [
       "rf variable importance\n",
       "\n",
       "                                                    Overall\n",
       "DT_Sec                                               100.00\n",
       "Berg                                                  89.32\n",
       "Fluencia_verbal                                       79.48\n",
       "Anticoagulante_classifsim                             42.06\n",
       "medicaçao_tipo_cardiovascularBeta + Anti_Coag + Diu   33.01\n",
       "medicaçao_tipo_cardiovascularBeta + Anti_HAS          27.08\n",
       "Diuretico_classifsim                                  26.57\n",
       "medicaçao_tipo_cardiovascularBeta + Anti_Coag         16.62\n",
       "medicaçao_tipo_cardiovascularBeta                      0.00"
      ]
     },
     "metadata": {},
     "output_type": "display_data"
    },
    {
     "data": {
      "image/png": "[encoded data removed]",
      "text/plain": [
       "plot without title"
      ]
     },
     "metadata": {
      "image/png": {
       "height": 420,
       "width": 420
      }
     },
     "output_type": "display_data"
    }
   ],
   "source": [
    "varImp(RF_fbeta)\n",
    "plot(varImp(RF_fbeta),main=\"Variables Importance - Random Forest\")"
   ]
  },
  {
   "cell_type": "code",
   "execution_count": 30,
   "metadata": {},
   "outputs": [
    {
     "data": {
      "text/plain": [
       "Confusion Matrix and Statistics\n",
       "\n",
       "          Reference\n",
       "Prediction não sim\n",
       "       não  78  18\n",
       "       sim  21  39\n",
       "                                          \n",
       "               Accuracy : 0.75            \n",
       "                 95% CI : (0.6745, 0.8158)\n",
       "    No Information Rate : 0.6346          \n",
       "    P-Value [Acc > NIR] : 0.001429        \n",
       "                                          \n",
       "                  Kappa : 0.4669          \n",
       "                                          \n",
       " Mcnemar's Test P-Value : 0.748774        \n",
       "                                          \n",
       "            Sensitivity : 0.7879          \n",
       "            Specificity : 0.6842          \n",
       "         Pos Pred Value : 0.8125          \n",
       "         Neg Pred Value : 0.6500          \n",
       "             Prevalence : 0.6346          \n",
       "         Detection Rate : 0.5000          \n",
       "   Detection Prevalence : 0.6154          \n",
       "      Balanced Accuracy : 0.7360          \n",
       "                                          \n",
       "       'Positive' Class : não             \n",
       "                                          "
      ]
     },
     "metadata": {},
     "output_type": "display_data"
    }
   ],
   "source": [
    "prediction2<-RF_fbeta$pred[,1]\n",
    "obs2<- RF_fbeta$pred[,2]\n",
    "confusionMatrix(prediction2,obs2)"
   ]
  },
  {
   "cell_type": "markdown",
   "metadata": {},
   "source": [
    "## ROC"
   ]
  },
  {
   "cell_type": "code",
   "execution_count": 31,
   "metadata": {},
   "outputs": [
    {
     "data": {
      "text/plain": [
       "Random Forest \n",
       "\n",
       "52 samples\n",
       " 6 predictor\n",
       " 2 classes: 'não', 'sim' \n",
       "\n",
       "No pre-processing\n",
       "Resampling: Cross-Validated (5 fold) \n",
       "Summary of sample sizes: 41, 42, 42, 42, 41 \n",
       "Resampling results across tuning parameters:\n",
       "\n",
       "  mtry  ROC        Sens       Spec\n",
       "  2     0.9023810  0.8142857  0.65\n",
       "  5     0.9023810  0.7857143  0.65\n",
       "  9     0.8702381  0.7857143  0.65\n",
       "\n",
       "ROC was used to select the optimal model using the largest value.\n",
       "The final value used for the model was mtry = 2."
      ]
     },
     "metadata": {},
     "output_type": "display_data"
    },
    {
     "data": {
      "text/plain": [
       "\n",
       "Call:\n",
       " randomForest(x = x, y = y, mtry = min(param$mtry, ncol(x))) \n",
       "               Type of random forest: classification\n",
       "                     Number of trees: 500\n",
       "No. of variables tried at each split: 2\n",
       "\n",
       "        OOB estimate of  error rate: 25%\n",
       "Confusion matrix:\n",
       "    não sim class.error\n",
       "não  27   6   0.1818182\n",
       "sim   7  12   0.3684211"
      ]
     },
     "metadata": {},
     "output_type": "display_data"
    }
   ],
   "source": [
    "#twoClassSummary (Sensibilidade, especificidade e AUC ROC)\n",
    "fitControl <- trainControl(method = \"cv\",\n",
    "                           number = 5,\n",
    "                           savePredictions=TRUE,\n",
    "                           search=\"grid\",\n",
    "                           # estimar probabilidades das classes\n",
    "                           classProbs = TRUE,\n",
    "                           # avaliar performance utilizando função a seguir\n",
    "                           summaryFunction = twoClassSummary)\n",
    "\n",
    "set.seed(13)\n",
    "RF_roc <- train(Caidor ~ ., data = BD_RF_rfe, \n",
    "                 method = \"rf\", \n",
    "                 trControl = fitControl, \n",
    "                 # especificando qual métrica deseja otimizar\n",
    "                 metric = \"ROC\")\n",
    "RF_roc\n",
    "RF_roc$finalModel"
   ]
  },
  {
   "cell_type": "code",
   "execution_count": 32,
   "metadata": {},
   "outputs": [
    {
     "data": {
      "text/plain": [
       "rf variable importance\n",
       "\n",
       "                                                    Overall\n",
       "DT_Sec                                               100.00\n",
       "Berg                                                  93.30\n",
       "Fluencia_verbal                                       79.51\n",
       "Anticoagulante_classifsim                             45.47\n",
       "medicaçao_tipo_cardiovascularBeta + Anti_Coag + Diu   43.57\n",
       "medicaçao_tipo_cardiovascularBeta + Anti_HAS          29.76\n",
       "Diuretico_classifsim                                  27.65\n",
       "medicaçao_tipo_cardiovascularBeta + Anti_Coag         13.40\n",
       "medicaçao_tipo_cardiovascularBeta                      0.00"
      ]
     },
     "metadata": {},
     "output_type": "display_data"
    },
    {
     "data": {
      "image/png": "[encoded data removed]",
      "text/plain": [
       "plot without title"
      ]
     },
     "metadata": {
      "image/png": {
       "height": 420,
       "width": 420
      }
     },
     "output_type": "display_data"
    }
   ],
   "source": [
    "varImp(RF_roc)\n",
    "plot(varImp(RF_roc),main=\"Variables Importance - Random Forest\")"
   ]
  },
  {
   "cell_type": "code",
   "execution_count": 33,
   "metadata": {},
   "outputs": [
    {
     "data": {
      "text/plain": [
       "Confusion Matrix and Statistics\n",
       "\n",
       "          Reference\n",
       "Prediction não sim\n",
       "       não  79  21\n",
       "       sim  20  36\n",
       "                                          \n",
       "               Accuracy : 0.7372          \n",
       "                 95% CI : (0.6608, 0.8043)\n",
       "    No Information Rate : 0.6346          \n",
       "    P-Value [Acc > NIR] : 0.004261        \n",
       "                                          \n",
       "                  Kappa : 0.4312          \n",
       "                                          \n",
       " Mcnemar's Test P-Value : 1.000000        \n",
       "                                          \n",
       "            Sensitivity : 0.7980          \n",
       "            Specificity : 0.6316          \n",
       "         Pos Pred Value : 0.7900          \n",
       "         Neg Pred Value : 0.6429          \n",
       "             Prevalence : 0.6346          \n",
       "         Detection Rate : 0.5064          \n",
       "   Detection Prevalence : 0.6410          \n",
       "      Balanced Accuracy : 0.7148          \n",
       "                                          \n",
       "       'Positive' Class : não             \n",
       "                                          "
      ]
     },
     "metadata": {},
     "output_type": "display_data"
    }
   ],
   "source": [
    "prediction3<-RF_roc$pred[,1]\n",
    "obs3<- RF_roc$pred[,2]\n",
    "confusionMatrix(prediction3,obs3)"
   ]
  },
  {
   "cell_type": "markdown",
   "metadata": {},
   "source": [
    "# Comparando os 3 modelos (*Curva ROC*)"
   ]
  },
  {
   "cell_type": "code",
   "execution_count": 34,
   "metadata": {},
   "outputs": [
    {
     "name": "stderr",
     "output_type": "stream",
     "text": [
      "Loading required package: pROC\n",
      "\n",
      "Type 'citation(\"pROC\")' for a citation.\n",
      "\n",
      "\n",
      "Attaching package: 'pROC'\n",
      "\n",
      "\n",
      "The following object is masked from 'package:Metrics':\n",
      "\n",
      "    auc\n",
      "\n",
      "\n",
      "The following objects are masked from 'package:stats':\n",
      "\n",
      "    cov, smooth, var\n",
      "\n",
      "\n",
      "Setting levels: control = 1, case = 2\n",
      "\n",
      "Setting direction: controls < cases\n",
      "\n"
     ]
    },
    {
     "data": {
      "text/plain": [
       "\n",
       "Call:\n",
       "roc.default(response = obs, predictor = y, plot = T)\n",
       "\n",
       "Data: y in 99 controls (obs 1) < 57 cases (obs 2).\n",
       "Area under the curve: 0.6834"
      ]
     },
     "metadata": {},
     "output_type": "display_data"
    },
    {
     "name": "stderr",
     "output_type": "stream",
     "text": [
      "Setting levels: control = não, case = sim\n",
      "\n",
      "Setting direction: controls < cases\n",
      "\n"
     ]
    },
    {
     "data": {
      "image/png": "[encoded data removed]",
      "text/plain": [
       "plot without title"
      ]
     },
     "metadata": {
      "image/png": {
       "height": 420,
       "width": 420
      }
     },
     "output_type": "display_data"
    },
    {
     "data": {
      "text/plain": [
       "\n",
       "Call:\n",
       "roc.default(response = obs2, predictor = y2, plot = T)\n",
       "\n",
       "Data: y2 in 99 controls (obs2 não) < 57 cases (obs2 sim).\n",
       "Area under the curve: 0.736"
      ]
     },
     "metadata": {},
     "output_type": "display_data"
    },
    {
     "data": {
      "text/plain": [
       "\n",
       "\tDeLong's test for two ROC curves\n",
       "\n",
       "data:  roc_rf and roc_fbeta\n",
       "D = -0.97642, df = 309.44, p-value = 0.3296\n",
       "alternative hypothesis: true difference in AUC is not equal to 0\n",
       "sample estimates:\n",
       "AUC of roc1 AUC of roc2 \n",
       "  0.6834131   0.7360447 \n"
      ]
     },
     "metadata": {},
     "output_type": "display_data"
    },
    {
     "name": "stderr",
     "output_type": "stream",
     "text": [
      "Setting levels: control = não, case = sim\n",
      "\n",
      "Setting direction: controls < cases\n",
      "\n"
     ]
    },
    {
     "data": {
      "image/png": "[encoded data removed]",
      "text/plain": [
       "plot without title"
      ]
     },
     "metadata": {
      "image/png": {
       "height": 420,
       "width": 420
      }
     },
     "output_type": "display_data"
    },
    {
     "data": {
      "text/plain": [
       "\n",
       "Call:\n",
       "roc.default(response = obs3, predictor = y3, plot = T)\n",
       "\n",
       "Data: y3 in 99 controls (obs3 não) < 57 cases (obs3 sim).\n",
       "Area under the curve: 0.7148"
      ]
     },
     "metadata": {},
     "output_type": "display_data"
    },
    {
     "data": {
      "text/plain": [
       "\n",
       "\tDeLong's test for two ROC curves\n",
       "\n",
       "data:  roc_rf and auc_roc\n",
       "D = -0.57608, df = 309.85, p-value = 0.565\n",
       "alternative hypothesis: true difference in AUC is not equal to 0\n",
       "sample estimates:\n",
       "AUC of roc1 AUC of roc2 \n",
       "  0.6834131   0.7147794 \n"
      ]
     },
     "metadata": {},
     "output_type": "display_data"
    },
    {
     "data": {
      "text/plain": [
       "\n",
       "\tDeLong's test for two ROC curves\n",
       "\n",
       "data:  roc_fbeta and auc_roc\n",
       "D = 0.39897, df = 309.87, p-value = 0.6902\n",
       "alternative hypothesis: true difference in AUC is not equal to 0\n",
       "sample estimates:\n",
       "AUC of roc1 AUC of roc2 \n",
       "  0.7360447   0.7147794 \n"
      ]
     },
     "metadata": {},
     "output_type": "display_data"
    },
    {
     "data": {
      "image/png": "[encoded data removed]",
      "text/plain": [
       "plot without title"
      ]
     },
     "metadata": {
      "image/png": {
       "height": 420,
       "width": 420
      }
     },
     "output_type": "display_data"
    }
   ],
   "source": [
    "#install.packages(\"pROC\")\n",
    "require(pROC)\n",
    "\n",
    "y<- as.numeric(prediction)\n",
    "roc_rf<- roc(obs, y, plot=T)\n",
    "roc_rf\n",
    "\n",
    "y2<- as.numeric(prediction2)\n",
    "roc_fbeta<- roc(obs2, y2, plot=T)\n",
    "roc_fbeta\n",
    "\n",
    "roc.test(roc_rf,roc_fbeta)\n",
    "\n",
    "y3<- as.numeric(prediction3)\n",
    "auc_roc<- roc(obs3,y3,plot=T)\n",
    "auc_roc\n",
    "\n",
    "roc.test(roc_rf,auc_roc)\n",
    "###\n",
    "roc.test(roc_fbeta,auc_roc)"
   ]
  },
  {
   "cell_type": "markdown",
   "metadata": {},
   "source": [
    "# Regressão Logística - *Berg* e *DT_Sec*"
   ]
  },
  {
   "cell_type": "code",
   "execution_count": 35,
   "metadata": {},
   "outputs": [
    {
     "data": {
      "text/plain": [
       "\n",
       "Call:\n",
       "glm(formula = Caidor ~ Berg, family = \"binomial\", data = BD_RF_rfe)\n",
       "\n",
       "Deviance Residuals: \n",
       "    Min       1Q   Median       3Q      Max  \n",
       "-2.2205  -0.7603  -0.5564   0.6368   1.9708  \n",
       "\n",
       "Coefficients:\n",
       "            Estimate Std. Error z value Pr(>|z|)   \n",
       "(Intercept)   7.2343     2.8018   2.582  0.00982 **\n",
       "Berg         -0.6940     0.2415  -2.873  0.00406 **\n",
       "---\n",
       "Signif. codes:  0 '***' 0.001 '**' 0.01 '*' 0.05 '.' 0.1 ' ' 1\n",
       "\n",
       "(Dispersion parameter for binomial family taken to be 1)\n",
       "\n",
       "    Null deviance: 68.271  on 51  degrees of freedom\n",
       "Residual deviance: 50.373  on 50  degrees of freedom\n",
       "AIC: 54.373\n",
       "\n",
       "Number of Fisher Scoring iterations: 5\n"
      ]
     },
     "metadata": {},
     "output_type": "display_data"
    },
    {
     "data": {
      "text/html": [
       "<style>\n",
       ".dl-inline {width: auto; margin:0; padding: 0}\n",
       ".dl-inline>dt, .dl-inline>dd {float: none; width: auto; display: inline-block}\n",
       ".dl-inline>dt::after {content: \":\\0020\"; padding-right: .5ex}\n",
       ".dl-inline>dt:not(:first-of-type) {padding-left: .5ex}\n",
       "</style><dl class=dl-inline><dt>(Intercept)</dt><dd>1386.10566479836</dd><dt>Berg</dt><dd>0.499597617955529</dd></dl>\n"
      ],
      "text/latex": [
       "\\begin{description*}\n",
       "\\item[(Intercept)] 1386.10566479836\n",
       "\\item[Berg] 0.499597617955529\n",
       "\\end{description*}\n"
      ],
      "text/markdown": [
       "(Intercept)\n",
       ":   1386.10566479836Berg\n",
       ":   0.499597617955529\n",
       "\n"
      ],
      "text/plain": [
       " (Intercept)         Berg \n",
       "1386.1056648    0.4995976 "
      ]
     },
     "metadata": {},
     "output_type": "display_data"
    },
    {
     "name": "stderr",
     "output_type": "stream",
     "text": [
      "Waiting for profiling to be done...\n",
      "\n"
     ]
    },
    {
     "data": {
      "text/html": [
       "<table class=\"dataframe\">\n",
       "<caption>A matrix: 2 × 3 of type dbl</caption>\n",
       "<thead>\n",
       "\t<tr><th></th><th scope=col>OR</th><th scope=col>2.5 %</th><th scope=col>97.5 %</th></tr>\n",
       "</thead>\n",
       "<tbody>\n",
       "\t<tr><th scope=row>(Intercept)</th><td>1386.1056648</td><td>16.2134989</td><td>1.047804e+06</td></tr>\n",
       "\t<tr><th scope=row>Berg</th><td>   0.4995976</td><td> 0.2823699</td><td>7.355067e-01</td></tr>\n",
       "</tbody>\n",
       "</table>\n"
      ],
      "text/latex": [
       "A matrix: 2 × 3 of type dbl\n",
       "\\begin{tabular}{r|lll}\n",
       "  & OR & 2.5 \\% & 97.5 \\%\\\\\n",
       "\\hline\n",
       "\t(Intercept) & 1386.1056648 & 16.2134989 & 1.047804e+06\\\\\n",
       "\tBerg &    0.4995976 &  0.2823699 & 7.355067e-01\\\\\n",
       "\\end{tabular}\n"
      ],
      "text/markdown": [
       "\n",
       "A matrix: 2 × 3 of type dbl\n",
       "\n",
       "| <!--/--> | OR | 2.5 % | 97.5 % |\n",
       "|---|---|---|---|\n",
       "| (Intercept) | 1386.1056648 | 16.2134989 | 1.047804e+06 |\n",
       "| Berg |    0.4995976 |  0.2823699 | 7.355067e-01 |\n",
       "\n"
      ],
      "text/plain": [
       "            OR           2.5 %      97.5 %      \n",
       "(Intercept) 1386.1056648 16.2134989 1.047804e+06\n",
       "Berg           0.4995976  0.2823699 7.355067e-01"
      ]
     },
     "metadata": {},
     "output_type": "display_data"
    }
   ],
   "source": [
    "set.seed(321)\n",
    "logistic_model<- glm(Caidor ~ Berg,data=BD_RF_rfe, family = 'binomial')\n",
    "summary(logistic_model)\n",
    "#Razão de chances\n",
    "OR<- exp(coef(logistic_model)) \n",
    "OR\n",
    "#Intervalo de confiança\n",
    "exp(cbind(OR=coef(logistic_model), confint(logistic_model)))"
   ]
  },
  {
   "cell_type": "code",
   "execution_count": 36,
   "metadata": {},
   "outputs": [
    {
     "data": {
      "text/plain": [
       "\n",
       "Call:\n",
       "glm(formula = Caidor ~ DT_Sec, family = \"binomial\", data = BD_RF_rfe)\n",
       "\n",
       "Deviance Residuals: \n",
       "    Min       1Q   Median       3Q      Max  \n",
       "-1.8419  -0.9213  -0.4947   1.0240   1.8103  \n",
       "\n",
       "Coefficients:\n",
       "            Estimate Std. Error z value Pr(>|z|)   \n",
       "(Intercept) -2.54430    0.78983  -3.221  0.00128 **\n",
       "DT_Sec       0.11217    0.03886   2.886  0.00390 **\n",
       "---\n",
       "Signif. codes:  0 '***' 0.001 '**' 0.01 '*' 0.05 '.' 0.1 ' ' 1\n",
       "\n",
       "(Dispersion parameter for binomial family taken to be 1)\n",
       "\n",
       "    Null deviance: 68.271  on 51  degrees of freedom\n",
       "Residual deviance: 57.614  on 50  degrees of freedom\n",
       "AIC: 61.614\n",
       "\n",
       "Number of Fisher Scoring iterations: 4\n"
      ]
     },
     "metadata": {},
     "output_type": "display_data"
    },
    {
     "data": {
      "text/html": [
       "<style>\n",
       ".dl-inline {width: auto; margin:0; padding: 0}\n",
       ".dl-inline>dt, .dl-inline>dd {float: none; width: auto; display: inline-block}\n",
       ".dl-inline>dt::after {content: \":\\0020\"; padding-right: .5ex}\n",
       ".dl-inline>dt:not(:first-of-type) {padding-left: .5ex}\n",
       "</style><dl class=dl-inline><dt>(Intercept)</dt><dd>0.0785279183293539</dd><dt>DT_Sec</dt><dd>1.11869942197135</dd></dl>\n"
      ],
      "text/latex": [
       "\\begin{description*}\n",
       "\\item[(Intercept)] 0.0785279183293539\n",
       "\\item[DT\\textbackslash{}\\_Sec] 1.11869942197135\n",
       "\\end{description*}\n"
      ],
      "text/markdown": [
       "(Intercept)\n",
       ":   0.0785279183293539DT_Sec\n",
       ":   1.11869942197135\n",
       "\n"
      ],
      "text/plain": [
       "(Intercept)      DT_Sec \n",
       " 0.07852792  1.11869942 "
      ]
     },
     "metadata": {},
     "output_type": "display_data"
    },
    {
     "name": "stderr",
     "output_type": "stream",
     "text": [
      "Waiting for profiling to be done...\n",
      "\n"
     ]
    },
    {
     "data": {
      "text/html": [
       "<table class=\"dataframe\">\n",
       "<caption>A matrix: 2 × 3 of type dbl</caption>\n",
       "<thead>\n",
       "\t<tr><th></th><th scope=col>OR</th><th scope=col>2.5 %</th><th scope=col>97.5 %</th></tr>\n",
       "</thead>\n",
       "<tbody>\n",
       "\t<tr><th scope=row>(Intercept)</th><td>0.07852792</td><td>0.01372408</td><td>0.3194838</td></tr>\n",
       "\t<tr><th scope=row>DT_Sec</th><td>1.11869942</td><td>1.04306146</td><td>1.2179768</td></tr>\n",
       "</tbody>\n",
       "</table>\n"
      ],
      "text/latex": [
       "A matrix: 2 × 3 of type dbl\n",
       "\\begin{tabular}{r|lll}\n",
       "  & OR & 2.5 \\% & 97.5 \\%\\\\\n",
       "\\hline\n",
       "\t(Intercept) & 0.07852792 & 0.01372408 & 0.3194838\\\\\n",
       "\tDT\\_Sec & 1.11869942 & 1.04306146 & 1.2179768\\\\\n",
       "\\end{tabular}\n"
      ],
      "text/markdown": [
       "\n",
       "A matrix: 2 × 3 of type dbl\n",
       "\n",
       "| <!--/--> | OR | 2.5 % | 97.5 % |\n",
       "|---|---|---|---|\n",
       "| (Intercept) | 0.07852792 | 0.01372408 | 0.3194838 |\n",
       "| DT_Sec | 1.11869942 | 1.04306146 | 1.2179768 |\n",
       "\n"
      ],
      "text/plain": [
       "            OR         2.5 %      97.5 %   \n",
       "(Intercept) 0.07852792 0.01372408 0.3194838\n",
       "DT_Sec      1.11869942 1.04306146 1.2179768"
      ]
     },
     "metadata": {},
     "output_type": "display_data"
    }
   ],
   "source": [
    "set.seed(123)\n",
    "logistic_model2<- glm(Caidor~DT_Sec,data=BD_RF_rfe, family = 'binomial')\n",
    "summary(logistic_model2)\n",
    "#Razão de chances\n",
    "OR2<- exp(coef(logistic_model2)) \n",
    "OR2\n",
    "#Intervalo de confiança\n",
    "exp(cbind(OR=coef(logistic_model2), confint(logistic_model2)))"
   ]
  },
  {
   "cell_type": "markdown",
   "metadata": {},
   "source": [
    "# Análise não supervisionada "
   ]
  },
  {
   "cell_type": "markdown",
   "metadata": {},
   "source": [
    "## One hot encode"
   ]
  },
  {
   "cell_type": "code",
   "execution_count": 40,
   "metadata": {},
   "outputs": [
    {
     "data": {
      "text/html": [
       "<table class=\"dataframe\">\n",
       "<caption>A data.frame: 6 × 73</caption>\n",
       "<thead>\n",
       "\t<tr><th></th><th scope=col>Genero.homem</th><th scope=col>Genero.mulher</th><th scope=col>idade</th><th scope=col>Nivel_social.a</th><th scope=col>Nivel_social.b</th><th scope=col>Nivel_social.c</th><th scope=col>Nivel_social.d</th><th scope=col>etnia.branco</th><th scope=col>etnia.preto</th><th scope=col>Nivel_educacional</th><th scope=col>...</th><th scope=col>Flexibilidade_MI</th><th scope=col>TUG_sec</th><th scope=col>DT_Sec</th><th scope=col>DT_numero_animais</th><th scope=col>quantidade_total_de_medicação</th><th scope=col>medicaçao_tipo_cardiovascular.Anti...HAS</th><th scope=col>medicaçao_tipo_cardiovascular.Beta</th><th scope=col>medicaçao_tipo_cardiovascular.Beta...Anti_Coag</th><th scope=col>medicaçao_tipo_cardiovascular.Beta...Anti_Coag...Diu</th><th scope=col>medicaçao_tipo_cardiovascular.Beta...Anti_HAS</th></tr>\n",
       "\t<tr><th></th><th scope=col>&lt;dbl&gt;</th><th scope=col>&lt;dbl&gt;</th><th scope=col>&lt;dbl&gt;</th><th scope=col>&lt;dbl&gt;</th><th scope=col>&lt;dbl&gt;</th><th scope=col>&lt;dbl&gt;</th><th scope=col>&lt;dbl&gt;</th><th scope=col>&lt;dbl&gt;</th><th scope=col>&lt;dbl&gt;</th><th scope=col>&lt;dbl&gt;</th><th scope=col>...</th><th scope=col>&lt;dbl&gt;</th><th scope=col>&lt;dbl&gt;</th><th scope=col>&lt;dbl&gt;</th><th scope=col>&lt;dbl&gt;</th><th scope=col>&lt;dbl&gt;</th><th scope=col>&lt;dbl&gt;</th><th scope=col>&lt;dbl&gt;</th><th scope=col>&lt;dbl&gt;</th><th scope=col>&lt;dbl&gt;</th><th scope=col>&lt;dbl&gt;</th></tr>\n",
       "</thead>\n",
       "<tbody>\n",
       "\t<tr><th scope=row>1</th><td>0</td><td>1</td><td>17</td><td>0</td><td>1</td><td>0</td><td>0</td><td>1</td><td>0</td><td>6</td><td>...</td><td> 2</td><td>42</td><td>26</td><td>8</td><td>7</td><td>0</td><td>0</td><td>1</td><td>0</td><td>0</td></tr>\n",
       "\t<tr><th scope=row>2</th><td>0</td><td>1</td><td>16</td><td>0</td><td>0</td><td>1</td><td>0</td><td>1</td><td>0</td><td>3</td><td>...</td><td>10</td><td>33</td><td>22</td><td>5</td><td>5</td><td>0</td><td>0</td><td>1</td><td>0</td><td>0</td></tr>\n",
       "\t<tr><th scope=row>3</th><td>0</td><td>1</td><td>24</td><td>0</td><td>1</td><td>0</td><td>0</td><td>1</td><td>0</td><td>2</td><td>...</td><td>16</td><td>48</td><td>32</td><td>5</td><td>7</td><td>0</td><td>0</td><td>0</td><td>1</td><td>0</td></tr>\n",
       "\t<tr><th scope=row>4</th><td>0</td><td>1</td><td>24</td><td>0</td><td>1</td><td>0</td><td>0</td><td>0</td><td>1</td><td>8</td><td>...</td><td>15</td><td>38</td><td>27</td><td>6</td><td>1</td><td>0</td><td>1</td><td>0</td><td>0</td><td>0</td></tr>\n",
       "\t<tr><th scope=row>5</th><td>0</td><td>1</td><td>23</td><td>0</td><td>1</td><td>0</td><td>0</td><td>1</td><td>0</td><td>1</td><td>...</td><td>18</td><td>43</td><td>23</td><td>5</td><td>4</td><td>0</td><td>1</td><td>0</td><td>0</td><td>0</td></tr>\n",
       "\t<tr><th scope=row>6</th><td>0</td><td>1</td><td>19</td><td>0</td><td>0</td><td>1</td><td>0</td><td>1</td><td>0</td><td>4</td><td>...</td><td>23</td><td> 9</td><td> 8</td><td>3</td><td>5</td><td>0</td><td>1</td><td>0</td><td>0</td><td>0</td></tr>\n",
       "</tbody>\n",
       "</table>\n"
      ],
      "text/latex": [
       "A data.frame: 6 × 73\n",
       "\\begin{tabular}{r|lllllllllllllllllllll}\n",
       "  & Genero.homem & Genero.mulher & idade & Nivel\\_social.a & Nivel\\_social.b & Nivel\\_social.c & Nivel\\_social.d & etnia.branco & etnia.preto & Nivel\\_educacional & ... & Flexibilidade\\_MI & TUG\\_sec & DT\\_Sec & DT\\_numero\\_animais & quantidade\\_total\\_de\\_medicação & medicaçao\\_tipo\\_cardiovascular.Anti...HAS & medicaçao\\_tipo\\_cardiovascular.Beta & medicaçao\\_tipo\\_cardiovascular.Beta...Anti\\_Coag & medicaçao\\_tipo\\_cardiovascular.Beta...Anti\\_Coag...Diu & medicaçao\\_tipo\\_cardiovascular.Beta...Anti\\_HAS\\\\\n",
       "  & <dbl> & <dbl> & <dbl> & <dbl> & <dbl> & <dbl> & <dbl> & <dbl> & <dbl> & <dbl> & ... & <dbl> & <dbl> & <dbl> & <dbl> & <dbl> & <dbl> & <dbl> & <dbl> & <dbl> & <dbl>\\\\\n",
       "\\hline\n",
       "\t1 & 0 & 1 & 17 & 0 & 1 & 0 & 0 & 1 & 0 & 6 & ... &  2 & 42 & 26 & 8 & 7 & 0 & 0 & 1 & 0 & 0\\\\\n",
       "\t2 & 0 & 1 & 16 & 0 & 0 & 1 & 0 & 1 & 0 & 3 & ... & 10 & 33 & 22 & 5 & 5 & 0 & 0 & 1 & 0 & 0\\\\\n",
       "\t3 & 0 & 1 & 24 & 0 & 1 & 0 & 0 & 1 & 0 & 2 & ... & 16 & 48 & 32 & 5 & 7 & 0 & 0 & 0 & 1 & 0\\\\\n",
       "\t4 & 0 & 1 & 24 & 0 & 1 & 0 & 0 & 0 & 1 & 8 & ... & 15 & 38 & 27 & 6 & 1 & 0 & 1 & 0 & 0 & 0\\\\\n",
       "\t5 & 0 & 1 & 23 & 0 & 1 & 0 & 0 & 1 & 0 & 1 & ... & 18 & 43 & 23 & 5 & 4 & 0 & 1 & 0 & 0 & 0\\\\\n",
       "\t6 & 0 & 1 & 19 & 0 & 0 & 1 & 0 & 1 & 0 & 4 & ... & 23 &  9 &  8 & 3 & 5 & 0 & 1 & 0 & 0 & 0\\\\\n",
       "\\end{tabular}\n"
      ],
      "text/markdown": [
       "\n",
       "A data.frame: 6 × 73\n",
       "\n",
       "| <!--/--> | Genero.homem &lt;dbl&gt; | Genero.mulher &lt;dbl&gt; | idade &lt;dbl&gt; | Nivel_social.a &lt;dbl&gt; | Nivel_social.b &lt;dbl&gt; | Nivel_social.c &lt;dbl&gt; | Nivel_social.d &lt;dbl&gt; | etnia.branco &lt;dbl&gt; | etnia.preto &lt;dbl&gt; | Nivel_educacional &lt;dbl&gt; | ... ... | Flexibilidade_MI &lt;dbl&gt; | TUG_sec &lt;dbl&gt; | DT_Sec &lt;dbl&gt; | DT_numero_animais &lt;dbl&gt; | quantidade_total_de_medicação &lt;dbl&gt; | medicaçao_tipo_cardiovascular.Anti...HAS &lt;dbl&gt; | medicaçao_tipo_cardiovascular.Beta &lt;dbl&gt; | medicaçao_tipo_cardiovascular.Beta...Anti_Coag &lt;dbl&gt; | medicaçao_tipo_cardiovascular.Beta...Anti_Coag...Diu &lt;dbl&gt; | medicaçao_tipo_cardiovascular.Beta...Anti_HAS &lt;dbl&gt; |\n",
       "|---|---|---|---|---|---|---|---|---|---|---|---|---|---|---|---|---|---|---|---|---|---|\n",
       "| 1 | 0 | 1 | 17 | 0 | 1 | 0 | 0 | 1 | 0 | 6 | ... |  2 | 42 | 26 | 8 | 7 | 0 | 0 | 1 | 0 | 0 |\n",
       "| 2 | 0 | 1 | 16 | 0 | 0 | 1 | 0 | 1 | 0 | 3 | ... | 10 | 33 | 22 | 5 | 5 | 0 | 0 | 1 | 0 | 0 |\n",
       "| 3 | 0 | 1 | 24 | 0 | 1 | 0 | 0 | 1 | 0 | 2 | ... | 16 | 48 | 32 | 5 | 7 | 0 | 0 | 0 | 1 | 0 |\n",
       "| 4 | 0 | 1 | 24 | 0 | 1 | 0 | 0 | 0 | 1 | 8 | ... | 15 | 38 | 27 | 6 | 1 | 0 | 1 | 0 | 0 | 0 |\n",
       "| 5 | 0 | 1 | 23 | 0 | 1 | 0 | 0 | 1 | 0 | 1 | ... | 18 | 43 | 23 | 5 | 4 | 0 | 1 | 0 | 0 | 0 |\n",
       "| 6 | 0 | 1 | 19 | 0 | 0 | 1 | 0 | 1 | 0 | 4 | ... | 23 |  9 |  8 | 3 | 5 | 0 | 1 | 0 | 0 | 0 |\n",
       "\n"
      ],
      "text/plain": [
       "  Genero.homem Genero.mulher idade Nivel_social.a Nivel_social.b Nivel_social.c\n",
       "1 0            1             17    0              1              0             \n",
       "2 0            1             16    0              0              1             \n",
       "3 0            1             24    0              1              0             \n",
       "4 0            1             24    0              1              0             \n",
       "5 0            1             23    0              1              0             \n",
       "6 0            1             19    0              0              1             \n",
       "  Nivel_social.d etnia.branco etnia.preto Nivel_educacional ...\n",
       "1 0              1            0           6                 ...\n",
       "2 0              1            0           3                 ...\n",
       "3 0              1            0           2                 ...\n",
       "4 0              0            1           8                 ...\n",
       "5 0              1            0           1                 ...\n",
       "6 0              1            0           4                 ...\n",
       "  Flexibilidade_MI TUG_sec DT_Sec DT_numero_animais\n",
       "1  2               42      26     8                \n",
       "2 10               33      22     5                \n",
       "3 16               48      32     5                \n",
       "4 15               38      27     6                \n",
       "5 18               43      23     5                \n",
       "6 23                9       8     3                \n",
       "  quantidade_total_de_medicação medicaçao_tipo_cardiovascular.Anti...HAS\n",
       "1 7                             0                                       \n",
       "2 5                             0                                       \n",
       "3 7                             0                                       \n",
       "4 1                             0                                       \n",
       "5 4                             0                                       \n",
       "6 5                             0                                       \n",
       "  medicaçao_tipo_cardiovascular.Beta\n",
       "1 0                                 \n",
       "2 0                                 \n",
       "3 0                                 \n",
       "4 1                                 \n",
       "5 1                                 \n",
       "6 1                                 \n",
       "  medicaçao_tipo_cardiovascular.Beta...Anti_Coag\n",
       "1 1                                             \n",
       "2 1                                             \n",
       "3 0                                             \n",
       "4 0                                             \n",
       "5 0                                             \n",
       "6 0                                             \n",
       "  medicaçao_tipo_cardiovascular.Beta...Anti_Coag...Diu\n",
       "1 0                                                   \n",
       "2 0                                                   \n",
       "3 1                                                   \n",
       "4 0                                                   \n",
       "5 0                                                   \n",
       "6 0                                                   \n",
       "  medicaçao_tipo_cardiovascular.Beta...Anti_HAS\n",
       "1 0                                            \n",
       "2 0                                            \n",
       "3 0                                            \n",
       "4 0                                            \n",
       "5 0                                            \n",
       "6 0                                            "
      ]
     },
     "metadata": {},
     "output_type": "display_data"
    },
    {
     "data": {
      "text/html": [
       "<style>\n",
       ".list-inline {list-style: none; margin:0; padding: 0}\n",
       ".list-inline>li {display: inline-block}\n",
       ".list-inline>li:not(:last-child)::after {content: \"\\00b7\"; padding: 0 .5ex}\n",
       "</style>\n",
       "<ol class=list-inline><li>52</li><li>73</li></ol>\n"
      ],
      "text/latex": [
       "\\begin{enumerate*}\n",
       "\\item 52\n",
       "\\item 73\n",
       "\\end{enumerate*}\n"
      ],
      "text/markdown": [
       "1. 52\n",
       "2. 73\n",
       "\n",
       "\n"
      ],
      "text/plain": [
       "[1] 52 73"
      ]
     },
     "metadata": {},
     "output_type": "display_data"
    },
    {
     "name": "stdout",
     "output_type": "stream",
     "text": [
      "'data.frame':\t52 obs. of  73 variables:\n",
      " $ Genero.homem                                        : num  0 0 0 0 0 0 1 1 1 1 ...\n",
      " $ Genero.mulher                                       : num  1 1 1 1 1 1 0 0 0 0 ...\n",
      " $ idade                                               : num  17 16 24 24 23 19 16 19 20 25 ...\n",
      " $ Nivel_social.a                                      : num  0 0 0 0 0 0 0 0 0 0 ...\n",
      " $ Nivel_social.b                                      : num  1 0 1 1 1 0 1 0 1 1 ...\n",
      " $ Nivel_social.c                                      : num  0 1 0 0 0 1 0 1 0 0 ...\n",
      " $ Nivel_social.d                                      : num  0 0 0 0 0 0 0 0 0 0 ...\n",
      " $ etnia.branco                                        : num  1 1 1 0 1 1 1 1 1 1 ...\n",
      " $ etnia.preto                                         : num  0 0 0 1 0 0 0 0 0 0 ...\n",
      " $ Nivel_educacional                                   : num  6 3 2 8 1 4 6 6 9 8 ...\n",
      " $ Freq_atividade.2x                                   : num  0 1 0 0 1 1 1 0 0 0 ...\n",
      " $ Freq_atividade.3x                                   : num  1 0 0 1 0 0 0 1 0 1 ...\n",
      " $ Freq_atividade.sedentario                           : num  0 0 1 0 0 0 0 0 1 0 ...\n",
      " $ Criterio_AHA.b                                      : num  0 1 0 0 1 1 0 0 1 0 ...\n",
      " $ Criterio_AHA.c                                      : num  1 0 1 1 0 0 1 1 0 1 ...\n",
      " $ Anti_hipertensivo.não                               : num  1 0 0 1 1 1 0 0 0 0 ...\n",
      " $ Anti_hipertensivo.sim                               : num  0 1 1 0 0 0 1 1 1 1 ...\n",
      " $ betabloqueador.não                                  : num  0 0 0 0 1 0 0 0 0 0 ...\n",
      " $ betabloqueador.sim                                  : num  1 1 1 1 0 1 1 1 1 1 ...\n",
      " $ Anticoagulante_classif.não                          : num  1 1 0 0 0 1 0 1 0 0 ...\n",
      " $ Anticoagulante_classif.sim                          : num  0 0 1 1 1 0 1 0 1 1 ...\n",
      " $ Diuretico_classif.não                               : num  1 1 0 1 1 1 0 1 1 0 ...\n",
      " $ Diuretico_classif.sim                               : num  0 0 1 0 0 0 1 0 0 1 ...\n",
      " $ medicação_tipo_mental.ansiolitico                   : num  0 0 0 0 0 0 0 0 0 0 ...\n",
      " $ medicação_tipo_mental.antidepressivo                : num  1 1 0 0 0 1 0 0 0 0 ...\n",
      " $ medicação_tipo_mental.antidepressivo.benzo          : num  0 0 1 1 0 0 1 0 0 0 ...\n",
      " $ medicação_tipo_mental.benzodiazepinico              : num  0 0 0 0 0 0 0 1 0 1 ...\n",
      " $ medicação_tipo_mental.não                           : num  0 0 0 0 1 0 0 0 1 0 ...\n",
      " $ medicação_tipo_saude.cardio.mental                  : num  1 1 1 1 0 1 1 1 0 1 ...\n",
      " $ medicação_tipo_saude.cardiovascular                 : num  0 0 0 0 1 0 0 0 1 0 ...\n",
      " $ antidepressivo.não                                  : num  1 0 1 1 1 1 0 1 1 1 ...\n",
      " $ antidepressivo.sim                                  : num  0 1 0 0 0 0 1 0 0 0 ...\n",
      " $ ansiolitico.não                                     : num  1 1 1 1 1 1 0 1 1 1 ...\n",
      " $ ansiolitico.sim                                     : num  0 0 0 0 0 0 1 0 0 0 ...\n",
      " $ benzodiazepinico.não                                : num  0 0 0 0 1 1 0 0 1 0 ...\n",
      " $ benzodiazepinico.sim                                : num  1 1 1 1 0 0 1 1 0 1 ...\n",
      " $ DVC_primaria.aneurisma.da.aorta                     : num  0 0 0 0 0 0 0 0 0 0 ...\n",
      " $ DVC_primaria.angina                                 : num  0 0 0 0 0 0 0 0 0 0 ...\n",
      " $ DVC_primaria.arritmia                               : num  0 0 1 1 1 1 0 1 0 0 ...\n",
      " $ DVC_primaria.infarto                                : num  0 0 0 0 0 0 1 0 0 0 ...\n",
      " $ DVC_primaria.insuficiencia                          : num  1 1 0 0 0 0 0 0 1 1 ...\n",
      " $ DVC_primaria.isquemia                               : num  0 0 0 0 0 0 0 0 0 0 ...\n",
      " $ DVC_primaria.nada                                   : num  0 0 0 0 0 0 0 0 0 0 ...\n",
      " $ HAS.não                                             : num  1 0 0 1 1 1 0 0 0 0 ...\n",
      " $ HAS.sim                                             : num  0 1 1 0 0 0 1 1 1 1 ...\n",
      " $ Tempo_doença                                        : num  5 5 3 4 8 2 20 5 6 12 ...\n",
      " $ Doenca_Respi.duas                                   : num  0 0 0 0 0 0 0 0 0 0 ...\n",
      " $ Doenca_Respi.não                                    : num  0 1 1 1 1 1 1 1 0 1 ...\n",
      " $ Doenca_Respi.sim                                    : num  1 0 0 0 0 0 0 0 1 0 ...\n",
      " $ Doenca_Respi.três                                   : num  0 0 0 0 0 0 0 0 0 0 ...\n",
      " $ MMSE                                                : num  9 6 8 8 5 7 3 4 9 8 ...\n",
      " $ Fluencia_verbal                                     : num  17 5 10 9 8 10 4 6 15 9 ...\n",
      " $ Trilhas_A                                           : num  10 43 6 13 28 27 26 42 30 45 ...\n",
      " $ Trilhas_b                                           : num  11 43 29 30 34 27 40 46 20 41 ...\n",
      " $ GDS                                                 : num  4 14 6 1 1 1 13 8 1 1 ...\n",
      " $ FES_I                                               : num  10 4 1 6 1 4 8 13 1 14 ...\n",
      " $ Vsaq                                                : num  3 5 3 5 3 6 3 3 6 4 ...\n",
      " $ Vo2_maximo_avaliado                                 : num  20 3 5 25 7 26 4 2 23 9 ...\n",
      " $ IMC                                                 : num  26 39 33 6 25 2 12 36 10 23 ...\n",
      " $ Dinamometria                                        : num  7 21 2 14 9 4 20 24 35 28 ...\n",
      " $ Berg                                                : num  11 11 9 11 12 12 8 7 11 4 ...\n",
      " $ STS                                                 : num  2 4 6 3 5 9 5 7 8 3 ...\n",
      " $ Flexibilidade_Ms                                    : num  5 21 10 22 20 29 17 3 7 18 ...\n",
      " $ Flexibilidade_MI                                    : num  2 10 16 15 18 23 4 12 11 6 ...\n",
      " $ TUG_sec                                             : num  42 33 48 38 43 9 36 30 16 44 ...\n",
      " $ DT_Sec                                              : num  26 22 32 27 23 8 23 16 3 30 ...\n",
      " $ DT_numero_animais                                   : num  8 5 5 6 5 3 3 3 4 2 ...\n",
      " $ quantidade_total_de_medicação                       : num  7 5 7 1 4 5 7 5 4 7 ...\n",
      " $ medicaçao_tipo_cardiovascular.Anti...HAS            : num  0 0 0 0 0 0 0 0 0 0 ...\n",
      " $ medicaçao_tipo_cardiovascular.Beta                  : num  0 0 0 1 1 1 0 0 0 0 ...\n",
      " $ medicaçao_tipo_cardiovascular.Beta...Anti_Coag      : num  1 1 0 0 0 0 0 0 0 0 ...\n",
      " $ medicaçao_tipo_cardiovascular.Beta...Anti_Coag...Diu: num  0 0 1 0 0 0 1 1 0 1 ...\n",
      " $ medicaçao_tipo_cardiovascular.Beta...Anti_HAS       : num  0 0 0 0 0 0 0 0 1 0 ...\n"
     ]
    }
   ],
   "source": [
    "#One hot enconding\n",
    "#require(caret)\n",
    "BD2<- BD[,-1]\n",
    "dummy <- dummyVars(\" ~ .\", data = BD2) #Mais rápido do que one_hot() do pacote mltools\n",
    "BD_transformado <- data.frame(predict(dummy, newdata = BD2))\n",
    "head(BD_transformado)\n",
    "dim(BD_transformado) #Aumentou de 40 para 73 variáveis preditoras\n",
    "str(BD_transformado)"
   ]
  },
  {
   "cell_type": "markdown",
   "metadata": {},
   "source": [
    "## PCA"
   ]
  },
  {
   "cell_type": "code",
   "execution_count": 51,
   "metadata": {},
   "outputs": [
    {
     "data": {
      "text/html": [
       "<table class=\"dataframe\">\n",
       "<caption>A data.frame: 52 × 3</caption>\n",
       "<thead>\n",
       "\t<tr><th></th><th scope=col>eigenvalue</th><th scope=col>variance.percent</th><th scope=col>cumulative.variance.percent</th></tr>\n",
       "\t<tr><th></th><th scope=col>&lt;dbl&gt;</th><th scope=col>&lt;dbl&gt;</th><th scope=col>&lt;dbl&gt;</th></tr>\n",
       "</thead>\n",
       "<tbody>\n",
       "\t<tr><th scope=row>Dim.1</th><td>5.361677e+02</td><td>3.965694e+01</td><td> 39.65694</td></tr>\n",
       "\t<tr><th scope=row>Dim.2</th><td>2.376465e+02</td><td>1.757721e+01</td><td> 57.23415</td></tr>\n",
       "\t<tr><th scope=row>Dim.3</th><td>1.789658e+02</td><td>1.323697e+01</td><td> 70.47112</td></tr>\n",
       "\t<tr><th scope=row>Dim.4</th><td>1.105342e+02</td><td>8.175521e+00</td><td> 78.64664</td></tr>\n",
       "\t<tr><th scope=row>Dim.5</th><td>6.548405e+01</td><td>4.843442e+00</td><td> 83.49008</td></tr>\n",
       "\t<tr><th scope=row>Dim.6</th><td>5.200166e+01</td><td>3.846235e+00</td><td> 87.33632</td></tr>\n",
       "\t<tr><th scope=row>Dim.7</th><td>4.035355e+01</td><td>2.984697e+00</td><td> 90.32101</td></tr>\n",
       "\t<tr><th scope=row>Dim.8</th><td>2.692718e+01</td><td>1.991634e+00</td><td> 92.31265</td></tr>\n",
       "\t<tr><th scope=row>Dim.9</th><td>2.299879e+01</td><td>1.701075e+00</td><td> 94.01372</td></tr>\n",
       "\t<tr><th scope=row>Dim.10</th><td>2.072242e+01</td><td>1.532706e+00</td><td> 95.54643</td></tr>\n",
       "\t<tr><th scope=row>Dim.11</th><td>1.540808e+01</td><td>1.139638e+00</td><td> 96.68607</td></tr>\n",
       "\t<tr><th scope=row>Dim.12</th><td>1.189406e+01</td><td>8.797288e-01</td><td> 97.56580</td></tr>\n",
       "\t<tr><th scope=row>Dim.13</th><td>8.918727e+00</td><td>6.596620e-01</td><td> 98.22546</td></tr>\n",
       "\t<tr><th scope=row>Dim.14</th><td>7.577388e+00</td><td>5.604516e-01</td><td> 98.78591</td></tr>\n",
       "\t<tr><th scope=row>Dim.15</th><td>4.405183e+00</td><td>3.258236e-01</td><td> 99.11173</td></tr>\n",
       "\t<tr><th scope=row>Dim.16</th><td>3.598243e+00</td><td>2.661393e-01</td><td> 99.37787</td></tr>\n",
       "\t<tr><th scope=row>Dim.17</th><td>1.718233e+00</td><td>1.270869e-01</td><td> 99.50496</td></tr>\n",
       "\t<tr><th scope=row>Dim.18</th><td>1.331046e+00</td><td>9.844911e-02</td><td> 99.60341</td></tr>\n",
       "\t<tr><th scope=row>Dim.19</th><td>9.770864e-01</td><td>7.226892e-02</td><td> 99.67568</td></tr>\n",
       "\t<tr><th scope=row>Dim.20</th><td>8.268583e-01</td><td>6.115749e-02</td><td> 99.73684</td></tr>\n",
       "\t<tr><th scope=row>Dim.21</th><td>6.963871e-01</td><td>5.150736e-02</td><td> 99.78834</td></tr>\n",
       "\t<tr><th scope=row>Dim.22</th><td>5.272094e-01</td><td>3.899436e-02</td><td> 99.82734</td></tr>\n",
       "\t<tr><th scope=row>Dim.23</th><td>4.319447e-01</td><td>3.194823e-02</td><td> 99.85929</td></tr>\n",
       "\t<tr><th scope=row>Dim.24</th><td>2.902210e-01</td><td>2.146582e-02</td><td> 99.88075</td></tr>\n",
       "\t<tr><th scope=row>Dim.25</th><td>2.804461e-01</td><td>2.074283e-02</td><td> 99.90149</td></tr>\n",
       "\t<tr><th scope=row>Dim.26</th><td>2.422915e-01</td><td>1.792077e-02</td><td> 99.91942</td></tr>\n",
       "\t<tr><th scope=row>Dim.27</th><td>1.615296e-01</td><td>1.194733e-02</td><td> 99.93136</td></tr>\n",
       "\t<tr><th scope=row>Dim.28</th><td>1.522086e-01</td><td>1.125791e-02</td><td> 99.94262</td></tr>\n",
       "\t<tr><th scope=row>Dim.29</th><td>1.400714e-01</td><td>1.036020e-02</td><td> 99.95298</td></tr>\n",
       "\t<tr><th scope=row>Dim.30</th><td>1.269137e-01</td><td>9.387003e-03</td><td> 99.96237</td></tr>\n",
       "\t<tr><th scope=row>Dim.31</th><td>1.193820e-01</td><td>8.829937e-03</td><td> 99.97120</td></tr>\n",
       "\t<tr><th scope=row>Dim.32</th><td>8.952805e-02</td><td>6.621825e-03</td><td> 99.97782</td></tr>\n",
       "\t<tr><th scope=row>Dim.33</th><td>7.421633e-02</td><td>5.489314e-03</td><td> 99.98331</td></tr>\n",
       "\t<tr><th scope=row>Dim.34</th><td>5.823851e-02</td><td>4.307535e-03</td><td> 99.98762</td></tr>\n",
       "\t<tr><th scope=row>Dim.35</th><td>5.018824e-02</td><td>3.712107e-03</td><td> 99.99133</td></tr>\n",
       "\t<tr><th scope=row>Dim.36</th><td>3.331511e-02</td><td>2.464108e-03</td><td> 99.99379</td></tr>\n",
       "\t<tr><th scope=row>Dim.37</th><td>2.941112e-02</td><td>2.175355e-03</td><td> 99.99597</td></tr>\n",
       "\t<tr><th scope=row>Dim.38</th><td>1.973383e-02</td><td>1.459587e-03</td><td> 99.99743</td></tr>\n",
       "\t<tr><th scope=row>Dim.39</th><td>1.255411e-02</td><td>9.285487e-04</td><td> 99.99836</td></tr>\n",
       "\t<tr><th scope=row>Dim.40</th><td>1.152147e-02</td><td>8.521708e-04</td><td> 99.99921</td></tr>\n",
       "\t<tr><th scope=row>Dim.41</th><td>5.138685e-03</td><td>3.800761e-04</td><td> 99.99959</td></tr>\n",
       "\t<tr><th scope=row>Dim.42</th><td>3.177021e-03</td><td>2.349842e-04</td><td> 99.99982</td></tr>\n",
       "\t<tr><th scope=row>Dim.43</th><td>1.498365e-03</td><td>1.108246e-04</td><td> 99.99993</td></tr>\n",
       "\t<tr><th scope=row>Dim.44</th><td>8.738174e-04</td><td>6.463076e-05</td><td>100.00000</td></tr>\n",
       "\t<tr><th scope=row>Dim.45</th><td>1.683856e-05</td><td>1.245442e-06</td><td>100.00000</td></tr>\n",
       "\t<tr><th scope=row>Dim.46</th><td>2.140597e-30</td><td>1.583265e-31</td><td>100.00000</td></tr>\n",
       "\t<tr><th scope=row>Dim.47</th><td>2.140597e-30</td><td>1.583265e-31</td><td>100.00000</td></tr>\n",
       "\t<tr><th scope=row>Dim.48</th><td>2.140597e-30</td><td>1.583265e-31</td><td>100.00000</td></tr>\n",
       "\t<tr><th scope=row>Dim.49</th><td>2.140597e-30</td><td>1.583265e-31</td><td>100.00000</td></tr>\n",
       "\t<tr><th scope=row>Dim.50</th><td>2.140597e-30</td><td>1.583265e-31</td><td>100.00000</td></tr>\n",
       "\t<tr><th scope=row>Dim.51</th><td>2.140597e-30</td><td>1.583265e-31</td><td>100.00000</td></tr>\n",
       "\t<tr><th scope=row>Dim.52</th><td>2.140597e-30</td><td>1.583265e-31</td><td>100.00000</td></tr>\n",
       "</tbody>\n",
       "</table>\n"
      ],
      "text/latex": [
       "A data.frame: 52 × 3\n",
       "\\begin{tabular}{r|lll}\n",
       "  & eigenvalue & variance.percent & cumulative.variance.percent\\\\\n",
       "  & <dbl> & <dbl> & <dbl>\\\\\n",
       "\\hline\n",
       "\tDim.1 & 5.361677e+02 & 3.965694e+01 &  39.65694\\\\\n",
       "\tDim.2 & 2.376465e+02 & 1.757721e+01 &  57.23415\\\\\n",
       "\tDim.3 & 1.789658e+02 & 1.323697e+01 &  70.47112\\\\\n",
       "\tDim.4 & 1.105342e+02 & 8.175521e+00 &  78.64664\\\\\n",
       "\tDim.5 & 6.548405e+01 & 4.843442e+00 &  83.49008\\\\\n",
       "\tDim.6 & 5.200166e+01 & 3.846235e+00 &  87.33632\\\\\n",
       "\tDim.7 & 4.035355e+01 & 2.984697e+00 &  90.32101\\\\\n",
       "\tDim.8 & 2.692718e+01 & 1.991634e+00 &  92.31265\\\\\n",
       "\tDim.9 & 2.299879e+01 & 1.701075e+00 &  94.01372\\\\\n",
       "\tDim.10 & 2.072242e+01 & 1.532706e+00 &  95.54643\\\\\n",
       "\tDim.11 & 1.540808e+01 & 1.139638e+00 &  96.68607\\\\\n",
       "\tDim.12 & 1.189406e+01 & 8.797288e-01 &  97.56580\\\\\n",
       "\tDim.13 & 8.918727e+00 & 6.596620e-01 &  98.22546\\\\\n",
       "\tDim.14 & 7.577388e+00 & 5.604516e-01 &  98.78591\\\\\n",
       "\tDim.15 & 4.405183e+00 & 3.258236e-01 &  99.11173\\\\\n",
       "\tDim.16 & 3.598243e+00 & 2.661393e-01 &  99.37787\\\\\n",
       "\tDim.17 & 1.718233e+00 & 1.270869e-01 &  99.50496\\\\\n",
       "\tDim.18 & 1.331046e+00 & 9.844911e-02 &  99.60341\\\\\n",
       "\tDim.19 & 9.770864e-01 & 7.226892e-02 &  99.67568\\\\\n",
       "\tDim.20 & 8.268583e-01 & 6.115749e-02 &  99.73684\\\\\n",
       "\tDim.21 & 6.963871e-01 & 5.150736e-02 &  99.78834\\\\\n",
       "\tDim.22 & 5.272094e-01 & 3.899436e-02 &  99.82734\\\\\n",
       "\tDim.23 & 4.319447e-01 & 3.194823e-02 &  99.85929\\\\\n",
       "\tDim.24 & 2.902210e-01 & 2.146582e-02 &  99.88075\\\\\n",
       "\tDim.25 & 2.804461e-01 & 2.074283e-02 &  99.90149\\\\\n",
       "\tDim.26 & 2.422915e-01 & 1.792077e-02 &  99.91942\\\\\n",
       "\tDim.27 & 1.615296e-01 & 1.194733e-02 &  99.93136\\\\\n",
       "\tDim.28 & 1.522086e-01 & 1.125791e-02 &  99.94262\\\\\n",
       "\tDim.29 & 1.400714e-01 & 1.036020e-02 &  99.95298\\\\\n",
       "\tDim.30 & 1.269137e-01 & 9.387003e-03 &  99.96237\\\\\n",
       "\tDim.31 & 1.193820e-01 & 8.829937e-03 &  99.97120\\\\\n",
       "\tDim.32 & 8.952805e-02 & 6.621825e-03 &  99.97782\\\\\n",
       "\tDim.33 & 7.421633e-02 & 5.489314e-03 &  99.98331\\\\\n",
       "\tDim.34 & 5.823851e-02 & 4.307535e-03 &  99.98762\\\\\n",
       "\tDim.35 & 5.018824e-02 & 3.712107e-03 &  99.99133\\\\\n",
       "\tDim.36 & 3.331511e-02 & 2.464108e-03 &  99.99379\\\\\n",
       "\tDim.37 & 2.941112e-02 & 2.175355e-03 &  99.99597\\\\\n",
       "\tDim.38 & 1.973383e-02 & 1.459587e-03 &  99.99743\\\\\n",
       "\tDim.39 & 1.255411e-02 & 9.285487e-04 &  99.99836\\\\\n",
       "\tDim.40 & 1.152147e-02 & 8.521708e-04 &  99.99921\\\\\n",
       "\tDim.41 & 5.138685e-03 & 3.800761e-04 &  99.99959\\\\\n",
       "\tDim.42 & 3.177021e-03 & 2.349842e-04 &  99.99982\\\\\n",
       "\tDim.43 & 1.498365e-03 & 1.108246e-04 &  99.99993\\\\\n",
       "\tDim.44 & 8.738174e-04 & 6.463076e-05 & 100.00000\\\\\n",
       "\tDim.45 & 1.683856e-05 & 1.245442e-06 & 100.00000\\\\\n",
       "\tDim.46 & 2.140597e-30 & 1.583265e-31 & 100.00000\\\\\n",
       "\tDim.47 & 2.140597e-30 & 1.583265e-31 & 100.00000\\\\\n",
       "\tDim.48 & 2.140597e-30 & 1.583265e-31 & 100.00000\\\\\n",
       "\tDim.49 & 2.140597e-30 & 1.583265e-31 & 100.00000\\\\\n",
       "\tDim.50 & 2.140597e-30 & 1.583265e-31 & 100.00000\\\\\n",
       "\tDim.51 & 2.140597e-30 & 1.583265e-31 & 100.00000\\\\\n",
       "\tDim.52 & 2.140597e-30 & 1.583265e-31 & 100.00000\\\\\n",
       "\\end{tabular}\n"
      ],
      "text/markdown": [
       "\n",
       "A data.frame: 52 × 3\n",
       "\n",
       "| <!--/--> | eigenvalue &lt;dbl&gt; | variance.percent &lt;dbl&gt; | cumulative.variance.percent &lt;dbl&gt; |\n",
       "|---|---|---|---|\n",
       "| Dim.1 | 5.361677e+02 | 3.965694e+01 |  39.65694 |\n",
       "| Dim.2 | 2.376465e+02 | 1.757721e+01 |  57.23415 |\n",
       "| Dim.3 | 1.789658e+02 | 1.323697e+01 |  70.47112 |\n",
       "| Dim.4 | 1.105342e+02 | 8.175521e+00 |  78.64664 |\n",
       "| Dim.5 | 6.548405e+01 | 4.843442e+00 |  83.49008 |\n",
       "| Dim.6 | 5.200166e+01 | 3.846235e+00 |  87.33632 |\n",
       "| Dim.7 | 4.035355e+01 | 2.984697e+00 |  90.32101 |\n",
       "| Dim.8 | 2.692718e+01 | 1.991634e+00 |  92.31265 |\n",
       "| Dim.9 | 2.299879e+01 | 1.701075e+00 |  94.01372 |\n",
       "| Dim.10 | 2.072242e+01 | 1.532706e+00 |  95.54643 |\n",
       "| Dim.11 | 1.540808e+01 | 1.139638e+00 |  96.68607 |\n",
       "| Dim.12 | 1.189406e+01 | 8.797288e-01 |  97.56580 |\n",
       "| Dim.13 | 8.918727e+00 | 6.596620e-01 |  98.22546 |\n",
       "| Dim.14 | 7.577388e+00 | 5.604516e-01 |  98.78591 |\n",
       "| Dim.15 | 4.405183e+00 | 3.258236e-01 |  99.11173 |\n",
       "| Dim.16 | 3.598243e+00 | 2.661393e-01 |  99.37787 |\n",
       "| Dim.17 | 1.718233e+00 | 1.270869e-01 |  99.50496 |\n",
       "| Dim.18 | 1.331046e+00 | 9.844911e-02 |  99.60341 |\n",
       "| Dim.19 | 9.770864e-01 | 7.226892e-02 |  99.67568 |\n",
       "| Dim.20 | 8.268583e-01 | 6.115749e-02 |  99.73684 |\n",
       "| Dim.21 | 6.963871e-01 | 5.150736e-02 |  99.78834 |\n",
       "| Dim.22 | 5.272094e-01 | 3.899436e-02 |  99.82734 |\n",
       "| Dim.23 | 4.319447e-01 | 3.194823e-02 |  99.85929 |\n",
       "| Dim.24 | 2.902210e-01 | 2.146582e-02 |  99.88075 |\n",
       "| Dim.25 | 2.804461e-01 | 2.074283e-02 |  99.90149 |\n",
       "| Dim.26 | 2.422915e-01 | 1.792077e-02 |  99.91942 |\n",
       "| Dim.27 | 1.615296e-01 | 1.194733e-02 |  99.93136 |\n",
       "| Dim.28 | 1.522086e-01 | 1.125791e-02 |  99.94262 |\n",
       "| Dim.29 | 1.400714e-01 | 1.036020e-02 |  99.95298 |\n",
       "| Dim.30 | 1.269137e-01 | 9.387003e-03 |  99.96237 |\n",
       "| Dim.31 | 1.193820e-01 | 8.829937e-03 |  99.97120 |\n",
       "| Dim.32 | 8.952805e-02 | 6.621825e-03 |  99.97782 |\n",
       "| Dim.33 | 7.421633e-02 | 5.489314e-03 |  99.98331 |\n",
       "| Dim.34 | 5.823851e-02 | 4.307535e-03 |  99.98762 |\n",
       "| Dim.35 | 5.018824e-02 | 3.712107e-03 |  99.99133 |\n",
       "| Dim.36 | 3.331511e-02 | 2.464108e-03 |  99.99379 |\n",
       "| Dim.37 | 2.941112e-02 | 2.175355e-03 |  99.99597 |\n",
       "| Dim.38 | 1.973383e-02 | 1.459587e-03 |  99.99743 |\n",
       "| Dim.39 | 1.255411e-02 | 9.285487e-04 |  99.99836 |\n",
       "| Dim.40 | 1.152147e-02 | 8.521708e-04 |  99.99921 |\n",
       "| Dim.41 | 5.138685e-03 | 3.800761e-04 |  99.99959 |\n",
       "| Dim.42 | 3.177021e-03 | 2.349842e-04 |  99.99982 |\n",
       "| Dim.43 | 1.498365e-03 | 1.108246e-04 |  99.99993 |\n",
       "| Dim.44 | 8.738174e-04 | 6.463076e-05 | 100.00000 |\n",
       "| Dim.45 | 1.683856e-05 | 1.245442e-06 | 100.00000 |\n",
       "| Dim.46 | 2.140597e-30 | 1.583265e-31 | 100.00000 |\n",
       "| Dim.47 | 2.140597e-30 | 1.583265e-31 | 100.00000 |\n",
       "| Dim.48 | 2.140597e-30 | 1.583265e-31 | 100.00000 |\n",
       "| Dim.49 | 2.140597e-30 | 1.583265e-31 | 100.00000 |\n",
       "| Dim.50 | 2.140597e-30 | 1.583265e-31 | 100.00000 |\n",
       "| Dim.51 | 2.140597e-30 | 1.583265e-31 | 100.00000 |\n",
       "| Dim.52 | 2.140597e-30 | 1.583265e-31 | 100.00000 |\n",
       "\n"
      ],
      "text/plain": [
       "       eigenvalue   variance.percent cumulative.variance.percent\n",
       "Dim.1  5.361677e+02 3.965694e+01      39.65694                  \n",
       "Dim.2  2.376465e+02 1.757721e+01      57.23415                  \n",
       "Dim.3  1.789658e+02 1.323697e+01      70.47112                  \n",
       "Dim.4  1.105342e+02 8.175521e+00      78.64664                  \n",
       "Dim.5  6.548405e+01 4.843442e+00      83.49008                  \n",
       "Dim.6  5.200166e+01 3.846235e+00      87.33632                  \n",
       "Dim.7  4.035355e+01 2.984697e+00      90.32101                  \n",
       "Dim.8  2.692718e+01 1.991634e+00      92.31265                  \n",
       "Dim.9  2.299879e+01 1.701075e+00      94.01372                  \n",
       "Dim.10 2.072242e+01 1.532706e+00      95.54643                  \n",
       "Dim.11 1.540808e+01 1.139638e+00      96.68607                  \n",
       "Dim.12 1.189406e+01 8.797288e-01      97.56580                  \n",
       "Dim.13 8.918727e+00 6.596620e-01      98.22546                  \n",
       "Dim.14 7.577388e+00 5.604516e-01      98.78591                  \n",
       "Dim.15 4.405183e+00 3.258236e-01      99.11173                  \n",
       "Dim.16 3.598243e+00 2.661393e-01      99.37787                  \n",
       "Dim.17 1.718233e+00 1.270869e-01      99.50496                  \n",
       "Dim.18 1.331046e+00 9.844911e-02      99.60341                  \n",
       "Dim.19 9.770864e-01 7.226892e-02      99.67568                  \n",
       "Dim.20 8.268583e-01 6.115749e-02      99.73684                  \n",
       "Dim.21 6.963871e-01 5.150736e-02      99.78834                  \n",
       "Dim.22 5.272094e-01 3.899436e-02      99.82734                  \n",
       "Dim.23 4.319447e-01 3.194823e-02      99.85929                  \n",
       "Dim.24 2.902210e-01 2.146582e-02      99.88075                  \n",
       "Dim.25 2.804461e-01 2.074283e-02      99.90149                  \n",
       "Dim.26 2.422915e-01 1.792077e-02      99.91942                  \n",
       "Dim.27 1.615296e-01 1.194733e-02      99.93136                  \n",
       "Dim.28 1.522086e-01 1.125791e-02      99.94262                  \n",
       "Dim.29 1.400714e-01 1.036020e-02      99.95298                  \n",
       "Dim.30 1.269137e-01 9.387003e-03      99.96237                  \n",
       "Dim.31 1.193820e-01 8.829937e-03      99.97120                  \n",
       "Dim.32 8.952805e-02 6.621825e-03      99.97782                  \n",
       "Dim.33 7.421633e-02 5.489314e-03      99.98331                  \n",
       "Dim.34 5.823851e-02 4.307535e-03      99.98762                  \n",
       "Dim.35 5.018824e-02 3.712107e-03      99.99133                  \n",
       "Dim.36 3.331511e-02 2.464108e-03      99.99379                  \n",
       "Dim.37 2.941112e-02 2.175355e-03      99.99597                  \n",
       "Dim.38 1.973383e-02 1.459587e-03      99.99743                  \n",
       "Dim.39 1.255411e-02 9.285487e-04      99.99836                  \n",
       "Dim.40 1.152147e-02 8.521708e-04      99.99921                  \n",
       "Dim.41 5.138685e-03 3.800761e-04      99.99959                  \n",
       "Dim.42 3.177021e-03 2.349842e-04      99.99982                  \n",
       "Dim.43 1.498365e-03 1.108246e-04      99.99993                  \n",
       "Dim.44 8.738174e-04 6.463076e-05     100.00000                  \n",
       "Dim.45 1.683856e-05 1.245442e-06     100.00000                  \n",
       "Dim.46 2.140597e-30 1.583265e-31     100.00000                  \n",
       "Dim.47 2.140597e-30 1.583265e-31     100.00000                  \n",
       "Dim.48 2.140597e-30 1.583265e-31     100.00000                  \n",
       "Dim.49 2.140597e-30 1.583265e-31     100.00000                  \n",
       "Dim.50 2.140597e-30 1.583265e-31     100.00000                  \n",
       "Dim.51 2.140597e-30 1.583265e-31     100.00000                  \n",
       "Dim.52 2.140597e-30 1.583265e-31     100.00000                  "
      ]
     },
     "metadata": {},
     "output_type": "display_data"
    },
    {
     "name": "stderr",
     "output_type": "stream",
     "text": [
      "Warning message:\n",
      "\"ggrepel: 63 unlabeled data points (too many overlaps). Consider increasing max.overlaps\"\n"
     ]
    },
    {
     "data": {
      "image/png": "[encoded data removed]",
      "text/plain": [
       "plot without title"
      ]
     },
     "metadata": {
      "image/png": {
       "height": 420,
       "width": 420
      }
     },
     "output_type": "display_data"
    },
    {
     "data": {
      "image/png": "[encoded data removed]",
      "text/plain": [
       "plot without title"
      ]
     },
     "metadata": {
      "image/png": {
       "height": 420,
       "width": 420
      }
     },
     "output_type": "display_data"
    },
    {
     "data": {
      "image/png": "[encoded data removed]",
      "text/plain": [
       "plot without title"
      ]
     },
     "metadata": {
      "image/png": {
       "height": 420,
       "width": 420
      }
     },
     "output_type": "display_data"
    },
    {
     "data": {
      "image/png": "[encoded data removed]",
      "text/plain": [
       "plot without title"
      ]
     },
     "metadata": {
      "image/png": {
       "height": 420,
       "width": 420
      }
     },
     "output_type": "display_data"
    },
    {
     "name": "stderr",
     "output_type": "stream",
     "text": [
      "Warning message:\n",
      "\"ggrepel: 46 unlabeled data points (too many overlaps). Consider increasing max.overlaps\"\n",
      "Warning message:\n",
      "\"ggrepel: 63 unlabeled data points (too many overlaps). Consider increasing max.overlaps\"\n"
     ]
    },
    {
     "data": {
      "image/png": "[encoded data removed]",
      "text/plain": [
       "plot without title"
      ]
     },
     "metadata": {
      "image/png": {
       "height": 420,
       "width": 420
      }
     },
     "output_type": "display_data"
    },
    {
     "data": {
      "image/png": "[encoded data removed]",
      "text/plain": [
       "plot without title"
      ]
     },
     "metadata": {
      "image/png": {
       "height": 420,
       "width": 420
      }
     },
     "output_type": "display_data"
    }
   ],
   "source": [
    "#install.packages(\"FactoMineR\")\n",
    "#install.packages(\"factoextra\")\n",
    "require(FactoMineR)\n",
    "require(factoextra)\n",
    "PCA<- prcomp(BD_transformado,scale. = F)\n",
    "eig.val<- get_eigenvalue(PCA)\n",
    "eig.val\n",
    "#Scree plot\n",
    "fviz_eig(PCA,addlabels = T,ylim=c(0,100))\n",
    "#Extrair os resultados das variáveis do PCA p/ plotar no gráfico\n",
    "var<- get_pca_var(PCA)\n",
    "ind<- get_pca_ind(PCA)\n",
    "fviz_pca_var(PCA,col.var=\"contrib\",gradient.cols = c(\"#00AFBB\", \"#E7B800\", \"#FC4E07\"),repel = T)\n",
    "#Contribuição das variáveis para a 1ª e 2ª dimensão (Top 10)\n",
    "fviz_contrib(PCA, choice = \"var\", axes = 1, top = 10) \n",
    "fviz_contrib(PCA, choice = \"var\", axes = 2, top = 10)\n",
    "#Criar grupos p/ ajudar na visualização do gráfico\n",
    "Labels= BD$Caidor\n",
    "Labels<- as.numeric(Labels)\n",
    "Labels[Labels==1]<- \"Controle\"\n",
    "Labels[Labels==2]<- \"Caso\"\n",
    "Labels<- as.factor(Labels)\n",
    "fviz_pca_ind(PCA,geom= c(\"point\",\"text\"),habillage = Labels,addEllipses = T,repel=TRUE)\n",
    "fviz_pca_biplot(PCA, repel = TRUE,col.var = \"black\",habillage = Labels)  "
   ]
  }
 ],
 "metadata": {
  "kernelspec": {
   "display_name": "R",
   "language": "R",
   "name": "ir"
  },
  "language_info": {
   "codemirror_mode": "r",
   "file_extension": ".r",
   "mimetype": "text/x-r-source",
   "name": "R",
   "pygments_lexer": "r",
   "version": "3.6.0"
  },
  "orig_nbformat": 4
 },
 "nbformat": 4,
 "nbformat_minor": 2
}
