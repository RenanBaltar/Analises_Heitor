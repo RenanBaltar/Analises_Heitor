{
 "cells": [
  {
   "cell_type": "markdown",
   "metadata": {},
   "source": [
    "# Importação do banco de dados (*atualizado*)"
   ]
  },
  {
   "cell_type": "code",
   "execution_count": 1,
   "metadata": {},
   "outputs": [
    {
     "name": "stderr",
     "output_type": "stream",
     "text": [
      "Loading required package: readxl\n",
      "\n",
      "Warning message:\n",
      "\"package 'readxl' was built under R version 3.6.3\"\n"
     ]
    },
    {
     "data": {
      "text/html": [
       "<table class=\"dataframe\">\n",
       "<caption>A tibble: 6 × 40</caption>\n",
       "<thead>\n",
       "\t<tr><th scope=col>Caidor</th><th scope=col>Genero</th><th scope=col>idade</th><th scope=col>Nivel_social</th><th scope=col>etnia</th><th scope=col>Nivel_educacional</th><th scope=col>Freq_atividade</th><th scope=col>Criterio_AHA</th><th scope=col>Anti_hipertensivo</th><th scope=col>betabloqueador</th><th scope=col>...</th><th scope=col>Dinamometria</th><th scope=col>Berg</th><th scope=col>STS</th><th scope=col>Flexibilidade_Ms</th><th scope=col>Flexibilidade_MI</th><th scope=col>TUG_sec</th><th scope=col>DT_Sec</th><th scope=col>DT_numero_animais</th><th scope=col>quantidade_total_de_medicação</th><th scope=col>medicaçao_tipo_cardiovascular</th></tr>\n",
       "\t<tr><th scope=col>&lt;chr&gt;</th><th scope=col>&lt;chr&gt;</th><th scope=col>&lt;dbl&gt;</th><th scope=col>&lt;chr&gt;</th><th scope=col>&lt;chr&gt;</th><th scope=col>&lt;dbl&gt;</th><th scope=col>&lt;chr&gt;</th><th scope=col>&lt;chr&gt;</th><th scope=col>&lt;chr&gt;</th><th scope=col>&lt;chr&gt;</th><th scope=col>...</th><th scope=col>&lt;dbl&gt;</th><th scope=col>&lt;dbl&gt;</th><th scope=col>&lt;dbl&gt;</th><th scope=col>&lt;dbl&gt;</th><th scope=col>&lt;dbl&gt;</th><th scope=col>&lt;dbl&gt;</th><th scope=col>&lt;dbl&gt;</th><th scope=col>&lt;dbl&gt;</th><th scope=col>&lt;dbl&gt;</th><th scope=col>&lt;chr&gt;</th></tr>\n",
       "</thead>\n",
       "<tbody>\n",
       "\t<tr><td>sim</td><td>mulher</td><td>76</td><td>b</td><td>branco</td><td>16</td><td>3x        </td><td>c</td><td>não</td><td>sim</td><td>...</td><td>17.9</td><td>54</td><td> 5</td><td>-29</td><td>-33</td><td> 8.90</td><td> 9.1</td><td>10</td><td>8</td><td>Beta + Anti_Coag      </td></tr>\n",
       "\t<tr><td>não</td><td>mulher</td><td>73</td><td>b</td><td>branco</td><td>16</td><td>3x        </td><td>b</td><td>sim</td><td>sim</td><td>...</td><td>21.0</td><td>56</td><td>12</td><td>  0</td><td>  0</td><td> 7.11</td><td> 9.0</td><td> 8</td><td>8</td><td>Beta + Anti_HAS       </td></tr>\n",
       "\t<tr><td>não</td><td>mulher</td><td>75</td><td>c</td><td>branco</td><td>12</td><td>2x        </td><td>b</td><td>sim</td><td>sim</td><td>...</td><td>23.5</td><td>54</td><td> 7</td><td> -7</td><td>-15</td><td> 7.42</td><td> 8.6</td><td> 7</td><td>6</td><td>Beta + Anti_Coag      </td></tr>\n",
       "\t<tr><td>sim</td><td>mulher</td><td>83</td><td>b</td><td>branco</td><td>10</td><td>sedentario</td><td>c</td><td>sim</td><td>sim</td><td>...</td><td>15.3</td><td>51</td><td> 9</td><td>-22</td><td> -4</td><td>10.52</td><td>11.9</td><td> 7</td><td>8</td><td>Beta + Anti_Coag + Diu</td></tr>\n",
       "\t<tr><td>não</td><td>mulher</td><td>83</td><td>a</td><td>branco</td><td>10</td><td>3x        </td><td>c</td><td>sim</td><td>sim</td><td>...</td><td>16.7</td><td>56</td><td>NA</td><td> NA</td><td>-19</td><td> 9.31</td><td>13.2</td><td> 9</td><td>7</td><td>Beta + Anti_Coag + Diu</td></tr>\n",
       "\t<tr><td>não</td><td>mulher</td><td>78</td><td>a</td><td>branco</td><td>12</td><td>2x        </td><td>b</td><td>sim</td><td>sim</td><td>...</td><td>19.1</td><td>56</td><td>12</td><td> NA</td><td>  0</td><td> 7.17</td><td> 8.7</td><td> 6</td><td>4</td><td>Beta + Anti_HAS       </td></tr>\n",
       "</tbody>\n",
       "</table>\n"
      ],
      "text/latex": [
       "A tibble: 6 × 40\n",
       "\\begin{tabular}{lllllllllllllllllllll}\n",
       " Caidor & Genero & idade & Nivel\\_social & etnia & Nivel\\_educacional & Freq\\_atividade & Criterio\\_AHA & Anti\\_hipertensivo & betabloqueador & ... & Dinamometria & Berg & STS & Flexibilidade\\_Ms & Flexibilidade\\_MI & TUG\\_sec & DT\\_Sec & DT\\_numero\\_animais & quantidade\\_total\\_de\\_medicação & medicaçao\\_tipo\\_cardiovascular\\\\\n",
       " <chr> & <chr> & <dbl> & <chr> & <chr> & <dbl> & <chr> & <chr> & <chr> & <chr> & ... & <dbl> & <dbl> & <dbl> & <dbl> & <dbl> & <dbl> & <dbl> & <dbl> & <dbl> & <chr>\\\\\n",
       "\\hline\n",
       "\t sim & mulher & 76 & b & branco & 16 & 3x         & c & não & sim & ... & 17.9 & 54 &  5 & -29 & -33 &  8.90 &  9.1 & 10 & 8 & Beta + Anti\\_Coag      \\\\\n",
       "\t não & mulher & 73 & b & branco & 16 & 3x         & b & sim & sim & ... & 21.0 & 56 & 12 &   0 &   0 &  7.11 &  9.0 &  8 & 8 & Beta + Anti\\_HAS       \\\\\n",
       "\t não & mulher & 75 & c & branco & 12 & 2x         & b & sim & sim & ... & 23.5 & 54 &  7 &  -7 & -15 &  7.42 &  8.6 &  7 & 6 & Beta + Anti\\_Coag      \\\\\n",
       "\t sim & mulher & 83 & b & branco & 10 & sedentario & c & sim & sim & ... & 15.3 & 51 &  9 & -22 &  -4 & 10.52 & 11.9 &  7 & 8 & Beta + Anti\\_Coag + Diu\\\\\n",
       "\t não & mulher & 83 & a & branco & 10 & 3x         & c & sim & sim & ... & 16.7 & 56 & NA &  NA & -19 &  9.31 & 13.2 &  9 & 7 & Beta + Anti\\_Coag + Diu\\\\\n",
       "\t não & mulher & 78 & a & branco & 12 & 2x         & b & sim & sim & ... & 19.1 & 56 & 12 &  NA &   0 &  7.17 &  8.7 &  6 & 4 & Beta + Anti\\_HAS       \\\\\n",
       "\\end{tabular}\n"
      ],
      "text/markdown": [
       "\n",
       "A tibble: 6 × 40\n",
       "\n",
       "| Caidor &lt;chr&gt; | Genero &lt;chr&gt; | idade &lt;dbl&gt; | Nivel_social &lt;chr&gt; | etnia &lt;chr&gt; | Nivel_educacional &lt;dbl&gt; | Freq_atividade &lt;chr&gt; | Criterio_AHA &lt;chr&gt; | Anti_hipertensivo &lt;chr&gt; | betabloqueador &lt;chr&gt; | ... ... | Dinamometria &lt;dbl&gt; | Berg &lt;dbl&gt; | STS &lt;dbl&gt; | Flexibilidade_Ms &lt;dbl&gt; | Flexibilidade_MI &lt;dbl&gt; | TUG_sec &lt;dbl&gt; | DT_Sec &lt;dbl&gt; | DT_numero_animais &lt;dbl&gt; | quantidade_total_de_medicação &lt;dbl&gt; | medicaçao_tipo_cardiovascular &lt;chr&gt; |\n",
       "|---|---|---|---|---|---|---|---|---|---|---|---|---|---|---|---|---|---|---|---|---|\n",
       "| sim | mulher | 76 | b | branco | 16 | 3x         | c | não | sim | ... | 17.9 | 54 |  5 | -29 | -33 |  8.90 |  9.1 | 10 | 8 | Beta + Anti_Coag       |\n",
       "| não | mulher | 73 | b | branco | 16 | 3x         | b | sim | sim | ... | 21.0 | 56 | 12 |   0 |   0 |  7.11 |  9.0 |  8 | 8 | Beta + Anti_HAS        |\n",
       "| não | mulher | 75 | c | branco | 12 | 2x         | b | sim | sim | ... | 23.5 | 54 |  7 |  -7 | -15 |  7.42 |  8.6 |  7 | 6 | Beta + Anti_Coag       |\n",
       "| sim | mulher | 83 | b | branco | 10 | sedentario | c | sim | sim | ... | 15.3 | 51 |  9 | -22 |  -4 | 10.52 | 11.9 |  7 | 8 | Beta + Anti_Coag + Diu |\n",
       "| não | mulher | 83 | a | branco | 10 | 3x         | c | sim | sim | ... | 16.7 | 56 | NA |  NA | -19 |  9.31 | 13.2 |  9 | 7 | Beta + Anti_Coag + Diu |\n",
       "| não | mulher | 78 | a | branco | 12 | 2x         | b | sim | sim | ... | 19.1 | 56 | 12 |  NA |   0 |  7.17 |  8.7 |  6 | 4 | Beta + Anti_HAS        |\n",
       "\n"
      ],
      "text/plain": [
       "  Caidor Genero idade Nivel_social etnia  Nivel_educacional Freq_atividade\n",
       "1 sim    mulher 76    b            branco 16                3x            \n",
       "2 não    mulher 73    b            branco 16                3x            \n",
       "3 não    mulher 75    c            branco 12                2x            \n",
       "4 sim    mulher 83    b            branco 10                sedentario    \n",
       "5 não    mulher 83    a            branco 10                3x            \n",
       "6 não    mulher 78    a            branco 12                2x            \n",
       "  Criterio_AHA Anti_hipertensivo betabloqueador ... Dinamometria Berg STS\n",
       "1 c            não               sim            ... 17.9         54    5 \n",
       "2 b            sim               sim            ... 21.0         56   12 \n",
       "3 b            sim               sim            ... 23.5         54    7 \n",
       "4 c            sim               sim            ... 15.3         51    9 \n",
       "5 c            sim               sim            ... 16.7         56   NA \n",
       "6 b            sim               sim            ... 19.1         56   12 \n",
       "  Flexibilidade_Ms Flexibilidade_MI TUG_sec DT_Sec DT_numero_animais\n",
       "1 -29              -33               8.90    9.1   10               \n",
       "2   0                0               7.11    9.0    8               \n",
       "3  -7              -15               7.42    8.6    7               \n",
       "4 -22               -4              10.52   11.9    7               \n",
       "5  NA              -19               9.31   13.2    9               \n",
       "6  NA                0               7.17    8.7    6               \n",
       "  quantidade_total_de_medicação medicaçao_tipo_cardiovascular\n",
       "1 8                             Beta + Anti_Coag             \n",
       "2 8                             Beta + Anti_HAS              \n",
       "3 6                             Beta + Anti_Coag             \n",
       "4 8                             Beta + Anti_Coag + Diu       \n",
       "5 7                             Beta + Anti_Coag + Diu       \n",
       "6 4                             Beta + Anti_HAS              "
      ]
     },
     "metadata": {},
     "output_type": "display_data"
    },
    {
     "data": {
      "text/html": [
       "<style>\n",
       ".list-inline {list-style: none; margin:0; padding: 0}\n",
       ".list-inline>li {display: inline-block}\n",
       ".list-inline>li:not(:last-child)::after {content: \"\\00b7\"; padding: 0 .5ex}\n",
       "</style>\n",
       "<ol class=list-inline><li>72</li><li>40</li></ol>\n"
      ],
      "text/latex": [
       "\\begin{enumerate*}\n",
       "\\item 72\n",
       "\\item 40\n",
       "\\end{enumerate*}\n"
      ],
      "text/markdown": [
       "1. 72\n",
       "2. 40\n",
       "\n",
       "\n"
      ],
      "text/plain": [
       "[1] 72 40"
      ]
     },
     "metadata": {},
     "output_type": "display_data"
    },
    {
     "name": "stdout",
     "output_type": "stream",
     "text": [
      "tibble [72 x 40] (S3: tbl_df/tbl/data.frame)\n",
      " $ Caidor                       : chr [1:72] \"sim\" \"não\" \"não\" \"sim\" ...\n",
      " $ Genero                       : chr [1:72] \"mulher\" \"mulher\" \"mulher\" \"mulher\" ...\n",
      " $ idade                        : num [1:72] 76 73 75 83 83 78 83 82 78 75 ...\n",
      " $ Nivel_social                 : chr [1:72] \"b\" \"b\" \"c\" \"b\" ...\n",
      " $ etnia                        : chr [1:72] \"branco\" \"branco\" \"branco\" \"branco\" ...\n",
      " $ Nivel_educacional            : num [1:72] 16 16 12 10 10 12 20 8 14 16 ...\n",
      " $ Freq_atividade               : chr [1:72] \"3x\" \"3x\" \"2x\" \"sedentario\" ...\n",
      " $ Criterio_AHA                 : chr [1:72] \"c\" \"b\" \"b\" \"c\" ...\n",
      " $ Anti_hipertensivo            : chr [1:72] \"não\" \"sim\" \"sim\" \"sim\" ...\n",
      " $ betabloqueador               : chr [1:72] \"sim\" \"sim\" \"sim\" \"sim\" ...\n",
      " $ Anticoagulante_classif       : chr [1:72] \"não\" \"não\" \"não\" \"sim\" ...\n",
      " $ Diuretico_classif            : chr [1:72] \"não\" \"não\" \"não\" \"sim\" ...\n",
      " $ medicação_tipo_mental        : chr [1:72] \"antidepressivo\" \"benzodiazepinico\" \"antidepressivo\" \"antidepressivo+benzo\" ...\n",
      " $ medicação_tipo_saude         : chr [1:72] \"cardio+mental\" \"cardio+mental\" \"cardio+mental\" \"cardio+mental\" ...\n",
      " $ antidepressivo               : chr [1:72] \"não\" \"não\" \"sim\" \"não\" ...\n",
      " $ ansiolitico                  : chr [1:72] \"não\" \"não\" \"não\" \"não\" ...\n",
      " $ benzodiazepinico             : chr [1:72] \"sim\" \"sim\" \"sim\" \"sim\" ...\n",
      " $ DVC_primaria                 : chr [1:72] \"insuficiencia\" \"insuficiencia\" \"insuficiencia\" \"arritmia\" ...\n",
      " $ HAS                          : chr [1:72] \"não\" \"sim\" \"sim\" \"sim\" ...\n",
      " $ Tempo_doença                 : num [1:72] 6 3 6 4 10 20 5 9 3 25 ...\n",
      " $ Doenca_Respi                 : chr [1:72] \"sim\" NA \"não\" \"não\" ...\n",
      " $ MMSE                         : num [1:72] 30 29 27 29 29 30 29 26 28 24 ...\n",
      " $ Fluencia_verbal              : num [1:72] 27 22 15 20 18 30 19 18 20 14 ...\n",
      " $ Trilhas_A                    : num [1:72] 33 26.8 71 29.2 43.2 86.1 35.3 44.2 44 43.5 ...\n",
      " $ Trilhas_b                    : num [1:72] 60.1 61 178 93.7 127.2 ...\n",
      " $ GDS                          : num [1:72] 3 0 15 5 2 0 0 0 0 14 ...\n",
      " $ FES_I                        : num [1:72] 26 19 19 16 16 16 22 16 19 24 ...\n",
      " $ Vsaq                         : num [1:72] 5 5 7 5 5 8 7 5 8 5 ...\n",
      " $ Vo2_maximo_avaliado          : num [1:72] 17 23.4 11.3 12.7 14.1 13.5 18.4 13.4 18.6 12.1 ...\n",
      " $ IMC                          : num [1:72] 27 28.5 32.8 29.3 26.2 27.2 22.2 26.9 19.7 24.8 ...\n",
      " $ Dinamometria                 : num [1:72] 17.9 21 23.5 15.3 16.7 19.1 20.9 18.1 16 22.7 ...\n",
      " $ Berg                         : num [1:72] 54 56 54 51 56 56 54 55 55 50 ...\n",
      " $ STS                          : num [1:72] 5 12 7 9 NA 12 6 8 12 8 ...\n",
      " $ Flexibilidade_Ms             : num [1:72] -29 0 -7 -22 NA NA -6 -8 7 -11 ...\n",
      " $ Flexibilidade_MI             : num [1:72] -33 0 -15 -4 -19 0 -5 -2 8 -23 ...\n",
      " $ TUG_sec                      : num [1:72] 8.9 7.11 7.42 10.52 9.31 ...\n",
      " $ DT_Sec                       : num [1:72] 9.1 9 8.6 11.9 13.2 8.7 9.2 8.7 6.7 8.7 ...\n",
      " $ DT_numero_animais            : num [1:72] 10 8 7 7 9 6 8 7 5 5 ...\n",
      " $ quantidade_total_de_medicação: num [1:72] 8 8 6 8 7 4 2 5 6 8 ...\n",
      " $ medicaçao_tipo_cardiovascular: chr [1:72] \"Beta + Anti_Coag\" \"Beta + Anti_HAS\" \"Beta + Anti_Coag\" \"Beta + Anti_Coag + Diu\" ...\n"
     ]
    }
   ],
   "source": [
    "#install.packages(\"readxl\")\n",
    "require(readxl)\n",
    "bd<- read_excel(\"Analise heitor_02_10_21.xlsx\",sheet = 2)\n",
    "head(bd)\n",
    "dim(bd) #72x40 (antes havia 71 variáveis)\n",
    "str(bd)"
   ]
  },
  {
   "cell_type": "markdown",
   "metadata": {},
   "source": [
    "# Pré-processamento dos dados"
   ]
  },
  {
   "cell_type": "code",
   "execution_count": 2,
   "metadata": {},
   "outputs": [
    {
     "name": "stdout",
     "output_type": "stream",
     "text": [
      "tibble [72 x 40] (S3: tbl_df/tbl/data.frame)\n",
      " $ Caidor                       : Factor w/ 2 levels \"não\",\"sim\": 2 1 1 2 1 1 2 1 1 2 ...\n",
      " $ Genero                       : Factor w/ 2 levels \"homem\",\"mulher\": 2 2 2 2 2 2 2 2 2 1 ...\n",
      " $ idade                        : num [1:72] 17 14 16 24 24 19 24 23 19 16 ...\n",
      " $ Nivel_social                 : Factor w/ 4 levels \"a\",\"b\",\"c\",\"d\": 2 2 3 2 1 1 2 2 3 2 ...\n",
      " $ etnia                        : Factor w/ 2 levels \"branco\",\"preto\": 1 1 1 1 1 1 2 1 1 1 ...\n",
      " $ Nivel_educacional            : num [1:72] 6 6 3 2 2 3 8 1 4 6 ...\n",
      " $ Freq_atividade               : Factor w/ 3 levels \"2x\",\"3x\",\"sedentario\": 2 2 1 3 2 1 2 1 1 1 ...\n",
      " $ Criterio_AHA                 : Factor w/ 2 levels \"b\",\"c\": 2 1 1 2 2 1 2 1 1 2 ...\n",
      " $ Anti_hipertensivo            : Factor w/ 2 levels \"não\",\"sim\": 1 2 2 2 2 2 1 1 1 2 ...\n",
      " $ betabloqueador               : Factor w/ 2 levels \"não\",\"sim\": 2 2 2 2 2 2 2 1 2 2 ...\n",
      " $ Anticoagulante_classif       : Factor w/ 2 levels \"não\",\"sim\": 1 1 1 2 1 1 2 2 1 2 ...\n",
      " $ Diuretico_classif            : Factor w/ 2 levels \"não\",\"sim\": 1 1 1 2 1 1 1 1 1 2 ...\n",
      " $ medicação_tipo_mental        : Factor w/ 5 levels \"ansiolitico\",..: 2 4 2 3 4 1 3 5 2 3 ...\n",
      " $ medicação_tipo_saude         : Factor w/ 2 levels \"cardio+mental\",..: 1 1 1 1 1 1 1 2 1 1 ...\n",
      " $ antidepressivo               : Factor w/ 2 levels \"não\",\"sim\": 1 1 2 1 2 1 1 1 1 2 ...\n",
      " $ ansiolitico                  : Factor w/ 2 levels \"não\",\"sim\": 1 1 1 1 1 1 1 1 1 2 ...\n",
      " $ benzodiazepinico             : Factor w/ 2 levels \"não\",\"sim\": 2 2 2 2 2 2 2 1 1 2 ...\n",
      " $ DVC_primaria                 : Factor w/ 7 levels \"aneurisma da aorta\",..: 5 5 5 3 1 3 3 3 3 4 ...\n",
      " $ HAS                          : Factor w/ 2 levels \"não\",\"sim\": 1 2 2 2 2 2 1 1 1 2 ...\n",
      " $ Tempo_doença                 : num [1:72] 5 2 5 3 9 17 4 8 2 20 ...\n",
      " $ Doenca_Respi                 : Factor w/ 4 levels \"duas\",\"não\",\"sim\",..: 3 NA 2 2 2 2 2 2 2 2 ...\n",
      " $ MMSE                         : num [1:72] 9 8 6 8 8 9 8 5 7 3 ...\n",
      " $ Fluencia_verbal              : num [1:72] 17 12 5 10 8 20 9 8 10 4 ...\n",
      " $ Trilhas_A                    : num [1:72] 10 4 43 6 25 46 13 28 27 26 ...\n",
      " $ Trilhas_b                    : num [1:72] 11 12 43 29 37 45 30 34 27 40 ...\n",
      " $ GDS                          : num [1:72] 4 1 14 6 3 1 1 1 1 13 ...\n",
      " $ FES_I                        : num [1:72] 10 4 4 1 1 1 6 1 4 8 ...\n",
      " $ Vsaq                         : num [1:72] 3 3 5 3 3 6 5 3 6 3 ...\n",
      " $ Vo2_maximo_avaliado          : num [1:72] 20 38 3 5 10 8 25 7 26 4 ...\n",
      " $ IMC                          : num [1:72] 26 30 39 33 19 28 6 25 2 12 ...\n",
      " $ Dinamometria                 : num [1:72] 7 15 21 2 6 11 14 9 4 20 ...\n",
      " $ Berg                         : num [1:72] 11 13 11 9 13 13 11 12 12 8 ...\n",
      " $ STS                          : num [1:72] 2 9 4 6 NA 9 3 5 9 5 ...\n",
      " $ Flexibilidade_Ms             : num [1:72] 5 26 21 10 NA NA 22 20 29 17 ...\n",
      " $ Flexibilidade_MI             : num [1:72] 2 19 10 16 7 19 15 18 23 4 ...\n",
      " $ TUG_sec                      : num [1:72] 42 29 33 48 45 30 38 43 9 36 ...\n",
      " $ DT_Sec                       : num [1:72] 26 25 22 32 35 23 27 23 8 23 ...\n",
      " $ DT_numero_animais            : num [1:72] 8 6 5 5 7 4 6 5 3 3 ...\n",
      " $ quantidade_total_de_medicação: num [1:72] 7 7 5 7 6 3 1 4 5 7 ...\n",
      " $ medicaçao_tipo_cardiovascular: Factor w/ 5 levels \"Anti + HAS\",\"Beta\",..: 3 5 3 4 4 5 2 2 2 4 ...\n"
     ]
    }
   ],
   "source": [
    "bd[] <- lapply(bd, as.factor) #Transforma todo o banco de dados em fator\n",
    "bd[,c(\"idade\",\"Nivel_educacional\",\"Tempo_doença\",\"MMSE\",\"Fluencia_verbal\",\"Trilhas_A\",\"Trilhas_b\",\"GDS\",\"FES_I\",\"Vsaq\",\"Vo2_maximo_avaliado\",\"IMC\",\"Dinamometria\",\"Berg\",\"STS\",\"Flexibilidade_Ms\",\"Flexibilidade_MI\",\"TUG_sec\",\"DT_Sec\",\"DT_numero_animais\",\"quantidade_total_de_medicação\")] <- lapply(bd[,c(\"idade\",\"Nivel_educacional\",\"Tempo_doença\",\"MMSE\",\"Fluencia_verbal\",\"Trilhas_A\",\"Trilhas_b\",\"GDS\",\"FES_I\",\"Vsaq\",\"Vo2_maximo_avaliado\",\"IMC\",\"Dinamometria\",\"Berg\",\"STS\",\"Flexibilidade_Ms\",\"Flexibilidade_MI\",\"TUG_sec\",\"DT_Sec\",\"DT_numero_animais\",\"quantidade_total_de_medicação\")], as.numeric) \n",
    "str(bd)"
   ]
  },
  {
   "cell_type": "markdown",
   "metadata": {},
   "source": [
    "## Removendo dados faltantes"
   ]
  },
  {
   "cell_type": "code",
   "execution_count": 3,
   "metadata": {},
   "outputs": [
    {
     "data": {
      "text/plain": [
       "\n",
       "não sim \n",
       " 48  24 "
      ]
     },
     "metadata": {},
     "output_type": "display_data"
    },
    {
     "data": {
      "text/html": [
       "<style>\n",
       ".list-inline {list-style: none; margin:0; padding: 0}\n",
       ".list-inline>li {display: inline-block}\n",
       ".list-inline>li:not(:last-child)::after {content: \"\\00b7\"; padding: 0 .5ex}\n",
       "</style>\n",
       "<ol class=list-inline><li>52</li><li>40</li></ol>\n"
      ],
      "text/latex": [
       "\\begin{enumerate*}\n",
       "\\item 52\n",
       "\\item 40\n",
       "\\end{enumerate*}\n"
      ],
      "text/markdown": [
       "1. 52\n",
       "2. 40\n",
       "\n",
       "\n"
      ],
      "text/plain": [
       "[1] 52 40"
      ]
     },
     "metadata": {},
     "output_type": "display_data"
    },
    {
     "data": {
      "text/plain": [
       "\n",
       "não sim \n",
       " 33  19 "
      ]
     },
     "metadata": {},
     "output_type": "display_data"
    }
   ],
   "source": [
    "table(bd$Caidor) #(48 não e 24 sim)\n",
    "BD<- na.omit(bd) \n",
    "dim(BD) #52 idosos após remoção dos Nas\n",
    "table(BD$Caidor) #(33 não e 19 sim)"
   ]
  },
  {
   "cell_type": "markdown",
   "metadata": {},
   "source": [
    "# Análise descritiva (*n total - com NA*) "
   ]
  },
  {
   "cell_type": "markdown",
   "metadata": {},
   "source": [
    "## n total "
   ]
  },
  {
   "cell_type": "code",
   "execution_count": 35,
   "metadata": {},
   "outputs": [
    {
     "data": {
      "text/plain": [
       "$Caidor\n",
       "não sim \n",
       " 48  24 \n",
       "\n",
       "$Genero\n",
       " homem mulher \n",
       "    43     29 \n",
       "\n",
       "$idade\n",
       "   Min. 1st Qu.  Median    Mean 3rd Qu.    Max. \n",
       "   1.00   10.00   16.00   15.42   20.25   27.00 \n",
       "\n",
       "$Nivel_social\n",
       " a  b  c  d \n",
       "12 43 16  1 \n",
       "\n",
       "$etnia\n",
       "branco  preto \n",
       "    61     11 \n",
       "\n",
       "$Nivel_educacional\n",
       "   Min. 1st Qu.  Median    Mean 3rd Qu.    Max. \n",
       "  1.000   4.000   6.000   5.514   6.250  10.000 \n",
       "\n",
       "$Freq_atividade\n",
       "        2x         3x sedentario \n",
       "        21         34         17 \n",
       "\n",
       "$Criterio_AHA\n",
       " b  c \n",
       "49 23 \n",
       "\n",
       "$Anti_hipertensivo\n",
       "não sim \n",
       " 15  57 \n",
       "\n",
       "$betabloqueador\n",
       "não sim \n",
       "  6  66 \n",
       "\n",
       "$Anticoagulante_classif\n",
       "não sim \n",
       " 41  31 \n",
       "\n",
       "$Diuretico_classif\n",
       "não sim \n",
       " 48  24 \n",
       "\n",
       "$medicação_tipo_mental\n",
       "         ansiolitico       antidepressivo antidepressivo+benzo \n",
       "                   2                    5                    8 \n",
       "    benzodiazepinico                  não \n",
       "                  28                   29 \n",
       "\n",
       "$medicação_tipo_saude\n",
       " cardio+mental cardiovascular \n",
       "            43             29 \n",
       "\n",
       "$antidepressivo\n",
       "não sim \n",
       " 61  11 \n",
       "\n",
       "$ansiolitico\n",
       "não sim \n",
       " 70   2 \n",
       "\n",
       "$benzodiazepinico\n",
       "não sim \n",
       " 39  33 \n",
       "\n",
       "$DVC_primaria\n",
       "aneurisma da aorta             angina           arritmia            infarto \n",
       "                 3                  4                 28                  9 \n",
       "     insuficiencia           isquemia               nada \n",
       "                19                  7                  2 \n",
       "\n",
       "$HAS\n",
       "não sim \n",
       " 15  57 \n",
       "\n",
       "$Tempo_doença\n",
       "   Min. 1st Qu.  Median    Mean 3rd Qu.    Max. \n",
       "  1.000   4.000   7.000   8.431  13.000  21.000 \n",
       "\n",
       "$Doenca_Respi\n",
       "duas  não  sim três NA's \n",
       "   2   58    8    3    1 \n",
       "\n",
       "$MMSE\n",
       "   Min. 1st Qu.  Median    Mean 3rd Qu.    Max.    NA's \n",
       "  1.000   6.000   8.000   7.282   9.000   9.000       1 \n",
       "\n",
       "$Fluencia_verbal\n",
       "   Min. 1st Qu.  Median    Mean 3rd Qu.    Max. \n",
       "   1.00    7.00   11.00   11.18   15.25   22.00 \n",
       "\n",
       "$Trilhas_A\n",
       "   Min. 1st Qu.  Median    Mean 3rd Qu.    Max.    NA's \n",
       "   1.00   15.50   25.00   24.92   36.00   48.00       1 \n",
       "\n",
       "$Trilhas_b\n",
       "   Min. 1st Qu.  Median    Mean 3rd Qu.    Max.    NA's \n",
       "   1.00   14.50   24.00   25.58   37.50   47.00       1 \n",
       "\n",
       "$GDS\n",
       "   Min. 1st Qu.  Median    Mean 3rd Qu.    Max.    NA's \n",
       "   1.00    1.00    2.00    4.31    5.50   17.00       1 \n",
       "\n",
       "$FES_I\n",
       "   Min. 1st Qu.  Median    Mean 3rd Qu.    Max.    NA's \n",
       "  1.000   1.000   1.000   3.958   5.000  15.000       1 \n",
       "\n",
       "$Vsaq\n",
       "   Min. 1st Qu.  Median    Mean 3rd Qu.    Max. \n",
       "  1.000   3.000   5.000   4.542   5.250   9.000 \n",
       "\n",
       "$Vo2_maximo_avaliado\n",
       "   Min. 1st Qu.  Median    Mean 3rd Qu.    Max.    NA's \n",
       "   1.00    9.50   22.00   20.68   30.50   42.00       9 \n",
       "\n",
       "$IMC\n",
       "   Min. 1st Qu.  Median    Mean 3rd Qu.    Max. \n",
       "   1.00   12.75   23.50   22.29   32.00   42.00 \n",
       "\n",
       "$Dinamometria\n",
       "   Min. 1st Qu.  Median    Mean 3rd Qu.    Max. \n",
       "   1.00   12.75   24.50   24.64   35.25   49.00 \n",
       "\n",
       "$Berg\n",
       "   Min. 1st Qu.  Median    Mean 3rd Qu.    Max. \n",
       "   1.00   11.00   12.00   10.99   13.00   13.00 \n",
       "\n",
       "$STS\n",
       "   Min. 1st Qu.  Median    Mean 3rd Qu.    Max.    NA's \n",
       "  1.000   6.000   8.000   7.382   9.000  14.000       4 \n",
       "\n",
       "$Flexibilidade_Ms\n",
       "   Min. 1st Qu.  Median    Mean 3rd Qu.    Max.    NA's \n",
       "   1.00    7.75   15.00   15.34   22.25   29.00       8 \n",
       "\n",
       "$Flexibilidade_MI\n",
       "   Min. 1st Qu.  Median    Mean 3rd Qu.    Max.    NA's \n",
       "   1.00    7.00   12.00   11.97   18.00   23.00       4 \n",
       "\n",
       "$TUG_sec\n",
       "   Min. 1st Qu.  Median    Mean 3rd Qu.    Max.    NA's \n",
       "   1.00   16.00   29.00   26.67   39.00   49.00       2 \n",
       "\n",
       "$DT_Sec\n",
       "   Min. 1st Qu.  Median    Mean 3rd Qu.    Max.    NA's \n",
       "   1.00   10.00   17.50   17.61   24.75   37.00       6 \n",
       "\n",
       "$DT_numero_animais\n",
       "   Min. 1st Qu.  Median    Mean 3rd Qu.    Max.    NA's \n",
       "  1.000   3.000   4.000   4.273   5.750   8.000       6 \n",
       "\n",
       "$quantidade_total_de_medicação\n",
       "   Min. 1st Qu.  Median    Mean 3rd Qu.    Max. \n",
       "  1.000   4.000   5.000   5.042   6.000  12.000 \n",
       "\n",
       "$medicaçao_tipo_cardiovascular\n",
       "            Anti + HAS                   Beta       Beta + Anti_Coag \n",
       "                     4                     15                     12 \n",
       "Beta + Anti_Coag + Diu        Beta + Anti_HAS \n",
       "                    20                     21 \n"
      ]
     },
     "metadata": {},
     "output_type": "display_data"
    },
    {
     "data": {
      "text/html": [
       "<style>\n",
       ".dl-inline {width: auto; margin:0; padding: 0}\n",
       ".dl-inline>dt, .dl-inline>dd {float: none; width: auto; display: inline-block}\n",
       ".dl-inline>dt::after {content: \":\\0020\"; padding-right: .5ex}\n",
       ".dl-inline>dt:not(:first-of-type) {padding-left: .5ex}\n",
       "</style><dl class=dl-inline><dt>idade</dt><dd>6.67716309837146</dd><dt>Nivel_educacional</dt><dd>2.19469947607807</dd><dt>Tempo_doença</dt><dd>5.54577974016707</dd><dt>MMSE</dt><dd>&lt;NA&gt;</dd><dt>Fluencia_verbal</dt><dd>5.36899389659355</dd><dt>Trilhas_A</dt><dd>&lt;NA&gt;</dd><dt>Trilhas_b</dt><dd>&lt;NA&gt;</dd><dt>GDS</dt><dd>&lt;NA&gt;</dd><dt>FES_I</dt><dd>&lt;NA&gt;</dd><dt>Vsaq</dt><dd>1.61801042842093</dd><dt>Vo2_maximo_avaliado</dt><dd>&lt;NA&gt;</dd><dt>IMC</dt><dd>11.6079592655152</dd><dt>Dinamometria</dt><dd>13.6353987897859</dd><dt>Berg</dt><dd>2.91423439831554</dd><dt>STS</dt><dd>&lt;NA&gt;</dd><dt>Flexibilidade_Ms</dt><dd>&lt;NA&gt;</dd><dt>Flexibilidade_MI</dt><dd>&lt;NA&gt;</dd><dt>TUG_sec</dt><dd>&lt;NA&gt;</dd><dt>DT_Sec</dt><dd>&lt;NA&gt;</dd><dt>DT_numero_animais</dt><dd>&lt;NA&gt;</dd><dt>quantidade_total_de_medicação</dt><dd>2.22936547531696</dd></dl>\n"
      ],
      "text/latex": [
       "\\begin{description*}\n",
       "\\item[idade] 6.67716309837146\n",
       "\\item[Nivel\\textbackslash{}\\_educacional] 2.19469947607807\n",
       "\\item[Tempo\\textbackslash{}\\_doença] 5.54577974016707\n",
       "\\item[MMSE] <NA>\n",
       "\\item[Fluencia\\textbackslash{}\\_verbal] 5.36899389659355\n",
       "\\item[Trilhas\\textbackslash{}\\_A] <NA>\n",
       "\\item[Trilhas\\textbackslash{}\\_b] <NA>\n",
       "\\item[GDS] <NA>\n",
       "\\item[FES\\textbackslash{}\\_I] <NA>\n",
       "\\item[Vsaq] 1.61801042842093\n",
       "\\item[Vo2\\textbackslash{}\\_maximo\\textbackslash{}\\_avaliado] <NA>\n",
       "\\item[IMC] 11.6079592655152\n",
       "\\item[Dinamometria] 13.6353987897859\n",
       "\\item[Berg] 2.91423439831554\n",
       "\\item[STS] <NA>\n",
       "\\item[Flexibilidade\\textbackslash{}\\_Ms] <NA>\n",
       "\\item[Flexibilidade\\textbackslash{}\\_MI] <NA>\n",
       "\\item[TUG\\textbackslash{}\\_sec] <NA>\n",
       "\\item[DT\\textbackslash{}\\_Sec] <NA>\n",
       "\\item[DT\\textbackslash{}\\_numero\\textbackslash{}\\_animais] <NA>\n",
       "\\item[quantidade\\textbackslash{}\\_total\\textbackslash{}\\_de\\textbackslash{}\\_medicação] 2.22936547531696\n",
       "\\end{description*}\n"
      ],
      "text/markdown": [
       "idade\n",
       ":   6.67716309837146Nivel_educacional\n",
       ":   2.19469947607807Tempo_doença\n",
       ":   5.54577974016707MMSE\n",
       ":   &lt;NA&gt;Fluencia_verbal\n",
       ":   5.36899389659355Trilhas_A\n",
       ":   &lt;NA&gt;Trilhas_b\n",
       ":   &lt;NA&gt;GDS\n",
       ":   &lt;NA&gt;FES_I\n",
       ":   &lt;NA&gt;Vsaq\n",
       ":   1.61801042842093Vo2_maximo_avaliado\n",
       ":   &lt;NA&gt;IMC\n",
       ":   11.6079592655152Dinamometria\n",
       ":   13.6353987897859Berg\n",
       ":   2.91423439831554STS\n",
       ":   &lt;NA&gt;Flexibilidade_Ms\n",
       ":   &lt;NA&gt;Flexibilidade_MI\n",
       ":   &lt;NA&gt;TUG_sec\n",
       ":   &lt;NA&gt;DT_Sec\n",
       ":   &lt;NA&gt;DT_numero_animais\n",
       ":   &lt;NA&gt;quantidade_total_de_medicação\n",
       ":   2.22936547531696\n",
       "\n"
      ],
      "text/plain": [
       "                        idade             Nivel_educacional \n",
       "                     6.677163                      2.194699 \n",
       "                 Tempo_doença                          MMSE \n",
       "                     5.545780                            NA \n",
       "              Fluencia_verbal                     Trilhas_A \n",
       "                     5.368994                            NA \n",
       "                    Trilhas_b                           GDS \n",
       "                           NA                            NA \n",
       "                        FES_I                          Vsaq \n",
       "                           NA                      1.618010 \n",
       "          Vo2_maximo_avaliado                           IMC \n",
       "                           NA                     11.607959 \n",
       "                 Dinamometria                          Berg \n",
       "                    13.635399                      2.914234 \n",
       "                          STS              Flexibilidade_Ms \n",
       "                           NA                            NA \n",
       "             Flexibilidade_MI                       TUG_sec \n",
       "                           NA                            NA \n",
       "                       DT_Sec             DT_numero_animais \n",
       "                           NA                            NA \n",
       "quantidade_total_de_medicação \n",
       "                     2.229365 "
      ]
     },
     "metadata": {},
     "output_type": "display_data"
    }
   ],
   "source": [
    "#Mínimo, máximo, média, mediana e intervalo quartil das variáveis (numéricas)\n",
    "sapply(bd,summary)\n",
    "#Desvio padrão\n",
    "sapply(bd[,c(\"idade\",\"Nivel_educacional\",\"Tempo_doença\",\"MMSE\",\"Fluencia_verbal\",\"Trilhas_A\",\"Trilhas_b\",\"GDS\",\"FES_I\",\"Vsaq\",\"Vo2_maximo_avaliado\",\"IMC\",\"Dinamometria\",\"Berg\",\"STS\",\"Flexibilidade_Ms\",\"Flexibilidade_MI\",\"TUG_sec\",\"DT_Sec\",\"DT_numero_animais\",\"quantidade_total_de_medicação\")],sd)"
   ]
  },
  {
   "cell_type": "markdown",
   "metadata": {},
   "source": [
    "## Casos x controles"
   ]
  },
  {
   "cell_type": "code",
   "execution_count": 31,
   "metadata": {},
   "outputs": [
    {
     "data": {
      "text/html": [
       "<style>\n",
       ".list-inline {list-style: none; margin:0; padding: 0}\n",
       ".list-inline>li {display: inline-block}\n",
       ".list-inline>li:not(:last-child)::after {content: \"\\00b7\"; padding: 0 .5ex}\n",
       "</style>\n",
       "<ol class=list-inline><li>48</li><li>40</li></ol>\n"
      ],
      "text/latex": [
       "\\begin{enumerate*}\n",
       "\\item 48\n",
       "\\item 40\n",
       "\\end{enumerate*}\n"
      ],
      "text/markdown": [
       "1. 48\n",
       "2. 40\n",
       "\n",
       "\n"
      ],
      "text/plain": [
       "[1] 48 40"
      ]
     },
     "metadata": {},
     "output_type": "display_data"
    },
    {
     "data": {
      "text/html": [
       "<style>\n",
       ".list-inline {list-style: none; margin:0; padding: 0}\n",
       ".list-inline>li {display: inline-block}\n",
       ".list-inline>li:not(:last-child)::after {content: \"\\00b7\"; padding: 0 .5ex}\n",
       "</style>\n",
       "<ol class=list-inline><li>24</li><li>40</li></ol>\n"
      ],
      "text/latex": [
       "\\begin{enumerate*}\n",
       "\\item 24\n",
       "\\item 40\n",
       "\\end{enumerate*}\n"
      ],
      "text/markdown": [
       "1. 24\n",
       "2. 40\n",
       "\n",
       "\n"
      ],
      "text/plain": [
       "[1] 24 40"
      ]
     },
     "metadata": {},
     "output_type": "display_data"
    },
    {
     "data": {
      "text/plain": [
       "$Caidor\n",
       "não sim \n",
       " 48   0 \n",
       "\n",
       "$Genero\n",
       " homem mulher \n",
       "    28     20 \n",
       "\n",
       "$idade\n",
       "   Min. 1st Qu.  Median    Mean 3rd Qu.    Max. \n",
       "   1.00    8.75   14.00   14.15   20.00   26.00 \n",
       "\n",
       "$Nivel_social\n",
       " a  b  c  d \n",
       " 9 28 11  0 \n",
       "\n",
       "$etnia\n",
       "branco  preto \n",
       "    42      6 \n",
       "\n",
       "$Nivel_educacional\n",
       "   Min. 1st Qu.  Median    Mean 3rd Qu.    Max. \n",
       "  1.000   4.000   6.000   5.667   6.250  10.000 \n",
       "\n",
       "$Freq_atividade\n",
       "        2x         3x sedentario \n",
       "        11         24         13 \n",
       "\n",
       "$Criterio_AHA\n",
       " b  c \n",
       "39  9 \n",
       "\n",
       "$Anti_hipertensivo\n",
       "não sim \n",
       "  8  40 \n",
       "\n",
       "$betabloqueador\n",
       "não sim \n",
       "  6  42 \n",
       "\n",
       "$Anticoagulante_classif\n",
       "não sim \n",
       " 36  12 \n",
       "\n",
       "$Diuretico_classif\n",
       "não sim \n",
       " 38  10 \n",
       "\n",
       "$medicação_tipo_mental\n",
       "         ansiolitico       antidepressivo antidepressivo+benzo \n",
       "                   1                    3                    4 \n",
       "    benzodiazepinico                  não \n",
       "                  15                   25 \n",
       "\n",
       "$medicação_tipo_saude\n",
       " cardio+mental cardiovascular \n",
       "            23             25 \n",
       "\n",
       "$antidepressivo\n",
       "não sim \n",
       " 43   5 \n",
       "\n",
       "$ansiolitico\n",
       "não sim \n",
       " 47   1 \n",
       "\n",
       "$benzodiazepinico\n",
       "não sim \n",
       " 31  17 \n",
       "\n",
       "$DVC_primaria\n",
       "aneurisma da aorta             angina           arritmia            infarto \n",
       "                 2                  4                 18                  5 \n",
       "     insuficiencia           isquemia               nada \n",
       "                15                  4                  0 \n",
       "\n",
       "$HAS\n",
       "não sim \n",
       "  8  40 \n",
       "\n",
       "$Tempo_doença\n",
       "   Min. 1st Qu.  Median    Mean 3rd Qu.    Max. \n",
       "  1.000   3.750   7.000   7.792  10.250  21.000 \n",
       "\n",
       "$Doenca_Respi\n",
       "duas  não  sim três NA's \n",
       "   1   39    5    2    1 \n",
       "\n",
       "$MMSE\n",
       "   Min. 1st Qu.  Median    Mean 3rd Qu.    Max.    NA's \n",
       "  2.000   7.000   8.000   7.532   9.000   9.000       1 \n",
       "\n",
       "$Fluencia_verbal\n",
       "   Min. 1st Qu.  Median    Mean 3rd Qu.    Max. \n",
       "   2.00    7.00   12.50   12.27   17.00   22.00 \n",
       "\n",
       "$Trilhas_A\n",
       "   Min. 1st Qu.  Median    Mean 3rd Qu.    Max.    NA's \n",
       "   1.00   16.00   23.00   23.32   32.50   46.00       1 \n",
       "\n",
       "$Trilhas_b\n",
       "   Min. 1st Qu.  Median    Mean 3rd Qu.    Max.    NA's \n",
       "   1.00   12.50   20.00   21.47   31.50   47.00       1 \n",
       "\n",
       "$GDS\n",
       "   Min. 1st Qu.  Median    Mean 3rd Qu.    Max.    NA's \n",
       "  1.000   1.000   2.000   3.766   4.500  17.000       1 \n",
       "\n",
       "$FES_I\n",
       "   Min. 1st Qu.  Median    Mean 3rd Qu.    Max.    NA's \n",
       "  1.000   1.000   1.000   3.043   4.000  13.000       1 \n",
       "\n",
       "$Vsaq\n",
       "   Min. 1st Qu.  Median    Mean 3rd Qu.    Max. \n",
       "   2.00    3.00    5.00    4.75    6.00    9.00 \n",
       "\n",
       "$Vo2_maximo_avaliado\n",
       "   Min. 1st Qu.  Median    Mean 3rd Qu.    Max.    NA's \n",
       "   1.00   17.25   26.00   23.98   34.00   42.00       6 \n",
       "\n",
       "$IMC\n",
       "   Min. 1st Qu.  Median    Mean 3rd Qu.    Max. \n",
       "   1.00   13.25   23.00   22.40   32.00   41.00 \n",
       "\n",
       "$Dinamometria\n",
       "   Min. 1st Qu.  Median    Mean 3rd Qu.    Max. \n",
       "   3.00   14.50   29.50   26.06   37.00   48.00 \n",
       "\n",
       "$Berg\n",
       "   Min. 1st Qu.  Median    Mean 3rd Qu.    Max. \n",
       "   2.00   11.00   13.00   11.77   13.00   13.00 \n",
       "\n",
       "$STS\n",
       "   Min. 1st Qu.  Median    Mean 3rd Qu.    Max.    NA's \n",
       "  1.000   7.000   8.000   7.956   9.000  14.000       3 \n",
       "\n",
       "$Flexibilidade_Ms\n",
       "   Min. 1st Qu.  Median    Mean 3rd Qu.    Max.    NA's \n",
       "   1.00    7.25   15.00   15.60   23.75   29.00       6 \n",
       "\n",
       "$Flexibilidade_MI\n",
       "   Min. 1st Qu.  Median    Mean 3rd Qu.    Max.    NA's \n",
       "   1.00    6.00   11.50   12.11   19.00   23.00       4 \n",
       "\n",
       "$TUG_sec\n",
       "   Min. 1st Qu.  Median    Mean 3rd Qu.    Max.    NA's \n",
       "   1.00   10.25   23.50   23.43   36.50   49.00       2 \n",
       "\n",
       "$DT_Sec\n",
       "   Min. 1st Qu.  Median    Mean 3rd Qu.    Max.    NA's \n",
       "   1.00    6.00   15.00   14.55   19.75   36.00       6 \n",
       "\n",
       "$DT_numero_animais\n",
       "   Min. 1st Qu.  Median    Mean 3rd Qu.    Max.    NA's \n",
       "  1.000   3.000   4.000   4.238   5.750   7.000       6 \n",
       "\n",
       "$quantidade_total_de_medicação\n",
       "   Min. 1st Qu.  Median    Mean 3rd Qu.    Max. \n",
       "  1.000   3.750   5.000   4.688   6.000  12.000 \n",
       "\n",
       "$medicaçao_tipo_cardiovascular\n",
       "            Anti + HAS                   Beta       Beta + Anti_Coag \n",
       "                     4                     13                      6 \n",
       "Beta + Anti_Coag + Diu        Beta + Anti_HAS \n",
       "                     7                     18 \n"
      ]
     },
     "metadata": {},
     "output_type": "display_data"
    },
    {
     "data": {
      "text/plain": [
       "$Caidor\n",
       "não sim \n",
       "  0  24 \n",
       "\n",
       "$Genero\n",
       " homem mulher \n",
       "    15      9 \n",
       "\n",
       "$idade\n",
       "   Min. 1st Qu.  Median    Mean 3rd Qu.    Max. \n",
       "   6.00   15.00   17.50   17.96   22.25   27.00 \n",
       "\n",
       "$Nivel_social\n",
       " a  b  c  d \n",
       " 3 15  5  1 \n",
       "\n",
       "$etnia\n",
       "branco  preto \n",
       "    19      5 \n",
       "\n",
       "$Nivel_educacional\n",
       "   Min. 1st Qu.  Median    Mean 3rd Qu.    Max. \n",
       "  1.000   3.000   6.000   5.208   6.250   9.000 \n",
       "\n",
       "$Freq_atividade\n",
       "        2x         3x sedentario \n",
       "        10         10          4 \n",
       "\n",
       "$Criterio_AHA\n",
       " b  c \n",
       "10 14 \n",
       "\n",
       "$Anti_hipertensivo\n",
       "não sim \n",
       "  7  17 \n",
       "\n",
       "$betabloqueador\n",
       "não sim \n",
       "  0  24 \n",
       "\n",
       "$Anticoagulante_classif\n",
       "não sim \n",
       "  5  19 \n",
       "\n",
       "$Diuretico_classif\n",
       "não sim \n",
       " 10  14 \n",
       "\n",
       "$medicação_tipo_mental\n",
       "         ansiolitico       antidepressivo antidepressivo+benzo \n",
       "                   1                    2                    4 \n",
       "    benzodiazepinico                  não \n",
       "                  13                    4 \n",
       "\n",
       "$medicação_tipo_saude\n",
       " cardio+mental cardiovascular \n",
       "            20              4 \n",
       "\n",
       "$antidepressivo\n",
       "não sim \n",
       " 18   6 \n",
       "\n",
       "$ansiolitico\n",
       "não sim \n",
       " 23   1 \n",
       "\n",
       "$benzodiazepinico\n",
       "não sim \n",
       "  8  16 \n",
       "\n",
       "$DVC_primaria\n",
       "aneurisma da aorta             angina           arritmia            infarto \n",
       "                 1                  0                 10                  4 \n",
       "     insuficiencia           isquemia               nada \n",
       "                 4                  3                  2 \n",
       "\n",
       "$HAS\n",
       "não sim \n",
       "  7  17 \n",
       "\n",
       "$Tempo_doença\n",
       "   Min. 1st Qu.  Median    Mean 3rd Qu.    Max. \n",
       "  1.000   5.000   9.000   9.708  14.250  20.000 \n",
       "\n",
       "$Doenca_Respi\n",
       "duas  não  sim três \n",
       "   1   19    3    1 \n",
       "\n",
       "$MMSE\n",
       "   Min. 1st Qu.  Median    Mean 3rd Qu.    Max. \n",
       "  1.000   5.750   8.000   6.792   8.250   9.000 \n",
       "\n",
       "$Fluencia_verbal\n",
       "   Min. 1st Qu.  Median    Mean 3rd Qu.    Max. \n",
       "   1.00    5.75    9.00    9.00   11.00   20.00 \n",
       "\n",
       "$Trilhas_A\n",
       "   Min. 1st Qu.  Median    Mean 3rd Qu.    Max. \n",
       "   6.00   12.75   29.50   28.04   40.50   48.00 \n",
       "\n",
       "$Trilhas_b\n",
       "   Min. 1st Qu.  Median    Mean 3rd Qu.    Max. \n",
       "   7.00   25.25   36.50   33.62   45.25   47.00 \n",
       "\n",
       "$GDS\n",
       "   Min. 1st Qu.  Median    Mean 3rd Qu.    Max. \n",
       "  1.000   1.000   3.500   5.375   8.500  15.000 \n",
       "\n",
       "$FES_I\n",
       "   Min. 1st Qu.  Median    Mean 3rd Qu.    Max. \n",
       "   1.00    1.00    3.50    5.75   10.50   15.00 \n",
       "\n",
       "$Vsaq\n",
       "   Min. 1st Qu.  Median    Mean 3rd Qu.    Max. \n",
       "  1.000   3.000   4.000   4.125   5.000   9.000 \n",
       "\n",
       "$Vo2_maximo_avaliado\n",
       "   Min. 1st Qu.  Median    Mean 3rd Qu.    Max.    NA's \n",
       "    1.0     7.0    12.0    14.1    20.0    37.0       3 \n",
       "\n",
       "$IMC\n",
       "   Min. 1st Qu.  Median    Mean 3rd Qu.    Max. \n",
       "   3.00   12.75   24.00   22.08   31.50   42.00 \n",
       "\n",
       "$Dinamometria\n",
       "   Min. 1st Qu.  Median    Mean 3rd Qu.    Max. \n",
       "   1.00   10.75   20.50   21.79   30.25   49.00 \n",
       "\n",
       "$Berg\n",
       "   Min. 1st Qu.  Median    Mean 3rd Qu.    Max. \n",
       "  1.000   7.750  11.000   9.417  12.000  13.000 \n",
       "\n",
       "$STS\n",
       "   Min. 1st Qu.  Median    Mean 3rd Qu.    Max.    NA's \n",
       "  2.000   4.000   6.000   6.261   9.000  10.000       1 \n",
       "\n",
       "$Flexibilidade_Ms\n",
       "   Min. 1st Qu.  Median    Mean 3rd Qu.    Max.    NA's \n",
       "   2.00   10.50   15.00   14.86   20.75   26.00       2 \n",
       "\n",
       "$Flexibilidade_MI\n",
       "   Min. 1st Qu.  Median    Mean 3rd Qu.    Max. \n",
       "   2.00    7.75   12.00   11.71   15.25   20.00 \n",
       "\n",
       "$TUG_sec\n",
       "   Min. 1st Qu.  Median    Mean 3rd Qu.    Max. \n",
       "  13.00   23.75   33.50   32.88   43.25   49.00 \n",
       "\n",
       "$DT_Sec\n",
       "   Min. 1st Qu.  Median    Mean 3rd Qu.    Max. \n",
       "  10.00   15.75   23.00   22.96   27.75   37.00 \n",
       "\n",
       "$DT_numero_animais\n",
       "   Min. 1st Qu.  Median    Mean 3rd Qu.    Max. \n",
       "  1.000   3.000   4.500   4.333   5.250   8.000 \n",
       "\n",
       "$quantidade_total_de_medicação\n",
       "   Min. 1st Qu.  Median    Mean 3rd Qu.    Max. \n",
       "   1.00    4.00    5.50    5.75    7.00   11.00 \n",
       "\n",
       "$medicaçao_tipo_cardiovascular\n",
       "            Anti + HAS                   Beta       Beta + Anti_Coag \n",
       "                     0                      2                      6 \n",
       "Beta + Anti_Coag + Diu        Beta + Anti_HAS \n",
       "                    13                      3 \n"
      ]
     },
     "metadata": {},
     "output_type": "display_data"
    }
   ],
   "source": [
    "controle<- grep(\"não\",bd$Caidor)\n",
    "caso<- grep(\"sim\",bd$Caidor)\n",
    "bd_controle<- bd[controle,]\n",
    "bd_caso<- bd[caso,]\n",
    "dim(bd_controle)\n",
    "dim(bd_caso)\n",
    "\n",
    "#Mínimo, máximo, média, mediana e intervalo quartil das variáveis (numéricas)\n",
    "sapply(bd_controle,summary)\n",
    "sapply(bd_caso,summary)"
   ]
  },
  {
   "cell_type": "code",
   "execution_count": 34,
   "metadata": {},
   "outputs": [
    {
     "data": {
      "text/html": [
       "<style>\n",
       ".dl-inline {width: auto; margin:0; padding: 0}\n",
       ".dl-inline>dt, .dl-inline>dd {float: none; width: auto; display: inline-block}\n",
       ".dl-inline>dt::after {content: \":\\0020\"; padding-right: .5ex}\n",
       ".dl-inline>dt:not(:first-of-type) {padding-left: .5ex}\n",
       "</style><dl class=dl-inline><dt>idade</dt><dd>7.00148793709832</dd><dt>Nivel_educacional</dt><dd>2.12716306263424</dd><dt>Tempo_doença</dt><dd>5.39092355145096</dd><dt>MMSE</dt><dd>&lt;NA&gt;</dd><dt>Fluencia_verbal</dt><dd>5.54570787966016</dd><dt>Trilhas_A</dt><dd>&lt;NA&gt;</dd><dt>Trilhas_b</dt><dd>&lt;NA&gt;</dd><dt>GDS</dt><dd>&lt;NA&gt;</dd><dt>FES_I</dt><dd>&lt;NA&gt;</dd><dt>Vsaq</dt><dd>1.52287522015765</dd><dt>Vo2_maximo_avaliado</dt><dd>&lt;NA&gt;</dd><dt>IMC</dt><dd>11.7740059585536</dd><dt>Dinamometria</dt><dd>13.6434946699337</dd><dt>Berg</dt><dd>2.17568363756777</dd><dt>STS</dt><dd>&lt;NA&gt;</dd><dt>Flexibilidade_Ms</dt><dd>&lt;NA&gt;</dd><dt>Flexibilidade_MI</dt><dd>&lt;NA&gt;</dd><dt>TUG_sec</dt><dd>&lt;NA&gt;</dd><dt>DT_Sec</dt><dd>&lt;NA&gt;</dd><dt>DT_numero_animais</dt><dd>&lt;NA&gt;</dd><dt>quantidade_total_de_medicação</dt><dd>2.12539107790603</dd></dl>\n"
      ],
      "text/latex": [
       "\\begin{description*}\n",
       "\\item[idade] 7.00148793709832\n",
       "\\item[Nivel\\textbackslash{}\\_educacional] 2.12716306263424\n",
       "\\item[Tempo\\textbackslash{}\\_doença] 5.39092355145096\n",
       "\\item[MMSE] <NA>\n",
       "\\item[Fluencia\\textbackslash{}\\_verbal] 5.54570787966016\n",
       "\\item[Trilhas\\textbackslash{}\\_A] <NA>\n",
       "\\item[Trilhas\\textbackslash{}\\_b] <NA>\n",
       "\\item[GDS] <NA>\n",
       "\\item[FES\\textbackslash{}\\_I] <NA>\n",
       "\\item[Vsaq] 1.52287522015765\n",
       "\\item[Vo2\\textbackslash{}\\_maximo\\textbackslash{}\\_avaliado] <NA>\n",
       "\\item[IMC] 11.7740059585536\n",
       "\\item[Dinamometria] 13.6434946699337\n",
       "\\item[Berg] 2.17568363756777\n",
       "\\item[STS] <NA>\n",
       "\\item[Flexibilidade\\textbackslash{}\\_Ms] <NA>\n",
       "\\item[Flexibilidade\\textbackslash{}\\_MI] <NA>\n",
       "\\item[TUG\\textbackslash{}\\_sec] <NA>\n",
       "\\item[DT\\textbackslash{}\\_Sec] <NA>\n",
       "\\item[DT\\textbackslash{}\\_numero\\textbackslash{}\\_animais] <NA>\n",
       "\\item[quantidade\\textbackslash{}\\_total\\textbackslash{}\\_de\\textbackslash{}\\_medicação] 2.12539107790603\n",
       "\\end{description*}\n"
      ],
      "text/markdown": [
       "idade\n",
       ":   7.00148793709832Nivel_educacional\n",
       ":   2.12716306263424Tempo_doença\n",
       ":   5.39092355145096MMSE\n",
       ":   &lt;NA&gt;Fluencia_verbal\n",
       ":   5.54570787966016Trilhas_A\n",
       ":   &lt;NA&gt;Trilhas_b\n",
       ":   &lt;NA&gt;GDS\n",
       ":   &lt;NA&gt;FES_I\n",
       ":   &lt;NA&gt;Vsaq\n",
       ":   1.52287522015765Vo2_maximo_avaliado\n",
       ":   &lt;NA&gt;IMC\n",
       ":   11.7740059585536Dinamometria\n",
       ":   13.6434946699337Berg\n",
       ":   2.17568363756777STS\n",
       ":   &lt;NA&gt;Flexibilidade_Ms\n",
       ":   &lt;NA&gt;Flexibilidade_MI\n",
       ":   &lt;NA&gt;TUG_sec\n",
       ":   &lt;NA&gt;DT_Sec\n",
       ":   &lt;NA&gt;DT_numero_animais\n",
       ":   &lt;NA&gt;quantidade_total_de_medicação\n",
       ":   2.12539107790603\n",
       "\n"
      ],
      "text/plain": [
       "                        idade             Nivel_educacional \n",
       "                     7.001488                      2.127163 \n",
       "                 Tempo_doença                          MMSE \n",
       "                     5.390924                            NA \n",
       "              Fluencia_verbal                     Trilhas_A \n",
       "                     5.545708                            NA \n",
       "                    Trilhas_b                           GDS \n",
       "                           NA                            NA \n",
       "                        FES_I                          Vsaq \n",
       "                           NA                      1.522875 \n",
       "          Vo2_maximo_avaliado                           IMC \n",
       "                           NA                     11.774006 \n",
       "                 Dinamometria                          Berg \n",
       "                    13.643495                      2.175684 \n",
       "                          STS              Flexibilidade_Ms \n",
       "                           NA                            NA \n",
       "             Flexibilidade_MI                       TUG_sec \n",
       "                           NA                            NA \n",
       "                       DT_Sec             DT_numero_animais \n",
       "                           NA                            NA \n",
       "quantidade_total_de_medicação \n",
       "                     2.125391 "
      ]
     },
     "metadata": {},
     "output_type": "display_data"
    },
    {
     "data": {
      "text/html": [
       "<style>\n",
       ".dl-inline {width: auto; margin:0; padding: 0}\n",
       ".dl-inline>dt, .dl-inline>dd {float: none; width: auto; display: inline-block}\n",
       ".dl-inline>dt::after {content: \":\\0020\"; padding-right: .5ex}\n",
       ".dl-inline>dt:not(:first-of-type) {padding-left: .5ex}\n",
       "</style><dl class=dl-inline><dt>idade</dt><dd>5.22934168827718</dd><dt>Nivel_educacional</dt><dd>2.34018146205851</dd><dt>Tempo_doença</dt><dd>5.74440496533776</dd><dt>MMSE</dt><dd>2.35868730379876</dd><dt>Fluencia_verbal</dt><dd>4.32384691841802</dd><dt>Trilhas_A</dt><dd>14.4868130940931</dd><dt>Trilhas_b</dt><dd>13.1142554364392</dd><dt>GDS</dt><dd>4.7348155466575</dd><dt>FES_I</dt><dd>5.1604684654214</dd><dt>Vsaq</dt><dd>1.7523276445668</dd><dt>Vo2_maximo_avaliado</dt><dd>&lt;NA&gt;</dd><dt>IMC</dt><dd>11.5152702649726</dd><dt>Dinamometria</dt><dd>13.4487082510994</dd><dt>Berg</dt><dd>3.56207885891111</dd><dt>STS</dt><dd>&lt;NA&gt;</dd><dt>Flexibilidade_Ms</dt><dd>&lt;NA&gt;</dd><dt>Flexibilidade_MI</dt><dd>5.22102077864229</dd><dt>TUG_sec</dt><dd>11.4751622134978</dd><dt>DT_Sec</dt><dd>8.02972286416924</dd><dt>DT_numero_animais</dt><dd>2.11961166801573</dd><dt>quantidade_total_de_medicação</dt><dd>2.30783165688525</dd></dl>\n"
      ],
      "text/latex": [
       "\\begin{description*}\n",
       "\\item[idade] 5.22934168827718\n",
       "\\item[Nivel\\textbackslash{}\\_educacional] 2.34018146205851\n",
       "\\item[Tempo\\textbackslash{}\\_doença] 5.74440496533776\n",
       "\\item[MMSE] 2.35868730379876\n",
       "\\item[Fluencia\\textbackslash{}\\_verbal] 4.32384691841802\n",
       "\\item[Trilhas\\textbackslash{}\\_A] 14.4868130940931\n",
       "\\item[Trilhas\\textbackslash{}\\_b] 13.1142554364392\n",
       "\\item[GDS] 4.7348155466575\n",
       "\\item[FES\\textbackslash{}\\_I] 5.1604684654214\n",
       "\\item[Vsaq] 1.7523276445668\n",
       "\\item[Vo2\\textbackslash{}\\_maximo\\textbackslash{}\\_avaliado] <NA>\n",
       "\\item[IMC] 11.5152702649726\n",
       "\\item[Dinamometria] 13.4487082510994\n",
       "\\item[Berg] 3.56207885891111\n",
       "\\item[STS] <NA>\n",
       "\\item[Flexibilidade\\textbackslash{}\\_Ms] <NA>\n",
       "\\item[Flexibilidade\\textbackslash{}\\_MI] 5.22102077864229\n",
       "\\item[TUG\\textbackslash{}\\_sec] 11.4751622134978\n",
       "\\item[DT\\textbackslash{}\\_Sec] 8.02972286416924\n",
       "\\item[DT\\textbackslash{}\\_numero\\textbackslash{}\\_animais] 2.11961166801573\n",
       "\\item[quantidade\\textbackslash{}\\_total\\textbackslash{}\\_de\\textbackslash{}\\_medicação] 2.30783165688525\n",
       "\\end{description*}\n"
      ],
      "text/markdown": [
       "idade\n",
       ":   5.22934168827718Nivel_educacional\n",
       ":   2.34018146205851Tempo_doença\n",
       ":   5.74440496533776MMSE\n",
       ":   2.35868730379876Fluencia_verbal\n",
       ":   4.32384691841802Trilhas_A\n",
       ":   14.4868130940931Trilhas_b\n",
       ":   13.1142554364392GDS\n",
       ":   4.7348155466575FES_I\n",
       ":   5.1604684654214Vsaq\n",
       ":   1.7523276445668Vo2_maximo_avaliado\n",
       ":   &lt;NA&gt;IMC\n",
       ":   11.5152702649726Dinamometria\n",
       ":   13.4487082510994Berg\n",
       ":   3.56207885891111STS\n",
       ":   &lt;NA&gt;Flexibilidade_Ms\n",
       ":   &lt;NA&gt;Flexibilidade_MI\n",
       ":   5.22102077864229TUG_sec\n",
       ":   11.4751622134978DT_Sec\n",
       ":   8.02972286416924DT_numero_animais\n",
       ":   2.11961166801573quantidade_total_de_medicação\n",
       ":   2.30783165688525\n",
       "\n"
      ],
      "text/plain": [
       "                        idade             Nivel_educacional \n",
       "                     5.229342                      2.340181 \n",
       "                 Tempo_doença                          MMSE \n",
       "                     5.744405                      2.358687 \n",
       "              Fluencia_verbal                     Trilhas_A \n",
       "                     4.323847                     14.486813 \n",
       "                    Trilhas_b                           GDS \n",
       "                    13.114255                      4.734816 \n",
       "                        FES_I                          Vsaq \n",
       "                     5.160468                      1.752328 \n",
       "          Vo2_maximo_avaliado                           IMC \n",
       "                           NA                     11.515270 \n",
       "                 Dinamometria                          Berg \n",
       "                    13.448708                      3.562079 \n",
       "                          STS              Flexibilidade_Ms \n",
       "                           NA                            NA \n",
       "             Flexibilidade_MI                       TUG_sec \n",
       "                     5.221021                     11.475162 \n",
       "                       DT_Sec             DT_numero_animais \n",
       "                     8.029723                      2.119612 \n",
       "quantidade_total_de_medicação \n",
       "                     2.307832 "
      ]
     },
     "metadata": {},
     "output_type": "display_data"
    }
   ],
   "source": [
    "#Desvio padrão\n",
    "sapply(bd_controle[,c(\"idade\",\"Nivel_educacional\",\"Tempo_doença\",\"MMSE\",\"Fluencia_verbal\",\"Trilhas_A\",\"Trilhas_b\",\"GDS\",\"FES_I\",\"Vsaq\",\"Vo2_maximo_avaliado\",\"IMC\",\"Dinamometria\",\"Berg\",\"STS\",\"Flexibilidade_Ms\",\"Flexibilidade_MI\",\"TUG_sec\",\"DT_Sec\",\"DT_numero_animais\",\"quantidade_total_de_medicação\")],sd)\n",
    "sapply(bd_caso[,c(\"idade\",\"Nivel_educacional\",\"Tempo_doença\",\"MMSE\",\"Fluencia_verbal\",\"Trilhas_A\",\"Trilhas_b\",\"GDS\",\"FES_I\",\"Vsaq\",\"Vo2_maximo_avaliado\",\"IMC\",\"Dinamometria\",\"Berg\",\"STS\",\"Flexibilidade_Ms\",\"Flexibilidade_MI\",\"TUG_sec\",\"DT_Sec\",\"DT_numero_animais\",\"quantidade_total_de_medicação\")],sd)"
   ]
  },
  {
   "cell_type": "markdown",
   "metadata": {},
   "source": [
    "# Testes de normalidade, de homocedasticidade, X², t-test e Mann-Whitney U (*n total - com NA*) "
   ]
  },
  {
   "cell_type": "markdown",
   "metadata": {},
   "source": [
    "## Teste kolmogorov-Smirnov"
   ]
  },
  {
   "cell_type": "code",
   "execution_count": 141,
   "metadata": {},
   "outputs": [
    {
     "name": "stderr",
     "output_type": "stream",
     "text": [
      "Warning message in ks.test(bd_controle$idade, bd_caso$idade):\n",
      "\"cannot compute exact p-value with ties\"\n"
     ]
    },
    {
     "data": {
      "text/plain": [
       "\n",
       "\tTwo-sample Kolmogorov-Smirnov test\n",
       "\n",
       "data:  bd_controle$idade and bd_caso$idade\n",
       "D = 0.375, p-value = 0.02222\n",
       "alternative hypothesis: two-sided\n"
      ]
     },
     "metadata": {},
     "output_type": "display_data"
    },
    {
     "name": "stderr",
     "output_type": "stream",
     "text": [
      "Warning message in ks.test(bd_controle$Nivel_educacional, bd_caso$Nivel_educacional):\n",
      "\"cannot compute exact p-value with ties\"\n"
     ]
    },
    {
     "data": {
      "text/plain": [
       "\n",
       "\tTwo-sample Kolmogorov-Smirnov test\n",
       "\n",
       "data:  bd_controle$Nivel_educacional and bd_caso$Nivel_educacional\n",
       "D = 0.16667, p-value = 0.7658\n",
       "alternative hypothesis: two-sided\n"
      ]
     },
     "metadata": {},
     "output_type": "display_data"
    },
    {
     "name": "stderr",
     "output_type": "stream",
     "text": [
      "Warning message in ks.test(bd_controle$Tempo_doença, bd_caso$Tempo_doença):\n",
      "\"cannot compute exact p-value with ties\"\n"
     ]
    },
    {
     "data": {
      "text/plain": [
       "\n",
       "\tTwo-sample Kolmogorov-Smirnov test\n",
       "\n",
       "data:  bd_controle$Tempo_doença and bd_caso$Tempo_doença\n",
       "D = 0.29167, p-value = 0.1314\n",
       "alternative hypothesis: two-sided\n"
      ]
     },
     "metadata": {},
     "output_type": "display_data"
    },
    {
     "name": "stderr",
     "output_type": "stream",
     "text": [
      "Warning message in ks.test(bd_controle$MMSE, bd_caso$MMSE):\n",
      "\"cannot compute exact p-value with ties\"\n"
     ]
    },
    {
     "data": {
      "text/plain": [
       "\n",
       "\tTwo-sample Kolmogorov-Smirnov test\n",
       "\n",
       "data:  bd_controle$MMSE and bd_caso$MMSE\n",
       "D = 0.18617, p-value = 0.6406\n",
       "alternative hypothesis: two-sided\n"
      ]
     },
     "metadata": {},
     "output_type": "display_data"
    },
    {
     "name": "stderr",
     "output_type": "stream",
     "text": [
      "Warning message in ks.test(bd_controle$Fluencia_verbal, bd_caso$Fluencia_verbal):\n",
      "\"cannot compute exact p-value with ties\"\n"
     ]
    },
    {
     "data": {
      "text/plain": [
       "\n",
       "\tTwo-sample Kolmogorov-Smirnov test\n",
       "\n",
       "data:  bd_controle$Fluencia_verbal and bd_caso$Fluencia_verbal\n",
       "D = 0.39583, p-value = 0.01329\n",
       "alternative hypothesis: two-sided\n"
      ]
     },
     "metadata": {},
     "output_type": "display_data"
    },
    {
     "name": "stderr",
     "output_type": "stream",
     "text": [
      "Warning message in ks.test(bd_controle$Trilhas_A, bd_caso$Trilhas_A):\n",
      "\"cannot compute exact p-value with ties\"\n"
     ]
    },
    {
     "data": {
      "text/plain": [
       "\n",
       "\tTwo-sample Kolmogorov-Smirnov test\n",
       "\n",
       "data:  bd_controle$Trilhas_A and bd_caso$Trilhas_A\n",
       "D = 0.22429, p-value = 0.4011\n",
       "alternative hypothesis: two-sided\n"
      ]
     },
     "metadata": {},
     "output_type": "display_data"
    },
    {
     "name": "stderr",
     "output_type": "stream",
     "text": [
      "Warning message in ks.test(bd_controle$Trilhas_b, bd_caso$Trilhas_b):\n",
      "\"cannot compute exact p-value with ties\"\n"
     ]
    },
    {
     "data": {
      "text/plain": [
       "\n",
       "\tTwo-sample Kolmogorov-Smirnov test\n",
       "\n",
       "data:  bd_controle$Trilhas_b and bd_caso$Trilhas_b\n",
       "D = 0.45035, p-value = 0.003178\n",
       "alternative hypothesis: two-sided\n"
      ]
     },
     "metadata": {},
     "output_type": "display_data"
    },
    {
     "name": "stderr",
     "output_type": "stream",
     "text": [
      "Warning message in ks.test(bd_controle$GDS, bd_caso$GDS):\n",
      "\"cannot compute exact p-value with ties\"\n"
     ]
    },
    {
     "data": {
      "text/plain": [
       "\n",
       "\tTwo-sample Kolmogorov-Smirnov test\n",
       "\n",
       "data:  bd_controle$GDS and bd_caso$GDS\n",
       "D = 0.2633, p-value = 0.2207\n",
       "alternative hypothesis: two-sided\n"
      ]
     },
     "metadata": {},
     "output_type": "display_data"
    },
    {
     "name": "stderr",
     "output_type": "stream",
     "text": [
      "Warning message in ks.test(bd_controle$FES_I, bd_caso$FES_I):\n",
      "\"cannot compute exact p-value with ties\"\n"
     ]
    },
    {
     "data": {
      "text/plain": [
       "\n",
       "\tTwo-sample Kolmogorov-Smirnov test\n",
       "\n",
       "data:  bd_controle$FES_I and bd_caso$FES_I\n",
       "D = 0.33067, p-value = 0.06196\n",
       "alternative hypothesis: two-sided\n"
      ]
     },
     "metadata": {},
     "output_type": "display_data"
    },
    {
     "name": "stderr",
     "output_type": "stream",
     "text": [
      "Warning message in ks.test(bd_controle$Vsaq, bd_caso$Vsaq):\n",
      "\"cannot compute exact p-value with ties\"\n"
     ]
    },
    {
     "data": {
      "text/plain": [
       "\n",
       "\tTwo-sample Kolmogorov-Smirnov test\n",
       "\n",
       "data:  bd_controle$Vsaq and bd_caso$Vsaq\n",
       "D = 0.22917, p-value = 0.3701\n",
       "alternative hypothesis: two-sided\n"
      ]
     },
     "metadata": {},
     "output_type": "display_data"
    },
    {
     "name": "stderr",
     "output_type": "stream",
     "text": [
      "Warning message in ks.test(bd_controle$Vo2_maximo_avaliado, bd_caso$Vo2_maximo_avaliado):\n",
      "\"cannot compute exact p-value with ties\"\n"
     ]
    },
    {
     "data": {
      "text/plain": [
       "\n",
       "\tTwo-sample Kolmogorov-Smirnov test\n",
       "\n",
       "data:  bd_controle$Vo2_maximo_avaliado and bd_caso$Vo2_maximo_avaliado\n",
       "D = 0.47619, p-value = 0.003496\n",
       "alternative hypothesis: two-sided\n"
      ]
     },
     "metadata": {},
     "output_type": "display_data"
    },
    {
     "name": "stderr",
     "output_type": "stream",
     "text": [
      "Warning message in ks.test(bd_controle$IMC, bd_caso$IMC):\n",
      "\"cannot compute exact p-value with ties\"\n"
     ]
    },
    {
     "data": {
      "text/plain": [
       "\n",
       "\tTwo-sample Kolmogorov-Smirnov test\n",
       "\n",
       "data:  bd_controle$IMC and bd_caso$IMC\n",
       "D = 0.10417, p-value = 0.9951\n",
       "alternative hypothesis: two-sided\n"
      ]
     },
     "metadata": {},
     "output_type": "display_data"
    },
    {
     "name": "stderr",
     "output_type": "stream",
     "text": [
      "Warning message in ks.test(bd_controle$Dinamometria, bd_caso$Dinamometria):\n",
      "\"cannot compute exact p-value with ties\"\n"
     ]
    },
    {
     "data": {
      "text/plain": [
       "\n",
       "\tTwo-sample Kolmogorov-Smirnov test\n",
       "\n",
       "data:  bd_controle$Dinamometria and bd_caso$Dinamometria\n",
       "D = 0.25, p-value = 0.27\n",
       "alternative hypothesis: two-sided\n"
      ]
     },
     "metadata": {},
     "output_type": "display_data"
    },
    {
     "name": "stderr",
     "output_type": "stream",
     "text": [
      "Warning message in ks.test(bd_controle$Berg, bd_caso$Berg):\n",
      "\"cannot compute exact p-value with ties\"\n"
     ]
    },
    {
     "data": {
      "text/plain": [
       "\n",
       "\tTwo-sample Kolmogorov-Smirnov test\n",
       "\n",
       "data:  bd_controle$Berg and bd_caso$Berg\n",
       "D = 0.375, p-value = 0.02222\n",
       "alternative hypothesis: two-sided\n"
      ]
     },
     "metadata": {},
     "output_type": "display_data"
    },
    {
     "name": "stderr",
     "output_type": "stream",
     "text": [
      "Warning message in ks.test(bd_controle$STS, bd_caso$STS):\n",
      "\"cannot compute exact p-value with ties\"\n"
     ]
    },
    {
     "data": {
      "text/plain": [
       "\n",
       "\tTwo-sample Kolmogorov-Smirnov test\n",
       "\n",
       "data:  bd_controle$STS and bd_caso$STS\n",
       "D = 0.30145, p-value = 0.1258\n",
       "alternative hypothesis: two-sided\n"
      ]
     },
     "metadata": {},
     "output_type": "display_data"
    },
    {
     "name": "stderr",
     "output_type": "stream",
     "text": [
      "Warning message in ks.test(bd_controle$Flexibilidade_Ms, bd_caso$Flexibilidade_Ms):\n",
      "\"cannot compute exact p-value with ties\"\n"
     ]
    },
    {
     "data": {
      "text/plain": [
       "\n",
       "\tTwo-sample Kolmogorov-Smirnov test\n",
       "\n",
       "data:  bd_controle$Flexibilidade_Ms and bd_caso$Flexibilidade_Ms\n",
       "D = 0.19264, p-value = 0.6576\n",
       "alternative hypothesis: two-sided\n"
      ]
     },
     "metadata": {},
     "output_type": "display_data"
    },
    {
     "name": "stderr",
     "output_type": "stream",
     "text": [
      "Warning message in ks.test(bd_controle$Flexibilidade_MI, bd_caso$Flexibilidade_MI):\n",
      "\"cannot compute exact p-value with ties\"\n"
     ]
    },
    {
     "data": {
      "text/plain": [
       "\n",
       "\tTwo-sample Kolmogorov-Smirnov test\n",
       "\n",
       "data:  bd_controle$Flexibilidade_MI and bd_caso$Flexibilidade_MI\n",
       "D = 0.13258, p-value = 0.9477\n",
       "alternative hypothesis: two-sided\n"
      ]
     },
     "metadata": {},
     "output_type": "display_data"
    },
    {
     "name": "stderr",
     "output_type": "stream",
     "text": [
      "Warning message in ks.test(bd_controle$TUG_sec, bd_caso$TUG_sec):\n",
      "\"cannot compute exact p-value with ties\"\n"
     ]
    },
    {
     "data": {
      "text/plain": [
       "\n",
       "\tTwo-sample Kolmogorov-Smirnov test\n",
       "\n",
       "data:  bd_controle$TUG_sec and bd_caso$TUG_sec\n",
       "D = 0.33152, p-value = 0.06243\n",
       "alternative hypothesis: two-sided\n"
      ]
     },
     "metadata": {},
     "output_type": "display_data"
    },
    {
     "name": "stderr",
     "output_type": "stream",
     "text": [
      "Warning message in ks.test(bd_controle$DT_Sec, bd_caso$DT_Sec):\n",
      "\"cannot compute exact p-value with ties\"\n"
     ]
    },
    {
     "data": {
      "text/plain": [
       "\n",
       "\tTwo-sample Kolmogorov-Smirnov test\n",
       "\n",
       "data:  bd_controle$DT_Sec and bd_caso$DT_Sec\n",
       "D = 0.42857, p-value = 0.007319\n",
       "alternative hypothesis: two-sided\n"
      ]
     },
     "metadata": {},
     "output_type": "display_data"
    },
    {
     "name": "stderr",
     "output_type": "stream",
     "text": [
      "Warning message in ks.test(bd_controle$DT_numero_animais, bd_caso$DT_numero_animais):\n",
      "\"cannot compute exact p-value with ties\"\n"
     ]
    },
    {
     "data": {
      "text/plain": [
       "\n",
       "\tTwo-sample Kolmogorov-Smirnov test\n",
       "\n",
       "data:  bd_controle$DT_numero_animais and bd_caso$DT_numero_animais\n",
       "D = 0.125, p-value = 0.9708\n",
       "alternative hypothesis: two-sided\n"
      ]
     },
     "metadata": {},
     "output_type": "display_data"
    },
    {
     "name": "stderr",
     "output_type": "stream",
     "text": [
      "Warning message in ks.test(bd_controle$quantidade_total_de_medicação, bd_caso$quantidade_total_de_medicação):\n",
      "\"cannot compute exact p-value with ties\"\n"
     ]
    },
    {
     "data": {
      "text/plain": [
       "\n",
       "\tTwo-sample Kolmogorov-Smirnov test\n",
       "\n",
       "data:  bd_controle$quantidade_total_de_medicação and bd_caso$quantidade_total_de_medicação\n",
       "D = 0.29167, p-value = 0.1314\n",
       "alternative hypothesis: two-sided\n"
      ]
     },
     "metadata": {},
     "output_type": "display_data"
    }
   ],
   "source": [
    "#var_numericas<- c(\"idade\",\"Nivel_educacional\",\"Tempo_doença\",\"MMSE\",\"Fluencia_verbal\",\"Trilhas_A\",\"Trilhas_b\",\n",
    "#\"GDS\",\"FES_I\",\"Vsaq\",\"Vo2_maximo_avaliado\",\"IMC\",\"Dinamometria\",\"Berg\",\"STS\",\"Flexibilidade_Ms\",\"Flexibilidade_MI\",\n",
    "#\"TUG_sec\",\"DT_Sec\",\"DT_numero_animais\",\"quantidade_total_de_medicação\")\n",
    "\n",
    "ks.test(bd_controle$idade,bd_caso$idade)\n",
    "ks.test(bd_controle$Nivel_educacional,bd_caso$Nivel_educacional)\n",
    "ks.test(bd_controle$Tempo_doença,bd_caso$Tempo_doença)\n",
    "ks.test(bd_controle$MMSE,bd_caso$MMSE)\n",
    "ks.test(bd_controle$Fluencia_verbal,bd_caso$Fluencia_verbal)\n",
    "ks.test(bd_controle$Trilhas_A,bd_caso$Trilhas_A)\n",
    "ks.test(bd_controle$Trilhas_b,bd_caso$Trilhas_b)\n",
    "ks.test(bd_controle$GDS,bd_caso$GDS)\n",
    "ks.test(bd_controle$FES_I,bd_caso$FES_I)\n",
    "ks.test(bd_controle$Vsaq,bd_caso$Vsaq)\n",
    "ks.test(bd_controle$Vo2_maximo_avaliado,bd_caso$Vo2_maximo_avaliado)\n",
    "ks.test(bd_controle$IMC,bd_caso$IMC)\n",
    "ks.test(bd_controle$Dinamometria,bd_caso$Dinamometria)\n",
    "ks.test(bd_controle$Berg,bd_caso$Berg)\n",
    "ks.test(bd_controle$STS,bd_caso$STS)\n",
    "ks.test(bd_controle$Flexibilidade_Ms,bd_caso$Flexibilidade_Ms)\n",
    "ks.test(bd_controle$Flexibilidade_MI,bd_caso$Flexibilidade_MI)\n",
    "ks.test(bd_controle$TUG_sec,bd_caso$TUG_sec)\n",
    "ks.test(bd_controle$DT_Sec,bd_caso$DT_Sec)\n",
    "ks.test(bd_controle$DT_numero_animais,bd_caso$DT_numero_animais)\n",
    "ks.test(bd_controle$quantidade_total_de_medicação,bd_caso$quantidade_total_de_medicação)\n"
   ]
  },
  {
   "cell_type": "markdown",
   "metadata": {},
   "source": [
    "## Levene test"
   ]
  },
  {
   "cell_type": "code",
   "execution_count": 148,
   "metadata": {},
   "outputs": [
    {
     "data": {
      "text/html": [
       "<table class=\"dataframe\">\n",
       "<caption>A anova: 2 × 3</caption>\n",
       "<thead>\n",
       "\t<tr><th></th><th scope=col>Df</th><th scope=col>F value</th><th scope=col>Pr(&gt;F)</th></tr>\n",
       "\t<tr><th></th><th scope=col>&lt;int&gt;</th><th scope=col>&lt;dbl&gt;</th><th scope=col>&lt;dbl&gt;</th></tr>\n",
       "</thead>\n",
       "<tbody>\n",
       "\t<tr><th scope=row>group</th><td> 1</td><td>4.709433</td><td>0.03339299</td></tr>\n",
       "\t<tr><th scope=row> </th><td>70</td><td>      NA</td><td>        NA</td></tr>\n",
       "</tbody>\n",
       "</table>\n"
      ],
      "text/latex": [
       "A anova: 2 × 3\n",
       "\\begin{tabular}{r|lll}\n",
       "  & Df & F value & Pr(>F)\\\\\n",
       "  & <int> & <dbl> & <dbl>\\\\\n",
       "\\hline\n",
       "\tgroup &  1 & 4.709433 & 0.03339299\\\\\n",
       "\t  & 70 &       NA &         NA\\\\\n",
       "\\end{tabular}\n"
      ],
      "text/markdown": [
       "\n",
       "A anova: 2 × 3\n",
       "\n",
       "| <!--/--> | Df &lt;int&gt; | F value &lt;dbl&gt; | Pr(&gt;F) &lt;dbl&gt; |\n",
       "|---|---|---|---|\n",
       "| group |  1 | 4.709433 | 0.03339299 |\n",
       "| <!----> | 70 |       NA |         NA |\n",
       "\n"
      ],
      "text/plain": [
       "      Df F value  Pr(>F)    \n",
       "group  1 4.709433 0.03339299\n",
       "      70       NA         NA"
      ]
     },
     "metadata": {},
     "output_type": "display_data"
    },
    {
     "data": {
      "text/html": [
       "<table class=\"dataframe\">\n",
       "<caption>A anova: 2 × 3</caption>\n",
       "<thead>\n",
       "\t<tr><th></th><th scope=col>Df</th><th scope=col>F value</th><th scope=col>Pr(&gt;F)</th></tr>\n",
       "\t<tr><th></th><th scope=col>&lt;int&gt;</th><th scope=col>&lt;dbl&gt;</th><th scope=col>&lt;dbl&gt;</th></tr>\n",
       "</thead>\n",
       "<tbody>\n",
       "\t<tr><th scope=row>group</th><td> 1</td><td>0.3745819</td><td>0.5425002</td></tr>\n",
       "\t<tr><th scope=row> </th><td>70</td><td>       NA</td><td>       NA</td></tr>\n",
       "</tbody>\n",
       "</table>\n"
      ],
      "text/latex": [
       "A anova: 2 × 3\n",
       "\\begin{tabular}{r|lll}\n",
       "  & Df & F value & Pr(>F)\\\\\n",
       "  & <int> & <dbl> & <dbl>\\\\\n",
       "\\hline\n",
       "\tgroup &  1 & 0.3745819 & 0.5425002\\\\\n",
       "\t  & 70 &        NA &        NA\\\\\n",
       "\\end{tabular}\n"
      ],
      "text/markdown": [
       "\n",
       "A anova: 2 × 3\n",
       "\n",
       "| <!--/--> | Df &lt;int&gt; | F value &lt;dbl&gt; | Pr(&gt;F) &lt;dbl&gt; |\n",
       "|---|---|---|---|\n",
       "| group |  1 | 0.3745819 | 0.5425002 |\n",
       "| <!----> | 70 |        NA |        NA |\n",
       "\n"
      ],
      "text/plain": [
       "      Df F value   Pr(>F)   \n",
       "group  1 0.3745819 0.5425002\n",
       "      70        NA        NA"
      ]
     },
     "metadata": {},
     "output_type": "display_data"
    },
    {
     "data": {
      "text/html": [
       "<table class=\"dataframe\">\n",
       "<caption>A anova: 2 × 3</caption>\n",
       "<thead>\n",
       "\t<tr><th></th><th scope=col>Df</th><th scope=col>F value</th><th scope=col>Pr(&gt;F)</th></tr>\n",
       "\t<tr><th></th><th scope=col>&lt;int&gt;</th><th scope=col>&lt;dbl&gt;</th><th scope=col>&lt;dbl&gt;</th></tr>\n",
       "</thead>\n",
       "<tbody>\n",
       "\t<tr><th scope=row>group</th><td> 1</td><td>0.688974</td><td>0.4093355</td></tr>\n",
       "\t<tr><th scope=row> </th><td>70</td><td>      NA</td><td>       NA</td></tr>\n",
       "</tbody>\n",
       "</table>\n"
      ],
      "text/latex": [
       "A anova: 2 × 3\n",
       "\\begin{tabular}{r|lll}\n",
       "  & Df & F value & Pr(>F)\\\\\n",
       "  & <int> & <dbl> & <dbl>\\\\\n",
       "\\hline\n",
       "\tgroup &  1 & 0.688974 & 0.4093355\\\\\n",
       "\t  & 70 &       NA &        NA\\\\\n",
       "\\end{tabular}\n"
      ],
      "text/markdown": [
       "\n",
       "A anova: 2 × 3\n",
       "\n",
       "| <!--/--> | Df &lt;int&gt; | F value &lt;dbl&gt; | Pr(&gt;F) &lt;dbl&gt; |\n",
       "|---|---|---|---|\n",
       "| group |  1 | 0.688974 | 0.4093355 |\n",
       "| <!----> | 70 |       NA |        NA |\n",
       "\n"
      ],
      "text/plain": [
       "      Df F value  Pr(>F)   \n",
       "group  1 0.688974 0.4093355\n",
       "      70       NA        NA"
      ]
     },
     "metadata": {},
     "output_type": "display_data"
    },
    {
     "data": {
      "text/html": [
       "<table class=\"dataframe\">\n",
       "<caption>A anova: 2 × 3</caption>\n",
       "<thead>\n",
       "\t<tr><th></th><th scope=col>Df</th><th scope=col>F value</th><th scope=col>Pr(&gt;F)</th></tr>\n",
       "\t<tr><th></th><th scope=col>&lt;int&gt;</th><th scope=col>&lt;dbl&gt;</th><th scope=col>&lt;dbl&gt;</th></tr>\n",
       "</thead>\n",
       "<tbody>\n",
       "\t<tr><th scope=row>group</th><td> 1</td><td>2.303561</td><td>0.1336465</td></tr>\n",
       "\t<tr><th scope=row> </th><td>69</td><td>      NA</td><td>       NA</td></tr>\n",
       "</tbody>\n",
       "</table>\n"
      ],
      "text/latex": [
       "A anova: 2 × 3\n",
       "\\begin{tabular}{r|lll}\n",
       "  & Df & F value & Pr(>F)\\\\\n",
       "  & <int> & <dbl> & <dbl>\\\\\n",
       "\\hline\n",
       "\tgroup &  1 & 2.303561 & 0.1336465\\\\\n",
       "\t  & 69 &       NA &        NA\\\\\n",
       "\\end{tabular}\n"
      ],
      "text/markdown": [
       "\n",
       "A anova: 2 × 3\n",
       "\n",
       "| <!--/--> | Df &lt;int&gt; | F value &lt;dbl&gt; | Pr(&gt;F) &lt;dbl&gt; |\n",
       "|---|---|---|---|\n",
       "| group |  1 | 2.303561 | 0.1336465 |\n",
       "| <!----> | 69 |       NA |        NA |\n",
       "\n"
      ],
      "text/plain": [
       "      Df F value  Pr(>F)   \n",
       "group  1 2.303561 0.1336465\n",
       "      69       NA        NA"
      ]
     },
     "metadata": {},
     "output_type": "display_data"
    },
    {
     "data": {
      "text/html": [
       "<table class=\"dataframe\">\n",
       "<caption>A anova: 2 × 3</caption>\n",
       "<thead>\n",
       "\t<tr><th></th><th scope=col>Df</th><th scope=col>F value</th><th scope=col>Pr(&gt;F)</th></tr>\n",
       "\t<tr><th></th><th scope=col>&lt;int&gt;</th><th scope=col>&lt;dbl&gt;</th><th scope=col>&lt;dbl&gt;</th></tr>\n",
       "</thead>\n",
       "<tbody>\n",
       "\t<tr><th scope=row>group</th><td> 1</td><td>5.332115</td><td>0.0238922</td></tr>\n",
       "\t<tr><th scope=row> </th><td>70</td><td>      NA</td><td>       NA</td></tr>\n",
       "</tbody>\n",
       "</table>\n"
      ],
      "text/latex": [
       "A anova: 2 × 3\n",
       "\\begin{tabular}{r|lll}\n",
       "  & Df & F value & Pr(>F)\\\\\n",
       "  & <int> & <dbl> & <dbl>\\\\\n",
       "\\hline\n",
       "\tgroup &  1 & 5.332115 & 0.0238922\\\\\n",
       "\t  & 70 &       NA &        NA\\\\\n",
       "\\end{tabular}\n"
      ],
      "text/markdown": [
       "\n",
       "A anova: 2 × 3\n",
       "\n",
       "| <!--/--> | Df &lt;int&gt; | F value &lt;dbl&gt; | Pr(&gt;F) &lt;dbl&gt; |\n",
       "|---|---|---|---|\n",
       "| group |  1 | 5.332115 | 0.0238922 |\n",
       "| <!----> | 70 |       NA |        NA |\n",
       "\n"
      ],
      "text/plain": [
       "      Df F value  Pr(>F)   \n",
       "group  1 5.332115 0.0238922\n",
       "      70       NA        NA"
      ]
     },
     "metadata": {},
     "output_type": "display_data"
    },
    {
     "data": {
      "text/html": [
       "<table class=\"dataframe\">\n",
       "<caption>A anova: 2 × 3</caption>\n",
       "<thead>\n",
       "\t<tr><th></th><th scope=col>Df</th><th scope=col>F value</th><th scope=col>Pr(&gt;F)</th></tr>\n",
       "\t<tr><th></th><th scope=col>&lt;int&gt;</th><th scope=col>&lt;dbl&gt;</th><th scope=col>&lt;dbl&gt;</th></tr>\n",
       "</thead>\n",
       "<tbody>\n",
       "\t<tr><th scope=row>group</th><td> 1</td><td>0.9551846</td><td>0.3318173</td></tr>\n",
       "\t<tr><th scope=row> </th><td>69</td><td>       NA</td><td>       NA</td></tr>\n",
       "</tbody>\n",
       "</table>\n"
      ],
      "text/latex": [
       "A anova: 2 × 3\n",
       "\\begin{tabular}{r|lll}\n",
       "  & Df & F value & Pr(>F)\\\\\n",
       "  & <int> & <dbl> & <dbl>\\\\\n",
       "\\hline\n",
       "\tgroup &  1 & 0.9551846 & 0.3318173\\\\\n",
       "\t  & 69 &        NA &        NA\\\\\n",
       "\\end{tabular}\n"
      ],
      "text/markdown": [
       "\n",
       "A anova: 2 × 3\n",
       "\n",
       "| <!--/--> | Df &lt;int&gt; | F value &lt;dbl&gt; | Pr(&gt;F) &lt;dbl&gt; |\n",
       "|---|---|---|---|\n",
       "| group |  1 | 0.9551846 | 0.3318173 |\n",
       "| <!----> | 69 |        NA |        NA |\n",
       "\n"
      ],
      "text/plain": [
       "      Df F value   Pr(>F)   \n",
       "group  1 0.9551846 0.3318173\n",
       "      69        NA        NA"
      ]
     },
     "metadata": {},
     "output_type": "display_data"
    },
    {
     "data": {
      "text/html": [
       "<table class=\"dataframe\">\n",
       "<caption>A anova: 2 × 3</caption>\n",
       "<thead>\n",
       "\t<tr><th></th><th scope=col>Df</th><th scope=col>F value</th><th scope=col>Pr(&gt;F)</th></tr>\n",
       "\t<tr><th></th><th scope=col>&lt;int&gt;</th><th scope=col>&lt;dbl&gt;</th><th scope=col>&lt;dbl&gt;</th></tr>\n",
       "</thead>\n",
       "<tbody>\n",
       "\t<tr><th scope=row>group</th><td> 1</td><td>0.008615805</td><td>0.9263145</td></tr>\n",
       "\t<tr><th scope=row> </th><td>69</td><td>         NA</td><td>       NA</td></tr>\n",
       "</tbody>\n",
       "</table>\n"
      ],
      "text/latex": [
       "A anova: 2 × 3\n",
       "\\begin{tabular}{r|lll}\n",
       "  & Df & F value & Pr(>F)\\\\\n",
       "  & <int> & <dbl> & <dbl>\\\\\n",
       "\\hline\n",
       "\tgroup &  1 & 0.008615805 & 0.9263145\\\\\n",
       "\t  & 69 &          NA &        NA\\\\\n",
       "\\end{tabular}\n"
      ],
      "text/markdown": [
       "\n",
       "A anova: 2 × 3\n",
       "\n",
       "| <!--/--> | Df &lt;int&gt; | F value &lt;dbl&gt; | Pr(&gt;F) &lt;dbl&gt; |\n",
       "|---|---|---|---|\n",
       "| group |  1 | 0.008615805 | 0.9263145 |\n",
       "| <!----> | 69 |          NA |        NA |\n",
       "\n"
      ],
      "text/plain": [
       "      Df F value     Pr(>F)   \n",
       "group  1 0.008615805 0.9263145\n",
       "      69          NA        NA"
      ]
     },
     "metadata": {},
     "output_type": "display_data"
    },
    {
     "data": {
      "text/html": [
       "<table class=\"dataframe\">\n",
       "<caption>A anova: 2 × 3</caption>\n",
       "<thead>\n",
       "\t<tr><th></th><th scope=col>Df</th><th scope=col>F value</th><th scope=col>Pr(&gt;F)</th></tr>\n",
       "\t<tr><th></th><th scope=col>&lt;int&gt;</th><th scope=col>&lt;dbl&gt;</th><th scope=col>&lt;dbl&gt;</th></tr>\n",
       "</thead>\n",
       "<tbody>\n",
       "\t<tr><th scope=row>group</th><td> 1</td><td>1.923234</td><td>0.1699647</td></tr>\n",
       "\t<tr><th scope=row> </th><td>69</td><td>      NA</td><td>       NA</td></tr>\n",
       "</tbody>\n",
       "</table>\n"
      ],
      "text/latex": [
       "A anova: 2 × 3\n",
       "\\begin{tabular}{r|lll}\n",
       "  & Df & F value & Pr(>F)\\\\\n",
       "  & <int> & <dbl> & <dbl>\\\\\n",
       "\\hline\n",
       "\tgroup &  1 & 1.923234 & 0.1699647\\\\\n",
       "\t  & 69 &       NA &        NA\\\\\n",
       "\\end{tabular}\n"
      ],
      "text/markdown": [
       "\n",
       "A anova: 2 × 3\n",
       "\n",
       "| <!--/--> | Df &lt;int&gt; | F value &lt;dbl&gt; | Pr(&gt;F) &lt;dbl&gt; |\n",
       "|---|---|---|---|\n",
       "| group |  1 | 1.923234 | 0.1699647 |\n",
       "| <!----> | 69 |       NA |        NA |\n",
       "\n"
      ],
      "text/plain": [
       "      Df F value  Pr(>F)   \n",
       "group  1 1.923234 0.1699647\n",
       "      69       NA        NA"
      ]
     },
     "metadata": {},
     "output_type": "display_data"
    },
    {
     "data": {
      "text/html": [
       "<table class=\"dataframe\">\n",
       "<caption>A anova: 2 × 3</caption>\n",
       "<thead>\n",
       "\t<tr><th></th><th scope=col>Df</th><th scope=col>F value</th><th scope=col>Pr(&gt;F)</th></tr>\n",
       "\t<tr><th></th><th scope=col>&lt;int&gt;</th><th scope=col>&lt;dbl&gt;</th><th scope=col>&lt;dbl&gt;</th></tr>\n",
       "</thead>\n",
       "<tbody>\n",
       "\t<tr><th scope=row>group</th><td> 1</td><td>7.574372</td><td>0.007557996</td></tr>\n",
       "\t<tr><th scope=row> </th><td>69</td><td>      NA</td><td>         NA</td></tr>\n",
       "</tbody>\n",
       "</table>\n"
      ],
      "text/latex": [
       "A anova: 2 × 3\n",
       "\\begin{tabular}{r|lll}\n",
       "  & Df & F value & Pr(>F)\\\\\n",
       "  & <int> & <dbl> & <dbl>\\\\\n",
       "\\hline\n",
       "\tgroup &  1 & 7.574372 & 0.007557996\\\\\n",
       "\t  & 69 &       NA &          NA\\\\\n",
       "\\end{tabular}\n"
      ],
      "text/markdown": [
       "\n",
       "A anova: 2 × 3\n",
       "\n",
       "| <!--/--> | Df &lt;int&gt; | F value &lt;dbl&gt; | Pr(&gt;F) &lt;dbl&gt; |\n",
       "|---|---|---|---|\n",
       "| group |  1 | 7.574372 | 0.007557996 |\n",
       "| <!----> | 69 |       NA |          NA |\n",
       "\n"
      ],
      "text/plain": [
       "      Df F value  Pr(>F)     \n",
       "group  1 7.574372 0.007557996\n",
       "      69       NA          NA"
      ]
     },
     "metadata": {},
     "output_type": "display_data"
    },
    {
     "data": {
      "text/html": [
       "<table class=\"dataframe\">\n",
       "<caption>A anova: 2 × 3</caption>\n",
       "<thead>\n",
       "\t<tr><th></th><th scope=col>Df</th><th scope=col>F value</th><th scope=col>Pr(&gt;F)</th></tr>\n",
       "\t<tr><th></th><th scope=col>&lt;int&gt;</th><th scope=col>&lt;dbl&gt;</th><th scope=col>&lt;dbl&gt;</th></tr>\n",
       "</thead>\n",
       "<tbody>\n",
       "\t<tr><th scope=row>group</th><td> 1</td><td>1.172049</td><td>0.282696</td></tr>\n",
       "\t<tr><th scope=row> </th><td>70</td><td>      NA</td><td>      NA</td></tr>\n",
       "</tbody>\n",
       "</table>\n"
      ],
      "text/latex": [
       "A anova: 2 × 3\n",
       "\\begin{tabular}{r|lll}\n",
       "  & Df & F value & Pr(>F)\\\\\n",
       "  & <int> & <dbl> & <dbl>\\\\\n",
       "\\hline\n",
       "\tgroup &  1 & 1.172049 & 0.282696\\\\\n",
       "\t  & 70 &       NA &       NA\\\\\n",
       "\\end{tabular}\n"
      ],
      "text/markdown": [
       "\n",
       "A anova: 2 × 3\n",
       "\n",
       "| <!--/--> | Df &lt;int&gt; | F value &lt;dbl&gt; | Pr(&gt;F) &lt;dbl&gt; |\n",
       "|---|---|---|---|\n",
       "| group |  1 | 1.172049 | 0.282696 |\n",
       "| <!----> | 70 |       NA |       NA |\n",
       "\n"
      ],
      "text/plain": [
       "      Df F value  Pr(>F)  \n",
       "group  1 1.172049 0.282696\n",
       "      70       NA       NA"
      ]
     },
     "metadata": {},
     "output_type": "display_data"
    },
    {
     "data": {
      "text/html": [
       "<table class=\"dataframe\">\n",
       "<caption>A anova: 2 × 3</caption>\n",
       "<thead>\n",
       "\t<tr><th></th><th scope=col>Df</th><th scope=col>F value</th><th scope=col>Pr(&gt;F)</th></tr>\n",
       "\t<tr><th></th><th scope=col>&lt;int&gt;</th><th scope=col>&lt;dbl&gt;</th><th scope=col>&lt;dbl&gt;</th></tr>\n",
       "</thead>\n",
       "<tbody>\n",
       "\t<tr><th scope=row>group</th><td> 1</td><td>0.6778973</td><td>0.4135191</td></tr>\n",
       "\t<tr><th scope=row> </th><td>61</td><td>       NA</td><td>       NA</td></tr>\n",
       "</tbody>\n",
       "</table>\n"
      ],
      "text/latex": [
       "A anova: 2 × 3\n",
       "\\begin{tabular}{r|lll}\n",
       "  & Df & F value & Pr(>F)\\\\\n",
       "  & <int> & <dbl> & <dbl>\\\\\n",
       "\\hline\n",
       "\tgroup &  1 & 0.6778973 & 0.4135191\\\\\n",
       "\t  & 61 &        NA &        NA\\\\\n",
       "\\end{tabular}\n"
      ],
      "text/markdown": [
       "\n",
       "A anova: 2 × 3\n",
       "\n",
       "| <!--/--> | Df &lt;int&gt; | F value &lt;dbl&gt; | Pr(&gt;F) &lt;dbl&gt; |\n",
       "|---|---|---|---|\n",
       "| group |  1 | 0.6778973 | 0.4135191 |\n",
       "| <!----> | 61 |        NA |        NA |\n",
       "\n"
      ],
      "text/plain": [
       "      Df F value   Pr(>F)   \n",
       "group  1 0.6778973 0.4135191\n",
       "      61        NA        NA"
      ]
     },
     "metadata": {},
     "output_type": "display_data"
    },
    {
     "data": {
      "text/html": [
       "<table class=\"dataframe\">\n",
       "<caption>A anova: 2 × 3</caption>\n",
       "<thead>\n",
       "\t<tr><th></th><th scope=col>Df</th><th scope=col>F value</th><th scope=col>Pr(&gt;F)</th></tr>\n",
       "\t<tr><th></th><th scope=col>&lt;int&gt;</th><th scope=col>&lt;dbl&gt;</th><th scope=col>&lt;dbl&gt;</th></tr>\n",
       "</thead>\n",
       "<tbody>\n",
       "\t<tr><th scope=row>group</th><td> 1</td><td>0.1086418</td><td>0.7426801</td></tr>\n",
       "\t<tr><th scope=row> </th><td>70</td><td>       NA</td><td>       NA</td></tr>\n",
       "</tbody>\n",
       "</table>\n"
      ],
      "text/latex": [
       "A anova: 2 × 3\n",
       "\\begin{tabular}{r|lll}\n",
       "  & Df & F value & Pr(>F)\\\\\n",
       "  & <int> & <dbl> & <dbl>\\\\\n",
       "\\hline\n",
       "\tgroup &  1 & 0.1086418 & 0.7426801\\\\\n",
       "\t  & 70 &        NA &        NA\\\\\n",
       "\\end{tabular}\n"
      ],
      "text/markdown": [
       "\n",
       "A anova: 2 × 3\n",
       "\n",
       "| <!--/--> | Df &lt;int&gt; | F value &lt;dbl&gt; | Pr(&gt;F) &lt;dbl&gt; |\n",
       "|---|---|---|---|\n",
       "| group |  1 | 0.1086418 | 0.7426801 |\n",
       "| <!----> | 70 |        NA |        NA |\n",
       "\n"
      ],
      "text/plain": [
       "      Df F value   Pr(>F)   \n",
       "group  1 0.1086418 0.7426801\n",
       "      70        NA        NA"
      ]
     },
     "metadata": {},
     "output_type": "display_data"
    },
    {
     "data": {
      "text/html": [
       "<table class=\"dataframe\">\n",
       "<caption>A anova: 2 × 3</caption>\n",
       "<thead>\n",
       "\t<tr><th></th><th scope=col>Df</th><th scope=col>F value</th><th scope=col>Pr(&gt;F)</th></tr>\n",
       "\t<tr><th></th><th scope=col>&lt;int&gt;</th><th scope=col>&lt;dbl&gt;</th><th scope=col>&lt;dbl&gt;</th></tr>\n",
       "</thead>\n",
       "<tbody>\n",
       "\t<tr><th scope=row>group</th><td> 1</td><td>0.2231925</td><td>0.6380877</td></tr>\n",
       "\t<tr><th scope=row> </th><td>70</td><td>       NA</td><td>       NA</td></tr>\n",
       "</tbody>\n",
       "</table>\n"
      ],
      "text/latex": [
       "A anova: 2 × 3\n",
       "\\begin{tabular}{r|lll}\n",
       "  & Df & F value & Pr(>F)\\\\\n",
       "  & <int> & <dbl> & <dbl>\\\\\n",
       "\\hline\n",
       "\tgroup &  1 & 0.2231925 & 0.6380877\\\\\n",
       "\t  & 70 &        NA &        NA\\\\\n",
       "\\end{tabular}\n"
      ],
      "text/markdown": [
       "\n",
       "A anova: 2 × 3\n",
       "\n",
       "| <!--/--> | Df &lt;int&gt; | F value &lt;dbl&gt; | Pr(&gt;F) &lt;dbl&gt; |\n",
       "|---|---|---|---|\n",
       "| group |  1 | 0.2231925 | 0.6380877 |\n",
       "| <!----> | 70 |        NA |        NA |\n",
       "\n"
      ],
      "text/plain": [
       "      Df F value   Pr(>F)   \n",
       "group  1 0.2231925 0.6380877\n",
       "      70        NA        NA"
      ]
     },
     "metadata": {},
     "output_type": "display_data"
    },
    {
     "data": {
      "text/html": [
       "<table class=\"dataframe\">\n",
       "<caption>A anova: 2 × 3</caption>\n",
       "<thead>\n",
       "\t<tr><th></th><th scope=col>Df</th><th scope=col>F value</th><th scope=col>Pr(&gt;F)</th></tr>\n",
       "\t<tr><th></th><th scope=col>&lt;int&gt;</th><th scope=col>&lt;dbl&gt;</th><th scope=col>&lt;dbl&gt;</th></tr>\n",
       "</thead>\n",
       "<tbody>\n",
       "\t<tr><th scope=row>group</th><td> 1</td><td>4.957175</td><td>0.02920266</td></tr>\n",
       "\t<tr><th scope=row> </th><td>70</td><td>      NA</td><td>        NA</td></tr>\n",
       "</tbody>\n",
       "</table>\n"
      ],
      "text/latex": [
       "A anova: 2 × 3\n",
       "\\begin{tabular}{r|lll}\n",
       "  & Df & F value & Pr(>F)\\\\\n",
       "  & <int> & <dbl> & <dbl>\\\\\n",
       "\\hline\n",
       "\tgroup &  1 & 4.957175 & 0.02920266\\\\\n",
       "\t  & 70 &       NA &         NA\\\\\n",
       "\\end{tabular}\n"
      ],
      "text/markdown": [
       "\n",
       "A anova: 2 × 3\n",
       "\n",
       "| <!--/--> | Df &lt;int&gt; | F value &lt;dbl&gt; | Pr(&gt;F) &lt;dbl&gt; |\n",
       "|---|---|---|---|\n",
       "| group |  1 | 4.957175 | 0.02920266 |\n",
       "| <!----> | 70 |       NA |         NA |\n",
       "\n"
      ],
      "text/plain": [
       "      Df F value  Pr(>F)    \n",
       "group  1 4.957175 0.02920266\n",
       "      70       NA         NA"
      ]
     },
     "metadata": {},
     "output_type": "display_data"
    },
    {
     "data": {
      "text/html": [
       "<table class=\"dataframe\">\n",
       "<caption>A anova: 2 × 3</caption>\n",
       "<thead>\n",
       "\t<tr><th></th><th scope=col>Df</th><th scope=col>F value</th><th scope=col>Pr(&gt;F)</th></tr>\n",
       "\t<tr><th></th><th scope=col>&lt;int&gt;</th><th scope=col>&lt;dbl&gt;</th><th scope=col>&lt;dbl&gt;</th></tr>\n",
       "</thead>\n",
       "<tbody>\n",
       "\t<tr><th scope=row>group</th><td> 1</td><td>1.486708</td><td>0.2270676</td></tr>\n",
       "\t<tr><th scope=row> </th><td>66</td><td>      NA</td><td>       NA</td></tr>\n",
       "</tbody>\n",
       "</table>\n"
      ],
      "text/latex": [
       "A anova: 2 × 3\n",
       "\\begin{tabular}{r|lll}\n",
       "  & Df & F value & Pr(>F)\\\\\n",
       "  & <int> & <dbl> & <dbl>\\\\\n",
       "\\hline\n",
       "\tgroup &  1 & 1.486708 & 0.2270676\\\\\n",
       "\t  & 66 &       NA &        NA\\\\\n",
       "\\end{tabular}\n"
      ],
      "text/markdown": [
       "\n",
       "A anova: 2 × 3\n",
       "\n",
       "| <!--/--> | Df &lt;int&gt; | F value &lt;dbl&gt; | Pr(&gt;F) &lt;dbl&gt; |\n",
       "|---|---|---|---|\n",
       "| group |  1 | 1.486708 | 0.2270676 |\n",
       "| <!----> | 66 |       NA |        NA |\n",
       "\n"
      ],
      "text/plain": [
       "      Df F value  Pr(>F)   \n",
       "group  1 1.486708 0.2270676\n",
       "      66       NA        NA"
      ]
     },
     "metadata": {},
     "output_type": "display_data"
    },
    {
     "data": {
      "text/html": [
       "<table class=\"dataframe\">\n",
       "<caption>A anova: 2 × 3</caption>\n",
       "<thead>\n",
       "\t<tr><th></th><th scope=col>Df</th><th scope=col>F value</th><th scope=col>Pr(&gt;F)</th></tr>\n",
       "\t<tr><th></th><th scope=col>&lt;int&gt;</th><th scope=col>&lt;dbl&gt;</th><th scope=col>&lt;dbl&gt;</th></tr>\n",
       "</thead>\n",
       "<tbody>\n",
       "\t<tr><th scope=row>group</th><td> 1</td><td>3.619355</td><td>0.06175803</td></tr>\n",
       "\t<tr><th scope=row> </th><td>62</td><td>      NA</td><td>        NA</td></tr>\n",
       "</tbody>\n",
       "</table>\n"
      ],
      "text/latex": [
       "A anova: 2 × 3\n",
       "\\begin{tabular}{r|lll}\n",
       "  & Df & F value & Pr(>F)\\\\\n",
       "  & <int> & <dbl> & <dbl>\\\\\n",
       "\\hline\n",
       "\tgroup &  1 & 3.619355 & 0.06175803\\\\\n",
       "\t  & 62 &       NA &         NA\\\\\n",
       "\\end{tabular}\n"
      ],
      "text/markdown": [
       "\n",
       "A anova: 2 × 3\n",
       "\n",
       "| <!--/--> | Df &lt;int&gt; | F value &lt;dbl&gt; | Pr(&gt;F) &lt;dbl&gt; |\n",
       "|---|---|---|---|\n",
       "| group |  1 | 3.619355 | 0.06175803 |\n",
       "| <!----> | 62 |       NA |         NA |\n",
       "\n"
      ],
      "text/plain": [
       "      Df F value  Pr(>F)    \n",
       "group  1 3.619355 0.06175803\n",
       "      62       NA         NA"
      ]
     },
     "metadata": {},
     "output_type": "display_data"
    },
    {
     "data": {
      "text/html": [
       "<table class=\"dataframe\">\n",
       "<caption>A anova: 2 × 3</caption>\n",
       "<thead>\n",
       "\t<tr><th></th><th scope=col>Df</th><th scope=col>F value</th><th scope=col>Pr(&gt;F)</th></tr>\n",
       "\t<tr><th></th><th scope=col>&lt;int&gt;</th><th scope=col>&lt;dbl&gt;</th><th scope=col>&lt;dbl&gt;</th></tr>\n",
       "</thead>\n",
       "<tbody>\n",
       "\t<tr><th scope=row>group</th><td> 1</td><td>2.656241</td><td>0.1079081</td></tr>\n",
       "\t<tr><th scope=row> </th><td>66</td><td>      NA</td><td>       NA</td></tr>\n",
       "</tbody>\n",
       "</table>\n"
      ],
      "text/latex": [
       "A anova: 2 × 3\n",
       "\\begin{tabular}{r|lll}\n",
       "  & Df & F value & Pr(>F)\\\\\n",
       "  & <int> & <dbl> & <dbl>\\\\\n",
       "\\hline\n",
       "\tgroup &  1 & 2.656241 & 0.1079081\\\\\n",
       "\t  & 66 &       NA &        NA\\\\\n",
       "\\end{tabular}\n"
      ],
      "text/markdown": [
       "\n",
       "A anova: 2 × 3\n",
       "\n",
       "| <!--/--> | Df &lt;int&gt; | F value &lt;dbl&gt; | Pr(&gt;F) &lt;dbl&gt; |\n",
       "|---|---|---|---|\n",
       "| group |  1 | 2.656241 | 0.1079081 |\n",
       "| <!----> | 66 |       NA |        NA |\n",
       "\n"
      ],
      "text/plain": [
       "      Df F value  Pr(>F)   \n",
       "group  1 2.656241 0.1079081\n",
       "      66       NA        NA"
      ]
     },
     "metadata": {},
     "output_type": "display_data"
    },
    {
     "data": {
      "text/html": [
       "<table class=\"dataframe\">\n",
       "<caption>A anova: 2 × 3</caption>\n",
       "<thead>\n",
       "\t<tr><th></th><th scope=col>Df</th><th scope=col>F value</th><th scope=col>Pr(&gt;F)</th></tr>\n",
       "\t<tr><th></th><th scope=col>&lt;int&gt;</th><th scope=col>&lt;dbl&gt;</th><th scope=col>&lt;dbl&gt;</th></tr>\n",
       "</thead>\n",
       "<tbody>\n",
       "\t<tr><th scope=row>group</th><td> 1</td><td>3.324957</td><td>0.07263093</td></tr>\n",
       "\t<tr><th scope=row> </th><td>68</td><td>      NA</td><td>        NA</td></tr>\n",
       "</tbody>\n",
       "</table>\n"
      ],
      "text/latex": [
       "A anova: 2 × 3\n",
       "\\begin{tabular}{r|lll}\n",
       "  & Df & F value & Pr(>F)\\\\\n",
       "  & <int> & <dbl> & <dbl>\\\\\n",
       "\\hline\n",
       "\tgroup &  1 & 3.324957 & 0.07263093\\\\\n",
       "\t  & 68 &       NA &         NA\\\\\n",
       "\\end{tabular}\n"
      ],
      "text/markdown": [
       "\n",
       "A anova: 2 × 3\n",
       "\n",
       "| <!--/--> | Df &lt;int&gt; | F value &lt;dbl&gt; | Pr(&gt;F) &lt;dbl&gt; |\n",
       "|---|---|---|---|\n",
       "| group |  1 | 3.324957 | 0.07263093 |\n",
       "| <!----> | 68 |       NA |         NA |\n",
       "\n"
      ],
      "text/plain": [
       "      Df F value  Pr(>F)    \n",
       "group  1 3.324957 0.07263093\n",
       "      68       NA         NA"
      ]
     },
     "metadata": {},
     "output_type": "display_data"
    },
    {
     "data": {
      "text/html": [
       "<table class=\"dataframe\">\n",
       "<caption>A anova: 2 × 3</caption>\n",
       "<thead>\n",
       "\t<tr><th></th><th scope=col>Df</th><th scope=col>F value</th><th scope=col>Pr(&gt;F)</th></tr>\n",
       "\t<tr><th></th><th scope=col>&lt;int&gt;</th><th scope=col>&lt;dbl&gt;</th><th scope=col>&lt;dbl&gt;</th></tr>\n",
       "</thead>\n",
       "<tbody>\n",
       "\t<tr><th scope=row>group</th><td> 1</td><td>1.583475</td><td>0.2128323</td></tr>\n",
       "\t<tr><th scope=row> </th><td>64</td><td>      NA</td><td>       NA</td></tr>\n",
       "</tbody>\n",
       "</table>\n"
      ],
      "text/latex": [
       "A anova: 2 × 3\n",
       "\\begin{tabular}{r|lll}\n",
       "  & Df & F value & Pr(>F)\\\\\n",
       "  & <int> & <dbl> & <dbl>\\\\\n",
       "\\hline\n",
       "\tgroup &  1 & 1.583475 & 0.2128323\\\\\n",
       "\t  & 64 &       NA &        NA\\\\\n",
       "\\end{tabular}\n"
      ],
      "text/markdown": [
       "\n",
       "A anova: 2 × 3\n",
       "\n",
       "| <!--/--> | Df &lt;int&gt; | F value &lt;dbl&gt; | Pr(&gt;F) &lt;dbl&gt; |\n",
       "|---|---|---|---|\n",
       "| group |  1 | 1.583475 | 0.2128323 |\n",
       "| <!----> | 64 |       NA |        NA |\n",
       "\n"
      ],
      "text/plain": [
       "      Df F value  Pr(>F)   \n",
       "group  1 1.583475 0.2128323\n",
       "      64       NA        NA"
      ]
     },
     "metadata": {},
     "output_type": "display_data"
    },
    {
     "data": {
      "text/html": [
       "<table class=\"dataframe\">\n",
       "<caption>A anova: 2 × 3</caption>\n",
       "<thead>\n",
       "\t<tr><th></th><th scope=col>Df</th><th scope=col>F value</th><th scope=col>Pr(&gt;F)</th></tr>\n",
       "\t<tr><th></th><th scope=col>&lt;int&gt;</th><th scope=col>&lt;dbl&gt;</th><th scope=col>&lt;dbl&gt;</th></tr>\n",
       "</thead>\n",
       "<tbody>\n",
       "\t<tr><th scope=row>group</th><td> 1</td><td>1.89086</td><td>0.1738997</td></tr>\n",
       "\t<tr><th scope=row> </th><td>64</td><td>     NA</td><td>       NA</td></tr>\n",
       "</tbody>\n",
       "</table>\n"
      ],
      "text/latex": [
       "A anova: 2 × 3\n",
       "\\begin{tabular}{r|lll}\n",
       "  & Df & F value & Pr(>F)\\\\\n",
       "  & <int> & <dbl> & <dbl>\\\\\n",
       "\\hline\n",
       "\tgroup &  1 & 1.89086 & 0.1738997\\\\\n",
       "\t  & 64 &      NA &        NA\\\\\n",
       "\\end{tabular}\n"
      ],
      "text/markdown": [
       "\n",
       "A anova: 2 × 3\n",
       "\n",
       "| <!--/--> | Df &lt;int&gt; | F value &lt;dbl&gt; | Pr(&gt;F) &lt;dbl&gt; |\n",
       "|---|---|---|---|\n",
       "| group |  1 | 1.89086 | 0.1738997 |\n",
       "| <!----> | 64 |      NA |        NA |\n",
       "\n"
      ],
      "text/plain": [
       "      Df F value Pr(>F)   \n",
       "group  1 1.89086 0.1738997\n",
       "      64      NA        NA"
      ]
     },
     "metadata": {},
     "output_type": "display_data"
    },
    {
     "data": {
      "text/html": [
       "<table class=\"dataframe\">\n",
       "<caption>A anova: 2 × 3</caption>\n",
       "<thead>\n",
       "\t<tr><th></th><th scope=col>Df</th><th scope=col>F value</th><th scope=col>Pr(&gt;F)</th></tr>\n",
       "\t<tr><th></th><th scope=col>&lt;int&gt;</th><th scope=col>&lt;dbl&gt;</th><th scope=col>&lt;dbl&gt;</th></tr>\n",
       "</thead>\n",
       "<tbody>\n",
       "\t<tr><th scope=row>group</th><td> 1</td><td>0.7325241</td><td>0.3949865</td></tr>\n",
       "\t<tr><th scope=row> </th><td>70</td><td>       NA</td><td>       NA</td></tr>\n",
       "</tbody>\n",
       "</table>\n"
      ],
      "text/latex": [
       "A anova: 2 × 3\n",
       "\\begin{tabular}{r|lll}\n",
       "  & Df & F value & Pr(>F)\\\\\n",
       "  & <int> & <dbl> & <dbl>\\\\\n",
       "\\hline\n",
       "\tgroup &  1 & 0.7325241 & 0.3949865\\\\\n",
       "\t  & 70 &        NA &        NA\\\\\n",
       "\\end{tabular}\n"
      ],
      "text/markdown": [
       "\n",
       "A anova: 2 × 3\n",
       "\n",
       "| <!--/--> | Df &lt;int&gt; | F value &lt;dbl&gt; | Pr(&gt;F) &lt;dbl&gt; |\n",
       "|---|---|---|---|\n",
       "| group |  1 | 0.7325241 | 0.3949865 |\n",
       "| <!----> | 70 |        NA |        NA |\n",
       "\n"
      ],
      "text/plain": [
       "      Df F value   Pr(>F)   \n",
       "group  1 0.7325241 0.3949865\n",
       "      70        NA        NA"
      ]
     },
     "metadata": {},
     "output_type": "display_data"
    }
   ],
   "source": [
    "#install.packages(\"car\")\n",
    "#require(car)\n",
    "#var_numericas<- c(\"idade\",\"Nivel_educacional\",\"Tempo_doença\",\"MMSE\",\"Fluencia_verbal\",\"Trilhas_A\",\"Trilhas_b\",\n",
    "#\"GDS\",\"FES_I\",\"Vsaq\",\"Vo2_maximo_avaliado\",\"IMC\",\"Dinamometria\",\"Berg\",\"STS\",\"Flexibilidade_Ms\",\"Flexibilidade_MI\",\n",
    "#\"TUG_sec\",\"DT_Sec\",\"DT_numero_animais\",\"quantidade_total_de_medicação\")\n",
    "\n",
    "#Var igual -> pvalor>0.05\n",
    "\n",
    "leveneTest(idade ~ Caidor,data= bd)\n",
    "leveneTest(Nivel_educacional ~ Caidor,data= bd)\n",
    "leveneTest(Tempo_doença ~ Caidor,data= bd)\n",
    "leveneTest(MMSE ~ Caidor,data= bd)\n",
    "leveneTest(Fluencia_verbal ~ Caidor,data= bd)\n",
    "leveneTest(Trilhas_A ~ Caidor,data= bd)\n",
    "leveneTest(Trilhas_b ~ Caidor,data= bd)\n",
    "leveneTest(GDS ~ Caidor,data= bd)\n",
    "leveneTest(FES_I ~ Caidor,data= bd)\n",
    "leveneTest(Vsaq ~ Caidor,data= bd)\n",
    "leveneTest(Vo2_maximo_avaliado ~ Caidor,data= bd)\n",
    "leveneTest(IMC ~ Caidor,data= bd)\n",
    "leveneTest(Dinamometria ~ Caidor,data= bd)\n",
    "leveneTest(Berg ~ Caidor,data= bd)\n",
    "leveneTest(STS ~ Caidor,data= bd)\n",
    "leveneTest(Flexibilidade_Ms ~ Caidor,data= bd)\n",
    "leveneTest(Flexibilidade_MI ~ Caidor,data= bd)\n",
    "leveneTest(TUG_sec ~ Caidor,data= bd)\n",
    "leveneTest(DT_Sec ~ Caidor,data= bd)\n",
    "leveneTest(DT_numero_animais ~ Caidor,data= bd)\n",
    "leveneTest(quantidade_total_de_medicação ~ Caidor,data= bd)\n"
   ]
  },
  {
   "cell_type": "markdown",
   "metadata": {},
   "source": [
    "## X²"
   ]
  },
  {
   "cell_type": "code",
   "execution_count": 158,
   "metadata": {},
   "outputs": [
    {
     "data": {
      "text/plain": [
       "\n",
       "\tPearson's Chi-squared test\n",
       "\n",
       "data:  bd$Caidor and bd$Genero\n",
       "X-squared = 0.11548, df = 1, p-value = 0.734\n"
      ]
     },
     "metadata": {},
     "output_type": "display_data"
    },
    {
     "name": "stderr",
     "output_type": "stream",
     "text": [
      "Warning message in chisq.test(bd$Caidor, bd$etnia, correct = F):\n",
      "\"Chi-squared approximation may be incorrect\"\n"
     ]
    },
    {
     "data": {
      "text/plain": [
       "\n",
       "\tPearson's Chi-squared test\n",
       "\n",
       "data:  bd$Caidor and bd$etnia\n",
       "X-squared = 0.85842, df = 1, p-value = 0.3542\n"
      ]
     },
     "metadata": {},
     "output_type": "display_data"
    },
    {
     "data": {
      "text/plain": [
       "\n",
       "\tPearson's Chi-squared test\n",
       "\n",
       "data:  bd$Caidor and bd$Freq_atividade\n",
       "X-squared = 2.8992, df = 2, p-value = 0.2347\n"
      ]
     },
     "metadata": {},
     "output_type": "display_data"
    },
    {
     "data": {
      "text/plain": [
       "\n",
       "\tPearson's Chi-squared test\n",
       "\n",
       "data:  bd$Caidor and bd$Criterio_AHA\n",
       "X-squared = 11.531, df = 1, p-value = 0.0006843\n"
      ]
     },
     "metadata": {},
     "output_type": "display_data"
    },
    {
     "name": "stderr",
     "output_type": "stream",
     "text": [
      "Warning message in chisq.test(bd$Caidor, bd$medicaçao_tipo_cardiovascular, correct = F):\n",
      "\"Chi-squared approximation may be incorrect\"\n"
     ]
    },
    {
     "data": {
      "text/plain": [
       "\n",
       "\tPearson's Chi-squared test\n",
       "\n",
       "data:  bd$Caidor and bd$medicaçao_tipo_cardiovascular\n",
       "X-squared = 18.654, df = 4, p-value = 0.0009192\n"
      ]
     },
     "metadata": {},
     "output_type": "display_data"
    },
    {
     "name": "stderr",
     "output_type": "stream",
     "text": [
      "Warning message in chisq.test(bd$Caidor, bd$medicação_tipo_mental, correct = F):\n",
      "\"Chi-squared approximation may be incorrect\"\n"
     ]
    },
    {
     "data": {
      "text/plain": [
       "\n",
       "\tPearson's Chi-squared test\n",
       "\n",
       "data:  bd$Caidor and bd$medicação_tipo_mental\n",
       "X-squared = 8.4935, df = 4, p-value = 0.07509\n"
      ]
     },
     "metadata": {},
     "output_type": "display_data"
    }
   ],
   "source": [
    "#sexo, etnia, nível de atividade física, tipo de medicamento para doença cardiovascular, classificação do ACC/AHA,\n",
    "#doença do sistema cardiovascular*, medicamento para doença mental* e tipos de medicamento para doença mental\n",
    "\n",
    "#Pvalue<0.05 - Variables are dependent\n",
    "\n",
    "chisq.test(bd$Caidor,bd$Genero,correct=F) #correct=F to turn off Yates’ continuity correction\n",
    "chisq.test(bd$Caidor,bd$etnia,correct=F)\n",
    "chisq.test(bd$Caidor,bd$Freq_atividade,correct=F)\n",
    "chisq.test(bd$Caidor,bd$Criterio_AHA,correct=F)\n",
    "chisq.test(bd$Caidor,bd$medicaçao_tipo_cardiovascular,correct=F)\n",
    "chisq.test(bd$Caidor,bd$medicação_tipo_mental,correct=F)"
   ]
  },
  {
   "cell_type": "markdown",
   "metadata": {},
   "source": [
    "## T-test"
   ]
  },
  {
   "cell_type": "code",
   "execution_count": 150,
   "metadata": {},
   "outputs": [
    {
     "data": {
      "text/plain": [
       "\n",
       "\tWelch Two Sample t-test\n",
       "\n",
       "data:  idade by Caidor\n",
       "t = -2.5937, df = 59.368, p-value = 0.01194\n",
       "alternative hypothesis: true difference in means is not equal to 0\n",
       "95 percent confidence interval:\n",
       " -6.7534353 -0.8715647\n",
       "sample estimates:\n",
       "mean in group não mean in group sim \n",
       "         14.14583          17.95833 \n"
      ]
     },
     "metadata": {},
     "output_type": "display_data"
    },
    {
     "data": {
      "text/plain": [
       "\n",
       "\tTwo Sample t-test\n",
       "\n",
       "data:  IMC by Caidor\n",
       "t = 0.10693, df = 70, p-value = 0.9151\n",
       "alternative hypothesis: true difference in means is not equal to 0\n",
       "95 percent confidence interval:\n",
       " -5.516055  6.141055\n",
       "sample estimates:\n",
       "mean in group não mean in group sim \n",
       "         22.39583          22.08333 \n"
      ]
     },
     "metadata": {},
     "output_type": "display_data"
    },
    {
     "data": {
      "text/plain": [
       "\n",
       "\tTwo Sample t-test\n",
       "\n",
       "data:  Nivel_educacional by Caidor\n",
       "t = 0.83355, df = 70, p-value = 0.4074\n",
       "alternative hypothesis: true difference in means is not equal to 0\n",
       "95 percent confidence interval:\n",
       " -0.6383237  1.5549904\n",
       "sample estimates:\n",
       "mean in group não mean in group sim \n",
       "         5.666667          5.208333 \n"
      ]
     },
     "metadata": {},
     "output_type": "display_data"
    },
    {
     "data": {
      "text/plain": [
       "\n",
       "\tTwo Sample t-test\n",
       "\n",
       "data:  Tempo_doença by Caidor\n",
       "t = -1.3915, df = 70, p-value = 0.1685\n",
       "alternative hypothesis: true difference in means is not equal to 0\n",
       "95 percent confidence interval:\n",
       " -4.6637892  0.8304559\n",
       "sample estimates:\n",
       "mean in group não mean in group sim \n",
       "         7.791667          9.708333 \n"
      ]
     },
     "metadata": {},
     "output_type": "display_data"
    },
    {
     "data": {
      "text/plain": [
       "\n",
       "\tTwo Sample t-test\n",
       "\n",
       "data:  quantidade_total_de_medicação by Caidor\n",
       "t = -1.9433, df = 70, p-value = 0.056\n",
       "alternative hypothesis: true difference in means is not equal to 0\n",
       "95 percent confidence interval:\n",
       " -2.1529661  0.0279661\n",
       "sample estimates:\n",
       "mean in group não mean in group sim \n",
       "           4.6875            5.7500 \n"
      ]
     },
     "metadata": {},
     "output_type": "display_data"
    },
    {
     "data": {
      "text/plain": [
       "\n",
       "\tTwo Sample t-test\n",
       "\n",
       "data:  DT_Sec by Caidor\n",
       "t = -3.6391, df = 64, p-value = 0.0005482\n",
       "alternative hypothesis: true difference in means is not equal to 0\n",
       "95 percent confidence interval:\n",
       " -13.027932  -3.793496\n",
       "sample estimates:\n",
       "mean in group não mean in group sim \n",
       "         14.54762          22.95833 \n"
      ]
     },
     "metadata": {},
     "output_type": "display_data"
    }
   ],
   "source": [
    "#variáveis paramétricas \n",
    "#idade, estatura*, IMC, pressão arterial de repouso*, frequência cardíaca de repouso*, escolaridade,\n",
    "#tempo de doença, número de medicamentos, escala geriátrica de depressão*, DT, TLI*, Delta DT* e TSL*\n",
    "\n",
    "#Pvalor<0.05 - há diferença entre os grupos\n",
    "\n",
    "t.test(idade~Caidor,bd,var.equal=F) #pvalor LeveneTest < 0.05\n",
    "t.test(IMC~Caidor,bd,var.equal=T)\n",
    "t.test(Nivel_educacional~Caidor,bd,var.equal=T)\n",
    "t.test(Tempo_doença~Caidor,bd,var.equal=T)\n",
    "t.test(quantidade_total_de_medicação~Caidor,bd,var.equal=T)\n",
    "t.test(DT_Sec~Caidor,bd,var.equal=T)"
   ]
  },
  {
   "cell_type": "markdown",
   "metadata": {},
   "source": [
    "## Mann-Whitney U"
   ]
  },
  {
   "cell_type": "code",
   "execution_count": 155,
   "metadata": {},
   "outputs": [
    {
     "name": "stderr",
     "output_type": "stream",
     "text": [
      "Warning message in wilcox.test.default(x = c(8, 6, 8, 9, 5, 7, 4, 9, 2, 6, 8, 7, :\n",
      "\"cannot compute exact p-value with ties\"\n"
     ]
    },
    {
     "data": {
      "text/plain": [
       "\n",
       "\tWilcoxon rank sum test with continuity correction\n",
       "\n",
       "data:  MMSE by Caidor\n",
       "W = 645.5, p-value = 0.311\n",
       "alternative hypothesis: true location shift is not equal to 0\n"
      ]
     },
     "metadata": {},
     "output_type": "display_data"
    },
    {
     "name": "stderr",
     "output_type": "stream",
     "text": [
      "Warning message in wilcox.test.default(x = c(4, 43, 25, 46, 28, 27, 42, 30, 20, :\n",
      "\"cannot compute exact p-value with ties\"\n"
     ]
    },
    {
     "data": {
      "text/plain": [
       "\n",
       "\tWilcoxon rank sum test with continuity correction\n",
       "\n",
       "data:  Trilhas_A by Caidor\n",
       "W = 453, p-value = 0.179\n",
       "alternative hypothesis: true location shift is not equal to 0\n"
      ]
     },
     "metadata": {},
     "output_type": "display_data"
    }
   ],
   "source": [
    "#variáveis não paramétricas\n",
    "#Palavras DT*, MEEM, Trilhas A, Intervalo RR*, SDNN*, rMSSD*, VLF*, LF*, HF*, LF/HF* e Total*\n",
    "\n",
    "#Pvalue>0.05 - identical populations\n",
    "\n",
    "wilcox.test(MMSE ~ Caidor, data=bd)\n",
    "wilcox.test(Trilhas_A ~ Caidor, data=bd)"
   ]
  },
  {
   "cell_type": "markdown",
   "metadata": {},
   "source": [
    "# Dividindo em amostra de treino e teste (*dataset sem NA*) - *n muito pequeno*"
   ]
  },
  {
   "cell_type": "code",
   "execution_count": 64,
   "metadata": {},
   "outputs": [
    {
     "data": {
      "text/plain": [
       "\n",
       "não sim \n",
       " 24  14 "
      ]
     },
     "metadata": {},
     "output_type": "display_data"
    },
    {
     "data": {
      "text/plain": [
       "\n",
       "não sim \n",
       "  9   5 "
      ]
     },
     "metadata": {},
     "output_type": "display_data"
    }
   ],
   "source": [
    "#install.packages(\"caret\")\n",
    "require(caret)\n",
    "set.seed(1)\n",
    "train<- createDataPartition(BD$Caidor,p=0.7,list=F)\n",
    "data_train<- BD[train,]\n",
    "data_test<- BD[-train,]\n",
    "table(data_train$Caidor) #(24 não e 14 sim) \n",
    "table(data_test$Caidor) #(9 não e 5 sim)"
   ]
  },
  {
   "cell_type": "markdown",
   "metadata": {},
   "source": [
    "## RF a partir do RFE-RF"
   ]
  },
  {
   "cell_type": "markdown",
   "metadata": {},
   "source": [
    "# RFE-RF (*amostra de treino e de teste*) - *n muito pequeno*"
   ]
  },
  {
   "cell_type": "code",
   "execution_count": 67,
   "metadata": {},
   "outputs": [
    {
     "name": "stdout",
     "output_type": "stream",
     "text": [
      "\n",
      "Recursive feature selection\n",
      "\n",
      "Outer resampling method: Cross-Validated (5 fold) \n",
      "\n",
      "Resampling performance over subset size:\n",
      "\n",
      " Variables Accuracy  Kappa AccuracySD KappaSD Selected\n",
      "         2   0.6357 0.2432    0.13399  0.2851         \n",
      "         3   0.5821 0.0490    0.09070  0.2485         \n",
      "         4   0.6357 0.1594    0.08803  0.1835         \n",
      "         5   0.6607 0.2027    0.10102  0.2299         \n",
      "         6   0.7107 0.3013    0.10211  0.2845         \n",
      "         7   0.6821 0.2542    0.11939  0.3570         \n",
      "         8   0.6821 0.2542    0.11939  0.3570         \n",
      "         9   0.7107 0.3613    0.10211  0.2318         \n",
      "        10   0.6821 0.2542    0.11939  0.3570         \n",
      "        11   0.6821 0.2542    0.11939  0.3570         \n",
      "        12   0.6821 0.2542    0.11939  0.3570         \n",
      "        13   0.7107 0.3613    0.10211  0.2318         \n",
      "        14   0.6821 0.2542    0.11939  0.3570         \n",
      "        15   0.6571 0.1976    0.07297  0.2707         \n",
      "        16   0.6857 0.3046    0.05731  0.1214         \n",
      "        17   0.6571 0.1976    0.07297  0.2707         \n",
      "        18   0.6571 0.1976    0.07297  0.2707         \n",
      "        19   0.6571 0.1976    0.07297  0.2707         \n",
      "        20   0.6571 0.1976    0.07297  0.2707         \n",
      "        21   0.7107 0.3613    0.10211  0.2318         \n",
      "        22   0.6821 0.2542    0.11939  0.3570         \n",
      "        23   0.6821 0.2542    0.11939  0.3570         \n",
      "        24   0.6571 0.1976    0.07297  0.2707         \n",
      "        25   0.6857 0.3046    0.05731  0.1214         \n",
      "        26   0.6571 0.1976    0.07297  0.2707         \n",
      "        27   0.6857 0.3046    0.05731  0.1214         \n",
      "        28   0.7143 0.3623    0.09699  0.1751         \n",
      "        29   0.6571 0.1976    0.07297  0.2707         \n",
      "        30   0.7143 0.3623    0.09699  0.1751         \n",
      "        31   0.6857 0.2446    0.05731  0.1828         \n",
      "        32   0.7107 0.3613    0.10211  0.2318         \n",
      "        33   0.7143 0.3623    0.09699  0.1751         \n",
      "        34   0.6857 0.2446    0.05731  0.1828         \n",
      "        35   0.7393 0.4106    0.08338  0.1259         \n",
      "        36   0.7393 0.4189    0.12151  0.2480        *\n",
      "        37   0.7393 0.4189    0.12151  0.2480         \n",
      "        38   0.7143 0.3623    0.09699  0.1751         \n",
      "        39   0.7143 0.3623    0.09699  0.1751         \n",
      "\n",
      "The top 5 variables (out of 36):\n",
      "   Vo2_maximo_avaliado, FES_I, medicaçao_tipo_cardiovascular, Diuretico_classif, Berg\n",
      "\n"
     ]
    },
    {
     "data": {
      "text/html": [
       "<style>\n",
       ".list-inline {list-style: none; margin:0; padding: 0}\n",
       ".list-inline>li {display: inline-block}\n",
       ".list-inline>li:not(:last-child)::after {content: \"\\00b7\"; padding: 0 .5ex}\n",
       "</style>\n",
       "<ol class=list-inline><li>'Vo2_maximo_avaliado'</li><li>'FES_I'</li><li>'medicaçao_tipo_cardiovascular'</li><li>'Diuretico_classif'</li><li>'Berg'</li><li>'STS'</li><li>'DT_Sec'</li><li>'Trilhas_b'</li><li>'idade'</li><li>'medicação_tipo_saude'</li><li>'Anticoagulante_classif'</li><li>'HAS'</li><li>'TUG_sec'</li><li>'Nivel_social'</li><li>'MMSE'</li><li>'Criterio_AHA'</li><li>'Anti_hipertensivo'</li><li>'Vsaq'</li><li>'DT_numero_animais'</li><li>'quantidade_total_de_medicação'</li><li>'medicação_tipo_mental'</li><li>'betabloqueador'</li><li>'Fluencia_verbal'</li><li>'Tempo_doença'</li><li>'Dinamometria'</li><li>'Trilhas_A'</li><li>'Doenca_Respi'</li><li>'DVC_primaria'</li><li>'IMC'</li><li>'benzodiazepinico'</li><li>'Genero'</li><li>'Flexibilidade_Ms'</li><li>'ansiolitico'</li><li>'antidepressivo'</li><li>'Freq_atividade'</li><li>'Flexibilidade_MI'</li></ol>\n"
      ],
      "text/latex": [
       "\\begin{enumerate*}\n",
       "\\item 'Vo2\\_maximo\\_avaliado'\n",
       "\\item 'FES\\_I'\n",
       "\\item 'medicaçao\\_tipo\\_cardiovascular'\n",
       "\\item 'Diuretico\\_classif'\n",
       "\\item 'Berg'\n",
       "\\item 'STS'\n",
       "\\item 'DT\\_Sec'\n",
       "\\item 'Trilhas\\_b'\n",
       "\\item 'idade'\n",
       "\\item 'medicação\\_tipo\\_saude'\n",
       "\\item 'Anticoagulante\\_classif'\n",
       "\\item 'HAS'\n",
       "\\item 'TUG\\_sec'\n",
       "\\item 'Nivel\\_social'\n",
       "\\item 'MMSE'\n",
       "\\item 'Criterio\\_AHA'\n",
       "\\item 'Anti\\_hipertensivo'\n",
       "\\item 'Vsaq'\n",
       "\\item 'DT\\_numero\\_animais'\n",
       "\\item 'quantidade\\_total\\_de\\_medicação'\n",
       "\\item 'medicação\\_tipo\\_mental'\n",
       "\\item 'betabloqueador'\n",
       "\\item 'Fluencia\\_verbal'\n",
       "\\item 'Tempo\\_doença'\n",
       "\\item 'Dinamometria'\n",
       "\\item 'Trilhas\\_A'\n",
       "\\item 'Doenca\\_Respi'\n",
       "\\item 'DVC\\_primaria'\n",
       "\\item 'IMC'\n",
       "\\item 'benzodiazepinico'\n",
       "\\item 'Genero'\n",
       "\\item 'Flexibilidade\\_Ms'\n",
       "\\item 'ansiolitico'\n",
       "\\item 'antidepressivo'\n",
       "\\item 'Freq\\_atividade'\n",
       "\\item 'Flexibilidade\\_MI'\n",
       "\\end{enumerate*}\n"
      ],
      "text/markdown": [
       "1. 'Vo2_maximo_avaliado'\n",
       "2. 'FES_I'\n",
       "3. 'medicaçao_tipo_cardiovascular'\n",
       "4. 'Diuretico_classif'\n",
       "5. 'Berg'\n",
       "6. 'STS'\n",
       "7. 'DT_Sec'\n",
       "8. 'Trilhas_b'\n",
       "9. 'idade'\n",
       "10. 'medicação_tipo_saude'\n",
       "11. 'Anticoagulante_classif'\n",
       "12. 'HAS'\n",
       "13. 'TUG_sec'\n",
       "14. 'Nivel_social'\n",
       "15. 'MMSE'\n",
       "16. 'Criterio_AHA'\n",
       "17. 'Anti_hipertensivo'\n",
       "18. 'Vsaq'\n",
       "19. 'DT_numero_animais'\n",
       "20. 'quantidade_total_de_medicação'\n",
       "21. 'medicação_tipo_mental'\n",
       "22. 'betabloqueador'\n",
       "23. 'Fluencia_verbal'\n",
       "24. 'Tempo_doença'\n",
       "25. 'Dinamometria'\n",
       "26. 'Trilhas_A'\n",
       "27. 'Doenca_Respi'\n",
       "28. 'DVC_primaria'\n",
       "29. 'IMC'\n",
       "30. 'benzodiazepinico'\n",
       "31. 'Genero'\n",
       "32. 'Flexibilidade_Ms'\n",
       "33. 'ansiolitico'\n",
       "34. 'antidepressivo'\n",
       "35. 'Freq_atividade'\n",
       "36. 'Flexibilidade_MI'\n",
       "\n",
       "\n"
      ],
      "text/plain": [
       " [1] \"Vo2_maximo_avaliado\"           \"FES_I\"                        \n",
       " [3] \"medicaçao_tipo_cardiovascular\" \"Diuretico_classif\"            \n",
       " [5] \"Berg\"                          \"STS\"                          \n",
       " [7] \"DT_Sec\"                        \"Trilhas_b\"                    \n",
       " [9] \"idade\"                         \"medicação_tipo_saude\"         \n",
       "[11] \"Anticoagulante_classif\"        \"HAS\"                          \n",
       "[13] \"TUG_sec\"                       \"Nivel_social\"                 \n",
       "[15] \"MMSE\"                          \"Criterio_AHA\"                 \n",
       "[17] \"Anti_hipertensivo\"             \"Vsaq\"                         \n",
       "[19] \"DT_numero_animais\"             \"quantidade_total_de_medicação\"\n",
       "[21] \"medicação_tipo_mental\"         \"betabloqueador\"               \n",
       "[23] \"Fluencia_verbal\"               \"Tempo_doença\"                 \n",
       "[25] \"Dinamometria\"                  \"Trilhas_A\"                    \n",
       "[27] \"Doenca_Respi\"                  \"DVC_primaria\"                 \n",
       "[29] \"IMC\"                           \"benzodiazepinico\"             \n",
       "[31] \"Genero\"                        \"Flexibilidade_Ms\"             \n",
       "[33] \"ansiolitico\"                   \"antidepressivo\"               \n",
       "[35] \"Freq_atividade\"                \"Flexibilidade_MI\"             "
      ]
     },
     "metadata": {},
     "output_type": "display_data"
    },
    {
     "data": {
      "image/png": "[encoded data removed]",
      "text/plain": [
       "plot without title"
      ]
     },
     "metadata": {
      "image/png": {
       "height": 420,
       "width": 420
      }
     },
     "output_type": "display_data"
    }
   ],
   "source": [
    "#define the control using a random forest selection function\n",
    "#install.packages(\"caret\")\n",
    "#require(caret)\n",
    "#install.packages(\"e1071\")\n",
    "require(e1071)\n",
    "#install.packages(\"randomForest\")\n",
    "require(randomForest)\n",
    "set.seed(1)\n",
    "control2 <- rfeControl(functions=rfFuncs, method=\"cv\", number=5)\n",
    "set.seed(2)\n",
    "results2 <- rfe(data_train[,2:40], data_train[[1]], sizes=c(2:40),rfeControl=control2,metric=\"Kappa\") \n",
    "print(results2) \n",
    "#list the chosen features\n",
    "predictors(results2) \n",
    "#plot the results\n",
    "plot(results2, type=c(\"g\", \"o\"),main=\"RFE using Random Forest\")"
   ]
  },
  {
   "cell_type": "markdown",
   "metadata": {},
   "source": [
    "## RF a partir do subset definido pelo RFE-RF"
   ]
  },
  {
   "cell_type": "code",
   "execution_count": 91,
   "metadata": {},
   "outputs": [
    {
     "data": {
      "text/html": [
       "37"
      ],
      "text/latex": [
       "37"
      ],
      "text/markdown": [
       "37"
      ],
      "text/plain": [
       "[1] 37"
      ]
     },
     "metadata": {},
     "output_type": "display_data"
    }
   ],
   "source": [
    "subset_rfe<- as.vector(predictors(results2))\n",
    "subset_rfe<- c(\"Caidor\",subset_rfe)\n",
    "length(subset_rfe)"
   ]
  },
  {
   "cell_type": "code",
   "execution_count": 92,
   "metadata": {},
   "outputs": [
    {
     "data": {
      "text/html": [
       "<table class=\"dataframe\">\n",
       "<caption>A tibble: 6 × 37</caption>\n",
       "<thead>\n",
       "\t<tr><th scope=col>Caidor</th><th scope=col>Vo2_maximo_avaliado</th><th scope=col>FES_I</th><th scope=col>medicaçao_tipo_cardiovascular</th><th scope=col>Diuretico_classif</th><th scope=col>Berg</th><th scope=col>STS</th><th scope=col>DT_Sec</th><th scope=col>Trilhas_b</th><th scope=col>idade</th><th scope=col>...</th><th scope=col>Doenca_Respi</th><th scope=col>DVC_primaria</th><th scope=col>IMC</th><th scope=col>benzodiazepinico</th><th scope=col>Genero</th><th scope=col>Flexibilidade_Ms</th><th scope=col>ansiolitico</th><th scope=col>antidepressivo</th><th scope=col>Freq_atividade</th><th scope=col>Flexibilidade_MI</th></tr>\n",
       "\t<tr><th scope=col>&lt;fct&gt;</th><th scope=col>&lt;dbl&gt;</th><th scope=col>&lt;dbl&gt;</th><th scope=col>&lt;fct&gt;</th><th scope=col>&lt;fct&gt;</th><th scope=col>&lt;dbl&gt;</th><th scope=col>&lt;dbl&gt;</th><th scope=col>&lt;dbl&gt;</th><th scope=col>&lt;dbl&gt;</th><th scope=col>&lt;dbl&gt;</th><th scope=col>...</th><th scope=col>&lt;fct&gt;</th><th scope=col>&lt;fct&gt;</th><th scope=col>&lt;dbl&gt;</th><th scope=col>&lt;fct&gt;</th><th scope=col>&lt;fct&gt;</th><th scope=col>&lt;dbl&gt;</th><th scope=col>&lt;fct&gt;</th><th scope=col>&lt;fct&gt;</th><th scope=col>&lt;fct&gt;</th><th scope=col>&lt;dbl&gt;</th></tr>\n",
       "</thead>\n",
       "<tbody>\n",
       "\t<tr><td>sim</td><td>20</td><td>10</td><td>Beta + Anti_Coag      </td><td>não</td><td>11</td><td>2</td><td>26</td><td>11</td><td>17</td><td>...</td><td>sim</td><td>insuficiencia</td><td>26</td><td>sim</td><td>mulher</td><td> 5</td><td>não</td><td>não</td><td>3x        </td><td> 2</td></tr>\n",
       "\t<tr><td>não</td><td> 3</td><td> 4</td><td>Beta + Anti_Coag      </td><td>não</td><td>11</td><td>4</td><td>22</td><td>43</td><td>16</td><td>...</td><td>não</td><td>insuficiencia</td><td>39</td><td>sim</td><td>mulher</td><td>21</td><td>não</td><td>sim</td><td>2x        </td><td>10</td></tr>\n",
       "\t<tr><td>sim</td><td> 5</td><td> 1</td><td>Beta + Anti_Coag + Diu</td><td>sim</td><td> 9</td><td>6</td><td>32</td><td>29</td><td>24</td><td>...</td><td>não</td><td>arritmia     </td><td>33</td><td>sim</td><td>mulher</td><td>10</td><td>não</td><td>não</td><td>sedentario</td><td>16</td></tr>\n",
       "\t<tr><td>sim</td><td>25</td><td> 6</td><td>Beta                  </td><td>não</td><td>11</td><td>3</td><td>27</td><td>30</td><td>24</td><td>...</td><td>não</td><td>arritmia     </td><td> 6</td><td>sim</td><td>mulher</td><td>22</td><td>não</td><td>não</td><td>3x        </td><td>15</td></tr>\n",
       "\t<tr><td>não</td><td> 7</td><td> 1</td><td>Beta                  </td><td>não</td><td>12</td><td>5</td><td>23</td><td>34</td><td>23</td><td>...</td><td>não</td><td>arritmia     </td><td>25</td><td>não</td><td>mulher</td><td>20</td><td>não</td><td>não</td><td>2x        </td><td>18</td></tr>\n",
       "\t<tr><td>sim</td><td> 4</td><td> 8</td><td>Beta + Anti_Coag + Diu</td><td>sim</td><td> 8</td><td>5</td><td>23</td><td>40</td><td>16</td><td>...</td><td>não</td><td>infarto      </td><td>12</td><td>sim</td><td>homem </td><td>17</td><td>sim</td><td>sim</td><td>2x        </td><td> 4</td></tr>\n",
       "</tbody>\n",
       "</table>\n"
      ],
      "text/latex": [
       "A tibble: 6 × 37\n",
       "\\begin{tabular}{lllllllllllllllllllll}\n",
       " Caidor & Vo2\\_maximo\\_avaliado & FES\\_I & medicaçao\\_tipo\\_cardiovascular & Diuretico\\_classif & Berg & STS & DT\\_Sec & Trilhas\\_b & idade & ... & Doenca\\_Respi & DVC\\_primaria & IMC & benzodiazepinico & Genero & Flexibilidade\\_Ms & ansiolitico & antidepressivo & Freq\\_atividade & Flexibilidade\\_MI\\\\\n",
       " <fct> & <dbl> & <dbl> & <fct> & <fct> & <dbl> & <dbl> & <dbl> & <dbl> & <dbl> & ... & <fct> & <fct> & <dbl> & <fct> & <fct> & <dbl> & <fct> & <fct> & <fct> & <dbl>\\\\\n",
       "\\hline\n",
       "\t sim & 20 & 10 & Beta + Anti\\_Coag       & não & 11 & 2 & 26 & 11 & 17 & ... & sim & insuficiencia & 26 & sim & mulher &  5 & não & não & 3x         &  2\\\\\n",
       "\t não &  3 &  4 & Beta + Anti\\_Coag       & não & 11 & 4 & 22 & 43 & 16 & ... & não & insuficiencia & 39 & sim & mulher & 21 & não & sim & 2x         & 10\\\\\n",
       "\t sim &  5 &  1 & Beta + Anti\\_Coag + Diu & sim &  9 & 6 & 32 & 29 & 24 & ... & não & arritmia      & 33 & sim & mulher & 10 & não & não & sedentario & 16\\\\\n",
       "\t sim & 25 &  6 & Beta                   & não & 11 & 3 & 27 & 30 & 24 & ... & não & arritmia      &  6 & sim & mulher & 22 & não & não & 3x         & 15\\\\\n",
       "\t não &  7 &  1 & Beta                   & não & 12 & 5 & 23 & 34 & 23 & ... & não & arritmia      & 25 & não & mulher & 20 & não & não & 2x         & 18\\\\\n",
       "\t sim &  4 &  8 & Beta + Anti\\_Coag + Diu & sim &  8 & 5 & 23 & 40 & 16 & ... & não & infarto       & 12 & sim & homem  & 17 & sim & sim & 2x         &  4\\\\\n",
       "\\end{tabular}\n"
      ],
      "text/markdown": [
       "\n",
       "A tibble: 6 × 37\n",
       "\n",
       "| Caidor &lt;fct&gt; | Vo2_maximo_avaliado &lt;dbl&gt; | FES_I &lt;dbl&gt; | medicaçao_tipo_cardiovascular &lt;fct&gt; | Diuretico_classif &lt;fct&gt; | Berg &lt;dbl&gt; | STS &lt;dbl&gt; | DT_Sec &lt;dbl&gt; | Trilhas_b &lt;dbl&gt; | idade &lt;dbl&gt; | ... ... | Doenca_Respi &lt;fct&gt; | DVC_primaria &lt;fct&gt; | IMC &lt;dbl&gt; | benzodiazepinico &lt;fct&gt; | Genero &lt;fct&gt; | Flexibilidade_Ms &lt;dbl&gt; | ansiolitico &lt;fct&gt; | antidepressivo &lt;fct&gt; | Freq_atividade &lt;fct&gt; | Flexibilidade_MI &lt;dbl&gt; |\n",
       "|---|---|---|---|---|---|---|---|---|---|---|---|---|---|---|---|---|---|---|---|---|\n",
       "| sim | 20 | 10 | Beta + Anti_Coag       | não | 11 | 2 | 26 | 11 | 17 | ... | sim | insuficiencia | 26 | sim | mulher |  5 | não | não | 3x         |  2 |\n",
       "| não |  3 |  4 | Beta + Anti_Coag       | não | 11 | 4 | 22 | 43 | 16 | ... | não | insuficiencia | 39 | sim | mulher | 21 | não | sim | 2x         | 10 |\n",
       "| sim |  5 |  1 | Beta + Anti_Coag + Diu | sim |  9 | 6 | 32 | 29 | 24 | ... | não | arritmia      | 33 | sim | mulher | 10 | não | não | sedentario | 16 |\n",
       "| sim | 25 |  6 | Beta                   | não | 11 | 3 | 27 | 30 | 24 | ... | não | arritmia      |  6 | sim | mulher | 22 | não | não | 3x         | 15 |\n",
       "| não |  7 |  1 | Beta                   | não | 12 | 5 | 23 | 34 | 23 | ... | não | arritmia      | 25 | não | mulher | 20 | não | não | 2x         | 18 |\n",
       "| sim |  4 |  8 | Beta + Anti_Coag + Diu | sim |  8 | 5 | 23 | 40 | 16 | ... | não | infarto       | 12 | sim | homem  | 17 | sim | sim | 2x         |  4 |\n",
       "\n"
      ],
      "text/plain": [
       "  Caidor Vo2_maximo_avaliado FES_I medicaçao_tipo_cardiovascular\n",
       "1 sim    20                  10    Beta + Anti_Coag             \n",
       "2 não     3                   4    Beta + Anti_Coag             \n",
       "3 sim     5                   1    Beta + Anti_Coag + Diu       \n",
       "4 sim    25                   6    Beta                         \n",
       "5 não     7                   1    Beta                         \n",
       "6 sim     4                   8    Beta + Anti_Coag + Diu       \n",
       "  Diuretico_classif Berg STS DT_Sec Trilhas_b idade ... Doenca_Respi\n",
       "1 não               11   2   26     11        17    ... sim         \n",
       "2 não               11   4   22     43        16    ... não         \n",
       "3 sim                9   6   32     29        24    ... não         \n",
       "4 não               11   3   27     30        24    ... não         \n",
       "5 não               12   5   23     34        23    ... não         \n",
       "6 sim                8   5   23     40        16    ... não         \n",
       "  DVC_primaria  IMC benzodiazepinico Genero Flexibilidade_Ms ansiolitico\n",
       "1 insuficiencia 26  sim              mulher  5               não        \n",
       "2 insuficiencia 39  sim              mulher 21               não        \n",
       "3 arritmia      33  sim              mulher 10               não        \n",
       "4 arritmia       6  sim              mulher 22               não        \n",
       "5 arritmia      25  não              mulher 20               não        \n",
       "6 infarto       12  sim              homem  17               sim        \n",
       "  antidepressivo Freq_atividade Flexibilidade_MI\n",
       "1 não            3x              2              \n",
       "2 sim            2x             10              \n",
       "3 não            sedentario     16              \n",
       "4 não            3x             15              \n",
       "5 não            2x             18              \n",
       "6 sim            2x              4              "
      ]
     },
     "metadata": {},
     "output_type": "display_data"
    },
    {
     "data": {
      "text/plain": [
       "Random Forest \n",
       "\n",
       "38 samples\n",
       "36 predictors\n",
       " 2 classes: 'não', 'sim' \n",
       "\n",
       "No pre-processing\n",
       "Resampling: Cross-Validated (5 fold) \n",
       "Summary of sample sizes: 31, 30, 31, 30, 30 \n",
       "Resampling results across tuning parameters:\n",
       "\n",
       "  mtry  Accuracy   Kappa    \n",
       "   2    0.6607143  0.1899865\n",
       "  27    0.6321429  0.1346505\n",
       "  52    0.6285714  0.1274757\n",
       "\n",
       "Kappa was used to select the optimal model using the largest value.\n",
       "The final value used for the model was mtry = 2."
      ]
     },
     "metadata": {},
     "output_type": "display_data"
    },
    {
     "data": {
      "text/plain": [
       "\n",
       "Call:\n",
       " randomForest(x = x, y = y, mtry = min(param$mtry, ncol(x))) \n",
       "               Type of random forest: classification\n",
       "                     Number of trees: 500\n",
       "No. of variables tried at each split: 2\n",
       "\n",
       "        OOB estimate of  error rate: 31.58%\n",
       "Confusion matrix:\n",
       "    não sim class.error\n",
       "não  21   3   0.1250000\n",
       "sim   9   5   0.6428571"
      ]
     },
     "metadata": {},
     "output_type": "display_data"
    },
    {
     "data": {
      "text/plain": [
       "rf variable importance\n",
       "\n",
       "  only 20 most important variables shown (out of 52)\n",
       "\n",
       "                                                    Overall\n",
       "STS                                                  100.00\n",
       "Vo2_maximo_avaliado                                   95.44\n",
       "Trilhas_b                                             89.93\n",
       "FES_I                                                 89.62\n",
       "Berg                                                  86.73\n",
       "medicaçao_tipo_cardiovascularBeta + Anti_Coag + Diu   74.26\n",
       "DT_Sec                                                73.74\n",
       "idade                                                 65.16\n",
       "Dinamometria                                          63.43\n",
       "IMC                                                   60.93\n",
       "TUG_sec                                               59.19\n",
       "Tempo_doença                                          58.54\n",
       "Flexibilidade_Ms                                      55.27\n",
       "DT_numero_animais                                     51.11\n",
       "Criterio_AHAc                                         50.06\n",
       "Vsaq                                                  49.73\n",
       "Trilhas_A                                             49.33\n",
       "MMSE                                                  46.56\n",
       "Fluencia_verbal                                       41.68\n",
       "Flexibilidade_MI                                      41.50"
      ]
     },
     "metadata": {},
     "output_type": "display_data"
    },
    {
     "data": {
      "image/png": "[encoded data removed]",
      "text/plain": [
       "plot without title"
      ]
     },
     "metadata": {
      "image/png": {
       "height": 420,
       "width": 420
      }
     },
     "output_type": "display_data"
    },
    {
     "data": {
      "image/png": "[encoded data removed]",
      "text/plain": [
       "plot without title"
      ]
     },
     "metadata": {
      "image/png": {
       "height": 420,
       "width": 420
      }
     },
     "output_type": "display_data"
    }
   ],
   "source": [
    "\n",
    "data_train_RFE_RF<- data_train[,subset_rfe]\n",
    "data_test_RFE_RF<- data_test[,subset_rfe]\n",
    "head(data_train_RFE_RF)\n",
    "set.seed(3)\n",
    "RFmodel2=train(Caidor~.,data=data_train_RFE_RF,method='rf',metric=ifelse(is.factor(data_train_RFE_RF$Caidor),\"Kappa\",\"RMSE\"),trControl=trainControl(method='cv',number=5,savePredictions=TRUE))\n",
    "RFmodel2\n",
    "plot(RFmodel2)\n",
    "RFmodel2$finalModel \n",
    "varImp(RFmodel2)\n",
    "plot(varImp(RFmodel2),main=\"Variables Importance - Random Forest\")"
   ]
  },
  {
   "cell_type": "code",
   "execution_count": 94,
   "metadata": {},
   "outputs": [
    {
     "data": {
      "text/plain": [
       "Confusion Matrix and Statistics\n",
       "\n",
       "     RF_prediction\n",
       "      não sim\n",
       "  não   8   1\n",
       "  sim   4   1\n",
       "                                          \n",
       "               Accuracy : 0.6429          \n",
       "                 95% CI : (0.3514, 0.8724)\n",
       "    No Information Rate : 0.8571          \n",
       "    P-Value [Acc > NIR] : 0.9909          \n",
       "                                          \n",
       "                  Kappa : 0.1026          \n",
       "                                          \n",
       " Mcnemar's Test P-Value : 0.3711          \n",
       "                                          \n",
       "            Sensitivity : 0.6667          \n",
       "            Specificity : 0.5000          \n",
       "         Pos Pred Value : 0.8889          \n",
       "         Neg Pred Value : 0.2000          \n",
       "             Prevalence : 0.8571          \n",
       "         Detection Rate : 0.5714          \n",
       "   Detection Prevalence : 0.6429          \n",
       "      Balanced Accuracy : 0.5833          \n",
       "                                          \n",
       "       'Positive' Class : não             \n",
       "                                          "
      ]
     },
     "metadata": {},
     "output_type": "display_data"
    },
    {
     "data": {
      "text/html": [
       "<style>\n",
       ".dl-inline {width: auto; margin:0; padding: 0}\n",
       ".dl-inline>dt, .dl-inline>dd {float: none; width: auto; display: inline-block}\n",
       ".dl-inline>dt::after {content: \":\\0020\"; padding-right: .5ex}\n",
       ".dl-inline>dt:not(:first-of-type) {padding-left: .5ex}\n",
       "</style><dl class=dl-inline><dt>Sensitivity</dt><dd>0.666666666666667</dd><dt>Specificity</dt><dd>0.5</dd><dt>Pos Pred Value</dt><dd>0.888888888888889</dd><dt>Neg Pred Value</dt><dd>0.2</dd><dt>Precision</dt><dd>0.888888888888889</dd><dt>Recall</dt><dd>0.666666666666667</dd><dt>F1</dt><dd>0.761904761904762</dd><dt>Prevalence</dt><dd>0.857142857142857</dd><dt>Detection Rate</dt><dd>0.571428571428571</dd><dt>Detection Prevalence</dt><dd>0.642857142857143</dd><dt>Balanced Accuracy</dt><dd>0.583333333333333</dd></dl>\n"
      ],
      "text/latex": [
       "\\begin{description*}\n",
       "\\item[Sensitivity] 0.666666666666667\n",
       "\\item[Specificity] 0.5\n",
       "\\item[Pos Pred Value] 0.888888888888889\n",
       "\\item[Neg Pred Value] 0.2\n",
       "\\item[Precision] 0.888888888888889\n",
       "\\item[Recall] 0.666666666666667\n",
       "\\item[F1] 0.761904761904762\n",
       "\\item[Prevalence] 0.857142857142857\n",
       "\\item[Detection Rate] 0.571428571428571\n",
       "\\item[Detection Prevalence] 0.642857142857143\n",
       "\\item[Balanced Accuracy] 0.583333333333333\n",
       "\\end{description*}\n"
      ],
      "text/markdown": [
       "Sensitivity\n",
       ":   0.666666666666667Specificity\n",
       ":   0.5Pos Pred Value\n",
       ":   0.888888888888889Neg Pred Value\n",
       ":   0.2Precision\n",
       ":   0.888888888888889Recall\n",
       ":   0.666666666666667F1\n",
       ":   0.761904761904762Prevalence\n",
       ":   0.857142857142857Detection Rate\n",
       ":   0.571428571428571Detection Prevalence\n",
       ":   0.642857142857143Balanced Accuracy\n",
       ":   0.583333333333333\n",
       "\n"
      ],
      "text/plain": [
       "         Sensitivity          Specificity       Pos Pred Value \n",
       "           0.6666667            0.5000000            0.8888889 \n",
       "      Neg Pred Value            Precision               Recall \n",
       "           0.2000000            0.8888889            0.6666667 \n",
       "                  F1           Prevalence       Detection Rate \n",
       "           0.7619048            0.8571429            0.5714286 \n",
       "Detection Prevalence    Balanced Accuracy \n",
       "           0.6428571            0.5833333 "
      ]
     },
     "metadata": {},
     "output_type": "display_data"
    },
    {
     "data": {
      "text/plain": [
       "rf variable importance\n",
       "\n",
       "  only 20 most important variables shown (out of 52)\n",
       "\n",
       "                                                    Overall\n",
       "STS                                                  100.00\n",
       "Vo2_maximo_avaliado                                   95.44\n",
       "Trilhas_b                                             89.93\n",
       "FES_I                                                 89.62\n",
       "Berg                                                  86.73\n",
       "medicaçao_tipo_cardiovascularBeta + Anti_Coag + Diu   74.26\n",
       "DT_Sec                                                73.74\n",
       "idade                                                 65.16\n",
       "Dinamometria                                          63.43\n",
       "IMC                                                   60.93\n",
       "TUG_sec                                               59.19\n",
       "Tempo_doença                                          58.54\n",
       "Flexibilidade_Ms                                      55.27\n",
       "DT_numero_animais                                     51.11\n",
       "Criterio_AHAc                                         50.06\n",
       "Vsaq                                                  49.73\n",
       "Trilhas_A                                             49.33\n",
       "MMSE                                                  46.56\n",
       "Fluencia_verbal                                       41.68\n",
       "Flexibilidade_MI                                      41.50"
      ]
     },
     "metadata": {},
     "output_type": "display_data"
    },
    {
     "data": {
      "image/png": "[encoded data removed]",
      "text/plain": [
       "plot without title"
      ]
     },
     "metadata": {
      "image/png": {
       "height": 420,
       "width": 420
      }
     },
     "output_type": "display_data"
    }
   ],
   "source": [
    "RF_prediction<- predict(RFmodel2,data_test_RFE_RF)\n",
    "confusionMatrix(table(data_test_RFE_RF$Caidor,RF_prediction)) \n",
    "confusionMatrix(table(data_test_RFE_RF$Caidor,RF_prediction))$byClass \n",
    "varImp(RFmodel2)\n",
    "plot(varImp(RFmodel2),main=\"Variables Importance - Random Forest\")"
   ]
  },
  {
   "cell_type": "markdown",
   "metadata": {},
   "source": [
    "# Definição do melhor threshold (*mudar a estratégia para o f-beta*)"
   ]
  },
  {
   "cell_type": "code",
   "execution_count": 95,
   "metadata": {},
   "outputs": [],
   "source": [
    "f1 <- function(ths){\n",
    "    \n",
    "  diff <- abs(ths$Sensitivity - ths$Specificity)\n",
    "  indexOfMin = match(min(diff), diff)\n",
    "  return(ths[indexOfMin, \"prob_threshold\"])\n",
    "}\n",
    "\n",
    "f2 <- function(ths){\n",
    "    desv <- function(x){\n",
    "      sd(c(unname(x[\"Sensitivity\"]), unname(x[\"Specificity\"])))\n",
    "    }\n",
    "    avg <- (ths$Sensitivity + ths$Specificity)/2\n",
    "    deviation <- apply(ths, desv, MARGIN=1)\n",
    "    metric <- avg - deviation\n",
    "    indexOfMin = match(max(metric), metric)\n",
    "    return(ths[indexOfMin, \"prob_threshold\"])\n",
    "}"
   ]
  },
  {
   "cell_type": "code",
   "execution_count": 106,
   "metadata": {},
   "outputs": [],
   "source": [
    "install.packages(\"here\")\n",
    "require(here)\n",
    "#source(here('Modules','modules.R'))\n",
    "#set.seed(2)\n",
    "#model <- fit_model_thresholder(\n",
    " #   model_method=\"rf\",\n",
    "  #  model_metric=\"Kappa\",\n",
    "   # trControl_func = trainControl(method = \"cv\", search=\"grid\",  classProbs=TRUE, savePredictions=TRUE),\n",
    "    #train_data = data_train_RFE_RF,\n",
    "    #test_data=data_test_RFE_RF,\n",
    "    #yname=\"Caidor\",\n",
    "    #length = 15,\n",
    "    #best_th = f2)\n",
    "\n",
    "#print(model$matrix)"
   ]
  },
  {
   "cell_type": "markdown",
   "metadata": {},
   "source": [
    "# RFE-RF (*sem dividir em amostra de treino e de teste*)"
   ]
  },
  {
   "cell_type": "code",
   "execution_count": 159,
   "metadata": {},
   "outputs": [
    {
     "name": "stdout",
     "output_type": "stream",
     "text": [
      "\n",
      "Recursive feature selection\n",
      "\n",
      "Outer resampling method: Cross-Validated (5 fold) \n",
      "\n",
      "Resampling performance over subset size:\n",
      "\n",
      " Variables Accuracy  Kappa AccuracySD KappaSD Selected\n",
      "         2   0.6897 0.2919    0.08565 0.20655         \n",
      "         3   0.7075 0.3482    0.09058 0.20640         \n",
      "         4   0.6915 0.2935    0.03965 0.13622         \n",
      "         5   0.7479 0.4211    0.06145 0.15355         \n",
      "         6   0.7701 0.4847    0.04163 0.07592        *\n",
      "         7   0.6897 0.2605    0.08565 0.23236         \n",
      "         8   0.7079 0.2938    0.10342 0.27300         \n",
      "         9   0.7079 0.3120    0.08102 0.22171         \n",
      "        10   0.7079 0.3120    0.08102 0.22171         \n",
      "        11   0.7119 0.3241    0.09233 0.24843         \n",
      "        12   0.7079 0.3120    0.08102 0.22171         \n",
      "        13   0.7079 0.3120    0.08102 0.22171         \n",
      "        14   0.7079 0.3120    0.08102 0.22171         \n",
      "        15   0.6897 0.2794    0.08565 0.22168         \n",
      "        16   0.6915 0.2861    0.09918 0.23166         \n",
      "        17   0.7279 0.3691    0.05630 0.14462         \n",
      "        18   0.7097 0.3176    0.06964 0.18194         \n",
      "        19   0.7279 0.3691    0.05630 0.14462         \n",
      "        20   0.6897 0.2605    0.08565 0.23236         \n",
      "        21   0.6897 0.2357    0.12490 0.34145         \n",
      "        22   0.7079 0.2938    0.10342 0.27300         \n",
      "        23   0.6897 0.2605    0.08565 0.23236         \n",
      "        24   0.6897 0.2605    0.08565 0.23236         \n",
      "        25   0.6533 0.1725    0.13710 0.35159         \n",
      "        26   0.7079 0.2938    0.10342 0.27300         \n",
      "        27   0.6897 0.2605    0.08565 0.23236         \n",
      "        28   0.6897 0.2357    0.12490 0.34145         \n",
      "        29   0.6533 0.1725    0.13710 0.35159         \n",
      "        30   0.6715 0.2025    0.10683 0.30203         \n",
      "        31   0.6533 0.1725    0.13710 0.35159         \n",
      "        32   0.6897 0.2357    0.12490 0.34145         \n",
      "        33   0.6715 0.2025    0.10683 0.30203         \n",
      "        34   0.6897 0.2357    0.12490 0.34145         \n",
      "        35   0.6897 0.2357    0.12490 0.34145         \n",
      "        36   0.6715 0.2025    0.10683 0.30203         \n",
      "        37   0.6715 0.2025    0.10683 0.30203         \n",
      "        38   0.6715 0.2025    0.10683 0.30203         \n",
      "        39   0.6715 0.2025    0.10683 0.30203         \n",
      "\n",
      "The top 5 variables (out of 6):\n",
      "   Berg, medicaçao_tipo_cardiovascular, DT_Sec, Diuretico_classif, Anticoagulante_classif\n",
      "\n"
     ]
    },
    {
     "data": {
      "text/html": [
       "<style>\n",
       ".list-inline {list-style: none; margin:0; padding: 0}\n",
       ".list-inline>li {display: inline-block}\n",
       ".list-inline>li:not(:last-child)::after {content: \"\\00b7\"; padding: 0 .5ex}\n",
       "</style>\n",
       "<ol class=list-inline><li>'Berg'</li><li>'medicaçao_tipo_cardiovascular'</li><li>'DT_Sec'</li><li>'Diuretico_classif'</li><li>'Anticoagulante_classif'</li><li>'Fluencia_verbal'</li></ol>\n"
      ],
      "text/latex": [
       "\\begin{enumerate*}\n",
       "\\item 'Berg'\n",
       "\\item 'medicaçao\\_tipo\\_cardiovascular'\n",
       "\\item 'DT\\_Sec'\n",
       "\\item 'Diuretico\\_classif'\n",
       "\\item 'Anticoagulante\\_classif'\n",
       "\\item 'Fluencia\\_verbal'\n",
       "\\end{enumerate*}\n"
      ],
      "text/markdown": [
       "1. 'Berg'\n",
       "2. 'medicaçao_tipo_cardiovascular'\n",
       "3. 'DT_Sec'\n",
       "4. 'Diuretico_classif'\n",
       "5. 'Anticoagulante_classif'\n",
       "6. 'Fluencia_verbal'\n",
       "\n",
       "\n"
      ],
      "text/plain": [
       "[1] \"Berg\"                          \"medicaçao_tipo_cardiovascular\"\n",
       "[3] \"DT_Sec\"                        \"Diuretico_classif\"            \n",
       "[5] \"Anticoagulante_classif\"        \"Fluencia_verbal\"              "
      ]
     },
     "metadata": {},
     "output_type": "display_data"
    },
    {
     "data": {
      "image/png": "[encoded data removed]",
      "text/plain": [
       "plot without title"
      ]
     },
     "metadata": {
      "image/png": {
       "height": 420,
       "width": 420
      }
     },
     "output_type": "display_data"
    }
   ],
   "source": [
    "#define the control using a random forest selection function\n",
    "#install.packages(\"caret\")\n",
    "require(caret)\n",
    "#install.packages(\"e1071\")\n",
    "require(e1071)\n",
    "#install.packages(\"randomForest\")\n",
    "require(randomForest)\n",
    "set.seed(1)\n",
    "control2 <- rfeControl(functions=rfFuncs, method=\"cv\", number=5)\n",
    "set.seed(2)\n",
    "results <- rfe(BD[,2:40], BD[[1]], sizes=c(2:40),rfeControl=control2,metric=\"Kappa\") \n",
    "print(results) \n",
    "#list the chosen features\n",
    "predictors(results) \n",
    "#plot the results\n",
    "plot(results, type=c(\"g\", \"o\"),main=\"RFE using Random Forest\")"
   ]
  },
  {
   "cell_type": "code",
   "execution_count": 160,
   "metadata": {},
   "outputs": [
    {
     "data": {
      "text/html": [
       "<table class=\"dataframe\">\n",
       "<caption>A tibble: 6 × 7</caption>\n",
       "<thead>\n",
       "\t<tr><th scope=col>Caidor</th><th scope=col>Berg</th><th scope=col>medicaçao_tipo_cardiovascular</th><th scope=col>DT_Sec</th><th scope=col>Diuretico_classif</th><th scope=col>Anticoagulante_classif</th><th scope=col>Fluencia_verbal</th></tr>\n",
       "\t<tr><th scope=col>&lt;fct&gt;</th><th scope=col>&lt;dbl&gt;</th><th scope=col>&lt;fct&gt;</th><th scope=col>&lt;dbl&gt;</th><th scope=col>&lt;fct&gt;</th><th scope=col>&lt;fct&gt;</th><th scope=col>&lt;dbl&gt;</th></tr>\n",
       "</thead>\n",
       "<tbody>\n",
       "\t<tr><td>sim</td><td>11</td><td>Beta + Anti_Coag      </td><td>26</td><td>não</td><td>não</td><td>17</td></tr>\n",
       "\t<tr><td>não</td><td>11</td><td>Beta + Anti_Coag      </td><td>22</td><td>não</td><td>não</td><td> 5</td></tr>\n",
       "\t<tr><td>sim</td><td> 9</td><td>Beta + Anti_Coag + Diu</td><td>32</td><td>sim</td><td>sim</td><td>10</td></tr>\n",
       "\t<tr><td>sim</td><td>11</td><td>Beta                  </td><td>27</td><td>não</td><td>sim</td><td> 9</td></tr>\n",
       "\t<tr><td>não</td><td>12</td><td>Beta                  </td><td>23</td><td>não</td><td>sim</td><td> 8</td></tr>\n",
       "\t<tr><td>não</td><td>12</td><td>Beta                  </td><td> 8</td><td>não</td><td>não</td><td>10</td></tr>\n",
       "</tbody>\n",
       "</table>\n"
      ],
      "text/latex": [
       "A tibble: 6 × 7\n",
       "\\begin{tabular}{lllllll}\n",
       " Caidor & Berg & medicaçao\\_tipo\\_cardiovascular & DT\\_Sec & Diuretico\\_classif & Anticoagulante\\_classif & Fluencia\\_verbal\\\\\n",
       " <fct> & <dbl> & <fct> & <dbl> & <fct> & <fct> & <dbl>\\\\\n",
       "\\hline\n",
       "\t sim & 11 & Beta + Anti\\_Coag       & 26 & não & não & 17\\\\\n",
       "\t não & 11 & Beta + Anti\\_Coag       & 22 & não & não &  5\\\\\n",
       "\t sim &  9 & Beta + Anti\\_Coag + Diu & 32 & sim & sim & 10\\\\\n",
       "\t sim & 11 & Beta                   & 27 & não & sim &  9\\\\\n",
       "\t não & 12 & Beta                   & 23 & não & sim &  8\\\\\n",
       "\t não & 12 & Beta                   &  8 & não & não & 10\\\\\n",
       "\\end{tabular}\n"
      ],
      "text/markdown": [
       "\n",
       "A tibble: 6 × 7\n",
       "\n",
       "| Caidor &lt;fct&gt; | Berg &lt;dbl&gt; | medicaçao_tipo_cardiovascular &lt;fct&gt; | DT_Sec &lt;dbl&gt; | Diuretico_classif &lt;fct&gt; | Anticoagulante_classif &lt;fct&gt; | Fluencia_verbal &lt;dbl&gt; |\n",
       "|---|---|---|---|---|---|---|\n",
       "| sim | 11 | Beta + Anti_Coag       | 26 | não | não | 17 |\n",
       "| não | 11 | Beta + Anti_Coag       | 22 | não | não |  5 |\n",
       "| sim |  9 | Beta + Anti_Coag + Diu | 32 | sim | sim | 10 |\n",
       "| sim | 11 | Beta                   | 27 | não | sim |  9 |\n",
       "| não | 12 | Beta                   | 23 | não | sim |  8 |\n",
       "| não | 12 | Beta                   |  8 | não | não | 10 |\n",
       "\n"
      ],
      "text/plain": [
       "  Caidor Berg medicaçao_tipo_cardiovascular DT_Sec Diuretico_classif\n",
       "1 sim    11   Beta + Anti_Coag              26     não              \n",
       "2 não    11   Beta + Anti_Coag              22     não              \n",
       "3 sim     9   Beta + Anti_Coag + Diu        32     sim              \n",
       "4 sim    11   Beta                          27     não              \n",
       "5 não    12   Beta                          23     não              \n",
       "6 não    12   Beta                           8     não              \n",
       "  Anticoagulante_classif Fluencia_verbal\n",
       "1 não                    17             \n",
       "2 não                     5             \n",
       "3 sim                    10             \n",
       "4 sim                     9             \n",
       "5 sim                     8             \n",
       "6 não                    10             "
      ]
     },
     "metadata": {},
     "output_type": "display_data"
    },
    {
     "data": {
      "text/plain": [
       "Random Forest \n",
       "\n",
       "52 samples\n",
       " 6 predictor\n",
       " 2 classes: 'não', 'sim' \n",
       "\n",
       "No pre-processing\n",
       "Resampling: Cross-Validated (5 fold) \n",
       "Summary of sample sizes: 42, 41, 42, 41, 42 \n",
       "Resampling results across tuning parameters:\n",
       "\n",
       "  mtry  Accuracy   Kappa    \n",
       "  2     0.6927273  0.3182279\n",
       "  5     0.7145455  0.3664541\n",
       "  9     0.7345455  0.4135556\n",
       "\n",
       "Kappa was used to select the optimal model using the largest value.\n",
       "The final value used for the model was mtry = 9."
      ]
     },
     "metadata": {},
     "output_type": "display_data"
    },
    {
     "data": {
      "text/plain": [
       "\n",
       "Call:\n",
       " randomForest(x = x, y = y, mtry = min(param$mtry, ncol(x))) \n",
       "               Type of random forest: classification\n",
       "                     Number of trees: 500\n",
       "No. of variables tried at each split: 9\n",
       "\n",
       "        OOB estimate of  error rate: 28.85%\n",
       "Confusion matrix:\n",
       "    não sim class.error\n",
       "não  26   7   0.2121212\n",
       "sim   8  11   0.4210526"
      ]
     },
     "metadata": {},
     "output_type": "display_data"
    },
    {
     "data": {
      "text/plain": [
       "rf variable importance\n",
       "\n",
       "                                                    Overall\n",
       "DT_Sec                                              100.000\n",
       "Berg                                                 85.904\n",
       "Fluencia_verbal                                      38.469\n",
       "Anticoagulante_classifsim                            27.459\n",
       "medicaçao_tipo_cardiovascularBeta + Anti_Coag + Diu  23.242\n",
       "Diuretico_classifsim                                 11.159\n",
       "medicaçao_tipo_cardiovascularBeta + Anti_Coag         9.324\n",
       "medicaçao_tipo_cardiovascularBeta + Anti_HAS          6.980\n",
       "medicaçao_tipo_cardiovascularBeta                     0.000"
      ]
     },
     "metadata": {},
     "output_type": "display_data"
    },
    {
     "data": {
      "image/png": "[encoded data removed]",
      "text/plain": [
       "plot without title"
      ]
     },
     "metadata": {
      "image/png": {
       "height": 420,
       "width": 420
      }
     },
     "output_type": "display_data"
    },
    {
     "data": {
      "image/png": "[encoded data removed]",
      "text/plain": [
       "plot without title"
      ]
     },
     "metadata": {
      "image/png": {
       "height": 420,
       "width": 420
      }
     },
     "output_type": "display_data"
    }
   ],
   "source": [
    "BD_RF_rfe<- BD[,c(\"Caidor\",\"Berg\",\n",
    "                               \"medicaçao_tipo_cardiovascular\",\"DT_Sec\",\"Diuretico_classif\",\"Anticoagulante_classif\",\"Fluencia_verbal\")]\n",
    "head(BD_RF_rfe)\n",
    "set.seed(4)\n",
    "RFmodel=train(Caidor~.,data=BD_RF_rfe,method='rf',metric=ifelse(is.factor(BD_RF_rfe$Caidor),\"Kappa\",\"RMSE\"),trControl=trainControl(method='cv',number=5,savePredictions=TRUE))\n",
    "RFmodel \n",
    "plot(RFmodel)\n",
    "RFmodel$finalModel  \n",
    "varImp(RFmodel)\n",
    "plot(varImp(RFmodel),main=\"Variables Importance - Random Forest\")"
   ]
  },
  {
   "cell_type": "markdown",
   "metadata": {},
   "source": [
    "# Otimizando a métrica de interesse usando *f-beta* (*sem a divisão do dataset em treino e teste*)"
   ]
  },
  {
   "cell_type": "code",
   "execution_count": 168,
   "metadata": {},
   "outputs": [
    {
     "data": {
      "text/html": [
       "1.23058892469968"
      ],
      "text/latex": [
       "1.23058892469968"
      ],
      "text/markdown": [
       "1.23058892469968"
      ],
      "text/plain": [
       "[1] 1.230589"
      ]
     },
     "metadata": {},
     "output_type": "display_data"
    }
   ],
   "source": [
    "# Objetivo: diminuir os Falsos Positivos (indivíduos classificados, de forma errada, como não caidor)\n",
    "# Diminuir o valor de Beta (<1 - prioriza a precisão)\n",
    "\n",
    "#install.packages(\"Metrics\")\n",
    "#require(Metrics)\n",
    "#Como calcular fbeta:\n",
    "obs<- RFmodel$pred[,2]\n",
    "obs<- as.numeric(obs)\n",
    "pred<- RFmodel$pred[,1]\n",
    "pred<- as.numeric(pred)\n",
    "fbeta_score(obs,pred,beta=0.5)"
   ]
  },
  {
   "cell_type": "code",
   "execution_count": 198,
   "metadata": {},
   "outputs": [
    {
     "data": {
      "text/plain": [
       "\n",
       "Call:\n",
       " randomForest(x = x, y = y, mtry = min(param$mtry, ncol(x))) \n",
       "               Type of random forest: classification\n",
       "                     Number of trees: 500\n",
       "No. of variables tried at each split: 2\n",
       "\n",
       "        OOB estimate of  error rate: 25%\n",
       "Confusion matrix:\n",
       "    não sim class.error\n",
       "não  27   6   0.1818182\n",
       "sim   7  12   0.3684211"
      ]
     },
     "metadata": {},
     "output_type": "display_data"
    }
   ],
   "source": [
    "#install.packages(\"MLmetrics\")\n",
    "#require(MLmetrics)\n",
    "\n",
    "set.seed(3)\n",
    "\n",
    "fbeta <- function (data, lev = NULL, model = NULL) {\n",
    "  fb_val <- FBeta_Score(data$obs, data$pred, beta=0.1)\n",
    "  c(FB = fb_val)\n",
    "} \n",
    "\n",
    "RF_fbeta <- train(Caidor~., \n",
    "                     data = BD_RF_rfe,\n",
    "                     method = \"rf\",\n",
    "                     metric = \"FB\",\n",
    "                     trControl = trainControl(method='cv',number=5,savePredictions=TRUE,search=\"grid\",summaryFunction=fbeta))\n",
    "RF_fbeta$finalModel\n"
   ]
  },
  {
   "cell_type": "code",
   "execution_count": 199,
   "metadata": {},
   "outputs": [
    {
     "data": {
      "text/plain": [
       "rf variable importance\n",
       "\n",
       "                                                    Overall\n",
       "DT_Sec                                               100.00\n",
       "Berg                                                  89.32\n",
       "Fluencia_verbal                                       79.48\n",
       "Anticoagulante_classifsim                             42.06\n",
       "medicaçao_tipo_cardiovascularBeta + Anti_Coag + Diu   33.01\n",
       "medicaçao_tipo_cardiovascularBeta + Anti_HAS          27.08\n",
       "Diuretico_classifsim                                  26.57\n",
       "medicaçao_tipo_cardiovascularBeta + Anti_Coag         16.62\n",
       "medicaçao_tipo_cardiovascularBeta                      0.00"
      ]
     },
     "metadata": {},
     "output_type": "display_data"
    },
    {
     "data": {
      "image/png": "[encoded data removed]",
      "text/plain": [
       "plot without title"
      ]
     },
     "metadata": {
      "image/png": {
       "height": 420,
       "width": 420
      }
     },
     "output_type": "display_data"
    }
   ],
   "source": [
    "varImp(RF_fbeta)\n",
    "plot(varImp(RF_fbeta),main=\"Variables Importance - Random Forest\")"
   ]
  },
  {
   "cell_type": "code",
   "execution_count": 231,
   "metadata": {},
   "outputs": [
    {
     "name": "stderr",
     "output_type": "stream",
     "text": [
      "Setting levels: control = não, case = sim\n",
      "\n",
      "Setting direction: controls < cases\n",
      "\n"
     ]
    },
    {
     "data": {
      "text/plain": [
       "\n",
       "Call:\n",
       "roc.default(response = RF_fbeta$pred[, 2], predictor = y, plot = T)\n",
       "\n",
       "Data: y in 99 controls (RF_fbeta$pred[, 2] não) < 57 cases (RF_fbeta$pred[, 2] sim).\n",
       "Area under the curve: 0.736"
      ]
     },
     "metadata": {},
     "output_type": "display_data"
    },
    {
     "name": "stderr",
     "output_type": "stream",
     "text": [
      "Setting levels: control = não, case = sim\n",
      "\n",
      "Setting direction: controls < cases\n",
      "\n"
     ]
    },
    {
     "data": {
      "image/png": "[encoded data removed]",
      "text/plain": [
       "plot without title"
      ]
     },
     "metadata": {
      "image/png": {
       "height": 420,
       "width": 420
      }
     },
     "output_type": "display_data"
    },
    {
     "data": {
      "text/plain": [
       "\n",
       "Call:\n",
       "roc.default(response = RFmodel$pred[, 2], predictor = y2, plot = T)\n",
       "\n",
       "Data: y2 in 99 controls (RFmodel$pred[, 2] não) < 57 cases (RFmodel$pred[, 2] sim).\n",
       "Area under the curve: 0.6834"
      ]
     },
     "metadata": {},
     "output_type": "display_data"
    },
    {
     "data": {
      "text/plain": [
       "\n",
       "\tDeLong's test for two ROC curves\n",
       "\n",
       "data:  roc_fbeta and roc_rf\n",
       "D = 0.97642, df = 309.44, p-value = 0.3296\n",
       "alternative hypothesis: true difference in AUC is not equal to 0\n",
       "sample estimates:\n",
       "AUC of roc1 AUC of roc2 \n",
       "  0.7360447   0.6834131 \n"
      ]
     },
     "metadata": {},
     "output_type": "display_data"
    },
    {
     "data": {
      "image/png": "[encoded data removed]",
      "text/plain": [
       "plot without title"
      ]
     },
     "metadata": {
      "image/png": {
       "height": 420,
       "width": 420
      }
     },
     "output_type": "display_data"
    }
   ],
   "source": [
    "#attributes(RF_fbeta)\n",
    "#install.packages(\"pROC\")\n",
    "#require(pROC)\n",
    "y<- as.numeric(RF_fbeta$pred[,1])\n",
    "roc_fbeta<- roc(RF_fbeta$pred[,2], y, plot=T)\n",
    "roc_fbeta\n",
    "\n",
    "y2<- as.numeric(RFmodel$pred[,1])\n",
    "roc_rf<- roc(RFmodel$pred[,2],y2,plot=T)\n",
    "roc_rf\n",
    "\n",
    "roc.test(roc_fbeta,roc_rf)"
   ]
  },
  {
   "cell_type": "markdown",
   "metadata": {},
   "source": [
    "# RL com as variáveis resultantes do RFE-RF (n total) - *teste*"
   ]
  }
 ],
 "metadata": {
  "kernelspec": {
   "display_name": "R",
   "language": "R",
   "name": "ir"
  },
  "language_info": {
   "codemirror_mode": "r",
   "file_extension": ".r",
   "mimetype": "text/x-r-source",
   "name": "R",
   "pygments_lexer": "r",
   "version": "3.6.0"
  },
  "orig_nbformat": 4
 },
 "nbformat": 4,
 "nbformat_minor": 2
}
