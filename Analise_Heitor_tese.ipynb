{
 "cells": [
  {
   "cell_type": "markdown",
   "metadata": {},
   "source": [
    "# Importação do banco de dados (*atualizado*)"
   ]
  },
  {
   "cell_type": "code",
   "execution_count": 35,
   "metadata": {},
   "outputs": [
    {
     "data": {
      "text/html": [
       "<table class=\"dataframe\">\n",
       "<caption>A tibble: 6 × 40</caption>\n",
       "<thead>\n",
       "\t<tr><th scope=col>Caidor</th><th scope=col>Genero</th><th scope=col>idade</th><th scope=col>Nivel_social</th><th scope=col>etnia</th><th scope=col>Nivel_educacional</th><th scope=col>Freq_atividade</th><th scope=col>Criterio_AHA</th><th scope=col>Anti_hipertensivo</th><th scope=col>betabloqueador</th><th scope=col>...</th><th scope=col>Dinamometria</th><th scope=col>Berg</th><th scope=col>STS</th><th scope=col>Flexibilidade_Ms</th><th scope=col>Flexibilidade_MI</th><th scope=col>TUG_sec</th><th scope=col>DT_Sec</th><th scope=col>DT_numero_animais</th><th scope=col>quantidade_total_de_medicação</th><th scope=col>medicaçao_tipo_cardiovascular</th></tr>\n",
       "\t<tr><th scope=col>&lt;chr&gt;</th><th scope=col>&lt;chr&gt;</th><th scope=col>&lt;dbl&gt;</th><th scope=col>&lt;chr&gt;</th><th scope=col>&lt;chr&gt;</th><th scope=col>&lt;dbl&gt;</th><th scope=col>&lt;chr&gt;</th><th scope=col>&lt;chr&gt;</th><th scope=col>&lt;chr&gt;</th><th scope=col>&lt;chr&gt;</th><th scope=col>...</th><th scope=col>&lt;dbl&gt;</th><th scope=col>&lt;dbl&gt;</th><th scope=col>&lt;dbl&gt;</th><th scope=col>&lt;dbl&gt;</th><th scope=col>&lt;dbl&gt;</th><th scope=col>&lt;dbl&gt;</th><th scope=col>&lt;dbl&gt;</th><th scope=col>&lt;dbl&gt;</th><th scope=col>&lt;dbl&gt;</th><th scope=col>&lt;chr&gt;</th></tr>\n",
       "</thead>\n",
       "<tbody>\n",
       "\t<tr><td>sim</td><td>mulher</td><td>76</td><td>b</td><td>branco</td><td>16</td><td>3x        </td><td>c</td><td>não</td><td>sim</td><td>...</td><td>17.9</td><td>54</td><td> 5</td><td>-29</td><td>-33</td><td> 8.90</td><td> 9.1</td><td>10</td><td>8</td><td>Beta + Anti_Coag      </td></tr>\n",
       "\t<tr><td>não</td><td>mulher</td><td>73</td><td>b</td><td>branco</td><td>16</td><td>3x        </td><td>b</td><td>sim</td><td>sim</td><td>...</td><td>21.0</td><td>56</td><td>12</td><td>  0</td><td>  0</td><td> 7.11</td><td> 9.0</td><td> 8</td><td>8</td><td>Beta + Anti_HAS       </td></tr>\n",
       "\t<tr><td>não</td><td>mulher</td><td>75</td><td>c</td><td>branco</td><td>12</td><td>2x        </td><td>b</td><td>sim</td><td>sim</td><td>...</td><td>23.5</td><td>54</td><td> 7</td><td> -7</td><td>-15</td><td> 7.42</td><td> 8.6</td><td> 7</td><td>6</td><td>Beta + Anti_Coag      </td></tr>\n",
       "\t<tr><td>sim</td><td>mulher</td><td>83</td><td>b</td><td>branco</td><td>10</td><td>sedentario</td><td>c</td><td>sim</td><td>sim</td><td>...</td><td>15.3</td><td>51</td><td> 9</td><td>-22</td><td> -4</td><td>10.52</td><td>11.9</td><td> 7</td><td>8</td><td>Beta + Anti_Coag + Diu</td></tr>\n",
       "\t<tr><td>não</td><td>mulher</td><td>83</td><td>a</td><td>branco</td><td>10</td><td>3x        </td><td>c</td><td>sim</td><td>sim</td><td>...</td><td>16.7</td><td>56</td><td>NA</td><td> NA</td><td>-19</td><td> 9.31</td><td>13.2</td><td> 9</td><td>7</td><td>Beta + Anti_Coag + Diu</td></tr>\n",
       "\t<tr><td>não</td><td>mulher</td><td>78</td><td>a</td><td>branco</td><td>12</td><td>2x        </td><td>b</td><td>sim</td><td>sim</td><td>...</td><td>19.1</td><td>56</td><td>12</td><td> NA</td><td>  0</td><td> 7.17</td><td> 8.7</td><td> 6</td><td>4</td><td>Beta + Anti_HAS       </td></tr>\n",
       "</tbody>\n",
       "</table>\n"
      ],
      "text/latex": [
       "A tibble: 6 × 40\n",
       "\\begin{tabular}{lllllllllllllllllllll}\n",
       " Caidor & Genero & idade & Nivel\\_social & etnia & Nivel\\_educacional & Freq\\_atividade & Criterio\\_AHA & Anti\\_hipertensivo & betabloqueador & ... & Dinamometria & Berg & STS & Flexibilidade\\_Ms & Flexibilidade\\_MI & TUG\\_sec & DT\\_Sec & DT\\_numero\\_animais & quantidade\\_total\\_de\\_medicação & medicaçao\\_tipo\\_cardiovascular\\\\\n",
       " <chr> & <chr> & <dbl> & <chr> & <chr> & <dbl> & <chr> & <chr> & <chr> & <chr> & ... & <dbl> & <dbl> & <dbl> & <dbl> & <dbl> & <dbl> & <dbl> & <dbl> & <dbl> & <chr>\\\\\n",
       "\\hline\n",
       "\t sim & mulher & 76 & b & branco & 16 & 3x         & c & não & sim & ... & 17.9 & 54 &  5 & -29 & -33 &  8.90 &  9.1 & 10 & 8 & Beta + Anti\\_Coag      \\\\\n",
       "\t não & mulher & 73 & b & branco & 16 & 3x         & b & sim & sim & ... & 21.0 & 56 & 12 &   0 &   0 &  7.11 &  9.0 &  8 & 8 & Beta + Anti\\_HAS       \\\\\n",
       "\t não & mulher & 75 & c & branco & 12 & 2x         & b & sim & sim & ... & 23.5 & 54 &  7 &  -7 & -15 &  7.42 &  8.6 &  7 & 6 & Beta + Anti\\_Coag      \\\\\n",
       "\t sim & mulher & 83 & b & branco & 10 & sedentario & c & sim & sim & ... & 15.3 & 51 &  9 & -22 &  -4 & 10.52 & 11.9 &  7 & 8 & Beta + Anti\\_Coag + Diu\\\\\n",
       "\t não & mulher & 83 & a & branco & 10 & 3x         & c & sim & sim & ... & 16.7 & 56 & NA &  NA & -19 &  9.31 & 13.2 &  9 & 7 & Beta + Anti\\_Coag + Diu\\\\\n",
       "\t não & mulher & 78 & a & branco & 12 & 2x         & b & sim & sim & ... & 19.1 & 56 & 12 &  NA &   0 &  7.17 &  8.7 &  6 & 4 & Beta + Anti\\_HAS       \\\\\n",
       "\\end{tabular}\n"
      ],
      "text/markdown": [
       "\n",
       "A tibble: 6 × 40\n",
       "\n",
       "| Caidor &lt;chr&gt; | Genero &lt;chr&gt; | idade &lt;dbl&gt; | Nivel_social &lt;chr&gt; | etnia &lt;chr&gt; | Nivel_educacional &lt;dbl&gt; | Freq_atividade &lt;chr&gt; | Criterio_AHA &lt;chr&gt; | Anti_hipertensivo &lt;chr&gt; | betabloqueador &lt;chr&gt; | ... ... | Dinamometria &lt;dbl&gt; | Berg &lt;dbl&gt; | STS &lt;dbl&gt; | Flexibilidade_Ms &lt;dbl&gt; | Flexibilidade_MI &lt;dbl&gt; | TUG_sec &lt;dbl&gt; | DT_Sec &lt;dbl&gt; | DT_numero_animais &lt;dbl&gt; | quantidade_total_de_medicação &lt;dbl&gt; | medicaçao_tipo_cardiovascular &lt;chr&gt; |\n",
       "|---|---|---|---|---|---|---|---|---|---|---|---|---|---|---|---|---|---|---|---|---|\n",
       "| sim | mulher | 76 | b | branco | 16 | 3x         | c | não | sim | ... | 17.9 | 54 |  5 | -29 | -33 |  8.90 |  9.1 | 10 | 8 | Beta + Anti_Coag       |\n",
       "| não | mulher | 73 | b | branco | 16 | 3x         | b | sim | sim | ... | 21.0 | 56 | 12 |   0 |   0 |  7.11 |  9.0 |  8 | 8 | Beta + Anti_HAS        |\n",
       "| não | mulher | 75 | c | branco | 12 | 2x         | b | sim | sim | ... | 23.5 | 54 |  7 |  -7 | -15 |  7.42 |  8.6 |  7 | 6 | Beta + Anti_Coag       |\n",
       "| sim | mulher | 83 | b | branco | 10 | sedentario | c | sim | sim | ... | 15.3 | 51 |  9 | -22 |  -4 | 10.52 | 11.9 |  7 | 8 | Beta + Anti_Coag + Diu |\n",
       "| não | mulher | 83 | a | branco | 10 | 3x         | c | sim | sim | ... | 16.7 | 56 | NA |  NA | -19 |  9.31 | 13.2 |  9 | 7 | Beta + Anti_Coag + Diu |\n",
       "| não | mulher | 78 | a | branco | 12 | 2x         | b | sim | sim | ... | 19.1 | 56 | 12 |  NA |   0 |  7.17 |  8.7 |  6 | 4 | Beta + Anti_HAS        |\n",
       "\n"
      ],
      "text/plain": [
       "  Caidor Genero idade Nivel_social etnia  Nivel_educacional Freq_atividade\n",
       "1 sim    mulher 76    b            branco 16                3x            \n",
       "2 não    mulher 73    b            branco 16                3x            \n",
       "3 não    mulher 75    c            branco 12                2x            \n",
       "4 sim    mulher 83    b            branco 10                sedentario    \n",
       "5 não    mulher 83    a            branco 10                3x            \n",
       "6 não    mulher 78    a            branco 12                2x            \n",
       "  Criterio_AHA Anti_hipertensivo betabloqueador ... Dinamometria Berg STS\n",
       "1 c            não               sim            ... 17.9         54    5 \n",
       "2 b            sim               sim            ... 21.0         56   12 \n",
       "3 b            sim               sim            ... 23.5         54    7 \n",
       "4 c            sim               sim            ... 15.3         51    9 \n",
       "5 c            sim               sim            ... 16.7         56   NA \n",
       "6 b            sim               sim            ... 19.1         56   12 \n",
       "  Flexibilidade_Ms Flexibilidade_MI TUG_sec DT_Sec DT_numero_animais\n",
       "1 -29              -33               8.90    9.1   10               \n",
       "2   0                0               7.11    9.0    8               \n",
       "3  -7              -15               7.42    8.6    7               \n",
       "4 -22               -4              10.52   11.9    7               \n",
       "5  NA              -19               9.31   13.2    9               \n",
       "6  NA                0               7.17    8.7    6               \n",
       "  quantidade_total_de_medicação medicaçao_tipo_cardiovascular\n",
       "1 8                             Beta + Anti_Coag             \n",
       "2 8                             Beta + Anti_HAS              \n",
       "3 6                             Beta + Anti_Coag             \n",
       "4 8                             Beta + Anti_Coag + Diu       \n",
       "5 7                             Beta + Anti_Coag + Diu       \n",
       "6 4                             Beta + Anti_HAS              "
      ]
     },
     "metadata": {},
     "output_type": "display_data"
    },
    {
     "data": {
      "text/html": [
       "<style>\n",
       ".list-inline {list-style: none; margin:0; padding: 0}\n",
       ".list-inline>li {display: inline-block}\n",
       ".list-inline>li:not(:last-child)::after {content: \"\\00b7\"; padding: 0 .5ex}\n",
       "</style>\n",
       "<ol class=list-inline><li>72</li><li>40</li></ol>\n"
      ],
      "text/latex": [
       "\\begin{enumerate*}\n",
       "\\item 72\n",
       "\\item 40\n",
       "\\end{enumerate*}\n"
      ],
      "text/markdown": [
       "1. 72\n",
       "2. 40\n",
       "\n",
       "\n"
      ],
      "text/plain": [
       "[1] 72 40"
      ]
     },
     "metadata": {},
     "output_type": "display_data"
    },
    {
     "name": "stdout",
     "output_type": "stream",
     "text": [
      "tibble [72 x 40] (S3: tbl_df/tbl/data.frame)\n",
      " $ Caidor                       : chr [1:72] \"sim\" \"não\" \"não\" \"sim\" ...\n",
      " $ Genero                       : chr [1:72] \"mulher\" \"mulher\" \"mulher\" \"mulher\" ...\n",
      " $ idade                        : num [1:72] 76 73 75 83 83 78 83 82 78 75 ...\n",
      " $ Nivel_social                 : chr [1:72] \"b\" \"b\" \"c\" \"b\" ...\n",
      " $ etnia                        : chr [1:72] \"branco\" \"branco\" \"branco\" \"branco\" ...\n",
      " $ Nivel_educacional            : num [1:72] 16 16 12 10 10 12 20 8 14 16 ...\n",
      " $ Freq_atividade               : chr [1:72] \"3x\" \"3x\" \"2x\" \"sedentario\" ...\n",
      " $ Criterio_AHA                 : chr [1:72] \"c\" \"b\" \"b\" \"c\" ...\n",
      " $ Anti_hipertensivo            : chr [1:72] \"não\" \"sim\" \"sim\" \"sim\" ...\n",
      " $ betabloqueador               : chr [1:72] \"sim\" \"sim\" \"sim\" \"sim\" ...\n",
      " $ Anticoagulante_classif       : chr [1:72] \"não\" \"não\" \"não\" \"sim\" ...\n",
      " $ Diuretico_classif            : chr [1:72] \"não\" \"não\" \"não\" \"sim\" ...\n",
      " $ medicação_tipo_mental        : chr [1:72] \"antidepressivo\" \"benzodiazepinico\" \"antidepressivo\" \"antidepressivo+benzo\" ...\n",
      " $ medicação_tipo_saude         : chr [1:72] \"cardio+mental\" \"cardio+mental\" \"cardio+mental\" \"cardio+mental\" ...\n",
      " $ antidepressivo               : chr [1:72] \"não\" \"não\" \"sim\" \"não\" ...\n",
      " $ ansiolitico                  : chr [1:72] \"não\" \"não\" \"não\" \"não\" ...\n",
      " $ benzodiazepinico             : chr [1:72] \"sim\" \"sim\" \"sim\" \"sim\" ...\n",
      " $ DVC_primaria                 : chr [1:72] \"insuficiencia\" \"insuficiencia\" \"insuficiencia\" \"arritmia\" ...\n",
      " $ HAS                          : chr [1:72] \"não\" \"sim\" \"sim\" \"sim\" ...\n",
      " $ Tempo_doença                 : num [1:72] 6 3 6 4 10 20 5 9 3 25 ...\n",
      " $ Doenca_Respi                 : chr [1:72] \"sim\" NA \"não\" \"não\" ...\n",
      " $ MMSE                         : num [1:72] 30 29 27 29 29 30 29 26 28 24 ...\n",
      " $ Fluencia_verbal              : num [1:72] 27 22 15 20 18 30 19 18 20 14 ...\n",
      " $ Trilhas_A                    : num [1:72] 33 26.8 71 29.2 43.2 86.1 35.3 44.2 44 43.5 ...\n",
      " $ Trilhas_b                    : num [1:72] 60.1 61 178 93.7 127.2 ...\n",
      " $ GDS                          : num [1:72] 3 0 15 5 2 0 0 0 0 14 ...\n",
      " $ FES_I                        : num [1:72] 26 19 19 16 16 16 22 16 19 24 ...\n",
      " $ Vsaq                         : num [1:72] 5 5 7 5 5 8 7 5 8 5 ...\n",
      " $ Vo2_maximo_avaliado          : num [1:72] 17 23.4 11.3 12.7 14.1 13.5 18.4 13.4 18.6 12.1 ...\n",
      " $ IMC                          : num [1:72] 27 28.5 32.8 29.3 26.2 27.2 22.2 26.9 19.7 24.8 ...\n",
      " $ Dinamometria                 : num [1:72] 17.9 21 23.5 15.3 16.7 19.1 20.9 18.1 16 22.7 ...\n",
      " $ Berg                         : num [1:72] 54 56 54 51 56 56 54 55 55 50 ...\n",
      " $ STS                          : num [1:72] 5 12 7 9 NA 12 6 8 12 8 ...\n",
      " $ Flexibilidade_Ms             : num [1:72] -29 0 -7 -22 NA NA -6 -8 7 -11 ...\n",
      " $ Flexibilidade_MI             : num [1:72] -33 0 -15 -4 -19 0 -5 -2 8 -23 ...\n",
      " $ TUG_sec                      : num [1:72] 8.9 7.11 7.42 10.52 9.31 ...\n",
      " $ DT_Sec                       : num [1:72] 9.1 9 8.6 11.9 13.2 8.7 9.2 8.7 6.7 8.7 ...\n",
      " $ DT_numero_animais            : num [1:72] 10 8 7 7 9 6 8 7 5 5 ...\n",
      " $ quantidade_total_de_medicação: num [1:72] 8 8 6 8 7 4 2 5 6 8 ...\n",
      " $ medicaçao_tipo_cardiovascular: chr [1:72] \"Beta + Anti_Coag\" \"Beta + Anti_HAS\" \"Beta + Anti_Coag\" \"Beta + Anti_Coag + Diu\" ...\n"
     ]
    }
   ],
   "source": [
    "#install.packages(\"readxl\")\n",
    "require(readxl)\n",
    "bd<- read_excel(\"Analise heitor_02_10_21.xlsx\",sheet = 2)\n",
    "head(bd)\n",
    "dim(bd) #72x40 (antes - 71 variáveis)\n",
    "str(bd)"
   ]
  },
  {
   "cell_type": "markdown",
   "metadata": {},
   "source": [
    "# Pré-processamento dos dados"
   ]
  },
  {
   "cell_type": "code",
   "execution_count": 36,
   "metadata": {},
   "outputs": [
    {
     "name": "stdout",
     "output_type": "stream",
     "text": [
      "tibble [72 x 40] (S3: tbl_df/tbl/data.frame)\n",
      " $ Caidor                       : Factor w/ 2 levels \"não\",\"sim\": 2 1 1 2 1 1 2 1 1 2 ...\n",
      " $ Genero                       : Factor w/ 2 levels \"homem\",\"mulher\": 2 2 2 2 2 2 2 2 2 1 ...\n",
      " $ idade                        : num [1:72] 76 73 75 83 83 78 83 82 78 75 ...\n",
      " $ Nivel_social                 : Factor w/ 4 levels \"a\",\"b\",\"c\",\"d\": 2 2 3 2 1 1 2 2 3 2 ...\n",
      " $ etnia                        : Factor w/ 2 levels \"branco\",\"preto\": 1 1 1 1 1 1 2 1 1 1 ...\n",
      " $ Nivel_educacional            : num [1:72] 16 16 12 10 10 12 20 8 14 16 ...\n",
      " $ Freq_atividade               : Factor w/ 3 levels \"2x\",\"3x\",\"sedentario\": 2 2 1 3 2 1 2 1 1 1 ...\n",
      " $ Criterio_AHA                 : Factor w/ 2 levels \"b\",\"c\": 2 1 1 2 2 1 2 1 1 2 ...\n",
      " $ Anti_hipertensivo            : Factor w/ 2 levels \"não\",\"sim\": 1 2 2 2 2 2 1 1 1 2 ...\n",
      " $ betabloqueador               : Factor w/ 2 levels \"não\",\"sim\": 2 2 2 2 2 2 2 1 2 2 ...\n",
      " $ Anticoagulante_classif       : Factor w/ 2 levels \"não\",\"sim\": 1 1 1 2 1 1 2 2 1 2 ...\n",
      " $ Diuretico_classif            : Factor w/ 2 levels \"não\",\"sim\": 1 1 1 2 1 1 1 1 1 2 ...\n",
      " $ medicação_tipo_mental        : Factor w/ 5 levels \"ansiolitico\",..: 2 4 2 3 4 1 3 5 2 3 ...\n",
      " $ medicação_tipo_saude         : Factor w/ 2 levels \"cardio+mental\",..: 1 1 1 1 1 1 1 2 1 1 ...\n",
      " $ antidepressivo               : Factor w/ 2 levels \"não\",\"sim\": 1 1 2 1 2 1 1 1 1 2 ...\n",
      " $ ansiolitico                  : Factor w/ 2 levels \"não\",\"sim\": 1 1 1 1 1 1 1 1 1 2 ...\n",
      " $ benzodiazepinico             : Factor w/ 2 levels \"não\",\"sim\": 2 2 2 2 2 2 2 1 1 2 ...\n",
      " $ DVC_primaria                 : Factor w/ 7 levels \"aneurisma da aorta\",..: 5 5 5 3 1 3 3 3 3 4 ...\n",
      " $ HAS                          : Factor w/ 2 levels \"não\",\"sim\": 1 2 2 2 2 2 1 1 1 2 ...\n",
      " $ Tempo_doença                 : num [1:72] 6 3 6 4 10 20 5 9 3 25 ...\n",
      " $ Doenca_Respi                 : Factor w/ 4 levels \"duas\",\"não\",\"sim\",..: 3 NA 2 2 2 2 2 2 2 2 ...\n",
      " $ MMSE                         : num [1:72] 30 29 27 29 29 30 29 26 28 24 ...\n",
      " $ Fluencia_verbal              : num [1:72] 27 22 15 20 18 30 19 18 20 14 ...\n",
      " $ Trilhas_A                    : num [1:72] 33 26.8 71 29.2 43.2 86.1 35.3 44.2 44 43.5 ...\n",
      " $ Trilhas_b                    : num [1:72] 60.1 61 178 93.7 127.2 ...\n",
      " $ GDS                          : num [1:72] 3 0 15 5 2 0 0 0 0 14 ...\n",
      " $ FES_I                        : num [1:72] 26 19 19 16 16 16 22 16 19 24 ...\n",
      " $ Vsaq                         : num [1:72] 5 5 7 5 5 8 7 5 8 5 ...\n",
      " $ Vo2_maximo_avaliado          : num [1:72] 17 23.4 11.3 12.7 14.1 13.5 18.4 13.4 18.6 12.1 ...\n",
      " $ IMC                          : num [1:72] 27 28.5 32.8 29.3 26.2 27.2 22.2 26.9 19.7 24.8 ...\n",
      " $ Dinamometria                 : num [1:72] 17.9 21 23.5 15.3 16.7 19.1 20.9 18.1 16 22.7 ...\n",
      " $ Berg                         : num [1:72] 54 56 54 51 56 56 54 55 55 50 ...\n",
      " $ STS                          : num [1:72] 5 12 7 9 NA 12 6 8 12 8 ...\n",
      " $ Flexibilidade_Ms             : num [1:72] -29 0 -7 -22 NA NA -6 -8 7 -11 ...\n",
      " $ Flexibilidade_MI             : num [1:72] -33 0 -15 -4 -19 0 -5 -2 8 -23 ...\n",
      " $ TUG_sec                      : num [1:72] 8.9 7.11 7.42 10.52 9.31 ...\n",
      " $ DT_Sec                       : num [1:72] 9.1 9 8.6 11.9 13.2 8.7 9.2 8.7 6.7 8.7 ...\n",
      " $ DT_numero_animais            : num [1:72] 10 8 7 7 9 6 8 7 5 5 ...\n",
      " $ quantidade_total_de_medicação: num [1:72] 8 8 6 8 7 4 2 5 6 8 ...\n",
      " $ medicaçao_tipo_cardiovascular: Factor w/ 5 levels \"Anti + HAS\",\"Beta\",..: 3 5 3 4 4 5 2 2 2 4 ...\n"
     ]
    }
   ],
   "source": [
    "#bd[] <- lapply(bd, as.factor) #Transforma todo o banco de dados em fator\n",
    "\n",
    "bd[,c(\"Caidor\",\"Genero\",\"Nivel_social\",\"etnia\",\"Freq_atividade\",\"Criterio_AHA\",\"Anti_hipertensivo\",\"betabloqueador\",\"Anticoagulante_classif\",\n",
    "    \"Diuretico_classif\",\"medicação_tipo_mental\",\"medicação_tipo_saude\",\"antidepressivo\",\"ansiolitico\",\"benzodiazepinico\",\"DVC_primaria\",\n",
    "    \"HAS\",\"Doenca_Respi\",\"medicaçao_tipo_cardiovascular\")]<- lapply(bd[,c(\"Caidor\",\"Genero\",\"Nivel_social\",\"etnia\",\"Freq_atividade\",\"Criterio_AHA\",\"Anti_hipertensivo\",\"betabloqueador\",\"Anticoagulante_classif\",\n",
    "    \"Diuretico_classif\",\"medicação_tipo_mental\",\"medicação_tipo_saude\",\"antidepressivo\",\"ansiolitico\",\"benzodiazepinico\",\"DVC_primaria\",\n",
    "    \"HAS\",\"Doenca_Respi\",\"medicaçao_tipo_cardiovascular\")],as.factor)\n",
    "\n",
    "str(bd) #Sim=2 (classe negativa)"
   ]
  },
  {
   "cell_type": "code",
   "execution_count": 37,
   "metadata": {},
   "outputs": [
    {
     "name": "stdout",
     "output_type": "stream",
     "text": [
      " Factor w/ 2 levels \"sim\",\"não\": 1 2 2 1 2 2 1 2 2 1 ...\n"
     ]
    }
   ],
   "source": [
    "#Alterando a classe de referência (não -> sim) #Sim=1\n",
    "bd2 <- within(bd, Caidor <- relevel(Caidor, ref = \"sim\")) \n",
    "str(bd2$Caidor)"
   ]
  },
  {
   "cell_type": "markdown",
   "metadata": {},
   "source": [
    "## Removendo dados faltantes"
   ]
  },
  {
   "cell_type": "code",
   "execution_count": 38,
   "metadata": {},
   "outputs": [
    {
     "data": {
      "text/plain": [
       "\n",
       "sim não \n",
       " 24  48 "
      ]
     },
     "metadata": {},
     "output_type": "display_data"
    },
    {
     "data": {
      "text/html": [
       "<style>\n",
       ".list-inline {list-style: none; margin:0; padding: 0}\n",
       ".list-inline>li {display: inline-block}\n",
       ".list-inline>li:not(:last-child)::after {content: \"\\00b7\"; padding: 0 .5ex}\n",
       "</style>\n",
       "<ol class=list-inline><li>52</li><li>40</li></ol>\n"
      ],
      "text/latex": [
       "\\begin{enumerate*}\n",
       "\\item 52\n",
       "\\item 40\n",
       "\\end{enumerate*}\n"
      ],
      "text/markdown": [
       "1. 52\n",
       "2. 40\n",
       "\n",
       "\n"
      ],
      "text/plain": [
       "[1] 52 40"
      ]
     },
     "metadata": {},
     "output_type": "display_data"
    },
    {
     "data": {
      "text/plain": [
       "\n",
       "sim não \n",
       " 19  33 "
      ]
     },
     "metadata": {},
     "output_type": "display_data"
    }
   ],
   "source": [
    "table(bd2$Caidor) #(24 sim e 48 não)\n",
    "BD<- na.omit(bd2) \n",
    "dim(BD) #52 idosos após remoção dos Nas\n",
    "table(BD$Caidor) #(19 sim e 33 não)"
   ]
  },
  {
   "cell_type": "markdown",
   "metadata": {},
   "source": [
    "# Análise descritiva (*n total - com NA*) "
   ]
  },
  {
   "cell_type": "markdown",
   "metadata": {},
   "source": [
    "## N total (casos e controles)"
   ]
  },
  {
   "cell_type": "code",
   "execution_count": 104,
   "metadata": {},
   "outputs": [
    {
     "data": {
      "text/plain": [
       "$Caidor\n",
       "sim não \n",
       " 24  48 \n",
       "\n",
       "$Genero\n",
       " homem mulher \n",
       "    43     29 \n",
       "\n",
       "$idade\n",
       "   Min. 1st Qu.  Median    Mean 3rd Qu.    Max. \n",
       "  60.00   69.00   75.00   74.51   79.25   92.00 \n",
       "\n",
       "$Nivel_social\n",
       " a  b  c  d \n",
       "12 43 16  1 \n",
       "\n",
       "$etnia\n",
       "branco  preto \n",
       "    61     11 \n",
       "\n",
       "$Nivel_educacional\n",
       "   Min. 1st Qu.  Median    Mean 3rd Qu.    Max. \n",
       "   8.00   14.00   16.00   15.64   16.50   24.00 \n",
       "\n",
       "$Freq_atividade\n",
       "        2x         3x sedentario \n",
       "        21         34         17 \n",
       "\n",
       "$Criterio_AHA\n",
       " b  c \n",
       "49 23 \n",
       "\n",
       "$Anti_hipertensivo\n",
       "não sim \n",
       " 15  57 \n",
       "\n",
       "$betabloqueador\n",
       "não sim \n",
       "  6  66 \n",
       "\n",
       "$Anticoagulante_classif\n",
       "não sim \n",
       " 41  31 \n",
       "\n",
       "$Diuretico_classif\n",
       "não sim \n",
       " 48  24 \n",
       "\n",
       "$medicação_tipo_mental\n",
       "         ansiolitico       antidepressivo antidepressivo+benzo \n",
       "                   2                    5                    8 \n",
       "    benzodiazepinico                  não \n",
       "                  28                   29 \n",
       "\n",
       "$medicação_tipo_saude\n",
       " cardio+mental cardiovascular \n",
       "            43             29 \n",
       "\n",
       "$antidepressivo\n",
       "não sim \n",
       " 61  11 \n",
       "\n",
       "$ansiolitico\n",
       "não sim \n",
       " 70   2 \n",
       "\n",
       "$benzodiazepinico\n",
       "não sim \n",
       " 39  33 \n",
       "\n",
       "$DVC_primaria\n",
       "aneurisma da aorta             angina           arritmia            infarto \n",
       "                 3                  4                 28                  9 \n",
       "     insuficiencia           isquemia               nada \n",
       "                19                  7                  2 \n",
       "\n",
       "$HAS\n",
       "não sim \n",
       " 15  57 \n",
       "\n",
       "$Tempo_doença\n",
       "   Min. 1st Qu.  Median    Mean 3rd Qu.    Max. \n",
       "   2.00    5.00    8.00   10.03   14.00   41.00 \n",
       "\n",
       "$Doenca_Respi\n",
       "duas  não  sim três NA's \n",
       "   2   58    8    3    1 \n",
       "\n",
       "$MMSE\n",
       "   Min. 1st Qu.  Median    Mean 3rd Qu.    Max.    NA's \n",
       "  22.00   27.00   29.00   28.28   30.00   30.00       1 \n",
       "\n",
       "$Fluencia_verbal\n",
       "   Min. 1st Qu.  Median    Mean 3rd Qu.    Max. \n",
       "   9.00   17.00   21.00   21.12   25.25   35.00 \n",
       "\n",
       "$Trilhas_A\n",
       "   Min. 1st Qu.  Median    Mean 3rd Qu.    Max.    NA's \n",
       "  20.80   36.30   43.20   47.75   55.00  148.90       1 \n",
       "\n",
       "$Trilhas_b\n",
       "   Min. 1st Qu.  Median    Mean 3rd Qu.    Max.    NA's \n",
       "   30.1    67.3    85.4   114.4   131.9   300.0       1 \n",
       "\n",
       "$GDS\n",
       "   Min. 1st Qu.  Median    Mean 3rd Qu.    Max.    NA's \n",
       "  0.000   0.000   1.000   3.775   4.500  28.000       1 \n",
       "\n",
       "$FES_I\n",
       "   Min. 1st Qu.  Median    Mean 3rd Qu.    Max.    NA's \n",
       "  16.00   16.00   16.00   19.83   21.00   39.00       1 \n",
       "\n",
       "$Vsaq\n",
       "   Min. 1st Qu.  Median    Mean 3rd Qu.    Max. \n",
       "  3.000   5.000   7.000   6.542   7.250  11.000 \n",
       "\n",
       "$Vo2_maximo_avaliado\n",
       "   Min. 1st Qu.  Median    Mean 3rd Qu.    Max.    NA's \n",
       "  10.00   13.85   17.50   17.35   19.90   29.10       9 \n",
       "\n",
       "$IMC\n",
       "   Min. 1st Qu.  Median    Mean 3rd Qu.    Max. \n",
       "  18.10   24.95   26.75   26.98   29.10   45.40 \n",
       "\n",
       "$Dinamometria\n",
       "   Min. 1st Qu.  Median    Mean 3rd Qu.    Max. \n",
       "  12.00   20.20   26.70   27.26   32.80   52.90 \n",
       "\n",
       "$Berg\n",
       "   Min. 1st Qu.  Median    Mean 3rd Qu.    Max. \n",
       "  37.00   54.00   55.00   53.65   56.00   56.00 \n",
       "\n",
       "$STS\n",
       "   Min. 1st Qu.  Median    Mean 3rd Qu.    Max.    NA's \n",
       "   0.00    9.00   11.00   10.44   12.00   21.00       4 \n",
       "\n",
       "$Flexibilidade_Ms\n",
       "   Min. 1st Qu.  Median    Mean 3rd Qu.    Max.    NA's \n",
       " -36.00  -24.50  -13.00  -14.34   -5.75    7.00       8 \n",
       "\n",
       "$Flexibilidade_MI\n",
       "   Min. 1st Qu.  Median    Mean 3rd Qu.    Max.    NA's \n",
       " -46.00  -19.00  -12.00  -11.35   -2.00    8.00       4 \n",
       "\n",
       "$TUG_sec\n",
       "   Min. 1st Qu.  Median    Mean 3rd Qu.    Max.    NA's \n",
       "  4.200   6.120   7.110   7.258   8.540  11.000       2 \n",
       "\n",
       "$DT_Sec\n",
       "   Min. 1st Qu.  Median    Mean 3rd Qu.    Max.    NA's \n",
       "  4.900   6.900   7.800   8.374   8.975  20.000       6 \n",
       "\n",
       "$DT_numero_animais\n",
       "   Min. 1st Qu.  Median    Mean 3rd Qu.    Max.    NA's \n",
       "  3.000   5.000   6.000   6.273   7.750  10.000       6 \n",
       "\n",
       "$quantidade_total_de_medicação\n",
       "   Min. 1st Qu.  Median    Mean 3rd Qu.    Max. \n",
       "  2.000   5.000   6.000   6.097   7.000  17.000 \n",
       "\n",
       "$medicaçao_tipo_cardiovascular\n",
       "            Anti + HAS                   Beta       Beta + Anti_Coag \n",
       "                     4                     15                     12 \n",
       "Beta + Anti_Coag + Diu        Beta + Anti_HAS \n",
       "                    20                     21 \n"
      ]
     },
     "metadata": {},
     "output_type": "display_data"
    },
    {
     "data": {
      "text/html": [
       "<style>\n",
       ".dl-inline {width: auto; margin:0; padding: 0}\n",
       ".dl-inline>dt, .dl-inline>dd {float: none; width: auto; display: inline-block}\n",
       ".dl-inline>dt::after {content: \":\\0020\"; padding-right: .5ex}\n",
       ".dl-inline>dt:not(:first-of-type) {padding-left: .5ex}\n",
       "</style><dl class=dl-inline><dt>idade</dt><dd>6.88127292424178</dd><dt>Nivel_educacional</dt><dd>3.63203879250998</dd><dt>Tempo_doença</dt><dd>7.08096480698846</dd><dt>MMSE</dt><dd>1.86840725593867</dd><dt>Fluencia_verbal</dt><dd>5.6367443905098</dd><dt>Trilhas_A</dt><dd>20.2959164698742</dd><dt>Trilhas_b</dt><dd>71.641107709773</dd><dt>GDS</dt><dd>5.74505298520535</dd><dt>FES_I</dt><dd>6.04976012627882</dd><dt>Vsaq</dt><dd>1.61801042842093</dd><dt>Vo2_maximo_avaliado</dt><dd>4.23928908433999</dd><dt>IMC</dt><dd>3.98371661188625</dd><dt>Dinamometria</dt><dd>8.95200906800689</dd><dt>Berg</dt><dd>3.72717361564891</dd><dt>STS</dt><dd>3.24788037856507</dd><dt>Flexibilidade_Ms</dt><dd>11.8833199759492</dd><dt>Flexibilidade_MI</dt><dd>10.6094363881452</dd><dt>TUG_sec</dt><dd>1.55901054914312</dd><dt>DT_Sec</dt><dd>2.6685236832411</dd><dt>DT_numero_animais</dt><dd>1.84428810151739</dd><dt>quantidade_total_de_medicação</dt><dd>2.44465339126897</dd></dl>\n"
      ],
      "text/latex": [
       "\\begin{description*}\n",
       "\\item[idade] 6.88127292424178\n",
       "\\item[Nivel\\textbackslash{}\\_educacional] 3.63203879250998\n",
       "\\item[Tempo\\textbackslash{}\\_doença] 7.08096480698846\n",
       "\\item[MMSE] 1.86840725593867\n",
       "\\item[Fluencia\\textbackslash{}\\_verbal] 5.6367443905098\n",
       "\\item[Trilhas\\textbackslash{}\\_A] 20.2959164698742\n",
       "\\item[Trilhas\\textbackslash{}\\_b] 71.641107709773\n",
       "\\item[GDS] 5.74505298520535\n",
       "\\item[FES\\textbackslash{}\\_I] 6.04976012627882\n",
       "\\item[Vsaq] 1.61801042842093\n",
       "\\item[Vo2\\textbackslash{}\\_maximo\\textbackslash{}\\_avaliado] 4.23928908433999\n",
       "\\item[IMC] 3.98371661188625\n",
       "\\item[Dinamometria] 8.95200906800689\n",
       "\\item[Berg] 3.72717361564891\n",
       "\\item[STS] 3.24788037856507\n",
       "\\item[Flexibilidade\\textbackslash{}\\_Ms] 11.8833199759492\n",
       "\\item[Flexibilidade\\textbackslash{}\\_MI] 10.6094363881452\n",
       "\\item[TUG\\textbackslash{}\\_sec] 1.55901054914312\n",
       "\\item[DT\\textbackslash{}\\_Sec] 2.6685236832411\n",
       "\\item[DT\\textbackslash{}\\_numero\\textbackslash{}\\_animais] 1.84428810151739\n",
       "\\item[quantidade\\textbackslash{}\\_total\\textbackslash{}\\_de\\textbackslash{}\\_medicação] 2.44465339126897\n",
       "\\end{description*}\n"
      ],
      "text/markdown": [
       "idade\n",
       ":   6.88127292424178Nivel_educacional\n",
       ":   3.63203879250998Tempo_doença\n",
       ":   7.08096480698846MMSE\n",
       ":   1.86840725593867Fluencia_verbal\n",
       ":   5.6367443905098Trilhas_A\n",
       ":   20.2959164698742Trilhas_b\n",
       ":   71.641107709773GDS\n",
       ":   5.74505298520535FES_I\n",
       ":   6.04976012627882Vsaq\n",
       ":   1.61801042842093Vo2_maximo_avaliado\n",
       ":   4.23928908433999IMC\n",
       ":   3.98371661188625Dinamometria\n",
       ":   8.95200906800689Berg\n",
       ":   3.72717361564891STS\n",
       ":   3.24788037856507Flexibilidade_Ms\n",
       ":   11.8833199759492Flexibilidade_MI\n",
       ":   10.6094363881452TUG_sec\n",
       ":   1.55901054914312DT_Sec\n",
       ":   2.6685236832411DT_numero_animais\n",
       ":   1.84428810151739quantidade_total_de_medicação\n",
       ":   2.44465339126897\n",
       "\n"
      ],
      "text/plain": [
       "                        idade             Nivel_educacional \n",
       "                     6.881273                      3.632039 \n",
       "                 Tempo_doença                          MMSE \n",
       "                     7.080965                      1.868407 \n",
       "              Fluencia_verbal                     Trilhas_A \n",
       "                     5.636744                     20.295916 \n",
       "                    Trilhas_b                           GDS \n",
       "                    71.641108                      5.745053 \n",
       "                        FES_I                          Vsaq \n",
       "                     6.049760                      1.618010 \n",
       "          Vo2_maximo_avaliado                           IMC \n",
       "                     4.239289                      3.983717 \n",
       "                 Dinamometria                          Berg \n",
       "                     8.952009                      3.727174 \n",
       "                          STS              Flexibilidade_Ms \n",
       "                     3.247880                     11.883320 \n",
       "             Flexibilidade_MI                       TUG_sec \n",
       "                    10.609436                      1.559011 \n",
       "                       DT_Sec             DT_numero_animais \n",
       "                     2.668524                      1.844288 \n",
       "quantidade_total_de_medicação \n",
       "                     2.444653 "
      ]
     },
     "metadata": {},
     "output_type": "display_data"
    }
   ],
   "source": [
    "#Mínimo, máximo, média, mediana e intervalo quartil das variáveis (numéricas)\n",
    "sapply(bd2,summary)\n",
    "#Desvio padrão\n",
    "sapply(bd2[,c(\"idade\",\"Nivel_educacional\",\"Tempo_doença\",\"MMSE\",\"Fluencia_verbal\",\"Trilhas_A\",\"Trilhas_b\",\"GDS\",\"FES_I\",\"Vsaq\",\"Vo2_maximo_avaliado\",\"IMC\",\"Dinamometria\",\"Berg\",\"STS\",\"Flexibilidade_Ms\",\"Flexibilidade_MI\",\"TUG_sec\",\"DT_Sec\",\"DT_numero_animais\",\"quantidade_total_de_medicação\")],sd,na.rm = TRUE)"
   ]
  },
  {
   "cell_type": "code",
   "execution_count": 70,
   "metadata": {},
   "outputs": [],
   "source": [
    "#Exportando bd2 em csv\n",
    "write.table(bd2, file='Dataset usado para a analise descritiva_24022022.csv', sep=';', dec=',', row.names=FALSE)"
   ]
  },
  {
   "cell_type": "markdown",
   "metadata": {},
   "source": [
    "## Casos x controles"
   ]
  },
  {
   "cell_type": "code",
   "execution_count": 42,
   "metadata": {},
   "outputs": [
    {
     "data": {
      "text/html": [
       "<style>\n",
       ".list-inline {list-style: none; margin:0; padding: 0}\n",
       ".list-inline>li {display: inline-block}\n",
       ".list-inline>li:not(:last-child)::after {content: \"\\00b7\"; padding: 0 .5ex}\n",
       "</style>\n",
       "<ol class=list-inline><li>48</li><li>40</li></ol>\n"
      ],
      "text/latex": [
       "\\begin{enumerate*}\n",
       "\\item 48\n",
       "\\item 40\n",
       "\\end{enumerate*}\n"
      ],
      "text/markdown": [
       "1. 48\n",
       "2. 40\n",
       "\n",
       "\n"
      ],
      "text/plain": [
       "[1] 48 40"
      ]
     },
     "metadata": {},
     "output_type": "display_data"
    },
    {
     "data": {
      "text/html": [
       "<style>\n",
       ".list-inline {list-style: none; margin:0; padding: 0}\n",
       ".list-inline>li {display: inline-block}\n",
       ".list-inline>li:not(:last-child)::after {content: \"\\00b7\"; padding: 0 .5ex}\n",
       "</style>\n",
       "<ol class=list-inline><li>24</li><li>40</li></ol>\n"
      ],
      "text/latex": [
       "\\begin{enumerate*}\n",
       "\\item 24\n",
       "\\item 40\n",
       "\\end{enumerate*}\n"
      ],
      "text/markdown": [
       "1. 24\n",
       "2. 40\n",
       "\n",
       "\n"
      ],
      "text/plain": [
       "[1] 24 40"
      ]
     },
     "metadata": {},
     "output_type": "display_data"
    },
    {
     "data": {
      "text/plain": [
       "$Caidor\n",
       "sim não \n",
       "  0  48 \n",
       "\n",
       "$Genero\n",
       " homem mulher \n",
       "    28     20 \n",
       "\n",
       "$idade\n",
       "   Min. 1st Qu.  Median    Mean 3rd Qu.    Max. \n",
       "  60.00   67.75   73.00   73.17   79.00   86.00 \n",
       "\n",
       "$Nivel_social\n",
       " a  b  c  d \n",
       " 9 28 11  0 \n",
       "\n",
       "$etnia\n",
       "branco  preto \n",
       "    42      6 \n",
       "\n",
       "$Nivel_educacional\n",
       "   Min. 1st Qu.  Median    Mean 3rd Qu.    Max. \n",
       "   8.00   14.00   16.00   15.92   16.50   24.00 \n",
       "\n",
       "$Freq_atividade\n",
       "        2x         3x sedentario \n",
       "        11         24         13 \n",
       "\n",
       "$Criterio_AHA\n",
       " b  c \n",
       "39  9 \n",
       "\n",
       "$Anti_hipertensivo\n",
       "não sim \n",
       "  8  40 \n",
       "\n",
       "$betabloqueador\n",
       "não sim \n",
       "  6  42 \n",
       "\n",
       "$Anticoagulante_classif\n",
       "não sim \n",
       " 36  12 \n",
       "\n",
       "$Diuretico_classif\n",
       "não sim \n",
       " 38  10 \n",
       "\n",
       "$medicação_tipo_mental\n",
       "         ansiolitico       antidepressivo antidepressivo+benzo \n",
       "                   1                    3                    4 \n",
       "    benzodiazepinico                  não \n",
       "                  15                   25 \n",
       "\n",
       "$medicação_tipo_saude\n",
       " cardio+mental cardiovascular \n",
       "            23             25 \n",
       "\n",
       "$antidepressivo\n",
       "não sim \n",
       " 43   5 \n",
       "\n",
       "$ansiolitico\n",
       "não sim \n",
       " 47   1 \n",
       "\n",
       "$benzodiazepinico\n",
       "não sim \n",
       " 31  17 \n",
       "\n",
       "$DVC_primaria\n",
       "aneurisma da aorta             angina           arritmia            infarto \n",
       "                 2                  4                 18                  5 \n",
       "     insuficiencia           isquemia               nada \n",
       "                15                  4                  0 \n",
       "\n",
       "$HAS\n",
       "não sim \n",
       "  8  40 \n",
       "\n",
       "$Tempo_doença\n",
       "   Min. 1st Qu.  Median    Mean 3rd Qu.    Max. \n",
       "  2.000   4.750   8.000   9.438  11.250  41.000 \n",
       "\n",
       "$Doenca_Respi\n",
       "duas  não  sim três NA's \n",
       "   1   39    5    2    1 \n",
       "\n",
       "$MMSE\n",
       "   Min. 1st Qu.  Median    Mean 3rd Qu.    Max.    NA's \n",
       "  23.00   28.00   29.00   28.53   30.00   30.00       1 \n",
       "\n",
       "$Fluencia_verbal\n",
       "   Min. 1st Qu.  Median    Mean 3rd Qu.    Max. \n",
       "  11.00   17.00   22.50   22.25   27.00   35.00 \n",
       "\n",
       "$Trilhas_A\n",
       "   Min. 1st Qu.  Median    Mean 3rd Qu.    Max.    NA's \n",
       "  20.80   36.60   40.30   44.26   50.55   86.10       1 \n",
       "\n",
       "$Trilhas_b\n",
       "   Min. 1st Qu.  Median    Mean 3rd Qu.    Max.    NA's \n",
       "   30.1    63.5    76.6    93.5   107.1   300.0       1 \n",
       "\n",
       "$GDS\n",
       "   Min. 1st Qu.  Median    Mean 3rd Qu.    Max.    NA's \n",
       "  0.000   0.000   1.000   3.255   3.500  28.000       1 \n",
       "\n",
       "$FES_I\n",
       "   Min. 1st Qu.  Median    Mean 3rd Qu.    Max.    NA's \n",
       "  16.00   16.00   16.00   18.53   19.00   32.00       1 \n",
       "\n",
       "$Vsaq\n",
       "   Min. 1st Qu.  Median    Mean 3rd Qu.    Max. \n",
       "   4.00    5.00    7.00    6.75    8.00   11.00 \n",
       "\n",
       "$Vo2_maximo_avaliado\n",
       "   Min. 1st Qu.  Median    Mean 3rd Qu.    Max.    NA's \n",
       "  10.00   16.10   18.60   18.46   21.00   29.10       6 \n",
       "\n",
       "$IMC\n",
       "   Min. 1st Qu.  Median    Mean 3rd Qu.    Max. \n",
       "  18.10   25.00   26.70   26.86   29.10   34.30 \n",
       "\n",
       "$Dinamometria\n",
       "   Min. 1st Qu.  Median    Mean 3rd Qu.    Max. \n",
       "  15.50   20.88   29.25   28.13   33.90   52.80 \n",
       "\n",
       "$Berg\n",
       "   Min. 1st Qu.  Median    Mean 3rd Qu.    Max. \n",
       "  42.00   54.00   56.00   54.62   56.00   56.00 \n",
       "\n",
       "$STS\n",
       "   Min. 1st Qu.  Median    Mean 3rd Qu.    Max.    NA's \n",
       "   0.00   10.00   11.00   11.04   12.00   21.00       3 \n",
       "\n",
       "$Flexibilidade_Ms\n",
       "   Min. 1st Qu.  Median    Mean 3rd Qu.    Max.    NA's \n",
       " -36.00  -25.50  -13.00  -14.05   -4.25    7.00       6 \n",
       "\n",
       "$Flexibilidade_MI\n",
       "   Min. 1st Qu.  Median    Mean 3rd Qu.    Max.    NA's \n",
       " -46.00  -20.00  -13.00  -11.14    0.00    8.00       4 \n",
       "\n",
       "$TUG_sec\n",
       "   Min. 1st Qu.  Median    Mean 3rd Qu.    Max.    NA's \n",
       "  4.200   5.728   6.840   6.913   7.880  11.000       2 \n",
       "\n",
       "$DT_Sec\n",
       "   Min. 1st Qu.  Median    Mean 3rd Qu.    Max.    NA's \n",
       "  4.900   6.300   7.450   7.740   8.075  19.000       6 \n",
       "\n",
       "$DT_numero_animais\n",
       "   Min. 1st Qu.  Median    Mean 3rd Qu.    Max.    NA's \n",
       "  3.000   5.000   6.000   6.238   7.750   9.000       6 \n",
       "\n",
       "$quantidade_total_de_medicação\n",
       "   Min. 1st Qu.  Median    Mean 3rd Qu.    Max. \n",
       "  2.000   4.750   6.000   5.771   7.000  17.000 \n",
       "\n",
       "$medicaçao_tipo_cardiovascular\n",
       "            Anti + HAS                   Beta       Beta + Anti_Coag \n",
       "                     4                     13                      6 \n",
       "Beta + Anti_Coag + Diu        Beta + Anti_HAS \n",
       "                     7                     18 \n"
      ]
     },
     "metadata": {},
     "output_type": "display_data"
    },
    {
     "data": {
      "text/plain": [
       "$Caidor\n",
       "sim não \n",
       " 24   0 \n",
       "\n",
       "$Genero\n",
       " homem mulher \n",
       "    15      9 \n",
       "\n",
       "$idade\n",
       "   Min. 1st Qu.  Median    Mean 3rd Qu.    Max. \n",
       "  65.00   74.00   76.50   77.21   81.25   92.00 \n",
       "\n",
       "$Nivel_social\n",
       " a  b  c  d \n",
       " 3 15  5  1 \n",
       "\n",
       "$etnia\n",
       "branco  preto \n",
       "    19      5 \n",
       "\n",
       "$Nivel_educacional\n",
       "   Min. 1st Qu.  Median    Mean 3rd Qu.    Max. \n",
       "   8.00   12.00   16.00   15.08   16.50   22.00 \n",
       "\n",
       "$Freq_atividade\n",
       "        2x         3x sedentario \n",
       "        10         10          4 \n",
       "\n",
       "$Criterio_AHA\n",
       " b  c \n",
       "10 14 \n",
       "\n",
       "$Anti_hipertensivo\n",
       "não sim \n",
       "  7  17 \n",
       "\n",
       "$betabloqueador\n",
       "não sim \n",
       "  0  24 \n",
       "\n",
       "$Anticoagulante_classif\n",
       "não sim \n",
       "  5  19 \n",
       "\n",
       "$Diuretico_classif\n",
       "não sim \n",
       " 10  14 \n",
       "\n",
       "$medicação_tipo_mental\n",
       "         ansiolitico       antidepressivo antidepressivo+benzo \n",
       "                   1                    2                    4 \n",
       "    benzodiazepinico                  não \n",
       "                  13                    4 \n",
       "\n",
       "$medicação_tipo_saude\n",
       " cardio+mental cardiovascular \n",
       "            20              4 \n",
       "\n",
       "$antidepressivo\n",
       "não sim \n",
       " 18   6 \n",
       "\n",
       "$ansiolitico\n",
       "não sim \n",
       " 23   1 \n",
       "\n",
       "$benzodiazepinico\n",
       "não sim \n",
       "  8  16 \n",
       "\n",
       "$DVC_primaria\n",
       "aneurisma da aorta             angina           arritmia            infarto \n",
       "                 1                  0                 10                  4 \n",
       "     insuficiencia           isquemia               nada \n",
       "                 4                  3                  2 \n",
       "\n",
       "$HAS\n",
       "não sim \n",
       "  7  17 \n",
       "\n",
       "$Tempo_doença\n",
       "   Min. 1st Qu.  Median    Mean 3rd Qu.    Max. \n",
       "   2.00    6.00   10.00   11.21   15.25   25.00 \n",
       "\n",
       "$Doenca_Respi\n",
       "duas  não  sim três \n",
       "   1   19    3    1 \n",
       "\n",
       "$MMSE\n",
       "   Min. 1st Qu.  Median    Mean 3rd Qu.    Max. \n",
       "  22.00   26.75   29.00   27.79   29.25   30.00 \n",
       "\n",
       "$Fluencia_verbal\n",
       "   Min. 1st Qu.  Median    Mean 3rd Qu.    Max. \n",
       "   9.00   15.75   19.00   18.88   21.00   30.00 \n",
       "\n",
       "$Trilhas_A\n",
       "   Min. 1st Qu.  Median    Mean 3rd Qu.    Max. \n",
       "  29.20   35.05   45.10   54.57   64.50  148.90 \n",
       "\n",
       "$Trilhas_b\n",
       "   Min. 1st Qu.  Median    Mean 3rd Qu.    Max. \n",
       "  57.20   86.62  124.70  155.44  210.78  300.00 \n",
       "\n",
       "$GDS\n",
       "   Min. 1st Qu.  Median    Mean 3rd Qu.    Max. \n",
       "  0.000   0.000   2.500   4.792   7.750  16.000 \n",
       "\n",
       "$FES_I\n",
       "   Min. 1st Qu.  Median    Mean 3rd Qu.    Max. \n",
       "  16.00   16.00   18.50   22.38   27.25   39.00 \n",
       "\n",
       "$Vsaq\n",
       "   Min. 1st Qu.  Median    Mean 3rd Qu.    Max. \n",
       "  3.000   5.000   6.000   6.125   7.000  11.000 \n",
       "\n",
       "$Vo2_maximo_avaliado\n",
       "   Min. 1st Qu.  Median    Mean 3rd Qu.    Max.    NA's \n",
       "  10.00   13.40   14.60   15.13   17.00   23.10       3 \n",
       "\n",
       "$IMC\n",
       "   Min. 1st Qu.  Median    Mean 3rd Qu.    Max. \n",
       "  20.10   24.95   26.80   27.21   28.85   45.40 \n",
       "\n",
       "$Dinamometria\n",
       "   Min. 1st Qu.  Median    Mean 3rd Qu.    Max. \n",
       "  12.00   18.93   23.10   25.52   29.68   52.90 \n",
       "\n",
       "$Berg\n",
       "   Min. 1st Qu.  Median    Mean 3rd Qu.    Max. \n",
       "  37.00   49.75   54.00   51.71   55.00   56.00 \n",
       "\n",
       "$STS\n",
       "   Min. 1st Qu.  Median    Mean 3rd Qu.    Max.    NA's \n",
       "  5.000   7.000   9.000   9.261  12.000  13.000       1 \n",
       "\n",
       "$Flexibilidade_Ms\n",
       "   Min. 1st Qu.  Median    Mean 3rd Qu.    Max.    NA's \n",
       " -35.00  -21.00  -13.00  -14.91   -7.25    0.00       2 \n",
       "\n",
       "$Flexibilidade_MI\n",
       "   Min. 1st Qu.  Median    Mean 3rd Qu.    Max. \n",
       " -33.00  -18.25  -12.00  -11.75   -4.75    3.00 \n",
       "\n",
       "$TUG_sec\n",
       "   Min. 1st Qu.  Median    Mean 3rd Qu.    Max. \n",
       "  5.860   6.893   7.440   7.920   9.000  11.000 \n",
       "\n",
       "$DT_Sec\n",
       "   Min. 1st Qu.  Median    Mean 3rd Qu.    Max. \n",
       "  6.900   7.575   8.700   9.483   9.425  20.000 \n",
       "\n",
       "$DT_numero_animais\n",
       "   Min. 1st Qu.  Median    Mean 3rd Qu.    Max. \n",
       "  3.000   5.000   6.500   6.333   7.250  10.000 \n",
       "\n",
       "$quantidade_total_de_medicação\n",
       "   Min. 1st Qu.  Median    Mean 3rd Qu.    Max. \n",
       "   2.00    5.00    6.50    6.75    8.00   12.00 \n",
       "\n",
       "$medicaçao_tipo_cardiovascular\n",
       "            Anti + HAS                   Beta       Beta + Anti_Coag \n",
       "                     0                      2                      6 \n",
       "Beta + Anti_Coag + Diu        Beta + Anti_HAS \n",
       "                    13                      3 \n"
      ]
     },
     "metadata": {},
     "output_type": "display_data"
    }
   ],
   "source": [
    "controle<- grep(\"não\",bd2$Caidor)\n",
    "caso<- grep(\"sim\",bd2$Caidor)\n",
    "bd_controle<- bd2[controle,]\n",
    "bd_caso<- bd2[caso,]\n",
    "dim(bd_controle)\n",
    "dim(bd_caso)\n",
    "\n",
    "#Mínimo, máximo, média, mediana e intervalo quartil das variáveis (numéricas)\n",
    "sapply(bd_controle,summary)\n",
    "sapply(bd_caso,summary)"
   ]
  },
  {
   "cell_type": "code",
   "execution_count": 105,
   "metadata": {},
   "outputs": [
    {
     "data": {
      "text/html": [
       "<style>\n",
       ".dl-inline {width: auto; margin:0; padding: 0}\n",
       ".dl-inline>dt, .dl-inline>dd {float: none; width: auto; display: inline-block}\n",
       ".dl-inline>dt::after {content: \":\\0020\"; padding-right: .5ex}\n",
       ".dl-inline>dt:not(:first-of-type) {padding-left: .5ex}\n",
       "</style><dl class=dl-inline><dt>idade</dt><dd>7.03889901126449</dd><dt>Nivel_educacional</dt><dd>3.54204733039808</dd><dt>Tempo_doença</dt><dd>7.30754856004712</dd><dt>MMSE</dt><dd>1.53014724823956</dd><dt>Fluencia_verbal</dt><dd>5.82547596448273</dd><dt>Trilhas_A</dt><dd>15.1169593729874</dd><dt>Trilhas_b</dt><dd>52.0505939382511</dd><dt>GDS</dt><dd>5.88464503420031</dd><dt>FES_I</dt><dd>4.65249378585099</dd><dt>Vsaq</dt><dd>1.52287522015765</dd><dt>Vo2_maximo_avaliado</dt><dd>4.2554958658045</dd><dt>IMC</dt><dd>3.54273242204155</dd><dt>Dinamometria</dt><dd>8.87337239096007</dd><dt>Berg</dt><dd>2.63870535631525</dd><dt>STS</dt><dd>3.3094599638801</dd><dt>Flexibilidade_Ms</dt><dd>12.8726451902008</dd><dt>Flexibilidade_MI</dt><dd>11.5004366127247</dd><dt>TUG_sec</dt><dd>1.4807031884774</dd><dt>DT_Sec</dt><dd>2.3310271496896</dd><dt>DT_numero_animais</dt><dd>1.69374061148724</dd><dt>quantidade_total_de_medicação</dt><dd>2.46886642377422</dd></dl>\n"
      ],
      "text/latex": [
       "\\begin{description*}\n",
       "\\item[idade] 7.03889901126449\n",
       "\\item[Nivel\\textbackslash{}\\_educacional] 3.54204733039808\n",
       "\\item[Tempo\\textbackslash{}\\_doença] 7.30754856004712\n",
       "\\item[MMSE] 1.53014724823956\n",
       "\\item[Fluencia\\textbackslash{}\\_verbal] 5.82547596448273\n",
       "\\item[Trilhas\\textbackslash{}\\_A] 15.1169593729874\n",
       "\\item[Trilhas\\textbackslash{}\\_b] 52.0505939382511\n",
       "\\item[GDS] 5.88464503420031\n",
       "\\item[FES\\textbackslash{}\\_I] 4.65249378585099\n",
       "\\item[Vsaq] 1.52287522015765\n",
       "\\item[Vo2\\textbackslash{}\\_maximo\\textbackslash{}\\_avaliado] 4.2554958658045\n",
       "\\item[IMC] 3.54273242204155\n",
       "\\item[Dinamometria] 8.87337239096007\n",
       "\\item[Berg] 2.63870535631525\n",
       "\\item[STS] 3.3094599638801\n",
       "\\item[Flexibilidade\\textbackslash{}\\_Ms] 12.8726451902008\n",
       "\\item[Flexibilidade\\textbackslash{}\\_MI] 11.5004366127247\n",
       "\\item[TUG\\textbackslash{}\\_sec] 1.4807031884774\n",
       "\\item[DT\\textbackslash{}\\_Sec] 2.3310271496896\n",
       "\\item[DT\\textbackslash{}\\_numero\\textbackslash{}\\_animais] 1.69374061148724\n",
       "\\item[quantidade\\textbackslash{}\\_total\\textbackslash{}\\_de\\textbackslash{}\\_medicação] 2.46886642377422\n",
       "\\end{description*}\n"
      ],
      "text/markdown": [
       "idade\n",
       ":   7.03889901126449Nivel_educacional\n",
       ":   3.54204733039808Tempo_doença\n",
       ":   7.30754856004712MMSE\n",
       ":   1.53014724823956Fluencia_verbal\n",
       ":   5.82547596448273Trilhas_A\n",
       ":   15.1169593729874Trilhas_b\n",
       ":   52.0505939382511GDS\n",
       ":   5.88464503420031FES_I\n",
       ":   4.65249378585099Vsaq\n",
       ":   1.52287522015765Vo2_maximo_avaliado\n",
       ":   4.2554958658045IMC\n",
       ":   3.54273242204155Dinamometria\n",
       ":   8.87337239096007Berg\n",
       ":   2.63870535631525STS\n",
       ":   3.3094599638801Flexibilidade_Ms\n",
       ":   12.8726451902008Flexibilidade_MI\n",
       ":   11.5004366127247TUG_sec\n",
       ":   1.4807031884774DT_Sec\n",
       ":   2.3310271496896DT_numero_animais\n",
       ":   1.69374061148724quantidade_total_de_medicação\n",
       ":   2.46886642377422\n",
       "\n"
      ],
      "text/plain": [
       "                        idade             Nivel_educacional \n",
       "                     7.038899                      3.542047 \n",
       "                 Tempo_doença                          MMSE \n",
       "                     7.307549                      1.530147 \n",
       "              Fluencia_verbal                     Trilhas_A \n",
       "                     5.825476                     15.116959 \n",
       "                    Trilhas_b                           GDS \n",
       "                    52.050594                      5.884645 \n",
       "                        FES_I                          Vsaq \n",
       "                     4.652494                      1.522875 \n",
       "          Vo2_maximo_avaliado                           IMC \n",
       "                     4.255496                      3.542732 \n",
       "                 Dinamometria                          Berg \n",
       "                     8.873372                      2.638705 \n",
       "                          STS              Flexibilidade_Ms \n",
       "                     3.309460                     12.872645 \n",
       "             Flexibilidade_MI                       TUG_sec \n",
       "                    11.500437                      1.480703 \n",
       "                       DT_Sec             DT_numero_animais \n",
       "                     2.331027                      1.693741 \n",
       "quantidade_total_de_medicação \n",
       "                     2.468866 "
      ]
     },
     "metadata": {},
     "output_type": "display_data"
    },
    {
     "data": {
      "text/html": [
       "<style>\n",
       ".dl-inline {width: auto; margin:0; padding: 0}\n",
       ".dl-inline>dt, .dl-inline>dd {float: none; width: auto; display: inline-block}\n",
       ".dl-inline>dt::after {content: \":\\0020\"; padding-right: .5ex}\n",
       ".dl-inline>dt:not(:first-of-type) {padding-left: .5ex}\n",
       "</style><dl class=dl-inline><dt>idade</dt><dd>5.79339328866093</dd><dt>Nivel_educacional</dt><dd>3.82118427655123</dd><dt>Tempo_doença</dt><dd>6.59366736159494</dd><dt>MMSE</dt><dd>2.35868730379876</dd><dt>Fluencia_verbal</dt><dd>4.56177406374928</dd><dt>Trilhas_A</dt><dd>26.8922888441159</dd><dt>Trilhas_b</dt><dd>86.8984510627287</dd><dt>GDS</dt><dd>5.43722408928503</dd><dt>FES_I</dt><dd>7.60899067751005</dd><dt>Vsaq</dt><dd>1.7523276445668</dd><dt>Vo2_maximo_avaliado</dt><dd>3.28787816944954</dd><dt>IMC</dt><dd>4.82267440387562</dd><dt>Dinamometria</dt><dd>9.04013594870202</dd><dt>Berg</dt><dd>4.76836647507086</dd><dt>STS</dt><dd>2.83191858037088</dd><dt>Flexibilidade_Ms</dt><dd>9.98050046893389</dd><dt>Flexibilidade_MI</dt><dd>8.96490742938215</dd><dt>TUG_sec</dt><dd>1.51836719843237</dd><dt>DT_Sec</dt><dd>2.9019733416009</dd><dt>DT_numero_animais</dt><dd>2.11961166801573</dd><dt>quantidade_total_de_medicação</dt><dd>2.30783165688525</dd></dl>\n"
      ],
      "text/latex": [
       "\\begin{description*}\n",
       "\\item[idade] 5.79339328866093\n",
       "\\item[Nivel\\textbackslash{}\\_educacional] 3.82118427655123\n",
       "\\item[Tempo\\textbackslash{}\\_doença] 6.59366736159494\n",
       "\\item[MMSE] 2.35868730379876\n",
       "\\item[Fluencia\\textbackslash{}\\_verbal] 4.56177406374928\n",
       "\\item[Trilhas\\textbackslash{}\\_A] 26.8922888441159\n",
       "\\item[Trilhas\\textbackslash{}\\_b] 86.8984510627287\n",
       "\\item[GDS] 5.43722408928503\n",
       "\\item[FES\\textbackslash{}\\_I] 7.60899067751005\n",
       "\\item[Vsaq] 1.7523276445668\n",
       "\\item[Vo2\\textbackslash{}\\_maximo\\textbackslash{}\\_avaliado] 3.28787816944954\n",
       "\\item[IMC] 4.82267440387562\n",
       "\\item[Dinamometria] 9.04013594870202\n",
       "\\item[Berg] 4.76836647507086\n",
       "\\item[STS] 2.83191858037088\n",
       "\\item[Flexibilidade\\textbackslash{}\\_Ms] 9.98050046893389\n",
       "\\item[Flexibilidade\\textbackslash{}\\_MI] 8.96490742938215\n",
       "\\item[TUG\\textbackslash{}\\_sec] 1.51836719843237\n",
       "\\item[DT\\textbackslash{}\\_Sec] 2.9019733416009\n",
       "\\item[DT\\textbackslash{}\\_numero\\textbackslash{}\\_animais] 2.11961166801573\n",
       "\\item[quantidade\\textbackslash{}\\_total\\textbackslash{}\\_de\\textbackslash{}\\_medicação] 2.30783165688525\n",
       "\\end{description*}\n"
      ],
      "text/markdown": [
       "idade\n",
       ":   5.79339328866093Nivel_educacional\n",
       ":   3.82118427655123Tempo_doença\n",
       ":   6.59366736159494MMSE\n",
       ":   2.35868730379876Fluencia_verbal\n",
       ":   4.56177406374928Trilhas_A\n",
       ":   26.8922888441159Trilhas_b\n",
       ":   86.8984510627287GDS\n",
       ":   5.43722408928503FES_I\n",
       ":   7.60899067751005Vsaq\n",
       ":   1.7523276445668Vo2_maximo_avaliado\n",
       ":   3.28787816944954IMC\n",
       ":   4.82267440387562Dinamometria\n",
       ":   9.04013594870202Berg\n",
       ":   4.76836647507086STS\n",
       ":   2.83191858037088Flexibilidade_Ms\n",
       ":   9.98050046893389Flexibilidade_MI\n",
       ":   8.96490742938215TUG_sec\n",
       ":   1.51836719843237DT_Sec\n",
       ":   2.9019733416009DT_numero_animais\n",
       ":   2.11961166801573quantidade_total_de_medicação\n",
       ":   2.30783165688525\n",
       "\n"
      ],
      "text/plain": [
       "                        idade             Nivel_educacional \n",
       "                     5.793393                      3.821184 \n",
       "                 Tempo_doença                          MMSE \n",
       "                     6.593667                      2.358687 \n",
       "              Fluencia_verbal                     Trilhas_A \n",
       "                     4.561774                     26.892289 \n",
       "                    Trilhas_b                           GDS \n",
       "                    86.898451                      5.437224 \n",
       "                        FES_I                          Vsaq \n",
       "                     7.608991                      1.752328 \n",
       "          Vo2_maximo_avaliado                           IMC \n",
       "                     3.287878                      4.822674 \n",
       "                 Dinamometria                          Berg \n",
       "                     9.040136                      4.768366 \n",
       "                          STS              Flexibilidade_Ms \n",
       "                     2.831919                      9.980500 \n",
       "             Flexibilidade_MI                       TUG_sec \n",
       "                     8.964907                      1.518367 \n",
       "                       DT_Sec             DT_numero_animais \n",
       "                     2.901973                      2.119612 \n",
       "quantidade_total_de_medicação \n",
       "                     2.307832 "
      ]
     },
     "metadata": {},
     "output_type": "display_data"
    }
   ],
   "source": [
    "#Desvio padrão\n",
    "sapply(bd_controle[,c(\"idade\",\"Nivel_educacional\",\"Tempo_doença\",\"MMSE\",\"Fluencia_verbal\",\"Trilhas_A\",\"Trilhas_b\",\"GDS\",\"FES_I\",\"Vsaq\",\"Vo2_maximo_avaliado\",\"IMC\",\"Dinamometria\",\"Berg\",\"STS\",\"Flexibilidade_Ms\",\"Flexibilidade_MI\",\"TUG_sec\",\"DT_Sec\",\"DT_numero_animais\",\"quantidade_total_de_medicação\")],sd,na.rm = TRUE)\n",
    "sapply(bd_caso[,c(\"idade\",\"Nivel_educacional\",\"Tempo_doença\",\"MMSE\",\"Fluencia_verbal\",\"Trilhas_A\",\"Trilhas_b\",\"GDS\",\"FES_I\",\"Vsaq\",\"Vo2_maximo_avaliado\",\"IMC\",\"Dinamometria\",\"Berg\",\"STS\",\"Flexibilidade_Ms\",\"Flexibilidade_MI\",\"TUG_sec\",\"DT_Sec\",\"DT_numero_animais\",\"quantidade_total_de_medicação\")],sd,na.rm = TRUE)"
   ]
  },
  {
   "cell_type": "markdown",
   "metadata": {},
   "source": [
    "# Testes de normalidade, de homocedasticidade, X², t-test e Mann-Whitney U (*n total - com NA*) "
   ]
  },
  {
   "cell_type": "markdown",
   "metadata": {},
   "source": [
    "## Teste kolmogorov-Smirnov"
   ]
  },
  {
   "cell_type": "code",
   "execution_count": 45,
   "metadata": {},
   "outputs": [
    {
     "name": "stderr",
     "output_type": "stream",
     "text": [
      "Warning message in ks.test(bd_controle$idade, bd_caso$idade):\n",
      "\"cannot compute exact p-value with ties\"\n"
     ]
    },
    {
     "data": {
      "text/plain": [
       "\n",
       "\tTwo-sample Kolmogorov-Smirnov test\n",
       "\n",
       "data:  bd_controle$idade and bd_caso$idade\n",
       "D = 0.375, p-value = 0.02222\n",
       "alternative hypothesis: two-sided\n"
      ]
     },
     "metadata": {},
     "output_type": "display_data"
    },
    {
     "name": "stderr",
     "output_type": "stream",
     "text": [
      "Warning message in ks.test(bd_controle$Nivel_educacional, bd_caso$Nivel_educacional):\n",
      "\"cannot compute exact p-value with ties\"\n"
     ]
    },
    {
     "data": {
      "text/plain": [
       "\n",
       "\tTwo-sample Kolmogorov-Smirnov test\n",
       "\n",
       "data:  bd_controle$Nivel_educacional and bd_caso$Nivel_educacional\n",
       "D = 0.16667, p-value = 0.7658\n",
       "alternative hypothesis: two-sided\n"
      ]
     },
     "metadata": {},
     "output_type": "display_data"
    },
    {
     "name": "stderr",
     "output_type": "stream",
     "text": [
      "Warning message in ks.test(bd_controle$Tempo_doença, bd_caso$Tempo_doença):\n",
      "\"cannot compute exact p-value with ties\"\n"
     ]
    },
    {
     "data": {
      "text/plain": [
       "\n",
       "\tTwo-sample Kolmogorov-Smirnov test\n",
       "\n",
       "data:  bd_controle$Tempo_doença and bd_caso$Tempo_doença\n",
       "D = 0.29167, p-value = 0.1314\n",
       "alternative hypothesis: two-sided\n"
      ]
     },
     "metadata": {},
     "output_type": "display_data"
    },
    {
     "name": "stderr",
     "output_type": "stream",
     "text": [
      "Warning message in ks.test(bd_controle$MMSE, bd_caso$MMSE):\n",
      "\"cannot compute exact p-value with ties\"\n"
     ]
    },
    {
     "data": {
      "text/plain": [
       "\n",
       "\tTwo-sample Kolmogorov-Smirnov test\n",
       "\n",
       "data:  bd_controle$MMSE and bd_caso$MMSE\n",
       "D = 0.18617, p-value = 0.6406\n",
       "alternative hypothesis: two-sided\n"
      ]
     },
     "metadata": {},
     "output_type": "display_data"
    },
    {
     "name": "stderr",
     "output_type": "stream",
     "text": [
      "Warning message in ks.test(bd_controle$Fluencia_verbal, bd_caso$Fluencia_verbal):\n",
      "\"cannot compute exact p-value with ties\"\n"
     ]
    },
    {
     "data": {
      "text/plain": [
       "\n",
       "\tTwo-sample Kolmogorov-Smirnov test\n",
       "\n",
       "data:  bd_controle$Fluencia_verbal and bd_caso$Fluencia_verbal\n",
       "D = 0.39583, p-value = 0.01329\n",
       "alternative hypothesis: two-sided\n"
      ]
     },
     "metadata": {},
     "output_type": "display_data"
    },
    {
     "name": "stderr",
     "output_type": "stream",
     "text": [
      "Warning message in ks.test(bd_controle$Trilhas_A, bd_caso$Trilhas_A):\n",
      "\"cannot compute exact p-value with ties\"\n"
     ]
    },
    {
     "data": {
      "text/plain": [
       "\n",
       "\tTwo-sample Kolmogorov-Smirnov test\n",
       "\n",
       "data:  bd_controle$Trilhas_A and bd_caso$Trilhas_A\n",
       "D = 0.22429, p-value = 0.4011\n",
       "alternative hypothesis: two-sided\n"
      ]
     },
     "metadata": {},
     "output_type": "display_data"
    },
    {
     "name": "stderr",
     "output_type": "stream",
     "text": [
      "Warning message in ks.test(bd_controle$Trilhas_b, bd_caso$Trilhas_b):\n",
      "\"cannot compute exact p-value with ties\"\n"
     ]
    },
    {
     "data": {
      "text/plain": [
       "\n",
       "\tTwo-sample Kolmogorov-Smirnov test\n",
       "\n",
       "data:  bd_controle$Trilhas_b and bd_caso$Trilhas_b\n",
       "D = 0.45035, p-value = 0.003178\n",
       "alternative hypothesis: two-sided\n"
      ]
     },
     "metadata": {},
     "output_type": "display_data"
    },
    {
     "name": "stderr",
     "output_type": "stream",
     "text": [
      "Warning message in ks.test(bd_controle$GDS, bd_caso$GDS):\n",
      "\"cannot compute exact p-value with ties\"\n"
     ]
    },
    {
     "data": {
      "text/plain": [
       "\n",
       "\tTwo-sample Kolmogorov-Smirnov test\n",
       "\n",
       "data:  bd_controle$GDS and bd_caso$GDS\n",
       "D = 0.2633, p-value = 0.2207\n",
       "alternative hypothesis: two-sided\n"
      ]
     },
     "metadata": {},
     "output_type": "display_data"
    },
    {
     "name": "stderr",
     "output_type": "stream",
     "text": [
      "Warning message in ks.test(bd_controle$FES_I, bd_caso$FES_I):\n",
      "\"cannot compute exact p-value with ties\"\n"
     ]
    },
    {
     "data": {
      "text/plain": [
       "\n",
       "\tTwo-sample Kolmogorov-Smirnov test\n",
       "\n",
       "data:  bd_controle$FES_I and bd_caso$FES_I\n",
       "D = 0.33067, p-value = 0.06196\n",
       "alternative hypothesis: two-sided\n"
      ]
     },
     "metadata": {},
     "output_type": "display_data"
    },
    {
     "name": "stderr",
     "output_type": "stream",
     "text": [
      "Warning message in ks.test(bd_controle$Vsaq, bd_caso$Vsaq):\n",
      "\"cannot compute exact p-value with ties\"\n"
     ]
    },
    {
     "data": {
      "text/plain": [
       "\n",
       "\tTwo-sample Kolmogorov-Smirnov test\n",
       "\n",
       "data:  bd_controle$Vsaq and bd_caso$Vsaq\n",
       "D = 0.22917, p-value = 0.3701\n",
       "alternative hypothesis: two-sided\n"
      ]
     },
     "metadata": {},
     "output_type": "display_data"
    },
    {
     "name": "stderr",
     "output_type": "stream",
     "text": [
      "Warning message in ks.test(bd_controle$Vo2_maximo_avaliado, bd_caso$Vo2_maximo_avaliado):\n",
      "\"cannot compute exact p-value with ties\"\n"
     ]
    },
    {
     "data": {
      "text/plain": [
       "\n",
       "\tTwo-sample Kolmogorov-Smirnov test\n",
       "\n",
       "data:  bd_controle$Vo2_maximo_avaliado and bd_caso$Vo2_maximo_avaliado\n",
       "D = 0.47619, p-value = 0.003496\n",
       "alternative hypothesis: two-sided\n"
      ]
     },
     "metadata": {},
     "output_type": "display_data"
    },
    {
     "name": "stderr",
     "output_type": "stream",
     "text": [
      "Warning message in ks.test(bd_controle$IMC, bd_caso$IMC):\n",
      "\"cannot compute exact p-value with ties\"\n"
     ]
    },
    {
     "data": {
      "text/plain": [
       "\n",
       "\tTwo-sample Kolmogorov-Smirnov test\n",
       "\n",
       "data:  bd_controle$IMC and bd_caso$IMC\n",
       "D = 0.10417, p-value = 0.9951\n",
       "alternative hypothesis: two-sided\n"
      ]
     },
     "metadata": {},
     "output_type": "display_data"
    },
    {
     "name": "stderr",
     "output_type": "stream",
     "text": [
      "Warning message in ks.test(bd_controle$Dinamometria, bd_caso$Dinamometria):\n",
      "\"cannot compute exact p-value with ties\"\n"
     ]
    },
    {
     "data": {
      "text/plain": [
       "\n",
       "\tTwo-sample Kolmogorov-Smirnov test\n",
       "\n",
       "data:  bd_controle$Dinamometria and bd_caso$Dinamometria\n",
       "D = 0.25, p-value = 0.27\n",
       "alternative hypothesis: two-sided\n"
      ]
     },
     "metadata": {},
     "output_type": "display_data"
    },
    {
     "name": "stderr",
     "output_type": "stream",
     "text": [
      "Warning message in ks.test(bd_controle$Berg, bd_caso$Berg):\n",
      "\"cannot compute exact p-value with ties\"\n"
     ]
    },
    {
     "data": {
      "text/plain": [
       "\n",
       "\tTwo-sample Kolmogorov-Smirnov test\n",
       "\n",
       "data:  bd_controle$Berg and bd_caso$Berg\n",
       "D = 0.375, p-value = 0.02222\n",
       "alternative hypothesis: two-sided\n"
      ]
     },
     "metadata": {},
     "output_type": "display_data"
    },
    {
     "name": "stderr",
     "output_type": "stream",
     "text": [
      "Warning message in ks.test(bd_controle$STS, bd_caso$STS):\n",
      "\"cannot compute exact p-value with ties\"\n"
     ]
    },
    {
     "data": {
      "text/plain": [
       "\n",
       "\tTwo-sample Kolmogorov-Smirnov test\n",
       "\n",
       "data:  bd_controle$STS and bd_caso$STS\n",
       "D = 0.30145, p-value = 0.1258\n",
       "alternative hypothesis: two-sided\n"
      ]
     },
     "metadata": {},
     "output_type": "display_data"
    },
    {
     "name": "stderr",
     "output_type": "stream",
     "text": [
      "Warning message in ks.test(bd_controle$Flexibilidade_Ms, bd_caso$Flexibilidade_Ms):\n",
      "\"cannot compute exact p-value with ties\"\n"
     ]
    },
    {
     "data": {
      "text/plain": [
       "\n",
       "\tTwo-sample Kolmogorov-Smirnov test\n",
       "\n",
       "data:  bd_controle$Flexibilidade_Ms and bd_caso$Flexibilidade_Ms\n",
       "D = 0.19264, p-value = 0.6576\n",
       "alternative hypothesis: two-sided\n"
      ]
     },
     "metadata": {},
     "output_type": "display_data"
    },
    {
     "name": "stderr",
     "output_type": "stream",
     "text": [
      "Warning message in ks.test(bd_controle$Flexibilidade_MI, bd_caso$Flexibilidade_MI):\n",
      "\"cannot compute exact p-value with ties\"\n"
     ]
    },
    {
     "data": {
      "text/plain": [
       "\n",
       "\tTwo-sample Kolmogorov-Smirnov test\n",
       "\n",
       "data:  bd_controle$Flexibilidade_MI and bd_caso$Flexibilidade_MI\n",
       "D = 0.13258, p-value = 0.9477\n",
       "alternative hypothesis: two-sided\n"
      ]
     },
     "metadata": {},
     "output_type": "display_data"
    },
    {
     "name": "stderr",
     "output_type": "stream",
     "text": [
      "Warning message in ks.test(bd_controle$TUG_sec, bd_caso$TUG_sec):\n",
      "\"cannot compute exact p-value with ties\"\n"
     ]
    },
    {
     "data": {
      "text/plain": [
       "\n",
       "\tTwo-sample Kolmogorov-Smirnov test\n",
       "\n",
       "data:  bd_controle$TUG_sec and bd_caso$TUG_sec\n",
       "D = 0.33152, p-value = 0.06243\n",
       "alternative hypothesis: two-sided\n"
      ]
     },
     "metadata": {},
     "output_type": "display_data"
    },
    {
     "name": "stderr",
     "output_type": "stream",
     "text": [
      "Warning message in ks.test(bd_controle$DT_Sec, bd_caso$DT_Sec):\n",
      "\"cannot compute exact p-value with ties\"\n"
     ]
    },
    {
     "data": {
      "text/plain": [
       "\n",
       "\tTwo-sample Kolmogorov-Smirnov test\n",
       "\n",
       "data:  bd_controle$DT_Sec and bd_caso$DT_Sec\n",
       "D = 0.42857, p-value = 0.007319\n",
       "alternative hypothesis: two-sided\n"
      ]
     },
     "metadata": {},
     "output_type": "display_data"
    },
    {
     "name": "stderr",
     "output_type": "stream",
     "text": [
      "Warning message in ks.test(bd_controle$DT_numero_animais, bd_caso$DT_numero_animais):\n",
      "\"cannot compute exact p-value with ties\"\n"
     ]
    },
    {
     "data": {
      "text/plain": [
       "\n",
       "\tTwo-sample Kolmogorov-Smirnov test\n",
       "\n",
       "data:  bd_controle$DT_numero_animais and bd_caso$DT_numero_animais\n",
       "D = 0.125, p-value = 0.9708\n",
       "alternative hypothesis: two-sided\n"
      ]
     },
     "metadata": {},
     "output_type": "display_data"
    },
    {
     "name": "stderr",
     "output_type": "stream",
     "text": [
      "Warning message in ks.test(bd_controle$quantidade_total_de_medicação, bd_caso$quantidade_total_de_medicação):\n",
      "\"cannot compute exact p-value with ties\"\n"
     ]
    },
    {
     "data": {
      "text/plain": [
       "\n",
       "\tTwo-sample Kolmogorov-Smirnov test\n",
       "\n",
       "data:  bd_controle$quantidade_total_de_medicação and bd_caso$quantidade_total_de_medicação\n",
       "D = 0.29167, p-value = 0.1314\n",
       "alternative hypothesis: two-sided\n"
      ]
     },
     "metadata": {},
     "output_type": "display_data"
    }
   ],
   "source": [
    "#var_numericas<- c(\"idade\",\"Nivel_educacional\",\"Tempo_doença\",\"MMSE\",\"Fluencia_verbal\",\"Trilhas_A\",\"Trilhas_b\",\n",
    "#\"GDS\",\"FES_I\",\"Vsaq\",\"Vo2_maximo_avaliado\",\"IMC\",\"Dinamometria\",\"Berg\",\"STS\",\"Flexibilidade_Ms\",\"Flexibilidade_MI\",\n",
    "#\"TUG_sec\",\"DT_Sec\",\"DT_numero_animais\",\"quantidade_total_de_medicação\")\n",
    "\n",
    "#Pvalor significante = sim\n",
    "ks.test(bd_controle$idade,bd_caso$idade) #Sim\n",
    "ks.test(bd_controle$Nivel_educacional,bd_caso$Nivel_educacional) #Não\n",
    "ks.test(bd_controle$Tempo_doença,bd_caso$Tempo_doença) #Não\n",
    "ks.test(bd_controle$MMSE,bd_caso$MMSE) #Não\n",
    "ks.test(bd_controle$Fluencia_verbal,bd_caso$Fluencia_verbal) #Sim\n",
    "ks.test(bd_controle$Trilhas_A,bd_caso$Trilhas_A) #Não\n",
    "ks.test(bd_controle$Trilhas_b,bd_caso$Trilhas_b) #Sim\n",
    "ks.test(bd_controle$GDS,bd_caso$GDS) #Não\n",
    "ks.test(bd_controle$FES_I,bd_caso$FES_I) #Não\n",
    "ks.test(bd_controle$Vsaq,bd_caso$Vsaq) #Não\n",
    "ks.test(bd_controle$Vo2_maximo_avaliado,bd_caso$Vo2_maximo_avaliado) #Sim\n",
    "ks.test(bd_controle$IMC,bd_caso$IMC) #Não\n",
    "ks.test(bd_controle$Dinamometria,bd_caso$Dinamometria) #Não\n",
    "ks.test(bd_controle$Berg,bd_caso$Berg) #Sim\n",
    "ks.test(bd_controle$STS,bd_caso$STS) #Não\n",
    "ks.test(bd_controle$Flexibilidade_Ms,bd_caso$Flexibilidade_Ms) #Não\n",
    "ks.test(bd_controle$Flexibilidade_MI,bd_caso$Flexibilidade_MI) #Não\n",
    "ks.test(bd_controle$TUG_sec,bd_caso$TUG_sec) #Não\n",
    "ks.test(bd_controle$DT_Sec,bd_caso$DT_Sec) #Sim\n",
    "ks.test(bd_controle$DT_numero_animais,bd_caso$DT_numero_animais) #Não\n",
    "ks.test(bd_controle$quantidade_total_de_medicação,bd_caso$quantidade_total_de_medicação) #Não\n"
   ]
  },
  {
   "cell_type": "markdown",
   "metadata": {},
   "source": [
    "## Levene test"
   ]
  },
  {
   "cell_type": "code",
   "execution_count": 116,
   "metadata": {},
   "outputs": [
    {
     "data": {
      "text/html": [
       "<table class=\"dataframe\">\n",
       "<caption>A anova: 2 × 3</caption>\n",
       "<thead>\n",
       "\t<tr><th></th><th scope=col>Df</th><th scope=col>F value</th><th scope=col>Pr(&gt;F)</th></tr>\n",
       "\t<tr><th></th><th scope=col>&lt;int&gt;</th><th scope=col>&lt;dbl&gt;</th><th scope=col>&lt;dbl&gt;</th></tr>\n",
       "</thead>\n",
       "<tbody>\n",
       "\t<tr><th scope=row>group</th><td> 1</td><td>3.214373</td><td>0.07731438</td></tr>\n",
       "\t<tr><th scope=row> </th><td>70</td><td>      NA</td><td>        NA</td></tr>\n",
       "</tbody>\n",
       "</table>\n"
      ],
      "text/latex": [
       "A anova: 2 × 3\n",
       "\\begin{tabular}{r|lll}\n",
       "  & Df & F value & Pr(>F)\\\\\n",
       "  & <int> & <dbl> & <dbl>\\\\\n",
       "\\hline\n",
       "\tgroup &  1 & 3.214373 & 0.07731438\\\\\n",
       "\t  & 70 &       NA &         NA\\\\\n",
       "\\end{tabular}\n"
      ],
      "text/markdown": [
       "\n",
       "A anova: 2 × 3\n",
       "\n",
       "| <!--/--> | Df &lt;int&gt; | F value &lt;dbl&gt; | Pr(&gt;F) &lt;dbl&gt; |\n",
       "|---|---|---|---|\n",
       "| group |  1 | 3.214373 | 0.07731438 |\n",
       "| <!----> | 70 |       NA |         NA |\n",
       "\n"
      ],
      "text/plain": [
       "      Df F value  Pr(>F)    \n",
       "group  1 3.214373 0.07731438\n",
       "      70       NA         NA"
      ]
     },
     "metadata": {},
     "output_type": "display_data"
    },
    {
     "data": {
      "text/html": [
       "<table class=\"dataframe\">\n",
       "<caption>A anova: 2 × 3</caption>\n",
       "<thead>\n",
       "\t<tr><th></th><th scope=col>Df</th><th scope=col>F value</th><th scope=col>Pr(&gt;F)</th></tr>\n",
       "\t<tr><th></th><th scope=col>&lt;int&gt;</th><th scope=col>&lt;dbl&gt;</th><th scope=col>&lt;dbl&gt;</th></tr>\n",
       "</thead>\n",
       "<tbody>\n",
       "\t<tr><th scope=row>group</th><td> 1</td><td>0.3864414</td><td>0.5361953</td></tr>\n",
       "\t<tr><th scope=row> </th><td>70</td><td>       NA</td><td>       NA</td></tr>\n",
       "</tbody>\n",
       "</table>\n"
      ],
      "text/latex": [
       "A anova: 2 × 3\n",
       "\\begin{tabular}{r|lll}\n",
       "  & Df & F value & Pr(>F)\\\\\n",
       "  & <int> & <dbl> & <dbl>\\\\\n",
       "\\hline\n",
       "\tgroup &  1 & 0.3864414 & 0.5361953\\\\\n",
       "\t  & 70 &        NA &        NA\\\\\n",
       "\\end{tabular}\n"
      ],
      "text/markdown": [
       "\n",
       "A anova: 2 × 3\n",
       "\n",
       "| <!--/--> | Df &lt;int&gt; | F value &lt;dbl&gt; | Pr(&gt;F) &lt;dbl&gt; |\n",
       "|---|---|---|---|\n",
       "| group |  1 | 0.3864414 | 0.5361953 |\n",
       "| <!----> | 70 |        NA |        NA |\n",
       "\n"
      ],
      "text/plain": [
       "      Df F value   Pr(>F)   \n",
       "group  1 0.3864414 0.5361953\n",
       "      70        NA        NA"
      ]
     },
     "metadata": {},
     "output_type": "display_data"
    },
    {
     "data": {
      "text/html": [
       "<table class=\"dataframe\">\n",
       "<caption>A anova: 2 × 3</caption>\n",
       "<thead>\n",
       "\t<tr><th></th><th scope=col>Df</th><th scope=col>F value</th><th scope=col>Pr(&gt;F)</th></tr>\n",
       "\t<tr><th></th><th scope=col>&lt;int&gt;</th><th scope=col>&lt;dbl&gt;</th><th scope=col>&lt;dbl&gt;</th></tr>\n",
       "</thead>\n",
       "<tbody>\n",
       "\t<tr><th scope=row>group</th><td> 1</td><td>0.1866667</td><td>0.6670335</td></tr>\n",
       "\t<tr><th scope=row> </th><td>70</td><td>       NA</td><td>       NA</td></tr>\n",
       "</tbody>\n",
       "</table>\n"
      ],
      "text/latex": [
       "A anova: 2 × 3\n",
       "\\begin{tabular}{r|lll}\n",
       "  & Df & F value & Pr(>F)\\\\\n",
       "  & <int> & <dbl> & <dbl>\\\\\n",
       "\\hline\n",
       "\tgroup &  1 & 0.1866667 & 0.6670335\\\\\n",
       "\t  & 70 &        NA &        NA\\\\\n",
       "\\end{tabular}\n"
      ],
      "text/markdown": [
       "\n",
       "A anova: 2 × 3\n",
       "\n",
       "| <!--/--> | Df &lt;int&gt; | F value &lt;dbl&gt; | Pr(&gt;F) &lt;dbl&gt; |\n",
       "|---|---|---|---|\n",
       "| group |  1 | 0.1866667 | 0.6670335 |\n",
       "| <!----> | 70 |        NA |        NA |\n",
       "\n"
      ],
      "text/plain": [
       "      Df F value   Pr(>F)   \n",
       "group  1 0.1866667 0.6670335\n",
       "      70        NA        NA"
      ]
     },
     "metadata": {},
     "output_type": "display_data"
    },
    {
     "data": {
      "text/html": [
       "<table class=\"dataframe\">\n",
       "<caption>A anova: 2 × 3</caption>\n",
       "<thead>\n",
       "\t<tr><th></th><th scope=col>Df</th><th scope=col>F value</th><th scope=col>Pr(&gt;F)</th></tr>\n",
       "\t<tr><th></th><th scope=col>&lt;int&gt;</th><th scope=col>&lt;dbl&gt;</th><th scope=col>&lt;dbl&gt;</th></tr>\n",
       "</thead>\n",
       "<tbody>\n",
       "\t<tr><th scope=row>group</th><td> 1</td><td>2.303561</td><td>0.1336465</td></tr>\n",
       "\t<tr><th scope=row> </th><td>69</td><td>      NA</td><td>       NA</td></tr>\n",
       "</tbody>\n",
       "</table>\n"
      ],
      "text/latex": [
       "A anova: 2 × 3\n",
       "\\begin{tabular}{r|lll}\n",
       "  & Df & F value & Pr(>F)\\\\\n",
       "  & <int> & <dbl> & <dbl>\\\\\n",
       "\\hline\n",
       "\tgroup &  1 & 2.303561 & 0.1336465\\\\\n",
       "\t  & 69 &       NA &        NA\\\\\n",
       "\\end{tabular}\n"
      ],
      "text/markdown": [
       "\n",
       "A anova: 2 × 3\n",
       "\n",
       "| <!--/--> | Df &lt;int&gt; | F value &lt;dbl&gt; | Pr(&gt;F) &lt;dbl&gt; |\n",
       "|---|---|---|---|\n",
       "| group |  1 | 2.303561 | 0.1336465 |\n",
       "| <!----> | 69 |       NA |        NA |\n",
       "\n"
      ],
      "text/plain": [
       "      Df F value  Pr(>F)   \n",
       "group  1 2.303561 0.1336465\n",
       "      69       NA        NA"
      ]
     },
     "metadata": {},
     "output_type": "display_data"
    },
    {
     "data": {
      "text/html": [
       "<table class=\"dataframe\">\n",
       "<caption>A anova: 2 × 3</caption>\n",
       "<thead>\n",
       "\t<tr><th></th><th scope=col>Df</th><th scope=col>F value</th><th scope=col>Pr(&gt;F)</th></tr>\n",
       "\t<tr><th></th><th scope=col>&lt;int&gt;</th><th scope=col>&lt;dbl&gt;</th><th scope=col>&lt;dbl&gt;</th></tr>\n",
       "</thead>\n",
       "<tbody>\n",
       "\t<tr><th scope=row>group</th><td> 1</td><td>4.502951</td><td>0.03737708</td></tr>\n",
       "\t<tr><th scope=row> </th><td>70</td><td>      NA</td><td>        NA</td></tr>\n",
       "</tbody>\n",
       "</table>\n"
      ],
      "text/latex": [
       "A anova: 2 × 3\n",
       "\\begin{tabular}{r|lll}\n",
       "  & Df & F value & Pr(>F)\\\\\n",
       "  & <int> & <dbl> & <dbl>\\\\\n",
       "\\hline\n",
       "\tgroup &  1 & 4.502951 & 0.03737708\\\\\n",
       "\t  & 70 &       NA &         NA\\\\\n",
       "\\end{tabular}\n"
      ],
      "text/markdown": [
       "\n",
       "A anova: 2 × 3\n",
       "\n",
       "| <!--/--> | Df &lt;int&gt; | F value &lt;dbl&gt; | Pr(&gt;F) &lt;dbl&gt; |\n",
       "|---|---|---|---|\n",
       "| group |  1 | 4.502951 | 0.03737708 |\n",
       "| <!----> | 70 |       NA |         NA |\n",
       "\n"
      ],
      "text/plain": [
       "      Df F value  Pr(>F)    \n",
       "group  1 4.502951 0.03737708\n",
       "      70       NA         NA"
      ]
     },
     "metadata": {},
     "output_type": "display_data"
    },
    {
     "data": {
      "text/html": [
       "<table class=\"dataframe\">\n",
       "<caption>A anova: 2 × 3</caption>\n",
       "<thead>\n",
       "\t<tr><th></th><th scope=col>Df</th><th scope=col>F value</th><th scope=col>Pr(&gt;F)</th></tr>\n",
       "\t<tr><th></th><th scope=col>&lt;int&gt;</th><th scope=col>&lt;dbl&gt;</th><th scope=col>&lt;dbl&gt;</th></tr>\n",
       "</thead>\n",
       "<tbody>\n",
       "\t<tr><th scope=row>group</th><td> 1</td><td>3.700535</td><td>0.05852132</td></tr>\n",
       "\t<tr><th scope=row> </th><td>69</td><td>      NA</td><td>        NA</td></tr>\n",
       "</tbody>\n",
       "</table>\n"
      ],
      "text/latex": [
       "A anova: 2 × 3\n",
       "\\begin{tabular}{r|lll}\n",
       "  & Df & F value & Pr(>F)\\\\\n",
       "  & <int> & <dbl> & <dbl>\\\\\n",
       "\\hline\n",
       "\tgroup &  1 & 3.700535 & 0.05852132\\\\\n",
       "\t  & 69 &       NA &         NA\\\\\n",
       "\\end{tabular}\n"
      ],
      "text/markdown": [
       "\n",
       "A anova: 2 × 3\n",
       "\n",
       "| <!--/--> | Df &lt;int&gt; | F value &lt;dbl&gt; | Pr(&gt;F) &lt;dbl&gt; |\n",
       "|---|---|---|---|\n",
       "| group |  1 | 3.700535 | 0.05852132 |\n",
       "| <!----> | 69 |       NA |         NA |\n",
       "\n"
      ],
      "text/plain": [
       "      Df F value  Pr(>F)    \n",
       "group  1 3.700535 0.05852132\n",
       "      69       NA         NA"
      ]
     },
     "metadata": {},
     "output_type": "display_data"
    },
    {
     "data": {
      "text/html": [
       "<table class=\"dataframe\">\n",
       "<caption>A anova: 2 × 3</caption>\n",
       "<thead>\n",
       "\t<tr><th></th><th scope=col>Df</th><th scope=col>F value</th><th scope=col>Pr(&gt;F)</th></tr>\n",
       "\t<tr><th></th><th scope=col>&lt;int&gt;</th><th scope=col>&lt;dbl&gt;</th><th scope=col>&lt;dbl&gt;</th></tr>\n",
       "</thead>\n",
       "<tbody>\n",
       "\t<tr><th scope=row>group</th><td> 1</td><td>7.957735</td><td>0.00624761</td></tr>\n",
       "\t<tr><th scope=row> </th><td>69</td><td>      NA</td><td>        NA</td></tr>\n",
       "</tbody>\n",
       "</table>\n"
      ],
      "text/latex": [
       "A anova: 2 × 3\n",
       "\\begin{tabular}{r|lll}\n",
       "  & Df & F value & Pr(>F)\\\\\n",
       "  & <int> & <dbl> & <dbl>\\\\\n",
       "\\hline\n",
       "\tgroup &  1 & 7.957735 & 0.00624761\\\\\n",
       "\t  & 69 &       NA &         NA\\\\\n",
       "\\end{tabular}\n"
      ],
      "text/markdown": [
       "\n",
       "A anova: 2 × 3\n",
       "\n",
       "| <!--/--> | Df &lt;int&gt; | F value &lt;dbl&gt; | Pr(&gt;F) &lt;dbl&gt; |\n",
       "|---|---|---|---|\n",
       "| group |  1 | 7.957735 | 0.00624761 |\n",
       "| <!----> | 69 |       NA |         NA |\n",
       "\n"
      ],
      "text/plain": [
       "      Df F value  Pr(>F)    \n",
       "group  1 7.957735 0.00624761\n",
       "      69       NA         NA"
      ]
     },
     "metadata": {},
     "output_type": "display_data"
    },
    {
     "data": {
      "text/html": [
       "<table class=\"dataframe\">\n",
       "<caption>A anova: 2 × 3</caption>\n",
       "<thead>\n",
       "\t<tr><th></th><th scope=col>Df</th><th scope=col>F value</th><th scope=col>Pr(&gt;F)</th></tr>\n",
       "\t<tr><th></th><th scope=col>&lt;int&gt;</th><th scope=col>&lt;dbl&gt;</th><th scope=col>&lt;dbl&gt;</th></tr>\n",
       "</thead>\n",
       "<tbody>\n",
       "\t<tr><th scope=row>group</th><td> 1</td><td>0.9228762</td><td>0.3400753</td></tr>\n",
       "\t<tr><th scope=row> </th><td>69</td><td>       NA</td><td>       NA</td></tr>\n",
       "</tbody>\n",
       "</table>\n"
      ],
      "text/latex": [
       "A anova: 2 × 3\n",
       "\\begin{tabular}{r|lll}\n",
       "  & Df & F value & Pr(>F)\\\\\n",
       "  & <int> & <dbl> & <dbl>\\\\\n",
       "\\hline\n",
       "\tgroup &  1 & 0.9228762 & 0.3400753\\\\\n",
       "\t  & 69 &        NA &        NA\\\\\n",
       "\\end{tabular}\n"
      ],
      "text/markdown": [
       "\n",
       "A anova: 2 × 3\n",
       "\n",
       "| <!--/--> | Df &lt;int&gt; | F value &lt;dbl&gt; | Pr(&gt;F) &lt;dbl&gt; |\n",
       "|---|---|---|---|\n",
       "| group |  1 | 0.9228762 | 0.3400753 |\n",
       "| <!----> | 69 |        NA |        NA |\n",
       "\n"
      ],
      "text/plain": [
       "      Df F value   Pr(>F)   \n",
       "group  1 0.9228762 0.3400753\n",
       "      69        NA        NA"
      ]
     },
     "metadata": {},
     "output_type": "display_data"
    },
    {
     "data": {
      "text/html": [
       "<table class=\"dataframe\">\n",
       "<caption>A anova: 2 × 3</caption>\n",
       "<thead>\n",
       "\t<tr><th></th><th scope=col>Df</th><th scope=col>F value</th><th scope=col>Pr(&gt;F)</th></tr>\n",
       "\t<tr><th></th><th scope=col>&lt;int&gt;</th><th scope=col>&lt;dbl&gt;</th><th scope=col>&lt;dbl&gt;</th></tr>\n",
       "</thead>\n",
       "<tbody>\n",
       "\t<tr><th scope=row>group</th><td> 1</td><td>7.453767</td><td>0.008027471</td></tr>\n",
       "\t<tr><th scope=row> </th><td>69</td><td>      NA</td><td>         NA</td></tr>\n",
       "</tbody>\n",
       "</table>\n"
      ],
      "text/latex": [
       "A anova: 2 × 3\n",
       "\\begin{tabular}{r|lll}\n",
       "  & Df & F value & Pr(>F)\\\\\n",
       "  & <int> & <dbl> & <dbl>\\\\\n",
       "\\hline\n",
       "\tgroup &  1 & 7.453767 & 0.008027471\\\\\n",
       "\t  & 69 &       NA &          NA\\\\\n",
       "\\end{tabular}\n"
      ],
      "text/markdown": [
       "\n",
       "A anova: 2 × 3\n",
       "\n",
       "| <!--/--> | Df &lt;int&gt; | F value &lt;dbl&gt; | Pr(&gt;F) &lt;dbl&gt; |\n",
       "|---|---|---|---|\n",
       "| group |  1 | 7.453767 | 0.008027471 |\n",
       "| <!----> | 69 |       NA |          NA |\n",
       "\n"
      ],
      "text/plain": [
       "      Df F value  Pr(>F)     \n",
       "group  1 7.453767 0.008027471\n",
       "      69       NA          NA"
      ]
     },
     "metadata": {},
     "output_type": "display_data"
    },
    {
     "data": {
      "text/html": [
       "<table class=\"dataframe\">\n",
       "<caption>A anova: 2 × 3</caption>\n",
       "<thead>\n",
       "\t<tr><th></th><th scope=col>Df</th><th scope=col>F value</th><th scope=col>Pr(&gt;F)</th></tr>\n",
       "\t<tr><th></th><th scope=col>&lt;int&gt;</th><th scope=col>&lt;dbl&gt;</th><th scope=col>&lt;dbl&gt;</th></tr>\n",
       "</thead>\n",
       "<tbody>\n",
       "\t<tr><th scope=row>group</th><td> 1</td><td>1.172049</td><td>0.282696</td></tr>\n",
       "\t<tr><th scope=row> </th><td>70</td><td>      NA</td><td>      NA</td></tr>\n",
       "</tbody>\n",
       "</table>\n"
      ],
      "text/latex": [
       "A anova: 2 × 3\n",
       "\\begin{tabular}{r|lll}\n",
       "  & Df & F value & Pr(>F)\\\\\n",
       "  & <int> & <dbl> & <dbl>\\\\\n",
       "\\hline\n",
       "\tgroup &  1 & 1.172049 & 0.282696\\\\\n",
       "\t  & 70 &       NA &       NA\\\\\n",
       "\\end{tabular}\n"
      ],
      "text/markdown": [
       "\n",
       "A anova: 2 × 3\n",
       "\n",
       "| <!--/--> | Df &lt;int&gt; | F value &lt;dbl&gt; | Pr(&gt;F) &lt;dbl&gt; |\n",
       "|---|---|---|---|\n",
       "| group |  1 | 1.172049 | 0.282696 |\n",
       "| <!----> | 70 |       NA |       NA |\n",
       "\n"
      ],
      "text/plain": [
       "      Df F value  Pr(>F)  \n",
       "group  1 1.172049 0.282696\n",
       "      70       NA       NA"
      ]
     },
     "metadata": {},
     "output_type": "display_data"
    },
    {
     "data": {
      "text/html": [
       "<table class=\"dataframe\">\n",
       "<caption>A anova: 2 × 3</caption>\n",
       "<thead>\n",
       "\t<tr><th></th><th scope=col>Df</th><th scope=col>F value</th><th scope=col>Pr(&gt;F)</th></tr>\n",
       "\t<tr><th></th><th scope=col>&lt;int&gt;</th><th scope=col>&lt;dbl&gt;</th><th scope=col>&lt;dbl&gt;</th></tr>\n",
       "</thead>\n",
       "<tbody>\n",
       "\t<tr><th scope=row>group</th><td> 1</td><td>1.044963</td><td>0.310707</td></tr>\n",
       "\t<tr><th scope=row> </th><td>61</td><td>      NA</td><td>      NA</td></tr>\n",
       "</tbody>\n",
       "</table>\n"
      ],
      "text/latex": [
       "A anova: 2 × 3\n",
       "\\begin{tabular}{r|lll}\n",
       "  & Df & F value & Pr(>F)\\\\\n",
       "  & <int> & <dbl> & <dbl>\\\\\n",
       "\\hline\n",
       "\tgroup &  1 & 1.044963 & 0.310707\\\\\n",
       "\t  & 61 &       NA &       NA\\\\\n",
       "\\end{tabular}\n"
      ],
      "text/markdown": [
       "\n",
       "A anova: 2 × 3\n",
       "\n",
       "| <!--/--> | Df &lt;int&gt; | F value &lt;dbl&gt; | Pr(&gt;F) &lt;dbl&gt; |\n",
       "|---|---|---|---|\n",
       "| group |  1 | 1.044963 | 0.310707 |\n",
       "| <!----> | 61 |       NA |       NA |\n",
       "\n"
      ],
      "text/plain": [
       "      Df F value  Pr(>F)  \n",
       "group  1 1.044963 0.310707\n",
       "      61       NA       NA"
      ]
     },
     "metadata": {},
     "output_type": "display_data"
    },
    {
     "data": {
      "text/html": [
       "<table class=\"dataframe\">\n",
       "<caption>A anova: 2 × 3</caption>\n",
       "<thead>\n",
       "\t<tr><th></th><th scope=col>Df</th><th scope=col>F value</th><th scope=col>Pr(&gt;F)</th></tr>\n",
       "\t<tr><th></th><th scope=col>&lt;int&gt;</th><th scope=col>&lt;dbl&gt;</th><th scope=col>&lt;dbl&gt;</th></tr>\n",
       "</thead>\n",
       "<tbody>\n",
       "\t<tr><th scope=row>group</th><td> 1</td><td>0.06342841</td><td>0.801895</td></tr>\n",
       "\t<tr><th scope=row> </th><td>70</td><td>        NA</td><td>      NA</td></tr>\n",
       "</tbody>\n",
       "</table>\n"
      ],
      "text/latex": [
       "A anova: 2 × 3\n",
       "\\begin{tabular}{r|lll}\n",
       "  & Df & F value & Pr(>F)\\\\\n",
       "  & <int> & <dbl> & <dbl>\\\\\n",
       "\\hline\n",
       "\tgroup &  1 & 0.06342841 & 0.801895\\\\\n",
       "\t  & 70 &         NA &       NA\\\\\n",
       "\\end{tabular}\n"
      ],
      "text/markdown": [
       "\n",
       "A anova: 2 × 3\n",
       "\n",
       "| <!--/--> | Df &lt;int&gt; | F value &lt;dbl&gt; | Pr(&gt;F) &lt;dbl&gt; |\n",
       "|---|---|---|---|\n",
       "| group |  1 | 0.06342841 | 0.801895 |\n",
       "| <!----> | 70 |         NA |       NA |\n",
       "\n"
      ],
      "text/plain": [
       "      Df F value    Pr(>F)  \n",
       "group  1 0.06342841 0.801895\n",
       "      70         NA       NA"
      ]
     },
     "metadata": {},
     "output_type": "display_data"
    },
    {
     "data": {
      "text/html": [
       "<table class=\"dataframe\">\n",
       "<caption>A anova: 2 × 3</caption>\n",
       "<thead>\n",
       "\t<tr><th></th><th scope=col>Df</th><th scope=col>F value</th><th scope=col>Pr(&gt;F)</th></tr>\n",
       "\t<tr><th></th><th scope=col>&lt;int&gt;</th><th scope=col>&lt;dbl&gt;</th><th scope=col>&lt;dbl&gt;</th></tr>\n",
       "</thead>\n",
       "<tbody>\n",
       "\t<tr><th scope=row>group</th><td> 1</td><td>0.2010224</td><td>0.6552816</td></tr>\n",
       "\t<tr><th scope=row> </th><td>70</td><td>       NA</td><td>       NA</td></tr>\n",
       "</tbody>\n",
       "</table>\n"
      ],
      "text/latex": [
       "A anova: 2 × 3\n",
       "\\begin{tabular}{r|lll}\n",
       "  & Df & F value & Pr(>F)\\\\\n",
       "  & <int> & <dbl> & <dbl>\\\\\n",
       "\\hline\n",
       "\tgroup &  1 & 0.2010224 & 0.6552816\\\\\n",
       "\t  & 70 &        NA &        NA\\\\\n",
       "\\end{tabular}\n"
      ],
      "text/markdown": [
       "\n",
       "A anova: 2 × 3\n",
       "\n",
       "| <!--/--> | Df &lt;int&gt; | F value &lt;dbl&gt; | Pr(&gt;F) &lt;dbl&gt; |\n",
       "|---|---|---|---|\n",
       "| group |  1 | 0.2010224 | 0.6552816 |\n",
       "| <!----> | 70 |        NA |        NA |\n",
       "\n"
      ],
      "text/plain": [
       "      Df F value   Pr(>F)   \n",
       "group  1 0.2010224 0.6552816\n",
       "      70        NA        NA"
      ]
     },
     "metadata": {},
     "output_type": "display_data"
    },
    {
     "data": {
      "text/html": [
       "<table class=\"dataframe\">\n",
       "<caption>A anova: 2 × 3</caption>\n",
       "<thead>\n",
       "\t<tr><th></th><th scope=col>Df</th><th scope=col>F value</th><th scope=col>Pr(&gt;F)</th></tr>\n",
       "\t<tr><th></th><th scope=col>&lt;int&gt;</th><th scope=col>&lt;dbl&gt;</th><th scope=col>&lt;dbl&gt;</th></tr>\n",
       "</thead>\n",
       "<tbody>\n",
       "\t<tr><th scope=row>group</th><td> 1</td><td>5.744759</td><td>0.01921167</td></tr>\n",
       "\t<tr><th scope=row> </th><td>70</td><td>      NA</td><td>        NA</td></tr>\n",
       "</tbody>\n",
       "</table>\n"
      ],
      "text/latex": [
       "A anova: 2 × 3\n",
       "\\begin{tabular}{r|lll}\n",
       "  & Df & F value & Pr(>F)\\\\\n",
       "  & <int> & <dbl> & <dbl>\\\\\n",
       "\\hline\n",
       "\tgroup &  1 & 5.744759 & 0.01921167\\\\\n",
       "\t  & 70 &       NA &         NA\\\\\n",
       "\\end{tabular}\n"
      ],
      "text/markdown": [
       "\n",
       "A anova: 2 × 3\n",
       "\n",
       "| <!--/--> | Df &lt;int&gt; | F value &lt;dbl&gt; | Pr(&gt;F) &lt;dbl&gt; |\n",
       "|---|---|---|---|\n",
       "| group |  1 | 5.744759 | 0.01921167 |\n",
       "| <!----> | 70 |       NA |         NA |\n",
       "\n"
      ],
      "text/plain": [
       "      Df F value  Pr(>F)    \n",
       "group  1 5.744759 0.01921167\n",
       "      70       NA         NA"
      ]
     },
     "metadata": {},
     "output_type": "display_data"
    },
    {
     "data": {
      "text/html": [
       "<table class=\"dataframe\">\n",
       "<caption>A anova: 2 × 3</caption>\n",
       "<thead>\n",
       "\t<tr><th></th><th scope=col>Df</th><th scope=col>F value</th><th scope=col>Pr(&gt;F)</th></tr>\n",
       "\t<tr><th></th><th scope=col>&lt;int&gt;</th><th scope=col>&lt;dbl&gt;</th><th scope=col>&lt;dbl&gt;</th></tr>\n",
       "</thead>\n",
       "<tbody>\n",
       "\t<tr><th scope=row>group</th><td> 1</td><td>0.213882</td><td>0.6452627</td></tr>\n",
       "\t<tr><th scope=row> </th><td>66</td><td>      NA</td><td>       NA</td></tr>\n",
       "</tbody>\n",
       "</table>\n"
      ],
      "text/latex": [
       "A anova: 2 × 3\n",
       "\\begin{tabular}{r|lll}\n",
       "  & Df & F value & Pr(>F)\\\\\n",
       "  & <int> & <dbl> & <dbl>\\\\\n",
       "\\hline\n",
       "\tgroup &  1 & 0.213882 & 0.6452627\\\\\n",
       "\t  & 66 &       NA &        NA\\\\\n",
       "\\end{tabular}\n"
      ],
      "text/markdown": [
       "\n",
       "A anova: 2 × 3\n",
       "\n",
       "| <!--/--> | Df &lt;int&gt; | F value &lt;dbl&gt; | Pr(&gt;F) &lt;dbl&gt; |\n",
       "|---|---|---|---|\n",
       "| group |  1 | 0.213882 | 0.6452627 |\n",
       "| <!----> | 66 |       NA |        NA |\n",
       "\n"
      ],
      "text/plain": [
       "      Df F value  Pr(>F)   \n",
       "group  1 0.213882 0.6452627\n",
       "      66       NA        NA"
      ]
     },
     "metadata": {},
     "output_type": "display_data"
    },
    {
     "data": {
      "text/html": [
       "<table class=\"dataframe\">\n",
       "<caption>A anova: 2 × 3</caption>\n",
       "<thead>\n",
       "\t<tr><th></th><th scope=col>Df</th><th scope=col>F value</th><th scope=col>Pr(&gt;F)</th></tr>\n",
       "\t<tr><th></th><th scope=col>&lt;int&gt;</th><th scope=col>&lt;dbl&gt;</th><th scope=col>&lt;dbl&gt;</th></tr>\n",
       "</thead>\n",
       "<tbody>\n",
       "\t<tr><th scope=row>group</th><td> 1</td><td>3.700759</td><td>0.05898174</td></tr>\n",
       "\t<tr><th scope=row> </th><td>62</td><td>      NA</td><td>        NA</td></tr>\n",
       "</tbody>\n",
       "</table>\n"
      ],
      "text/latex": [
       "A anova: 2 × 3\n",
       "\\begin{tabular}{r|lll}\n",
       "  & Df & F value & Pr(>F)\\\\\n",
       "  & <int> & <dbl> & <dbl>\\\\\n",
       "\\hline\n",
       "\tgroup &  1 & 3.700759 & 0.05898174\\\\\n",
       "\t  & 62 &       NA &         NA\\\\\n",
       "\\end{tabular}\n"
      ],
      "text/markdown": [
       "\n",
       "A anova: 2 × 3\n",
       "\n",
       "| <!--/--> | Df &lt;int&gt; | F value &lt;dbl&gt; | Pr(&gt;F) &lt;dbl&gt; |\n",
       "|---|---|---|---|\n",
       "| group |  1 | 3.700759 | 0.05898174 |\n",
       "| <!----> | 62 |       NA |         NA |\n",
       "\n"
      ],
      "text/plain": [
       "      Df F value  Pr(>F)    \n",
       "group  1 3.700759 0.05898174\n",
       "      62       NA         NA"
      ]
     },
     "metadata": {},
     "output_type": "display_data"
    },
    {
     "data": {
      "text/html": [
       "<table class=\"dataframe\">\n",
       "<caption>A anova: 2 × 3</caption>\n",
       "<thead>\n",
       "\t<tr><th></th><th scope=col>Df</th><th scope=col>F value</th><th scope=col>Pr(&gt;F)</th></tr>\n",
       "\t<tr><th></th><th scope=col>&lt;int&gt;</th><th scope=col>&lt;dbl&gt;</th><th scope=col>&lt;dbl&gt;</th></tr>\n",
       "</thead>\n",
       "<tbody>\n",
       "\t<tr><th scope=row>group</th><td> 1</td><td>2.271591</td><td>0.1365364</td></tr>\n",
       "\t<tr><th scope=row> </th><td>66</td><td>      NA</td><td>       NA</td></tr>\n",
       "</tbody>\n",
       "</table>\n"
      ],
      "text/latex": [
       "A anova: 2 × 3\n",
       "\\begin{tabular}{r|lll}\n",
       "  & Df & F value & Pr(>F)\\\\\n",
       "  & <int> & <dbl> & <dbl>\\\\\n",
       "\\hline\n",
       "\tgroup &  1 & 2.271591 & 0.1365364\\\\\n",
       "\t  & 66 &       NA &        NA\\\\\n",
       "\\end{tabular}\n"
      ],
      "text/markdown": [
       "\n",
       "A anova: 2 × 3\n",
       "\n",
       "| <!--/--> | Df &lt;int&gt; | F value &lt;dbl&gt; | Pr(&gt;F) &lt;dbl&gt; |\n",
       "|---|---|---|---|\n",
       "| group |  1 | 2.271591 | 0.1365364 |\n",
       "| <!----> | 66 |       NA |        NA |\n",
       "\n"
      ],
      "text/plain": [
       "      Df F value  Pr(>F)   \n",
       "group  1 2.271591 0.1365364\n",
       "      66       NA        NA"
      ]
     },
     "metadata": {},
     "output_type": "display_data"
    },
    {
     "data": {
      "text/html": [
       "<table class=\"dataframe\">\n",
       "<caption>A anova: 2 × 3</caption>\n",
       "<thead>\n",
       "\t<tr><th></th><th scope=col>Df</th><th scope=col>F value</th><th scope=col>Pr(&gt;F)</th></tr>\n",
       "\t<tr><th></th><th scope=col>&lt;int&gt;</th><th scope=col>&lt;dbl&gt;</th><th scope=col>&lt;dbl&gt;</th></tr>\n",
       "</thead>\n",
       "<tbody>\n",
       "\t<tr><th scope=row>group</th><td> 1</td><td>1.032639e-06</td><td>0.9991922</td></tr>\n",
       "\t<tr><th scope=row> </th><td>68</td><td>          NA</td><td>       NA</td></tr>\n",
       "</tbody>\n",
       "</table>\n"
      ],
      "text/latex": [
       "A anova: 2 × 3\n",
       "\\begin{tabular}{r|lll}\n",
       "  & Df & F value & Pr(>F)\\\\\n",
       "  & <int> & <dbl> & <dbl>\\\\\n",
       "\\hline\n",
       "\tgroup &  1 & 1.032639e-06 & 0.9991922\\\\\n",
       "\t  & 68 &           NA &        NA\\\\\n",
       "\\end{tabular}\n"
      ],
      "text/markdown": [
       "\n",
       "A anova: 2 × 3\n",
       "\n",
       "| <!--/--> | Df &lt;int&gt; | F value &lt;dbl&gt; | Pr(&gt;F) &lt;dbl&gt; |\n",
       "|---|---|---|---|\n",
       "| group |  1 | 1.032639e-06 | 0.9991922 |\n",
       "| <!----> | 68 |           NA |        NA |\n",
       "\n"
      ],
      "text/plain": [
       "      Df F value      Pr(>F)   \n",
       "group  1 1.032639e-06 0.9991922\n",
       "      68           NA        NA"
      ]
     },
     "metadata": {},
     "output_type": "display_data"
    },
    {
     "data": {
      "text/html": [
       "<table class=\"dataframe\">\n",
       "<caption>A anova: 2 × 3</caption>\n",
       "<thead>\n",
       "\t<tr><th></th><th scope=col>Df</th><th scope=col>F value</th><th scope=col>Pr(&gt;F)</th></tr>\n",
       "\t<tr><th></th><th scope=col>&lt;int&gt;</th><th scope=col>&lt;dbl&gt;</th><th scope=col>&lt;dbl&gt;</th></tr>\n",
       "</thead>\n",
       "<tbody>\n",
       "\t<tr><th scope=row>group</th><td> 1</td><td>0.4032546</td><td>0.5276771</td></tr>\n",
       "\t<tr><th scope=row> </th><td>64</td><td>       NA</td><td>       NA</td></tr>\n",
       "</tbody>\n",
       "</table>\n"
      ],
      "text/latex": [
       "A anova: 2 × 3\n",
       "\\begin{tabular}{r|lll}\n",
       "  & Df & F value & Pr(>F)\\\\\n",
       "  & <int> & <dbl> & <dbl>\\\\\n",
       "\\hline\n",
       "\tgroup &  1 & 0.4032546 & 0.5276771\\\\\n",
       "\t  & 64 &        NA &        NA\\\\\n",
       "\\end{tabular}\n"
      ],
      "text/markdown": [
       "\n",
       "A anova: 2 × 3\n",
       "\n",
       "| <!--/--> | Df &lt;int&gt; | F value &lt;dbl&gt; | Pr(&gt;F) &lt;dbl&gt; |\n",
       "|---|---|---|---|\n",
       "| group |  1 | 0.4032546 | 0.5276771 |\n",
       "| <!----> | 64 |        NA |        NA |\n",
       "\n"
      ],
      "text/plain": [
       "      Df F value   Pr(>F)   \n",
       "group  1 0.4032546 0.5276771\n",
       "      64        NA        NA"
      ]
     },
     "metadata": {},
     "output_type": "display_data"
    },
    {
     "data": {
      "text/html": [
       "<table class=\"dataframe\">\n",
       "<caption>A anova: 2 × 3</caption>\n",
       "<thead>\n",
       "\t<tr><th></th><th scope=col>Df</th><th scope=col>F value</th><th scope=col>Pr(&gt;F)</th></tr>\n",
       "\t<tr><th></th><th scope=col>&lt;int&gt;</th><th scope=col>&lt;dbl&gt;</th><th scope=col>&lt;dbl&gt;</th></tr>\n",
       "</thead>\n",
       "<tbody>\n",
       "\t<tr><th scope=row>group</th><td> 1</td><td>1.89086</td><td>0.1738997</td></tr>\n",
       "\t<tr><th scope=row> </th><td>64</td><td>     NA</td><td>       NA</td></tr>\n",
       "</tbody>\n",
       "</table>\n"
      ],
      "text/latex": [
       "A anova: 2 × 3\n",
       "\\begin{tabular}{r|lll}\n",
       "  & Df & F value & Pr(>F)\\\\\n",
       "  & <int> & <dbl> & <dbl>\\\\\n",
       "\\hline\n",
       "\tgroup &  1 & 1.89086 & 0.1738997\\\\\n",
       "\t  & 64 &      NA &        NA\\\\\n",
       "\\end{tabular}\n"
      ],
      "text/markdown": [
       "\n",
       "A anova: 2 × 3\n",
       "\n",
       "| <!--/--> | Df &lt;int&gt; | F value &lt;dbl&gt; | Pr(&gt;F) &lt;dbl&gt; |\n",
       "|---|---|---|---|\n",
       "| group |  1 | 1.89086 | 0.1738997 |\n",
       "| <!----> | 64 |      NA |        NA |\n",
       "\n"
      ],
      "text/plain": [
       "      Df F value Pr(>F)   \n",
       "group  1 1.89086 0.1738997\n",
       "      64      NA        NA"
      ]
     },
     "metadata": {},
     "output_type": "display_data"
    },
    {
     "data": {
      "text/html": [
       "<table class=\"dataframe\">\n",
       "<caption>A anova: 2 × 3</caption>\n",
       "<thead>\n",
       "\t<tr><th></th><th scope=col>Df</th><th scope=col>F value</th><th scope=col>Pr(&gt;F)</th></tr>\n",
       "\t<tr><th></th><th scope=col>&lt;int&gt;</th><th scope=col>&lt;dbl&gt;</th><th scope=col>&lt;dbl&gt;</th></tr>\n",
       "</thead>\n",
       "<tbody>\n",
       "\t<tr><th scope=row>group</th><td> 1</td><td>0.2816855</td><td>0.5972785</td></tr>\n",
       "\t<tr><th scope=row> </th><td>70</td><td>       NA</td><td>       NA</td></tr>\n",
       "</tbody>\n",
       "</table>\n"
      ],
      "text/latex": [
       "A anova: 2 × 3\n",
       "\\begin{tabular}{r|lll}\n",
       "  & Df & F value & Pr(>F)\\\\\n",
       "  & <int> & <dbl> & <dbl>\\\\\n",
       "\\hline\n",
       "\tgroup &  1 & 0.2816855 & 0.5972785\\\\\n",
       "\t  & 70 &        NA &        NA\\\\\n",
       "\\end{tabular}\n"
      ],
      "text/markdown": [
       "\n",
       "A anova: 2 × 3\n",
       "\n",
       "| <!--/--> | Df &lt;int&gt; | F value &lt;dbl&gt; | Pr(&gt;F) &lt;dbl&gt; |\n",
       "|---|---|---|---|\n",
       "| group |  1 | 0.2816855 | 0.5972785 |\n",
       "| <!----> | 70 |        NA |        NA |\n",
       "\n"
      ],
      "text/plain": [
       "      Df F value   Pr(>F)   \n",
       "group  1 0.2816855 0.5972785\n",
       "      70        NA        NA"
      ]
     },
     "metadata": {},
     "output_type": "display_data"
    }
   ],
   "source": [
    "#install.packages(\"car\")\n",
    "require(car)\n",
    "#var_numericas<- c(\"idade\",\"Nivel_educacional\",\"Tempo_doença\",\"MMSE\",\"Fluencia_verbal\",\"Trilhas_A\",\"Trilhas_b\",\n",
    "#\"GDS\",\"FES_I\",\"Vsaq\",\"Vo2_maximo_avaliado\",\"IMC\",\"Dinamometria\",\"Berg\",\"STS\",\"Flexibilidade_Ms\",\"Flexibilidade_MI\",\n",
    "#\"TUG_sec\",\"DT_Sec\",\"DT_numero_animais\",\"quantidade_total_de_medicação\")\n",
    "\n",
    "#Var igual -> pvalor>0.05\n",
    "#*** = paramétricas\n",
    "\n",
    "leveneTest(idade ~ Caidor,data= bd2) #Não\n",
    "leveneTest(Nivel_educacional ~ Caidor,data= bd2) #Não\n",
    "leveneTest(Tempo_doença ~ Caidor,data= bd2) #Não\n",
    "leveneTest(MMSE ~ Caidor,data= bd2) #Não\n",
    "leveneTest(Fluencia_verbal ~ Caidor,data= bd2) #Sim ***\n",
    "leveneTest(Trilhas_A ~ Caidor,data= bd2) #Não\n",
    "leveneTest(Trilhas_b ~ Caidor,data= bd2) #Sim ***\n",
    "leveneTest(GDS ~ Caidor,data= bd2) #Não\n",
    "leveneTest(FES_I ~ Caidor,data= bd2) #Sim\n",
    "leveneTest(Vsaq ~ Caidor,data= bd2) #Não\n",
    "leveneTest(Vo2_maximo_avaliado ~ Caidor,data= bd2) #Não\n",
    "leveneTest(IMC ~ Caidor,data= bd2) #Não\n",
    "leveneTest(Dinamometria ~ Caidor,data= bd2) #Não\n",
    "leveneTest(Berg ~ Caidor,data= bd2) #Sim ***\n",
    "leveneTest(STS ~ Caidor,data= bd2) #Não\n",
    "leveneTest(Flexibilidade_Ms ~ Caidor,data= bd2) #Não\n",
    "leveneTest(Flexibilidade_MI ~ Caidor,data= bd2) #Não\n",
    "leveneTest(TUG_sec ~ Caidor,data= bd2) #Não\n",
    "leveneTest(DT_Sec ~ Caidor,data= bd2) #Não\n",
    "leveneTest(DT_numero_animais ~ Caidor,data= bd2) #Não\n",
    "leveneTest(quantidade_total_de_medicação ~ Caidor,data= bd2) #Não\n"
   ]
  },
  {
   "cell_type": "markdown",
   "metadata": {},
   "source": [
    "## X²"
   ]
  },
  {
   "cell_type": "code",
   "execution_count": 108,
   "metadata": {},
   "outputs": [
    {
     "data": {
      "text/plain": [
       "\n",
       "\tPearson's Chi-squared test\n",
       "\n",
       "data:  bd2$Caidor and bd2$Genero\n",
       "X-squared = 0.11548, df = 1, p-value = 0.734\n"
      ]
     },
     "metadata": {},
     "output_type": "display_data"
    },
    {
     "name": "stderr",
     "output_type": "stream",
     "text": [
      "Warning message in chisq.test(bd2$Caidor, bd2$etnia, correct = F):\n",
      "\"Chi-squared approximation may be incorrect\"\n"
     ]
    },
    {
     "data": {
      "text/plain": [
       "\n",
       "\tPearson's Chi-squared test\n",
       "\n",
       "data:  bd2$Caidor and bd2$etnia\n",
       "X-squared = 0.85842, df = 1, p-value = 0.3542\n"
      ]
     },
     "metadata": {},
     "output_type": "display_data"
    },
    {
     "data": {
      "text/plain": [
       "\n",
       "\tPearson's Chi-squared test\n",
       "\n",
       "data:  bd2$Caidor and bd2$Freq_atividade\n",
       "X-squared = 2.8992, df = 2, p-value = 0.2347\n"
      ]
     },
     "metadata": {},
     "output_type": "display_data"
    },
    {
     "data": {
      "text/plain": [
       "\n",
       "\tPearson's Chi-squared test\n",
       "\n",
       "data:  bd2$Caidor and bd2$Criterio_AHA\n",
       "X-squared = 11.531, df = 1, p-value = 0.0006843\n"
      ]
     },
     "metadata": {},
     "output_type": "display_data"
    },
    {
     "name": "stderr",
     "output_type": "stream",
     "text": [
      "Warning message in chisq.test(bd2$Caidor, bd2$medicaçao_tipo_cardiovascular, correct = F):\n",
      "\"Chi-squared approximation may be incorrect\"\n"
     ]
    },
    {
     "data": {
      "text/plain": [
       "\n",
       "\tPearson's Chi-squared test\n",
       "\n",
       "data:  bd2$Caidor and bd2$medicaçao_tipo_cardiovascular\n",
       "X-squared = 18.654, df = 4, p-value = 0.0009192\n"
      ]
     },
     "metadata": {},
     "output_type": "display_data"
    },
    {
     "name": "stderr",
     "output_type": "stream",
     "text": [
      "Warning message in chisq.test(bd2$Caidor, bd2$medicação_tipo_mental, correct = F):\n",
      "\"Chi-squared approximation may be incorrect\"\n"
     ]
    },
    {
     "data": {
      "text/plain": [
       "\n",
       "\tPearson's Chi-squared test\n",
       "\n",
       "data:  bd2$Caidor and bd2$medicação_tipo_mental\n",
       "X-squared = 8.4935, df = 4, p-value = 0.07509\n"
      ]
     },
     "metadata": {},
     "output_type": "display_data"
    },
    {
     "data": {
      "text/plain": [
       "\n",
       "\tPearson's Chi-squared test\n",
       "\n",
       "data:  bd2$Caidor and bd2$HAS\n",
       "X-squared = 1.5158, df = 1, p-value = 0.2183\n"
      ]
     },
     "metadata": {},
     "output_type": "display_data"
    }
   ],
   "source": [
    "#sexo, etnia, nível de atividade física, tipo de medicamento para doença cardiovascular, classificação do ACC/AHA,\n",
    "#doença do sistema cardiovascular*, medicamento para doença mental* e tipos de medicamento para doença mental\n",
    "\n",
    "#Pvalue<0.05 - Variables are dependent\n",
    "\n",
    "chisq.test(bd2$Caidor,bd2$Genero,correct=F) #correct=F to turn off Yates’ continuity correction\n",
    "chisq.test(bd2$Caidor,bd2$etnia,correct=F)\n",
    "chisq.test(bd2$Caidor,bd2$Freq_atividade,correct=F)\n",
    "chisq.test(bd2$Caidor,bd2$Criterio_AHA,correct=F)\n",
    "chisq.test(bd2$Caidor,bd2$medicaçao_tipo_cardiovascular,correct=F)\n",
    "chisq.test(bd2$Caidor,bd2$medicação_tipo_mental,correct=F)\n",
    "chisq.test(bd2$Caidor,bd2$HAS,correct=F)"
   ]
  },
  {
   "cell_type": "markdown",
   "metadata": {},
   "source": [
    "## T-test"
   ]
  },
  {
   "cell_type": "code",
   "execution_count": 117,
   "metadata": {},
   "outputs": [
    {
     "data": {
      "text/plain": [
       "\n",
       "\tWelch Two Sample t-test\n",
       "\n",
       "data:  Fluencia_verbal by Caidor\n",
       "t = -2.6901, df = 57.192, p-value = 0.009348\n",
       "alternative hypothesis: true difference in means is not equal to 0\n",
       "95 percent confidence interval:\n",
       " -5.8871557 -0.8628443\n",
       "sample estimates:\n",
       "mean in group sim mean in group não \n",
       "           18.875            22.250 \n"
      ]
     },
     "metadata": {},
     "output_type": "display_data"
    },
    {
     "data": {
      "text/plain": [
       "\n",
       "\tWelch Two Sample t-test\n",
       "\n",
       "data:  Trilhas_b by Caidor\n",
       "t = 3.2105, df = 31.668, p-value = 0.003034\n",
       "alternative hypothesis: true difference in means is not equal to 0\n",
       "95 percent confidence interval:\n",
       "  22.62786 101.26398\n",
       "sample estimates:\n",
       "mean in group sim mean in group não \n",
       "        155.44167          93.49574 \n"
      ]
     },
     "metadata": {},
     "output_type": "display_data"
    },
    {
     "data": {
      "text/plain": [
       "\n",
       "\tWelch Two Sample t-test\n",
       "\n",
       "data:  Berg by Caidor\n",
       "t = -2.7905, df = 30.236, p-value = 0.009027\n",
       "alternative hypothesis: true difference in means is not equal to 0\n",
       "95 percent confidence interval:\n",
       " -5.0505556 -0.7827778\n",
       "sample estimates:\n",
       "mean in group sim mean in group não \n",
       "         51.70833          54.62500 \n"
      ]
     },
     "metadata": {},
     "output_type": "display_data"
    }
   ],
   "source": [
    "#variáveis paramétricas (Fluencia_Verbal, Trilhas_b e Berg)\n",
    "#De acordo com a tese: idade, estatura*, IMC, pressão arterial de repouso*, frequência cardíaca de repouso*, escolaridade, tempo de doença, número de medicamentos, escala geriátrica de depressão(GDS), DT(DT_Sec), TLI*, Delta DT* e TSL(STS)\n",
    "\n",
    "#Pvalor<0.05 - há diferença entre os grupos\n",
    "\n",
    "t.test(Fluencia_verbal~Caidor,bd2,var.equal=F) #pvalor LeveneTest < 0.05\n",
    "t.test(Trilhas_b~Caidor,bd2,var.equal=F)\n",
    "t.test(Berg~Caidor,bd2,var.equal=F) "
   ]
  },
  {
   "cell_type": "markdown",
   "metadata": {},
   "source": [
    "## Mann-Whitney U"
   ]
  },
  {
   "cell_type": "code",
   "execution_count": 118,
   "metadata": {},
   "outputs": [
    {
     "name": "stderr",
     "output_type": "stream",
     "text": [
      "Warning message in wilcox.test.default(x = c(76, 83, 83, 75, 84, 81, 78, 76, 68, :\n",
      "\"cannot compute exact p-value with ties\"\n"
     ]
    },
    {
     "data": {
      "text/plain": [
       "\n",
       "\tWilcoxon rank sum test with continuity correction\n",
       "\n",
       "data:  idade by Caidor\n",
       "W = 753.5, p-value = 0.03417\n",
       "alternative hypothesis: true location shift is not equal to 0\n"
      ]
     },
     "metadata": {},
     "output_type": "display_data"
    },
    {
     "name": "stderr",
     "output_type": "stream",
     "text": [
      "Warning message in wilcox.test.default(x = c(16, 10, 20, 16, 20, 8, 16, 16, 16, :\n",
      "\"cannot compute exact p-value with ties\"\n"
     ]
    },
    {
     "data": {
      "text/plain": [
       "\n",
       "\tWilcoxon rank sum test with continuity correction\n",
       "\n",
       "data:  Nivel_educacional by Caidor\n",
       "W = 533, p-value = 0.596\n",
       "alternative hypothesis: true location shift is not equal to 0\n"
      ]
     },
     "metadata": {},
     "output_type": "display_data"
    },
    {
     "name": "stderr",
     "output_type": "stream",
     "text": [
      "Warning message in wilcox.test.default(x = c(30, 29, 29, 24, 29, 23, 29, 27, 29, :\n",
      "\"cannot compute exact p-value with ties\"\n"
     ]
    },
    {
     "data": {
      "text/plain": [
       "\n",
       "\tWilcoxon rank sum test with continuity correction\n",
       "\n",
       "data:  MMSE by Caidor\n",
       "W = 482.5, p-value = 0.311\n",
       "alternative hypothesis: true location shift is not equal to 0\n"
      ]
     },
     "metadata": {},
     "output_type": "display_data"
    },
    {
     "name": "stderr",
     "output_type": "stream",
     "text": [
      "Warning message in wilcox.test.default(x = c(33, 29.2, 35.3, 43.5, 77, 38.1, 88, :\n",
      "\"cannot compute exact p-value with ties\"\n"
     ]
    },
    {
     "data": {
      "text/plain": [
       "\n",
       "\tWilcoxon rank sum test with continuity correction\n",
       "\n",
       "data:  Trilhas_A by Caidor\n",
       "W = 675, p-value = 0.179\n",
       "alternative hypothesis: true location shift is not equal to 0\n"
      ]
     },
     "metadata": {},
     "output_type": "display_data"
    },
    {
     "name": "stderr",
     "output_type": "stream",
     "text": [
      "Warning message in wilcox.test.default(x = c(26, 16, 22, 24, 38, 31, 32, 22, 16, :\n",
      "\"cannot compute exact p-value with ties\"\n"
     ]
    },
    {
     "data": {
      "text/plain": [
       "\n",
       "\tWilcoxon rank sum test with continuity correction\n",
       "\n",
       "data:  FES_I by Caidor\n",
       "W = 729, p-value = 0.03185\n",
       "alternative hypothesis: true location shift is not equal to 0\n"
      ]
     },
     "metadata": {},
     "output_type": "display_data"
    },
    {
     "name": "stderr",
     "output_type": "stream",
     "text": [
      "Warning message in wilcox.test.default(x = c(5, 5, 7, 5, 6, 4, 3, 7, 7, 7, 6, 8, :\n",
      "\"cannot compute exact p-value with ties\"\n"
     ]
    },
    {
     "data": {
      "text/plain": [
       "\n",
       "\tWilcoxon rank sum test with continuity correction\n",
       "\n",
       "data:  Vsaq by Caidor\n",
       "W = 436.5, p-value = 0.08541\n",
       "alternative hypothesis: true location shift is not equal to 0\n"
      ]
     },
     "metadata": {},
     "output_type": "display_data"
    },
    {
     "name": "stderr",
     "output_type": "stream",
     "text": [
      "Warning message in wilcox.test.default(x = c(17, 12.7, 18.4, 12.1, 13.6, 10, 13.6, :\n",
      "\"cannot compute exact p-value with ties\"\n"
     ]
    },
    {
     "data": {
      "text/plain": [
       "\n",
       "\tWilcoxon rank sum test with continuity correction\n",
       "\n",
       "data:  Vo2_maximo_avaliado by Caidor\n",
       "W = 233, p-value = 0.00247\n",
       "alternative hypothesis: true location shift is not equal to 0\n"
      ]
     },
     "metadata": {},
     "output_type": "display_data"
    },
    {
     "name": "stderr",
     "output_type": "stream",
     "text": [
      "Warning message in wilcox.test.default(x = c(27, 29.3, 22.2, 24.8, 26.7, 25.3, 28.7, :\n",
      "\"cannot compute exact p-value with ties\"\n"
     ]
    },
    {
     "data": {
      "text/plain": [
       "\n",
       "\tWilcoxon rank sum test with continuity correction\n",
       "\n",
       "data:  IMC by Caidor\n",
       "W = 560.5, p-value = 0.8577\n",
       "alternative hypothesis: true location shift is not equal to 0\n"
      ]
     },
     "metadata": {},
     "output_type": "display_data"
    },
    {
     "name": "stderr",
     "output_type": "stream",
     "text": [
      "Warning message in wilcox.test.default(x = c(17.9, 15.3, 20.9, 22.7, 28.8, 22.7, :\n",
      "\"cannot compute exact p-value with ties\"\n"
     ]
    },
    {
     "data": {
      "text/plain": [
       "\n",
       "\tWilcoxon rank sum test with continuity correction\n",
       "\n",
       "data:  Dinamometria by Caidor\n",
       "W = 473, p-value = 0.2206\n",
       "alternative hypothesis: true location shift is not equal to 0\n"
      ]
     },
     "metadata": {},
     "output_type": "display_data"
    },
    {
     "name": "stderr",
     "output_type": "stream",
     "text": [
      "Warning message in wilcox.test.default(x = c(5, 9, 6, 8, 6, 5, 7, 8, 12, 11, 13, :\n",
      "\"cannot compute exact p-value with ties\"\n"
     ]
    },
    {
     "data": {
      "text/plain": [
       "\n",
       "\tWilcoxon rank sum test with continuity correction\n",
       "\n",
       "data:  STS by Caidor\n",
       "W = 364.5, p-value = 0.04618\n",
       "alternative hypothesis: true location shift is not equal to 0\n"
      ]
     },
     "metadata": {},
     "output_type": "display_data"
    },
    {
     "name": "stderr",
     "output_type": "stream",
     "text": [
      "Warning message in wilcox.test.default(x = c(-29, -22, -6, -11, -10, -8, -15, -26, :\n",
      "\"cannot compute exact p-value with ties\"\n"
     ]
    },
    {
     "data": {
      "text/plain": [
       "\n",
       "\tWilcoxon rank sum test with continuity correction\n",
       "\n",
       "data:  Flexibilidade_Ms by Caidor\n",
       "W = 433.5, p-value = 0.6919\n",
       "alternative hypothesis: true location shift is not equal to 0\n"
      ]
     },
     "metadata": {},
     "output_type": "display_data"
    },
    {
     "name": "stderr",
     "output_type": "stream",
     "text": [
      "Warning message in wilcox.test.default(x = c(-33, -4, -5, -23, -20, -12, -12, -18, :\n",
      "\"cannot compute exact p-value with ties\"\n"
     ]
    },
    {
     "data": {
      "text/plain": [
       "\n",
       "\tWilcoxon rank sum test with continuity correction\n",
       "\n",
       "data:  Flexibilidade_MI by Caidor\n",
       "W = 519.5, p-value = 0.9179\n",
       "alternative hypothesis: true location shift is not equal to 0\n"
      ]
     },
     "metadata": {},
     "output_type": "display_data"
    },
    {
     "name": "stderr",
     "output_type": "stream",
     "text": [
      "Warning message in wilcox.test.default(x = c(8.9, 10.52, 8.03, 7.64, 9.27, 10, 10.34, :\n",
      "\"cannot compute exact p-value with ties\"\n"
     ]
    },
    {
     "data": {
      "text/plain": [
       "\n",
       "\tWilcoxon rank sum test with continuity correction\n",
       "\n",
       "data:  TUG_sec by Caidor\n",
       "W = 764.5, p-value = 0.008689\n",
       "alternative hypothesis: true location shift is not equal to 0\n"
      ]
     },
     "metadata": {},
     "output_type": "display_data"
    },
    {
     "name": "stderr",
     "output_type": "stream",
     "text": [
      "Warning message in wilcox.test.default(x = c(9.1, 11.9, 9.2, 8.7, 10.1, 20, 12.3, :\n",
      "\"cannot compute exact p-value with ties\"\n"
     ]
    },
    {
     "data": {
      "text/plain": [
       "\n",
       "\tWilcoxon rank sum test with continuity correction\n",
       "\n",
       "data:  DT_Sec by Caidor\n",
       "W = 752.5, p-value = 0.0009391\n",
       "alternative hypothesis: true location shift is not equal to 0\n"
      ]
     },
     "metadata": {},
     "output_type": "display_data"
    },
    {
     "name": "stderr",
     "output_type": "stream",
     "text": [
      "Warning message in wilcox.test.default(x = c(10, 7, 8, 5, 4, 3, 6, 5, 5, 10, 3, :\n",
      "\"cannot compute exact p-value with ties\"\n"
     ]
    },
    {
     "data": {
      "text/plain": [
       "\n",
       "\tWilcoxon rank sum test with continuity correction\n",
       "\n",
       "data:  DT_numero_animais by Caidor\n",
       "W = 500.5, p-value = 0.9677\n",
       "alternative hypothesis: true location shift is not equal to 0\n"
      ]
     },
     "metadata": {},
     "output_type": "display_data"
    },
    {
     "name": "stderr",
     "output_type": "stream",
     "text": [
      "Warning message in wilcox.test.default(x = c(8, 8, 2, 8, 8, 4, 12, 9, 9, 6, 7, 4, :\n",
      "\"cannot compute exact p-value with ties\"\n"
     ]
    },
    {
     "data": {
      "text/plain": [
       "\n",
       "\tWilcoxon rank sum test with continuity correction\n",
       "\n",
       "data:  quantidade_total_de_medicação by Caidor\n",
       "W = 736.5, p-value = 0.05283\n",
       "alternative hypothesis: true location shift is not equal to 0\n"
      ]
     },
     "metadata": {},
     "output_type": "display_data"
    }
   ],
   "source": [
    "#variáveis não paramétricas (idade,Nivel_educacional,MMSE,Trilhas_A,FES_I,Vsaq,IMC,Dinamometria,STS,Flexibilidade_Ms,Flexibilidade_MI,TUG_sec,DT_Sec,DT_numero_animais,quantidade_total_de_medicação)\n",
    "# De acordo com a tese: Palavras DT*, MEEM, Trilhas A, Intervalo RR*, SDNN*, rMSSD*, VLF*, LF*, HF*, LF/HF* e Total*\n",
    "\n",
    "#Pvalue>0.05 - identical populations\n",
    "\n",
    "wilcox.test(idade~Caidor,data=bd2) \n",
    "wilcox.test(Nivel_educacional~Caidor,data=bd2)\n",
    "wilcox.test(MMSE ~ Caidor, data=bd2)\n",
    "wilcox.test(Trilhas_A ~ Caidor, data=bd2)\n",
    "wilcox.test(FES_I ~ Caidor,data= bd2) \n",
    "wilcox.test(Vsaq ~ Caidor,data= bd2) \n",
    "wilcox.test(Vo2_maximo_avaliado ~ Caidor,data= bd2) \n",
    "wilcox.test(IMC ~ Caidor,data= bd2) \n",
    "wilcox.test(Dinamometria ~ Caidor,data= bd2)\n",
    "wilcox.test(STS ~ Caidor,data= bd2) \n",
    "wilcox.test(Flexibilidade_Ms ~ Caidor,data= bd2) \n",
    "wilcox.test(Flexibilidade_MI ~ Caidor,data= bd2) \n",
    "wilcox.test(TUG_sec ~ Caidor,data= bd2) \n",
    "wilcox.test(DT_Sec ~ Caidor,data= bd2) \n",
    "wilcox.test(DT_numero_animais ~ Caidor,data= bd2) \n",
    "wilcox.test(quantidade_total_de_medicação ~ Caidor,data= bd2)"
   ]
  },
  {
   "cell_type": "markdown",
   "metadata": {},
   "source": [
    "# RFE-RF (*sem dividir em amostra de treino e de teste*)"
   ]
  },
  {
   "cell_type": "code",
   "execution_count": 50,
   "metadata": {},
   "outputs": [
    {
     "name": "stdout",
     "output_type": "stream",
     "text": [
      "\n",
      "Recursive feature selection\n",
      "\n",
      "Outer resampling method: Cross-Validated (5 fold) \n",
      "\n",
      "Resampling performance over subset size:\n",
      "\n",
      " Variables Accuracy  Kappa AccuracySD KappaSD Selected\n",
      "         2   0.7119 0.3391    0.06628 0.19629         \n",
      "         3   0.6675 0.2303    0.10528 0.24324         \n",
      "         4   0.7297 0.3884    0.07978 0.18016         \n",
      "         5   0.7501 0.4578    0.04731 0.07891        *\n",
      "         6   0.7279 0.3943    0.05630 0.11089         \n",
      "         7   0.7097 0.3617    0.06964 0.13782         \n",
      "         8   0.7119 0.3430    0.09233 0.23211         \n",
      "         9   0.7119 0.3430    0.09233 0.23211         \n",
      "        10   0.7119 0.3241    0.09233 0.24843         \n",
      "        11   0.6715 0.2290    0.10683 0.26466         \n",
      "        12   0.6897 0.2605    0.08565 0.23236         \n",
      "        13   0.6897 0.2794    0.08565 0.22168         \n",
      "        14   0.7119 0.3430    0.09233 0.23211         \n",
      "        15   0.7079 0.3120    0.08102 0.22171         \n",
      "        16   0.7079 0.3120    0.08102 0.22171         \n",
      "        17   0.6897 0.2605    0.08565 0.23236         \n",
      "        18   0.6897 0.2605    0.08565 0.23236         \n",
      "        19   0.6897 0.2605    0.08565 0.23236         \n",
      "        20   0.7079 0.3120    0.08102 0.22171         \n",
      "        21   0.7079 0.3120    0.08102 0.22171         \n",
      "        22   0.6715 0.2025    0.10683 0.30203         \n",
      "        23   0.6533 0.1725    0.13710 0.35159         \n",
      "        24   0.6897 0.2605    0.08565 0.23236         \n",
      "        25   0.7079 0.2938    0.10342 0.27300         \n",
      "        26   0.6715 0.2025    0.10683 0.30203         \n",
      "        27   0.6715 0.2025    0.10683 0.30203         \n",
      "        28   0.6715 0.2025    0.10683 0.30203         \n",
      "        29   0.6897 0.2605    0.08565 0.23236         \n",
      "        30   0.6715 0.2025    0.10683 0.30203         \n",
      "        31   0.6715 0.2025    0.10683 0.30203         \n",
      "        32   0.7261 0.3453    0.09538 0.25576         \n",
      "        33   0.6715 0.2025    0.10683 0.30203         \n",
      "        34   0.6897 0.2605    0.08565 0.23236         \n",
      "        35   0.6715 0.2025    0.10683 0.30203         \n",
      "        36   0.6715 0.2025    0.10683 0.30203         \n",
      "        37   0.6715 0.2025    0.10683 0.30203         \n",
      "        38   0.6897 0.2605    0.08565 0.23236         \n",
      "        39   0.6715 0.2025    0.10683 0.30203         \n",
      "\n",
      "The top 5 variables (out of 5):\n",
      "   Berg, medicaçao_tipo_cardiovascular, DT_Sec, Anticoagulante_classif, Vo2_maximo_avaliado\n",
      "\n"
     ]
    },
    {
     "data": {
      "text/html": [
       "<style>\n",
       ".list-inline {list-style: none; margin:0; padding: 0}\n",
       ".list-inline>li {display: inline-block}\n",
       ".list-inline>li:not(:last-child)::after {content: \"\\00b7\"; padding: 0 .5ex}\n",
       "</style>\n",
       "<ol class=list-inline><li>'Berg'</li><li>'medicaçao_tipo_cardiovascular'</li><li>'DT_Sec'</li><li>'Anticoagulante_classif'</li><li>'Vo2_maximo_avaliado'</li></ol>\n"
      ],
      "text/latex": [
       "\\begin{enumerate*}\n",
       "\\item 'Berg'\n",
       "\\item 'medicaçao\\_tipo\\_cardiovascular'\n",
       "\\item 'DT\\_Sec'\n",
       "\\item 'Anticoagulante\\_classif'\n",
       "\\item 'Vo2\\_maximo\\_avaliado'\n",
       "\\end{enumerate*}\n"
      ],
      "text/markdown": [
       "1. 'Berg'\n",
       "2. 'medicaçao_tipo_cardiovascular'\n",
       "3. 'DT_Sec'\n",
       "4. 'Anticoagulante_classif'\n",
       "5. 'Vo2_maximo_avaliado'\n",
       "\n",
       "\n"
      ],
      "text/plain": [
       "[1] \"Berg\"                          \"medicaçao_tipo_cardiovascular\"\n",
       "[3] \"DT_Sec\"                        \"Anticoagulante_classif\"       \n",
       "[5] \"Vo2_maximo_avaliado\"          "
      ]
     },
     "metadata": {},
     "output_type": "display_data"
    },
    {
     "data": {
      "image/png": "[encoded data removed]",
      "text/plain": [
       "plot without title"
      ]
     },
     "metadata": {
      "image/png": {
       "height": 420,
       "width": 420
      }
     },
     "output_type": "display_data"
    }
   ],
   "source": [
    "#install.packages(\"caret\")\n",
    "require(caret)\n",
    "#install.packages(\"e1071\")\n",
    "require(e1071)\n",
    "#install.packages(\"randomForest\")\n",
    "require(randomForest)\n",
    "set.seed(1)\n",
    "control <- rfeControl(functions=rfFuncs, method=\"cv\", number=5)\n",
    "set.seed(2)\n",
    "results <- rfe(BD[,2:40], BD[[1]], sizes=c(2:40),rfeControl=control,metric=\"Kappa\") #Classes desbalanceadas\n",
    "print(results) \n",
    "#list the chosen features\n",
    "predictors(results) \n",
    "#plot the results\n",
    "plot(results, type=c(\"g\", \"o\"),main=\"RFE using Random Forest\")"
   ]
  },
  {
   "cell_type": "code",
   "execution_count": 51,
   "metadata": {},
   "outputs": [
    {
     "data": {
      "text/html": [
       "<table class=\"dataframe\">\n",
       "<caption>A tibble: 6 × 6</caption>\n",
       "<thead>\n",
       "\t<tr><th scope=col>Caidor</th><th scope=col>Berg</th><th scope=col>medicaçao_tipo_cardiovascular</th><th scope=col>DT_Sec</th><th scope=col>Anticoagulante_classif</th><th scope=col>Vo2_maximo_avaliado</th></tr>\n",
       "\t<tr><th scope=col>&lt;fct&gt;</th><th scope=col>&lt;dbl&gt;</th><th scope=col>&lt;fct&gt;</th><th scope=col>&lt;dbl&gt;</th><th scope=col>&lt;fct&gt;</th><th scope=col>&lt;dbl&gt;</th></tr>\n",
       "</thead>\n",
       "<tbody>\n",
       "\t<tr><td>sim</td><td>54</td><td>Beta + Anti_Coag      </td><td> 9.1</td><td>não</td><td>17.0</td></tr>\n",
       "\t<tr><td>não</td><td>54</td><td>Beta + Anti_Coag      </td><td> 8.6</td><td>não</td><td>11.3</td></tr>\n",
       "\t<tr><td>sim</td><td>51</td><td>Beta + Anti_Coag + Diu</td><td>11.9</td><td>sim</td><td>12.7</td></tr>\n",
       "\t<tr><td>sim</td><td>54</td><td>Beta                  </td><td> 9.2</td><td>sim</td><td>18.4</td></tr>\n",
       "\t<tr><td>não</td><td>55</td><td>Beta                  </td><td> 8.7</td><td>sim</td><td>13.4</td></tr>\n",
       "\t<tr><td>não</td><td>55</td><td>Beta                  </td><td> 6.7</td><td>não</td><td>18.6</td></tr>\n",
       "</tbody>\n",
       "</table>\n"
      ],
      "text/latex": [
       "A tibble: 6 × 6\n",
       "\\begin{tabular}{llllll}\n",
       " Caidor & Berg & medicaçao\\_tipo\\_cardiovascular & DT\\_Sec & Anticoagulante\\_classif & Vo2\\_maximo\\_avaliado\\\\\n",
       " <fct> & <dbl> & <fct> & <dbl> & <fct> & <dbl>\\\\\n",
       "\\hline\n",
       "\t sim & 54 & Beta + Anti\\_Coag       &  9.1 & não & 17.0\\\\\n",
       "\t não & 54 & Beta + Anti\\_Coag       &  8.6 & não & 11.3\\\\\n",
       "\t sim & 51 & Beta + Anti\\_Coag + Diu & 11.9 & sim & 12.7\\\\\n",
       "\t sim & 54 & Beta                   &  9.2 & sim & 18.4\\\\\n",
       "\t não & 55 & Beta                   &  8.7 & sim & 13.4\\\\\n",
       "\t não & 55 & Beta                   &  6.7 & não & 18.6\\\\\n",
       "\\end{tabular}\n"
      ],
      "text/markdown": [
       "\n",
       "A tibble: 6 × 6\n",
       "\n",
       "| Caidor &lt;fct&gt; | Berg &lt;dbl&gt; | medicaçao_tipo_cardiovascular &lt;fct&gt; | DT_Sec &lt;dbl&gt; | Anticoagulante_classif &lt;fct&gt; | Vo2_maximo_avaliado &lt;dbl&gt; |\n",
       "|---|---|---|---|---|---|\n",
       "| sim | 54 | Beta + Anti_Coag       |  9.1 | não | 17.0 |\n",
       "| não | 54 | Beta + Anti_Coag       |  8.6 | não | 11.3 |\n",
       "| sim | 51 | Beta + Anti_Coag + Diu | 11.9 | sim | 12.7 |\n",
       "| sim | 54 | Beta                   |  9.2 | sim | 18.4 |\n",
       "| não | 55 | Beta                   |  8.7 | sim | 13.4 |\n",
       "| não | 55 | Beta                   |  6.7 | não | 18.6 |\n",
       "\n"
      ],
      "text/plain": [
       "  Caidor Berg medicaçao_tipo_cardiovascular DT_Sec Anticoagulante_classif\n",
       "1 sim    54   Beta + Anti_Coag               9.1   não                   \n",
       "2 não    54   Beta + Anti_Coag               8.6   não                   \n",
       "3 sim    51   Beta + Anti_Coag + Diu        11.9   sim                   \n",
       "4 sim    54   Beta                           9.2   sim                   \n",
       "5 não    55   Beta                           8.7   sim                   \n",
       "6 não    55   Beta                           6.7   não                   \n",
       "  Vo2_maximo_avaliado\n",
       "1 17.0               \n",
       "2 11.3               \n",
       "3 12.7               \n",
       "4 18.4               \n",
       "5 13.4               \n",
       "6 18.6               "
      ]
     },
     "metadata": {},
     "output_type": "display_data"
    },
    {
     "data": {
      "text/plain": [
       "Random Forest \n",
       "\n",
       "52 samples\n",
       " 5 predictor\n",
       " 2 classes: 'sim', 'não' \n",
       "\n",
       "No pre-processing\n",
       "Resampling: Cross-Validated (5 fold) \n",
       "Summary of sample sizes: 42, 41, 42, 41, 42 \n",
       "Resampling results across tuning parameters:\n",
       "\n",
       "  mtry  Accuracy   Kappa    \n",
       "  2     0.7127273  0.3635833\n",
       "  5     0.7127273  0.3593013\n",
       "  8     0.6927273  0.3088665\n",
       "\n",
       "Kappa was used to select the optimal model using the largest value.\n",
       "The final value used for the model was mtry = 2."
      ]
     },
     "metadata": {},
     "output_type": "display_data"
    },
    {
     "data": {
      "text/plain": [
       "\n",
       "Call:\n",
       " randomForest(x = x, y = y, mtry = min(param$mtry, ncol(x))) \n",
       "               Type of random forest: classification\n",
       "                     Number of trees: 500\n",
       "No. of variables tried at each split: 2\n",
       "\n",
       "        OOB estimate of  error rate: 25%\n",
       "Confusion matrix:\n",
       "    sim não class.error\n",
       "sim  12   7   0.3684211\n",
       "não   6  27   0.1818182"
      ]
     },
     "metadata": {},
     "output_type": "display_data"
    },
    {
     "data": {
      "text/plain": [
       "rf variable importance\n",
       "\n",
       "                                                    Overall\n",
       "DT_Sec                                              100.000\n",
       "Vo2_maximo_avaliado                                  96.538\n",
       "Berg                                                 88.196\n",
       "Anticoagulante_classifsim                            44.326\n",
       "medicaçao_tipo_cardiovascularBeta + Anti_Coag + Diu  35.259\n",
       "medicaçao_tipo_cardiovascularBeta + Anti_HAS         17.433\n",
       "medicaçao_tipo_cardiovascularBeta + Anti_Coag         5.766\n",
       "medicaçao_tipo_cardiovascularBeta                     0.000"
      ]
     },
     "metadata": {},
     "output_type": "display_data"
    },
    {
     "data": {
      "image/png": "[encoded data removed]",
      "text/plain": [
       "plot without title"
      ]
     },
     "metadata": {
      "image/png": {
       "height": 420,
       "width": 420
      }
     },
     "output_type": "display_data"
    },
    {
     "data": {
      "image/png": "[encoded data removed]",
      "text/plain": [
       "plot without title"
      ]
     },
     "metadata": {
      "image/png": {
       "height": 420,
       "width": 420
      }
     },
     "output_type": "display_data"
    }
   ],
   "source": [
    "BD_RF_rfe<- BD[,c(\"Caidor\",\"Berg\",\n",
    "                               \"medicaçao_tipo_cardiovascular\",\"DT_Sec\",\"Anticoagulante_classif\",\"Vo2_maximo_avaliado\")]\n",
    "head(BD_RF_rfe)\n",
    "set.seed(4)\n",
    "RFmodel=train(Caidor~.,data=BD_RF_rfe,method='rf',metric=ifelse(is.factor(BD_RF_rfe$Caidor),\"Kappa\",\"RMSE\"),trControl=trainControl(method='cv',number=5,savePredictions=TRUE))\n",
    "RFmodel \n",
    "plot(RFmodel)\n",
    "RFmodel$finalModel  \n",
    "varImp(RFmodel)\n",
    "plot(varImp(RFmodel),main=\"Variables Importance - Random Forest\")"
   ]
  },
  {
   "cell_type": "code",
   "execution_count": 98,
   "metadata": {},
   "outputs": [
    {
     "data": {
      "text/plain": [
       "Confusion Matrix and Statistics\n",
       "\n",
       "          Reference\n",
       "Prediction sim não\n",
       "       sim  29  18\n",
       "       não  28  81\n",
       "                                          \n",
       "               Accuracy : 0.7051          \n",
       "                 95% CI : (0.6269, 0.7753)\n",
       "    No Information Rate : 0.6346          \n",
       "    P-Value [Acc > NIR] : 0.03888         \n",
       "                                          \n",
       "                  Kappa : 0.3396          \n",
       "                                          \n",
       " Mcnemar's Test P-Value : 0.18452         \n",
       "                                          \n",
       "            Sensitivity : 0.5088          \n",
       "            Specificity : 0.8182          \n",
       "         Pos Pred Value : 0.6170          \n",
       "         Neg Pred Value : 0.7431          \n",
       "             Prevalence : 0.3654          \n",
       "         Detection Rate : 0.1859          \n",
       "   Detection Prevalence : 0.3013          \n",
       "      Balanced Accuracy : 0.6635          \n",
       "                                          \n",
       "       'Positive' Class : sim             \n",
       "                                          "
      ]
     },
     "metadata": {},
     "output_type": "display_data"
    }
   ],
   "source": [
    "#attributes(RFmodel)\n",
    "prediction<-RFmodel$pred[,1]\n",
    "obs<- RFmodel$pred[,2]\n",
    "confusionMatrix(prediction,obs)"
   ]
  },
  {
   "cell_type": "markdown",
   "metadata": {},
   "source": [
    "# Otimizando a métrica de interesse usando *f-beta* e *ROC* "
   ]
  },
  {
   "cell_type": "markdown",
   "metadata": {},
   "source": [
    "## F-beta"
   ]
  },
  {
   "cell_type": "code",
   "execution_count": 77,
   "metadata": {},
   "outputs": [
    {
     "data": {
      "text/html": [
       "<style>\n",
       ".list-inline {list-style: none; margin:0; padding: 0}\n",
       ".list-inline>li {display: inline-block}\n",
       ".list-inline>li:not(:last-child)::after {content: \"\\00b7\"; padding: 0 .5ex}\n",
       "</style>\n",
       "<ol class=list-inline><li>1.38297872340426</li><li>1.38397341302811</li><li>1.38685074338675</li><li>1.39131790825815</li><li>1.39696586599241</li><li>1.40335280670561</li><li>1.41007356252815</li><li>1.41680076414047</li><li>1.42329804278848</li><li>1.42941374061077</li><li>1.43506493506494</li></ol>\n"
      ],
      "text/latex": [
       "\\begin{enumerate*}\n",
       "\\item 1.38297872340426\n",
       "\\item 1.38397341302811\n",
       "\\item 1.38685074338675\n",
       "\\item 1.39131790825815\n",
       "\\item 1.39696586599241\n",
       "\\item 1.40335280670561\n",
       "\\item 1.41007356252815\n",
       "\\item 1.41680076414047\n",
       "\\item 1.42329804278848\n",
       "\\item 1.42941374061077\n",
       "\\item 1.43506493506494\n",
       "\\end{enumerate*}\n"
      ],
      "text/markdown": [
       "1. 1.38297872340426\n",
       "2. 1.38397341302811\n",
       "3. 1.38685074338675\n",
       "4. 1.39131790825815\n",
       "5. 1.39696586599241\n",
       "6. 1.40335280670561\n",
       "7. 1.41007356252815\n",
       "8. 1.41680076414047\n",
       "9. 1.42329804278848\n",
       "10. 1.42941374061077\n",
       "11. 1.43506493506494\n",
       "\n",
       "\n"
      ],
      "text/plain": [
       " [1] 1.382979 1.383973 1.386851 1.391318 1.396966 1.403353 1.410074 1.416801\n",
       " [9] 1.423298 1.429414 1.435065"
      ]
     },
     "metadata": {},
     "output_type": "display_data"
    }
   ],
   "source": [
    "# Objetivo: diminuir os Falsos Negativos (indivíduos classificados, de forma errada, como caidor)\n",
    "# Aumentar o valor de Beta (>1 - prioriza o recall)\n",
    "\n",
    "#install.packages(\"Metrics\")\n",
    "require(Metrics)\n",
    "#Como calcular fbeta de um modelo de RF(modelo 1 - caidor como classe positiva):\n",
    "obs<- RFmodel$pred[,2]\n",
    "obs<- as.numeric(obs)\n",
    "pred<- RFmodel$pred[,1]\n",
    "pred<- as.numeric(pred)\n",
    "fbeta_score(obs,pred,beta= seq(0,1,0.1))"
   ]
  },
  {
   "cell_type": "code",
   "execution_count": 85,
   "metadata": {},
   "outputs": [
    {
     "data": {
      "text/plain": [
       "Random Forest \n",
       "\n",
       "52 samples\n",
       " 5 predictor\n",
       " 2 classes: 'sim', 'não' \n",
       "\n",
       "No pre-processing\n",
       "Resampling: Cross-Validated (5 fold) \n",
       "Summary of sample sizes: 43, 41, 42, 41, 41 \n",
       "Resampling results across tuning parameters:\n",
       "\n",
       "  mtry  FB       \n",
       "  2     0.6886905\n",
       "  5     0.5495238\n",
       "  8     0.6027056\n",
       "\n",
       "FB was used to select the optimal model using the largest value.\n",
       "The final value used for the model was mtry = 2."
      ]
     },
     "metadata": {},
     "output_type": "display_data"
    },
    {
     "data": {
      "text/plain": [
       "\n",
       "Call:\n",
       " randomForest(x = x, y = y, mtry = min(param$mtry, ncol(x))) \n",
       "               Type of random forest: classification\n",
       "                     Number of trees: 500\n",
       "No. of variables tried at each split: 2\n",
       "\n",
       "        OOB estimate of  error rate: 26.92%\n",
       "Confusion matrix:\n",
       "    sim não class.error\n",
       "sim  11   8   0.4210526\n",
       "não   6  27   0.1818182"
      ]
     },
     "metadata": {},
     "output_type": "display_data"
    }
   ],
   "source": [
    "#install.packages(\"MLmetrics\")\n",
    "require(MLmetrics)\n",
    "\n",
    "#F-BETA\n",
    "fbeta <- function (data, lev = NULL, model = NULL) {\n",
    "  fb_val <- FBeta_Score(data$obs, data$pred, beta=1.5)\n",
    "  c(FB = fb_val)\n",
    "}\n",
    "set.seed(3)\n",
    "RF_fbeta <- train(Caidor~., \n",
    "                     data = BD_RF_rfe,\n",
    "                     method = \"rf\",\n",
    "                     metric = \"FB\",\n",
    "                     trControl = trainControl(method='cv',number=5,savePredictions=TRUE,search=\"grid\",summaryFunction=fbeta))\n",
    "RF_fbeta\n",
    "RF_fbeta$finalModel"
   ]
  },
  {
   "cell_type": "code",
   "execution_count": 86,
   "metadata": {},
   "outputs": [
    {
     "data": {
      "text/plain": [
       "rf variable importance\n",
       "\n",
       "                                                    Overall\n",
       "Vo2_maximo_avaliado                                 100.000\n",
       "DT_Sec                                               94.561\n",
       "Berg                                                 93.909\n",
       "medicaçao_tipo_cardiovascularBeta + Anti_Coag + Diu  36.426\n",
       "Anticoagulante_classifsim                            35.987\n",
       "medicaçao_tipo_cardiovascularBeta + Anti_HAS         17.390\n",
       "medicaçao_tipo_cardiovascularBeta + Anti_Coag         7.764\n",
       "medicaçao_tipo_cardiovascularBeta                     0.000"
      ]
     },
     "metadata": {},
     "output_type": "display_data"
    },
    {
     "data": {
      "image/png": "[encoded data removed]",
      "text/plain": [
       "plot without title"
      ]
     },
     "metadata": {
      "image/png": {
       "height": 420,
       "width": 420
      }
     },
     "output_type": "display_data"
    }
   ],
   "source": [
    "varImp(RF_fbeta)\n",
    "plot(varImp(RF_fbeta),main=\"Variables Importance - Random Forest\")"
   ]
  },
  {
   "cell_type": "code",
   "execution_count": 87,
   "metadata": {},
   "outputs": [
    {
     "data": {
      "text/plain": [
       "Confusion Matrix and Statistics\n",
       "\n",
       "          Reference\n",
       "Prediction sim não\n",
       "       sim  34  18\n",
       "       não  23  81\n",
       "                                          \n",
       "               Accuracy : 0.7372          \n",
       "                 95% CI : (0.6608, 0.8043)\n",
       "    No Information Rate : 0.6346          \n",
       "    P-Value [Acc > NIR] : 0.004261        \n",
       "                                          \n",
       "                  Kappa : 0.4225          \n",
       "                                          \n",
       " Mcnemar's Test P-Value : 0.532171        \n",
       "                                          \n",
       "            Sensitivity : 0.5965          \n",
       "            Specificity : 0.8182          \n",
       "         Pos Pred Value : 0.6538          \n",
       "         Neg Pred Value : 0.7788          \n",
       "             Prevalence : 0.3654          \n",
       "         Detection Rate : 0.2179          \n",
       "   Detection Prevalence : 0.3333          \n",
       "      Balanced Accuracy : 0.7073          \n",
       "                                          \n",
       "       'Positive' Class : sim             \n",
       "                                          "
      ]
     },
     "metadata": {},
     "output_type": "display_data"
    }
   ],
   "source": [
    "prediction2<-RF_fbeta$pred[,1]\n",
    "obs2<- RF_fbeta$pred[,2]\n",
    "confusionMatrix(prediction2,obs2)"
   ]
  },
  {
   "cell_type": "markdown",
   "metadata": {},
   "source": [
    "## ROC"
   ]
  },
  {
   "cell_type": "code",
   "execution_count": 57,
   "metadata": {},
   "outputs": [
    {
     "data": {
      "text/plain": [
       "Random Forest \n",
       "\n",
       "52 samples\n",
       " 5 predictor\n",
       " 2 classes: 'sim', 'não' \n",
       "\n",
       "No pre-processing\n",
       "Resampling: Cross-Validated (5 fold) \n",
       "Summary of sample sizes: 41, 42, 42, 42, 41 \n",
       "Resampling results across tuning parameters:\n",
       "\n",
       "  mtry  ROC        Sens       Spec     \n",
       "  2     0.8535714  0.6500000  0.8142857\n",
       "  5     0.8440476  0.5833333  0.8142857\n",
       "  8     0.8452381  0.6000000  0.7857143\n",
       "\n",
       "ROC was used to select the optimal model using the largest value.\n",
       "The final value used for the model was mtry = 2."
      ]
     },
     "metadata": {},
     "output_type": "display_data"
    },
    {
     "data": {
      "text/plain": [
       "\n",
       "Call:\n",
       " randomForest(x = x, y = y, mtry = min(param$mtry, ncol(x))) \n",
       "               Type of random forest: classification\n",
       "                     Number of trees: 500\n",
       "No. of variables tried at each split: 2\n",
       "\n",
       "        OOB estimate of  error rate: 25%\n",
       "Confusion matrix:\n",
       "    sim não class.error\n",
       "sim  12   7   0.3684211\n",
       "não   6  27   0.1818182"
      ]
     },
     "metadata": {},
     "output_type": "display_data"
    }
   ],
   "source": [
    "#twoClassSummary (Sensibilidade, especificidade e AUC ROC)\n",
    "fitControl <- trainControl(method = \"cv\",\n",
    "                           number = 5,\n",
    "                           savePredictions=TRUE,\n",
    "                           search=\"grid\",\n",
    "                           # estimar probabilidades das classes\n",
    "                           classProbs = TRUE,\n",
    "                           # avaliar performance utilizando função a seguir\n",
    "                           summaryFunction = twoClassSummary)\n",
    "\n",
    "set.seed(13)\n",
    "RF_roc <- train(Caidor ~ ., data = BD_RF_rfe, \n",
    "                 method = \"rf\", \n",
    "                 trControl = fitControl, \n",
    "                 # especificando qual métrica deseja otimizar\n",
    "                 metric = \"ROC\")\n",
    "RF_roc\n",
    "RF_roc$finalModel"
   ]
  },
  {
   "cell_type": "code",
   "execution_count": 58,
   "metadata": {},
   "outputs": [
    {
     "data": {
      "text/plain": [
       "rf variable importance\n",
       "\n",
       "                                                    Overall\n",
       "DT_Sec                                              100.000\n",
       "Vo2_maximo_avaliado                                  97.388\n",
       "Berg                                                 89.717\n",
       "medicaçao_tipo_cardiovascularBeta + Anti_Coag + Diu  39.902\n",
       "Anticoagulante_classifsim                            38.256\n",
       "medicaçao_tipo_cardiovascularBeta + Anti_HAS         21.917\n",
       "medicaçao_tipo_cardiovascularBeta + Anti_Coag         7.934\n",
       "medicaçao_tipo_cardiovascularBeta                     0.000"
      ]
     },
     "metadata": {},
     "output_type": "display_data"
    },
    {
     "data": {
      "image/png": "[encoded data removed]",
      "text/plain": [
       "plot without title"
      ]
     },
     "metadata": {
      "image/png": {
       "height": 420,
       "width": 420
      }
     },
     "output_type": "display_data"
    }
   ],
   "source": [
    "varImp(RF_roc)\n",
    "plot(varImp(RF_roc),main=\"Variables Importance - Random Forest\")"
   ]
  },
  {
   "cell_type": "code",
   "execution_count": 59,
   "metadata": {},
   "outputs": [
    {
     "data": {
      "text/plain": [
       "Confusion Matrix and Statistics\n",
       "\n",
       "          Reference\n",
       "Prediction sim não\n",
       "       sim  34  19\n",
       "       não  23  80\n",
       "                                         \n",
       "               Accuracy : 0.7308         \n",
       "                 95% CI : (0.654, 0.7986)\n",
       "    No Information Rate : 0.6346         \n",
       "    P-Value [Acc > NIR] : 0.007028       \n",
       "                                         \n",
       "                  Kappa : 0.4107         \n",
       "                                         \n",
       " Mcnemar's Test P-Value : 0.643429       \n",
       "                                         \n",
       "            Sensitivity : 0.5965         \n",
       "            Specificity : 0.8081         \n",
       "         Pos Pred Value : 0.6415         \n",
       "         Neg Pred Value : 0.7767         \n",
       "             Prevalence : 0.3654         \n",
       "         Detection Rate : 0.2179         \n",
       "   Detection Prevalence : 0.3397         \n",
       "      Balanced Accuracy : 0.7023         \n",
       "                                         \n",
       "       'Positive' Class : sim            \n",
       "                                         "
      ]
     },
     "metadata": {},
     "output_type": "display_data"
    }
   ],
   "source": [
    "prediction3<-RF_roc$pred[,1]\n",
    "obs3<- RF_roc$pred[,2]\n",
    "confusionMatrix(prediction3,obs3)"
   ]
  },
  {
   "cell_type": "markdown",
   "metadata": {},
   "source": [
    "# Comparando os 3 modelos (*Curva ROC*) - caso como classe positiva"
   ]
  },
  {
   "cell_type": "code",
   "execution_count": 94,
   "metadata": {},
   "outputs": [
    {
     "name": "stderr",
     "output_type": "stream",
     "text": [
      "Setting levels: control = 1, case = 2\n",
      "\n",
      "Setting direction: controls < cases\n",
      "\n"
     ]
    },
    {
     "data": {
      "text/plain": [
       "\n",
       "Call:\n",
       "roc.default(response = obs, predictor = y, plot = T)\n",
       "\n",
       "Data: y in 57 controls (obs 1) < 99 cases (obs 2).\n",
       "Area under the curve: 0.6635"
      ]
     },
     "metadata": {},
     "output_type": "display_data"
    },
    {
     "name": "stderr",
     "output_type": "stream",
     "text": [
      "Setting levels: control = sim, case = não\n",
      "\n",
      "Setting direction: controls < cases\n",
      "\n"
     ]
    },
    {
     "data": {
      "image/png": "[encoded data removed]",
      "text/plain": [
       "plot without title"
      ]
     },
     "metadata": {
      "image/png": {
       "height": 420,
       "width": 420
      }
     },
     "output_type": "display_data"
    },
    {
     "data": {
      "text/plain": [
       "\n",
       "Call:\n",
       "roc.default(response = obs2, predictor = y2, plot = T)\n",
       "\n",
       "Data: y2 in 57 controls (obs2 sim) < 99 cases (obs2 não).\n",
       "Area under the curve: 0.7073"
      ]
     },
     "metadata": {},
     "output_type": "display_data"
    },
    {
     "data": {
      "text/plain": [
       "\n",
       "\tDeLong's test for two ROC curves\n",
       "\n",
       "data:  roc_rf and roc_fbeta\n",
       "D = -0.80763, df = 309.94, p-value = 0.4199\n",
       "alternative hypothesis: true difference in AUC is not equal to 0\n",
       "sample estimates:\n",
       "AUC of roc1 AUC of roc2 \n",
       "  0.6634769   0.7073365 \n"
      ]
     },
     "metadata": {},
     "output_type": "display_data"
    },
    {
     "name": "stderr",
     "output_type": "stream",
     "text": [
      "Setting levels: control = sim, case = não\n",
      "\n",
      "Setting direction: controls < cases\n",
      "\n"
     ]
    },
    {
     "data": {
      "image/png": "[encoded data removed]",
      "text/plain": [
       "plot without title"
      ]
     },
     "metadata": {
      "image/png": {
       "height": 420,
       "width": 420
      }
     },
     "output_type": "display_data"
    },
    {
     "data": {
      "text/plain": [
       "\n",
       "Call:\n",
       "roc.default(response = obs3, predictor = y3, plot = T)\n",
       "\n",
       "Data: y3 in 57 controls (obs3 sim) < 99 cases (obs3 não).\n",
       "Area under the curve: 0.7023"
      ]
     },
     "metadata": {},
     "output_type": "display_data"
    },
    {
     "data": {
      "text/plain": [
       "\n",
       "\tDeLong's test for two ROC curves\n",
       "\n",
       "data:  roc_rf and auc_roc\n",
       "D = -0.71268, df = 309.98, p-value = 0.4766\n",
       "alternative hypothesis: true difference in AUC is not equal to 0\n",
       "sample estimates:\n",
       "AUC of roc1 AUC of roc2 \n",
       "  0.6634769   0.7022860 \n"
      ]
     },
     "metadata": {},
     "output_type": "display_data"
    },
    {
     "data": {
      "text/plain": [
       "\n",
       "\tDeLong's test for two ROC curves\n",
       "\n",
       "data:  roc_fbeta and auc_roc\n",
       "D = 0.093398, df = 309.99, p-value = 0.9256\n",
       "alternative hypothesis: true difference in AUC is not equal to 0\n",
       "sample estimates:\n",
       "AUC of roc1 AUC of roc2 \n",
       "  0.7073365   0.7022860 \n"
      ]
     },
     "metadata": {},
     "output_type": "display_data"
    },
    {
     "data": {
      "image/png": "[encoded data removed]",
      "text/plain": [
       "plot without title"
      ]
     },
     "metadata": {
      "image/png": {
       "height": 420,
       "width": 420
      }
     },
     "output_type": "display_data"
    }
   ],
   "source": [
    "#install.packages(\"pROC\")\n",
    "require(pROC)\n",
    "\n",
    "y<- as.numeric(prediction)\n",
    "roc_rf<- roc(obs, y, plot=T)\n",
    "roc_rf\n",
    "\n",
    "y2<- as.numeric(prediction2)\n",
    "roc_fbeta<- roc(obs2, y2, plot=T)\n",
    "roc_fbeta\n",
    "\n",
    "roc.test(roc_rf,roc_fbeta)\n",
    "\n",
    "y3<- as.numeric(prediction3)\n",
    "auc_roc<- roc(obs3,y3,plot=T)\n",
    "auc_roc\n",
    "\n",
    "roc.test(roc_rf,auc_roc)\n",
    "###\n",
    "roc.test(roc_fbeta,auc_roc)"
   ]
  },
  {
   "cell_type": "markdown",
   "metadata": {},
   "source": [
    "# Regressão Logística (*Berg, DT_Sec e Vo2_maximo_avaliado*) "
   ]
  },
  {
   "cell_type": "code",
   "execution_count": 112,
   "metadata": {},
   "outputs": [
    {
     "data": {
      "text/plain": [
       "\n",
       "Call:\n",
       "glm(formula = Caidor ~ Vo2_maximo_avaliado + DT_Sec + Berg, family = \"binomial\", \n",
       "    data = BD_RF_rfe)\n",
       "\n",
       "Deviance Residuals: \n",
       "    Min       1Q   Median       3Q      Max  \n",
       "-2.0472  -0.5084   0.4998   0.6539   2.2521  \n",
       "\n",
       "Coefficients:\n",
       "                     Estimate Std. Error z value Pr(>|z|)  \n",
       "(Intercept)         -28.09278   11.19157  -2.510   0.0121 *\n",
       "Vo2_maximo_avaliado   0.07672    0.11381   0.674   0.5003  \n",
       "DT_Sec               -0.15461    0.15198  -1.017   0.3090  \n",
       "Berg                  0.53017    0.21228   2.497   0.0125 *\n",
       "---\n",
       "Signif. codes:  0 '***' 0.001 '**' 0.01 '*' 0.05 '.' 0.1 ' ' 1\n",
       "\n",
       "(Dispersion parameter for binomial family taken to be 1)\n",
       "\n",
       "    Null deviance: 68.271  on 51  degrees of freedom\n",
       "Residual deviance: 46.541  on 48  degrees of freedom\n",
       "AIC: 54.541\n",
       "\n",
       "Number of Fisher Scoring iterations: 5\n"
      ]
     },
     "metadata": {},
     "output_type": "display_data"
    },
    {
     "data": {
      "text/html": [
       "<style>\n",
       ".dl-inline {width: auto; margin:0; padding: 0}\n",
       ".dl-inline>dt, .dl-inline>dd {float: none; width: auto; display: inline-block}\n",
       ".dl-inline>dt::after {content: \":\\0020\"; padding-right: .5ex}\n",
       ".dl-inline>dt:not(:first-of-type) {padding-left: .5ex}\n",
       "</style><dl class=dl-inline><dt>(Intercept)</dt><dd>6.30174471876853e-13</dd><dt>Vo2_maximo_avaliado</dt><dd>1.07973589243239</dd><dt>DT_Sec</dt><dd>0.856745480376769</dd><dt>Berg</dt><dd>1.69921486008059</dd></dl>\n"
      ],
      "text/latex": [
       "\\begin{description*}\n",
       "\\item[(Intercept)] 6.30174471876853e-13\n",
       "\\item[Vo2\\textbackslash{}\\_maximo\\textbackslash{}\\_avaliado] 1.07973589243239\n",
       "\\item[DT\\textbackslash{}\\_Sec] 0.856745480376769\n",
       "\\item[Berg] 1.69921486008059\n",
       "\\end{description*}\n"
      ],
      "text/markdown": [
       "(Intercept)\n",
       ":   6.30174471876853e-13Vo2_maximo_avaliado\n",
       ":   1.07973589243239DT_Sec\n",
       ":   0.856745480376769Berg\n",
       ":   1.69921486008059\n",
       "\n"
      ],
      "text/plain": [
       "        (Intercept) Vo2_maximo_avaliado              DT_Sec                Berg \n",
       "       6.301745e-13        1.079736e+00        8.567455e-01        1.699215e+00 "
      ]
     },
     "metadata": {},
     "output_type": "display_data"
    },
    {
     "name": "stderr",
     "output_type": "stream",
     "text": [
      "Waiting for profiling to be done...\n",
      "\n"
     ]
    },
    {
     "data": {
      "text/html": [
       "<table class=\"dataframe\">\n",
       "<caption>A matrix: 4 × 3 of type dbl</caption>\n",
       "<thead>\n",
       "\t<tr><th></th><th scope=col>OR</th><th scope=col>2.5 %</th><th scope=col>97.5 %</th></tr>\n",
       "</thead>\n",
       "<tbody>\n",
       "\t<tr><th scope=row>(Intercept)</th><td>6.301745e-13</td><td>5.306608e-25</td><td>3.195353e-05</td></tr>\n",
       "\t<tr><th scope=row>Vo2_maximo_avaliado</th><td>1.079736e+00</td><td>8.677334e-01</td><td>1.367187e+00</td></tr>\n",
       "\t<tr><th scope=row>DT_Sec</th><td>8.567455e-01</td><td>5.958264e-01</td><td>1.133468e+00</td></tr>\n",
       "\t<tr><th scope=row>Berg</th><td>1.699215e+00</td><td>1.217957e+00</td><td>2.879131e+00</td></tr>\n",
       "</tbody>\n",
       "</table>\n"
      ],
      "text/latex": [
       "A matrix: 4 × 3 of type dbl\n",
       "\\begin{tabular}{r|lll}\n",
       "  & OR & 2.5 \\% & 97.5 \\%\\\\\n",
       "\\hline\n",
       "\t(Intercept) & 6.301745e-13 & 5.306608e-25 & 3.195353e-05\\\\\n",
       "\tVo2\\_maximo\\_avaliado & 1.079736e+00 & 8.677334e-01 & 1.367187e+00\\\\\n",
       "\tDT\\_Sec & 8.567455e-01 & 5.958264e-01 & 1.133468e+00\\\\\n",
       "\tBerg & 1.699215e+00 & 1.217957e+00 & 2.879131e+00\\\\\n",
       "\\end{tabular}\n"
      ],
      "text/markdown": [
       "\n",
       "A matrix: 4 × 3 of type dbl\n",
       "\n",
       "| <!--/--> | OR | 2.5 % | 97.5 % |\n",
       "|---|---|---|---|\n",
       "| (Intercept) | 6.301745e-13 | 5.306608e-25 | 3.195353e-05 |\n",
       "| Vo2_maximo_avaliado | 1.079736e+00 | 8.677334e-01 | 1.367187e+00 |\n",
       "| DT_Sec | 8.567455e-01 | 5.958264e-01 | 1.133468e+00 |\n",
       "| Berg | 1.699215e+00 | 1.217957e+00 | 2.879131e+00 |\n",
       "\n"
      ],
      "text/plain": [
       "                    OR           2.5 %        97.5 %      \n",
       "(Intercept)         6.301745e-13 5.306608e-25 3.195353e-05\n",
       "Vo2_maximo_avaliado 1.079736e+00 8.677334e-01 1.367187e+00\n",
       "DT_Sec              8.567455e-01 5.958264e-01 1.133468e+00\n",
       "Berg                1.699215e+00 1.217957e+00 2.879131e+00"
      ]
     },
     "metadata": {},
     "output_type": "display_data"
    }
   ],
   "source": [
    "set.seed(321)\n",
    "logistic_model<- glm(Caidor ~ Vo2_maximo_avaliado+DT_Sec+Berg,data=BD_RF_rfe, family = 'binomial')\n",
    "summary(logistic_model)\n",
    "#Razão de chances\n",
    "OR<- exp(coef(logistic_model)) \n",
    "OR\n",
    "#Intervalo de confiança\n",
    "exp(cbind(OR=coef(logistic_model), confint(logistic_model)))"
   ]
  },
  {
   "cell_type": "code",
   "execution_count": 121,
   "metadata": {},
   "outputs": [
    {
     "name": "stderr",
     "output_type": "stream",
     "text": [
      "Installing package into 'C:/Users/usernote/Documents/R/win-library/3.6'\n",
      "(as 'lib' is unspecified)\n",
      "\n"
     ]
    },
    {
     "name": "stdout",
     "output_type": "stream",
     "text": [
      "\n",
      "  There is a binary version available but the source version is later:\n",
      "       binary source needs_compilation\n",
      "modEvA    2.0    3.0             FALSE\n",
      "\n"
     ]
    },
    {
     "name": "stderr",
     "output_type": "stream",
     "text": [
      "installing the source package 'modEvA'\n",
      "\n",
      "\n",
      "Loading required package: modEvA\n",
      "\n",
      "\n",
      "Attaching package: 'modEvA'\n",
      "\n",
      "\n",
      "The following object is masked from 'package:MLmetrics':\n",
      "\n",
      "    AUC\n",
      "\n",
      "\n"
     ]
    },
    {
     "data": {
      "text/html": [
       "<dl>\n",
       "\t<dt>$CoxSnell</dt>\n",
       "\t\t<dd>0.341568051376762</dd>\n",
       "\t<dt>$Nagelkerke</dt>\n",
       "\t\t<dd>0.467284890275999</dd>\n",
       "\t<dt>$McFadden</dt>\n",
       "\t\t<dd>0.318296795624707</dd>\n",
       "\t<dt>$Tjur</dt>\n",
       "\t\t<dd>0.382553388923988</dd>\n",
       "\t<dt>$sqPearson</dt>\n",
       "\t\t<dd>0.3818146052961</dd>\n",
       "</dl>\n"
      ],
      "text/latex": [
       "\\begin{description}\n",
       "\\item[\\$CoxSnell] 0.341568051376762\n",
       "\\item[\\$Nagelkerke] 0.467284890275999\n",
       "\\item[\\$McFadden] 0.318296795624707\n",
       "\\item[\\$Tjur] 0.382553388923988\n",
       "\\item[\\$sqPearson] 0.3818146052961\n",
       "\\end{description}\n"
      ],
      "text/markdown": [
       "$CoxSnell\n",
       ":   0.341568051376762\n",
       "$Nagelkerke\n",
       ":   0.467284890275999\n",
       "$McFadden\n",
       ":   0.318296795624707\n",
       "$Tjur\n",
       ":   0.382553388923988\n",
       "$sqPearson\n",
       ":   0.3818146052961\n",
       "\n",
       "\n"
      ],
      "text/plain": [
       "$CoxSnell\n",
       "[1] 0.3415681\n",
       "\n",
       "$Nagelkerke\n",
       "[1] 0.4672849\n",
       "\n",
       "$McFadden\n",
       "[1] 0.3182968\n",
       "\n",
       "$Tjur\n",
       "[1] 0.3825534\n",
       "\n",
       "$sqPearson\n",
       "[1] 0.3818146\n"
      ]
     },
     "metadata": {},
     "output_type": "display_data"
    },
    {
     "data": {
      "image/png": "[encoded data removed]",
      "text/plain": [
       "plot without title"
      ]
     },
     "metadata": {
      "image/png": {
       "height": 420,
       "width": 420
      }
     },
     "output_type": "display_data"
    }
   ],
   "source": [
    "#Pseudo R2\n",
    "#Fontes: https://smolski.github.io/livroavancado/reglog.html e https://www.rdocumentation.org/packages/modEvA/versions/3.0/topics/RsqGLM\n",
    "install.packages(\"modEvA\")\n",
    "require(modEvA)\n",
    "RsqGLM(logistic_model)"
   ]
  },
  {
   "cell_type": "markdown",
   "metadata": {},
   "source": [
    "# Análise não supervisionada (*não será aproveitada no atual artigo*)"
   ]
  },
  {
   "cell_type": "markdown",
   "metadata": {},
   "source": [
    "## One hot encode"
   ]
  },
  {
   "cell_type": "code",
   "execution_count": 122,
   "metadata": {},
   "outputs": [
    {
     "data": {
      "text/html": [
       "<table class=\"dataframe\">\n",
       "<caption>A data.frame: 6 × 73</caption>\n",
       "<thead>\n",
       "\t<tr><th></th><th scope=col>Genero.homem</th><th scope=col>Genero.mulher</th><th scope=col>idade</th><th scope=col>Nivel_social.a</th><th scope=col>Nivel_social.b</th><th scope=col>Nivel_social.c</th><th scope=col>Nivel_social.d</th><th scope=col>etnia.branco</th><th scope=col>etnia.preto</th><th scope=col>Nivel_educacional</th><th scope=col>...</th><th scope=col>Flexibilidade_MI</th><th scope=col>TUG_sec</th><th scope=col>DT_Sec</th><th scope=col>DT_numero_animais</th><th scope=col>quantidade_total_de_medicação</th><th scope=col>medicaçao_tipo_cardiovascular.Anti...HAS</th><th scope=col>medicaçao_tipo_cardiovascular.Beta</th><th scope=col>medicaçao_tipo_cardiovascular.Beta...Anti_Coag</th><th scope=col>medicaçao_tipo_cardiovascular.Beta...Anti_Coag...Diu</th><th scope=col>medicaçao_tipo_cardiovascular.Beta...Anti_HAS</th></tr>\n",
       "\t<tr><th></th><th scope=col>&lt;dbl&gt;</th><th scope=col>&lt;dbl&gt;</th><th scope=col>&lt;dbl&gt;</th><th scope=col>&lt;dbl&gt;</th><th scope=col>&lt;dbl&gt;</th><th scope=col>&lt;dbl&gt;</th><th scope=col>&lt;dbl&gt;</th><th scope=col>&lt;dbl&gt;</th><th scope=col>&lt;dbl&gt;</th><th scope=col>&lt;dbl&gt;</th><th scope=col>...</th><th scope=col>&lt;dbl&gt;</th><th scope=col>&lt;dbl&gt;</th><th scope=col>&lt;dbl&gt;</th><th scope=col>&lt;dbl&gt;</th><th scope=col>&lt;dbl&gt;</th><th scope=col>&lt;dbl&gt;</th><th scope=col>&lt;dbl&gt;</th><th scope=col>&lt;dbl&gt;</th><th scope=col>&lt;dbl&gt;</th><th scope=col>&lt;dbl&gt;</th></tr>\n",
       "</thead>\n",
       "<tbody>\n",
       "\t<tr><th scope=row>1</th><td>0</td><td>1</td><td>76</td><td>0</td><td>1</td><td>0</td><td>0</td><td>1</td><td>0</td><td>16</td><td>...</td><td>-33</td><td> 8.90</td><td> 9.1</td><td>10</td><td>8</td><td>0</td><td>0</td><td>1</td><td>0</td><td>0</td></tr>\n",
       "\t<tr><th scope=row>2</th><td>0</td><td>1</td><td>75</td><td>0</td><td>0</td><td>1</td><td>0</td><td>1</td><td>0</td><td>12</td><td>...</td><td>-15</td><td> 7.42</td><td> 8.6</td><td> 7</td><td>6</td><td>0</td><td>0</td><td>1</td><td>0</td><td>0</td></tr>\n",
       "\t<tr><th scope=row>3</th><td>0</td><td>1</td><td>83</td><td>0</td><td>1</td><td>0</td><td>0</td><td>1</td><td>0</td><td>10</td><td>...</td><td> -4</td><td>10.52</td><td>11.9</td><td> 7</td><td>8</td><td>0</td><td>0</td><td>0</td><td>1</td><td>0</td></tr>\n",
       "\t<tr><th scope=row>4</th><td>0</td><td>1</td><td>83</td><td>0</td><td>1</td><td>0</td><td>0</td><td>0</td><td>1</td><td>20</td><td>...</td><td> -5</td><td> 8.03</td><td> 9.2</td><td> 8</td><td>2</td><td>0</td><td>1</td><td>0</td><td>0</td><td>0</td></tr>\n",
       "\t<tr><th scope=row>5</th><td>0</td><td>1</td><td>82</td><td>0</td><td>1</td><td>0</td><td>0</td><td>1</td><td>0</td><td> 8</td><td>...</td><td> -2</td><td> 8.91</td><td> 8.7</td><td> 7</td><td>5</td><td>0</td><td>1</td><td>0</td><td>0</td><td>0</td></tr>\n",
       "\t<tr><th scope=row>6</th><td>0</td><td>1</td><td>78</td><td>0</td><td>0</td><td>1</td><td>0</td><td>1</td><td>0</td><td>14</td><td>...</td><td>  8</td><td> 5.66</td><td> 6.7</td><td> 5</td><td>6</td><td>0</td><td>1</td><td>0</td><td>0</td><td>0</td></tr>\n",
       "</tbody>\n",
       "</table>\n"
      ],
      "text/latex": [
       "A data.frame: 6 × 73\n",
       "\\begin{tabular}{r|lllllllllllllllllllll}\n",
       "  & Genero.homem & Genero.mulher & idade & Nivel\\_social.a & Nivel\\_social.b & Nivel\\_social.c & Nivel\\_social.d & etnia.branco & etnia.preto & Nivel\\_educacional & ... & Flexibilidade\\_MI & TUG\\_sec & DT\\_Sec & DT\\_numero\\_animais & quantidade\\_total\\_de\\_medicação & medicaçao\\_tipo\\_cardiovascular.Anti...HAS & medicaçao\\_tipo\\_cardiovascular.Beta & medicaçao\\_tipo\\_cardiovascular.Beta...Anti\\_Coag & medicaçao\\_tipo\\_cardiovascular.Beta...Anti\\_Coag...Diu & medicaçao\\_tipo\\_cardiovascular.Beta...Anti\\_HAS\\\\\n",
       "  & <dbl> & <dbl> & <dbl> & <dbl> & <dbl> & <dbl> & <dbl> & <dbl> & <dbl> & <dbl> & ... & <dbl> & <dbl> & <dbl> & <dbl> & <dbl> & <dbl> & <dbl> & <dbl> & <dbl> & <dbl>\\\\\n",
       "\\hline\n",
       "\t1 & 0 & 1 & 76 & 0 & 1 & 0 & 0 & 1 & 0 & 16 & ... & -33 &  8.90 &  9.1 & 10 & 8 & 0 & 0 & 1 & 0 & 0\\\\\n",
       "\t2 & 0 & 1 & 75 & 0 & 0 & 1 & 0 & 1 & 0 & 12 & ... & -15 &  7.42 &  8.6 &  7 & 6 & 0 & 0 & 1 & 0 & 0\\\\\n",
       "\t3 & 0 & 1 & 83 & 0 & 1 & 0 & 0 & 1 & 0 & 10 & ... &  -4 & 10.52 & 11.9 &  7 & 8 & 0 & 0 & 0 & 1 & 0\\\\\n",
       "\t4 & 0 & 1 & 83 & 0 & 1 & 0 & 0 & 0 & 1 & 20 & ... &  -5 &  8.03 &  9.2 &  8 & 2 & 0 & 1 & 0 & 0 & 0\\\\\n",
       "\t5 & 0 & 1 & 82 & 0 & 1 & 0 & 0 & 1 & 0 &  8 & ... &  -2 &  8.91 &  8.7 &  7 & 5 & 0 & 1 & 0 & 0 & 0\\\\\n",
       "\t6 & 0 & 1 & 78 & 0 & 0 & 1 & 0 & 1 & 0 & 14 & ... &   8 &  5.66 &  6.7 &  5 & 6 & 0 & 1 & 0 & 0 & 0\\\\\n",
       "\\end{tabular}\n"
      ],
      "text/markdown": [
       "\n",
       "A data.frame: 6 × 73\n",
       "\n",
       "| <!--/--> | Genero.homem &lt;dbl&gt; | Genero.mulher &lt;dbl&gt; | idade &lt;dbl&gt; | Nivel_social.a &lt;dbl&gt; | Nivel_social.b &lt;dbl&gt; | Nivel_social.c &lt;dbl&gt; | Nivel_social.d &lt;dbl&gt; | etnia.branco &lt;dbl&gt; | etnia.preto &lt;dbl&gt; | Nivel_educacional &lt;dbl&gt; | ... ... | Flexibilidade_MI &lt;dbl&gt; | TUG_sec &lt;dbl&gt; | DT_Sec &lt;dbl&gt; | DT_numero_animais &lt;dbl&gt; | quantidade_total_de_medicação &lt;dbl&gt; | medicaçao_tipo_cardiovascular.Anti...HAS &lt;dbl&gt; | medicaçao_tipo_cardiovascular.Beta &lt;dbl&gt; | medicaçao_tipo_cardiovascular.Beta...Anti_Coag &lt;dbl&gt; | medicaçao_tipo_cardiovascular.Beta...Anti_Coag...Diu &lt;dbl&gt; | medicaçao_tipo_cardiovascular.Beta...Anti_HAS &lt;dbl&gt; |\n",
       "|---|---|---|---|---|---|---|---|---|---|---|---|---|---|---|---|---|---|---|---|---|---|\n",
       "| 1 | 0 | 1 | 76 | 0 | 1 | 0 | 0 | 1 | 0 | 16 | ... | -33 |  8.90 |  9.1 | 10 | 8 | 0 | 0 | 1 | 0 | 0 |\n",
       "| 2 | 0 | 1 | 75 | 0 | 0 | 1 | 0 | 1 | 0 | 12 | ... | -15 |  7.42 |  8.6 |  7 | 6 | 0 | 0 | 1 | 0 | 0 |\n",
       "| 3 | 0 | 1 | 83 | 0 | 1 | 0 | 0 | 1 | 0 | 10 | ... |  -4 | 10.52 | 11.9 |  7 | 8 | 0 | 0 | 0 | 1 | 0 |\n",
       "| 4 | 0 | 1 | 83 | 0 | 1 | 0 | 0 | 0 | 1 | 20 | ... |  -5 |  8.03 |  9.2 |  8 | 2 | 0 | 1 | 0 | 0 | 0 |\n",
       "| 5 | 0 | 1 | 82 | 0 | 1 | 0 | 0 | 1 | 0 |  8 | ... |  -2 |  8.91 |  8.7 |  7 | 5 | 0 | 1 | 0 | 0 | 0 |\n",
       "| 6 | 0 | 1 | 78 | 0 | 0 | 1 | 0 | 1 | 0 | 14 | ... |   8 |  5.66 |  6.7 |  5 | 6 | 0 | 1 | 0 | 0 | 0 |\n",
       "\n"
      ],
      "text/plain": [
       "  Genero.homem Genero.mulher idade Nivel_social.a Nivel_social.b Nivel_social.c\n",
       "1 0            1             76    0              1              0             \n",
       "2 0            1             75    0              0              1             \n",
       "3 0            1             83    0              1              0             \n",
       "4 0            1             83    0              1              0             \n",
       "5 0            1             82    0              1              0             \n",
       "6 0            1             78    0              0              1             \n",
       "  Nivel_social.d etnia.branco etnia.preto Nivel_educacional ...\n",
       "1 0              1            0           16                ...\n",
       "2 0              1            0           12                ...\n",
       "3 0              1            0           10                ...\n",
       "4 0              0            1           20                ...\n",
       "5 0              1            0            8                ...\n",
       "6 0              1            0           14                ...\n",
       "  Flexibilidade_MI TUG_sec DT_Sec DT_numero_animais\n",
       "1 -33               8.90    9.1   10               \n",
       "2 -15               7.42    8.6    7               \n",
       "3  -4              10.52   11.9    7               \n",
       "4  -5               8.03    9.2    8               \n",
       "5  -2               8.91    8.7    7               \n",
       "6   8               5.66    6.7    5               \n",
       "  quantidade_total_de_medicação medicaçao_tipo_cardiovascular.Anti...HAS\n",
       "1 8                             0                                       \n",
       "2 6                             0                                       \n",
       "3 8                             0                                       \n",
       "4 2                             0                                       \n",
       "5 5                             0                                       \n",
       "6 6                             0                                       \n",
       "  medicaçao_tipo_cardiovascular.Beta\n",
       "1 0                                 \n",
       "2 0                                 \n",
       "3 0                                 \n",
       "4 1                                 \n",
       "5 1                                 \n",
       "6 1                                 \n",
       "  medicaçao_tipo_cardiovascular.Beta...Anti_Coag\n",
       "1 1                                             \n",
       "2 1                                             \n",
       "3 0                                             \n",
       "4 0                                             \n",
       "5 0                                             \n",
       "6 0                                             \n",
       "  medicaçao_tipo_cardiovascular.Beta...Anti_Coag...Diu\n",
       "1 0                                                   \n",
       "2 0                                                   \n",
       "3 1                                                   \n",
       "4 0                                                   \n",
       "5 0                                                   \n",
       "6 0                                                   \n",
       "  medicaçao_tipo_cardiovascular.Beta...Anti_HAS\n",
       "1 0                                            \n",
       "2 0                                            \n",
       "3 0                                            \n",
       "4 0                                            \n",
       "5 0                                            \n",
       "6 0                                            "
      ]
     },
     "metadata": {},
     "output_type": "display_data"
    },
    {
     "data": {
      "text/html": [
       "<style>\n",
       ".list-inline {list-style: none; margin:0; padding: 0}\n",
       ".list-inline>li {display: inline-block}\n",
       ".list-inline>li:not(:last-child)::after {content: \"\\00b7\"; padding: 0 .5ex}\n",
       "</style>\n",
       "<ol class=list-inline><li>52</li><li>73</li></ol>\n"
      ],
      "text/latex": [
       "\\begin{enumerate*}\n",
       "\\item 52\n",
       "\\item 73\n",
       "\\end{enumerate*}\n"
      ],
      "text/markdown": [
       "1. 52\n",
       "2. 73\n",
       "\n",
       "\n"
      ],
      "text/plain": [
       "[1] 52 73"
      ]
     },
     "metadata": {},
     "output_type": "display_data"
    },
    {
     "name": "stdout",
     "output_type": "stream",
     "text": [
      "'data.frame':\t52 obs. of  73 variables:\n",
      " $ Genero.homem                                        : num  0 0 0 0 0 0 1 1 1 1 ...\n",
      " $ Genero.mulher                                       : num  1 1 1 1 1 1 0 0 0 0 ...\n",
      " $ idade                                               : num  76 75 83 83 82 78 75 78 79 84 ...\n",
      " $ Nivel_social.a                                      : num  0 0 0 0 0 0 0 0 0 0 ...\n",
      " $ Nivel_social.b                                      : num  1 0 1 1 1 0 1 0 1 1 ...\n",
      " $ Nivel_social.c                                      : num  0 1 0 0 0 1 0 1 0 0 ...\n",
      " $ Nivel_social.d                                      : num  0 0 0 0 0 0 0 0 0 0 ...\n",
      " $ etnia.branco                                        : num  1 1 1 0 1 1 1 1 1 1 ...\n",
      " $ etnia.preto                                         : num  0 0 0 1 0 0 0 0 0 0 ...\n",
      " $ Nivel_educacional                                   : num  16 12 10 20 8 14 16 16 22 20 ...\n",
      " $ Freq_atividade.2x                                   : num  0 1 0 0 1 1 1 0 0 0 ...\n",
      " $ Freq_atividade.3x                                   : num  1 0 0 1 0 0 0 1 0 1 ...\n",
      " $ Freq_atividade.sedentario                           : num  0 0 1 0 0 0 0 0 1 0 ...\n",
      " $ Criterio_AHA.b                                      : num  0 1 0 0 1 1 0 0 1 0 ...\n",
      " $ Criterio_AHA.c                                      : num  1 0 1 1 0 0 1 1 0 1 ...\n",
      " $ Anti_hipertensivo.não                               : num  1 0 0 1 1 1 0 0 0 0 ...\n",
      " $ Anti_hipertensivo.sim                               : num  0 1 1 0 0 0 1 1 1 1 ...\n",
      " $ betabloqueador.não                                  : num  0 0 0 0 1 0 0 0 0 0 ...\n",
      " $ betabloqueador.sim                                  : num  1 1 1 1 0 1 1 1 1 1 ...\n",
      " $ Anticoagulante_classif.não                          : num  1 1 0 0 0 1 0 1 0 0 ...\n",
      " $ Anticoagulante_classif.sim                          : num  0 0 1 1 1 0 1 0 1 1 ...\n",
      " $ Diuretico_classif.não                               : num  1 1 0 1 1 1 0 1 1 0 ...\n",
      " $ Diuretico_classif.sim                               : num  0 0 1 0 0 0 1 0 0 1 ...\n",
      " $ medicação_tipo_mental.ansiolitico                   : num  0 0 0 0 0 0 0 0 0 0 ...\n",
      " $ medicação_tipo_mental.antidepressivo                : num  1 1 0 0 0 1 0 0 0 0 ...\n",
      " $ medicação_tipo_mental.antidepressivo.benzo          : num  0 0 1 1 0 0 1 0 0 0 ...\n",
      " $ medicação_tipo_mental.benzodiazepinico              : num  0 0 0 0 0 0 0 1 0 1 ...\n",
      " $ medicação_tipo_mental.não                           : num  0 0 0 0 1 0 0 0 1 0 ...\n",
      " $ medicação_tipo_saude.cardio.mental                  : num  1 1 1 1 0 1 1 1 0 1 ...\n",
      " $ medicação_tipo_saude.cardiovascular                 : num  0 0 0 0 1 0 0 0 1 0 ...\n",
      " $ antidepressivo.não                                  : num  1 0 1 1 1 1 0 1 1 1 ...\n",
      " $ antidepressivo.sim                                  : num  0 1 0 0 0 0 1 0 0 0 ...\n",
      " $ ansiolitico.não                                     : num  1 1 1 1 1 1 0 1 1 1 ...\n",
      " $ ansiolitico.sim                                     : num  0 0 0 0 0 0 1 0 0 0 ...\n",
      " $ benzodiazepinico.não                                : num  0 0 0 0 1 1 0 0 1 0 ...\n",
      " $ benzodiazepinico.sim                                : num  1 1 1 1 0 0 1 1 0 1 ...\n",
      " $ DVC_primaria.aneurisma.da.aorta                     : num  0 0 0 0 0 0 0 0 0 0 ...\n",
      " $ DVC_primaria.angina                                 : num  0 0 0 0 0 0 0 0 0 0 ...\n",
      " $ DVC_primaria.arritmia                               : num  0 0 1 1 1 1 0 1 0 0 ...\n",
      " $ DVC_primaria.infarto                                : num  0 0 0 0 0 0 1 0 0 0 ...\n",
      " $ DVC_primaria.insuficiencia                          : num  1 1 0 0 0 0 0 0 1 1 ...\n",
      " $ DVC_primaria.isquemia                               : num  0 0 0 0 0 0 0 0 0 0 ...\n",
      " $ DVC_primaria.nada                                   : num  0 0 0 0 0 0 0 0 0 0 ...\n",
      " $ HAS.não                                             : num  1 0 0 1 1 1 0 0 0 0 ...\n",
      " $ HAS.sim                                             : num  0 1 1 0 0 0 1 1 1 1 ...\n",
      " $ Tempo_doença                                        : num  6 6 4 5 9 3 25 6 7 13 ...\n",
      " $ Doenca_Respi.duas                                   : num  0 0 0 0 0 0 0 0 0 0 ...\n",
      " $ Doenca_Respi.não                                    : num  0 1 1 1 1 1 1 1 0 1 ...\n",
      " $ Doenca_Respi.sim                                    : num  1 0 0 0 0 0 0 0 1 0 ...\n",
      " $ Doenca_Respi.três                                   : num  0 0 0 0 0 0 0 0 0 0 ...\n",
      " $ MMSE                                                : num  30 27 29 29 26 28 24 25 30 29 ...\n",
      " $ Fluencia_verbal                                     : num  27 15 20 19 18 20 14 16 25 19 ...\n",
      " $ Trilhas_A                                           : num  33 71 29.2 35.3 44.2 44 43.5 68.7 45.3 77 ...\n",
      " $ Trilhas_b                                           : num  60.1 178 93.7 98.3 118 ...\n",
      " $ GDS                                                 : num  3 15 5 0 0 0 14 7 0 0 ...\n",
      " $ FES_I                                               : num  26 19 16 22 16 19 24 32 16 38 ...\n",
      " $ Vsaq                                                : num  5 7 5 7 5 8 5 5 8 6 ...\n",
      " $ Vo2_maximo_avaliado                                 : num  17 11.3 12.7 18.4 13.4 18.6 12.1 10.9 18 13.6 ...\n",
      " $ IMC                                                 : num  27 32.8 29.3 22.2 26.9 19.7 24.8 30.8 24.3 26.7 ...\n",
      " $ Dinamometria                                        : num  17.9 23.5 15.3 20.9 18.1 16 22.7 26.1 32.7 28.8 ...\n",
      " $ Berg                                                : num  54 54 51 54 55 55 50 49 54 46 ...\n",
      " $ STS                                                 : num  5 7 9 6 8 12 8 10 11 6 ...\n",
      " $ Flexibilidade_Ms                                    : num  -29 -7 -22 -6 -8 7 -11 -33 -26 -10 ...\n",
      " $ Flexibilidade_MI                                    : num  -33 -15 -4 -5 -2 8 -23 -12 -14 -20 ...\n",
      " $ TUG_sec                                             : num  8.9 7.42 10.52 8.03 8.91 ...\n",
      " $ DT_Sec                                              : num  9.1 8.6 11.9 9.2 8.7 6.7 8.7 7.6 5.9 10.1 ...\n",
      " $ DT_numero_animais                                   : num  10 7 7 8 7 5 5 5 6 4 ...\n",
      " $ quantidade_total_de_medicação                       : num  8 6 8 2 5 6 8 6 5 8 ...\n",
      " $ medicaçao_tipo_cardiovascular.Anti...HAS            : num  0 0 0 0 0 0 0 0 0 0 ...\n",
      " $ medicaçao_tipo_cardiovascular.Beta                  : num  0 0 0 1 1 1 0 0 0 0 ...\n",
      " $ medicaçao_tipo_cardiovascular.Beta...Anti_Coag      : num  1 1 0 0 0 0 0 0 0 0 ...\n",
      " $ medicaçao_tipo_cardiovascular.Beta...Anti_Coag...Diu: num  0 0 1 0 0 0 1 1 0 1 ...\n",
      " $ medicaçao_tipo_cardiovascular.Beta...Anti_HAS       : num  0 0 0 0 0 0 0 0 1 0 ...\n"
     ]
    }
   ],
   "source": [
    "#One hot enconding\n",
    "#require(caret)\n",
    "BD2<- BD[,-1]\n",
    "dummy <- dummyVars(\" ~ .\", data = BD2) #Mais rápido do que one_hot() do pacote mltools\n",
    "BD_transformado <- data.frame(predict(dummy, newdata = BD2))\n",
    "head(BD_transformado)\n",
    "dim(BD_transformado) #Aumentou de 40 para 73 variáveis preditoras\n",
    "str(BD_transformado)"
   ]
  },
  {
   "cell_type": "markdown",
   "metadata": {},
   "source": [
    "## PCA"
   ]
  },
  {
   "cell_type": "code",
   "execution_count": 97,
   "metadata": {},
   "outputs": [
    {
     "data": {
      "text/html": [
       "<table class=\"dataframe\">\n",
       "<caption>A data.frame: 52 × 3</caption>\n",
       "<thead>\n",
       "\t<tr><th></th><th scope=col>eigenvalue</th><th scope=col>variance.percent</th><th scope=col>cumulative.variance.percent</th></tr>\n",
       "\t<tr><th></th><th scope=col>&lt;dbl&gt;</th><th scope=col>&lt;dbl&gt;</th><th scope=col>&lt;dbl&gt;</th></tr>\n",
       "</thead>\n",
       "<tbody>\n",
       "\t<tr><th scope=row>Dim.1</th><td>5.672710e+03</td><td>8.777631e+01</td><td> 87.77631</td></tr>\n",
       "\t<tr><th scope=row>Dim.2</th><td>2.806829e+02</td><td>4.343128e+00</td><td> 92.11944</td></tr>\n",
       "\t<tr><th scope=row>Dim.3</th><td>1.665209e+02</td><td>2.576650e+00</td><td> 94.69609</td></tr>\n",
       "\t<tr><th scope=row>Dim.4</th><td>9.097366e+01</td><td>1.407675e+00</td><td> 96.10376</td></tr>\n",
       "\t<tr><th scope=row>Dim.5</th><td>6.483219e+01</td><td>1.003177e+00</td><td> 97.10694</td></tr>\n",
       "\t<tr><th scope=row>Dim.6</th><td>4.629328e+01</td><td>7.163160e-01</td><td> 97.82325</td></tr>\n",
       "\t<tr><th scope=row>Dim.7</th><td>3.423086e+01</td><td>5.296690e-01</td><td> 98.35292</td></tr>\n",
       "\t<tr><th scope=row>Dim.8</th><td>2.570214e+01</td><td>3.977004e-01</td><td> 98.75062</td></tr>\n",
       "\t<tr><th scope=row>Dim.9</th><td>2.305182e+01</td><td>3.566908e-01</td><td> 99.10731</td></tr>\n",
       "\t<tr><th scope=row>Dim.10</th><td>1.447056e+01</td><td>2.239093e-01</td><td> 99.33122</td></tr>\n",
       "\t<tr><th scope=row>Dim.11</th><td>1.204108e+01</td><td>1.863169e-01</td><td> 99.51754</td></tr>\n",
       "\t<tr><th scope=row>Dim.12</th><td>7.105210e+00</td><td>1.099420e-01</td><td> 99.62748</td></tr>\n",
       "\t<tr><th scope=row>Dim.13</th><td>5.562556e+00</td><td>8.607185e-02</td><td> 99.71355</td></tr>\n",
       "\t<tr><th scope=row>Dim.14</th><td>4.889918e+00</td><td>7.566383e-02</td><td> 99.78922</td></tr>\n",
       "\t<tr><th scope=row>Dim.15</th><td>3.755016e+00</td><td>5.810300e-02</td><td> 99.84732</td></tr>\n",
       "\t<tr><th scope=row>Dim.16</th><td>2.432727e+00</td><td>3.764264e-02</td><td> 99.88496</td></tr>\n",
       "\t<tr><th scope=row>Dim.17</th><td>1.479207e+00</td><td>2.288842e-02</td><td> 99.90785</td></tr>\n",
       "\t<tr><th scope=row>Dim.18</th><td>1.016480e+00</td><td>1.572844e-02</td><td> 99.92358</td></tr>\n",
       "\t<tr><th scope=row>Dim.19</th><td>8.282842e-01</td><td>1.281640e-02</td><td> 99.93640</td></tr>\n",
       "\t<tr><th scope=row>Dim.20</th><td>6.534870e-01</td><td>1.011169e-02</td><td> 99.94651</td></tr>\n",
       "\t<tr><th scope=row>Dim.21</th><td>6.326787e-01</td><td>9.789712e-03</td><td> 99.95630</td></tr>\n",
       "\t<tr><th scope=row>Dim.22</th><td>5.098537e-01</td><td>7.889188e-03</td><td> 99.96419</td></tr>\n",
       "\t<tr><th scope=row>Dim.23</th><td>4.438574e-01</td><td>6.867998e-03</td><td> 99.97106</td></tr>\n",
       "\t<tr><th scope=row>Dim.24</th><td>2.763757e-01</td><td>4.276481e-03</td><td> 99.97533</td></tr>\n",
       "\t<tr><th scope=row>Dim.25</th><td>2.423742e-01</td><td>3.750361e-03</td><td> 99.97908</td></tr>\n",
       "\t<tr><th scope=row>Dim.26</th><td>2.121606e-01</td><td>3.282854e-03</td><td> 99.98237</td></tr>\n",
       "\t<tr><th scope=row>Dim.27</th><td>1.828652e-01</td><td>2.829553e-03</td><td> 99.98519</td></tr>\n",
       "\t<tr><th scope=row>Dim.28</th><td>1.699947e-01</td><td>2.630401e-03</td><td> 99.98783</td></tr>\n",
       "\t<tr><th scope=row>Dim.29</th><td>1.545284e-01</td><td>2.391085e-03</td><td> 99.99022</td></tr>\n",
       "\t<tr><th scope=row>Dim.30</th><td>1.401255e-01</td><td>2.168223e-03</td><td> 99.99238</td></tr>\n",
       "\t<tr><th scope=row>Dim.31</th><td>1.029575e-01</td><td>1.593107e-03</td><td> 99.99398</td></tr>\n",
       "\t<tr><th scope=row>Dim.32</th><td>8.853861e-02</td><td>1.369996e-03</td><td> 99.99535</td></tr>\n",
       "\t<tr><th scope=row>Dim.33</th><td>6.847249e-02</td><td>1.059505e-03</td><td> 99.99641</td></tr>\n",
       "\t<tr><th scope=row>Dim.34</th><td>6.175441e-02</td><td>9.555528e-04</td><td> 99.99736</td></tr>\n",
       "\t<tr><th scope=row>Dim.35</th><td>4.897166e-02</td><td>7.577598e-04</td><td> 99.99812</td></tr>\n",
       "\t<tr><th scope=row>Dim.36</th><td>3.691098e-02</td><td>5.711396e-04</td><td> 99.99869</td></tr>\n",
       "\t<tr><th scope=row>Dim.37</th><td>2.881925e-02</td><td>4.459328e-04</td><td> 99.99914</td></tr>\n",
       "\t<tr><th scope=row>Dim.38</th><td>2.052543e-02</td><td>3.175989e-04</td><td> 99.99946</td></tr>\n",
       "\t<tr><th scope=row>Dim.39</th><td>1.167243e-02</td><td>1.806126e-04</td><td> 99.99964</td></tr>\n",
       "\t<tr><th scope=row>Dim.40</th><td>1.118866e-02</td><td>1.731269e-04</td><td> 99.99981</td></tr>\n",
       "\t<tr><th scope=row>Dim.41</th><td>5.234318e-03</td><td>8.099287e-05</td><td> 99.99989</td></tr>\n",
       "\t<tr><th scope=row>Dim.42</th><td>3.448279e-03</td><td>5.335672e-05</td><td> 99.99994</td></tr>\n",
       "\t<tr><th scope=row>Dim.43</th><td>2.201632e-03</td><td>3.406681e-05</td><td> 99.99998</td></tr>\n",
       "\t<tr><th scope=row>Dim.44</th><td>1.248732e-03</td><td>1.932217e-05</td><td>100.00000</td></tr>\n",
       "\t<tr><th scope=row>Dim.45</th><td>2.206461e-04</td><td>3.414153e-06</td><td>100.00000</td></tr>\n",
       "\t<tr><th scope=row>Dim.46</th><td>4.288293e-29</td><td>6.635461e-31</td><td>100.00000</td></tr>\n",
       "\t<tr><th scope=row>Dim.47</th><td>4.288293e-29</td><td>6.635461e-31</td><td>100.00000</td></tr>\n",
       "\t<tr><th scope=row>Dim.48</th><td>4.288293e-29</td><td>6.635461e-31</td><td>100.00000</td></tr>\n",
       "\t<tr><th scope=row>Dim.49</th><td>4.288293e-29</td><td>6.635461e-31</td><td>100.00000</td></tr>\n",
       "\t<tr><th scope=row>Dim.50</th><td>4.288293e-29</td><td>6.635461e-31</td><td>100.00000</td></tr>\n",
       "\t<tr><th scope=row>Dim.51</th><td>4.288293e-29</td><td>6.635461e-31</td><td>100.00000</td></tr>\n",
       "\t<tr><th scope=row>Dim.52</th><td>4.288293e-29</td><td>6.635461e-31</td><td>100.00000</td></tr>\n",
       "</tbody>\n",
       "</table>\n"
      ],
      "text/latex": [
       "A data.frame: 52 × 3\n",
       "\\begin{tabular}{r|lll}\n",
       "  & eigenvalue & variance.percent & cumulative.variance.percent\\\\\n",
       "  & <dbl> & <dbl> & <dbl>\\\\\n",
       "\\hline\n",
       "\tDim.1 & 5.672710e+03 & 8.777631e+01 &  87.77631\\\\\n",
       "\tDim.2 & 2.806829e+02 & 4.343128e+00 &  92.11944\\\\\n",
       "\tDim.3 & 1.665209e+02 & 2.576650e+00 &  94.69609\\\\\n",
       "\tDim.4 & 9.097366e+01 & 1.407675e+00 &  96.10376\\\\\n",
       "\tDim.5 & 6.483219e+01 & 1.003177e+00 &  97.10694\\\\\n",
       "\tDim.6 & 4.629328e+01 & 7.163160e-01 &  97.82325\\\\\n",
       "\tDim.7 & 3.423086e+01 & 5.296690e-01 &  98.35292\\\\\n",
       "\tDim.8 & 2.570214e+01 & 3.977004e-01 &  98.75062\\\\\n",
       "\tDim.9 & 2.305182e+01 & 3.566908e-01 &  99.10731\\\\\n",
       "\tDim.10 & 1.447056e+01 & 2.239093e-01 &  99.33122\\\\\n",
       "\tDim.11 & 1.204108e+01 & 1.863169e-01 &  99.51754\\\\\n",
       "\tDim.12 & 7.105210e+00 & 1.099420e-01 &  99.62748\\\\\n",
       "\tDim.13 & 5.562556e+00 & 8.607185e-02 &  99.71355\\\\\n",
       "\tDim.14 & 4.889918e+00 & 7.566383e-02 &  99.78922\\\\\n",
       "\tDim.15 & 3.755016e+00 & 5.810300e-02 &  99.84732\\\\\n",
       "\tDim.16 & 2.432727e+00 & 3.764264e-02 &  99.88496\\\\\n",
       "\tDim.17 & 1.479207e+00 & 2.288842e-02 &  99.90785\\\\\n",
       "\tDim.18 & 1.016480e+00 & 1.572844e-02 &  99.92358\\\\\n",
       "\tDim.19 & 8.282842e-01 & 1.281640e-02 &  99.93640\\\\\n",
       "\tDim.20 & 6.534870e-01 & 1.011169e-02 &  99.94651\\\\\n",
       "\tDim.21 & 6.326787e-01 & 9.789712e-03 &  99.95630\\\\\n",
       "\tDim.22 & 5.098537e-01 & 7.889188e-03 &  99.96419\\\\\n",
       "\tDim.23 & 4.438574e-01 & 6.867998e-03 &  99.97106\\\\\n",
       "\tDim.24 & 2.763757e-01 & 4.276481e-03 &  99.97533\\\\\n",
       "\tDim.25 & 2.423742e-01 & 3.750361e-03 &  99.97908\\\\\n",
       "\tDim.26 & 2.121606e-01 & 3.282854e-03 &  99.98237\\\\\n",
       "\tDim.27 & 1.828652e-01 & 2.829553e-03 &  99.98519\\\\\n",
       "\tDim.28 & 1.699947e-01 & 2.630401e-03 &  99.98783\\\\\n",
       "\tDim.29 & 1.545284e-01 & 2.391085e-03 &  99.99022\\\\\n",
       "\tDim.30 & 1.401255e-01 & 2.168223e-03 &  99.99238\\\\\n",
       "\tDim.31 & 1.029575e-01 & 1.593107e-03 &  99.99398\\\\\n",
       "\tDim.32 & 8.853861e-02 & 1.369996e-03 &  99.99535\\\\\n",
       "\tDim.33 & 6.847249e-02 & 1.059505e-03 &  99.99641\\\\\n",
       "\tDim.34 & 6.175441e-02 & 9.555528e-04 &  99.99736\\\\\n",
       "\tDim.35 & 4.897166e-02 & 7.577598e-04 &  99.99812\\\\\n",
       "\tDim.36 & 3.691098e-02 & 5.711396e-04 &  99.99869\\\\\n",
       "\tDim.37 & 2.881925e-02 & 4.459328e-04 &  99.99914\\\\\n",
       "\tDim.38 & 2.052543e-02 & 3.175989e-04 &  99.99946\\\\\n",
       "\tDim.39 & 1.167243e-02 & 1.806126e-04 &  99.99964\\\\\n",
       "\tDim.40 & 1.118866e-02 & 1.731269e-04 &  99.99981\\\\\n",
       "\tDim.41 & 5.234318e-03 & 8.099287e-05 &  99.99989\\\\\n",
       "\tDim.42 & 3.448279e-03 & 5.335672e-05 &  99.99994\\\\\n",
       "\tDim.43 & 2.201632e-03 & 3.406681e-05 &  99.99998\\\\\n",
       "\tDim.44 & 1.248732e-03 & 1.932217e-05 & 100.00000\\\\\n",
       "\tDim.45 & 2.206461e-04 & 3.414153e-06 & 100.00000\\\\\n",
       "\tDim.46 & 4.288293e-29 & 6.635461e-31 & 100.00000\\\\\n",
       "\tDim.47 & 4.288293e-29 & 6.635461e-31 & 100.00000\\\\\n",
       "\tDim.48 & 4.288293e-29 & 6.635461e-31 & 100.00000\\\\\n",
       "\tDim.49 & 4.288293e-29 & 6.635461e-31 & 100.00000\\\\\n",
       "\tDim.50 & 4.288293e-29 & 6.635461e-31 & 100.00000\\\\\n",
       "\tDim.51 & 4.288293e-29 & 6.635461e-31 & 100.00000\\\\\n",
       "\tDim.52 & 4.288293e-29 & 6.635461e-31 & 100.00000\\\\\n",
       "\\end{tabular}\n"
      ],
      "text/markdown": [
       "\n",
       "A data.frame: 52 × 3\n",
       "\n",
       "| <!--/--> | eigenvalue &lt;dbl&gt; | variance.percent &lt;dbl&gt; | cumulative.variance.percent &lt;dbl&gt; |\n",
       "|---|---|---|---|\n",
       "| Dim.1 | 5.672710e+03 | 8.777631e+01 |  87.77631 |\n",
       "| Dim.2 | 2.806829e+02 | 4.343128e+00 |  92.11944 |\n",
       "| Dim.3 | 1.665209e+02 | 2.576650e+00 |  94.69609 |\n",
       "| Dim.4 | 9.097366e+01 | 1.407675e+00 |  96.10376 |\n",
       "| Dim.5 | 6.483219e+01 | 1.003177e+00 |  97.10694 |\n",
       "| Dim.6 | 4.629328e+01 | 7.163160e-01 |  97.82325 |\n",
       "| Dim.7 | 3.423086e+01 | 5.296690e-01 |  98.35292 |\n",
       "| Dim.8 | 2.570214e+01 | 3.977004e-01 |  98.75062 |\n",
       "| Dim.9 | 2.305182e+01 | 3.566908e-01 |  99.10731 |\n",
       "| Dim.10 | 1.447056e+01 | 2.239093e-01 |  99.33122 |\n",
       "| Dim.11 | 1.204108e+01 | 1.863169e-01 |  99.51754 |\n",
       "| Dim.12 | 7.105210e+00 | 1.099420e-01 |  99.62748 |\n",
       "| Dim.13 | 5.562556e+00 | 8.607185e-02 |  99.71355 |\n",
       "| Dim.14 | 4.889918e+00 | 7.566383e-02 |  99.78922 |\n",
       "| Dim.15 | 3.755016e+00 | 5.810300e-02 |  99.84732 |\n",
       "| Dim.16 | 2.432727e+00 | 3.764264e-02 |  99.88496 |\n",
       "| Dim.17 | 1.479207e+00 | 2.288842e-02 |  99.90785 |\n",
       "| Dim.18 | 1.016480e+00 | 1.572844e-02 |  99.92358 |\n",
       "| Dim.19 | 8.282842e-01 | 1.281640e-02 |  99.93640 |\n",
       "| Dim.20 | 6.534870e-01 | 1.011169e-02 |  99.94651 |\n",
       "| Dim.21 | 6.326787e-01 | 9.789712e-03 |  99.95630 |\n",
       "| Dim.22 | 5.098537e-01 | 7.889188e-03 |  99.96419 |\n",
       "| Dim.23 | 4.438574e-01 | 6.867998e-03 |  99.97106 |\n",
       "| Dim.24 | 2.763757e-01 | 4.276481e-03 |  99.97533 |\n",
       "| Dim.25 | 2.423742e-01 | 3.750361e-03 |  99.97908 |\n",
       "| Dim.26 | 2.121606e-01 | 3.282854e-03 |  99.98237 |\n",
       "| Dim.27 | 1.828652e-01 | 2.829553e-03 |  99.98519 |\n",
       "| Dim.28 | 1.699947e-01 | 2.630401e-03 |  99.98783 |\n",
       "| Dim.29 | 1.545284e-01 | 2.391085e-03 |  99.99022 |\n",
       "| Dim.30 | 1.401255e-01 | 2.168223e-03 |  99.99238 |\n",
       "| Dim.31 | 1.029575e-01 | 1.593107e-03 |  99.99398 |\n",
       "| Dim.32 | 8.853861e-02 | 1.369996e-03 |  99.99535 |\n",
       "| Dim.33 | 6.847249e-02 | 1.059505e-03 |  99.99641 |\n",
       "| Dim.34 | 6.175441e-02 | 9.555528e-04 |  99.99736 |\n",
       "| Dim.35 | 4.897166e-02 | 7.577598e-04 |  99.99812 |\n",
       "| Dim.36 | 3.691098e-02 | 5.711396e-04 |  99.99869 |\n",
       "| Dim.37 | 2.881925e-02 | 4.459328e-04 |  99.99914 |\n",
       "| Dim.38 | 2.052543e-02 | 3.175989e-04 |  99.99946 |\n",
       "| Dim.39 | 1.167243e-02 | 1.806126e-04 |  99.99964 |\n",
       "| Dim.40 | 1.118866e-02 | 1.731269e-04 |  99.99981 |\n",
       "| Dim.41 | 5.234318e-03 | 8.099287e-05 |  99.99989 |\n",
       "| Dim.42 | 3.448279e-03 | 5.335672e-05 |  99.99994 |\n",
       "| Dim.43 | 2.201632e-03 | 3.406681e-05 |  99.99998 |\n",
       "| Dim.44 | 1.248732e-03 | 1.932217e-05 | 100.00000 |\n",
       "| Dim.45 | 2.206461e-04 | 3.414153e-06 | 100.00000 |\n",
       "| Dim.46 | 4.288293e-29 | 6.635461e-31 | 100.00000 |\n",
       "| Dim.47 | 4.288293e-29 | 6.635461e-31 | 100.00000 |\n",
       "| Dim.48 | 4.288293e-29 | 6.635461e-31 | 100.00000 |\n",
       "| Dim.49 | 4.288293e-29 | 6.635461e-31 | 100.00000 |\n",
       "| Dim.50 | 4.288293e-29 | 6.635461e-31 | 100.00000 |\n",
       "| Dim.51 | 4.288293e-29 | 6.635461e-31 | 100.00000 |\n",
       "| Dim.52 | 4.288293e-29 | 6.635461e-31 | 100.00000 |\n",
       "\n"
      ],
      "text/plain": [
       "       eigenvalue   variance.percent cumulative.variance.percent\n",
       "Dim.1  5.672710e+03 8.777631e+01      87.77631                  \n",
       "Dim.2  2.806829e+02 4.343128e+00      92.11944                  \n",
       "Dim.3  1.665209e+02 2.576650e+00      94.69609                  \n",
       "Dim.4  9.097366e+01 1.407675e+00      96.10376                  \n",
       "Dim.5  6.483219e+01 1.003177e+00      97.10694                  \n",
       "Dim.6  4.629328e+01 7.163160e-01      97.82325                  \n",
       "Dim.7  3.423086e+01 5.296690e-01      98.35292                  \n",
       "Dim.8  2.570214e+01 3.977004e-01      98.75062                  \n",
       "Dim.9  2.305182e+01 3.566908e-01      99.10731                  \n",
       "Dim.10 1.447056e+01 2.239093e-01      99.33122                  \n",
       "Dim.11 1.204108e+01 1.863169e-01      99.51754                  \n",
       "Dim.12 7.105210e+00 1.099420e-01      99.62748                  \n",
       "Dim.13 5.562556e+00 8.607185e-02      99.71355                  \n",
       "Dim.14 4.889918e+00 7.566383e-02      99.78922                  \n",
       "Dim.15 3.755016e+00 5.810300e-02      99.84732                  \n",
       "Dim.16 2.432727e+00 3.764264e-02      99.88496                  \n",
       "Dim.17 1.479207e+00 2.288842e-02      99.90785                  \n",
       "Dim.18 1.016480e+00 1.572844e-02      99.92358                  \n",
       "Dim.19 8.282842e-01 1.281640e-02      99.93640                  \n",
       "Dim.20 6.534870e-01 1.011169e-02      99.94651                  \n",
       "Dim.21 6.326787e-01 9.789712e-03      99.95630                  \n",
       "Dim.22 5.098537e-01 7.889188e-03      99.96419                  \n",
       "Dim.23 4.438574e-01 6.867998e-03      99.97106                  \n",
       "Dim.24 2.763757e-01 4.276481e-03      99.97533                  \n",
       "Dim.25 2.423742e-01 3.750361e-03      99.97908                  \n",
       "Dim.26 2.121606e-01 3.282854e-03      99.98237                  \n",
       "Dim.27 1.828652e-01 2.829553e-03      99.98519                  \n",
       "Dim.28 1.699947e-01 2.630401e-03      99.98783                  \n",
       "Dim.29 1.545284e-01 2.391085e-03      99.99022                  \n",
       "Dim.30 1.401255e-01 2.168223e-03      99.99238                  \n",
       "Dim.31 1.029575e-01 1.593107e-03      99.99398                  \n",
       "Dim.32 8.853861e-02 1.369996e-03      99.99535                  \n",
       "Dim.33 6.847249e-02 1.059505e-03      99.99641                  \n",
       "Dim.34 6.175441e-02 9.555528e-04      99.99736                  \n",
       "Dim.35 4.897166e-02 7.577598e-04      99.99812                  \n",
       "Dim.36 3.691098e-02 5.711396e-04      99.99869                  \n",
       "Dim.37 2.881925e-02 4.459328e-04      99.99914                  \n",
       "Dim.38 2.052543e-02 3.175989e-04      99.99946                  \n",
       "Dim.39 1.167243e-02 1.806126e-04      99.99964                  \n",
       "Dim.40 1.118866e-02 1.731269e-04      99.99981                  \n",
       "Dim.41 5.234318e-03 8.099287e-05      99.99989                  \n",
       "Dim.42 3.448279e-03 5.335672e-05      99.99994                  \n",
       "Dim.43 2.201632e-03 3.406681e-05      99.99998                  \n",
       "Dim.44 1.248732e-03 1.932217e-05     100.00000                  \n",
       "Dim.45 2.206461e-04 3.414153e-06     100.00000                  \n",
       "Dim.46 4.288293e-29 6.635461e-31     100.00000                  \n",
       "Dim.47 4.288293e-29 6.635461e-31     100.00000                  \n",
       "Dim.48 4.288293e-29 6.635461e-31     100.00000                  \n",
       "Dim.49 4.288293e-29 6.635461e-31     100.00000                  \n",
       "Dim.50 4.288293e-29 6.635461e-31     100.00000                  \n",
       "Dim.51 4.288293e-29 6.635461e-31     100.00000                  \n",
       "Dim.52 4.288293e-29 6.635461e-31     100.00000                  "
      ]
     },
     "metadata": {},
     "output_type": "display_data"
    },
    {
     "name": "stderr",
     "output_type": "stream",
     "text": [
      "Warning message:\n",
      "\"ggrepel: 68 unlabeled data points (too many overlaps). Consider increasing max.overlaps\"\n"
     ]
    },
    {
     "data": {
      "image/png": "[encoded data removed]",
      "text/plain": [
       "plot without title"
      ]
     },
     "metadata": {
      "image/png": {
       "height": 420,
       "width": 420
      }
     },
     "output_type": "display_data"
    },
    {
     "data": {
      "image/png": "[encoded data removed]",
      "text/plain": [
       "plot without title"
      ]
     },
     "metadata": {
      "image/png": {
       "height": 420,
       "width": 420
      }
     },
     "output_type": "display_data"
    },
    {
     "data": {
      "image/png": "[encoded data removed]",
      "text/plain": [
       "plot without title"
      ]
     },
     "metadata": {
      "image/png": {
       "height": 420,
       "width": 420
      }
     },
     "output_type": "display_data"
    },
    {
     "name": "stderr",
     "output_type": "stream",
     "text": [
      "Warning message:\n",
      "\"ggrepel: 21 unlabeled data points (too many overlaps). Consider increasing max.overlaps\"\n"
     ]
    },
    {
     "data": {
      "image/png": "[encoded data removed]",
      "text/plain": [
       "plot without title"
      ]
     },
     "metadata": {
      "image/png": {
       "height": 420,
       "width": 420
      }
     },
     "output_type": "display_data"
    },
    {
     "name": "stderr",
     "output_type": "stream",
     "text": [
      "Warning message:\n",
      "\"ggrepel: 47 unlabeled data points (too many overlaps). Consider increasing max.overlaps\"\n",
      "Warning message:\n",
      "\"ggrepel: 68 unlabeled data points (too many overlaps). Consider increasing max.overlaps\"\n"
     ]
    },
    {
     "data": {
      "image/png": "[encoded data removed]",
      "text/plain": [
       "plot without title"
      ]
     },
     "metadata": {
      "image/png": {
       "height": 420,
       "width": 420
      }
     },
     "output_type": "display_data"
    },
    {
     "data": {
      "image/png": "[encoded data removed]",
      "text/plain": [
       "plot without title"
      ]
     },
     "metadata": {
      "image/png": {
       "height": 420,
       "width": 420
      }
     },
     "output_type": "display_data"
    }
   ],
   "source": [
    "#install.packages(\"FactoMineR\")\n",
    "#install.packages(\"factoextra\")\n",
    "require(FactoMineR)\n",
    "require(factoextra)\n",
    "PCA<- prcomp(BD_transformado,scale. = F)\n",
    "eig.val<- get_eigenvalue(PCA)\n",
    "eig.val\n",
    "#Scree plot\n",
    "fviz_eig(PCA,addlabels = T,ylim=c(0,100))\n",
    "#Extrair os resultados das variáveis do PCA p/ plotar no gráfico\n",
    "var<- get_pca_var(PCA)\n",
    "ind<- get_pca_ind(PCA)\n",
    "fviz_pca_var(PCA,col.var=\"contrib\",gradient.cols = c(\"#00AFBB\", \"#E7B800\", \"#FC4E07\"),repel = T)\n",
    "#Contribuição das variáveis para a 1ª e 2ª dimensão (Top 10)\n",
    "fviz_contrib(PCA, choice = \"var\", axes = 1, top = 10) \n",
    "fviz_contrib(PCA, choice = \"var\", axes = 2, top = 10)\n",
    "#Criar grupos p/ ajudar na visualização do gráfico\n",
    "Labels= BD$Caidor\n",
    "Labels<- as.numeric(Labels)\n",
    "Labels[Labels==1]<- \"Controle\"\n",
    "Labels[Labels==2]<- \"Caso\"\n",
    "Labels<- as.factor(Labels)\n",
    "fviz_pca_ind(PCA,geom= c(\"point\",\"text\"),habillage = Labels,addEllipses = T,repel=TRUE)\n",
    "fviz_pca_biplot(PCA, repel = TRUE,col.var = \"black\",habillage = Labels)  "
   ]
  },
  {
   "cell_type": "markdown",
   "metadata": {},
   "source": [
    "# RFE-DT (*teste*)"
   ]
  },
  {
   "cell_type": "code",
   "execution_count": 123,
   "metadata": {},
   "outputs": [
    {
     "name": "stderr",
     "output_type": "stream",
     "text": [
      "Loading required package: rpart\n",
      "\n"
     ]
    },
    {
     "name": "stdout",
     "output_type": "stream",
     "text": [
      "\n",
      "Recursive feature selection\n",
      "\n",
      "Outer resampling method: Cross-Validated (5 fold) \n",
      "\n",
      "Resampling performance over subset size:\n",
      "\n",
      " Variables Accuracy  Kappa AccuracySD KappaSD Selected\n",
      "         2   0.6893 0.3017    0.13123  0.2965         \n",
      "         3   0.6915 0.2861    0.09918  0.2317         \n",
      "         4   0.6533 0.2106    0.07999  0.1985         \n",
      "         5   0.6756 0.2561    0.09802  0.2550         \n",
      "         6   0.6756 0.2361    0.14834  0.3812         \n",
      "         7   0.6493 0.2090    0.07672  0.1941         \n",
      "         8   0.6533 0.1659    0.07999  0.2554         \n",
      "         9   0.7301 0.3800    0.08212  0.2393         \n",
      "        10   0.7683 0.4787    0.05342  0.1247        *\n",
      "        11   0.6897 0.2698    0.12490  0.3163         \n",
      "        12   0.6733 0.2707    0.07571  0.1496         \n",
      "        13   0.6857 0.2915    0.12432  0.2923         \n",
      "        14   0.7119 0.3391    0.06628  0.1963         \n",
      "        15   0.6897 0.2754    0.05659  0.1821         \n",
      "        16   0.7079 0.3214    0.08102  0.2355         \n",
      "        17   0.7079 0.3214    0.08102  0.2355         \n",
      "        18   0.6915 0.3000    0.03965  0.1087         \n",
      "        19   0.7097 0.3452    0.02680  0.1112         \n",
      "        20   0.7119 0.3241    0.09233  0.2484         \n",
      "        21   0.6897 0.2754    0.05659  0.1821         \n",
      "        22   0.6897 0.2754    0.05659  0.1821         \n",
      "        23   0.6715 0.2493    0.08532  0.2038         \n",
      "        24   0.6937 0.2876    0.07313  0.2165         \n",
      "        25   0.7279 0.3785    0.05630  0.1608         \n",
      "        26   0.6552 0.1931    0.11488  0.3030         \n",
      "        27   0.7301 0.3850    0.08212  0.2313         \n",
      "        28   0.6533 0.1924    0.07999  0.2156         \n",
      "        29   0.7115 0.3545    0.06322  0.1336         \n",
      "        30   0.7097 0.3326    0.02680  0.1008         \n",
      "        31   0.6715 0.2428    0.05611  0.1737         \n",
      "        32   0.6715 0.2240    0.05611  0.1825         \n",
      "        33   0.7097 0.3490    0.06964  0.1315         \n",
      "        34   0.6897 0.2881    0.05659  0.1929         \n",
      "        35   0.7501 0.4422    0.04731  0.1217         \n",
      "        36   0.6715 0.2304    0.08532  0.2120         \n",
      "        37   0.6715 0.2240    0.05611  0.1825         \n",
      "        38   0.6937 0.3065    0.07313  0.2018         \n",
      "        39   0.6552 0.2195    0.07024  0.1596         \n",
      "\n",
      "The top 5 variables (out of 10):\n",
      "   medicaçao_tipo_cardiovascular, Berg, Vo2_maximo_avaliado, DT_Sec, Trilhas_b\n",
      "\n"
     ]
    },
    {
     "data": {
      "text/html": [
       "<style>\n",
       ".list-inline {list-style: none; margin:0; padding: 0}\n",
       ".list-inline>li {display: inline-block}\n",
       ".list-inline>li:not(:last-child)::after {content: \"\\00b7\"; padding: 0 .5ex}\n",
       "</style>\n",
       "<ol class=list-inline><li>'medicaçao_tipo_cardiovascular'</li><li>'Berg'</li><li>'Vo2_maximo_avaliado'</li><li>'DT_Sec'</li><li>'Trilhas_b'</li><li>'Fluencia_verbal'</li><li>'DVC_primaria'</li><li>'Dinamometria'</li><li>'Anticoagulante_classif'</li><li>'idade'</li></ol>\n"
      ],
      "text/latex": [
       "\\begin{enumerate*}\n",
       "\\item 'medicaçao\\_tipo\\_cardiovascular'\n",
       "\\item 'Berg'\n",
       "\\item 'Vo2\\_maximo\\_avaliado'\n",
       "\\item 'DT\\_Sec'\n",
       "\\item 'Trilhas\\_b'\n",
       "\\item 'Fluencia\\_verbal'\n",
       "\\item 'DVC\\_primaria'\n",
       "\\item 'Dinamometria'\n",
       "\\item 'Anticoagulante\\_classif'\n",
       "\\item 'idade'\n",
       "\\end{enumerate*}\n"
      ],
      "text/markdown": [
       "1. 'medicaçao_tipo_cardiovascular'\n",
       "2. 'Berg'\n",
       "3. 'Vo2_maximo_avaliado'\n",
       "4. 'DT_Sec'\n",
       "5. 'Trilhas_b'\n",
       "6. 'Fluencia_verbal'\n",
       "7. 'DVC_primaria'\n",
       "8. 'Dinamometria'\n",
       "9. 'Anticoagulante_classif'\n",
       "10. 'idade'\n",
       "\n",
       "\n"
      ],
      "text/plain": [
       " [1] \"medicaçao_tipo_cardiovascular\" \"Berg\"                         \n",
       " [3] \"Vo2_maximo_avaliado\"           \"DT_Sec\"                       \n",
       " [5] \"Trilhas_b\"                     \"Fluencia_verbal\"              \n",
       " [7] \"DVC_primaria\"                  \"Dinamometria\"                 \n",
       " [9] \"Anticoagulante_classif\"        \"idade\"                        "
      ]
     },
     "metadata": {},
     "output_type": "display_data"
    },
    {
     "data": {
      "image/png": "[encoded data removed]",
      "text/plain": [
       "plot without title"
      ]
     },
     "metadata": {
      "image/png": {
       "height": 420,
       "width": 420
      }
     },
     "output_type": "display_data"
    }
   ],
   "source": [
    "#install.packages(\"caret\")\n",
    "#require(caret)\n",
    "#install.packages(\"e1071\")\n",
    "#require(e1071)\n",
    "#install.packages(\"rpart\")\n",
    "require(rpart)\n",
    "set.seed(1)\n",
    "control2 <- rfeControl(functions=treebagFuncs, method=\"cv\", number=5)\n",
    "set.seed(2)\n",
    "results2 <- rfe(BD[,2:40], BD[[1]], sizes=c(2:40),rfeControl=control2,metric=\"Kappa\") #Classes desbalanceadas\n",
    "print(results2) \n",
    "#list the chosen features\n",
    "predictors(results2) \n",
    "#plot the results\n",
    "plot(results2, type=c(\"g\", \"o\"),main=\"RFE using Decision Tree\")"
   ]
  },
  {
   "cell_type": "code",
   "execution_count": 124,
   "metadata": {},
   "outputs": [
    {
     "data": {
      "text/plain": [
       "CART \n",
       "\n",
       "52 samples\n",
       "10 predictors\n",
       " 2 classes: 'sim', 'não' \n",
       "\n",
       "No pre-processing\n",
       "Resampling: Cross-Validated (5 fold) \n",
       "Summary of sample sizes: 42, 41, 41, 42, 42 \n",
       "Resampling results across tuning parameters:\n",
       "\n",
       "  cp          Accuracy   Kappa    \n",
       "  0.00000000  0.6745455  0.2591570\n",
       "  0.05263158  0.6745455  0.2591570\n",
       "  0.42105263  0.6363636  0.1300174\n",
       "\n",
       "Kappa was used to select the optimal model using the largest value.\n",
       "The final value used for the model was cp = 0.05263158."
      ]
     },
     "metadata": {},
     "output_type": "display_data"
    },
    {
     "data": {
      "text/plain": [
       "n= 52 \n",
       "\n",
       "node), split, n, loss, yval, (yprob)\n",
       "      * denotes terminal node\n",
       "\n",
       "1) root 52 19 não (0.3653846 0.6346154)  \n",
       "  2) Berg< 53 10  1 sim (0.9000000 0.1000000) *\n",
       "  3) Berg>=53 42 10 não (0.2380952 0.7619048) *"
      ]
     },
     "metadata": {},
     "output_type": "display_data"
    },
    {
     "name": "stderr",
     "output_type": "stream",
     "text": [
      "Loading required package: rpart.plot\n",
      "\n"
     ]
    },
    {
     "data": {
      "image/png": "[encoded data removed]",
      "text/plain": [
       "plot without title"
      ]
     },
     "metadata": {
      "image/png": {
       "height": 420,
       "width": 420
      }
     },
     "output_type": "display_data"
    },
    {
     "data": {
      "text/plain": [
       "Confusion Matrix and Statistics\n",
       "\n",
       "          Reference\n",
       "Prediction sim não\n",
       "       sim  21  17\n",
       "       não  36  82\n",
       "                                          \n",
       "               Accuracy : 0.6603          \n",
       "                 95% CI : (0.5802, 0.7341)\n",
       "    No Information Rate : 0.6346          \n",
       "    P-Value [Acc > NIR] : 0.28205         \n",
       "                                          \n",
       "                  Kappa : 0.2117          \n",
       "                                          \n",
       " Mcnemar's Test P-Value : 0.01342         \n",
       "                                          \n",
       "            Sensitivity : 0.3684          \n",
       "            Specificity : 0.8283          \n",
       "         Pos Pred Value : 0.5526          \n",
       "         Neg Pred Value : 0.6949          \n",
       "             Prevalence : 0.3654          \n",
       "         Detection Rate : 0.1346          \n",
       "   Detection Prevalence : 0.2436          \n",
       "      Balanced Accuracy : 0.5984          \n",
       "                                          \n",
       "       'Positive' Class : sim             \n",
       "                                          "
      ]
     },
     "metadata": {},
     "output_type": "display_data"
    },
    {
     "data": {
      "text/plain": [
       "rpart variable importance\n",
       "\n",
       "                                                      Overall\n",
       "Berg                                                   100.00\n",
       "Vo2_maximo_avaliado                                     95.86\n",
       "Trilhas_b                                               81.93\n",
       "medicaçao_tipo_cardiovascularBeta + Anti_Coag + Diu     80.65\n",
       "DT_Sec                                                  74.40\n",
       "DVC_primariainsuficiencia                                0.00\n",
       "Anticoagulante_classifsim                                0.00\n",
       "`medicaçao_tipo_cardiovascularBeta + Anti_Coag + Diu`    0.00\n",
       "DVC_primariaisquemia                                     0.00\n",
       "DVC_primariaangina                                       0.00\n",
       "idade                                                    0.00\n",
       "`medicaçao_tipo_cardiovascularBeta + Anti_HAS`           0.00\n",
       "DVC_primariaarritmia                                     0.00\n",
       "Fluencia_verbal                                          0.00\n",
       "DVC_primarianada                                         0.00\n",
       "DVC_primariainfarto                                      0.00\n",
       "`medicaçao_tipo_cardiovascularBeta + Anti_Coag`          0.00\n",
       "Dinamometria                                             0.00\n",
       "medicaçao_tipo_cardiovascularBeta                        0.00"
      ]
     },
     "metadata": {},
     "output_type": "display_data"
    },
    {
     "data": {
      "image/png": "[encoded data removed]",
      "text/plain": [
       "plot without title"
      ]
     },
     "metadata": {
      "image/png": {
       "height": 420,
       "width": 420
      }
     },
     "output_type": "display_data"
    },
    {
     "data": {
      "image/png": "[encoded data removed]",
      "text/plain": [
       "plot without title"
      ]
     },
     "metadata": {
      "image/png": {
       "height": 420,
       "width": 420
      }
     },
     "output_type": "display_data"
    }
   ],
   "source": [
    "BD_DT_rfe<- BD[,c(\"Caidor\",\"medicaçao_tipo_cardiovascular\",\"Berg\",\"Vo2_maximo_avaliado\",\n",
    "                                \"DT_Sec\",\"Trilhas_b\",\"Fluencia_verbal\",\"DVC_primaria\",\"Dinamometria\",\"Anticoagulante_classif\",\"idade\")]\n",
    "set.seed(44)\n",
    "Tree_model=train(Caidor~.,data=BD_DT_rfe,method='rpart',metric=\"Kappa\",trControl=trainControl(method='cv',number=5,savePredictions=TRUE))\n",
    "Tree_model \n",
    "plot(Tree_model)\n",
    "Tree_model$finalModel\n",
    "#install.packages(\"rpart.plot\")\n",
    "require(rpart.plot)\n",
    "rpart.plot(Tree_model$finalModel,type=0,extra=101,box.palette = \"GnBu\",\n",
    "           branch.lty=3,shadow.col = \"gray\",nn=T,cex=1) \n",
    "\n",
    "#attributes(Tree_model)\n",
    "prediction_dt<-Tree_model$pred[,1]\n",
    "obs_dt<- Tree_model$pred[,2]\n",
    "confusionMatrix(prediction_dt,obs_dt)\n",
    "varImp(Tree_model)\n",
    "plot(varImp(Tree_model),main=\"Variables Importance - Decision Tree\")"
   ]
  }
 ],
 "metadata": {
  "kernelspec": {
   "display_name": "R",
   "language": "R",
   "name": "ir"
  },
  "language_info": {
   "codemirror_mode": "r",
   "file_extension": ".r",
   "mimetype": "text/x-r-source",
   "name": "R",
   "pygments_lexer": "r",
   "version": "3.6.0"
  },
  "orig_nbformat": 4
 },
 "nbformat": 4,
 "nbformat_minor": 2
}
