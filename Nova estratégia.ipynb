{
 "cells": [
  {
   "cell_type": "markdown",
   "metadata": {},
   "source": [
    "# Importação do banco de dados (atualizado)"
   ]
  },
  {
   "cell_type": "code",
   "execution_count": 1,
   "metadata": {},
   "outputs": [
    {
     "name": "stderr",
     "output_type": "stream",
     "text": [
      "Loading required package: readxl\n",
      "\n",
      "Warning message:\n",
      "\"package 'readxl' was built under R version 3.6.3\"\n"
     ]
    },
    {
     "data": {
      "text/html": [
       "<table class=\"dataframe\">\n",
       "<caption>A tibble: 6 × 40</caption>\n",
       "<thead>\n",
       "\t<tr><th scope=col>Caidor</th><th scope=col>Genero</th><th scope=col>idade</th><th scope=col>Nivel_social</th><th scope=col>etnia</th><th scope=col>Nivel_educacional</th><th scope=col>Freq_atividade</th><th scope=col>Criterio_AHA</th><th scope=col>Anti_hipertensivo</th><th scope=col>betabloqueador</th><th scope=col>...</th><th scope=col>Dinamometria</th><th scope=col>Berg</th><th scope=col>STS</th><th scope=col>Flexibilidade_Ms</th><th scope=col>Flexibilidade_MI</th><th scope=col>TUG_sec</th><th scope=col>DT_Sec</th><th scope=col>DT_numero_animais</th><th scope=col>quantidade_total_de_medicação</th><th scope=col>medicaçao_tipo_cardiovascular</th></tr>\n",
       "\t<tr><th scope=col>&lt;chr&gt;</th><th scope=col>&lt;chr&gt;</th><th scope=col>&lt;dbl&gt;</th><th scope=col>&lt;chr&gt;</th><th scope=col>&lt;chr&gt;</th><th scope=col>&lt;dbl&gt;</th><th scope=col>&lt;chr&gt;</th><th scope=col>&lt;chr&gt;</th><th scope=col>&lt;chr&gt;</th><th scope=col>&lt;chr&gt;</th><th scope=col>...</th><th scope=col>&lt;dbl&gt;</th><th scope=col>&lt;dbl&gt;</th><th scope=col>&lt;dbl&gt;</th><th scope=col>&lt;dbl&gt;</th><th scope=col>&lt;dbl&gt;</th><th scope=col>&lt;dbl&gt;</th><th scope=col>&lt;dbl&gt;</th><th scope=col>&lt;dbl&gt;</th><th scope=col>&lt;dbl&gt;</th><th scope=col>&lt;chr&gt;</th></tr>\n",
       "</thead>\n",
       "<tbody>\n",
       "\t<tr><td>sim</td><td>mulher</td><td>76</td><td>b</td><td>branco</td><td>16</td><td>3x        </td><td>c</td><td>não</td><td>sim</td><td>...</td><td>17.9</td><td>54</td><td> 5</td><td>-29</td><td>-33</td><td> 8.90</td><td> 9.1</td><td>10</td><td>8</td><td>Beta + Anti_Coag      </td></tr>\n",
       "\t<tr><td>não</td><td>mulher</td><td>73</td><td>b</td><td>branco</td><td>16</td><td>3x        </td><td>b</td><td>sim</td><td>sim</td><td>...</td><td>21.0</td><td>56</td><td>12</td><td>  0</td><td>  0</td><td> 7.11</td><td> 9.0</td><td> 8</td><td>8</td><td>Beta + Anti_HAS       </td></tr>\n",
       "\t<tr><td>não</td><td>mulher</td><td>75</td><td>c</td><td>branco</td><td>12</td><td>2x        </td><td>b</td><td>sim</td><td>sim</td><td>...</td><td>23.5</td><td>54</td><td> 7</td><td> -7</td><td>-15</td><td> 7.42</td><td> 8.6</td><td> 7</td><td>6</td><td>Beta + Anti_Coag      </td></tr>\n",
       "\t<tr><td>sim</td><td>mulher</td><td>83</td><td>b</td><td>branco</td><td>10</td><td>sedentario</td><td>c</td><td>sim</td><td>sim</td><td>...</td><td>15.3</td><td>51</td><td> 9</td><td>-22</td><td> -4</td><td>10.52</td><td>11.9</td><td> 7</td><td>8</td><td>Beta + Anti_Coag + Diu</td></tr>\n",
       "\t<tr><td>não</td><td>mulher</td><td>83</td><td>a</td><td>branco</td><td>10</td><td>3x        </td><td>c</td><td>sim</td><td>sim</td><td>...</td><td>16.7</td><td>56</td><td>NA</td><td> NA</td><td>-19</td><td> 9.31</td><td>13.2</td><td> 9</td><td>7</td><td>Beta + Anti_Coag + Diu</td></tr>\n",
       "\t<tr><td>não</td><td>mulher</td><td>78</td><td>a</td><td>branco</td><td>12</td><td>2x        </td><td>b</td><td>sim</td><td>sim</td><td>...</td><td>19.1</td><td>56</td><td>12</td><td> NA</td><td>  0</td><td> 7.17</td><td> 8.7</td><td> 6</td><td>4</td><td>Beta + Anti_HAS       </td></tr>\n",
       "</tbody>\n",
       "</table>\n"
      ],
      "text/latex": [
       "A tibble: 6 × 40\n",
       "\\begin{tabular}{lllllllllllllllllllll}\n",
       " Caidor & Genero & idade & Nivel\\_social & etnia & Nivel\\_educacional & Freq\\_atividade & Criterio\\_AHA & Anti\\_hipertensivo & betabloqueador & ... & Dinamometria & Berg & STS & Flexibilidade\\_Ms & Flexibilidade\\_MI & TUG\\_sec & DT\\_Sec & DT\\_numero\\_animais & quantidade\\_total\\_de\\_medicação & medicaçao\\_tipo\\_cardiovascular\\\\\n",
       " <chr> & <chr> & <dbl> & <chr> & <chr> & <dbl> & <chr> & <chr> & <chr> & <chr> & ... & <dbl> & <dbl> & <dbl> & <dbl> & <dbl> & <dbl> & <dbl> & <dbl> & <dbl> & <chr>\\\\\n",
       "\\hline\n",
       "\t sim & mulher & 76 & b & branco & 16 & 3x         & c & não & sim & ... & 17.9 & 54 &  5 & -29 & -33 &  8.90 &  9.1 & 10 & 8 & Beta + Anti\\_Coag      \\\\\n",
       "\t não & mulher & 73 & b & branco & 16 & 3x         & b & sim & sim & ... & 21.0 & 56 & 12 &   0 &   0 &  7.11 &  9.0 &  8 & 8 & Beta + Anti\\_HAS       \\\\\n",
       "\t não & mulher & 75 & c & branco & 12 & 2x         & b & sim & sim & ... & 23.5 & 54 &  7 &  -7 & -15 &  7.42 &  8.6 &  7 & 6 & Beta + Anti\\_Coag      \\\\\n",
       "\t sim & mulher & 83 & b & branco & 10 & sedentario & c & sim & sim & ... & 15.3 & 51 &  9 & -22 &  -4 & 10.52 & 11.9 &  7 & 8 & Beta + Anti\\_Coag + Diu\\\\\n",
       "\t não & mulher & 83 & a & branco & 10 & 3x         & c & sim & sim & ... & 16.7 & 56 & NA &  NA & -19 &  9.31 & 13.2 &  9 & 7 & Beta + Anti\\_Coag + Diu\\\\\n",
       "\t não & mulher & 78 & a & branco & 12 & 2x         & b & sim & sim & ... & 19.1 & 56 & 12 &  NA &   0 &  7.17 &  8.7 &  6 & 4 & Beta + Anti\\_HAS       \\\\\n",
       "\\end{tabular}\n"
      ],
      "text/markdown": [
       "\n",
       "A tibble: 6 × 40\n",
       "\n",
       "| Caidor &lt;chr&gt; | Genero &lt;chr&gt; | idade &lt;dbl&gt; | Nivel_social &lt;chr&gt; | etnia &lt;chr&gt; | Nivel_educacional &lt;dbl&gt; | Freq_atividade &lt;chr&gt; | Criterio_AHA &lt;chr&gt; | Anti_hipertensivo &lt;chr&gt; | betabloqueador &lt;chr&gt; | ... ... | Dinamometria &lt;dbl&gt; | Berg &lt;dbl&gt; | STS &lt;dbl&gt; | Flexibilidade_Ms &lt;dbl&gt; | Flexibilidade_MI &lt;dbl&gt; | TUG_sec &lt;dbl&gt; | DT_Sec &lt;dbl&gt; | DT_numero_animais &lt;dbl&gt; | quantidade_total_de_medicação &lt;dbl&gt; | medicaçao_tipo_cardiovascular &lt;chr&gt; |\n",
       "|---|---|---|---|---|---|---|---|---|---|---|---|---|---|---|---|---|---|---|---|---|\n",
       "| sim | mulher | 76 | b | branco | 16 | 3x         | c | não | sim | ... | 17.9 | 54 |  5 | -29 | -33 |  8.90 |  9.1 | 10 | 8 | Beta + Anti_Coag       |\n",
       "| não | mulher | 73 | b | branco | 16 | 3x         | b | sim | sim | ... | 21.0 | 56 | 12 |   0 |   0 |  7.11 |  9.0 |  8 | 8 | Beta + Anti_HAS        |\n",
       "| não | mulher | 75 | c | branco | 12 | 2x         | b | sim | sim | ... | 23.5 | 54 |  7 |  -7 | -15 |  7.42 |  8.6 |  7 | 6 | Beta + Anti_Coag       |\n",
       "| sim | mulher | 83 | b | branco | 10 | sedentario | c | sim | sim | ... | 15.3 | 51 |  9 | -22 |  -4 | 10.52 | 11.9 |  7 | 8 | Beta + Anti_Coag + Diu |\n",
       "| não | mulher | 83 | a | branco | 10 | 3x         | c | sim | sim | ... | 16.7 | 56 | NA |  NA | -19 |  9.31 | 13.2 |  9 | 7 | Beta + Anti_Coag + Diu |\n",
       "| não | mulher | 78 | a | branco | 12 | 2x         | b | sim | sim | ... | 19.1 | 56 | 12 |  NA |   0 |  7.17 |  8.7 |  6 | 4 | Beta + Anti_HAS        |\n",
       "\n"
      ],
      "text/plain": [
       "  Caidor Genero idade Nivel_social etnia  Nivel_educacional Freq_atividade\n",
       "1 sim    mulher 76    b            branco 16                3x            \n",
       "2 não    mulher 73    b            branco 16                3x            \n",
       "3 não    mulher 75    c            branco 12                2x            \n",
       "4 sim    mulher 83    b            branco 10                sedentario    \n",
       "5 não    mulher 83    a            branco 10                3x            \n",
       "6 não    mulher 78    a            branco 12                2x            \n",
       "  Criterio_AHA Anti_hipertensivo betabloqueador ... Dinamometria Berg STS\n",
       "1 c            não               sim            ... 17.9         54    5 \n",
       "2 b            sim               sim            ... 21.0         56   12 \n",
       "3 b            sim               sim            ... 23.5         54    7 \n",
       "4 c            sim               sim            ... 15.3         51    9 \n",
       "5 c            sim               sim            ... 16.7         56   NA \n",
       "6 b            sim               sim            ... 19.1         56   12 \n",
       "  Flexibilidade_Ms Flexibilidade_MI TUG_sec DT_Sec DT_numero_animais\n",
       "1 -29              -33               8.90    9.1   10               \n",
       "2   0                0               7.11    9.0    8               \n",
       "3  -7              -15               7.42    8.6    7               \n",
       "4 -22               -4              10.52   11.9    7               \n",
       "5  NA              -19               9.31   13.2    9               \n",
       "6  NA                0               7.17    8.7    6               \n",
       "  quantidade_total_de_medicação medicaçao_tipo_cardiovascular\n",
       "1 8                             Beta + Anti_Coag             \n",
       "2 8                             Beta + Anti_HAS              \n",
       "3 6                             Beta + Anti_Coag             \n",
       "4 8                             Beta + Anti_Coag + Diu       \n",
       "5 7                             Beta + Anti_Coag + Diu       \n",
       "6 4                             Beta + Anti_HAS              "
      ]
     },
     "metadata": {},
     "output_type": "display_data"
    },
    {
     "data": {
      "text/html": [
       "<style>\n",
       ".list-inline {list-style: none; margin:0; padding: 0}\n",
       ".list-inline>li {display: inline-block}\n",
       ".list-inline>li:not(:last-child)::after {content: \"\\00b7\"; padding: 0 .5ex}\n",
       "</style>\n",
       "<ol class=list-inline><li>72</li><li>40</li></ol>\n"
      ],
      "text/latex": [
       "\\begin{enumerate*}\n",
       "\\item 72\n",
       "\\item 40\n",
       "\\end{enumerate*}\n"
      ],
      "text/markdown": [
       "1. 72\n",
       "2. 40\n",
       "\n",
       "\n"
      ],
      "text/plain": [
       "[1] 72 40"
      ]
     },
     "metadata": {},
     "output_type": "display_data"
    },
    {
     "name": "stdout",
     "output_type": "stream",
     "text": [
      "tibble [72 x 40] (S3: tbl_df/tbl/data.frame)\n",
      " $ Caidor                       : chr [1:72] \"sim\" \"não\" \"não\" \"sim\" ...\n",
      " $ Genero                       : chr [1:72] \"mulher\" \"mulher\" \"mulher\" \"mulher\" ...\n",
      " $ idade                        : num [1:72] 76 73 75 83 83 78 83 82 78 75 ...\n",
      " $ Nivel_social                 : chr [1:72] \"b\" \"b\" \"c\" \"b\" ...\n",
      " $ etnia                        : chr [1:72] \"branco\" \"branco\" \"branco\" \"branco\" ...\n",
      " $ Nivel_educacional            : num [1:72] 16 16 12 10 10 12 20 8 14 16 ...\n",
      " $ Freq_atividade               : chr [1:72] \"3x\" \"3x\" \"2x\" \"sedentario\" ...\n",
      " $ Criterio_AHA                 : chr [1:72] \"c\" \"b\" \"b\" \"c\" ...\n",
      " $ Anti_hipertensivo            : chr [1:72] \"não\" \"sim\" \"sim\" \"sim\" ...\n",
      " $ betabloqueador               : chr [1:72] \"sim\" \"sim\" \"sim\" \"sim\" ...\n",
      " $ Anticoagulante_classif       : chr [1:72] \"não\" \"não\" \"não\" \"sim\" ...\n",
      " $ Diuretico_classif            : chr [1:72] \"não\" \"não\" \"não\" \"sim\" ...\n",
      " $ medicação_tipo_mental        : chr [1:72] \"antidepressivo\" \"benzodiazepinico\" \"antidepressivo\" \"antidepressivo+benzo\" ...\n",
      " $ medicação_tipo_saude         : chr [1:72] \"cardio+mental\" \"cardio+mental\" \"cardio+mental\" \"cardio+mental\" ...\n",
      " $ antidepressivo               : chr [1:72] \"não\" \"não\" \"sim\" \"não\" ...\n",
      " $ ansiolitico                  : chr [1:72] \"não\" \"não\" \"não\" \"não\" ...\n",
      " $ benzodiazepinico             : chr [1:72] \"sim\" \"sim\" \"sim\" \"sim\" ...\n",
      " $ DVC_primaria                 : chr [1:72] \"insuficiencia\" \"insuficiencia\" \"insuficiencia\" \"arritmia\" ...\n",
      " $ HAS                          : chr [1:72] \"não\" \"sim\" \"sim\" \"sim\" ...\n",
      " $ Tempo_doença                 : num [1:72] 6 3 6 4 10 20 5 9 3 25 ...\n",
      " $ Doenca_Respi                 : chr [1:72] \"sim\" NA \"não\" \"não\" ...\n",
      " $ MMSE                         : num [1:72] 30 29 27 29 29 30 29 26 28 24 ...\n",
      " $ Fluencia_verbal              : num [1:72] 27 22 15 20 18 30 19 18 20 14 ...\n",
      " $ Trilhas_A                    : num [1:72] 33 26.8 71 29.2 43.2 86.1 35.3 44.2 44 43.5 ...\n",
      " $ Trilhas_b                    : num [1:72] 60.1 61 178 93.7 127.2 ...\n",
      " $ GDS                          : num [1:72] 3 0 15 5 2 0 0 0 0 14 ...\n",
      " $ FES_I                        : num [1:72] 26 19 19 16 16 16 22 16 19 24 ...\n",
      " $ Vsaq                         : num [1:72] 5 5 7 5 5 8 7 5 8 5 ...\n",
      " $ Vo2_maximo_avaliado          : num [1:72] 17 23.4 11.3 12.7 14.1 13.5 18.4 13.4 18.6 12.1 ...\n",
      " $ IMC                          : num [1:72] 27 28.5 32.8 29.3 26.2 27.2 22.2 26.9 19.7 24.8 ...\n",
      " $ Dinamometria                 : num [1:72] 17.9 21 23.5 15.3 16.7 19.1 20.9 18.1 16 22.7 ...\n",
      " $ Berg                         : num [1:72] 54 56 54 51 56 56 54 55 55 50 ...\n",
      " $ STS                          : num [1:72] 5 12 7 9 NA 12 6 8 12 8 ...\n",
      " $ Flexibilidade_Ms             : num [1:72] -29 0 -7 -22 NA NA -6 -8 7 -11 ...\n",
      " $ Flexibilidade_MI             : num [1:72] -33 0 -15 -4 -19 0 -5 -2 8 -23 ...\n",
      " $ TUG_sec                      : num [1:72] 8.9 7.11 7.42 10.52 9.31 ...\n",
      " $ DT_Sec                       : num [1:72] 9.1 9 8.6 11.9 13.2 8.7 9.2 8.7 6.7 8.7 ...\n",
      " $ DT_numero_animais            : num [1:72] 10 8 7 7 9 6 8 7 5 5 ...\n",
      " $ quantidade_total_de_medicação: num [1:72] 8 8 6 8 7 4 2 5 6 8 ...\n",
      " $ medicaçao_tipo_cardiovascular: chr [1:72] \"Beta + Anti_Coag\" \"Beta + Anti_HAS\" \"Beta + Anti_Coag\" \"Beta + Anti_Coag + Diu\" ...\n"
     ]
    }
   ],
   "source": [
    "#install.packages(\"readxl\")\n",
    "require(readxl)\n",
    "bd<- read_excel(\"Analise heitor_02_10_21.xlsx\",sheet = 2)\n",
    "head(bd)\n",
    "dim(bd) #72x40 (antes havia 71 variáveis)\n",
    "str(bd)"
   ]
  },
  {
   "cell_type": "markdown",
   "metadata": {},
   "source": [
    "# Pré-processamento dos dados"
   ]
  },
  {
   "cell_type": "code",
   "execution_count": 2,
   "metadata": {},
   "outputs": [
    {
     "name": "stdout",
     "output_type": "stream",
     "text": [
      "tibble [72 x 40] (S3: tbl_df/tbl/data.frame)\n",
      " $ Caidor                       : Factor w/ 2 levels \"não\",\"sim\": 2 1 1 2 1 1 2 1 1 2 ...\n",
      " $ Genero                       : Factor w/ 2 levels \"homem\",\"mulher\": 2 2 2 2 2 2 2 2 2 1 ...\n",
      " $ idade                        : num [1:72] 17 14 16 24 24 19 24 23 19 16 ...\n",
      " $ Nivel_social                 : Factor w/ 4 levels \"a\",\"b\",\"c\",\"d\": 2 2 3 2 1 1 2 2 3 2 ...\n",
      " $ etnia                        : Factor w/ 2 levels \"branco\",\"preto\": 1 1 1 1 1 1 2 1 1 1 ...\n",
      " $ Nivel_educacional            : num [1:72] 6 6 3 2 2 3 8 1 4 6 ...\n",
      " $ Freq_atividade               : Factor w/ 3 levels \"2x\",\"3x\",\"sedentario\": 2 2 1 3 2 1 2 1 1 1 ...\n",
      " $ Criterio_AHA                 : Factor w/ 2 levels \"b\",\"c\": 2 1 1 2 2 1 2 1 1 2 ...\n",
      " $ Anti_hipertensivo            : Factor w/ 2 levels \"não\",\"sim\": 1 2 2 2 2 2 1 1 1 2 ...\n",
      " $ betabloqueador               : Factor w/ 2 levels \"não\",\"sim\": 2 2 2 2 2 2 2 1 2 2 ...\n",
      " $ Anticoagulante_classif       : Factor w/ 2 levels \"não\",\"sim\": 1 1 1 2 1 1 2 2 1 2 ...\n",
      " $ Diuretico_classif            : Factor w/ 2 levels \"não\",\"sim\": 1 1 1 2 1 1 1 1 1 2 ...\n",
      " $ medicação_tipo_mental        : Factor w/ 5 levels \"ansiolitico\",..: 2 4 2 3 4 1 3 5 2 3 ...\n",
      " $ medicação_tipo_saude         : Factor w/ 2 levels \"cardio+mental\",..: 1 1 1 1 1 1 1 2 1 1 ...\n",
      " $ antidepressivo               : Factor w/ 2 levels \"não\",\"sim\": 1 1 2 1 2 1 1 1 1 2 ...\n",
      " $ ansiolitico                  : Factor w/ 2 levels \"não\",\"sim\": 1 1 1 1 1 1 1 1 1 2 ...\n",
      " $ benzodiazepinico             : Factor w/ 2 levels \"não\",\"sim\": 2 2 2 2 2 2 2 1 1 2 ...\n",
      " $ DVC_primaria                 : Factor w/ 7 levels \"aneurisma da aorta\",..: 5 5 5 3 1 3 3 3 3 4 ...\n",
      " $ HAS                          : Factor w/ 2 levels \"não\",\"sim\": 1 2 2 2 2 2 1 1 1 2 ...\n",
      " $ Tempo_doença                 : num [1:72] 5 2 5 3 9 17 4 8 2 20 ...\n",
      " $ Doenca_Respi                 : Factor w/ 4 levels \"duas\",\"não\",\"sim\",..: 3 NA 2 2 2 2 2 2 2 2 ...\n",
      " $ MMSE                         : num [1:72] 9 8 6 8 8 9 8 5 7 3 ...\n",
      " $ Fluencia_verbal              : num [1:72] 17 12 5 10 8 20 9 8 10 4 ...\n",
      " $ Trilhas_A                    : num [1:72] 10 4 43 6 25 46 13 28 27 26 ...\n",
      " $ Trilhas_b                    : num [1:72] 11 12 43 29 37 45 30 34 27 40 ...\n",
      " $ GDS                          : num [1:72] 4 1 14 6 3 1 1 1 1 13 ...\n",
      " $ FES_I                        : num [1:72] 10 4 4 1 1 1 6 1 4 8 ...\n",
      " $ Vsaq                         : num [1:72] 3 3 5 3 3 6 5 3 6 3 ...\n",
      " $ Vo2_maximo_avaliado          : num [1:72] 20 38 3 5 10 8 25 7 26 4 ...\n",
      " $ IMC                          : num [1:72] 26 30 39 33 19 28 6 25 2 12 ...\n",
      " $ Dinamometria                 : num [1:72] 7 15 21 2 6 11 14 9 4 20 ...\n",
      " $ Berg                         : num [1:72] 11 13 11 9 13 13 11 12 12 8 ...\n",
      " $ STS                          : num [1:72] 2 9 4 6 NA 9 3 5 9 5 ...\n",
      " $ Flexibilidade_Ms             : num [1:72] 5 26 21 10 NA NA 22 20 29 17 ...\n",
      " $ Flexibilidade_MI             : num [1:72] 2 19 10 16 7 19 15 18 23 4 ...\n",
      " $ TUG_sec                      : num [1:72] 42 29 33 48 45 30 38 43 9 36 ...\n",
      " $ DT_Sec                       : num [1:72] 26 25 22 32 35 23 27 23 8 23 ...\n",
      " $ DT_numero_animais            : num [1:72] 8 6 5 5 7 4 6 5 3 3 ...\n",
      " $ quantidade_total_de_medicação: num [1:72] 7 7 5 7 6 3 1 4 5 7 ...\n",
      " $ medicaçao_tipo_cardiovascular: Factor w/ 5 levels \"Anti + HAS\",\"Beta\",..: 3 5 3 4 4 5 2 2 2 4 ...\n"
     ]
    }
   ],
   "source": [
    "bd[] <- lapply(bd, as.factor) #Transforma todo o banco de dados em fator\n",
    "bd[,c(\"idade\",\"Nivel_educacional\",\"Tempo_doença\",\"MMSE\",\"Fluencia_verbal\",\"Trilhas_A\",\"Trilhas_b\",\"GDS\",\"FES_I\",\"Vsaq\",\"Vo2_maximo_avaliado\",\"IMC\",\"Dinamometria\",\"Berg\",\"STS\",\"Flexibilidade_Ms\",\"Flexibilidade_MI\",\"TUG_sec\",\"DT_Sec\",\"DT_numero_animais\",\"quantidade_total_de_medicação\")] <- lapply(bd[,c(\"idade\",\"Nivel_educacional\",\"Tempo_doença\",\"MMSE\",\"Fluencia_verbal\",\"Trilhas_A\",\"Trilhas_b\",\"GDS\",\"FES_I\",\"Vsaq\",\"Vo2_maximo_avaliado\",\"IMC\",\"Dinamometria\",\"Berg\",\"STS\",\"Flexibilidade_Ms\",\"Flexibilidade_MI\",\"TUG_sec\",\"DT_Sec\",\"DT_numero_animais\",\"quantidade_total_de_medicação\")], as.numeric) \n",
    "str(bd)"
   ]
  },
  {
   "cell_type": "code",
   "execution_count": 3,
   "metadata": {},
   "outputs": [
    {
     "data": {
      "text/plain": [
       "\n",
       "não sim \n",
       " 48  24 "
      ]
     },
     "metadata": {},
     "output_type": "display_data"
    },
    {
     "data": {
      "text/html": [
       "<style>\n",
       ".list-inline {list-style: none; margin:0; padding: 0}\n",
       ".list-inline>li {display: inline-block}\n",
       ".list-inline>li:not(:last-child)::after {content: \"\\00b7\"; padding: 0 .5ex}\n",
       "</style>\n",
       "<ol class=list-inline><li>52</li><li>40</li></ol>\n"
      ],
      "text/latex": [
       "\\begin{enumerate*}\n",
       "\\item 52\n",
       "\\item 40\n",
       "\\end{enumerate*}\n"
      ],
      "text/markdown": [
       "1. 52\n",
       "2. 40\n",
       "\n",
       "\n"
      ],
      "text/plain": [
       "[1] 52 40"
      ]
     },
     "metadata": {},
     "output_type": "display_data"
    },
    {
     "data": {
      "text/plain": [
       "\n",
       "não sim \n",
       " 33  19 "
      ]
     },
     "metadata": {},
     "output_type": "display_data"
    }
   ],
   "source": [
    "table(bd$Caidor) #(48 não e 24 sim)\n",
    "BD<- na.omit(bd) \n",
    "dim(BD) #52 idosos após remoção dos Nas\n",
    "table(BD$Caidor) #(33 não e 19 sim)"
   ]
  },
  {
   "cell_type": "markdown",
   "metadata": {},
   "source": [
    "# Regressão Logística sem RFE"
   ]
  },
  {
   "cell_type": "code",
   "execution_count": 4,
   "metadata": {},
   "outputs": [
    {
     "data": {
      "text/plain": [
       "\n",
       "Call:\n",
       "glm(formula = BD$Caidor ~ ., family = \"binomial\", data = BD)\n",
       "\n",
       "Deviance Residuals: \n",
       "       Min          1Q      Median          3Q         Max  \n",
       "-2.409e-06  -2.409e-06  -2.409e-06   2.409e-06   2.409e-06  \n",
       "\n",
       "Coefficients: (9 not defined because of singularities)\n",
       "                                                      Estimate Std. Error\n",
       "(Intercept)                                         -7.935e+03  8.690e+07\n",
       "Generomulher                                         8.980e+02  1.205e+07\n",
       "idade                                                1.303e+01  2.436e+05\n",
       "Nivel_socialb                                        1.091e+03  1.085e+07\n",
       "Nivel_socialc                                        1.409e+03  1.515e+07\n",
       "Nivel_sociald                                       -2.166e+03  2.586e+07\n",
       "etniapreto                                          -8.992e+02  9.434e+06\n",
       "Nivel_educacional                                    1.382e+02  1.830e+06\n",
       "Freq_atividade3x                                    -6.624e+02  7.406e+06\n",
       "Freq_atividadesedentario                            -5.078e+02  5.760e+06\n",
       "Criterio_AHAc                                       -1.664e+03  1.927e+07\n",
       "Anti_hipertensivosim                                -2.071e+02  3.016e+06\n",
       "betabloqueadorsim                                    5.313e+01  5.036e+05\n",
       "Anticoagulante_classifsim                           -1.827e-12  2.391e+05\n",
       "Diuretico_classifsim                                 2.527e+02  3.628e+06\n",
       "medicação_tipo_mentalantidepressivo+benzo            2.394e+02  4.264e+06\n",
       "medicação_tipo_mentalbenzodiazepinico               -4.185e+02  6.261e+06\n",
       "medicação_tipo_mentalnão                             6.142e+02  6.266e+06\n",
       "medicação_tipo_saudecardiovascular                          NA         NA\n",
       "antidepressivosim                                    3.059e+02  4.027e+06\n",
       "ansioliticosim                                      -5.070e+02  6.084e+06\n",
       "benzodiazepinicosim                                  5.313e+01  7.513e+05\n",
       "DVC_primariaangina                                   1.306e+03  1.413e+07\n",
       "DVC_primariaarritmia                                 1.402e+03  1.395e+07\n",
       "DVC_primariainfarto                                  1.349e+03  1.409e+07\n",
       "DVC_primariainsuficiencia                            1.349e+03  1.408e+07\n",
       "DVC_primariaisquemia                                 1.203e+03  1.089e+07\n",
       "DVC_primarianada                                     4.636e+03  4.895e+07\n",
       "HASsim                                                      NA         NA\n",
       "Tempo_doença                                        -1.137e+01  1.782e+05\n",
       "Doenca_Respinão                                      1.494e+03  1.686e+07\n",
       "Doenca_Respisim                                      7.324e+02  7.149e+06\n",
       "Doenca_Respitrês                                            NA         NA\n",
       "MMSE                                                -1.244e+02  1.708e+06\n",
       "Fluencia_verbal                                      1.417e+02  1.604e+06\n",
       "Trilhas_A                                           -7.407e+01  7.774e+05\n",
       "Trilhas_b                                            7.220e+01  7.639e+05\n",
       "GDS                                                  1.852e+01  1.973e+05\n",
       "FES_I                                                1.703e+02  1.944e+06\n",
       "Vsaq                                                 5.419e+01  1.076e+06\n",
       "Vo2_maximo_avaliado                                  3.943e+01  4.754e+05\n",
       "IMC                                                 -7.034e+00  7.219e+04\n",
       "Dinamometria                                         4.934e+01  5.674e+05\n",
       "Berg                                                -9.073e+01  1.076e+06\n",
       "STS                                                  1.313e+02  1.701e+06\n",
       "Flexibilidade_Ms                                    -5.087e+01  6.424e+05\n",
       "Flexibilidade_MI                                    -1.489e-01  4.736e+04\n",
       "TUG_sec                                              1.172e+01  1.756e+05\n",
       "DT_Sec                                               5.313e+01  5.575e+05\n",
       "DT_numero_animais                                           NA         NA\n",
       "quantidade_total_de_medicação                               NA         NA\n",
       "medicaçao_tipo_cardiovascularBeta                           NA         NA\n",
       "medicaçao_tipo_cardiovascularBeta + Anti_Coag               NA         NA\n",
       "medicaçao_tipo_cardiovascularBeta + Anti_Coag + Diu         NA         NA\n",
       "medicaçao_tipo_cardiovascularBeta + Anti_HAS                NA         NA\n",
       "                                                    z value Pr(>|z|)\n",
       "(Intercept)                                               0        1\n",
       "Generomulher                                              0        1\n",
       "idade                                                     0        1\n",
       "Nivel_socialb                                             0        1\n",
       "Nivel_socialc                                             0        1\n",
       "Nivel_sociald                                             0        1\n",
       "etniapreto                                                0        1\n",
       "Nivel_educacional                                         0        1\n",
       "Freq_atividade3x                                          0        1\n",
       "Freq_atividadesedentario                                  0        1\n",
       "Criterio_AHAc                                             0        1\n",
       "Anti_hipertensivosim                                      0        1\n",
       "betabloqueadorsim                                         0        1\n",
       "Anticoagulante_classifsim                                 0        1\n",
       "Diuretico_classifsim                                      0        1\n",
       "medicação_tipo_mentalantidepressivo+benzo                 0        1\n",
       "medicação_tipo_mentalbenzodiazepinico                     0        1\n",
       "medicação_tipo_mentalnão                                  0        1\n",
       "medicação_tipo_saudecardiovascular                       NA       NA\n",
       "antidepressivosim                                         0        1\n",
       "ansioliticosim                                            0        1\n",
       "benzodiazepinicosim                                       0        1\n",
       "DVC_primariaangina                                        0        1\n",
       "DVC_primariaarritmia                                      0        1\n",
       "DVC_primariainfarto                                       0        1\n",
       "DVC_primariainsuficiencia                                 0        1\n",
       "DVC_primariaisquemia                                      0        1\n",
       "DVC_primarianada                                          0        1\n",
       "HASsim                                                   NA       NA\n",
       "Tempo_doença                                              0        1\n",
       "Doenca_Respinão                                           0        1\n",
       "Doenca_Respisim                                           0        1\n",
       "Doenca_Respitrês                                         NA       NA\n",
       "MMSE                                                      0        1\n",
       "Fluencia_verbal                                           0        1\n",
       "Trilhas_A                                                 0        1\n",
       "Trilhas_b                                                 0        1\n",
       "GDS                                                       0        1\n",
       "FES_I                                                     0        1\n",
       "Vsaq                                                      0        1\n",
       "Vo2_maximo_avaliado                                       0        1\n",
       "IMC                                                       0        1\n",
       "Dinamometria                                              0        1\n",
       "Berg                                                      0        1\n",
       "STS                                                       0        1\n",
       "Flexibilidade_Ms                                          0        1\n",
       "Flexibilidade_MI                                          0        1\n",
       "TUG_sec                                                   0        1\n",
       "DT_Sec                                                    0        1\n",
       "DT_numero_animais                                        NA       NA\n",
       "quantidade_total_de_medicação                            NA       NA\n",
       "medicaçao_tipo_cardiovascularBeta                        NA       NA\n",
       "medicaçao_tipo_cardiovascularBeta + Anti_Coag            NA       NA\n",
       "medicaçao_tipo_cardiovascularBeta + Anti_Coag + Diu      NA       NA\n",
       "medicaçao_tipo_cardiovascularBeta + Anti_HAS             NA       NA\n",
       "\n",
       "(Dispersion parameter for binomial family taken to be 1)\n",
       "\n",
       "    Null deviance: 6.8271e+01  on 51  degrees of freedom\n",
       "Residual deviance: 3.0168e-10  on  6  degrees of freedom\n",
       "AIC: 92\n",
       "\n",
       "Number of Fisher Scoring iterations: 25\n"
      ]
     },
     "metadata": {},
     "output_type": "display_data"
    }
   ],
   "source": [
    "set.seed(12)\n",
    "RL_model<- glm(BD$Caidor~.,data=BD, family = 'binomial')\n",
    "summary(RL_model)"
   ]
  },
  {
   "cell_type": "markdown",
   "metadata": {},
   "source": [
    "# RFE-RF"
   ]
  },
  {
   "cell_type": "code",
   "execution_count": 7,
   "metadata": {},
   "outputs": [
    {
     "name": "stderr",
     "output_type": "stream",
     "text": [
      "Loading required package: caret\n",
      "\n",
      "Loading required package: ggplot2\n",
      "\n",
      "\n",
      "Attaching package: 'ggplot2'\n",
      "\n",
      "\n",
      "The following object is masked from 'package:randomForest':\n",
      "\n",
      "    margin\n",
      "\n",
      "\n",
      "Loading required package: lattice\n",
      "\n"
     ]
    },
    {
     "name": "stdout",
     "output_type": "stream",
     "text": [
      "\n",
      "Recursive feature selection\n",
      "\n",
      "Outer resampling method: Cross-Validated (5 fold) \n",
      "\n",
      "Resampling performance over subset size:\n",
      "\n",
      " Variables Accuracy  Kappa AccuracySD KappaSD Selected\n",
      "         2   0.6897 0.2919    0.08565 0.20655         \n",
      "         3   0.7075 0.3482    0.09058 0.20640         \n",
      "         4   0.6915 0.2935    0.03965 0.13622         \n",
      "         5   0.7479 0.4211    0.06145 0.15355         \n",
      "         6   0.7701 0.4847    0.04163 0.07592        *\n",
      "         7   0.6897 0.2605    0.08565 0.23236         \n",
      "         8   0.7079 0.2938    0.10342 0.27300         \n",
      "         9   0.7079 0.3120    0.08102 0.22171         \n",
      "        10   0.7079 0.3120    0.08102 0.22171         \n",
      "        11   0.7119 0.3241    0.09233 0.24843         \n",
      "        12   0.7079 0.3120    0.08102 0.22171         \n",
      "        13   0.7079 0.3120    0.08102 0.22171         \n",
      "        14   0.7079 0.3120    0.08102 0.22171         \n",
      "        15   0.6897 0.2794    0.08565 0.22168         \n",
      "        16   0.6915 0.2861    0.09918 0.23166         \n",
      "        17   0.7279 0.3691    0.05630 0.14462         \n",
      "        18   0.7097 0.3176    0.06964 0.18194         \n",
      "        19   0.7279 0.3691    0.05630 0.14462         \n",
      "        20   0.6897 0.2605    0.08565 0.23236         \n",
      "        21   0.6897 0.2357    0.12490 0.34145         \n",
      "        22   0.7079 0.2938    0.10342 0.27300         \n",
      "        23   0.6897 0.2605    0.08565 0.23236         \n",
      "        24   0.6897 0.2605    0.08565 0.23236         \n",
      "        25   0.6533 0.1725    0.13710 0.35159         \n",
      "        26   0.7079 0.2938    0.10342 0.27300         \n",
      "        27   0.6897 0.2605    0.08565 0.23236         \n",
      "        28   0.6897 0.2357    0.12490 0.34145         \n",
      "        29   0.6533 0.1725    0.13710 0.35159         \n",
      "        30   0.6715 0.2025    0.10683 0.30203         \n",
      "        31   0.6533 0.1725    0.13710 0.35159         \n",
      "        32   0.6897 0.2357    0.12490 0.34145         \n",
      "        33   0.6715 0.2025    0.10683 0.30203         \n",
      "        34   0.6897 0.2357    0.12490 0.34145         \n",
      "        35   0.6897 0.2357    0.12490 0.34145         \n",
      "        36   0.6715 0.2025    0.10683 0.30203         \n",
      "        37   0.6715 0.2025    0.10683 0.30203         \n",
      "        38   0.6715 0.2025    0.10683 0.30203         \n",
      "        39   0.6715 0.2025    0.10683 0.30203         \n",
      "\n",
      "The top 5 variables (out of 6):\n",
      "   Berg, medicaçao_tipo_cardiovascular, DT_Sec, Diuretico_classif, Anticoagulante_classif\n",
      "\n"
     ]
    },
    {
     "data": {
      "text/html": [
       "<style>\n",
       ".list-inline {list-style: none; margin:0; padding: 0}\n",
       ".list-inline>li {display: inline-block}\n",
       ".list-inline>li:not(:last-child)::after {content: \"\\00b7\"; padding: 0 .5ex}\n",
       "</style>\n",
       "<ol class=list-inline><li>'Berg'</li><li>'medicaçao_tipo_cardiovascular'</li><li>'DT_Sec'</li><li>'Diuretico_classif'</li><li>'Anticoagulante_classif'</li><li>'Fluencia_verbal'</li></ol>\n"
      ],
      "text/latex": [
       "\\begin{enumerate*}\n",
       "\\item 'Berg'\n",
       "\\item 'medicaçao\\_tipo\\_cardiovascular'\n",
       "\\item 'DT\\_Sec'\n",
       "\\item 'Diuretico\\_classif'\n",
       "\\item 'Anticoagulante\\_classif'\n",
       "\\item 'Fluencia\\_verbal'\n",
       "\\end{enumerate*}\n"
      ],
      "text/markdown": [
       "1. 'Berg'\n",
       "2. 'medicaçao_tipo_cardiovascular'\n",
       "3. 'DT_Sec'\n",
       "4. 'Diuretico_classif'\n",
       "5. 'Anticoagulante_classif'\n",
       "6. 'Fluencia_verbal'\n",
       "\n",
       "\n"
      ],
      "text/plain": [
       "[1] \"Berg\"                          \"medicaçao_tipo_cardiovascular\"\n",
       "[3] \"DT_Sec\"                        \"Diuretico_classif\"            \n",
       "[5] \"Anticoagulante_classif\"        \"Fluencia_verbal\"              "
      ]
     },
     "metadata": {},
     "output_type": "display_data"
    },
    {
     "data": {
      "image/png": "[encoded data removed]",
      "text/plain": [
       "plot without title"
      ]
     },
     "metadata": {
      "image/png": {
       "height": 420,
       "width": 420
      }
     },
     "output_type": "display_data"
    }
   ],
   "source": [
    "#define the control using a random forest selection function\n",
    "#install.packages(\"caret\")\n",
    "require(caret)\n",
    "#install.packages(\"e1071\")\n",
    "require(e1071)\n",
    "#install.packages(\"randomForest\")\n",
    "require(randomForest)\n",
    "set.seed(1)\n",
    "control2 <- rfeControl(functions=rfFuncs, method=\"cv\", number=5)\n",
    "set.seed(2)\n",
    "results <- rfe(BD[,2:40], BD[[1]], sizes=c(2:40),rfeControl=control2,metric=\"Kappa\") \n",
    "print(results) \n",
    "#list the chosen features\n",
    "predictors(results) \n",
    "#plot the results\n",
    "plot(results, type=c(\"g\", \"o\"),main=\"RFE using Random Forest\")"
   ]
  },
  {
   "cell_type": "markdown",
   "metadata": {},
   "source": [
    "## RF a partir do RFE-RF"
   ]
  },
  {
   "cell_type": "code",
   "execution_count": 10,
   "metadata": {},
   "outputs": [
    {
     "data": {
      "text/html": [
       "<table class=\"dataframe\">\n",
       "<caption>A tibble: 6 × 7</caption>\n",
       "<thead>\n",
       "\t<tr><th scope=col>Caidor</th><th scope=col>Berg</th><th scope=col>medicaçao_tipo_cardiovascular</th><th scope=col>DT_Sec</th><th scope=col>Diuretico_classif</th><th scope=col>Anticoagulante_classif</th><th scope=col>Fluencia_verbal</th></tr>\n",
       "\t<tr><th scope=col>&lt;fct&gt;</th><th scope=col>&lt;dbl&gt;</th><th scope=col>&lt;fct&gt;</th><th scope=col>&lt;dbl&gt;</th><th scope=col>&lt;fct&gt;</th><th scope=col>&lt;fct&gt;</th><th scope=col>&lt;dbl&gt;</th></tr>\n",
       "</thead>\n",
       "<tbody>\n",
       "\t<tr><td>sim</td><td>11</td><td>Beta + Anti_Coag      </td><td>26</td><td>não</td><td>não</td><td>17</td></tr>\n",
       "\t<tr><td>não</td><td>11</td><td>Beta + Anti_Coag      </td><td>22</td><td>não</td><td>não</td><td> 5</td></tr>\n",
       "\t<tr><td>sim</td><td> 9</td><td>Beta + Anti_Coag + Diu</td><td>32</td><td>sim</td><td>sim</td><td>10</td></tr>\n",
       "\t<tr><td>sim</td><td>11</td><td>Beta                  </td><td>27</td><td>não</td><td>sim</td><td> 9</td></tr>\n",
       "\t<tr><td>não</td><td>12</td><td>Beta                  </td><td>23</td><td>não</td><td>sim</td><td> 8</td></tr>\n",
       "\t<tr><td>não</td><td>12</td><td>Beta                  </td><td> 8</td><td>não</td><td>não</td><td>10</td></tr>\n",
       "</tbody>\n",
       "</table>\n"
      ],
      "text/latex": [
       "A tibble: 6 × 7\n",
       "\\begin{tabular}{lllllll}\n",
       " Caidor & Berg & medicaçao\\_tipo\\_cardiovascular & DT\\_Sec & Diuretico\\_classif & Anticoagulante\\_classif & Fluencia\\_verbal\\\\\n",
       " <fct> & <dbl> & <fct> & <dbl> & <fct> & <fct> & <dbl>\\\\\n",
       "\\hline\n",
       "\t sim & 11 & Beta + Anti\\_Coag       & 26 & não & não & 17\\\\\n",
       "\t não & 11 & Beta + Anti\\_Coag       & 22 & não & não &  5\\\\\n",
       "\t sim &  9 & Beta + Anti\\_Coag + Diu & 32 & sim & sim & 10\\\\\n",
       "\t sim & 11 & Beta                   & 27 & não & sim &  9\\\\\n",
       "\t não & 12 & Beta                   & 23 & não & sim &  8\\\\\n",
       "\t não & 12 & Beta                   &  8 & não & não & 10\\\\\n",
       "\\end{tabular}\n"
      ],
      "text/markdown": [
       "\n",
       "A tibble: 6 × 7\n",
       "\n",
       "| Caidor &lt;fct&gt; | Berg &lt;dbl&gt; | medicaçao_tipo_cardiovascular &lt;fct&gt; | DT_Sec &lt;dbl&gt; | Diuretico_classif &lt;fct&gt; | Anticoagulante_classif &lt;fct&gt; | Fluencia_verbal &lt;dbl&gt; |\n",
       "|---|---|---|---|---|---|---|\n",
       "| sim | 11 | Beta + Anti_Coag       | 26 | não | não | 17 |\n",
       "| não | 11 | Beta + Anti_Coag       | 22 | não | não |  5 |\n",
       "| sim |  9 | Beta + Anti_Coag + Diu | 32 | sim | sim | 10 |\n",
       "| sim | 11 | Beta                   | 27 | não | sim |  9 |\n",
       "| não | 12 | Beta                   | 23 | não | sim |  8 |\n",
       "| não | 12 | Beta                   |  8 | não | não | 10 |\n",
       "\n"
      ],
      "text/plain": [
       "  Caidor Berg medicaçao_tipo_cardiovascular DT_Sec Diuretico_classif\n",
       "1 sim    11   Beta + Anti_Coag              26     não              \n",
       "2 não    11   Beta + Anti_Coag              22     não              \n",
       "3 sim     9   Beta + Anti_Coag + Diu        32     sim              \n",
       "4 sim    11   Beta                          27     não              \n",
       "5 não    12   Beta                          23     não              \n",
       "6 não    12   Beta                           8     não              \n",
       "  Anticoagulante_classif Fluencia_verbal\n",
       "1 não                    17             \n",
       "2 não                     5             \n",
       "3 sim                    10             \n",
       "4 sim                     9             \n",
       "5 sim                     8             \n",
       "6 não                    10             "
      ]
     },
     "metadata": {},
     "output_type": "display_data"
    },
    {
     "data": {
      "text/plain": [
       "Random Forest \n",
       "\n",
       "52 samples\n",
       " 6 predictor\n",
       " 2 classes: 'não', 'sim' \n",
       "\n",
       "No pre-processing\n",
       "Resampling: Cross-Validated (5 fold) \n",
       "Summary of sample sizes: 42, 41, 42, 41, 42 \n",
       "Resampling results across tuning parameters:\n",
       "\n",
       "  mtry  Accuracy   Kappa    \n",
       "  2     0.6927273  0.3182279\n",
       "  5     0.7145455  0.3664541\n",
       "  9     0.7345455  0.4135556\n",
       "\n",
       "Kappa was used to select the optimal model using the largest value.\n",
       "The final value used for the model was mtry = 9."
      ]
     },
     "metadata": {},
     "output_type": "display_data"
    },
    {
     "data": {
      "text/plain": [
       "\n",
       "Call:\n",
       " randomForest(x = x, y = y, mtry = min(param$mtry, ncol(x))) \n",
       "               Type of random forest: classification\n",
       "                     Number of trees: 500\n",
       "No. of variables tried at each split: 9\n",
       "\n",
       "        OOB estimate of  error rate: 28.85%\n",
       "Confusion matrix:\n",
       "    não sim class.error\n",
       "não  26   7   0.2121212\n",
       "sim   8  11   0.4210526"
      ]
     },
     "metadata": {},
     "output_type": "display_data"
    },
    {
     "data": {
      "text/plain": [
       "rf variable importance\n",
       "\n",
       "                                                    Overall\n",
       "DT_Sec                                              100.000\n",
       "Berg                                                 85.904\n",
       "Fluencia_verbal                                      38.469\n",
       "Anticoagulante_classifsim                            27.459\n",
       "medicaçao_tipo_cardiovascularBeta + Anti_Coag + Diu  23.242\n",
       "Diuretico_classifsim                                 11.159\n",
       "medicaçao_tipo_cardiovascularBeta + Anti_Coag         9.324\n",
       "medicaçao_tipo_cardiovascularBeta + Anti_HAS          6.980\n",
       "medicaçao_tipo_cardiovascularBeta                     0.000"
      ]
     },
     "metadata": {},
     "output_type": "display_data"
    },
    {
     "data": {
      "image/png": "[encoded data removed]",
      "text/plain": [
       "plot without title"
      ]
     },
     "metadata": {
      "image/png": {
       "height": 420,
       "width": 420
      }
     },
     "output_type": "display_data"
    },
    {
     "data": {
      "image/png": "[encoded data removed]",
      "text/plain": [
       "plot without title"
      ]
     },
     "metadata": {
      "image/png": {
       "height": 420,
       "width": 420
      }
     },
     "output_type": "display_data"
    }
   ],
   "source": [
    "BD_RF_rfe<- BD[,c(\"Caidor\",\"Berg\",\n",
    "                               \"medicaçao_tipo_cardiovascular\",\"DT_Sec\",\"Diuretico_classif\",\"Anticoagulante_classif\",\"Fluencia_verbal\")]\n",
    "head(BD_RF_rfe)\n",
    "set.seed(4)\n",
    "RFmodel=train(Caidor~.,data=BD_RF_rfe,method='rf',metric=ifelse(is.factor(BD_RF_rfe$Caidor),\"Kappa\",\"RMSE\"),trControl=trainControl(method='cv',number=5,savePredictions=TRUE))\n",
    "RFmodel #Acurácia= 81.42% e kappa= 59.33%\n",
    "plot(RFmodel)\n",
    "RFmodel$finalModel #Acurácia= 81.58% \n",
    "varImp(RFmodel)\n",
    "plot(varImp(RFmodel),main=\"Variables Importance - Random Forest\")"
   ]
  },
  {
   "cell_type": "markdown",
   "metadata": {},
   "source": [
    "# RL com as variáveis resultantes do RFE-RF"
   ]
  },
  {
   "cell_type": "code",
   "execution_count": 14,
   "metadata": {},
   "outputs": [
    {
     "data": {
      "text/plain": [
       "\n",
       "Call:\n",
       "glm(formula = BD_RF_rfe$Caidor ~ ., family = \"binomial\", data = BD_RF_rfe)\n",
       "\n",
       "Deviance Residuals: \n",
       "     Min        1Q    Median        3Q       Max  \n",
       "-2.00637  -0.36307  -0.06704   0.27439   1.94415  \n",
       "\n",
       "Coefficients:\n",
       "                                                      Estimate Std. Error\n",
       "(Intercept)                                          -12.67910 2184.60860\n",
       "Berg                                                  -0.47575    0.30622\n",
       "medicaçao_tipo_cardiovascularBeta                     16.50748 2184.60557\n",
       "medicaçao_tipo_cardiovascularBeta + Anti_Coag         17.95017 2184.60563\n",
       "medicaçao_tipo_cardiovascularBeta + Anti_Coag + Diu   15.81050 2184.60582\n",
       "medicaçao_tipo_cardiovascularBeta + Anti_HAS          12.70550 2184.60791\n",
       "DT_Sec                                                 0.06159    0.06080\n",
       "Diuretico_classifsim                                   2.28974    1.64243\n",
       "Anticoagulante_classifsim                              1.36817    1.00891\n",
       "Fluencia_verbal                                       -0.12984    0.12450\n",
       "                                                    z value Pr(>|z|)\n",
       "(Intercept)                                          -0.006    0.995\n",
       "Berg                                                 -1.554    0.120\n",
       "medicaçao_tipo_cardiovascularBeta                     0.008    0.994\n",
       "medicaçao_tipo_cardiovascularBeta + Anti_Coag         0.008    0.993\n",
       "medicaçao_tipo_cardiovascularBeta + Anti_Coag + Diu   0.007    0.994\n",
       "medicaçao_tipo_cardiovascularBeta + Anti_HAS          0.006    0.995\n",
       "DT_Sec                                                1.013    0.311\n",
       "Diuretico_classifsim                                  1.394    0.163\n",
       "Anticoagulante_classifsim                             1.356    0.175\n",
       "Fluencia_verbal                                      -1.043    0.297\n",
       "\n",
       "(Dispersion parameter for binomial family taken to be 1)\n",
       "\n",
       "    Null deviance: 68.271  on 51  degrees of freedom\n",
       "Residual deviance: 29.200  on 42  degrees of freedom\n",
       "AIC: 49.2\n",
       "\n",
       "Number of Fisher Scoring iterations: 16\n"
      ]
     },
     "metadata": {},
     "output_type": "display_data"
    }
   ],
   "source": [
    "set.seed(21)\n",
    "RL_model2<- glm(BD_RF_rfe$Caidor~.,data=BD_RF_rfe, family = 'binomial')\n",
    "summary(RL_model2)"
   ]
  },
  {
   "cell_type": "markdown",
   "metadata": {},
   "source": [
    "# RFE-DT"
   ]
  },
  {
   "cell_type": "code",
   "execution_count": 11,
   "metadata": {},
   "outputs": [
    {
     "name": "stdout",
     "output_type": "stream",
     "text": [
      "\n",
      "Recursive feature selection\n",
      "\n",
      "Outer resampling method: Cross-Validated (5 fold) \n",
      "\n",
      "Resampling performance over subset size:\n",
      "\n",
      " Variables Accuracy   Kappa AccuracySD KappaSD Selected\n",
      "         2   0.6547 0.23469    0.14371  0.3280         \n",
      "         3   0.6992 0.34897    0.13967  0.3253         \n",
      "         4   0.7315 0.38977    0.10208  0.2474        *\n",
      "         5   0.6388 0.17954    0.10511  0.2491         \n",
      "         6   0.6406 0.19382    0.19021  0.4461         \n",
      "         7   0.6188 0.16225    0.09550  0.2099         \n",
      "         8   0.6347 0.16840    0.10193  0.2332         \n",
      "         9   0.6347 0.16947    0.12051  0.2735         \n",
      "        10   0.6166 0.13910    0.10940  0.2352         \n",
      "        11   0.6347 0.16947    0.12051  0.2735         \n",
      "        12   0.6570 0.22994    0.09197  0.2177         \n",
      "        13   0.6147 0.13166    0.06424  0.1542         \n",
      "        14   0.6388 0.15463    0.12321  0.3177         \n",
      "        15   0.6388 0.17954    0.10511  0.2491         \n",
      "        16   0.6347 0.14954    0.10193  0.2323         \n",
      "        17   0.6893 0.28403    0.09464  0.2199         \n",
      "        18   0.6610 0.23228    0.12275  0.3048         \n",
      "        19   0.6752 0.26255    0.09579  0.2268         \n",
      "        20   0.6388 0.17954    0.10511  0.2491         \n",
      "        21   0.6307 0.18804    0.12595  0.2503         \n",
      "        22   0.6529 0.18109    0.08935  0.2102         \n",
      "        23   0.5824 0.04457    0.13515  0.3111         \n",
      "        24   0.6570 0.23101    0.11221  0.2601         \n",
      "        25   0.6933 0.30851    0.11488  0.2742         \n",
      "        26   0.6428 0.17583    0.14823  0.3833         \n",
      "        27   0.6752 0.26255    0.09579  0.2268         \n",
      "        28   0.6752 0.26149    0.07102  0.1768         \n",
      "        29   0.6347 0.18551    0.13658  0.3025         \n",
      "        30   0.6570 0.22994    0.09197  0.2177         \n",
      "        31   0.6588 0.25027    0.17139  0.3774         \n",
      "        32   0.6529 0.22401    0.11007  0.2761         \n",
      "        33   0.6752 0.27522    0.09579  0.2364         \n",
      "        34   0.6711 0.27999    0.09425  0.1794         \n",
      "        35   0.6792 0.26383    0.10708  0.2767         \n",
      "        36   0.6329 0.14907    0.08223  0.1794         \n",
      "        37   0.6206 0.17247    0.13017  0.2713         \n",
      "        38   0.6792 0.28375    0.12490  0.3028         \n",
      "        39   0.6347 0.19199    0.13658  0.3257         \n",
      "\n",
      "The top 4 variables (out of 4):\n",
      "   medicaçao_tipo_cardiovascular, Berg, Trilhas_b, Vo2_maximo_avaliado\n",
      "\n"
     ]
    },
    {
     "data": {
      "text/html": [
       "<style>\n",
       ".list-inline {list-style: none; margin:0; padding: 0}\n",
       ".list-inline>li {display: inline-block}\n",
       ".list-inline>li:not(:last-child)::after {content: \"\\00b7\"; padding: 0 .5ex}\n",
       "</style>\n",
       "<ol class=list-inline><li>'medicaçao_tipo_cardiovascular'</li><li>'Berg'</li><li>'Trilhas_b'</li><li>'Vo2_maximo_avaliado'</li></ol>\n"
      ],
      "text/latex": [
       "\\begin{enumerate*}\n",
       "\\item 'medicaçao\\_tipo\\_cardiovascular'\n",
       "\\item 'Berg'\n",
       "\\item 'Trilhas\\_b'\n",
       "\\item 'Vo2\\_maximo\\_avaliado'\n",
       "\\end{enumerate*}\n"
      ],
      "text/markdown": [
       "1. 'medicaçao_tipo_cardiovascular'\n",
       "2. 'Berg'\n",
       "3. 'Trilhas_b'\n",
       "4. 'Vo2_maximo_avaliado'\n",
       "\n",
       "\n"
      ],
      "text/plain": [
       "[1] \"medicaçao_tipo_cardiovascular\" \"Berg\"                         \n",
       "[3] \"Trilhas_b\"                     \"Vo2_maximo_avaliado\"          "
      ]
     },
     "metadata": {},
     "output_type": "display_data"
    },
    {
     "data": {
      "image/png": "[encoded data removed]",
      "text/plain": [
       "plot without title"
      ]
     },
     "metadata": {
      "image/png": {
       "height": 420,
       "width": 420
      }
     },
     "output_type": "display_data"
    }
   ],
   "source": [
    "#The control was defined using a treebag selection function\n",
    "set.seed(11)\n",
    "control <- rfeControl(functions=treebagFuncs, method=\"cv\", number=5)\n",
    "set.seed(22)\n",
    "results2 <- rfe(BD[,2:40], BD[[1]], sizes=c(2:40),\n",
    "                rfeControl=control,metric=ifelse(is.factor(BD$Caidor),\"Kappa\",\"RMSE\"))\n",
    "print(results2) \n",
    "#list the chosen features\n",
    "predictors(results2) \n",
    "#plot the results\n",
    "plot(results2, type=c(\"g\", \"o\"),main=\"RFE using Decision Tree\")"
   ]
  },
  {
   "cell_type": "markdown",
   "metadata": {},
   "source": [
    "## DT a partir do RFE-DT"
   ]
  },
  {
   "cell_type": "code",
   "execution_count": 12,
   "metadata": {},
   "outputs": [
    {
     "data": {
      "text/html": [
       "<table class=\"dataframe\">\n",
       "<caption>A tibble: 6 × 5</caption>\n",
       "<thead>\n",
       "\t<tr><th scope=col>Caidor</th><th scope=col>medicaçao_tipo_cardiovascular</th><th scope=col>Berg</th><th scope=col>Trilhas_b</th><th scope=col>Vo2_maximo_avaliado</th></tr>\n",
       "\t<tr><th scope=col>&lt;fct&gt;</th><th scope=col>&lt;fct&gt;</th><th scope=col>&lt;dbl&gt;</th><th scope=col>&lt;dbl&gt;</th><th scope=col>&lt;dbl&gt;</th></tr>\n",
       "</thead>\n",
       "<tbody>\n",
       "\t<tr><td>sim</td><td>Beta + Anti_Coag      </td><td>11</td><td>11</td><td>20</td></tr>\n",
       "\t<tr><td>não</td><td>Beta + Anti_Coag      </td><td>11</td><td>43</td><td> 3</td></tr>\n",
       "\t<tr><td>sim</td><td>Beta + Anti_Coag + Diu</td><td> 9</td><td>29</td><td> 5</td></tr>\n",
       "\t<tr><td>sim</td><td>Beta                  </td><td>11</td><td>30</td><td>25</td></tr>\n",
       "\t<tr><td>não</td><td>Beta                  </td><td>12</td><td>34</td><td> 7</td></tr>\n",
       "\t<tr><td>não</td><td>Beta                  </td><td>12</td><td>27</td><td>26</td></tr>\n",
       "</tbody>\n",
       "</table>\n"
      ],
      "text/latex": [
       "A tibble: 6 × 5\n",
       "\\begin{tabular}{lllll}\n",
       " Caidor & medicaçao\\_tipo\\_cardiovascular & Berg & Trilhas\\_b & Vo2\\_maximo\\_avaliado\\\\\n",
       " <fct> & <fct> & <dbl> & <dbl> & <dbl>\\\\\n",
       "\\hline\n",
       "\t sim & Beta + Anti\\_Coag       & 11 & 11 & 20\\\\\n",
       "\t não & Beta + Anti\\_Coag       & 11 & 43 &  3\\\\\n",
       "\t sim & Beta + Anti\\_Coag + Diu &  9 & 29 &  5\\\\\n",
       "\t sim & Beta                   & 11 & 30 & 25\\\\\n",
       "\t não & Beta                   & 12 & 34 &  7\\\\\n",
       "\t não & Beta                   & 12 & 27 & 26\\\\\n",
       "\\end{tabular}\n"
      ],
      "text/markdown": [
       "\n",
       "A tibble: 6 × 5\n",
       "\n",
       "| Caidor &lt;fct&gt; | medicaçao_tipo_cardiovascular &lt;fct&gt; | Berg &lt;dbl&gt; | Trilhas_b &lt;dbl&gt; | Vo2_maximo_avaliado &lt;dbl&gt; |\n",
       "|---|---|---|---|---|\n",
       "| sim | Beta + Anti_Coag       | 11 | 11 | 20 |\n",
       "| não | Beta + Anti_Coag       | 11 | 43 |  3 |\n",
       "| sim | Beta + Anti_Coag + Diu |  9 | 29 |  5 |\n",
       "| sim | Beta                   | 11 | 30 | 25 |\n",
       "| não | Beta                   | 12 | 34 |  7 |\n",
       "| não | Beta                   | 12 | 27 | 26 |\n",
       "\n"
      ],
      "text/plain": [
       "  Caidor medicaçao_tipo_cardiovascular Berg Trilhas_b Vo2_maximo_avaliado\n",
       "1 sim    Beta + Anti_Coag              11   11        20                 \n",
       "2 não    Beta + Anti_Coag              11   43         3                 \n",
       "3 sim    Beta + Anti_Coag + Diu         9   29         5                 \n",
       "4 sim    Beta                          11   30        25                 \n",
       "5 não    Beta                          12   34         7                 \n",
       "6 não    Beta                          12   27        26                 "
      ]
     },
     "metadata": {},
     "output_type": "display_data"
    },
    {
     "data": {
      "text/plain": [
       "CART \n",
       "\n",
       "52 samples\n",
       " 4 predictor\n",
       " 2 classes: 'não', 'sim' \n",
       "\n",
       "No pre-processing\n",
       "Resampling: Cross-Validated (5 fold) \n",
       "Summary of sample sizes: 42, 41, 41, 42, 42 \n",
       "Resampling results across tuning parameters:\n",
       "\n",
       "  cp         Accuracy   Kappa    \n",
       "  0.0000000  0.6927273  0.2991602\n",
       "  0.2105263  0.6763636  0.2819654\n",
       "  0.4210526  0.6363636  0.1300174\n",
       "\n",
       "Kappa was used to select the optimal model using the largest value.\n",
       "The final value used for the model was cp = 0."
      ]
     },
     "metadata": {},
     "output_type": "display_data"
    },
    {
     "name": "stderr",
     "output_type": "stream",
     "text": [
      "Loading required package: rpart.plot\n",
      "\n",
      "Loading required package: rpart\n",
      "\n"
     ]
    },
    {
     "data": {
      "image/png": "[encoded data removed]",
      "text/plain": [
       "plot without title"
      ]
     },
     "metadata": {
      "image/png": {
       "height": 420,
       "width": 420
      }
     },
     "output_type": "display_data"
    }
   ],
   "source": [
    "BD_DT_rfe<- BD[,c(\"Caidor\",\"medicaçao_tipo_cardiovascular\",\"Berg\",\"Trilhas_b\",\n",
    "                                \"Vo2_maximo_avaliado\")]\n",
    "head(BD_DT_rfe)\n",
    "set.seed(44)\n",
    "Tree_model=train(Caidor~.,data=BD_DT_rfe,method='rpart',metric=ifelse(is.factor(BD_DT_rfe$Caidor),\"Kappa\",\"RMSE\"),trControl=trainControl(method='cv',number=5,savePredictions=TRUE))\n",
    "Tree_model #Acurácia= 72.5% e kappa = 47.17% e cp=0\n",
    "#install.packages(\"rpart.plot\")\n",
    "require(rpart.plot)\n",
    "rpart.plot(Tree_model$finalModel,type=0,extra=101,box.palette = \"GnBu\",\n",
    "           branch.lty=3,shadow.col = \"gray\",nn=T,cex=1)"
   ]
  },
  {
   "cell_type": "code",
   "execution_count": 13,
   "metadata": {},
   "outputs": [
    {
     "data": {
      "image/png": "[encoded data removed]",
      "text/plain": [
       "plot without title"
      ]
     },
     "metadata": {
      "image/png": {
       "height": 420,
       "width": 420
      }
     },
     "output_type": "display_data"
    }
   ],
   "source": [
    "plot(varImp(Tree_model),main=\"Variables Importance - Decision Tree\")"
   ]
  }
 ],
 "metadata": {
  "kernelspec": {
   "display_name": "R",
   "language": "R",
   "name": "ir"
  },
  "language_info": {
   "codemirror_mode": "r",
   "file_extension": ".r",
   "mimetype": "text/x-r-source",
   "name": "R",
   "pygments_lexer": "r",
   "version": "3.6.0"
  },
  "orig_nbformat": 4
 },
 "nbformat": 4,
 "nbformat_minor": 2
}
